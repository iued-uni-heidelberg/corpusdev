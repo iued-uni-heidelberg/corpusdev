{
  "nbformat": 4,
  "nbformat_minor": 0,
  "metadata": {
    "colab": {
      "provenance": [],
      "authorship_tag": "ABX9TyNLsAjEVEhIiRAb7lPjsPb5",
      "include_colab_link": true
    },
    "kernelspec": {
      "name": "python3",
      "display_name": "Python 3"
    },
    "language_info": {
      "name": "python"
    }
  },
  "cells": [
    {
      "cell_type": "markdown",
      "metadata": {
        "id": "view-in-github",
        "colab_type": "text"
      },
      "source": [
        "<a href=\"https://colab.research.google.com/github/iued-uni-heidelberg/corpusdev/blob/main/Untitled8.ipynb\" target=\"_parent\"><img src=\"https://colab.research.google.com/assets/colab-badge.svg\" alt=\"Open In Colab\"/></a>"
      ]
    },
    {
      "cell_type": "code",
      "execution_count": 11,
      "metadata": {
        "id": "i2sC_hLhUdB3"
      },
      "outputs": [],
      "source": [
        "class Being(object):\n",
        "    exists = True\n",
        "\n",
        "class Animal(Being):\n",
        "    mortal = True\n",
        "\n",
        "class Human(Animal):\n",
        "    limbs = 4\n",
        "    bipedal = True\n",
        "\n",
        "def is_it(being, prop):\n",
        "    if hasattr(being, prop):\n",
        "        return getattr(being, prop)\n",
        "    else:\n",
        "        print(f'The property {prop} is not defined for this being.')\n",
        "        return None\n",
        "\n",
        "class Deity(Being):\n",
        "    mortal = False\n",
        "\n",
        "\n",
        "\n"
      ]
    },
    {
      "cell_type": "code",
      "source": [
        "socrates = Human()"
      ],
      "metadata": {
        "id": "J14hIdq4X0sz"
      },
      "execution_count": 12,
      "outputs": []
    },
    {
      "cell_type": "code",
      "source": [
        "is_it(socrates, \"exists\")"
      ],
      "metadata": {
        "id": "C82Dco8zX2S7",
        "outputId": "b1af4e73-ef28-40a0-b72c-511bbce8efeb",
        "colab": {
          "base_uri": "https://localhost:8080/"
        }
      },
      "execution_count": 13,
      "outputs": [
        {
          "output_type": "execute_result",
          "data": {
            "text/plain": [
              "True"
            ]
          },
          "metadata": {},
          "execution_count": 13
        }
      ]
    },
    {
      "cell_type": "code",
      "source": [
        "is_it(socrates, \"mortal\")\n"
      ],
      "metadata": {
        "id": "6ofUGHGQXU3Z",
        "outputId": "46210331-ac2a-486f-b099-53674b745b24",
        "colab": {
          "base_uri": "https://localhost:8080/"
        }
      },
      "execution_count": 14,
      "outputs": [
        {
          "output_type": "execute_result",
          "data": {
            "text/plain": [
              "True"
            ]
          },
          "metadata": {},
          "execution_count": 14
        }
      ]
    },
    {
      "cell_type": "code",
      "source": [
        "zeus = Deity()"
      ],
      "metadata": {
        "id": "8IFMIdHEX__Y"
      },
      "execution_count": 15,
      "outputs": []
    },
    {
      "cell_type": "code",
      "source": [
        "is_it(zeus, \"exists\")"
      ],
      "metadata": {
        "id": "mqHgtTHrYCXz",
        "outputId": "0cf819f9-3518-4795-f303-66ddd3201c51",
        "colab": {
          "base_uri": "https://localhost:8080/"
        }
      },
      "execution_count": 16,
      "outputs": [
        {
          "output_type": "execute_result",
          "data": {
            "text/plain": [
              "True"
            ]
          },
          "metadata": {},
          "execution_count": 16
        }
      ]
    },
    {
      "cell_type": "code",
      "source": [
        "\n",
        "is_it(zeus, \"mortal\")"
      ],
      "metadata": {
        "colab": {
          "base_uri": "https://localhost:8080/"
        },
        "id": "ek2GPrTxVJCP",
        "outputId": "d88408b6-41cb-42ab-a027-37d6df41debe"
      },
      "execution_count": 17,
      "outputs": [
        {
          "output_type": "execute_result",
          "data": {
            "text/plain": [
              "False"
            ]
          },
          "metadata": {},
          "execution_count": 17
        }
      ]
    }
  ]
}