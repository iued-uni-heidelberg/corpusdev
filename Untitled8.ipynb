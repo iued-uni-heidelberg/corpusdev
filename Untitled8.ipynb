{
  "nbformat": 4,
  "nbformat_minor": 0,
  "metadata": {
    "colab": {
      "provenance": [],
      "authorship_tag": "ABX9TyMtq8FpdUG2yvY9hBe4PbMJ",
      "include_colab_link": true
    },
    "kernelspec": {
      "name": "python3",
      "display_name": "Python 3"
    },
    "language_info": {
      "name": "python"
    }
  },
  "cells": [
    {
      "cell_type": "markdown",
      "metadata": {
        "id": "view-in-github",
        "colab_type": "text"
      },
      "source": [
        "<a href=\"https://colab.research.google.com/github/iued-uni-heidelberg/corpusdev/blob/main/Untitled8.ipynb\" target=\"_parent\"><img src=\"https://colab.research.google.com/assets/colab-badge.svg\" alt=\"Open In Colab\"/></a>"
      ]
    },
    {
      "cell_type": "code",
      "execution_count": 3,
      "metadata": {
        "colab": {
          "base_uri": "https://localhost:8080/"
        },
        "id": "i2sC_hLhUdB3",
        "outputId": "9564af6b-0e09-4cf0-d5e3-9f6ce1b06500"
      },
      "outputs": [
        {
          "output_type": "execute_result",
          "data": {
            "text/plain": [
              "True"
            ]
          },
          "metadata": {},
          "execution_count": 3
        }
      ],
      "source": [
        "class Animal(object):\n",
        "    mortal = True\n",
        "\n",
        "class Human(Animal):\n",
        "    limbs = 4\n",
        "    bipedal = True\n",
        "\n",
        "def is_it(being, prop):\n",
        "    if hasattr(being, prop):\n",
        "        return getattr(being, prop)\n",
        "    else:\n",
        "        print(f'The property {prop} is not defined for this being.')\n",
        "        return None\n",
        "\n",
        "class Deity(object):\n",
        "    mortal = False\n",
        "\n",
        "\n",
        "\n",
        "\n",
        "socrates = Human()\n",
        "\n",
        "is_it(socrates, \"mortal\")\n"
      ]
    },
    {
      "cell_type": "code",
      "source": [
        "zeus = Deity()\n",
        "is_it(zeus, \"mortal\")"
      ],
      "metadata": {
        "colab": {
          "base_uri": "https://localhost:8080/"
        },
        "id": "ek2GPrTxVJCP",
        "outputId": "316ed6f3-8016-42f2-c6ab-a539a13f5706"
      },
      "execution_count": 4,
      "outputs": [
        {
          "output_type": "execute_result",
          "data": {
            "text/plain": [
              "False"
            ]
          },
          "metadata": {},
          "execution_count": 4
        }
      ]
    }
  ]
}