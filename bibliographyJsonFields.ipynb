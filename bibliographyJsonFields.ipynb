{
  "nbformat": 4,
  "nbformat_minor": 0,
  "metadata": {
    "colab": {
      "provenance": [],
      "authorship_tag": "ABX9TyNmBPMD7N3zg/qXzXWFzcaY",
      "include_colab_link": true
    },
    "kernelspec": {
      "name": "python3",
      "display_name": "Python 3"
    },
    "language_info": {
      "name": "python"
    }
  },
  "cells": [
    {
      "cell_type": "markdown",
      "metadata": {
        "id": "view-in-github",
        "colab_type": "text"
      },
      "source": [
        "<a href=\"https://colab.research.google.com/github/iued-uni-heidelberg/corpusdev/blob/main/bibliographyJsonFields.ipynb\" target=\"_parent\"><img src=\"https://colab.research.google.com/assets/colab-badge.svg\" alt=\"Open In Colab\"/></a>"
      ]
    },
    {
      "cell_type": "code",
      "execution_count": 1,
      "metadata": {
        "colab": {
          "base_uri": "https://localhost:8080/"
        },
        "id": "ewhiMapgv1Q-",
        "outputId": "7a68f0fb-ac36-4f62-da0e-6163dc420588"
      },
      "outputs": [
        {
          "output_type": "stream",
          "name": "stdout",
          "text": [
            "--2024-05-16 09:28:55--  https://heibox.uni-heidelberg.de/f/8e188cd2eb6145729a83/?dl=1\n",
            "Resolving heibox.uni-heidelberg.de (heibox.uni-heidelberg.de)... 129.206.7.113\n",
            "Connecting to heibox.uni-heidelberg.de (heibox.uni-heidelberg.de)|129.206.7.113|:443... connected.\n",
            "HTTP request sent, awaiting response... 302 Found\n",
            "Location: https://heibox.uni-heidelberg.de/seafhttp/files/8312c6fe-648e-4a5b-8608-23f9b73a4bcb/vd18extracted-eng-all.zip [following]\n",
            "--2024-05-16 09:28:56--  https://heibox.uni-heidelberg.de/seafhttp/files/8312c6fe-648e-4a5b-8608-23f9b73a4bcb/vd18extracted-eng-all.zip\n",
            "Reusing existing connection to heibox.uni-heidelberg.de:443.\n",
            "HTTP request sent, awaiting response... 200 OK\n",
            "Length: 754567 (737K) [application/zip]\n",
            "Saving to: ‘index.html?dl=1’\n",
            "\n",
            "index.html?dl=1     100%[===================>] 736.88K  1.49MB/s    in 0.5s    \n",
            "\n",
            "2024-05-16 09:28:57 (1.49 MB/s) - ‘index.html?dl=1’ saved [754567/754567]\n",
            "\n"
          ]
        }
      ],
      "source": [
        "!wget https://heibox.uni-heidelberg.de/f/8e188cd2eb6145729a83/?dl=1"
      ]
    },
    {
      "cell_type": "code",
      "source": [
        "!mv index.html?dl=1 vd18extracted-eng-all.zip"
      ],
      "metadata": {
        "id": "CXWz9kCiwEgE"
      },
      "execution_count": 2,
      "outputs": []
    },
    {
      "cell_type": "code",
      "source": [
        "!unzip vd18extracted-eng-all.zip"
      ],
      "metadata": {
        "colab": {
          "base_uri": "https://localhost:8080/"
        },
        "id": "tDdMv4VuwQKs",
        "outputId": "fdff5fd4-8bc8-4c00-c416-277ac6d51886"
      },
      "execution_count": 3,
      "outputs": [
        {
          "output_type": "stream",
          "name": "stdout",
          "text": [
            "Archive:  vd18extracted-eng-all.zip\n",
            "  inflating: vd18extracted-eng-all.json  \n"
          ]
        }
      ]
    },
    {
      "cell_type": "code",
      "source": [
        "import json\n",
        "\n",
        "with open('vd18extracted-eng-all.json') as f:\n",
        "    data = json.load(f)\n",
        "    # print(d)\n",
        "\n",
        "# data = json.load(json_data)"
      ],
      "metadata": {
        "id": "G7DmvZ7e8yhE"
      },
      "execution_count": 4,
      "outputs": []
    },
    {
      "cell_type": "code",
      "source": [
        "# ppn_list = [entry['ppn'] for entry in data]"
      ],
      "metadata": {
        "id": "Pu9TVkRO9ZUS"
      },
      "execution_count": null,
      "outputs": []
    },
    {
      "cell_type": "code",
      "source": [
        "# print(ppn_list)"
      ],
      "metadata": {
        "id": "qD01F095-TLA"
      },
      "execution_count": null,
      "outputs": []
    },
    {
      "cell_type": "code",
      "source": [
        "for entry in data:\n",
        "    # print(str(entry) + '\\n')\n",
        "    ppnVal = entry['ppn']\n",
        "    entry['permalink'] = 'https://vd18.k10plus.de/DB=1.65/PPNSET?PPN=' + ppnVal"
      ],
      "metadata": {
        "id": "GX2hFQXZ-aco"
      },
      "execution_count": 5,
      "outputs": []
    },
    {
      "cell_type": "code",
      "source": [
        "print(len(data))"
      ],
      "metadata": {
        "id": "qeOnimV3vyAl",
        "outputId": "33ceca98-99ce-45a9-c4c8-57f1ec8ff400",
        "colab": {
          "base_uri": "https://localhost:8080/"
        }
      },
      "execution_count": 6,
      "outputs": [
        {
          "output_type": "stream",
          "name": "stdout",
          "text": [
            "3574\n"
          ]
        }
      ]
    },
    {
      "cell_type": "code",
      "source": [
        "FJsonOut = open('vd18extracted-eng-all-permalink-v03.json', 'w')"
      ],
      "metadata": {
        "id": "H6UjIFJLAdeV"
      },
      "execution_count": 7,
      "outputs": []
    },
    {
      "cell_type": "code",
      "source": [
        "json.dump(data, FJsonOut, indent = 4, ensure_ascii=False)"
      ],
      "metadata": {
        "id": "ybIsNArK_XyV"
      },
      "execution_count": 8,
      "outputs": []
    },
    {
      "cell_type": "code",
      "source": [
        "FJsonOut.flush()"
      ],
      "metadata": {
        "id": "oBRLl2jTw4fG"
      },
      "execution_count": 12,
      "outputs": []
    },
    {
      "cell_type": "code",
      "source": [
        "FJsonOut.close()"
      ],
      "metadata": {
        "id": "nc_BkkmHw-vY"
      },
      "execution_count": 13,
      "outputs": []
    },
    {
      "cell_type": "code",
      "source": [
        "!zip vd18extracted-eng-all-permalink-v03.json.zip vd18extracted-eng-all-permalink-v03.json"
      ],
      "metadata": {
        "colab": {
          "base_uri": "https://localhost:8080/"
        },
        "id": "_Msu2bdlBllQ",
        "outputId": "99ee84cc-4cd9-4f4b-a9b1-dce3b14192d4"
      },
      "execution_count": 9,
      "outputs": [
        {
          "output_type": "stream",
          "name": "stdout",
          "text": [
            "  adding: vd18extracted-eng-all-permalink-v03.json (deflated 86%)\n"
          ]
        }
      ]
    },
    {
      "cell_type": "code",
      "source": [
        "!head -n 50 vd18extracted-eng-all-permalink-v03.json"
      ],
      "metadata": {
        "colab": {
          "base_uri": "https://localhost:8080/"
        },
        "id": "W4HwBpRwAto5",
        "outputId": "ce3193d6-3fc0-453f-f2a2-4ae12b14cdd5"
      },
      "execution_count": 11,
      "outputs": [
        {
          "output_type": "stream",
          "name": "stdout",
          "text": [
            "[\n",
            "    {\n",
            "        \"ppn\": \"024400963\",\n",
            "        \"vdn\": \"VD18 14197456\",\n",
            "        \"recType\": \"Aav\",\n",
            "        \"catRule\": \"rak\",\n",
            "        \"date\": \"1797\",\n",
            "        \"lang\": \"ger\",\n",
            "        \"title\": \"Guide To Health oder Anleitung seine Gesundheit zu erhalten, sein Leben zu verlängern, und in Krankheiten sein eigener Arzt zu seyn\",\n",
            "        \"resp\": \"Von Joseph Townsend. Von einem praktischen Arzt aus dem Englischen übersezt\",\n",
            "        \"format\": \"8°\",\n",
            "        \"pages\": \"XII, 398 S., [1] Bl.\",\n",
            "        \"normPages\": \"400\",\n",
            "        \"langOrig\": \"eng\",\n",
            "        \"gat\": \"Bücheranzeige;Medizin\",\n",
            "        \"persons\": [\n",
            "            {\n",
            "                \"persName\": \"Townsend, Joseph\",\n",
            "                \"role\": \"creator\",\n",
            "                \"gnd\": \"101974863X\",\n",
            "                \"dateBirth\": \"1739\",\n",
            "                \"dateDeath\": \"1816\"\n",
            "            }\n",
            "        ],\n",
            "        \"publishers\": [\n",
            "            {\n",
            "                \"persName\": \"Baumgärtner, Adam Friedrich Gotthelf\",\n",
            "                \"role\": \"publisher\",\n",
            "                \"gnd\": \"132424983\",\n",
            "                \"dateBirth\": \"1759\",\n",
            "                \"dateDeath\": \"1843\"\n",
            "            }\n",
            "        ],\n",
            "        \"places\": [\n",
            "            {\n",
            "                \"placeName\": \"Leipzig\",\n",
            "                \"relation\": \"Erscheinungsort\"\n",
            "            }\n",
            "        ],\n",
            "        \"permalink\": \"https://vd18.k10plus.de/DB=1.65/PPNSET?PPN=024400963\"\n",
            "    },\n",
            "    {\n",
            "        \"ppn\": \"023940573\",\n",
            "        \"vdn\": \"VD18 90323556\",\n",
            "        \"recType\": \"Afv\",\n",
            "        \"catRule\": \"rak\",\n",
            "        \"date\": \"1797\",\n",
            "        \"lang\": \"ger\",\n",
            "        \"title\": \"Gemählde nach dem Leben, oder Begebenheiten Caleb Williams\",\n",
            "        \"resp\": \"\",\n"
          ]
        }
      ]
    }
  ]
}