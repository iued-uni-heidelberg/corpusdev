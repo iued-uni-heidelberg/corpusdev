{
  "nbformat": 4,
  "nbformat_minor": 0,
  "metadata": {
    "colab": {
      "provenance": [],
      "authorship_tag": "ABX9TyPY8f/tCJ1bUUM7i6g7TUaL",
      "include_colab_link": true
    },
    "kernelspec": {
      "name": "python3",
      "display_name": "Python 3"
    },
    "language_info": {
      "name": "python"
    }
  },
  "cells": [
    {
      "cell_type": "markdown",
      "metadata": {
        "id": "view-in-github",
        "colab_type": "text"
      },
      "source": [
        "<a href=\"https://colab.research.google.com/github/iued-uni-heidelberg/corpusdev/blob/main/bibliographyJsonFields.ipynb\" target=\"_parent\"><img src=\"https://colab.research.google.com/assets/colab-badge.svg\" alt=\"Open In Colab\"/></a>"
      ]
    },
    {
      "cell_type": "code",
      "execution_count": 1,
      "metadata": {
        "colab": {
          "base_uri": "https://localhost:8080/"
        },
        "id": "ewhiMapgv1Q-",
        "outputId": "d81afaeb-6304-4aa0-ed0a-55b1ad256fa8"
      },
      "outputs": [
        {
          "output_type": "stream",
          "name": "stdout",
          "text": [
            "--2024-05-15 14:55:42--  https://heibox.uni-heidelberg.de/f/8e188cd2eb6145729a83/?dl=1\n",
            "Resolving heibox.uni-heidelberg.de (heibox.uni-heidelberg.de)... 129.206.7.113\n",
            "Connecting to heibox.uni-heidelberg.de (heibox.uni-heidelberg.de)|129.206.7.113|:443... connected.\n",
            "HTTP request sent, awaiting response... 302 Found\n",
            "Location: https://heibox.uni-heidelberg.de/seafhttp/files/66af34a9-3361-4394-adcb-6205134d1a0e/vd18extracted-eng-all.zip [following]\n",
            "--2024-05-15 14:55:43--  https://heibox.uni-heidelberg.de/seafhttp/files/66af34a9-3361-4394-adcb-6205134d1a0e/vd18extracted-eng-all.zip\n",
            "Reusing existing connection to heibox.uni-heidelberg.de:443.\n",
            "HTTP request sent, awaiting response... 200 OK\n",
            "Length: 754567 (737K) [application/zip]\n",
            "Saving to: ‘index.html?dl=1’\n",
            "\n",
            "index.html?dl=1     100%[===================>] 736.88K  1.32MB/s    in 0.5s    \n",
            "\n",
            "2024-05-15 14:55:44 (1.32 MB/s) - ‘index.html?dl=1’ saved [754567/754567]\n",
            "\n"
          ]
        }
      ],
      "source": [
        "!wget https://heibox.uni-heidelberg.de/f/8e188cd2eb6145729a83/?dl=1"
      ]
    },
    {
      "cell_type": "code",
      "source": [
        "!mv index.html?dl=1 vd18extracted-eng-all.zip"
      ],
      "metadata": {
        "id": "CXWz9kCiwEgE"
      },
      "execution_count": 2,
      "outputs": []
    },
    {
      "cell_type": "code",
      "source": [
        "!unzip vd18extracted-eng-all.zip"
      ],
      "metadata": {
        "colab": {
          "base_uri": "https://localhost:8080/"
        },
        "id": "tDdMv4VuwQKs",
        "outputId": "2d50a866-4d01-4511-b497-b55289c52776"
      },
      "execution_count": 3,
      "outputs": [
        {
          "output_type": "stream",
          "name": "stdout",
          "text": [
            "Archive:  vd18extracted-eng-all.zip\n",
            "  inflating: vd18extracted-eng-all.json  \n"
          ]
        }
      ]
    },
    {
      "cell_type": "code",
      "source": [
        "import json\n",
        "\n",
        "with open('vd18extracted-eng-all.json') as f:\n",
        "    data = json.load(f)\n",
        "    # print(d)\n",
        "\n",
        "# data = json.load(json_data)"
      ],
      "metadata": {
        "id": "G7DmvZ7e8yhE"
      },
      "execution_count": 5,
      "outputs": []
    },
    {
      "cell_type": "code",
      "source": [
        "ppn_list = [entry['ppn'] for entry in data]"
      ],
      "metadata": {
        "id": "Pu9TVkRO9ZUS"
      },
      "execution_count": 6,
      "outputs": []
    },
    {
      "cell_type": "code",
      "source": [
        "print(ppn_list)"
      ],
      "metadata": {
        "id": "qD01F095-TLA"
      },
      "execution_count": null,
      "outputs": []
    },
    {
      "cell_type": "code",
      "source": [
        "for entry in data:\n",
        "    # print(str(entry) + '\\n')\n",
        "    ppnVal = entry['ppn']\n",
        "    entry['permalink'] = 'https://vd18.k10plus.de/DB=1.65/PPNSET?PPN=' + ppnVal"
      ],
      "metadata": {
        "id": "GX2hFQXZ-aco"
      },
      "execution_count": 10,
      "outputs": []
    },
    {
      "cell_type": "code",
      "source": [
        "FJsonOut = open('vd18extracted-eng-all-permalink.json', 'w')"
      ],
      "metadata": {
        "id": "H6UjIFJLAdeV"
      },
      "execution_count": 12,
      "outputs": []
    },
    {
      "cell_type": "code",
      "source": [
        "json.dump(data, FJsonOut, indent = 4, ensure_ascii=False)"
      ],
      "metadata": {
        "id": "ybIsNArK_XyV"
      },
      "execution_count": 16,
      "outputs": []
    },
    {
      "cell_type": "code",
      "source": [
        "!zip vd18extracted-eng-all-permalink.json.zip vd18extracted-eng-all-permalink.json"
      ],
      "metadata": {
        "colab": {
          "base_uri": "https://localhost:8080/"
        },
        "id": "_Msu2bdlBllQ",
        "outputId": "001d9612-312f-4298-b5da-7857f9f163c4"
      },
      "execution_count": 17,
      "outputs": [
        {
          "output_type": "stream",
          "name": "stdout",
          "text": [
            "  adding: vd18extracted-eng-all-permalink.json (deflated 86%)\n"
          ]
        }
      ]
    },
    {
      "cell_type": "code",
      "source": [
        "!head -n 50 vd18extracted-eng-all-permalink.json"
      ],
      "metadata": {
        "colab": {
          "base_uri": "https://localhost:8080/"
        },
        "id": "W4HwBpRwAto5",
        "outputId": "25530108-eb3b-4f82-ce64-ae5b64ebcece"
      },
      "execution_count": 15,
      "outputs": [
        {
          "output_type": "stream",
          "name": "stdout",
          "text": [
            "[\n",
            "    {\n",
            "        \"ppn\": \"024400963\",\n",
            "        \"vdn\": \"VD18 14197456\",\n",
            "        \"recType\": \"Aav\",\n",
            "        \"catRule\": \"rak\",\n",
            "        \"date\": \"1797\",\n",
            "        \"lang\": \"ger\",\n",
            "        \"title\": \"Guide To Health oder Anleitung seine Gesundheit zu erhalten, sein Leben zu verl\\u00e4ngern, und in Krankheiten sein eigener Arzt zu seyn\",\n",
            "        \"resp\": \"Von Joseph Townsend. Von einem praktischen Arzt aus dem Englischen \\u00fcbersezt\",\n",
            "        \"format\": \"8\\u00b0\",\n",
            "        \"pages\": \"XII, 398 S., [1] Bl.\",\n",
            "        \"normPages\": \"400\",\n",
            "        \"langOrig\": \"eng\",\n",
            "        \"gat\": \"B\\u00fccheranzeige;Medizin\",\n",
            "        \"persons\": [\n",
            "            {\n",
            "                \"persName\": \"Townsend, Joseph\",\n",
            "                \"role\": \"creator\",\n",
            "                \"gnd\": \"101974863X\",\n",
            "                \"dateBirth\": \"1739\",\n",
            "                \"dateDeath\": \"1816\"\n",
            "            }\n",
            "        ],\n",
            "        \"publishers\": [\n",
            "            {\n",
            "                \"persName\": \"Baumg\\u00e4rtner, Adam Friedrich Gotthelf\",\n",
            "                \"role\": \"publisher\",\n",
            "                \"gnd\": \"132424983\",\n",
            "                \"dateBirth\": \"1759\",\n",
            "                \"dateDeath\": \"1843\"\n",
            "            }\n",
            "        ],\n",
            "        \"places\": [\n",
            "            {\n",
            "                \"placeName\": \"Leipzig\",\n",
            "                \"relation\": \"Erscheinungsort\"\n",
            "            }\n",
            "        ],\n",
            "        \"permalink\": \"https://vd18.k10plus.de/DB=1.65/PPNSET?PPN=024400963\"\n",
            "    },\n",
            "    {\n",
            "        \"ppn\": \"023940573\",\n",
            "        \"vdn\": \"VD18 90323556\",\n",
            "        \"recType\": \"Afv\",\n",
            "        \"catRule\": \"rak\",\n",
            "        \"date\": \"1797\",\n",
            "        \"lang\": \"ger\",\n",
            "        \"title\": \"Gem\\u00e4hlde nach dem Leben, oder Begebenheiten Caleb Williams\",\n",
            "        \"resp\": \"\",\n"
          ]
        }
      ]
    }
  ]
}