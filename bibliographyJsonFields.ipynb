{
  "nbformat": 4,
  "nbformat_minor": 0,
  "metadata": {
    "colab": {
      "provenance": [],
      "authorship_tag": "ABX9TyNmK/7UO0FkptDijPkz4GJe",
      "include_colab_link": true
    },
    "kernelspec": {
      "name": "python3",
      "display_name": "Python 3"
    },
    "language_info": {
      "name": "python"
    }
  },
  "cells": [
    {
      "cell_type": "markdown",
      "metadata": {
        "id": "view-in-github",
        "colab_type": "text"
      },
      "source": [
        "<a href=\"https://colab.research.google.com/github/iued-uni-heidelberg/corpusdev/blob/main/bibliographyJsonFields.ipynb\" target=\"_parent\"><img src=\"https://colab.research.google.com/assets/colab-badge.svg\" alt=\"Open In Colab\"/></a>"
      ]
    },
    {
      "cell_type": "code",
      "execution_count": 1,
      "metadata": {
        "colab": {
          "base_uri": "https://localhost:8080/"
        },
        "id": "ewhiMapgv1Q-",
        "outputId": "d81afaeb-6304-4aa0-ed0a-55b1ad256fa8"
      },
      "outputs": [
        {
          "output_type": "stream",
          "name": "stdout",
          "text": [
            "--2024-05-15 14:55:42--  https://heibox.uni-heidelberg.de/f/8e188cd2eb6145729a83/?dl=1\n",
            "Resolving heibox.uni-heidelberg.de (heibox.uni-heidelberg.de)... 129.206.7.113\n",
            "Connecting to heibox.uni-heidelberg.de (heibox.uni-heidelberg.de)|129.206.7.113|:443... connected.\n",
            "HTTP request sent, awaiting response... 302 Found\n",
            "Location: https://heibox.uni-heidelberg.de/seafhttp/files/66af34a9-3361-4394-adcb-6205134d1a0e/vd18extracted-eng-all.zip [following]\n",
            "--2024-05-15 14:55:43--  https://heibox.uni-heidelberg.de/seafhttp/files/66af34a9-3361-4394-adcb-6205134d1a0e/vd18extracted-eng-all.zip\n",
            "Reusing existing connection to heibox.uni-heidelberg.de:443.\n",
            "HTTP request sent, awaiting response... 200 OK\n",
            "Length: 754567 (737K) [application/zip]\n",
            "Saving to: ‘index.html?dl=1’\n",
            "\n",
            "index.html?dl=1     100%[===================>] 736.88K  1.32MB/s    in 0.5s    \n",
            "\n",
            "2024-05-15 14:55:44 (1.32 MB/s) - ‘index.html?dl=1’ saved [754567/754567]\n",
            "\n"
          ]
        }
      ],
      "source": [
        "!wget https://heibox.uni-heidelberg.de/f/8e188cd2eb6145729a83/?dl=1"
      ]
    },
    {
      "cell_type": "code",
      "source": [
        "!mv index.html?dl=1 vd18extracted-eng-all.zip"
      ],
      "metadata": {
        "id": "CXWz9kCiwEgE"
      },
      "execution_count": 2,
      "outputs": []
    },
    {
      "cell_type": "code",
      "source": [
        "!unzip vd18extracted-eng-all.zip"
      ],
      "metadata": {
        "colab": {
          "base_uri": "https://localhost:8080/"
        },
        "id": "tDdMv4VuwQKs",
        "outputId": "2d50a866-4d01-4511-b497-b55289c52776"
      },
      "execution_count": 3,
      "outputs": [
        {
          "output_type": "stream",
          "name": "stdout",
          "text": [
            "Archive:  vd18extracted-eng-all.zip\n",
            "  inflating: vd18extracted-eng-all.json  \n"
          ]
        }
      ]
    }
  ]
}