{
  "nbformat": 4,
  "nbformat_minor": 0,
  "metadata": {
    "colab": {
      "provenance": [],
      "authorship_tag": "ABX9TyNhszzg814GH3KaUubLMg7I",
      "include_colab_link": true
    },
    "kernelspec": {
      "name": "python3",
      "display_name": "Python 3"
    },
    "language_info": {
      "name": "python"
    }
  },
  "cells": [
    {
      "cell_type": "markdown",
      "metadata": {
        "id": "view-in-github",
        "colab_type": "text"
      },
      "source": [
        "<a href=\"https://colab.research.google.com/github/iued-uni-heidelberg/corpusdev/blob/main/bibliographyJsonFields.ipynb\" target=\"_parent\"><img src=\"https://colab.research.google.com/assets/colab-badge.svg\" alt=\"Open In Colab\"/></a>"
      ]
    },
    {
      "cell_type": "code",
      "execution_count": 1,
      "metadata": {
        "colab": {
          "base_uri": "https://localhost:8080/"
        },
        "id": "ewhiMapgv1Q-",
        "outputId": "fb1faf99-6c22-47fe-f8a8-62357bb6816b"
      },
      "outputs": [
        {
          "output_type": "stream",
          "name": "stdout",
          "text": [
            "--2024-05-16 09:38:39--  https://heibox.uni-heidelberg.de/f/8e188cd2eb6145729a83/?dl=1\n",
            "Resolving heibox.uni-heidelberg.de (heibox.uni-heidelberg.de)... 129.206.7.113\n",
            "Connecting to heibox.uni-heidelberg.de (heibox.uni-heidelberg.de)|129.206.7.113|:443... connected.\n",
            "HTTP request sent, awaiting response... 302 Found\n",
            "Location: https://heibox.uni-heidelberg.de/seafhttp/files/c78a18a7-c251-4b40-9e46-ccbe9b5434f9/vd18extracted-eng-all.zip [following]\n",
            "--2024-05-16 09:38:39--  https://heibox.uni-heidelberg.de/seafhttp/files/c78a18a7-c251-4b40-9e46-ccbe9b5434f9/vd18extracted-eng-all.zip\n",
            "Reusing existing connection to heibox.uni-heidelberg.de:443.\n",
            "HTTP request sent, awaiting response... 200 OK\n",
            "Length: 754567 (737K) [application/zip]\n",
            "Saving to: ‘index.html?dl=1’\n",
            "\n",
            "index.html?dl=1     100%[===================>] 736.88K  1.18MB/s    in 0.6s    \n",
            "\n",
            "2024-05-16 09:38:40 (1.18 MB/s) - ‘index.html?dl=1’ saved [754567/754567]\n",
            "\n"
          ]
        }
      ],
      "source": [
        "!wget https://heibox.uni-heidelberg.de/f/8e188cd2eb6145729a83/?dl=1"
      ]
    },
    {
      "cell_type": "code",
      "source": [
        "!mv index.html?dl=1 vd18extracted-eng-all.zip"
      ],
      "metadata": {
        "id": "CXWz9kCiwEgE"
      },
      "execution_count": 2,
      "outputs": []
    },
    {
      "cell_type": "code",
      "source": [
        "!unzip vd18extracted-eng-all.zip"
      ],
      "metadata": {
        "colab": {
          "base_uri": "https://localhost:8080/"
        },
        "id": "tDdMv4VuwQKs",
        "outputId": "a74fabcb-005b-4132-b701-d6a785aa803d"
      },
      "execution_count": 3,
      "outputs": [
        {
          "output_type": "stream",
          "name": "stdout",
          "text": [
            "Archive:  vd18extracted-eng-all.zip\n",
            "  inflating: vd18extracted-eng-all.json  \n"
          ]
        }
      ]
    },
    {
      "cell_type": "code",
      "source": [
        "import json\n",
        "\n",
        "with open('vd18extracted-eng-all.json') as f:\n",
        "    data = json.load(f)\n",
        "    # print(d)\n",
        "\n",
        "# data = json.load(json_data)"
      ],
      "metadata": {
        "id": "G7DmvZ7e8yhE"
      },
      "execution_count": 4,
      "outputs": []
    },
    {
      "cell_type": "code",
      "source": [
        "print(len(data))"
      ],
      "metadata": {
        "colab": {
          "base_uri": "https://localhost:8080/"
        },
        "id": "FOHqW4bGxPFi",
        "outputId": "674842f7-48a6-4807-956f-d79f7ea0a515"
      },
      "execution_count": 5,
      "outputs": [
        {
          "output_type": "stream",
          "name": "stdout",
          "text": [
            "3574\n"
          ]
        }
      ]
    },
    {
      "cell_type": "code",
      "source": [
        "# ppn_list = [entry['ppn'] for entry in data]"
      ],
      "metadata": {
        "id": "Pu9TVkRO9ZUS"
      },
      "execution_count": null,
      "outputs": []
    },
    {
      "cell_type": "code",
      "source": [
        "# print(ppn_list)"
      ],
      "metadata": {
        "id": "qD01F095-TLA"
      },
      "execution_count": null,
      "outputs": []
    },
    {
      "cell_type": "code",
      "source": [
        "for entry in data:\n",
        "    # print(str(entry) + '\\n')\n",
        "    ppnVal = entry['ppn']\n",
        "    entry['permalink'] = 'https://vd18.k10plus.de/DB=1.65/PPNSET?PPN=' + ppnVal"
      ],
      "metadata": {
        "id": "GX2hFQXZ-aco"
      },
      "execution_count": 6,
      "outputs": []
    },
    {
      "cell_type": "code",
      "source": [
        "print(len(data))"
      ],
      "metadata": {
        "colab": {
          "base_uri": "https://localhost:8080/"
        },
        "id": "qeOnimV3vyAl",
        "outputId": "c7b1714e-4628-49fc-bba2-8a65acc00fa3"
      },
      "execution_count": 9,
      "outputs": [
        {
          "output_type": "stream",
          "name": "stdout",
          "text": [
            "3574\n"
          ]
        }
      ]
    },
    {
      "cell_type": "code",
      "source": [
        "FJsonOut = open('vd18extracted-eng-all-permalink-v03.json', 'w')"
      ],
      "metadata": {
        "id": "H6UjIFJLAdeV"
      },
      "execution_count": 10,
      "outputs": []
    },
    {
      "cell_type": "code",
      "source": [
        "json.dump(data, FJsonOut, indent = 4, ensure_ascii=False)"
      ],
      "metadata": {
        "id": "ybIsNArK_XyV"
      },
      "execution_count": 11,
      "outputs": []
    },
    {
      "cell_type": "code",
      "source": [
        "FJsonOut.flush()"
      ],
      "metadata": {
        "id": "oBRLl2jTw4fG"
      },
      "execution_count": 12,
      "outputs": []
    },
    {
      "cell_type": "code",
      "source": [
        "FJsonOut.close()"
      ],
      "metadata": {
        "id": "nc_BkkmHw-vY"
      },
      "execution_count": 13,
      "outputs": []
    },
    {
      "cell_type": "code",
      "source": [
        "!zip vd18extracted-eng-all-permalink-v03.json.zip vd18extracted-eng-all-permalink-v03.json"
      ],
      "metadata": {
        "colab": {
          "base_uri": "https://localhost:8080/"
        },
        "id": "_Msu2bdlBllQ",
        "outputId": "8fea96ce-3be5-40f1-e249-bd7734945c46"
      },
      "execution_count": 14,
      "outputs": [
        {
          "output_type": "stream",
          "name": "stdout",
          "text": [
            "  adding: vd18extracted-eng-all-permalink-v03.json (deflated 86%)\n"
          ]
        }
      ]
    },
    {
      "cell_type": "code",
      "source": [
        "!tail -n 50 vd18extracted-eng-all-permalink-v03.json"
      ],
      "metadata": {
        "colab": {
          "base_uri": "https://localhost:8080/"
        },
        "id": "E-PDw_E5xi0v",
        "outputId": "64521657-1748-4963-ee29-b74675628437"
      },
      "execution_count": 16,
      "outputs": [
        {
          "output_type": "stream",
          "name": "stdout",
          "text": [
            "            }\n",
            "        ],\n",
            "        \"permalink\": \"https://vd18.k10plus.de/DB=1.65/PPNSET?PPN=025768158\"\n",
            "    },\n",
            "    {\n",
            "        \"ppn\": \"025768123\",\n",
            "        \"vdn\": \"VD18 90585011\",\n",
            "        \"recType\": \"Afv\",\n",
            "        \"catRule\": \"rda\",\n",
            "        \"date\": \"1703\",\n",
            "        \"lang\": \"ger\",\n",
            "        \"title\": \"Eigentliche Abbildung des nach und nach verfallenen Christenthumbs\",\n",
            "        \"resp\": \"\",\n",
            "        \"format\": \"8°\",\n",
            "        \"pages\": \"8 ungezählte Seiten, 136 Seiten, 5 ungezählte Seiten\",\n",
            "        \"normPages\": \"149\",\n",
            "        \"ppn_sup\": \"007586396\",\n",
            "        \"title_sup\": \"Eigentliche Abbildung des nach und nach verfallenen Christenthumbs\",\n",
            "        \"vol\": \"1.1703\",\n",
            "        \"langOrig\": \"eng\",\n",
            "        \"gat\": \"Traktat\",\n",
            "        \"persons\": [\n",
            "            {\n",
            "                \"persName\": \"Hosmann, Sigismund\",\n",
            "                \"role\": \"ÜbersetzerIn\",\n",
            "                \"gnd\": \"124516378\",\n",
            "                \"dateBirth\": \"1660\",\n",
            "                \"dateDeath\": \"1701\"\n",
            "            },\n",
            "            {\n",
            "                \"persName\": \"Hoffmann, Hieronymus Friedrich\",\n",
            "                \"role\": \"Verlag\",\n",
            "                \"gnd\": \"103750500X\",\n",
            "                \"dateBirth\": \"1682\",\n",
            "                \"dateDeath\": \"1740\"\n",
            "            }\n",
            "        ],\n",
            "        \"places\": [\n",
            "            {\n",
            "                \"placeName\": \"Celle\",\n",
            "                \"relation\": \"Erscheinungsort\"\n",
            "            },\n",
            "            {\n",
            "                \"placeName\": \"Leipzig\",\n",
            "                \"relation\": \"Erscheinungsort\"\n",
            "            }\n",
            "        ],\n",
            "        \"permalink\": \"https://vd18.k10plus.de/DB=1.65/PPNSET?PPN=025768123\"\n",
            "    }\n",
            "]"
          ]
        }
      ]
    },
    {
      "cell_type": "code",
      "source": [
        "!head -n 50 vd18extracted-eng-all-permalink-v03.json"
      ],
      "metadata": {
        "colab": {
          "base_uri": "https://localhost:8080/"
        },
        "id": "W4HwBpRwAto5",
        "outputId": "f5c7e8dc-ab92-4851-96e3-68fd7975beb1"
      },
      "execution_count": 15,
      "outputs": [
        {
          "output_type": "stream",
          "name": "stdout",
          "text": [
            "[\n",
            "    {\n",
            "        \"ppn\": \"024400963\",\n",
            "        \"vdn\": \"VD18 14197456\",\n",
            "        \"recType\": \"Aav\",\n",
            "        \"catRule\": \"rak\",\n",
            "        \"date\": \"1797\",\n",
            "        \"lang\": \"ger\",\n",
            "        \"title\": \"Guide To Health oder Anleitung seine Gesundheit zu erhalten, sein Leben zu verlängern, und in Krankheiten sein eigener Arzt zu seyn\",\n",
            "        \"resp\": \"Von Joseph Townsend. Von einem praktischen Arzt aus dem Englischen übersezt\",\n",
            "        \"format\": \"8°\",\n",
            "        \"pages\": \"XII, 398 S., [1] Bl.\",\n",
            "        \"normPages\": \"400\",\n",
            "        \"langOrig\": \"eng\",\n",
            "        \"gat\": \"Bücheranzeige;Medizin\",\n",
            "        \"persons\": [\n",
            "            {\n",
            "                \"persName\": \"Townsend, Joseph\",\n",
            "                \"role\": \"creator\",\n",
            "                \"gnd\": \"101974863X\",\n",
            "                \"dateBirth\": \"1739\",\n",
            "                \"dateDeath\": \"1816\"\n",
            "            }\n",
            "        ],\n",
            "        \"publishers\": [\n",
            "            {\n",
            "                \"persName\": \"Baumgärtner, Adam Friedrich Gotthelf\",\n",
            "                \"role\": \"publisher\",\n",
            "                \"gnd\": \"132424983\",\n",
            "                \"dateBirth\": \"1759\",\n",
            "                \"dateDeath\": \"1843\"\n",
            "            }\n",
            "        ],\n",
            "        \"places\": [\n",
            "            {\n",
            "                \"placeName\": \"Leipzig\",\n",
            "                \"relation\": \"Erscheinungsort\"\n",
            "            }\n",
            "        ],\n",
            "        \"permalink\": \"https://vd18.k10plus.de/DB=1.65/PPNSET?PPN=024400963\"\n",
            "    },\n",
            "    {\n",
            "        \"ppn\": \"023940573\",\n",
            "        \"vdn\": \"VD18 90323556\",\n",
            "        \"recType\": \"Afv\",\n",
            "        \"catRule\": \"rak\",\n",
            "        \"date\": \"1797\",\n",
            "        \"lang\": \"ger\",\n",
            "        \"title\": \"Gemählde nach dem Leben, oder Begebenheiten Caleb Williams\",\n",
            "        \"resp\": \"\",\n"
          ]
        }
      ]
    }
  ]
}