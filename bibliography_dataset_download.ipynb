{
  "nbformat": 4,
  "nbformat_minor": 0,
  "metadata": {
    "colab": {
      "provenance": [],
      "authorship_tag": "ABX9TyMGb1vFnCR9VltdnC0ElywE",
      "include_colab_link": true
    },
    "kernelspec": {
      "name": "python3",
      "display_name": "Python 3"
    },
    "language_info": {
      "name": "python"
    }
  },
  "cells": [
    {
      "cell_type": "markdown",
      "metadata": {
        "id": "view-in-github",
        "colab_type": "text"
      },
      "source": [
        "<a href=\"https://colab.research.google.com/github/iued-uni-heidelberg/corpusdev/blob/main/bibliography_dataset_download.ipynb\" target=\"_parent\"><img src=\"https://colab.research.google.com/assets/colab-badge.svg\" alt=\"Open In Colab\"/></a>"
      ]
    },
    {
      "cell_type": "code",
      "source": [
        "%cd /content\n",
        "!pwd"
      ],
      "metadata": {
        "colab": {
          "base_uri": "https://localhost:8080/"
        },
        "id": "s04uwOlgFccA",
        "outputId": "6ff9eb30-0f28-4035-e18f-4063dfba45ad"
      },
      "execution_count": null,
      "outputs": [
        {
          "output_type": "stream",
          "name": "stdout",
          "text": [
            "/content\n",
            "/content\n"
          ]
        }
      ]
    },
    {
      "cell_type": "code",
      "source": [
        "!git clone https://git.hab.de/beyer/vd17-dump/"
      ],
      "metadata": {
        "colab": {
          "base_uri": "https://localhost:8080/"
        },
        "id": "TqjkxzcUFmZF",
        "outputId": "ef903b79-c718-4f52-d964-9fe3a07e2e42"
      },
      "execution_count": 1,
      "outputs": [
        {
          "output_type": "stream",
          "name": "stdout",
          "text": [
            "Cloning into 'vd17-dump'...\n",
            "warning: redirecting to https://git.hab.de/beyer/vd17-dump.git/\n",
            "remote: Enumerating objects: 4739, done.\u001b[K\n",
            "remote: Counting objects: 100% (2862/2862), done.\u001b[K\n",
            "remote: Compressing objects: 100% (1210/1210), done.\u001b[K\n",
            "Receiving objects: 100% (4739/4739), 646.04 MiB | 13.88 MiB/s, done.\n",
            "remote: Total 4739 (delta 2202), reused 2311 (delta 1652), pack-reused 1877\u001b[K\n",
            "Resolving deltas: 100% (4033/4033), done.\n",
            "Updating files: 100% (309/309), done.\n"
          ]
        }
      ]
    },
    {
      "cell_type": "code",
      "execution_count": 6,
      "metadata": {
        "colab": {
          "base_uri": "https://localhost:8080/"
        },
        "id": "nGyrrFQB_wdt",
        "outputId": "ef870654-2b51-4e2a-9d97-ebeb364ddf84"
      },
      "outputs": [
        {
          "output_type": "stream",
          "name": "stdout",
          "text": [
            "Cloning into 'pylib'...\n",
            "remote: Enumerating objects: 688, done.\u001b[K\n",
            "remote: Counting objects: 100% (264/264), done.\u001b[K\n",
            "remote: Compressing objects: 100% (189/189), done.\u001b[K\n",
            "remote: Total 688 (delta 179), reused 158 (delta 75), pack-reused 424\u001b[K\n",
            "Receiving objects: 100% (688/688), 397.32 KiB | 3.45 MiB/s, done.\n",
            "Resolving deltas: 100% (444/444), done.\n"
          ]
        }
      ],
      "source": [
        "!git clone https://github.com/hbeyer/pylib"
      ]
    },
    {
      "cell_type": "code",
      "source": [
        "!echo $PYTHONPATH"
      ],
      "metadata": {
        "colab": {
          "base_uri": "https://localhost:8080/"
        },
        "id": "YB_MnmB_ASw5",
        "outputId": "309abc9c-d9de-468d-fb7b-7622b63eab55"
      },
      "execution_count": null,
      "outputs": [
        {
          "output_type": "stream",
          "name": "stdout",
          "text": [
            "\"$/env/python\"\n"
          ]
        }
      ]
    },
    {
      "cell_type": "code",
      "source": [
        "!echo $PATH"
      ],
      "metadata": {
        "colab": {
          "base_uri": "https://localhost:8080/"
        },
        "id": "s86IcciVHZW7",
        "outputId": "12ba24dc-e6e1-4da7-f7a3-b96f1ad9c31f"
      },
      "execution_count": 7,
      "outputs": [
        {
          "output_type": "stream",
          "name": "stdout",
          "text": [
            "\"/opt/bin:/usr/local/nvidia/bin:/usr/local/cuda/bin:/usr/local/sbin:/usr/local/bin:/usr/sbin:/usr/bin:/sbin:/bin:/tools/node/bin:/tools/google-cloud-sdk/bin:/content/pylib/lib\"\n"
          ]
        }
      ]
    },
    {
      "cell_type": "code",
      "source": [
        "%env PATH=\"/opt/bin:/usr/local/nvidia/bin:/usr/local/cuda/bin:/usr/local/sbin:/usr/local/bin:/usr/sbin:/usr/bin:/sbin:/bin:/tools/node/bin:/tools/google-cloud-sdk/bin:/content/pylib/lib\""
      ],
      "metadata": {
        "colab": {
          "base_uri": "https://localhost:8080/"
        },
        "id": "DPZelF_WIFWJ",
        "outputId": "27baf29e-7fc7-40ce-bbb1-23a5a86bb757"
      },
      "execution_count": 3,
      "outputs": [
        {
          "output_type": "stream",
          "name": "stdout",
          "text": [
            "env: PATH=\"/opt/bin:/usr/local/nvidia/bin:/usr/local/cuda/bin:/usr/local/sbin:/usr/local/bin:/usr/sbin:/usr/bin:/sbin:/bin:/tools/node/bin:/tools/google-cloud-sdk/bin:/content/pylib/lib\"\n"
          ]
        }
      ]
    },
    {
      "cell_type": "code",
      "source": [
        "%env PYTHONPATH=\"$/env/python\""
      ],
      "metadata": {
        "colab": {
          "base_uri": "https://localhost:8080/"
        },
        "id": "HIiTbUU7Cm-2",
        "outputId": "5ee0b92e-2c0a-485d-97a7-0462d4dbb27d"
      },
      "execution_count": null,
      "outputs": [
        {
          "output_type": "stream",
          "name": "stdout",
          "text": [
            "env: PYTHONPATH=\"$/env/python\"\n"
          ]
        }
      ]
    },
    {
      "cell_type": "code",
      "source": [
        "%cd /content/pylib/\n",
        "!pwd"
      ],
      "metadata": {
        "colab": {
          "base_uri": "https://localhost:8080/"
        },
        "id": "GT_ARX7WCpZt",
        "outputId": "10ba2189-a006-425f-dca1-a2ddc6827849"
      },
      "execution_count": 16,
      "outputs": [
        {
          "output_type": "stream",
          "name": "stdout",
          "text": [
            "/content/pylib\n",
            "/content/pylib\n"
          ]
        }
      ]
    },
    {
      "cell_type": "code",
      "source": [
        "from lib import bookwheel as bw"
      ],
      "metadata": {
        "id": "24QbZcLgIrCa"
      },
      "execution_count": 12,
      "outputs": []
    },
    {
      "cell_type": "code",
      "source": [
        "import logging\n",
        "import pickle\n",
        "from lib import sru\n",
        "from lib import isil\n",
        "from lib import xmlreader as xr\n",
        "from lib import pica"
      ],
      "metadata": {
        "id": "1Bk4apdcJmFb"
      },
      "execution_count": 17,
      "outputs": []
    },
    {
      "cell_type": "code",
      "source": [
        "%env PYTHONPATH=\"$/env/python:/content/pylib/lib/:/content/pylib/lib/bookwheel.py\"\n",
        "# !PYTHONPATH=. ./comet/cli/score.py"
      ],
      "metadata": {
        "colab": {
          "base_uri": "https://localhost:8080/"
        },
        "id": "XfHI8zshAZc_",
        "outputId": "dcd3f04e-9b97-4428-872b-0ffc6155f40c"
      },
      "execution_count": null,
      "outputs": [
        {
          "output_type": "stream",
          "name": "stdout",
          "text": [
            "env: PYTHONPATH=\"$/env/python:/content/pylib/lib/:/content/pylib/lib/bookwheel.py\"\n"
          ]
        }
      ]
    },
    {
      "cell_type": "code",
      "source": [
        "# from lib import bookwheel as bw\n",
        "cat = bw.Catalogue\n",
        "sec = cat.get_section(2589)\n",
        "print(sec)\n"
      ],
      "metadata": {
        "colab": {
          "base_uri": "https://localhost:8080/"
        },
        "id": "QIn7UdSkAJuR",
        "outputId": "276b653a-4105-4c17-fbd7-49c338052f7b"
      },
      "execution_count": 15,
      "outputs": [
        {
          "output_type": "stream",
          "name": "stdout",
          "text": [
            "{'start': 2511, 'end': 2738, 'group': 'Libri Varii', 'dateBegin': '1634', 'year': 1634, 'writer': 'Herzog August'}\n"
          ]
        }
      ]
    },
    {
      "cell_type": "code",
      "source": [
        "%cd /content/\n",
        "!pwd"
      ],
      "metadata": {
        "id": "7QNOb_ahFZZ_",
        "colab": {
          "base_uri": "https://localhost:8080/"
        },
        "outputId": "ca1049d3-88b3-41a4-d487-e97c1a90a79c"
      },
      "execution_count": 18,
      "outputs": [
        {
          "output_type": "stream",
          "name": "stdout",
          "text": [
            "/content\n",
            "/content\n"
          ]
        }
      ]
    },
    {
      "cell_type": "code",
      "source": [
        "# import logging\n",
        "# import pickle\n",
        "# from lib import sru\n",
        "# from lib import isil\n",
        "# from lib import xmlreader as xr\n",
        "# from lib import pica\n",
        "\n",
        "logging.basicConfig(level=logging.ERROR)\n",
        "\n",
        "# Festlegen der Speicherpfade und der Datensätze pro JSON-Datei\n",
        "# source_folder = \"{Ordner mit den PICAXML-Dateien}/\"\n",
        "source_folder = \"/content/xmlbibliography/\"\n",
        "# source_folder_ac = \"{Ordner mit den PICAXML-Dateien für Gesamtaufnahmen mehrbändiger Werke (Ac-Sätze)}/\"\n",
        "source_folder_ac = \"/content/xmlbibliography/\"\n",
        "# target_folder = \"{Ordner zum Speichern der JSON-Dateien}/\"\n",
        "target_folder = \"/content/jsonbibliography/\"\n",
        "size = 1000\n",
        "limit = 350000\n",
        "\n",
        "# Laden der Ac-Sätze und Extrahieren der Gattungsbegriffe\n",
        "req = sru.Request_VD17()\n",
        "num = req.prepare(\"pica.bbg=Ac*\")\n",
        "print(req.url)\n",
        "print(req.numFound)\n",
        "req.download(source_folder_ac)\n",
        "\n",
        "res = {}\n",
        "reader = xr.DownloadReader(source_folder_ac, \"record\", \"info:srw/schema/5/picaXML-v1.0\")\n",
        "\n",
        "for count, node in enumerate(reader):\n",
        "    rec = pica.RecordVD17(node)\n",
        "    gatt = [gat for gat in rec.gatt]\n",
        "    if gatt == []:\n",
        "        continue\n",
        "    res[rec.ppn] = gatt\n",
        "    if count > 100000:\n",
        "        break\n",
        "\n",
        "with open('gattungen-ac', 'wb') as file:\n",
        "    pickle.dump(res, file)\n",
        "\n",
        "# Download der PICA-XML-Daten\n",
        "req = sru.Request_VD17()\n",
        "num = req.prepare(\"pica.bbg=(Aa* or Af*)\")\n",
        "print(req.url)\n",
        "print(req.numFound)\n",
        "req.download(source_folder)\n",
        "\n",
        "# Auslesen und Abspeichern in JSON\n",
        "with open('gattungen-ac','rb') as file:\n",
        "    gatt_ac = pickle.load(file)\n",
        "\n",
        "reader = xr.DownloadReader(source_folder, \"record\", \"info:srw/schema/5/picaXML-v1.0\")\n",
        "\n",
        "content = []\n",
        "fnn = []\n",
        "setn = 1\n",
        "count = 0\n",
        "\n",
        "for no, node in enumerate(reader):\n",
        "    rec = pica.RecordVD17(node)\n",
        "    if rec.get_rec_type() in [\"Teilband\", \"Teilband mit eigenem Titel\"]:\n",
        "        try:\n",
        "            rec.gatt = gatt_ac[rec.ppn_sup]\n",
        "        except:\n",
        "            logging.info(f\"Keine Gattungsbegriffe bei PPN {rec.ppn_sup}\")\n",
        "    content.append(rec)\n",
        "    count += 1\n",
        "    if count >= size:\n",
        "        recl = pica.RecordList(content)\n",
        "        fn = f\"vd17-{str(setn).zfill(3)}\"\n",
        "        recl.to_json(target_folder + fn)\n",
        "        content = []\n",
        "        setn += 1\n",
        "        count = 0\n",
        "    if no > limit:\n",
        "        break\n",
        "if content != []:\n",
        "    recl = pica.RecordList(content)\n",
        "    fn = f\"vd17-{str(setn).zfill(3)}\"\n",
        "    recl.to_json(target_folder + fn)\n"
      ],
      "metadata": {
        "colab": {
          "base_uri": "https://localhost:8080/"
        },
        "id": "7F82KoohI6ZY",
        "outputId": "ac63f4d8-7781-45ed-8951-9827fa5d334c"
      },
      "execution_count": null,
      "outputs": [
        {
          "output_type": "stream",
          "name": "stdout",
          "text": [
            "http://sru.k10plus.de/vd17?version=2.0&operation=searchRetrieve&query=pica.bbg%3DAc%2A&maximumRecords=500&startRecord=1&recordSchema=picaxml\n",
            "5088\n",
            "Download 1 erledigt\n",
            "Download 2 erledigt\n",
            "Download 3 erledigt\n",
            "Download 4 erledigt\n",
            "Download 5 erledigt\n",
            "Download 6 erledigt\n",
            "Download 7 erledigt\n",
            "Download 8 erledigt\n",
            "Download 9 erledigt\n",
            "Download 10 erledigt\n",
            "Download 11 erledigt\n"
          ]
        },
        {
          "output_type": "stream",
          "name": "stderr",
          "text": [
            "ERROR:root:Keine Datensätze\n"
          ]
        },
        {
          "output_type": "stream",
          "name": "stdout",
          "text": [
            "http://sru.k10plus.de/vd17?version=2.0&operation=searchRetrieve&query=pica.bbg%3D%28Aa%2A%20or%20Af%2A%29&maximumRecords=500&startRecord=1&recordSchema=picaxml\n",
            "307241\n",
            "Download 1 erledigt\n",
            "Download 2 erledigt\n",
            "Download 3 erledigt\n",
            "Download 4 erledigt\n",
            "Download 5 erledigt\n",
            "Download 6 erledigt\n",
            "Download 7 erledigt\n",
            "Download 8 erledigt\n",
            "Download 9 erledigt\n",
            "Download 10 erledigt\n",
            "Download 11 erledigt\n",
            "Download 12 erledigt\n",
            "Download 13 erledigt\n",
            "Download 14 erledigt\n",
            "Download 15 erledigt\n",
            "Download 16 erledigt\n",
            "Download 17 erledigt\n",
            "Download 18 erledigt\n",
            "Download 19 erledigt\n",
            "Download 20 erledigt\n",
            "Download 21 erledigt\n",
            "Download 22 erledigt\n",
            "Download 23 erledigt\n",
            "Download 24 erledigt\n",
            "Download 25 erledigt\n",
            "Download 26 erledigt\n",
            "Download 27 erledigt\n",
            "Download 28 erledigt\n",
            "Download 29 erledigt\n",
            "Download 30 erledigt\n",
            "Download 31 erledigt\n",
            "Download 32 erledigt\n",
            "Download 33 erledigt\n",
            "Download 34 erledigt\n",
            "Download 35 erledigt\n",
            "Download 36 erledigt\n",
            "Download 37 erledigt\n",
            "Download 38 erledigt\n",
            "Download 39 erledigt\n",
            "Download 40 erledigt\n",
            "Download 41 erledigt\n",
            "Download 42 erledigt\n",
            "Download 43 erledigt\n",
            "Download 44 erledigt\n",
            "Download 45 erledigt\n",
            "Download 46 erledigt\n",
            "Download 47 erledigt\n",
            "Download 48 erledigt\n",
            "Download 49 erledigt\n",
            "Download 50 erledigt\n",
            "Download 51 erledigt\n",
            "Download 52 erledigt\n",
            "Download 53 erledigt\n",
            "Download 54 erledigt\n",
            "Download 55 erledigt\n",
            "Download 56 erledigt\n",
            "Download 57 erledigt\n",
            "Download 58 erledigt\n",
            "Download 59 erledigt\n",
            "Download 60 erledigt\n",
            "Download 61 erledigt\n",
            "Download 62 erledigt\n",
            "Download 63 erledigt\n",
            "Download 64 erledigt\n",
            "Download 65 erledigt\n",
            "Download 66 erledigt\n",
            "Download 67 erledigt\n",
            "Download 68 erledigt\n",
            "Download 69 erledigt\n",
            "Download 70 erledigt\n",
            "Download 71 erledigt\n",
            "Download 72 erledigt\n",
            "Download 73 erledigt\n",
            "Download 74 erledigt\n",
            "Download 75 erledigt\n",
            "Download 76 erledigt\n",
            "Download 77 erledigt\n",
            "Download 78 erledigt\n",
            "Download 79 erledigt\n",
            "Download 80 erledigt\n",
            "Download 81 erledigt\n",
            "Download 82 erledigt\n",
            "Download 83 erledigt\n",
            "Download 84 erledigt\n",
            "Download 85 erledigt\n",
            "Download 86 erledigt\n",
            "Download 87 erledigt\n",
            "Download 88 erledigt\n",
            "Download 89 erledigt\n",
            "Download 90 erledigt\n",
            "Download 91 erledigt\n",
            "Download 92 erledigt\n",
            "Download 93 erledigt\n",
            "Download 94 erledigt\n",
            "Download 95 erledigt\n",
            "Download 96 erledigt\n",
            "Download 97 erledigt\n",
            "Download 98 erledigt\n",
            "Download 99 erledigt\n",
            "Download 100 erledigt\n",
            "Download 101 erledigt\n",
            "Download 102 erledigt\n",
            "Download 103 erledigt\n",
            "Download 104 erledigt\n",
            "Download 105 erledigt\n",
            "Download 106 erledigt\n",
            "Download 107 erledigt\n",
            "Download 108 erledigt\n",
            "Download 109 erledigt\n",
            "Download 110 erledigt\n",
            "Download 111 erledigt\n",
            "Download 112 erledigt\n",
            "Download 113 erledigt\n",
            "Download 114 erledigt\n",
            "Download 115 erledigt\n",
            "Download 116 erledigt\n",
            "Download 117 erledigt\n",
            "Download 118 erledigt\n",
            "Download 119 erledigt\n",
            "Download 120 erledigt\n",
            "Download 121 erledigt\n",
            "Download 122 erledigt\n",
            "Download 123 erledigt\n",
            "Download 124 erledigt\n",
            "Download 125 erledigt\n",
            "Download 126 erledigt\n",
            "Download 127 erledigt\n",
            "Download 128 erledigt\n",
            "Download 129 erledigt\n",
            "Download 130 erledigt\n",
            "Download 131 erledigt\n",
            "Download 132 erledigt\n",
            "Download 133 erledigt\n",
            "Download 134 erledigt\n",
            "Download 135 erledigt\n",
            "Download 136 erledigt\n",
            "Download 137 erledigt\n",
            "Download 138 erledigt\n",
            "Download 139 erledigt\n",
            "Download 140 erledigt\n",
            "Download 141 erledigt\n",
            "Download 142 erledigt\n",
            "Download 143 erledigt\n",
            "Download 144 erledigt\n",
            "Download 145 erledigt\n",
            "Download 146 erledigt\n",
            "Download 147 erledigt\n",
            "Download 148 erledigt\n",
            "Download 149 erledigt\n",
            "Download 150 erledigt\n",
            "Download 151 erledigt\n",
            "Download 152 erledigt\n",
            "Download 153 erledigt\n",
            "Download 154 erledigt\n",
            "Download 155 erledigt\n",
            "Download 156 erledigt\n",
            "Download 157 erledigt\n",
            "Download 158 erledigt\n",
            "Download 159 erledigt\n",
            "Download 160 erledigt\n",
            "Download 161 erledigt\n",
            "Download 162 erledigt\n",
            "Download 163 erledigt\n",
            "Download 164 erledigt\n",
            "Download 165 erledigt\n",
            "Download 166 erledigt\n",
            "Download 167 erledigt\n",
            "Download 168 erledigt\n",
            "Download 169 erledigt\n",
            "Download 170 erledigt\n",
            "Download 171 erledigt\n",
            "Download 172 erledigt\n",
            "Download 173 erledigt\n",
            "Download 174 erledigt\n",
            "Download 175 erledigt\n",
            "Download 176 erledigt\n",
            "Download 177 erledigt\n",
            "Download 178 erledigt\n",
            "Download 179 erledigt\n",
            "Download 180 erledigt\n",
            "Download 181 erledigt\n",
            "Download 182 erledigt\n",
            "Download 183 erledigt\n",
            "Download 184 erledigt\n",
            "Download 185 erledigt\n",
            "Download 186 erledigt\n",
            "Download 187 erledigt\n",
            "Download 188 erledigt\n",
            "Download 189 erledigt\n",
            "Download 190 erledigt\n",
            "Download 191 erledigt\n",
            "Download 192 erledigt\n",
            "Download 193 erledigt\n",
            "Download 194 erledigt\n",
            "Download 195 erledigt\n",
            "Download 196 erledigt\n",
            "Download 197 erledigt\n",
            "Download 198 erledigt\n",
            "Download 199 erledigt\n",
            "Download 200 erledigt\n",
            "Download 201 erledigt\n",
            "Download 202 erledigt\n",
            "Download 203 erledigt\n",
            "Download 204 erledigt\n",
            "Download 205 erledigt\n",
            "Download 206 erledigt\n",
            "Download 207 erledigt\n",
            "Download 208 erledigt\n",
            "Download 209 erledigt\n",
            "Download 210 erledigt\n",
            "Download 211 erledigt\n",
            "Download 212 erledigt\n",
            "Download 213 erledigt\n",
            "Download 214 erledigt\n",
            "Download 215 erledigt\n",
            "Download 216 erledigt\n",
            "Download 217 erledigt\n",
            "Download 218 erledigt\n",
            "Download 219 erledigt\n",
            "Download 220 erledigt\n",
            "Download 221 erledigt\n",
            "Download 222 erledigt\n",
            "Download 223 erledigt\n",
            "Download 224 erledigt\n",
            "Download 225 erledigt\n",
            "Download 226 erledigt\n",
            "Download 227 erledigt\n",
            "Download 228 erledigt\n",
            "Download 229 erledigt\n",
            "Download 230 erledigt\n",
            "Download 231 erledigt\n",
            "Download 232 erledigt\n",
            "Download 233 erledigt\n",
            "Download 234 erledigt\n",
            "Download 235 erledigt\n",
            "Download 236 erledigt\n",
            "Download 237 erledigt\n",
            "Download 238 erledigt\n",
            "Download 239 erledigt\n",
            "Download 240 erledigt\n",
            "Download 241 erledigt\n",
            "Download 242 erledigt\n",
            "Download 243 erledigt\n",
            "Download 244 erledigt\n",
            "Download 245 erledigt\n",
            "Download 246 erledigt\n",
            "Download 247 erledigt\n",
            "Download 248 erledigt\n",
            "Download 249 erledigt\n",
            "Download 250 erledigt\n",
            "Download 251 erledigt\n",
            "Download 252 erledigt\n",
            "Download 253 erledigt\n",
            "Download 254 erledigt\n",
            "Download 255 erledigt\n",
            "Download 256 erledigt\n",
            "Download 257 erledigt\n",
            "Download 258 erledigt\n",
            "Download 259 erledigt\n",
            "Download 260 erledigt\n",
            "Download 261 erledigt\n",
            "Download 262 erledigt\n",
            "Download 263 erledigt\n",
            "Download 264 erledigt\n",
            "Download 265 erledigt\n",
            "Download 266 erledigt\n",
            "Download 267 erledigt\n",
            "Download 268 erledigt\n",
            "Download 269 erledigt\n",
            "Download 270 erledigt\n",
            "Download 271 erledigt\n",
            "Download 272 erledigt\n",
            "Download 273 erledigt\n",
            "Download 274 erledigt\n",
            "Download 275 erledigt\n",
            "Download 276 erledigt\n",
            "Download 277 erledigt\n",
            "Download 278 erledigt\n",
            "Download 279 erledigt\n",
            "Download 280 erledigt\n",
            "Download 281 erledigt\n",
            "Download 282 erledigt\n",
            "Download 283 erledigt\n",
            "Download 284 erledigt\n",
            "Download 285 erledigt\n",
            "Download 286 erledigt\n",
            "Download 287 erledigt\n",
            "Download 288 erledigt\n",
            "Download 289 erledigt\n",
            "Download 290 erledigt\n",
            "Download 291 erledigt\n",
            "Download 292 erledigt\n",
            "Download 293 erledigt\n",
            "Download 294 erledigt\n",
            "Download 295 erledigt\n",
            "Download 296 erledigt\n",
            "Download 297 erledigt\n",
            "Download 298 erledigt\n",
            "Download 299 erledigt\n",
            "Download 300 erledigt\n",
            "Download 301 erledigt\n",
            "Download 302 erledigt\n",
            "Download 303 erledigt\n",
            "Download 304 erledigt\n",
            "Download 305 erledigt\n",
            "Download 306 erledigt\n",
            "Download 307 erledigt\n",
            "Download 308 erledigt\n",
            "Download 309 erledigt\n",
            "Download 310 erledigt\n",
            "Download 311 erledigt\n",
            "Download 312 erledigt\n",
            "Download 313 erledigt\n",
            "Download 314 erledigt\n",
            "Download 315 erledigt\n",
            "Download 316 erledigt\n",
            "Download 317 erledigt\n",
            "Download 318 erledigt\n",
            "Download 319 erledigt\n",
            "Download 320 erledigt\n",
            "Download 321 erledigt\n",
            "Download 322 erledigt\n",
            "Download 323 erledigt\n",
            "Download 324 erledigt\n",
            "Download 325 erledigt\n",
            "Download 326 erledigt\n",
            "Download 327 erledigt\n",
            "Download 328 erledigt\n",
            "Download 329 erledigt\n",
            "Download 330 erledigt\n",
            "Download 331 erledigt\n",
            "Download 332 erledigt\n",
            "Download 333 erledigt\n",
            "Download 334 erledigt\n",
            "Download 335 erledigt\n",
            "Download 336 erledigt\n",
            "Download 337 erledigt\n",
            "Download 338 erledigt\n",
            "Download 339 erledigt\n",
            "Download 340 erledigt\n",
            "Download 341 erledigt\n",
            "Download 342 erledigt\n",
            "Download 343 erledigt\n",
            "Download 344 erledigt\n",
            "Download 345 erledigt\n",
            "Download 346 erledigt\n",
            "Download 347 erledigt\n",
            "Download 348 erledigt\n",
            "Download 349 erledigt\n",
            "Download 350 erledigt\n",
            "Download 351 erledigt\n",
            "Download 352 erledigt\n",
            "Download 353 erledigt\n",
            "Download 354 erledigt\n",
            "Download 355 erledigt\n",
            "Download 356 erledigt\n",
            "Download 357 erledigt\n",
            "Download 358 erledigt\n",
            "Download 359 erledigt\n",
            "Download 360 erledigt\n",
            "Download 361 erledigt\n",
            "Download 362 erledigt\n",
            "Download 363 erledigt\n",
            "Download 364 erledigt\n",
            "Download 365 erledigt\n",
            "Download 366 erledigt\n",
            "Download 367 erledigt\n",
            "Download 368 erledigt\n",
            "Download 369 erledigt\n",
            "Download 370 erledigt\n",
            "Download 371 erledigt\n",
            "Download 372 erledigt\n",
            "Download 373 erledigt\n",
            "Download 374 erledigt\n",
            "Download 375 erledigt\n",
            "Download 376 erledigt\n",
            "Download 377 erledigt\n",
            "Download 378 erledigt\n",
            "Download 379 erledigt\n",
            "Download 380 erledigt\n",
            "Download 381 erledigt\n",
            "Download 382 erledigt\n",
            "Download 383 erledigt\n",
            "Download 384 erledigt\n",
            "Download 385 erledigt\n",
            "Download 386 erledigt\n",
            "Download 387 erledigt\n",
            "Download 388 erledigt\n",
            "Download 389 erledigt\n",
            "Download 390 erledigt\n",
            "Download 391 erledigt\n",
            "Download 392 erledigt\n",
            "Download 393 erledigt\n",
            "Download 394 erledigt\n",
            "Download 395 erledigt\n",
            "Download 396 erledigt\n",
            "Download 397 erledigt\n",
            "Download 398 erledigt\n",
            "Download 399 erledigt\n",
            "Download 400 erledigt\n",
            "Download 401 erledigt\n",
            "Download 402 erledigt\n",
            "Download 403 erledigt\n",
            "Download 404 erledigt\n",
            "Download 405 erledigt\n",
            "Download 406 erledigt\n",
            "Download 407 erledigt\n",
            "Download 408 erledigt\n",
            "Download 409 erledigt\n",
            "Download 410 erledigt\n",
            "Download 411 erledigt\n",
            "Download 412 erledigt\n",
            "Download 413 erledigt\n",
            "Download 414 erledigt\n",
            "Download 415 erledigt\n",
            "Download 416 erledigt\n",
            "Download 417 erledigt\n",
            "Download 418 erledigt\n",
            "Download 419 erledigt\n",
            "Download 420 erledigt\n"
          ]
        }
      ]
    },
    {
      "cell_type": "code",
      "source": [
        "!mkdir xmlbibliography"
      ],
      "metadata": {
        "id": "ffhaOHSALlvM"
      },
      "execution_count": 19,
      "outputs": []
    },
    {
      "cell_type": "code",
      "source": [
        "!mkdir jsonbibliography"
      ],
      "metadata": {
        "id": "1wXpb3u7M0Uw"
      },
      "execution_count": 24,
      "outputs": []
    },
    {
      "cell_type": "code",
      "source": [
        "%cd xmlbibliography/"
      ],
      "metadata": {
        "colab": {
          "base_uri": "https://localhost:8080/"
        },
        "id": "qirpT0peL1h7",
        "outputId": "c767ddfe-a3b7-47f6-c845-a6b8a3f0cf6a"
      },
      "execution_count": 20,
      "outputs": [
        {
          "output_type": "stream",
          "name": "stdout",
          "text": [
            "/content/xmlbibliography\n"
          ]
        }
      ]
    },
    {
      "cell_type": "code",
      "source": [
        "!wget http://sru.k10plus.de/vd17?version=2.0&operation=searchRetrieve&query=pica.bbg=%28Aa*%20or%20Af*%29&maximumRecords=500&startRecord=1&recordSchema=picaxml"
      ],
      "metadata": {
        "id": "HAxwIMRYL4X2"
      },
      "execution_count": null,
      "outputs": []
    },
    {
      "cell_type": "code",
      "source": [
        "!mv vd17?version=2.0 vd17_500.xml"
      ],
      "metadata": {
        "id": "D3xzAOeVMOlb"
      },
      "execution_count": 22,
      "outputs": []
    },
    {
      "cell_type": "code",
      "source": [
        "%cd /content/"
      ],
      "metadata": {
        "colab": {
          "base_uri": "https://localhost:8080/"
        },
        "id": "uDvJzrJVMWIG",
        "outputId": "1953d3b1-dbad-4568-c859-4ecb2ce5d003"
      },
      "execution_count": 23,
      "outputs": [
        {
          "output_type": "stream",
          "name": "stdout",
          "text": [
            "/content\n"
          ]
        }
      ]
    }
  ]
}