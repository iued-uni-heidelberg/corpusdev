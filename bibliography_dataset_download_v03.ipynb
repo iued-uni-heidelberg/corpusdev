{
  "nbformat": 4,
  "nbformat_minor": 0,
  "metadata": {
    "colab": {
      "provenance": [],
      "authorship_tag": "ABX9TyNv32gpmExzArnpK1l8LuNF",
      "include_colab_link": true
    },
    "kernelspec": {
      "name": "python3",
      "display_name": "Python 3"
    },
    "language_info": {
      "name": "python"
    }
  },
  "cells": [
    {
      "cell_type": "markdown",
      "metadata": {
        "id": "view-in-github",
        "colab_type": "text"
      },
      "source": [
        "<a href=\"https://colab.research.google.com/github/iued-uni-heidelberg/corpusdev/blob/main/bibliography_dataset_download_v03.ipynb\" target=\"_parent\"><img src=\"https://colab.research.google.com/assets/colab-badge.svg\" alt=\"Open In Colab\"/></a>"
      ]
    },
    {
      "cell_type": "markdown",
      "source": [
        "# Extracting bibliography for the Y1600, Y1700, Y1800 periods from library catalogues"
      ],
      "metadata": {
        "id": "drKdxmEUvsEF"
      }
    },
    {
      "cell_type": "markdown",
      "source": [
        "## 1.1 downloading the json dump of vd17\n",
        "This will last about 2 minutes, the command downloads 307 json files\n",
        "(such files should be generated on stage 2, see 2.1, etc. -- but there are differences between the dupm and the downloaded version)"
      ],
      "metadata": {
        "id": "mDyHA-rzvYx2"
      }
    },
    {
      "cell_type": "code",
      "source": [
        "!git clone https://git.hab.de/beyer/vd17-dump/"
      ],
      "metadata": {
        "colab": {
          "base_uri": "https://localhost:8080/"
        },
        "id": "TqjkxzcUFmZF",
        "outputId": "c911b5af-3e1a-459a-dd7c-a0969a980b80"
      },
      "execution_count": 1,
      "outputs": [
        {
          "output_type": "stream",
          "name": "stdout",
          "text": [
            "Cloning into 'vd17-dump'...\n",
            "warning: redirecting to https://git.hab.de/beyer/vd17-dump.git/\n",
            "remote: Enumerating objects: 4739, done.\u001b[K\n",
            "remote: Counting objects: 100% (2862/2862), done.\u001b[K\n",
            "remote: Compressing objects: 100% (660/660), done.\u001b[K\n",
            "remote: Total 4739 (delta 2202), reused 2862 (delta 2202), pack-reused 1877\u001b[K\n",
            "Receiving objects: 100% (4739/4739), 646.03 MiB | 18.95 MiB/s, done.\n",
            "Resolving deltas: 100% (4033/4033), done.\n",
            "Updating files: 100% (309/309), done.\n"
          ]
        }
      ]
    },
    {
      "cell_type": "markdown",
      "source": [
        "now we try to filter the json objects, where\n",
        "\n",
        "\"langOrig\":\"eng\",\n",
        "\n",
        "e.g., /content/vd17-dump/json/vd17-290.json\n",
        "\n",
        "\tLine  6361:   \"langOrig\":\"eng\",\n",
        "\tLine 39193:   \"langOrig\":\"eng\",\n",
        "\n",
        "and write this to a separate file\n",
        "\n",
        "(ideally we try to create a separate language file for each langOrig value)\n",
        "\n",
        "https://stackoverflow.com/questions/27189892/how-to-filter-json-array-in-python\n"
      ],
      "metadata": {
        "id": "IRmlsilJxf6s"
      }
    },
    {
      "cell_type": "code",
      "source": [],
      "metadata": {
        "id": "I6ud8Bg7jYP_"
      },
      "execution_count": null,
      "outputs": []
    },
    {
      "cell_type": "markdown",
      "source": [
        "### class to read the directory with json files and extract the needed language\n"
      ],
      "metadata": {
        "id": "2rKnvq20ew8i"
      }
    },
    {
      "cell_type": "code",
      "source": [
        "import json\n",
        "import re, os, sys\n",
        "\n",
        "class clJsonDirFindFilter(object):\n",
        "    '''\n",
        "    @author Bogdan Babych, IÜD, Heidelberg University, 2023\n",
        "    @email bogdan [dot] babych [at] iued [dot] uni-heidelberg [dot] de\n",
        "    '''\n",
        "    def __init__(self, SDirName, output_file = 'vdExtracted-all.json', findKey = 'langOrig', filtVal = 'eng'):\n",
        "        self.FOut = open(output_file, 'w')\n",
        "\n",
        "        self.output_data = []\n",
        "        self.listVals = []\n",
        "\n",
        "        self.mainDirWalk(SDirName, findKey)\n",
        "        output_list = self.filtByLang(self.output_data, findKey, filtVal)\n",
        "\n",
        "        self.dumpOutput(output_list, self.FOut)\n",
        "        print(self.listVals)\n",
        "\n",
        "\n",
        "\n",
        "    def mainDirWalk(self, path, findKey):\n",
        "\n",
        "        for root,d_names,f_names in os.walk(path):\n",
        "            for f in f_names:\n",
        "                # if not re.match('^[0-9]+$', f):\n",
        "                if not re.search('json$', f):\n",
        "                    print(f'Skipped: {f}')\n",
        "                    continue\n",
        "                fullpath = os.path.join(root, f)\n",
        "                self.procFile(fullpath)\n",
        "\n",
        "\n",
        "\n",
        "\n",
        "    def procFile(self, SFIn):\n",
        "        # output_data is a json list of dictionaries, which is updated with every json file read from the directory\n",
        "\n",
        "        with open(SFIn, 'r', encoding='utf-8') as input_json:\n",
        "            input_list = json.load(input_json)\n",
        "\n",
        "            for i in input_list:\n",
        "                if 'langOrig' in i:\n",
        "                    langOrigValue = i['langOrig']\n",
        "                    self.listVals.append(langOrigValue)\n",
        "                    self.output_data.append(i)\n",
        "\n",
        "    def filtByLang(self, output_data2filter, findKey, filtVal):\n",
        "        # output_list = [x for x in input_list if x['langOrig'] == 'eng']\n",
        "        output_list = list(filter(lambda x: x[findKey] == filtVal, output_data2filter))\n",
        "        return output_list\n",
        "\n",
        "\n",
        "    def dumpOutput(self, output_data2print, output_dict_file):\n",
        "        json.dump(output_data2print, output_dict_file, indent=4, ensure_ascii=False)\n",
        "\n",
        "\n",
        "\n",
        "\n",
        "    # output_json_string = json.dumps(output_data)\n",
        "    ## json.dump(output_data, output_dict_file, indent=4, ensure_ascii=False)\n",
        "\n",
        "# end: class clJsonDirFindFilter"
      ],
      "metadata": {
        "id": "XkEo5ac1lhdJ"
      },
      "execution_count": 13,
      "outputs": []
    },
    {
      "cell_type": "code",
      "source": [
        "OJsonDirFindFilter = clJsonDirFindFilter('/content/vd17-dump/json')"
      ],
      "metadata": {
        "colab": {
          "base_uri": "https://localhost:8080/"
        },
        "id": "X7mJptJhv5Uj",
        "outputId": "bd921516-aae6-4ae9-dd0c-42e8e43d8628"
      },
      "execution_count": 14,
      "outputs": [
        {
          "output_type": "stream",
          "name": "stdout",
          "text": [
            "['grc;lat', 'heb', 'fre', 'ita', 'grc;heb', 'lat', 'fre', 'ita', 'fre', 'fre', 'lat', 'fre', 'spa', 'lat', 'heb', 'fre', 'fre', 'spa', 'fre', 'fre', 'lat', 'ita', 'eng', 'ger', 'ita', 'grc', 'lat', 'fre', 'lat', 'ita', 'spa', 'lat', 'ger', 'fre', 'fre', 'fre', 'fre', 'ita', 'ita', 'ger', 'dut', 'lat', 'eng', 'dut', 'dut', 'eng', 'eng', 'fre', 'eng', 'swe', 'fre', 'fre', 'ita', 'ita', 'lat', 'eng', 'eng', 'fre', 'fre;dut', 'fre', 'fre', 'dut', 'dut', 'rus', 'fre', 'eng', 'eng', 'eng', 'ger', 'fre', 'lat', 'lat', 'eng', 'fre', 'ota', 'grc', 'ita;fre;dut', 'fre', 'ita', 'dut', 'fre', 'fre', 'dut', 'dut', 'lat', 'dut', 'fre', 'fre', 'lat', 'lat', 'ger', 'fre', 'lat', 'ita', 'syr;grc', 'grc', 'ita', 'lat', 'lat', 'fre', 'ger', 'grc', 'lat', 'lat', 'lat', 'lat', 'fre', 'fre;ita', 'grc', 'fre', 'fre', 'fre', 'fre', 'fre', 'fre', 'fre', 'grc', 'spa', 'fre', 'heb', 'ita', 'dut', 'lat', 'eng', 'fre', 'lat', 'cze', 'lat', 'lat', 'lat', 'lat', 'fre', 'spa', 'spa', 'fre', 'fre', 'fre', 'lat', 'heb', 'ita', 'dut', 'fre', 'dut', 'ger', 'eng', 'lat', 'ita', 'ita', 'grc', 'spa', 'lat', 'ita', 'ita', 'ita', 'ita', 'dan', 'dan', 'eng', 'lat', 'lat', 'ita', 'lat', 'eng', 'eng', 'dut;lat', 'heb', 'ita', 'fre', 'ita', 'ita', 'eng', 'fre', 'ita', 'fre', 'lat', 'fre', 'lat', 'fre', 'lat', 'dut', 'dut', 'heb', 'spa', 'ger', 'lat;fre', 'fre', 'eng', 'cze', 'ita', 'lat', 'dut', 'ita', 'eng', 'eng', 'eng', 'lat', 'lat', 'fre', 'ita', 'ita', 'fre', 'lat', 'lat', 'ger', 'ita', 'lat', 'ita', 'fre', 'fre', 'lat', 'spa', 'eng', 'lat', 'ita', 'lat', 'grc', 'lat', 'ger', 'grc', 'ger', 'heb;grc', 'fre', 'lat', 'grc', 'dut;ita', 'ita', 'lat;grc', 'lat', 'ger', 'dut', 'fre', 'lat', 'ita', 'ota', 'lat', 'dut;ita', 'grc', 'fre', 'lat', 'spa', 'lat', 'lat', 'ita', 'dut', 'ger', 'ita', 'grc;heb', 'lat', 'dut', 'fre', 'ita', 'fre', 'ita', 'fre;dut', 'lat', 'dut', 'fre', 'dut', 'eng', 'ger', 'fre', 'fre', 'lat', 'lat', 'eng', 'dut', 'lat', 'lat', 'dut', 'dut', 'dut', 'dut', 'dut', 'dut', 'eng', 'fre', 'lat', 'lat', 'fre', 'fre', 'fre', 'fre', 'dut', 'fre', 'eng', 'syr;grc', 'lat', 'ita', 'ita', 'dut', 'lat', 'eng', 'eng', 'fre', 'eng', 'eng', 'eng', 'eng', 'eng', 'eng', 'eng', 'eng', 'eng', 'eng', 'eng', 'eng', 'eng', 'dut', 'ger', 'eng', 'fre', 'dut', 'eng', 'eng', 'fre', 'ger', 'lat', 'eng', 'ota', 'eng', 'fre', 'fre', 'fre', 'eng', 'fre', 'dut', 'lat', 'fre', 'fre', 'ita', 'heb', 'heb', 'fre;lat', 'ger', 'swe', 'ita', 'eng', 'grc', 'swe', 'lat', 'lat', 'lat', 'ita', 'lat', 'dut', 'swe', 'swe', 'dut', 'swe', 'swe', 'ita', 'ita', 'fre', 'fre', 'eng', 'ger', 'lat', 'ita', 'ita', 'ita', 'fre', 'lat', 'fre', 'lat', 'lat', 'lat', 'fre', 'ger', 'ita', 'lat', 'lat', 'fre', 'dut', 'fre', 'fre', 'lat', 'ger', 'lat', 'eng', 'lat', 'eng', 'fre', 'lat', 'dut', 'dut', 'eng', 'ita', 'eng', 'dut', 'dut', 'fre', 'lat', 'eng', 'eng', 'ita', 'lat', 'fre', 'lat', 'cze', 'eng', 'dut', 'dut', 'dut', 'nds', 'swe', 'ita', 'lat', 'lat', 'lat', 'fre', 'grc', 'fre', 'fre', 'fre', 'spa', 'fre', 'lat', 'fre', 'fre', 'ita', 'lat', 'lat', 'eng', 'ita', 'spa', 'lat', 'lat', 'lat', 'lat', 'lat', 'lat', 'grc', 'fre', 'cze', 'ger', 'lat', 'fre', 'lat', 'grc', 'lat', 'ita', 'cze', 'ita', 'ger', 'lat', 'lat', 'ita', 'lat', 'eng', 'fre', 'lat', 'lat', 'spa', 'lat', 'fre', 'lat', 'lat', 'spa', 'fre', 'ita', 'dut', 'fre', 'lat', 'dut', 'dut', 'lat', 'lat', 'fre', 'grc', 'ita', 'lat', 'spa', 'spa', 'spa', 'fre', 'dut', 'ita', 'ita', 'ita', 'fre', 'ita', 'lat', 'lat', 'ita', 'fre', 'spa', 'ita', 'fre', 'fre', 'dut', 'ita', 'fre', 'fre', 'lat', 'ita', 'spa', 'lat', 'fre', 'ita', 'ita', 'ita', 'fre', 'dut', 'dut', 'eng', 'lat', 'fre', 'fre', 'eng', 'spa', 'ita', 'dut', 'dut', 'fre', 'ger', 'fre', 'lat', 'spa', 'lat', 'eng', 'eng', 'lat', 'ita', 'lat', 'fre', 'ita', 'fre', 'ita', 'heb', 'lat', 'lat', 'fre', 'lat', 'lat', 'fre', 'eng;ita', 'eng;ita', 'fre', 'fre', 'lat', 'ita', 'fre', 'fre', 'lat', 'lat', 'spa', 'spa', 'fre', 'ita', 'ita', 'lat', 'fre', 'eng', 'fre', 'eng', 'fre', 'fre', 'eng', 'lat', 'lat', 'grc', 'ita', 'ita', 'heb', 'fre', 'grc', 'grc', 'ita', 'ita', 'grc', 'lat', 'fre', 'lat', 'lat', 'lat', 'lat', 'lat', 'lat', 'lat', 'fre', 'heb;grc', 'ger', 'lat', 'eng', 'grc', 'eng', 'ita', 'eng', 'lat', 'dut', 'grc', 'lat', 'heb;grc', 'lat', 'ita', 'lat', 'heb', 'lat', 'ita', 'fre', 'ara', 'lat', 'lat', 'lat', 'dut', 'dut', 'lat', 'lat', 'lat', 'eng', 'grc', 'fre', 'fre', 'lat', 'eng', 'fre', 'dut', 'fre', 'lat', 'ita;lat', 'lat', 'dut', 'lat', 'fre', 'spa', 'heb', 'fre', 'ger', 'ita', 'heb;grc', 'fre', 'ger', 'lat;fre', 'lat', 'lat', 'lat', 'fre', 'spa', 'ita', 'heb', 'heb;grc', 'lat', 'lat', 'lat', 'lat', 'dut', 'lat', 'ara', 'lat', 'fre', 'lat', 'lat', 'lat', 'fre', 'per', 'eng', 'lat', 'grc', 'grc', 'fre', 'lat', 'spa', 'lat', 'fre', 'fre', 'spa', 'spa', 'spa', 'ita', 'lat;fre', 'dut', 'ita', 'fre', 'dut', 'dut', 'eng', 'eng', 'eng', 'eng', 'lat', 'ita', 'lat', 'lat;grc', 'lat', 'lat', 'lat', 'lat', 'ita', 'spa', 'spa', 'ita', 'ita', 'fre', 'spa', 'dan', 'ita', 'ita', 'ita', 'lat', 'grc', 'spa', 'fre', 'lat', 'grc', 'dut', 'ita', 'pol', 'fre', 'fre', 'eng', 'spa', 'ita', 'ita', 'ita', 'lat', 'spa', 'spa', 'spa', 'dut', 'fre', 'lat', 'lat', 'fre;ita;spa', 'fre', 'ita', 'lat', 'lat', 'ita', 'ita', 'heb', 'heb', 'lat', 'grc', 'lat', 'ita', 'ita', 'eng', 'eng', 'lat', 'lat', 'ita', 'lat', 'grc', 'pol', 'pol', 'pol', 'fre', 'fre', 'ita', 'grc', 'grc', 'grc', 'grc', 'fre', 'fre', 'fre', 'lat', 'grc', 'grc', 'lat', 'spa', 'ita', 'dan', 'lat', 'lat', 'lat', 'cze', 'lat', 'fre', 'lat', 'lat', 'dut', 'ita', 'ita', 'ita', 'spa', 'ger', 'spa', 'lat', 'ger', 'spa', 'lat', 'ita', 'spa', 'spa', 'dut', 'dut', 'eng;dut', 'dut', 'lat', 'lat', 'fre', 'lat', 'ita', 'ger', 'ara', 'spa', 'grc', 'fre', 'lat', 'lat', 'lat', 'lat', 'fre', 'lat', 'ita', 'dut', 'fre', 'eng', 'ita', 'ita', 'fre', 'spa', 'spa', 'spa', 'ita', 'eng', 'lat', 'lat', 'lat', 'lat', 'fre', 'fre', 'fre', 'fre', 'fre', 'fre', 'ita', 'lat', 'ita', 'lat', 'ita', 'ita', 'ita', 'fre', 'ita', 'lat', 'lat', 'lat', 'lat', 'fre', 'lat', 'lat', 'ita', 'fre', 'lat', 'spa', 'grc', 'grc', 'grc', 'grc', 'lat', 'fre', 'ger', 'pol', 'eng', 'cze', 'spa', 'lat', 'spa', 'lat', 'fre', 'fre', 'lat', 'lat', 'lat', 'fre', 'ita', 'ita', 'ita', 'lat', 'ger', 'lat', 'eng', 'lat', 'lat', 'lat', 'ita', 'fre', 'ita', 'fre', 'lat', 'spa', 'ita', 'lat', 'fre', 'fre', 'ger', 'spa;lat', 'spa;lat', 'spa;lat', 'spa;lat', 'spa;lat', 'spa;lat', 'lat', 'lat', 'lat', 'lat', 'fre', 'ger', 'lat', 'lat', 'grc', 'grc', 'lat', 'ita', 'grc', 'ita', 'ita', 'fre', 'lat', 'fre', 'lat', 'fre', 'ita', 'spa', 'lat', 'dut', 'dut', 'spa', 'eng', 'fre', 'lat', 'ger', 'grc', 'spa', 'fre', 'fre', 'lat', 'spa', 'spa', 'ota', 'fre', 'lat', 'lat', 'fre', 'fre', 'ita', 'ita', 'fre', 'eng', 'eng', 'grc;heb', 'fre', 'eng', 'eng', 'fre', 'lat', 'lat', 'lat', 'fre', 'lat', 'lat', 'spa', 'spa', 'spa', 'spa', 'lat', 'spa', 'eng', 'eng', 'spa', 'lat', 'fre', 'eng', 'lat', 'grc;heb', 'fre', 'fre', 'fre', 'lat', 'lat', 'dut', 'fre', 'lat', 'eng', 'eng', 'fre', 'lat', 'ita', 'fre', 'dut', 'dut', 'eng', 'fre', 'lat', 'fre', 'fre', 'fre', 'fre', 'fre', 'ita', 'ita', 'fre', 'fre', 'fre', 'nds', 'lat', 'fre', 'ita', 'lat', 'grc', 'fre', 'swe', 'fre', 'spa', 'fre', 'fre', 'fre', 'lat', 'fre', 'spa', 'ita', 'ita', 'ita', 'ita', 'fre', 'lat', 'lat', 'swe', 'lat', 'lat', 'grc', 'eng', 'lat', 'dut', 'spa', 'eng', 'lat', 'lat', 'ita', 'lat', 'fre', 'fre', 'fre', 'eng', 'ger', 'dut', 'ita', 'fre', 'spa', 'spa', 'ita', 'fre', 'lat', 'lat', 'ita', 'ita', 'ger', 'eng', 'eng', 'grc', 'grc', 'fre', 'heb', 'ger', 'grc', 'grc', 'ger;pol', 'lat', 'ger', 'ita', 'grc', 'lat', 'heb', 'lat', 'dut', 'spa', 'lat', 'lat', 'ita', 'fre', 'pol', 'lat', 'lat', 'lat', 'lat', 'lat', 'dut', 'lat', 'lat', 'eng', 'grc', 'heb', 'ger', 'lat', 'grc', 'dut', 'dut', 'ger', 'ger', 'dut', 'dut', 'eng', 'dut', 'ita', 'eng', 'swe', 'grc', 'nds', 'eng', 'dut', 'fre', 'dut', 'spa', 'fre', 'eng', 'fre', 'lat', 'fre', 'eng', 'eng', 'heb', 'dut', 'dut', 'dut', 'dut', 'dut', 'dut', 'ger', 'lat', 'fre', 'lat', 'dut', 'dut', 'dut', 'fre', 'fre', 'ita', 'lat', 'lat', 'eng', 'fre', 'fre', 'fre', 'ita', 'fre', 'fre', 'eng', 'fre', 'lat', 'lat', 'ita', 'lat', 'grc', 'lat', 'eng', 'eng', 'eng', 'fre', 'eng', 'eng', 'lat', 'lat', 'dut', 'lat', 'dut', 'lat', 'dut', 'fre', 'lat', 'lat', 'ita', 'lat', 'lat', 'lat', 'eng', 'eng', 'fre', 'ita', 'ita', 'ita', 'lat', 'heb;grc', 'lat', 'fre', 'dut', 'dut', 'dut', 'dut', 'ita', 'spa', 'grc', 'lat', 'grc', 'fre', 'fre', 'spa', 'ger', 'lat', 'ita', 'spa', 'spa', 'spa', 'spa', 'ita', 'ita', 'ger', 'fre', 'spa', 'lat', 'por', 'por', 'ita', 'ita', 'ita', 'eng', 'eng', 'heb', 'grc', 'grc', 'lat', 'ger', 'eng', 'eng', 'dut', 'grc', 'lat', 'eng', 'lat', 'fre', 'fre', 'fre', 'fre', 'fre', 'dut', 'eng', 'dut', 'lat', 'spa', 'lat', 'fre', 'lat', 'heb', 'fre', 'fre', 'ita', 'fre', 'lat', 'lat', 'dut', 'heb', 'dut', 'dut', 'fre', 'fre', 'fre', 'fre', 'fre', 'fre', 'lat', 'grc', 'lat', 'heb', 'fre', 'eng', 'fre', 'dut', 'lat', 'lat', 'lat', 'ita', 'fre', 'fre', 'heb', 'fre', 'fre', 'fre', 'eng', 'fre', 'fre', 'fre', 'fre', 'lat', 'lat', 'eng', 'ger', 'lat', 'grc', 'lat', 'grc', 'lat', 'eng', 'ita', 'fre;dut', 'spa', 'spa', 'spa', 'grc', 'lat', 'lat', 'cze', 'lat', 'cze', 'spa', 'fre', 'eng', 'eng', 'eng', 'eng', 'dut', 'lat', 'fre', 'lat', 'lat', 'fre', 'ger', 'lat', 'lat', 'lat', 'ita', 'lat', 'eng', 'ita', 'fre', 'lat', 'fre', 'fre', 'por', 'dut', 'dut', 'lat', 'fre', 'dut', 'dut', 'ita', 'lat', 'spa', 'lat', 'fre', 'fre', 'eng', 'fre', 'fre', 'dan', 'ita', 'fre', 'fre', 'fre', 'lat', 'lat', 'eng', 'ita', 'dut', 'fre', 'ita;lat', 'grc', 'heb;grc', 'ita', 'fre', 'fre', 'fre', 'ita', 'ita', 'spa', 'fre', 'ita', 'fre', 'eng', 'lat', 'eng', 'lat', 'grc', 'lat', 'fre', 'lat', 'fre', 'fre', 'fre;ita;lat;grc', 'ita', 'lat;grc', 'eng', 'lat', 'eng', 'eng', 'ger', 'ita', 'lat', 'spa', 'fre', 'grc', 'ita', 'dut', 'dut', 'ger', 'fre', 'lat', 'lat', 'dut', 'ger', 'fre', 'fre', 'ita', 'ita', 'fre', 'eng', 'lat', 'fre', 'fre', 'heb', 'fre', 'ita', 'eng', 'lat', 'fre', 'ita', 'ita', 'ita', 'fre', 'eng', 'dut', 'fre', 'fre', 'lat;grc', 'ita', 'ita', 'hun', 'swe', 'ita', 'spa', 'lat', 'fre', 'spa', 'spa', 'fre', 'fre', 'lat', 'lat', 'fre', 'por', 'por', 'por', 'lat', 'lat', 'fre', 'fre', 'ger', 'ita', 'ita', 'lat', 'lat', 'lat', 'lat', 'fre', 'fre', 'ita', 'ita', 'ita', 'spa', 'fre', 'ita', 'spa', 'lat', 'cze', 'grc', 'lat', 'ita', 'spa', 'spa', 'spa', 'spa', 'spa', 'spa', 'ita', 'heb', 'lat', 'heb', 'fre', 'dut', 'spa', 'ita', 'ita', 'grc', 'fre', 'fre', 'ita', 'ger', 'fre', 'lat', 'fre', 'fre', 'fre', 'fre', 'dut', 'fre', 'dut', 'fre', 'lat', 'lat', 'fre', 'swe', 'fre', 'fre', 'pol', 'lat', 'pol', 'dut', 'lat', 'lat', 'fre', 'eng', 'fre', 'fre', 'eng', 'lat', 'dut', 'fre', 'lat', 'grc', 'fre', 'fre', 'eng', 'swe', 'lat', 'fre', 'ita', 'grc;lat', 'fre', 'lat', 'lat', 'lat', 'eng', 'lat', 'dut', 'dut', 'dut', 'ita', 'ita', 'ita', 'ita', 'ita', 'lat', 'spa', 'ger', 'ita', 'ita', 'ita', 'spa', 'lat', 'lat', 'dut', 'lat', 'spa', 'spa', 'lat', 'lat', 'lat', 'lat', 'fre', 'lat', 'dut', 'ita', 'fre', 'ita', 'fre', 'lat', 'fre', 'pol', 'spa', 'heb', 'heb;grc', 'lat', 'fre', 'dut', 'fre', 'dut', 'ger', 'dut', 'eng', 'lat', 'lat', 'fre', 'dut', 'ita', 'lat', 'eng', 'swe', 'fre', 'lat', 'fre', 'grc', 'fre', 'ger', 'lat', 'lat', 'fre', 'grc', 'lat', 'fre', 'fre', 'gre', 'grc', 'lat', 'lat', 'dut', 'grc', 'spa', 'lat', 'lat;ita', 'ger', 'pol', 'lat', 'lat', 'lat', 'lat', 'eng', 'ita', 'fre', 'eng', 'ita', 'lat', 'dut', 'dut', 'dut', 'dut', 'dut', 'dut', 'dut', 'lat', 'spa', 'lat', 'dut', 'dut', 'ita', 'ita', 'ita', 'dut', 'heb', 'dut', 'dut', 'dut', 'ita', 'eng', 'eng', 'eng', 'ita', 'fre', 'eng', 'ita', 'ita', 'grc', 'eng', 'lat', 'eng', 'eng', 'eng', 'lat', 'fre', 'ita', 'ita', 'eng', 'lat', 'fre', 'ita', 'swe', 'dut', 'lat', 'lat', 'nds', 'lat', 'dut', 'dut', 'dut', 'ita', 'fre', 'fre', 'lat', 'lat', 'lat', 'spa', 'fre', 'fre', 'eng', 'ger', 'eng', 'eng', 'eng', 'fre', 'lat', 'dut', 'fre', 'dut;lat', 'dut;lat', 'dut', 'ita', 'fre', 'fre', 'lat', 'ita', 'ita', 'fre', 'fre', 'fre', 'fre', 'lat;fre', 'eng', 'lat', 'dut', 'fre', 'eng', 'lat', 'ger', 'heb;grc', 'lat', 'dut', 'ita', 'lat', 'fre', 'ger', 'ita', 'spa', 'ita', 'ita', 'lat', 'lat', 'spa', 'fre', 'spa', 'fre', 'ita', 'lat', 'lat', 'cze', 'cze', 'cze', 'lat', 'lat', 'fre', 'fre', 'cze', 'cze', 'lat', 'fre;dut', 'ita;lat', 'ita', 'dut', 'fre', 'ita', 'spa', 'lat', 'ita', 'fre', 'fre', 'ita', 'lat', 'lat', 'grc', 'fre', 'grc', 'heb;grc', 'heb;grc', 'fre', 'lat', 'eng', 'lat', 'lat', 'lat', 'lat', 'ita', 'fre', 'grc', 'grc', 'lat', 'eng', 'ita', 'ger', 'grc', 'heb;grc', 'heb;grc', 'fre', 'eng', 'ita', 'fre', 'ita', 'ita', 'por', 'por', 'por', 'por', 'fre', 'eng', 'lat', 'lat', 'fre', 'lat', 'dut;fre', 'lat', 'fre', 'ita', 'dut', 'eng', 'lat', 'ger', 'dut', 'fre', 'lat;fre', 'eng', 'fre', 'fre', 'fre', 'fre', 'fre', 'fre', 'ita', 'lat', 'lat', 'dut', 'lat', 'spa', 'ita', 'eng', 'ita', 'eng', 'fre', 'fre', 'fre', 'fre', 'fre', 'fre', 'ger', 'ita', 'ger', 'dut', 'fre', 'lat', 'ita', 'ita', 'spa', 'fre', 'ita', 'lat', 'lat', 'cze', 'ita', 'ita', 'ita', 'grc', 'lat', 'lat', 'dut', 'fre', 'lat', 'lat', 'fre', 'fre', 'fre', 'spa', 'ita', 'ita', 'fre', 'fre', 'ita', 'ita', 'ita', 'lat', 'lat', 'eng', 'ita', 'ita', 'fre', 'eng', 'lat', 'eng', 'eng', 'ita', 'fre', 'fre', 'ita', 'heb', 'grc;lat', 'fre', 'grc', 'lat', 'gre;heb', 'spa', 'fre', 'ara', 'lat', 'lat', 'lat', 'lat', 'lat', 'lat', 'lat', 'ita;spa;lat', 'ita;spa;lat', 'ita', 'fre', 'spa', 'spa', 'ger', 'lat', 'ger;lat', 'fre', 'lat', 'ita', 'lat', 'fre', 'spa', 'ita', 'ita', 'spa', 'dut', 'fre', 'lat', 'ita', 'lat;fre', 'grc', 'fre', 'spa', 'fre', 'fre', 'ita', 'ita', 'ger', 'lat', 'fre', 'ita', 'ita', 'spa', 'lat', 'lat', 'lat', 'ita', 'fre', 'lat', 'fre', 'lat', 'lat', 'ita', 'ita', 'lat', 'lat', 'dut', 'dut', 'fre', 'heb;grc', 'lat', 'lat', 'heb', 'ger', 'eng', 'fre', 'lat', 'fre', 'grc', 'ita', 'cze', 'lat', 'lat', 'fre', 'fre', 'fre', 'lat', 'lat', 'spa', 'dut', 'fre', 'lat', 'lat', 'lat', 'dut', 'dut', 'lat', 'fre', 'lat', 'ita', 'lat', 'lat', 'grc', 'ita', 'dut', 'fre', 'swe', 'swe', 'grc', 'dut', 'dut', 'ita', 'lat', 'swe', 'lat', 'lat', 'lat', 'lat', 'lat', 'lat', 'lat', 'lat', 'lat', 'lat;spa', 'dut', 'ita', 'ita', 'grc', 'spa', 'lat;grc', 'fre', 'ger', 'eng', 'lat', 'ger', 'grc', 'grc', 'ger', 'fre', 'spa', 'grc', 'ita', 'eng', 'lat', 'ita', 'dan', 'ita', 'ita', 'ita', 'ita', 'fre', 'lat', 'fre', 'fre', 'grc', 'heb', 'fre', 'ita', 'ger', 'heb', 'fre', 'eng', 'fre', 'dut', 'dut', 'fre', 'fre;dut', 'lat', 'lat', 'lat', 'dut', 'fre;dut', 'eng', 'eng', 'dut', 'fre', 'grc', 'lat', 'ita', 'fre', 'fre', 'fre', 'ger', 'dut', 'spa', 'spa', 'lat', 'lat', 'lat', 'dut', 'spa', 'fre', 'ara', 'lat', 'fre', 'spa', 'ger', 'ita', 'grc', 'spa', 'eng', 'spa', 'lat', 'dut', 'fre', 'ita', 'lat', 'fre', 'fre', 'lat', 'ita', 'lat;ita', 'fre', 'swe', 'spa', 'fre', 'ita', 'lat', 'lat', 'ita', 'ita', 'spa', 'ita', 'eng', 'spa', 'swe', 'lat', 'lat', 'lat', 'spa', 'spa', 'dut', 'spa', 'spa', 'fre;lat', 'lat', 'eng', 'lat', 'fre', 'ger', 'ita', 'fre', 'ita', 'eng', 'lat', 'lat', 'grc', 'lat', 'fre', 'spa', 'grc', 'ara', 'lat', 'lat', 'spa', 'ita', 'fre', 'lat', 'spa', 'fro', 'eng', 'fre', 'grc', 'lat', 'spa', 'spa', 'grc', 'ger', 'ita', 'dut', 'dut', 'fre', 'spa', 'lat', 'ger', 'ger', 'fre', 'fre', 'lat', 'lat', 'grc', 'eng', 'eng', 'swe', 'swe', 'fre', 'fre', 'fre', 'fre', 'fre', 'lat', 'ita', 'lat', 'fre', 'fre', 'fre', 'fre', 'eng', 'lat', 'fre', 'ita', 'fre', 'fre', 'fre', 'fre', 'ita', 'fre', 'fre', 'lat', 'ger', 'eng', 'dut', 'fre', 'fre', 'fre', 'grc', 'lat', 'fre', 'fre', 'eng', 'nds', 'nds', 'ger', 'dut', 'ita', 'ita', 'lat', 'fre', 'fre', 'ita', 'dut', 'swe', 'ger', 'fre', 'ita', 'dut', 'fre', 'eng', 'fre', 'ita', 'fre', 'ita', 'ita', 'grc', 'fre', 'ita', 'ita', 'ita', 'ita', 'grc', 'spa', 'grc', 'lat', 'lat', 'fre', 'ger', 'ita', 'lat', 'lat', 'lat', 'spa', 'lat', 'lat', 'fre', 'fre', 'lat', 'ita', 'ita', 'ita', 'ita', 'ita', 'ita', 'lat', 'ita', 'fre', 'ita', 'ita', 'ita', 'lat', 'swe', 'ita', 'ger', 'fre', 'fre', 'eng', 'ara', 'fre', 'fre', 'fre;lat', 'lat;grc', 'ita;lat', 'fre', 'nds', 'fre', 'fre', 'lat', 'ita;lat', 'ita;lat', 'lat', 'lat', 'lat', 'ita', 'eng', 'heb;grc', 'heb;grc', 'lat', 'lat', 'lat', 'ita', 'eng', 'ita', 'ger', 'dut', 'ger', 'ger', 'dut', 'fre', 'lat', 'dut', 'fre', 'ger', 'lat', 'fre', 'fre', 'ger', 'lat', 'ita', 'lat', 'eng', 'dut;eng', 'lat', 'fre', 'grc', 'lat', 'ita', 'spa', 'ita', 'ita', 'ita', 'fre', 'fre', 'fre', 'lat', 'dut', 'lat', 'dut', 'dan', 'lat;ger', 'swe', 'swe', 'fre', 'swe', 'lat', 'lat', 'dut', 'dan', 'dan', 'ita', 'ita', 'fre', 'dut', 'lat', 'eng', 'eng', 'fre', 'ita', 'grc', 'lat', 'eng', 'dan', 'spa', 'spa', 'spa', 'lat', 'lat', 'lat', 'lat', 'dut', 'dut', 'dut', 'eng', 'dut', 'spa', 'lat', 'eng', 'lat', 'eng', 'ger', 'spa', 'lat', 'lat', 'grc', 'spa', 'lat', 'dut', 'fre', 'ita', 'fre', 'eng', 'grc', 'spa', 'eng', 'ger', 'fre', 'ita', 'ita', 'fre', 'lat', 'grc', 'grc', 'ita', 'lat', 'dut', 'lat', 'dut', 'fre', 'fre', 'lat', 'fre', 'ita', 'ger', 'spa', 'fre', 'fre', 'ita', 'fre', 'dut', 'ita', 'por', 'fre', 'lat', 'lat', 'lat', 'grc', 'lat', 'lat', 'fre', 'lat', 'ita', 'ger', 'dut', 'grc', 'grc', 'heb', 'dut', 'ger', 'ita', 'ita', 'ita', 'fre', 'fre', 'fre', 'fre', 'fre;eng', 'lat', 'grc', 'fre', 'fre', 'eng', 'spa', 'lat', 'fre', 'fre', 'lat', 'lat', 'ita', 'fre', 'fre', 'fre', 'fre', 'fre', 'lat', 'fre', 'dut', 'ger', 'fre', 'fre', 'ita', 'fre', 'ara', 'lat', 'eng', 'eng', 'lat', 'spa', 'fre', 'spa', 'lat', 'lat', 'pol', 'dut', 'ita', 'fre', 'eng', 'fre', 'fre', 'fre', 'fre;lat', 'ita', 'fre', 'dut', 'fre', 'ita', 'lat', 'grc', 'lat', 'fre', 'ita', 'ita', 'fre', 'fre', 'ita', 'ita', 'eng', 'ita', 'ita', 'fre', 'dut', 'eng', 'eng', 'eng', 'fre', 'fre', 'fre', 'fre', 'eng', 'lat', 'grc', 'grc', 'lat', 'swe', 'lat', 'fre', 'fre', 'ita', 'ita', 'lat', 'lat', 'lat', 'fre', 'lat', 'ita', 'eng', 'ita', 'fre', 'spa;fre', 'ita', 'dut', 'dut', 'fre', 'eng', 'fre', 'ita', 'ita', 'fre', 'dut', 'lat', 'eng', 'fre', 'fre', 'fre', 'fre', 'eng', 'heb', 'fre', 'fre', 'fre', 'fre', 'fre', 'eng', 'eng', 'fre', 'ger', 'ger', 'pol', 'fre', 'lat', 'grc', 'grc', 'lat', 'ita', 'lat', 'ita', 'lat', 'eng', 'eng', 'eng', 'eng', 'dut', 'dut', 'spa', 'spa', 'spa', 'ita', 'dut', 'ita', 'fre', 'lat', 'ita', 'fre', 'fre', 'lat', 'heb', 'eng', 'eng', 'dut;lat', 'lat', 'eng', 'eng', 'eng', 'spa', 'spa', 'lat', 'lat', 'fre', 'fre', 'fre', 'fre', 'ita', 'ita', 'ita', 'ita', 'fre', 'eng', 'lat', 'dut', 'eng', 'ita', 'fre', 'fre', 'grc', 'dut', 'fre', 'fre', 'lat', 'fre', 'fre', 'fre', 'lat', 'lat', 'dut', 'lat', 'dut', 'eng', 'lat', 'fre', 'fre', 'lat', 'lat', 'lat', 'lat', 'dut', 'ita;fre;spa', 'dan', 'dut', 'fre', 'lat', 'lat', 'fre', 'fre', 'dut', 'dut', 'ger', 'ger', 'ger', 'ger', 'ger', 'ger', 'dut', 'ger', 'ita', 'lat', 'fre', 'lat', 'lat', 'lat', 'ger', 'ita', 'eng', 'lat', 'spa', 'spa', 'spa', 'lat', 'ger', 'fre', 'lat', 'lat', 'lat', 'lat', 'spa', 'ita;spa;lat', 'lat', 'fre', 'dut;fre', 'lat', 'spa', 'grc', 'fre;lat', 'spa', 'lat', 'ita', 'ara', 'fre', 'spa', 'dut', 'ita', 'dut', 'lat', 'lat', 'lat', 'lat', 'grc', 'ger', 'ger', 'ger', 'fre', 'grc', 'dut', 'grc', 'grc', 'lat', 'fre', 'dut', 'ita', 'ita', 'dut', 'ger', 'ita', 'spa', 'eng', 'eng', 'ita', 'dut', 'lat', 'fre', 'lat', 'ita', 'heb', 'ita', 'spa', 'lat', 'lat', 'ita', 'ita', 'dan', 'lat', 'lat', 'lat', 'eng', 'fre', 'fre', 'lat', 'ger', 'ger', 'lat', 'ita', 'lat', 'fre', 'fre', 'fre', 'por', 'eng', 'lat', 'fre', 'fre', 'spa', 'eng', 'dut', 'dut', 'dut', 'dut', 'ita', 'lat', 'ita', 'eng', 'dut', 'lat', 'fre', 'fre', 'lat', 'lat', 'fre', 'ita', 'fre', 'lat', 'fre', 'ita', 'dut', 'lat', 'lat', 'ita', 'dut', 'ita', 'ita', 'ita', 'ita', 'ita', 'lat', 'ger', 'ita', 'ita', 'fre', 'fre', 'lat', 'spa', 'grc', 'ita', 'grc', 'eng', 'lat', 'dut', 'eng', 'dut', 'fre', 'lat', 'ita', 'ita', 'ita', 'ita', 'eng', 'fre', 'lat', 'ota', 'fre', 'fre', 'heb', 'fre', 'ita', 'ita', 'ita', 'ita', 'lat', 'lat', 'lat', 'lat', 'eng', 'fre', 'lat', 'ita', 'fre', 'lat', 'lat', 'lat', 'ita', 'fre', 'lat', 'spa;lat', 'spa;lat', 'spa;lat', 'ger', 'dut', 'fre', 'lat', 'ita', 'ita', 'ita', 'dut', 'dut', 'fre', 'spa', 'lat', 'lat', 'lat', 'lat', 'lat', 'fre', 'eng', 'lat', 'lat', 'lat', 'lat', 'lat', 'fre', 'fre', 'lat', 'eng', 'ger', 'lat', 'lat', 'lat', 'fre', 'fre', 'grc', 'grc', 'dan', 'dan', 'eng', 'fre', 'eng', 'eng', 'eng', 'fre', 'fre', 'eng', 'lat', 'cat', 'fre', 'lat', 'lat', 'eng', 'grc', 'fre', 'fre', 'fre', 'fre', 'eng', 'fre', 'fre', 'fre', 'ger', 'ger', 'fre', 'fre', 'fre', 'eng', 'lat', 'dut', 'lat', 'eng', 'grc', 'grc', 'fre', 'grc', 'lat', 'eng', 'eng', 'lat', 'lat', 'swe', 'lat', 'lat', 'lat', 'lat', 'lat', 'grc', 'lat', 'dut', 'lat', 'dut', 'lat', 'spa', 'cze', 'dut', 'ita', 'ita', 'lat', 'fre', 'lat', 'lat', 'dut', 'dut', 'ita', 'fre', 'fre', 'lat', 'dut', 'ita', 'fre', 'fre', 'fre', 'lat', 'spa', 'fre', 'fre', 'fre', 'spa', 'grc', 'fre', 'fre', 'grc', 'ita', 'ara', 'fre', 'fre', 'eng', 'spa', 'spa', 'ita', 'grc', 'dut', 'spa', 'lat', 'dut', 'dut', 'spa', 'fre', 'ger', 'ita', 'spa', 'lat', 'ita', 'lat', 'lat', 'grc', 'lat', 'lat', 'fre', 'grc', 'lat', 'lat', 'fre', 'fre', 'fre', 'lat', 'fre', 'eng', 'eng', 'eng', 'lat', 'ger', 'fre', 'lat', 'spa', 'spa', 'lat', 'lat', 'ger', 'eng', 'ita', 'fre', 'fre', 'fre', 'fre', 'ita', 'heb', 'ita', 'fre', 'fre', 'lat', 'ita;dut', 'lat', 'eng', 'eng', 'eng', 'eng', 'eng', 'lat', 'grc', 'grc', 'fre', 'lat', 'ita;dut', 'fre', 'eng', 'eng', 'lat', 'lat', 'dut', 'heb', 'lat', 'dut', 'lat', 'lat', 'fre', 'grc', 'heb', 'fre;lat', 'eng', 'fre', 'ita', 'ita', 'dut', 'dut', 'lat', 'fre', 'ita', 'fre', 'lat', 'ita', 'heb;grc', 'lat', 'lat', 'fre', 'eng', 'eng', 'swe', 'ita', 'lat', 'lat', 'lat', 'eng', 'dut', 'eng', 'dut;eng', 'swe', 'swe', 'eng', 'dut', 'lat', 'eng', 'eng', 'eng', 'lat', 'eng', 'eng', 'ara', 'dut', 'fre', 'dut', 'dut', 'fre', 'ota', 'eng', 'eng', 'nds', 'eng', 'ger', 'eng', 'ita', 'ger', 'ger', 'arm', 'fre', 'dut', 'spa', 'fre', 'lat', 'eng', 'fre', 'fre', 'ita', 'lat', 'lat', 'fre', 'ger', 'fre', 'eng', 'eng', 'eng', 'lat', 'grc', 'eng', 'dut', 'eng', 'eng', 'dut', 'eng', 'lat', 'ita', 'lat', 'ita;fre;dut', 'fre', 'fre', 'lat', 'lat', 'fre', 'grc', 'heb;grc', 'heb;grc', 'fre', 'fre', 'dut', 'grc', 'heb', 'heb;grc', 'dut', 'grc', 'ita', 'por', 'dut', 'eng', 'eng', 'spa', 'fre', 'ita', 'fre', 'fre;eng', 'grc', 'eng', 'tur', 'por', 'lat', 'fre', 'ita', 'lat', 'heb', 'heb;grc', 'spa', 'lat', 'grc', 'lat', 'grc', 'grc', 'ita', 'fre;lat', 'fre', 'fre', 'lat', 'lat', 'lat', 'lat', 'grc', 'fre;lat', 'ita;fre', 'heb', 'eng', 'dan', 'ita;fre', 'lat', 'fre;lat', 'fre', 'eng', 'cze', 'eng', 'ara', 'dut', 'lat', 'fre', 'ita', 'fre', 'fre', 'fre', 'fre', 'fre', 'fre', 'fre', 'fre', 'fre', 'fre', 'fre', 'fre', 'fre', 'fre', 'fre', 'fre', 'fre', 'lat', 'fre', 'dut', 'fre', 'lat', 'fre', 'fre', 'fre', 'fre', 'fre', 'fre', 'fre', 'fre', 'fre', 'fre', 'fre', 'fre', 'fre', 'fre', 'fre', 'dut', 'eng', 'ita', 'fre', 'eng', 'ita', 'eng', 'eng', 'lat', 'dut', 'eng', 'lat', 'ita', 'ita', 'ita', 'ita', 'eng', 'eng', 'dut', 'ita', 'fre', 'fre', 'fre', 'eng', 'eng', 'dut', 'ita', 'ita', 'dut', 'heb;grc', 'heb', 'spa', 'fre', 'fre', 'fre', 'fre', 'grc', 'eng', 'fre', 'spa', 'spa', 'dut', 'dut', 'fre', 'ger', 'arc;heb', 'dut', 'fre', 'fre', 'lat', 'fre', 'fre', 'eng', 'eng', 'eng', 'eng', 'fre', 'lat', 'ita', 'lat', 'ita', 'fre', 'lat', 'fre', 'fre', 'lat', 'fre', 'lat', 'eng', 'eng', 'dan', 'lat', 'lat', 'dut', 'dut', 'lat', 'ita', 'fre', 'lat', 'dut', 'lat', 'fre', 'eng', 'lat', 'ita', 'ita', 'ita', 'ita', 'fre', 'fre', 'ita', 'ita', 'fre', 'ita', 'spa', 'spa', 'fre', 'lat', 'grc', 'eng', 'fre', 'fre', 'fre', 'eng', 'fre', 'lat', 'lat', 'lat', 'eng', 'lat', 'eng', 'lat', 'lat', 'eng', 'spa', 'ger', 'lat', 'lat', 'por', 'fre', 'fre', 'grc', 'ger', 'grc', 'spa', 'grc', 'lat', 'ita', 'fre', 'lat', 'lat', 'ita', 'spa', 'spa', 'spa', 'lat', 'fre', 'lat', 'lat', 'ita', 'ita', 'ita', 'ita', 'fre', 'cze', 'grc', 'ita', 'spa', 'dut', 'lat;grc', 'dut', 'dut', 'lat', 'lat', 'lat', 'ita', 'cze', 'lat', 'ger', 'cze', 'lat', 'ger', 'lat', 'lat', 'cze', 'lat', 'lat', 'eng', 'lat', 'lat', 'lat', 'lat', 'lat', 'ita', 'cze', 'lat', 'lat', 'lat', 'lat', 'lat', 'lat', 'lat', 'cze', 'cze', 'lat', 'lat', 'lat', 'lat', 'ita', 'cze', 'cze', 'cze', 'lat', 'lat', 'ger', 'lat', 'lat', 'lat', 'fre', 'lat', 'lat', 'fre', 'fre', 'lat', 'dut', 'lat', 'lat', 'lat', 'fre', 'fre', 'dut', 'lat', 'fre', 'grc', 'dut', 'eng', 'dut', 'lat', 'dut', 'spa', 'grc', 'lat', 'lat', 'lat', 'fre', 'fre', 'ita', 'grc', 'cze', 'lat', 'eng', 'ita', 'dut', 'lat', 'fre', 'ita', 'lat', 'spa', 'fre', 'fre', 'ita', 'fre', 'lat', 'ita', 'lat', 'ger', 'fre', 'fre', 'ita', 'ita', 'fre', 'spa', 'ita', 'ita', 'ita', 'ita', 'ita', 'lat', 'ita', 'eng', 'eng', 'eng', 'eng', 'ita', 'ita', 'eng', 'fre', 'ita', 'ita', 'ita', 'eng', 'lat', 'lat', 'eng', 'fre', 'fre', 'eng', 'eng', 'ita', 'heb;grc', 'eng', 'fre', 'lat', 'lat', 'nds', 'eng', 'heb', 'fre', 'grc', 'eng', 'eng', 'fre', 'lat', 'ita', 'cze', 'lat', 'lat', 'lat', 'ita', 'lat', 'fre', 'spa', 'heb;grc', 'heb;grc', 'grc', 'grc', 'eng', 'ger', 'lat', 'ger', 'ita', 'lat', 'lat', 'grc', 'ita', 'grc', 'grc', 'lat', 'ita', 'lat', 'dut', 'ger', 'grc', 'dut', 'lat', 'fre', 'dut', 'lat', 'dut', 'cze', 'grc', 'eng', 'ita', 'fre', 'fre', 'lat', 'fre', 'fre', 'eng', 'fre', 'fre', 'spa', 'lat', 'grc', 'fre', 'fre', 'fre', 'fre', 'lat', 'lat', 'spa', 'grc', 'ita', 'spa', 'lat', 'ger', 'nds', 'lat', 'lat', 'lat', 'dut', 'fre', 'ita', 'ger', 'fre', 'ita', 'fre', 'fre', 'fre', 'fre', 'fre', 'lat', 'fre', 'eng', 'ger', 'fre', 'lat', 'spa', 'cze', 'spa', 'spa', 'spa', 'lat', 'lat', 'lat', 'lat', 'fre', 'fre', 'spa', 'spa', 'lat', 'ger', 'dut', 'fre', 'lat', 'fre', 'fre', 'lat', 'spa', 'ita', 'lat', 'lat', 'fre;lat', 'ita', 'grc', 'ita', 'lat', 'ita', 'fre', 'spa', 'spa', 'lat', 'spa', 'ita', 'ita;fre', 'lat', 'lat', 'lat', 'lat', 'lat', 'lat', 'grc', 'lat', 'lat', 'roh', 'dut', 'lat', 'lat', 'fre', 'ita', 'lat', 'lat', 'lat;fre;dut', 'fre', 'fre', 'lat', 'lat', 'lat', 'ita', 'ita', 'ita', 'fre', 'lat', 'spa', 'lat', 'lat', 'eng', 'lat', 'grc;lat', 'ger', 'fre', 'lat', 'fre', 'lat', 'spa', 'lat', 'dut', 'lat', 'fre', 'fre;lat', 'ita;lat', 'spa', 'fre', 'spa', 'lat', 'spa', 'ita', 'fre', 'lat', 'ita', 'lat', 'lat', 'heb;grc', 'heb;grc', 'heb;grc', 'heb;grc', 'heb;grc', 'heb;grc', 'heb;grc', 'heb;grc', 'fre', 'dut', 'ita', 'ita', 'fre', 'fre', 'cze', 'cze', 'lat', 'lat', 'ita', 'cze', 'lat', 'cze', 'cze', 'cze', 'cze', 'cze', 'cze', 'cze', 'fre', 'cze', 'fre', 'fre', 'ita', 'ita', 'ita', 'lat', 'cze', 'cze', 'cze', 'cze', 'cze', 'lat', 'ita', 'spa', 'ota', 'spa', 'ita', 'dut', 'spa', 'ita', 'grc', 'grc', 'grc', 'spa', 'spa', 'grc', 'fre', 'ger', 'lat;fre', 'lat', 'ger', 'fre', 'fre', 'lat', 'lat', 'lat', 'lat', 'lat', 'ger', 'lat', 'lat', 'grc', 'spa', 'lat', 'lat;fre', 'spa', 'grc', 'fre', 'fre', 'ita', 'lat', 'lat;dut', 'ita', 'lat', 'spa', 'spa', 'spa', 'lat', 'fre', 'fre', 'fre', 'fre', 'grc', 'fre', 'spa', 'spa', 'fre', 'fre', 'fre', 'spa', 'spa', 'eng', 'lat', 'lat', 'dut', 'fre', 'eng', 'eng', 'fre', 'lat', 'lat', 'ger', 'fre', 'lat', 'ita', 'fre', 'fre', 'spa', 'eng', 'eng', 'ger', 'lat', 'lat', 'fre', 'lat', 'eng', 'eng', 'ita', 'spa', 'lat', 'ita', 'lat', 'ita', 'ita', 'lat', 'ita', 'grc', 'lat', 'lat', 'lat', 'lat', 'lat', 'lat', 'lat', 'dut', 'lat', 'lat', 'fre;ita;spa', 'fre;ita', 'swe', 'lat', 'lat', 'fre', 'ger', 'eng', 'ita', 'ita', 'fre', 'fre', 'ita', 'fre', 'fre', 'lat', 'lat', 'heb', 'lat', 'eng', 'dut', 'dut', 'fre', 'grc', 'ger', 'swe', 'lat', 'spa', 'fre', 'fre', 'dut', 'fre', 'spa', 'spa', 'lat', 'eng', 'ita', 'ita', 'lat', 'ita', 'ita', 'lat', 'dut', 'grc', 'ita', 'ita', 'fre', 'ita', 'eng', 'dut', 'eng', 'ita', 'fre', 'fre', 'eng', 'eng', 'eng', 'lat', 'lat', 'por', 'lat', 'fre', 'fre', 'fre', 'lat', 'fre', 'fre', 'lat', 'dut', 'ita', 'fre', 'grc', 'fre', 'ita', 'lat', 'lat;ita', 'lat', 'lat', 'lat', 'lat', 'ita', 'fre', 'fre', 'eng', 'eng', 'ita', 'fre', 'ita', 'ita', 'ita', 'ita', 'lat', 'fre', 'fre', 'fre', 'ita', 'heb;grc', 'lat', 'lat', 'spa', 'fre', 'lat', 'lat', 'ita', 'lat', 'lat', 'spa', 'fre', 'ger', 'fre', 'fre', 'lat;grc', 'lat', 'ger', 'fre', 'lat', 'eng', 'dut', 'lat', 'lat', 'ita', 'eng', 'eng', 'eng', 'eng', 'lat;dut', 'eng', 'ara', 'eng', 'lat', 'lat', 'ita', 'eng', 'heb;grc', 'lat', 'fre', 'lat', 'fre', 'fre', 'ita', 'ita', 'dut', 'ita', 'dut', 'lat', 'lat', 'spa', 'eng', 'heb;grc', 'lat', 'grc;heb', 'fre', 'lat', 'ita', 'lat', 'lat;fre', 'lat;fre', 'grc', 'ger', 'lat', 'lat', 'grc', 'lat', 'ita', 'dut', 'eng', 'spa', 'lat', 'dut', 'grc', 'grc', 'grc', 'ger', 'ger', 'fre', 'eng', 'fre', 'spa', 'ger', 'dut', 'dut', 'dut', 'heb;grc', 'heb;grc', 'lat', 'cze', 'lat', 'lat', 'lat', 'spa', 'spa', 'spa', 'eng', 'fre', 'ita', 'ita', 'ita;lat', 'eng', 'ger', 'grc', 'lat', 'eng', 'dut', 'dut', 'dut', 'lat', 'fre', 'lat', 'swe', 'grc', 'spa', 'eng', 'ita', 'spa', 'dut', 'lat', 'dut', 'grc', 'dut', 'fre', 'grc', 'spa', 'lat', 'fre', 'grc', 'dut', 'swe', 'swe', 'lat', 'pol', 'ita', 'lat', 'lat', 'lat', 'lat', 'lat', 'ita', 'grc', 'ita', 'eng', 'swe', 'swe', 'eng', 'lat', 'ger', 'lat', 'ita', 'swe', 'swe', 'lat', 'fre', 'ita', 'ger', 'lat', 'grc', 'heb;grc', 'heb', 'heb', 'ger', 'por', 'fre', 'lat', 'lat', 'grc', 'fre', 'fre', 'lat', 'lat', 'ger', 'fre', 'fre', 'fre', 'fre', 'eng', 'grc', 'lat', 'lat', 'fre', 'fre', 'ger', 'fre', 'eng', 'spa', 'fre', 'pol', 'lat', 'fre', 'lat;ita', 'lat', 'lat', 'lat', 'lat', 'grc', 'grc', 'grc', 'lat', 'heb', 'grc', 'eng', 'grc', 'ger', 'heb;grc', 'heb;grc', 'fre', 'fre', 'lat', 'ita', 'ita', 'ita', 'fre', 'eng', 'lat', 'fre', 'grc', 'spa', 'spa', 'grc', 'ita', 'fre', 'lat', 'dan', 'dan', 'lat', 'eng', 'spa', 'ita', 'spa', 'fre', 'fre', 'lat', 'dut', 'lat', 'lat', 'swe', 'dan', 'lat', 'ger', 'fre', 'swe', 'fre', 'fre', 'lat;fre', 'eng', 'lat', 'grc;heb', 'lat', 'fre', 'dut', 'fre', 'lat', 'ita', 'fre', 'grc', 'fre', 'fre', 'lat', 'fre', 'ara', 'fre', 'fre', 'lat;ger', 'lat;ger', 'spa', 'eng', 'eng', 'fre', 'eng', 'ita', 'ger', 'fre', 'spa', 'lat', 'dut', 'lat', 'lat', 'fre', 'fre', 'ita', 'lat', 'lat', 'ara', 'ara', 'ara', 'ara', 'ara', 'ara', 'fre', 'spa', 'ger', 'fre', 'cze', 'lat', 'ita', 'eng', 'grc', 'eng', 'eng', 'eng', 'eng', 'lat', 'lat', 'grc', 'fre', 'lat', 'lat', 'lat', 'grc', 'spa', 'fre', 'grc', 'ger', 'ger', 'fre', 'eng', 'fre', 'fre', 'fre', 'lat', 'fre', 'heb', 'ger', 'spa', 'eng', 'ita', 'lat', 'spa', 'lat', 'lat', 'lat', 'lat', 'lat', 'lat', 'ita', 'ita', 'ita', 'spa', 'ita', 'ita', 'ita', 'spa', 'fre', 'lat', 'cat', 'fre', 'fre', 'fre', 'fre', 'fre', 'fre', 'lat', 'spa', 'spa', 'spa', 'spa', 'heb', 'lat', 'grc', 'ita', 'ita', 'grc', 'dut', 'lat', 'grc', 'pol', 'pol', 'lat', 'ita', 'grc', 'eng', 'ita', 'ita', 'heb;grc', 'heb;grc', 'heb;grc', 'heb;grc', 'heb;grc', 'lat', 'spa', 'lat', 'lat', 'lat', 'ita', 'lat', 'ita', 'eng', 'grc', 'dut', 'ita', 'eng', 'lat', 'lat', 'lat', 'eng', 'eng', 'grc', 'dut', 'ita', 'lat', 'lat', 'fre', 'lat', 'ita', 'ita', 'ita', 'lat', 'ita', 'lat', 'fre', 'lat', 'ger', 'ita', 'ita', 'lat', 'eng', 'ita', 'ita', 'ita', 'fre', 'dut', 'eng', 'eng', 'eng', 'eng', 'lat', 'grc', 'grc', 'grc', 'eng', 'eng', 'eng', 'ita', 'lat', 'eng', 'eng', 'eng', 'eng', 'fre', 'fre', 'fre', 'ita', 'spa', 'ita', 'lat', 'fre', 'fre', 'eng', 'lat', 'ita', 'lat;ita', 'ger', 'eng', 'ita', 'eng', 'spa', 'lat', 'lat', 'spa', 'grc', 'dut', 'ita', 'grc', 'fre', 'lat', 'lat', 'lat', 'lat', 'lat', 'spa;ita', 'spa', 'spa;ita', 'spa', 'fre', 'fre', 'ita', 'fre', 'lat', 'spa', 'eng', 'spa', 'spa', 'lat', 'fre', 'per', 'lat', 'fre', 'fre', 'ger', 'lat', 'fre', 'ita', 'fre', 'por', 'ita', 'ita', 'ita', 'spa', 'fre', 'fre', 'fre', 'lat', 'ita', 'lat', 'dut', 'fre', 'lat', 'fre', 'fre', 'fre', 'fre', 'fre', 'lat', 'lat', 'lat', 'lat', 'fre', 'fre', 'spa', 'lat', 'fre', 'fre', 'lat', 'grc', 'lat', 'fre', 'ita', 'ita', 'spa', 'spa', 'spa', 'spa', 'spa', 'ita', 'ita', 'ita', 'ita', 'fre', 'lat', 'lat', 'lat', 'fre', 'lat', 'lat', 'lat', 'lat', 'grc', 'lat', 'lat', 'fre', 'fre', 'fre', 'dut', 'eng', 'ger', 'dut', 'lat', 'ita', 'ita', 'ita', 'ger', 'dut;eng', 'lat', 'fre', 'swe', 'lat', 'fre', 'lat', 'lat', 'lat', 'lat', 'fre', 'lat', 'fre', 'lat', 'fre', 'lat', 'grc', 'lat', 'spa', 'ita', 'ita', 'ger', 'lat', 'grc', 'fre', 'lat', 'eng', 'fre', 'ita', 'lat', 'lat', 'lat', 'fre', 'heb', 'heb', 'ita', 'lat', 'fre', 'lat', 'ita', 'lat', 'lat', 'lat', 'lat', 'lat', 'lat', 'lat', 'lat', 'dut', 'fre', 'dut', 'fre', 'grc', 'lat', 'fre', 'grc', 'grc', 'fre', 'dut', 'grc', 'fre', 'grc', 'lat', 'lat;ita;por', 'heb', 'dut', 'dut', 'dut', 'dut', 'ita', 'dut', 'pol', 'lat', 'lat', 'lat', 'lat', 'lat', 'lat', 'spa', 'por', 'ita', 'ita', 'ita', 'fre', 'fre', 'fre', 'ita', 'fre', 'fre', 'lat', 'spa', 'spa', 'spa', 'grc', 'lat', 'spa', 'fre', 'fre', 'lat', 'dut', 'lat', 'lat', 'fre', 'ita', 'ita', 'ita', 'ita', 'lat', 'eng', 'eng', 'eng', 'eng', 'eng', 'dut', 'dut;fre', 'eng', 'ita', 'lat', 'lat', 'ger', 'lat', 'eng', 'lat', 'fre', 'lat', 'ger', 'fre', 'eng', 'fre', 'fre', 'ita', 'dut', 'dut', 'dut', 'eng', 'lat', 'eng;dut', 'fre', 'fre', 'fre', 'ger', 'ger', 'ita', 'lat', 'lat', 'eng', 'ger', 'dut', 'dut', 'grc', 'eng', 'lat', 'lat', 'lat', 'ita', 'eng', 'ger', 'eng', 'ger', 'ger', 'grc', 'dut', 'spa', 'lat', 'lat', 'fre', 'ger', 'grc', 'lat', 'lat', 'dut', 'fre', 'lat', 'fre', 'ita', 'grc', 'lat', 'grc', 'grc', 'lat', 'ita', 'ger', 'spa', 'dut', 'dut', 'eng', 'dut', 'dut', 'fre', 'dut', 'dut', 'nds', 'dut', 'lat', 'pol', 'eng', 'ita', 'pol', 'lat', 'fre', 'ita', 'pol', 'pol', 'lat', 'lat', 'dut', 'lat', 'ita', 'ita', 'fre', 'fre', 'fre', 'fre', 'lat', 'dan', 'dan', 'fre', 'lat', 'eng', 'fre', 'lat', 'lat', 'lat', 'dut', 'eng', 'lat', 'ita;spa', 'fre', 'lat', 'spa', 'ita', 'fre', 'ita', 'eng', 'eng', 'fre', 'eng', 'eng', 'fre', 'fre', 'fre', 'fre', 'ita', 'ita', 'ita', 'fre', 'lat', 'fre', 'fre', 'fre', 'heb', 'fre', 'eng', 'fre', 'chi', 'ita', 'ita', 'ita', 'ita', 'ita', 'ger', 'spa', 'ita', 'ita', 'fre', 'eng', 'eng', 'lat', 'lat', 'eng', 'ger', 'dut', 'fre', 'fre', 'fre', 'fre', 'lat', 'eng', 'eng', 'eng', 'lat', 'ota', 'fre', 'spa', 'eng', 'eng;dut', 'eng', 'eng', 'eng', 'eng', 'eng', 'eng', 'ita', 'spa', 'spa', 'eng', 'eng', 'eng', 'dut', 'eng', 'eng', 'eng', 'fre;dut', 'ota', 'lat', 'lat', 'lat', 'lat', 'lat', 'spa', 'spa', 'lat', 'lat', 'fre', 'lat', 'lat', 'fre;eng', 'fre;eng', 'fre', 'lat', 'eng', 'lat', 'eng', 'lat', 'ita;lat', 'dut', 'grc', 'swe', 'eng', 'eng', 'ita', 'eng', 'eng;dut', 'fre', 'fre', 'eng', 'eng', 'grc', 'ita', 'eng', 'grc', 'dut', 'ita;lat', 'ita', 'ita', 'ita', 'dut', 'grc', 'dut', 'eng', 'eng', 'fre', 'fre', 'ita', 'lat', 'ger', 'lat', 'ita', 'ita', 'ita', 'ita', 'eng', 'eng', 'fre', 'fre', 'ita', 'ita', 'ger', 'dut', 'fre', 'fre', 'fre', 'spa', 'ita', 'ger', 'fre', 'fre', 'dut', 'dut', 'dut', 'dut', 'fre', 'ita', 'dut', 'heb', 'dan', 'dut', 'ita', 'dut', 'lat', 'lat', 'lat', 'spa', 'heb;grc', 'lat', 'lat', 'lat', 'lat', 'dut', 'heb;grc', 'heb;grc', 'dut', 'dut', 'spa', 'ita', 'dut', 'grc;heb', 'heb;grc', 'fre', 'fre', 'dut;fre;lat', 'ita', 'ger', 'lat', 'grc', 'lat', 'dut', 'grc', 'lat', 'lat', 'lat', 'ita', 'lat', 'spa', 'spa', 'lat', 'spa', 'ita', 'lat', 'lat', 'grc', 'lat', 'lat', 'lat', 'heb', 'spa', 'ita', 'ita', 'lat', 'fre', 'fre', 'fre', 'fre', 'fre', 'ita', 'ger', 'ger', 'lat', 'fre', 'lat', 'lat', 'spa', 'spa', 'spa', 'fre', 'cat', 'fre', 'ita', 'ita', 'ita', 'ita', 'lat', 'ita', 'ita', 'fre', 'fre', 'ita', 'fre', 'fre', 'fre', 'lat', 'ger', 'spa', 'fre', 'eng', 'eng', 'fre', 'lat', 'spa', 'fre', 'fre', 'lat', 'lat', 'ita', 'cze', 'lat', 'heb', 'lat', 'lat', 'fre', 'spa', 'dut', 'lat', 'fre', 'fre', 'lat', 'lat', 'lat', 'lat', 'lat', 'fre', 'lat', 'fre', 'cze', 'cze', 'lat', 'spa', 'fre', 'cze', 'fre', 'lat', 'lat', 'lat', 'lat;fre', 'fre', 'eng', 'dut', 'fre', 'dut', 'ger', 'lat', 'lat', 'lat', 'lat', 'lat', 'fre', 'lat', 'lat', 'fre', 'ita', 'fre', 'eng', 'spa', 'lat', 'lat', 'lat', 'lat', 'pol', 'ita', 'dut', 'ita', 'dut', 'dut', 'ita', 'ita', 'ita', 'ita', 'ita', 'ita', 'ita', 'eng', 'eng', 'dut', 'dut', 'ita', 'ita', 'fre', 'dut', 'dut', 'fre', 'eng', 'fre', 'fre', 'fre', 'dut', 'lat', 'lat', 'ita', 'ita', 'ita', 'ita', 'ita', 'ita', 'grc', 'dut;lat', 'fre', 'dut', 'dut', 'dut', 'ita', 'fre', 'ger', 'ita', 'ita', 'eng', 'ita', 'dut', 'spa', 'grc;heb', 'grc', 'spa', 'spa', 'fre', 'dut', 'fre', 'grc', 'ita', 'lat', 'lat', 'fre', 'ita', 'ita', 'ita', 'fre', 'fre', 'grc', 'spa', 'ita', 'fre', 'fre', 'lat', 'lat', 'ger', 'lat', 'heb', 'fre', 'eng;fre', 'lat', 'fre', 'fre', 'lat', 'eng', 'eng', 'dut', 'eng', 'eng', 'eng', 'eng', 'eng', 'eng', 'eng', 'eng', 'ita', 'spa', 'fre', 'ita', 'ita', 'ita', 'ita', 'fre', 'lat', 'eng', 'spa', 'eng', 'spa', 'spa', 'spa', 'fre', 'ger', 'ger', 'lat', 'fre', 'lat', 'ita', 'eng', 'ita', 'fre', 'ita', 'eng', 'grc;lat', 'eng', 'lat', 'lat', 'fre', 'fre', 'dut', 'eng', 'eng', 'ger', 'lat', 'eng', 'eng', 'fre', 'fre', 'fre', 'fre', 'lat', 'dut', 'lat', 'cze', 'lat', 'lat', 'ita', 'lat', 'lat', 'ita', 'ita', 'lat', 'ita', 'dut', 'lat', 'lat', 'fre', 'dut', 'lat', 'lat', 'lat', 'pol', 'lat', 'lat', 'lat', 'fre', 'ita', 'lat', 'spa', 'lat', 'lat', 'fre', 'dut', 'ita', 'lat', 'ita', 'lat', 'grc', 'grc', 'cze', 'lat', 'fre', 'lat', 'grc', 'grc', 'lat', 'ger', 'ger', 'fre', 'fre', 'ita', 'ita', 'dut', 'eng', 'grc', 'ita', 'ita', 'eng', 'dut', 'lat', 'ger', 'fre', 'ita', 'lat', 'ita', 'fre', 'ita', 'spa', 'ita', 'ita', 'eng', 'lat', 'ita', 'fre', 'pol', 'eng', 'fre', 'fre', 'eng', 'eng', 'lat', 'ita', 'dut', 'lat', 'fre', 'fre', 'grc', 'per', 'ger', 'dut', 'fre', 'per', 'eng', 'eng', 'eng', 'fre', 'ita', 'eng', 'lat', 'fre', 'lat', 'lat', 'lat', 'spa', 'fre', 'grc', 'lat', 'lat', 'heb', 'fre', 'ita', 'lat', 'grc', 'fre', 'lat', 'dut', 'fre', 'lat', 'lat', 'eng', 'grc', 'ita', 'dut', 'eng', 'eng', 'dut', 'fre', 'eng', 'fre', 'ita', 'lat', 'eng', 'fre', 'grc', 'lat', 'spa', 'spa;ita', 'lat', 'lat', 'lat', 'lat', 'dut', 'eng', 'grc', 'ita', 'heb', 'grc', 'eng', 'lat', 'dut', 'lat', 'grc', 'dut', 'dut', 'spa', 'lat', 'lat', 'grc', 'grc', 'grc', 'fre', 'lat', 'fre', 'fre', 'grc', 'ita', 'eng', 'lat', 'ger', 'ita', 'eng', 'ita', 'eng', 'fre', 'fre', 'fre', 'fre', 'fre', 'fre', 'eng', 'fre', 'fre', 'ita', 'fre', 'ita', 'ger', 'dut', 'fre', 'dut', 'fre', 'fre', 'eng', 'eng', 'ger', 'fre', 'fre', 'grc', 'eng', 'ger', 'ita', 'eng', 'fre', 'lat', 'lat', 'fre', 'eng', 'eng', 'fre', 'grc', 'lat', 'fre', 'spa', 'eng', 'fre', 'ita', 'ita', 'eng', 'fre', 'spa', 'fre', 'rus', 'ita', 'eng', 'lat', 'lat', 'lat', 'heb', 'lat', 'lat', 'eng', 'eng', 'eng', 'eng', 'eng', 'heb', 'fre', 'lat', 'lat', 'cze', 'lat', 'fre', 'dut', 'lat', 'lat', 'dut;lat', 'eng', 'ita', 'fre', 'fre', 'fre', 'fre', 'dut', 'lat', 'dut', 'dut', 'lat', 'dut', 'fre', 'fre', 'fre', 'fre', 'fre', 'dut', 'fre', 'heb;grc', 'ita', 'ger', 'dut', 'dut', 'dut', 'dut', 'eng', 'eng', 'dut', 'dut', 'dut', 'dut', 'spa', 'dut', 'fre', 'dut', 'dut', 'lat', 'dut', 'lat', 'fre', 'eng', 'lat', 'grc', 'lat', 'lat', 'lat', 'fre', 'fre', 'fre', 'dut', 'eng', 'lat', 'ger', 'spa', 'fre', 'fre', 'spa', 'ita', 'heb', 'lat', 'spa', 'spa', 'lat', 'lat', 'ita', 'ita', 'fre', 'lat', 'fre', 'fre', 'lat', 'lat', 'lat', 'fre', 'fre;dut', 'dut', 'lat', 'fre', 'lat', 'eng', 'fre', 'lat', 'lat', 'dut', 'ger', 'lat', 'dut', 'fre', 'ita', 'grc', 'fre', 'spa', 'fre', 'lat', 'dut', 'dut', 'eng', 'eng', 'ita', 'spa', 'fre;lat', 'lat;dut', 'fre', 'lat', 'fre', 'por', 'lat', 'lat', 'lat', 'fre', 'fre', 'ita', 'hun', 'grc', 'fre', 'fre', 'fre', 'fre', 'fre', 'lat', 'heb', 'lat', 'lat', 'ger', 'fre', 'lat', 'ita', 'lat', 'lat', 'heb;grc', 'grc', 'grc', 'eng', 'eng', 'lat', 'eng', 'fre', 'fre', 'fre', 'fre', 'fre', 'lat', 'ger', 'lat', 'eng;dut', 'dut', 'fre', 'ota', 'fre', 'pol', 'lat', 'lat', 'fre', 'lat', 'lat', 'lat', 'lat', 'lat', 'lat', 'ita', 'spa', 'spa', 'lat', 'ita', 'spa', 'ota', 'ota', 'spa', 'ita', 'ita', 'lat', 'spa', 'ita', 'fre', 'ita', 'fre', 'ita', 'ita', 'ita', 'ita', 'cze', 'lat', 'fre', 'fre', 'eng;fre', 'spa', 'fre', 'grc', 'fre', 'lat', 'lat', 'lat', 'lat', 'cze', 'cze', 'fre', 'fre', 'dut', 'lat', 'ita', 'heb;grc', 'fre', 'lat', 'lat', 'ita', 'ita', 'ita', 'ita', 'ita', 'ita', 'ita', 'spa', 'lat', 'spa', 'spa', 'spa', 'fre', 'ita', 'dut', 'spa', 'lat', 'lat', 'ita', 'fre', 'ita', 'ita', 'ita', 'grc', 'lat', 'ger', 'lat', 'lat', 'lat', 'dut', 'pol', 'lat', 'per', 'per', 'eng', 'eng', 'fre', 'fre', 'fre', 'grc', 'dan', 'fre', 'lat', 'fre', 'eng', 'dut', 'ita', 'eng', 'fre', 'ger', 'lat', 'eng', 'lat', 'ger', 'ger', 'ita', 'spa', 'lat', 'ita', 'eng', 'lat', 'fre', 'fre', 'fre', 'fre', 'ger', 'eng', 'eng', 'fre', 'fre', 'fre', 'eng', 'grc', 'fre', 'fre', 'fre', 'fre', 'fre', 'fre', 'fre', 'fre', 'fre', 'spa', 'spa', 'spa', 'lat;grc', 'lat', 'eng', 'fre', 'lat', 'ger', 'fre', 'fre', 'fre', 'eng;ita', 'ger', 'fre', 'fre', 'ita', 'ita', 'swe', 'spa', 'lat', 'lat', 'lat', 'lat', 'ita', 'grc', 'ita', 'fre', 'fre', 'spa', 'fre', 'ger', 'fre', 'fre', 'fre', 'dut', 'fre', 'dan', 'ara', 'grc', 'heb', 'heb;grc', 'ita', 'lat', 'fre', 'fre', 'fre', 'fre', 'fre', 'lat', 'lat', 'dut', 'dut', 'dut', 'dut', 'ara;fre;lat', 'ita', 'dut', 'fre', 'fre', 'fre', 'spa;por', 'fre', 'fre', 'ger', 'lat', 'lat', 'fre', 'fre', 'eng', 'lat', 'lat', 'fre', 'eng', 'grc', 'spa', 'lat', 'dut', 'spa', 'lat', 'ita', 'ita', 'lat', 'ita', 'grc', 'lat', 'lat', 'lat', 'fre', 'lat', 'eng', 'dut', 'ita', 'lat', 'fre', 'ita', 'lat', 'lat', 'fre', 'lat', 'lat', 'lat', 'lat', 'dut', 'lat', 'dut;fre', 'ita', 'ita', 'fre', 'fre', 'lat', 'pol', 'lat', 'dut', 'lat', 'lat', 'lat', 'lat', 'lat', 'lat', 'ita', 'ita', 'lat', 'dut', 'lat', 'fre', 'ita', 'eng', 'ita', 'ita', 'ita', 'ita', 'ita', 'ita', 'ita', 'ita', 'ita', 'fre', 'grc', 'lat', 'ita', 'lat', 'lat', 'lat', 'lat', 'lat', 'dut', 'dut', 'dut', 'fre', 'fre', 'fre', 'lat', 'ger', 'cze', 'ita', 'spa', 'cze', 'ita', 'ita', 'hun', 'fre', 'spa', 'lat', 'lat', 'lat', 'fre', 'ita', 'ger', 'ger', 'hun', 'lat', 'fre', 'fre', 'lat', 'fre', 'lat', 'spa', 'ita', 'ita', 'lat', 'lat', 'ita', 'lat', 'ita;fre', 'cze', 'lat', 'ger', 'ita', 'ita', 'fre', 'ita', 'pol;fre', 'ita', 'lat', 'lat', 'ita', 'lat', 'grc', 'lat', 'ita', 'cze', 'cze', 'cze', 'fre', 'fre', 'ita', 'lat', 'lat', 'ger', 'ger', 'lat', 'spa', 'spa', 'spa', 'lat', 'spa', 'spa', 'spa', 'spa', 'spa', 'fre', 'ita', 'lat', 'ita', 'ita', 'lat', 'lat', 'eng', 'ita', 'lat', 'spa', 'spa', 'lat', 'pol', 'ger', 'ita', 'dut', 'lat', 'grc', 'ita', 'ita', 'lat', 'lat', 'dut', 'dut', 'lat', 'fre', 'grc', 'ita;lat', 'grc', 'grc', 'ita', 'ita', 'lat', 'lat', 'grc', 'grc', 'por', 'ita', 'fre', 'dut', 'lat', 'ger', 'ita', 'lat', 'grc', 'eng', 'dut', 'ita', 'lat', 'eng', 'lat;fre', 'heb', 'ita', 'ita', 'dut', 'grc', 'grc', 'grc', 'grc', 'grc', 'grc', 'fre', 'fre', 'lat', 'dan', 'lat', 'dut', 'grc', 'lat;grc', 'eng', 'lat', 'fre', 'ger', 'ger', 'syr;grc', 'syr;grc', 'syr;grc', 'eng', 'heb', 'fre', 'spa', 'spa', 'ger', 'fre', 'lat', 'eng', 'ger', 'fre', 'lat', 'dut', 'lat', 'lat', 'lat', 'fre', 'fre', 'fre', 'ita', 'fre', 'fre', 'eng', 'lat', 'eng', 'ita', 'fre', 'ita', 'ita', 'heb;grc', 'heb', 'gre', 'fre', 'ita', 'ita', 'lat', 'lat', 'dan', 'fre', 'dut', 'dut', 'lat', 'lat', 'lat', 'lat', 'lat', 'ita', 'heb', 'lat', 'lat', 'lat', 'ita', 'lat', 'grc;lat', 'dut', 'dut', 'dut', 'dut', 'grc', 'ita', 'ita', 'eng', 'ita', 'ita', 'lat', 'dut', 'ita', 'dut', 'lat', 'dut', 'fre', 'eng', 'fre', 'dut', 'dut', 'dut', 'eng', 'fre', 'ita', 'dut', 'dut', 'dut', 'dut', 'lat', 'eng', 'fre', 'lat', 'ota', 'lat', 'lat', 'grc', 'lat', 'dut', 'ita', 'eng', 'ger', 'eng', 'ara', 'dut', 'lat', 'lat', 'lat', 'fre', 'eng', 'lat', 'dut', 'lat', 'lat', 'fre', 'eng', 'dut', 'dut', 'dut', 'dut', 'fre', 'ita', 'fre', 'fre', 'ita', 'dut', 'lat', 'fre', 'lat', 'dut', 'fre', 'fre', 'eng', 'lat', 'dut;fre', 'dut;fre', 'dut', 'eng', 'lat', 'fre;spa', 'eng', 'ita', 'ita', 'ita', 'lat', 'fre', 'eng', 'ita', 'grc', 'heb', 'heb', 'heb;grc', 'ita', 'fre', 'dut', 'spa', 'ita', 'lat', 'dut', 'ita', 'lat', 'lat', 'lat', 'eng', 'fre', 'lat', 'ita', 'fre', 'lat', 'dut', 'lat', 'lat', 'dut', 'fre', 'ita', 'heb', 'fre', 'dut', 'ita', 'lat', 'lat', 'lat', 'lat', 'dut', 'fre', 'spa', 'eng', 'fre', 'fre', 'lat', 'lat', 'ita', 'lat', 'fre', 'fre', 'dut', 'eng', 'eng', 'fre', 'fre', 'ita', 'lat', 'lat', 'eng', 'eng', 'eng', 'grc', 'grc', 'fre', 'ita', 'ita', 'ita', 'spa', 'lat', 'lat;ota', 'eng', 'ita', 'spa', 'spa', 'spa', 'spa', 'ita', 'ita', 'ita', 'ita', 'lat', 'lat', 'fre', 'ita', 'ger', 'fre', 'dan', 'ita', 'swe', 'fre', 'eng', 'fre', 'lat;ita', 'ita', 'fre', 'fre', 'grc', 'lat', 'fre', 'lat', 'ita', 'ita', 'lat;ita;por', 'dut', 'dut', 'fre', 'lat', 'lat', 'fre', 'lat', 'grc', 'ita', 'lat', 'grc', 'heb;grc', 'fre', 'spa', 'lat', 'lat', 'spa', 'ita', 'ita', 'fre', 'grc', 'por', 'ita', 'lat', 'lat', 'lat', 'lat', 'fre', 'lat', 'spa', 'ita', 'ita', 'eng', 'lat', 'ita', 'grc', 'grc', 'lat', 'por', 'fre', 'ita', 'dut', 'lat', 'ita', 'eng;ita', 'fre', 'fre', 'ita', 'fre', 'lat', 'fre', 'lat', 'lat', 'fre', 'eng', 'ita', 'fre', 'fre', 'fre', 'lat', 'ita', 'ita', 'eng', 'fre', 'fre', 'eng', 'fre', 'fre', 'fre', 'fre', 'fre', 'fre', 'fre', 'lat', 'ita;fre', 'ita', 'dut', 'lat', 'grc', 'lat', 'lat', 'lat', 'lat', 'lat', 'lat', 'lat', 'lat', 'lat', 'lat', 'spa', 'lat', 'fre', 'lat', 'fre', 'heb', 'dut', 'fre', 'lat', 'spa', 'spa', 'spa', 'lat', 'fre;lat', 'eng', 'eng', 'swe', 'lat', 'ita', 'fre', 'ita', 'lat', 'grc', 'fre', 'fre', 'fre', 'por', 'ita', 'ger', 'swe', 'fre', 'fre', 'ger', 'fre', 'fre', 'fre', 'fre', 'heb', 'eng', 'eng', 'heb;grc', 'lat', 'lat', 'fre', 'fre', 'grc', 'lat', 'swe', 'swe', 'swe', 'fre', 'dut', 'ita', 'ita', 'lat', 'lat', 'fre', 'fre', 'ger', 'fre', 'fre', 'spa', 'ita', 'ita', 'lat', 'lat', 'lat', 'lat', 'fre', 'fre', 'ara', 'lat', 'lat', 'lat', 'lat', 'fre', 'fre', 'spa', 'eng', 'lat', 'lat', 'fre', 'heb', 'ita', 'dut', 'fre', 'lat', 'fre', 'ita', 'fre', 'grc', 'spa', 'spa', 'spa', 'grc', 'eng', 'dut', 'nds', 'fre', 'spa', 'fre', 'lat', 'eng', 'fre', 'fre', 'fre', 'fre', 'lat', 'ita', 'ita', 'ita', 'eng', 'fre', 'lat', 'dut', 'eng', 'fre', 'lat', 'eng', 'eng', 'heb', 'fre', 'fre', 'fre', 'dut', 'fre', 'dut', 'lat', 'lat', 'lat', 'ita', 'ita', 'fre', 'spa', 'lat', 'dut', 'dut', 'spa', 'dut', 'dut', 'dut', 'dut', 'lat', 'lat', 'dut', 'fre', 'lat', 'spa', 'spa', 'lat', 'spa', 'lat', 'ita', 'spa', 'cze', 'lat', 'lat', 'fre', 'lat', 'fre', 'lat', 'fre', 'spa', 'lat', 'fre', 'ita', 'ger', 'dut', 'ita', 'syr;ara', 'fre', 'fre', 'fre', 'ita', 'ita', 'lat', 'fre', 'pol', 'grc;lat', 'eng', 'lat', 'lat', 'fre', 'fre', 'fre', 'lat', 'ota', 'lat', 'dut', 'dut', 'lat', 'pol', 'pol', 'pol', 'pol', 'fre', 'lat', 'dut', 'fre', 'ita', 'ita', 'grc', 'fre', 'fre', 'dut', 'fre', 'fre', 'fre', 'ita', 'ita', 'ita', 'ita', 'ita', 'ita', 'ita', 'lat', 'fre', 'lat', 'grc', 'cat', 'dut', 'lat', 'cat', 'eng', 'ita', 'lat', 'fre', 'lat', 'heb', 'dan', 'spa', 'lat', 'lat', 'lat', 'ita', 'grc', 'fre', 'lat', 'lat', 'dut', 'fre', 'lat', 'ita', 'lat', 'grc', 'grc', 'grc', 'fre', 'lat', 'ger', 'lat', 'lat', 'lat', 'lat', 'lat', 'grc', 'fre', 'eng', 'lat', 'eng', 'eng', 'fre', 'fre', 'fre', 'lat', 'fre', 'ita', 'fre', 'eng', 'lat', 'cat', 'grc;heb', 'heb', 'ita', 'grc', 'ita', 'fre', 'grc;heb', 'ger', 'grc', 'ita', 'lat', 'lat', 'grc', 'grc', 'ita', 'lat', 'ita', 'ita', 'lat', 'ita', 'eng', 'ita', 'spa', 'spa', 'fre', 'fre', 'spa', 'ger', 'fre', 'grc', 'fre', 'ita', 'fre', 'eng', 'ita', 'dut', 'lat', 'ita', 'heb', 'fre', 'spa', 'fre', 'fre', 'spa', 'ita', 'lat', 'fre', 'spa', 'eng', 'ita', 'eng', 'ita', 'fre', 'ita', 'lat', 'lat', 'fre', 'ita', 'eng', 'lat', 'fre', 'dut', 'fre', 'fre', 'dut', 'dut', 'dut', 'dut', 'dut', 'lat', 'fre', 'ita', 'ita', 'ger', 'lat', 'lat', 'lat', 'fre;lat', 'lat', 'lat', 'ita', 'ita', 'fre', 'lat', 'lat', 'fre', 'fre;spa', 'eng', 'lat', 'fre', 'fre', 'eng', 'lat', 'fre', 'fre', 'dut', 'ger', 'lat', 'lat', 'eng', 'grc', 'ita', 'ita', 'eng', 'fre', 'ita', 'lat', 'fre', 'lat', 'fre', 'fre', 'ita', 'ita', 'fre', 'ita', 'fre', 'fre', 'fre', 'fre', 'fre', 'lat', 'lat', 'ger', 'grc', 'spa', 'dan', 'fre', 'ita', 'lat', 'lat', 'ita', 'lat', 'lat', 'lat', 'lat', 'ita', 'fre', 'lat', 'fre', 'fre', 'fre', 'eng', 'fre', 'fre', 'lat', 'eng', 'ita', 'ita', 'ita', 'ita', 'lat', 'ita', 'fre', 'ger', 'ita', 'eng', 'spa', 'spa', 'spa', 'spa', 'spa', 'fre', 'eng;fre;dut', 'fre', 'ita', 'spa', 'spa', 'fre', 'fre', 'ita', 'fre', 'ita', 'spa', 'fre', 'eng', 'fre', 'fre', 'fre', 'dut', 'dut', 'fre', 'fre', 'lat', 'spa', 'eng', 'lat', 'fre', 'fre', 'lat', 'eng', 'lat', 'dut', 'fre', 'lat', 'fre', 'lat', 'fre', 'lat', 'ita', 'lat', 'lat', 'lat', 'ita', 'ita', 'ita', 'ita', 'ita', 'ita', 'lat', 'lat', 'lat', 'ita', 'fre', 'lat', 'dut;eng', 'lat', 'fre', 'ita', 'fre', 'eng', 'spa', 'fre', 'eng', 'fre', 'spa', 'ita', 'lat', 'eng', 'dut;eng', 'dut', 'ita', 'lat', 'spa', 'ita', 'lat', 'grc', 'heb', 'ger', 'ita', 'ita', 'eng', 'fre', 'dut', 'dut', 'eng', 'fre', 'dut', 'fre', 'fre', 'ita', 'lat', 'lat', 'fre', 'grc', 'heb;grc', 'ita', 'lat', 'fre', 'ita', 'heb', 'ita', 'fre', 'eng', 'dut', 'grc', 'fre', 'peo', 'lat', 'fre', 'fre', 'fre', 'fre', 'fre', 'fre', 'fre', 'dan', 'ita', 'ita', 'lat', 'eng', 'fre', 'fre', 'lat', 'lat', 'lat', 'fre', 'ita;lat', 'lat', 'lat', 'fre', 'eng', 'fre', 'lat', 'eng', 'eng', 'grc', 'fre', 'eng', 'dut', 'lat', 'grc', 'lat', 'lat', 'heb;grc', 'heb;grc', 'heb;grc', 'fre', 'fre', 'dut', 'lat', 'lat', 'lat', 'ger', 'dut', 'lat', 'dut', 'fre', 'lat', 'lat', 'fre', 'dut', 'fre', 'lat', 'fre', 'eng', 'dut', 'ita', 'lat', 'fre', 'dut', 'ita', 'spa', 'spa', 'ita', 'ita', 'spa', 'spa', 'lat', 'lat', 'ita', 'fre', 'lat', 'ita', 'lat', 'fre', 'grc', 'fre', 'lat', 'ita', 'fre', 'fre', 'fre', 'fre', 'fre', 'fre', 'lat', 'grc', 'lat', 'ita', 'fre', 'ita', 'lat', 'fre', 'grc', 'heb;grc', 'fre', 'ita', 'heb', 'ita', 'lat', 'lat', 'fre', 'fre', 'ita', 'lat', 'lat', 'ita', 'lat', 'ita', 'ita', 'lat', 'grc', 'fre', 'lat', 'eng', 'ita', 'ita', 'fre', 'fre', 'eng', 'fre', 'ita', 'fre', 'fre', 'fre', 'fre', 'fre', 'fre', 'fre', 'fre', 'ita', 'spa', 'grc', 'spa', 'lat', 'lat', 'lat', 'lat', 'ita;dut', 'ita;dut', 'ita;dut', 'ita;dut', 'lat', 'lat', 'eng', 'ger', 'lat', 'lat', 'lat', 'lat', 'lat', 'lat', 'lat', 'lat', 'lat', 'ita;dut', 'ita', 'lat', 'ita', 'grc', 'grc', 'grc', 'grc', 'grc;lat', 'grc', 'ita', 'lat', 'lat', 'dut', 'lat', 'spa', 'lat', 'lat', 'fre', 'heb', 'fre', 'lat', 'ita', 'fre', 'fre', 'fre', 'lat', 'lat', 'fre', 'eng', 'eng', 'spa', 'eng', 'dut', 'fre', 'lat', 'fre', 'fre', 'fre', 'ita', 'ita', 'ger', 'fre', 'fre', 'fre', 'fre', 'ita', 'fre', 'cze', 'ita', 'ita', 'fre', 'dut', 'fre', 'ita', 'lat', 'lat', 'fre', 'fre', 'lat', 'eng', 'eng', 'eng', 'eng', 'eng', 'dut', 'fre', 'fre', 'lat', 'grc', 'grc', 'eng', 'fre', 'swe', 'swe', 'lat', 'lat', 'dut', 'ita', 'eng', 'ita', 'lat', 'fre', 'por', 'fre', 'fre', 'fre', 'fre', 'ita', 'fre', 'ita', 'lat', 'eng', 'hun', 'lat', 'eng', 'lat', 'ger', 'fre', 'eng', 'ita', 'dut', 'dut', 'ger', 'grc;lat', 'lat', 'ita', 'ita', 'lat', 'dut', 'dut', 'fre', 'fre', 'ita', 'ita', 'lat', 'fre', 'lat', 'ger;lat', 'fre', 'lat', 'ita', 'lat', 'lat', 'fre', 'fre', 'fre', 'ita', 'pol', 'per', 'eng', 'dut', 'fre', 'spa', 'eng', 'fre', 'fre', 'ita', 'ita', 'lat', 'lat', 'eng;fre', 'lat', 'dut', 'ita;fre', 'lat', 'spa', 'spa', 'spa', 'ita', 'eng', 'ita', 'ger', 'lat', 'cze', 'lat', 'lat', 'lat', 'lat', 'lat', 'lat', 'lat', 'ger', 'lat', 'lat', 'fre', 'lat', 'spa', 'lat', 'lat', 'dut', 'fre', 'lat', 'lat', 'arm', 'lat', 'lat', 'lat', 'fre', 'lat', 'lat', 'ita', 'ita', 'ita', 'lat', 'lat', 'dut', 'eng', 'lat', 'dut', 'eng', 'lat', 'fre', 'dut', 'dut', 'ita', 'lat', 'fre', 'eng', 'eng', 'fre', 'fre', 'fre', 'lat', 'lat', 'lat', 'lat', 'ger', 'fre', 'ger', 'ita', 'ger', 'fre', 'fre', 'dut', 'dut', 'lat', 'ger', 'eng', 'eng', 'swe', 'dut', 'spa', 'ita', 'ita', 'ita', 'lat', 'lat', 'eng', 'eng', 'spa', 'fre', 'fre', 'fre', 'lat', 'lat', 'lat', 'lat', 'lat', 'fre', 'fre', 'ita', 'ita', 'eng', 'lat', 'lat', 'eng', 'lat', 'grc', 'ita', 'fre', 'dut', 'fre', 'fre', 'eng', 'lat', 'lat', 'lat;fre', 'fre', 'lat', 'fre', 'lat', 'lat', 'dut', 'dut', 'lat', 'fre', 'lat', 'lat', 'dut', 'ita', 'lat;fre', 'lat;fre', 'lat', 'ita', 'fre', 'lat', 'eng', 'dut', 'eng', 'fre', 'eng', 'eng', 'lat;eng', 'lat', 'eng', 'eng', 'eng', 'eng', 'eng', 'fre', 'fre', 'fre', 'lat', 'dut', 'dut', 'fre', 'fre', 'ger', 'ger', 'lat', 'fre', 'fre', 'fre', 'lat', 'lat', 'fre', 'eng', 'ger', 'ita', 'lat', 'spa', 'dut', 'fre', 'lat', 'lat', 'dut', 'dut', 'dut', 'dut', 'lat', 'ita', 'lat', 'spa', 'lat', 'fre', 'fre', 'dut', 'ita', 'ita', 'dut', 'fre', 'fre', 'ger', 'eng', 'fre', 'eng', 'eng', 'fre', 'eng', 'eng', 'lat', 'ita', 'fre', 'eng', 'ita', 'lat', 'ita', 'eng', 'eng', 'swe', 'eng', 'eng', 'grc', 'fre', 'ita', 'swe', 'fre', 'lat', 'lat', 'fre', 'swe', 'fre', 'swe', 'spa', 'grc', 'ita', 'fre', 'fre', 'ita', 'lat', 'lat', 'fre', 'ita', 'fre', 'fre', 'dan', 'lat', 'swe', 'swe', 'spa', 'ger', 'fre', 'fre', 'lat', 'gre', 'fre', 'lat', 'ita', 'lat', 'fre', 'lat', 'lat', 'eng', 'eng', 'eng', 'eng', 'fre', 'ita', 'lat', 'grc', 'grc', 'fre', 'fre', 'ita', 'dut', 'fre', 'fre', 'fre', 'ita', 'ita', 'eng', 'fre', 'fre', 'eng', 'ita', 'eng', 'dut', 'lat', 'lat', 'lat', 'fre', 'fre', 'fre', 'dut', 'lat', 'lat', 'lat', 'lat', 'lat', 'fre', 'fre', 'fre', 'fre', 'ita', 'dut', 'dut', 'lat', 'dut', 'dut', 'fre', 'fre', 'dut', 'fre', 'dut', 'dut', 'fre', 'fre', 'eng', 'eng', 'fre', 'eng', 'eng', 'eng', 'eng', 'dut', 'spa', 'fre', 'ita', 'eng', 'grc', 'lat', 'dut', 'fre', 'spa', 'lat', 'eng', 'eng', 'lat', 'ita', 'fre', 'fre', 'lat', 'lat', 'eng', 'heb', 'dut', 'lat', 'dan', 'dut;lat', 'fre', 'fre', 'dut', 'eng', 'eng', 'eng', 'ger', 'lat', 'lat', 'fre', 'ita;fre', 'ita;fre', 'fre', 'fre', 'lat', 'fre', 'fre', 'eng', 'ita', 'ita', 'ita', 'eng', 'spa', 'eng', 'ita', 'ita', 'ita', 'eng', 'fre', 'lat', 'ita', 'lat', 'lat', 'lat', 'spa', 'fre', 'dut', 'ita', 'lat', 'lat', 'lat', 'lat', 'ara', 'lat', 'fre', 'spa', 'dut', 'ita', 'ita', 'lat', 'lat', 'spa', 'eng', 'lat', 'dut', 'ita', 'eng', 'eng', 'fre', 'fre', 'lat', 'fre', 'ita', 'lat;dut', 'lat', 'lat', 'eng', 'spa', 'fre', 'eng', 'lat', 'lat', 'fre', 'eng', 'eng', 'spa', 'ita', 'heb', 'ita', 'fre', 'fre', 'fre', 'fre', 'fre', 'grc', 'fre', 'fre', 'lat', 'ara', 'lat', 'ara', 'eng', 'lat', 'fre', 'fre', 'spa', 'fre', 'fre', 'fre', 'fre', 'lat', 'heb;grc', 'grc', 'heb;grc', 'eng', 'ita;fre', 'lat', 'fre', 'fre', 'fre', 'fre', 'fre', 'lat', 'lat', 'ita', 'fre', 'fre', 'dut', 'fre', 'fre', 'fre', 'dut', 'dut', 'lat', 'fre', 'dut', 'dut', 'dut', 'eng', 'dut', 'eng', 'eng', 'lat', 'fre', 'fre', 'ita', 'ita', 'eng', 'fre', 'dut', 'dut', 'dut', 'lat', 'ita', 'eng', 'fre', 'fre', 'dut', 'dut', 'lat', 'dut', 'ota', 'fre', 'eng', 'fre', 'dut', 'dut', 'ita;lat', 'fre', 'dut', 'dut', 'dut', 'dut', 'fre', 'fre', 'fre', 'fre', 'lat', 'ger', 'eng', 'ita', 'fre', 'fre', 'fre', 'fre', 'ita;lat', 'ita', 'fre', 'fre', 'ger', 'spa', 'eng', 'eng', 'dut', 'lat', 'lat', 'eng', 'grc', 'lat', 'lat', 'lat', 'spa', 'ita', 'fre', 'fre', 'fre', 'ita', 'ita', 'fre', 'lat', 'fre', 'eng', 'fre', 'dan', 'lat', 'ita', 'ger', 'spa', 'lat', 'ger', 'dut', 'ita', 'dut', 'lat', 'grc', 'ita', 'eng', 'fre', 'fre', 'fre', 'grc', 'ita', 'dut', 'fre', 'fre', 'lat', 'spa', 'fre', 'pol;ita', 'cze', 'fre', 'lat', 'ita', 'ita', 'ita', 'grc', 'ita', 'lat', 'lat', 'spa', 'fre', 'lat', 'ita;fre', 'fre', 'fre', 'spa', 'fre', 'fre', 'ita;dut', 'eng', 'swe', 'dut', 'lat', 'ita', 'dut', 'ita', 'fre', 'dut', 'lat', 'grc', 'fre', 'lat', 'grc', 'lat', 'lat', 'lat', 'grc', 'fre', 'fre', 'fre', 'fre', 'ita', 'lat', 'lat', 'lat', 'cze', 'lat', 'lat', 'fre', 'lat', 'lat', 'ita', 'eng', 'lat', 'lat', 'spa', 'lat', 'fre', 'ita', 'fre;dut', 'fre', 'fre', 'ita', 'ita', 'ita', 'ita', 'lat', 'ger', 'fre', 'spa', 'ita', 'ita', 'fre', 'lat', 'ger', 'eng', 'swe', 'eng', 'lat', 'lat', 'dut', 'dut', 'hun', 'fre', 'ita', 'spa', 'spa', 'spa', 'fre', 'eng', 'eng', 'fre', 'lat', 'fre', 'spa', 'ita', 'ita', 'ita', 'ita', 'spa', 'lat', 'lat', 'lat', 'lat', 'dut', 'fre', 'ita', 'dut', 'ita', 'ita', 'lat', 'fre', 'lat', 'fre', 'ger', 'ger', 'ger', 'fre', 'dut', 'spa', 'fre', 'ger', 'lat', 'ita', 'lat', 'eng', 'swe', 'lat', 'lat', 'ger', 'lat', 'spa', 'eng', 'eng', 'ita', 'grc', 'lat', 'eng', 'dut', 'dut', 'lat', 'dut', 'lat', 'ita', 'fre', 'ita', 'fre', 'lat', 'fre', 'spa', 'fre', 'spa', 'ita', 'dut', 'ita', 'ita', 'ita', 'ita', 'dan', 'dut', 'ita', 'ita', 'eng', 'ita', 'fre', 'ita', 'ita', 'dan', 'fre', 'fre', 'fre', 'lat', 'lat', 'lat', 'lat', 'lat', 'lat', 'lat', 'lat', 'lat', 'eng', 'lat', 'fre', 'lat', 'lat', 'fre', 'grc', 'lat', 'ita', 'lat', 'fre', 'eng', 'lat', 'lat', 'lat', 'grc;lat', 'spa', 'lat', 'ita', 'lat', 'fre', 'fre', 'fre', 'fre', 'fre', 'grc', 'ita', 'fre', 'fre', 'grc', 'spa', 'ita', 'ita', 'lat', 'lat;fre', 'ger;dut', 'ger', 'fre', 'fre', 'fre', 'fre', 'lat', 'lat', 'fre', 'spa', 'lat', 'lat', 'lat', 'ita', 'fre', 'lat', 'lat', 'ger', 'lat', 'fre', 'grc', 'spa', 'fre', 'fre', 'ita', 'ita', 'spa', 'spa', 'spa', 'fre', 'lat', 'lat', 'lat', 'lat', 'spa', 'ita', 'ita', 'lat', 'ita', 'fre', 'fre', 'fre', 'lat', 'ita', 'cze', 'ita', 'lat', 'lat', 'fre', 'lat', 'spa', 'ger', 'fre', 'lat', 'fre;dut;eng', 'fre', 'fre', 'fre', 'dut', 'eng', 'spa', 'lat', 'dut', 'fre', 'eng', 'eng', 'eng', 'eng', 'eng', 'fre', 'ita', 'ita', 'grc', 'fre', 'spa', 'eng', 'lat', 'eng', 'ita;fre', 'spa', 'grc', 'fre', 'grc', 'eng', 'ita', 'ger', 'ger', 'dut', 'fre', 'grc', 'pol', 'ara', 'lat', 'dut', 'spa', 'ita', 'fre', 'lat', 'heb', 'lat', 'lat', 'dut', 'ita', 'fre', 'fre', 'fre;lat', 'lat', 'fre', 'grc', 'fre', 'lat', 'lat', 'fre', 'eng', 'ita', 'spa', 'lat', 'spa', 'grc', 'lat;fre', 'lat;fre', 'lat;fre', 'ita', 'heb;grc', 'heb;grc', 'lat', 'dut', 'ita', 'lat', 'heb', 'lat', 'fre', 'fre', 'fre', 'fre', 'swe', 'fre', 'dut', 'dut', 'fre', 'dut', 'spa', 'swe', 'lat', 'lat', 'dut', 'ita', 'fre', 'lat', 'fre', 'lat', 'ita', 'eng', 'lat', 'ita', 'lat', 'dut', 'dut', 'lat', 'eng', 'dut', 'fre', 'ita', 'fre', 'lat', 'ita', 'ita', 'lat', 'fre', 'fre', 'dut', 'lat', 'fre', 'spa', 'ger', 'ita', 'spa', 'lat', 'fre', 'grc', 'lat', 'lat', 'spa', 'grc', 'swe', 'grc', 'swe', 'grc', 'ita', 'lat', 'ita', 'spa', 'lat', 'ita', 'lat', 'lat', 'lat', 'grc', 'ita', 'gre', 'gre', 'dut', 'eng', 'ger', 'lat', 'grc', 'fre', 'heb', 'spa', 'ger', 'heb', 'ita', 'lat', 'lat', 'lat', 'lat', 'grc', 'fre', 'lat', 'lat', 'lat', 'dut', 'grc', 'lat', 'eng', 'fre', 'lat', 'spa', 'spa', 'spa', 'lat', 'grc', 'eng', 'eng', 'spa', 'spa', 'grc', 'lat', 'lat', 'ger', 'pol', 'lat', 'ita', 'fre', 'ita', 'ita', 'lat', 'fre', 'eng', 'fre', 'fre', 'fre', 'fre', 'fre', 'pol', 'peo', 'lat', 'lat', 'lat', 'lat', 'lat', 'lat', 'spa', 'fre', 'lat', 'fre', 'eng', 'eng', 'fre', 'ita', 'eng', 'eng', 'eng', 'eng', 'eng', 'eng', 'eng', 'eng', 'eng', 'eng', 'dut', 'eng;fre', 'eng', 'eng', 'eng', 'eng;dut', 'eng;fre', 'eng', 'dut', 'lat', 'fre;dut', 'ita', 'eng', 'eng', 'eng', 'eng', 'eng', 'eng', 'fre', 'eng', 'eng', 'eng', 'eng', 'eng;fre', 'dut', 'grc', 'ger', 'eng', 'lat', 'fre', 'dut', 'grc', 'eng', 'ita', 'eng', 'ita', 'lat', 'ita', 'fre', 'heb', 'dut', 'dut', 'fre', 'fre', 'eng', 'ita', 'eng', 'fre', 'dut', 'dut', 'lat', 'lat', 'ita', 'fre', 'lat', 'spa', 'fre', 'fre', 'dut', 'fre', 'dut', 'lat', 'lat', 'fre', 'spa', 'dan', 'dut', 'dut', 'fre', 'dut', 'lat', 'ita', 'grc;lat', 'fre', 'spa', 'spa', 'dut', 'dut', 'dut', 'lat', 'fre', 'fre', 'ita', 'spa', 'fre', 'lat', 'fre', 'fre', 'fre', 'ita', 'ita', 'ita', 'fre', 'ita', 'ita', 'lat', 'lat', 'lat', 'ita', 'dut', 'dut', 'eng', 'ita', 'lat', 'lat', 'eng', 'ita', 'fre', 'fre', 'lat', 'lat', 'fre', 'lat', 'lat', 'lat', 'lat', 'lat', 'fre', 'fre', 'lat', 'ita', 'ita', 'ita', 'fre', 'fre', 'fre', 'ita', 'ita', 'spa', 'fre', 'lat', 'ita', 'spa', 'spa', 'spa', 'ita', 'lat', 'grc', 'heb', 'heb;grc', 'fre', 'fre', 'lat', 'lat', 'ita', 'eng', 'ita', 'eng', 'ita', 'fre', 'lat', 'ita', 'spa', 'fre', 'fre', 'eng', 'eng', 'ita', 'ita', 'dut', 'eng', 'eng', 'eng', 'fre', 'eng', 'grc', 'fre', 'lat', 'lat', 'fre', 'lat', 'lat', 'lat', 'fre', 'lat', 'ita', 'dut', 'dut', 'ger', 'dut', 'dut', 'dut', 'dut', 'lat', 'lat', 'dut', 'dut', 'fre', 'lat', 'fre', 'ita', 'ita', 'ita', 'fre', 'lat', 'fre', 'lat', 'dut', 'fre', 'ita', 'lat', 'lat', 'fre', 'fre', 'dut', 'eng', 'dut', 'fre', 'dut', 'dut', 'ita', 'dut', 'lat', 'ita', 'swe', 'lat', 'swe', 'ita', 'ita', 'lat', 'fre', 'eng', 'ita', 'eng', 'eng', 'fre', 'dut', 'grc', 'lat', 'ita', 'fre', 'eng', 'fre', 'eng', 'fre', 'fre', 'fre', 'fre', 'fre', 'fre', 'fre', 'lat', 'lat', 'fre', 'fre;dut', 'fre', 'dut;fre', 'dut;fre', 'fre', 'spa', 'lat', 'dan', 'dut', 'grc', 'dan', 'dan', 'dan', 'dan', 'lat', 'dut', 'dut', 'lat', 'swe', 'lat', 'lat', 'dut', 'fre', 'ita', 'fre', 'fre', 'fre', 'fre', 'dut', 'pol', 'lat', 'eng', 'lat', 'lat', 'dut', 'spa', 'spa', 'spa', 'spa', 'fre', 'fre', 'grc', 'ita', 'grc', 'lat', 'fre', 'lat', 'eng', 'lat', 'lat', 'fre', 'eng', 'eng', 'fre', 'dut', 'lat', 'fre', 'ita', 'fre', 'fre', 'eng', 'fre', 'dut', 'fre', 'fre', 'lat', 'eng', 'fre', 'dut', 'lat', 'lat', 'lat', 'gre', 'grc;lat', 'lat', 'lat', 'ita', 'lat', 'lat', 'lat', 'grc', 'ita', 'dut', 'fre', 'lat', 'lat', 'lat', 'lat', 'grc', 'lat', 'fre', 'ger', 'ita', 'lat', 'dut', 'lat', 'spa', 'lat', 'grc', 'dut', 'lat', 'grc', 'fre', 'lat', 'spa', 'grc', 'dut', 'ger', 'fre', 'eng', 'grc;heb', 'dut', 'fre', 'lat', 'ita', 'fre', 'eng', 'fre', 'eng', 'fre', 'ita', 'ita', 'fre', 'dut', 'eng', 'lat', 'fre', 'eng', 'ita', 'lat', 'fre', 'fre', 'lat', 'fre', 'lat', 'ita', 'dut', 'spa', 'ita', 'lat', 'lat', 'lat', 'lat', 'lat', 'ita', 'lat', 'lat', 'lat', 'lat', 'lat', 'lat', 'ita', 'ita', 'lat', 'grc', 'ita', 'lat', 'lat', 'grc', 'ita', 'lat', 'lat', 'ita', 'ita', 'lat', 'ita', 'lat', 'lat', 'ita', 'ita', 'lat', 'fre', 'pol', 'dut', 'lat', 'lat', 'lat', 'lat', 'lat', 'lat', 'ita', 'ita;lat', 'ita', 'ita', 'ita', 'ita', 'grc', 'grc', 'eng', 'lat', 'eng', 'lat', 'spa', 'ita', 'lat', 'spa', 'spa', 'ita', 'lat', 'lat', 'pol', 'heb', 'lat', 'dut', 'fre', 'spa', 'fre', 'ger', 'dut', 'lat', 'ita', 'ita', 'lat', 'ger', 'grc', 'ita', 'eng', 'ita', 'grc', 'lat', 'ger', 'lat', 'dut', 'lat', 'eng', 'ger', 'eng', 'dut', 'fre', 'lat', 'lat', 'lat', 'ita', 'dut', 'ita', 'ita', 'lat', 'lat', 'lat', 'lat', 'fre', 'grc', 'fre', 'dut', 'grc', 'ita', 'ita', 'ger', 'lat', 'lat', 'ita', 'fre', 'lat', 'grc', 'ita', 'dut', 'lat', 'fre', 'lat', 'lat', 'lat', 'lat', 'lat', 'lat', 'lat', 'lat', 'fre', 'fre', 'lat', 'eng', 'eng', 'eng', 'ita', 'eng', 'eng', 'lat', 'ita', 'lat', 'eng', 'ita', 'fre', 'eng', 'fre', 'lat', 'spa', 'spa', 'ita', 'spa', 'lat', 'lat', 'lat', 'lat', 'fre', 'eng', 'eng', 'lat', 'lat', 'spa', 'spa', 'fre', 'fre', 'lat', 'lat', 'swe', 'lat', 'lat', 'lat', 'lat', 'dut', 'spa', 'lat', 'ita;fre;spa', 'lat', 'dan', 'swe', 'swe', 'swe', 'dut', 'ita', 'dut', 'swe', 'fre', 'swe', 'ita', 'swe', 'swe', 'swe', 'swe', 'swe', 'swe', 'swe', 'swe', 'swe', 'swe', 'swe', 'swe', 'swe', 'fre', 'lat', 'fre', 'swe', 'swe', 'swe', 'swe', 'lat', 'fre;lat', 'lat', 'lat', 'ger', 'ita', 'lat', 'fre', 'dut', 'ita', 'grc', 'swe', 'dut', 'dut', 'eng', 'lat', 'fre', 'lat', 'grc;heb', 'fre;eng', 'fre;eng', 'lat', 'lat', 'lat', 'fre', 'lat', 'lat', 'fre', 'eng', 'lat', 'ara', 'dut', 'ita', 'fre', 'lat', 'ger', 'lat', 'eng', 'dut', 'ita', 'fre', 'grc', 'lat', 'ger', 'fre', 'ita', 'fre', 'fre', 'lat', 'lat', 'fre', 'fre', 'dut', 'fre', 'fre', 'lat', 'ita', 'eng', 'fre', 'lat', 'dut', 'lat', 'dut', 'lat', 'ita', 'fre', 'ita', 'lat', 'grc', 'ara', 'lat', 'eng', 'ita', 'dut', 'lat', 'ita', 'ita', 'ita', 'fre', 'lat', 'lat', 'fre', 'fre', 'eng', 'ita', 'eng', 'spa', 'fre', 'ita', 'fre', 'lat', 'dut', 'ita', 'fre', 'ita', 'spa', 'ita', 'ita', 'fre', 'fre', 'fre', 'fre', 'fre', 'fre', 'fre', 'fre', 'lat', 'ita', 'ger', 'lat', 'lat', 'lat', 'dut', 'dut', 'dut', 'dut', 'fre', 'fre', 'fre', 'fre', 'fre', 'eng', 'fre', 'spa', 'fre', 'spa', 'ita', 'ita', 'fre', 'heb', 'ita', 'grc', 'lat', 'spa', 'ger', 'ger', 'dut', 'cze', 'lat', 'lat', 'lat', 'spa', 'lat', 'fre', 'spa', 'lat', 'spa', 'lat', 'lat', 'lat', 'dut', 'ita', 'heb', 'fre', 'dan', 'lat', 'fre', 'grc', 'fre', 'fre', 'lat', 'lat', 'ita', 'lat', 'lat', 'lat', 'fre', 'grc', 'dut', 'ita', 'ita', 'lat', 'lat', 'dut', 'fre', 'fre', 'ita', 'fre', 'eng', 'eng', 'fre;ita', 'lat', 'ita', 'ita', 'heb', 'ita', 'spa', 'lat', 'spa', 'spa', 'spa', 'spa', 'spa', 'ita', 'lat', 'fre', 'fre', 'ita', 'ger', 'fre', 'fre', 'fre', 'fre', 'fre', 'lat', 'lat', 'fre', 'eng', 'lat', 'ita', 'eng', 'fre', 'fre', 'dut', 'fre', 'fre', 'fre', 'fre', 'dut;lat', 'grc', 'lat', 'lat', 'ger', 'ita', 'ita', 'spa', 'fre', 'lat', 'eng', 'fre', 'lat', 'fre', 'dut', 'pol', 'pol', 'spa', 'spa', 'swe', 'swe', 'dan', 'fre', 'grc', 'dut', 'fre', 'fre', 'fre', 'fre', 'por', 'fre', 'fre', 'fre', 'lat', 'ita', 'ita', 'lat', 'ger', 'lat', 'lat', 'spa', 'ita', 'ita', 'ita', 'lat', 'dut', 'fre', 'lat', 'lat', 'lat', 'ger', 'lat', 'fre', 'fre', 'spa', 'dut', 'dut', 'dut', 'eng', 'fre', 'eng', 'fre', 'dut', 'dut', 'heb;grc', 'grc', 'heb;grc', 'lat', 'fre', 'spa', 'ita', 'ita', 'ita', 'ger', 'eng', 'eng', 'lat', 'eng', 'ita', 'lat', 'heb', 'fre', 'fre', 'fre', 'ger', 'fre', 'swe', 'swe', 'fre', 'fre', 'ita', 'lat', 'lat', 'ger', 'ita', 'ita', 'fre', 'dut', 'spa', 'lat', 'fre;lat', 'eng', 'lat', 'lat', 'fre', 'fre', 'heb', 'lat', 'fre', 'fre', 'fre', 'ger', 'fre', 'lat', 'cze', 'ota', 'dut', 'spa', 'lat', 'fre', 'ita', 'lat', 'lat', 'lat', 'lat', 'grc', 'lat', 'fre', 'fre', 'fre', 'ita', 'ita', 'lat', 'ita', 'lat', 'cze', 'fre', 'lat', 'ger', 'ita', 'lat', 'lat', 'fre', 'lat', 'ita', 'fre', 'fre', 'fre', 'fre', 'ger', 'lat', 'ita', 'ita', 'spa', 'lat', 'fre', 'fre', 'heb', 'ita', 'fre', 'fre', 'ita', 'fre', 'lat', 'lat', 'fre', 'spa', 'grc', 'spa', 'eng', 'eng', 'ita', 'ita', 'fre', 'eng', 'lat', 'ita', 'fre', 'eng', 'fre', 'fre', 'fre', 'ita', 'ita', 'ita', 'ita', 'fre', 'fre', 'fre', 'eng;fre', 'ger', 'spa;lat', 'spa;lat', 'spa;lat', 'lat', 'fre', 'lat', 'lat', 'ita', 'ita', 'dut', 'grc', 'fre', 'fre', 'grc', 'ger', 'lat', 'lat', 'lat', 'eng', 'lat', 'fre', 'fre', 'fre', 'lat', 'spa', 'lat', 'heb', 'dan', 'dan', 'fre', 'fre', 'fre', 'fre', 'lat', 'lat', 'lat', 'heb', 'lat', 'fre', 'fre', 'fre', 'ita', 'ita', 'lat', 'lat', 'lat', 'lat', 'lat', 'ger', 'ita', 'fre', 'ita', 'ita', 'lat', 'lat', 'fre', 'fre', 'ger', 'spa', 'lat', 'fre;dut;lat;grc', 'dut', 'lat', 'ita', 'fre', 'fre', 'ger', 'fre', 'ita', 'fre', 'lat;grc', 'lat;grc', 'lat;grc', 'fre', 'fre', 'dut', 'spa', 'fre', 'fre;lat', 'spa', 'eng', 'fre', 'eng', 'dut', 'eng', 'ita', 'lat', 'lat', 'heb', 'fre', 'lat', 'ita', 'dut;eng', 'ita', 'lat', 'lat', 'lat', 'grc', 'lat', 'lat', 'eng', 'lat', 'fre', 'spa', 'lat', 'ita', 'lat', 'spa', 'spa', 'lat', 'lat', 'fre', 'fre', 'fre', 'lat', 'ita', 'ara', 'lat', 'cze', 'spa', 'spa', 'lat', 'lat', 'fre', 'fre', 'eng', 'eng', 'fre', 'dut', 'dut', 'dut', 'dut', 'spa', 'ita', 'lat', 'spa', 'spa', 'spa', 'spa', 'spa', 'ita', 'ita', 'fre', 'ita', 'ita', 'ita', 'spa', 'eng', 'fre', 'lat', 'fre', 'fre', 'lat', 'lat', 'lat', 'lat', 'dut', 'lat', 'ita', 'fre', 'lat', 'dut', 'ita', 'ita', 'lat', 'lat', 'fre', 'fre', 'spa', 'fre', 'lat', 'ita', 'grc', 'fre', 'ita', 'lat', 'fre', 'lat', 'grc', 'spa', 'spa', 'fre', 'lat', 'per', 'fre', 'lat', 'lat', 'grc', 'lat', 'lat', 'lat', 'lat', 'ita', 'lat', 'lat', 'spa', 'lat', 'lat', 'grc', 'fre', 'lat', 'lat', 'lat', 'lat', 'lat', 'dut', 'spa', 'lat', 'ota', 'dut', 'fre', 'lat', 'fre;dut', 'dut', 'lat', 'lat', 'fre', 'lat', 'lat', 'fre;dut', 'ita', 'fre', 'grc', 'lat', 'dut', 'dut', 'dut', 'eng', 'fre', 'dut', 'ara', 'lat', 'eng', 'ger', 'fre', 'ita', 'lat', 'lat', 'lat', 'lat', 'lat', 'ita;fre;dut', 'ita;fre;dut', 'fre', 'ger', 'ita', 'fre', 'dut', 'fre', 'ger', 'dan', 'lat', 'fre', 'lat', 'eng', 'eng', 'fre', 'fre', 'ita', 'fre', 'fre', 'fre', 'ita', 'lat', 'fre', 'fre', 'ara', 'lat', 'fre', 'spa', 'grc', 'ita', 'heb', 'pol', 'dut', 'ger', 'ita', 'lat', 'fre', 'grc', 'spa', 'grc', 'grc', 'ita', 'eng', 'nds', 'lat', 'grc', 'ita', 'lat', 'lat', 'lat', 'spa', 'dut', 'ger', 'dut', 'dut', 'fre', 'spa', 'ita', 'eng', 'ita', 'lat', 'ita', 'fre', 'lat', 'grc;lat', 'fre', 'fre', 'fre', 'ita', 'dut', 'grc', 'eng', 'ita', 'ita', 'lat', 'fre', 'ita', 'eng', 'grc', 'grc', 'eng', 'eng', 'grc', 'grc', 'grc', 'fre', 'grc', 'grc', 'lat', 'ita', 'spa', 'spa;ita', 'lat', 'fre', 'lat', 'ita', 'ita', 'lat', 'spa;por', 'ger', 'grc', 'ita', 'por', 'lat', 'lat', 'fre', 'eng', 'ita', 'ita', 'lat', 'lat', 'ita', 'fre', 'fre', 'ita', 'fre', 'ger', 'dan', 'spa', 'spa', 'spa', 'ger', 'lat', 'spa', 'lat', 'fre', 'lat', 'spa', 'lat', 'lat', 'ger', 'ger', 'eng', 'lat', 'fre', 'fre', 'fre', 'grc', 'lat', 'lat', 'fre', 'lat', 'fre', 'fre', 'lat', 'fre', 'lat', 'spa', 'fre;ita', 'lat', 'fre;lat', 'lat', 'lat', 'ita', 'fre', 'ita', 'eng', 'lat', 'dut', 'lat', 'lat', 'lat', 'eng', 'eng', 'dut', 'eng', 'dut', 'fre', 'grc', 'fre', 'spa', 'pol', 'eng', 'fre', 'eng', 'lat', 'lat', 'fre', 'eng', 'ita', 'lat', 'spa', 'eng', 'lat', 'ita', 'lat', 'grc', 'fre', 'fre', 'per', 'eng', 'grc', 'ita', 'grc', 'ger', 'ita', 'lat', 'fre', 'ita', 'fre', 'ita', 'lat', 'eng', 'dut', 'dut', 'dut', 'ita', 'fre', 'spa', 'spa', 'ita', 'fre', 'eng', 'lat', 'heb', 'dut', 'dut', 'dut', 'lat;dut;fre', 'ita', 'ita', 'ita', 'ita', 'ita', 'eng', 'dut', 'lat', 'ita', 'dut', 'eng', 'eng', 'lat', 'fre', 'spa', 'lat', 'lat', 'fre', 'ita', 'fre', 'ita', 'ita', 'ita', 'dut', 'lat', 'lat', 'fre', 'lat', 'dut', 'fre', 'fre', 'dut', 'ita', 'spa', 'dut', 'lat', 'dut', 'lat', 'fre', 'lat', 'dut', 'lat', 'ita', 'dut', 'dut', 'dut', 'lat', 'fre', 'lat', 'lat', 'fre', 'lat', 'lat', 'fre', 'ita', 'dut', 'dut', 'ita', 'lat', 'lat', 'dut', 'lat', 'lat', 'fre', 'lat', 'ita', 'lat', 'lat', 'lat', 'ota', 'spa', 'dut', 'dut', 'lat', 'lat', 'lat', 'lat', 'lat', 'grc', 'lat', 'lat', 'lat', 'dut', 'lat', 'fre', 'fre', 'fre', 'fre', 'eng', 'ita', 'ita', 'fre', 'fre', 'dut', 'cat', 'fre', 'ger', 'lat', 'fre', 'lat', 'spa', 'eng', 'lat', 'lat', 'eng', 'fre;ita', 'ita', 'ita', 'fre', 'lat', 'lat', 'fre', 'fre', 'fre', 'dut', 'fre', 'fre', 'eng', 'ita', 'lat', 'grc', 'dut', 'fre', 'eng', 'lat;grc', 'fre', 'fre', 'ita', 'lat', 'heb', 'lat', 'lat', 'eng', 'lat', 'ita', 'cze', 'fre', 'heb;grc', 'lat', 'lat', 'lat', 'grc', 'fre', 'fre', 'lat', 'spa', 'lat', 'lat', 'lat', 'fre;lat', 'eng', 'eng', 'lat', 'ita', 'lat', 'spa', 'por', 'lat;grc', 'lat', 'ita', 'spa', 'spa', 'spa', 'grc', 'eng', 'ita', 'fre', 'dut', 'ger', 'lat', 'lat', 'lat', 'dut', 'fre', 'lat', 'lat', 'spa', 'gre', 'fre', 'fre', 'heb', 'fre', 'swe', 'ger', 'lat', 'lat', 'lat', 'lat', 'ita', 'lat', 'lat', 'lat', 'dut', 'ger', 'ita', 'ita', 'lat', 'grc', 'grc', 'grc', 'ita', 'fre', 'ita', 'ita', 'swe', 'ger', 'fre', 'fre', 'ita', 'lat', 'fre', 'ita', 'ita', 'fre', 'ita', 'heb', 'lat', 'grc', 'lat', 'grc', 'lat', 'lat', 'dut', 'grc', 'heb;grc', 'heb;grc', 'heb;grc', 'heb;grc', 'lat', 'lat', 'lat', 'grc', 'lat', 'ita', 'lat', 'cze', 'lat', 'ger', 'spa', 'ita', 'fre', 'ita', 'ita', 'ita', 'spa', 'lat', 'lat', 'ita', 'lat', 'fre', 'fre', 'spa', 'lat', 'spa', 'eng', 'lat', 'hun', 'ara']\n"
          ]
        }
      ]
    },
    {
      "cell_type": "markdown",
      "source": [
        "## 2.1 setting up the environment for download xml and converting to json\n",
        "\n",
        "We will try to download again the original xml for 17, check if it agrees with Dump, and then try to download 18, etc."
      ],
      "metadata": {
        "id": "Neb7mdYzvVTd"
      }
    },
    {
      "cell_type": "code",
      "execution_count": null,
      "metadata": {
        "id": "nGyrrFQB_wdt"
      },
      "outputs": [],
      "source": [
        "!git clone https://github.com/hbeyer/pylib"
      ]
    },
    {
      "cell_type": "code",
      "source": [
        "%cd /content/pylib/\n",
        "!pwd"
      ],
      "metadata": {
        "colab": {
          "base_uri": "https://localhost:8080/"
        },
        "id": "GT_ARX7WCpZt",
        "outputId": "10ba2189-a006-425f-dca1-a2ddc6827849"
      },
      "execution_count": null,
      "outputs": [
        {
          "output_type": "stream",
          "name": "stdout",
          "text": [
            "/content/pylib\n",
            "/content/pylib\n"
          ]
        }
      ]
    },
    {
      "cell_type": "code",
      "source": [
        "from lib import bookwheel as bw"
      ],
      "metadata": {
        "id": "24QbZcLgIrCa"
      },
      "execution_count": null,
      "outputs": []
    },
    {
      "cell_type": "code",
      "source": [
        "import logging\n",
        "import pickle\n",
        "from lib import sru\n",
        "from lib import isil\n",
        "from lib import xmlreader as xr\n",
        "from lib import pica"
      ],
      "metadata": {
        "id": "1Bk4apdcJmFb"
      },
      "execution_count": null,
      "outputs": []
    },
    {
      "cell_type": "code",
      "source": [
        "%cd /content\n",
        "!pwd"
      ],
      "metadata": {
        "colab": {
          "base_uri": "https://localhost:8080/"
        },
        "id": "s04uwOlgFccA",
        "outputId": "6ff9eb30-0f28-4035-e18f-4063dfba45ad"
      },
      "execution_count": null,
      "outputs": [
        {
          "output_type": "stream",
          "name": "stdout",
          "text": [
            "/content\n",
            "/content\n"
          ]
        }
      ]
    },
    {
      "cell_type": "code",
      "source": [
        "# testing\n",
        "# from lib import bookwheel as bw\n",
        "cat = bw.Catalogue\n",
        "sec = cat.get_section(2589)\n",
        "print(sec)\n"
      ],
      "metadata": {
        "colab": {
          "base_uri": "https://localhost:8080/"
        },
        "id": "QIn7UdSkAJuR",
        "outputId": "276b653a-4105-4c17-fbd7-49c338052f7b"
      },
      "execution_count": null,
      "outputs": [
        {
          "output_type": "stream",
          "name": "stdout",
          "text": [
            "{'start': 2511, 'end': 2738, 'group': 'Libri Varii', 'dateBegin': '1634', 'year': 1634, 'writer': 'Herzog August'}\n"
          ]
        }
      ]
    },
    {
      "cell_type": "code",
      "source": [
        "!mkdir xmlbibliography\n",
        "!mkdir xmlbibliographyac"
      ],
      "metadata": {
        "id": "ffhaOHSALlvM"
      },
      "execution_count": null,
      "outputs": []
    },
    {
      "cell_type": "code",
      "source": [
        "!mkdir jsonbibliography"
      ],
      "metadata": {
        "id": "1wXpb3u7M0Uw"
      },
      "execution_count": null,
      "outputs": []
    },
    {
      "cell_type": "code",
      "source": [],
      "metadata": {
        "id": "EUJJ1Ju5utQE"
      },
      "execution_count": null,
      "outputs": []
    },
    {
      "cell_type": "markdown",
      "source": [
        "## 2.2 running the download script for RecordVD17"
      ],
      "metadata": {
        "id": "9OhpGVTVvBKm"
      }
    },
    {
      "cell_type": "code",
      "source": [
        "# import logging\n",
        "# import pickle\n",
        "# from lib import sru\n",
        "# from lib import isil\n",
        "# from lib import xmlreader as xr\n",
        "# from lib import pica\n",
        "\n",
        "logging.basicConfig(level=logging.ERROR)\n",
        "\n",
        "# Festlegen der Speicherpfade und der Datensätze pro JSON-Datei\n",
        "# source_folder = \"{Ordner mit den PICAXML-Dateien}/\"\n",
        "source_folder = \"/content/xmlbibliography/\"\n",
        "# source_folder_ac = \"{Ordner mit den PICAXML-Dateien für Gesamtaufnahmen mehrbändiger Werke (Ac-Sätze)}/\"\n",
        "source_folder_ac = \"/content/xmlbibliography/\"\n",
        "# target_folder = \"{Ordner zum Speichern der JSON-Dateien}/\"\n",
        "target_folder = \"/content/jsonbibliography/\"\n",
        "size = 1000\n",
        "limit = 350000\n",
        "\n",
        "# Laden der Ac-Sätze und Extrahieren der Gattungsbegriffe\n",
        "req = sru.Request_VD17()\n",
        "num = req.prepare(\"pica.bbg=Ac*\")\n",
        "print(req.url)\n",
        "print(req.numFound)\n",
        "req.download(source_folder_ac)\n",
        "\n",
        "res = {}\n",
        "reader = xr.DownloadReader(source_folder_ac, \"record\", \"info:srw/schema/5/picaXML-v1.0\")\n",
        "\n",
        "for count, node in enumerate(reader):\n",
        "    rec = pica.RecordVD17(node)\n",
        "    gatt = [gat for gat in rec.gatt]\n",
        "    if gatt == []:\n",
        "        continue\n",
        "    res[rec.ppn] = gatt\n",
        "    if count > 100000:\n",
        "        break\n",
        "\n",
        "with open('gattungen-ac', 'wb') as file:\n",
        "    pickle.dump(res, file)\n",
        "\n",
        "# Download der PICA-XML-Daten\n",
        "req = sru.Request_VD17()\n",
        "num = req.prepare(\"pica.bbg=(Aa* or Af*)\")\n",
        "print(req.url)\n",
        "print(req.numFound)\n",
        "req.download(source_folder)\n",
        "\n",
        "# Auslesen und Abspeichern in JSON\n",
        "with open('gattungen-ac','rb') as file:\n",
        "    gatt_ac = pickle.load(file)\n",
        "\n",
        "reader = xr.DownloadReader(source_folder, \"record\", \"info:srw/schema/5/picaXML-v1.0\")\n",
        "\n",
        "content = []\n",
        "fnn = []\n",
        "setn = 1\n",
        "count = 0\n",
        "\n",
        "for no, node in enumerate(reader):\n",
        "    rec = pica.RecordVD17(node)\n",
        "    if rec.get_rec_type() in [\"Teilband\", \"Teilband mit eigenem Titel\"]:\n",
        "        try:\n",
        "            rec.gatt = gatt_ac[rec.ppn_sup]\n",
        "        except:\n",
        "            logging.info(f\"Keine Gattungsbegriffe bei PPN {rec.ppn_sup}\")\n",
        "    content.append(rec)\n",
        "    count += 1\n",
        "    if count >= size:\n",
        "        recl = pica.RecordList(content)\n",
        "        fn = f\"vd17-{str(setn).zfill(3)}\"\n",
        "        recl.to_json(target_folder + fn)\n",
        "        content = []\n",
        "        setn += 1\n",
        "        count = 0\n",
        "    if no > limit:\n",
        "        break\n",
        "if content != []:\n",
        "    recl = pica.RecordList(content)\n",
        "    fn = f\"vd17-{str(setn).zfill(3)}\"\n",
        "    recl.to_json(target_folder + fn)\n"
      ],
      "metadata": {
        "id": "7F82KoohI6ZY"
      },
      "execution_count": null,
      "outputs": []
    },
    {
      "cell_type": "markdown",
      "source": [
        "## testing commands - to be removed"
      ],
      "metadata": {
        "id": "iCJr9dNqu2TM"
      }
    },
    {
      "cell_type": "code",
      "source": [
        "%cd xmlbibliography/"
      ],
      "metadata": {
        "colab": {
          "base_uri": "https://localhost:8080/"
        },
        "id": "qirpT0peL1h7",
        "outputId": "c767ddfe-a3b7-47f6-c845-a6b8a3f0cf6a"
      },
      "execution_count": null,
      "outputs": [
        {
          "output_type": "stream",
          "name": "stdout",
          "text": [
            "/content/xmlbibliography\n"
          ]
        }
      ]
    },
    {
      "cell_type": "code",
      "source": [
        "!echo $PYTHONPATH"
      ],
      "metadata": {
        "colab": {
          "base_uri": "https://localhost:8080/"
        },
        "id": "YB_MnmB_ASw5",
        "outputId": "309abc9c-d9de-468d-fb7b-7622b63eab55"
      },
      "execution_count": null,
      "outputs": [
        {
          "output_type": "stream",
          "name": "stdout",
          "text": [
            "\"$/env/python\"\n"
          ]
        }
      ]
    },
    {
      "cell_type": "code",
      "source": [
        "!echo $PATH"
      ],
      "metadata": {
        "colab": {
          "base_uri": "https://localhost:8080/"
        },
        "id": "s86IcciVHZW7",
        "outputId": "12ba24dc-e6e1-4da7-f7a3-b96f1ad9c31f"
      },
      "execution_count": null,
      "outputs": [
        {
          "output_type": "stream",
          "name": "stdout",
          "text": [
            "\"/opt/bin:/usr/local/nvidia/bin:/usr/local/cuda/bin:/usr/local/sbin:/usr/local/bin:/usr/sbin:/usr/bin:/sbin:/bin:/tools/node/bin:/tools/google-cloud-sdk/bin:/content/pylib/lib\"\n"
          ]
        }
      ]
    },
    {
      "cell_type": "code",
      "source": [
        "%env PATH=\"/opt/bin:/usr/local/nvidia/bin:/usr/local/cuda/bin:/usr/local/sbin:/usr/local/bin:/usr/sbin:/usr/bin:/sbin:/bin:/tools/node/bin:/tools/google-cloud-sdk/bin:/content/pylib/lib\""
      ],
      "metadata": {
        "colab": {
          "base_uri": "https://localhost:8080/"
        },
        "id": "DPZelF_WIFWJ",
        "outputId": "27baf29e-7fc7-40ce-bbb1-23a5a86bb757"
      },
      "execution_count": null,
      "outputs": [
        {
          "output_type": "stream",
          "name": "stdout",
          "text": [
            "env: PATH=\"/opt/bin:/usr/local/nvidia/bin:/usr/local/cuda/bin:/usr/local/sbin:/usr/local/bin:/usr/sbin:/usr/bin:/sbin:/bin:/tools/node/bin:/tools/google-cloud-sdk/bin:/content/pylib/lib\"\n"
          ]
        }
      ]
    },
    {
      "cell_type": "code",
      "source": [
        "%env PYTHONPATH=\"$/env/python\""
      ],
      "metadata": {
        "colab": {
          "base_uri": "https://localhost:8080/"
        },
        "id": "HIiTbUU7Cm-2",
        "outputId": "5ee0b92e-2c0a-485d-97a7-0462d4dbb27d"
      },
      "execution_count": null,
      "outputs": [
        {
          "output_type": "stream",
          "name": "stdout",
          "text": [
            "env: PYTHONPATH=\"$/env/python\"\n"
          ]
        }
      ]
    },
    {
      "cell_type": "code",
      "source": [
        "%env PYTHONPATH=\"$/env/python:/content/pylib/lib/:/content/pylib/lib/bookwheel.py\"\n",
        "# !PYTHONPATH=. ./comet/cli/score.py"
      ],
      "metadata": {
        "colab": {
          "base_uri": "https://localhost:8080/"
        },
        "id": "XfHI8zshAZc_",
        "outputId": "dcd3f04e-9b97-4428-872b-0ffc6155f40c"
      },
      "execution_count": null,
      "outputs": [
        {
          "output_type": "stream",
          "name": "stdout",
          "text": [
            "env: PYTHONPATH=\"$/env/python:/content/pylib/lib/:/content/pylib/lib/bookwheel.py\"\n"
          ]
        }
      ]
    },
    {
      "cell_type": "code",
      "source": [
        "%cd /content/\n",
        "!pwd"
      ],
      "metadata": {
        "id": "7QNOb_ahFZZ_",
        "colab": {
          "base_uri": "https://localhost:8080/"
        },
        "outputId": "ca1049d3-88b3-41a4-d487-e97c1a90a79c"
      },
      "execution_count": null,
      "outputs": [
        {
          "output_type": "stream",
          "name": "stdout",
          "text": [
            "/content\n",
            "/content\n"
          ]
        }
      ]
    },
    {
      "cell_type": "code",
      "source": [
        "!wget http://sru.k10plus.de/vd17?version=2.0&operation=searchRetrieve&query=pica.bbg=%28Aa*%20or%20Af*%29&maximumRecords=500&startRecord=1&recordSchema=picaxml"
      ],
      "metadata": {
        "id": "HAxwIMRYL4X2"
      },
      "execution_count": null,
      "outputs": []
    },
    {
      "cell_type": "code",
      "source": [
        "!mv vd17?version=2.0 vd17_500.xml"
      ],
      "metadata": {
        "id": "D3xzAOeVMOlb"
      },
      "execution_count": null,
      "outputs": []
    },
    {
      "cell_type": "code",
      "source": [
        "%cd /content/"
      ],
      "metadata": {
        "colab": {
          "base_uri": "https://localhost:8080/"
        },
        "id": "uDvJzrJVMWIG",
        "outputId": "1953d3b1-dbad-4568-c859-4ecb2ce5d003"
      },
      "execution_count": null,
      "outputs": [
        {
          "output_type": "stream",
          "name": "stdout",
          "text": [
            "/content\n"
          ]
        }
      ]
    }
  ]
}