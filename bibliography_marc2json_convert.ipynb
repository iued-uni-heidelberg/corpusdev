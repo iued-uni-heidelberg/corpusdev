{
  "nbformat": 4,
  "nbformat_minor": 0,
  "metadata": {
    "colab": {
      "provenance": [],
      "authorship_tag": "ABX9TyNdTr71Obozs8hsSnJdBRf/",
      "include_colab_link": true
    },
    "kernelspec": {
      "name": "python3",
      "display_name": "Python 3"
    },
    "language_info": {
      "name": "python"
    }
  },
  "cells": [
    {
      "cell_type": "markdown",
      "metadata": {
        "id": "view-in-github",
        "colab_type": "text"
      },
      "source": [
        "<a href=\"https://colab.research.google.com/github/iued-uni-heidelberg/corpusdev/blob/main/bibliography_marc2json_convert.ipynb\" target=\"_parent\"><img src=\"https://colab.research.google.com/assets/colab-badge.svg\" alt=\"Open In Colab\"/></a>"
      ]
    },
    {
      "cell_type": "code",
      "execution_count": 1,
      "metadata": {
        "colab": {
          "base_uri": "https://localhost:8080/"
        },
        "id": "gKW4eoegjzWo",
        "outputId": "1195b094-8cdd-4e99-fb28-e0983eed2b1e"
      },
      "outputs": [
        {
          "output_type": "stream",
          "name": "stdout",
          "text": [
            "Cloning into 'yaz'...\n",
            "remote: Enumerating objects: 42939, done.\u001b[K\n",
            "remote: Counting objects: 100% (792/792), done.\u001b[K\n",
            "remote: Compressing objects: 100% (311/311), done.\u001b[K\n",
            "remote: Total 42939 (delta 514), reused 726 (delta 474), pack-reused 42147\u001b[K\n",
            "Receiving objects: 100% (42939/42939), 8.25 MiB | 8.08 MiB/s, done.\n",
            "Resolving deltas: 100% (34015/34015), done.\n",
            "Submodule 'doc/common' (https://github.com/indexdata/id-docbook-common) registered for path 'doc/common'\n",
            "Submodule 'm4' (https://github.com/indexdata/m4) registered for path 'm4'\n",
            "Submodule 'src/libstemmer_c' (https://github.com/indexdata/libstemmer_c) registered for path 'src/libstemmer_c'\n",
            "Cloning into '/content/yaz/doc/common'...\n",
            "remote: Enumerating objects: 332, done.        \n",
            "remote: Counting objects: 100% (3/3), done.        \n",
            "remote: Compressing objects: 100% (3/3), done.        \n",
            "remote: Total 332 (delta 0), reused 1 (delta 0), pack-reused 329        \n",
            "Receiving objects: 100% (332/332), 77.47 KiB | 702.00 KiB/s, done.\n",
            "Resolving deltas: 100% (206/206), done.\n",
            "Cloning into '/content/yaz/m4'...\n",
            "remote: Enumerating objects: 311, done.        \n",
            "remote: Counting objects: 100% (31/31), done.        \n",
            "remote: Compressing objects: 100% (25/25), done.        \n",
            "remote: Total 311 (delta 14), reused 16 (delta 6), pack-reused 280        \n",
            "Receiving objects: 100% (311/311), 67.79 KiB | 746.00 KiB/s, done.\n",
            "Resolving deltas: 100% (182/182), done.\n",
            "Cloning into '/content/yaz/src/libstemmer_c'...\n",
            "remote: Enumerating objects: 114, done.        \n",
            "remote: Counting objects: 100% (4/4), done.        \n",
            "remote: Compressing objects: 100% (4/4), done.        \n",
            "remote: Total 114 (delta 0), reused 1 (delta 0), pack-reused 110        \n",
            "Receiving objects: 100% (114/114), 196.84 KiB | 1.01 MiB/s, done.\n",
            "Resolving deltas: 100% (76/76), done.\n",
            "Submodule path 'doc/common': checked out 'e128b8645250a51beb78d25592db8b1f916d3c60'\n",
            "Submodule path 'm4': checked out 'b7c7676b3056f0e38b593ef494e2202db3936b13'\n",
            "Submodule path 'src/libstemmer_c': checked out '0804cef0f9407d5d27886deec276a4d872037266'\n"
          ]
        }
      ],
      "source": [
        "!git clone --recursive https://github.com/indexdata/yaz.git"
      ]
    }
  ]
}