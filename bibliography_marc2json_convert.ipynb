{
  "nbformat": 4,
  "nbformat_minor": 0,
  "metadata": {
    "colab": {
      "provenance": [],
      "authorship_tag": "ABX9TyMrMHn0hO3N0g3VYFbi7ouN",
      "include_colab_link": true
    },
    "kernelspec": {
      "name": "python3",
      "display_name": "Python 3"
    },
    "language_info": {
      "name": "python"
    }
  },
  "cells": [
    {
      "cell_type": "markdown",
      "metadata": {
        "id": "view-in-github",
        "colab_type": "text"
      },
      "source": [
        "<a href=\"https://colab.research.google.com/github/iued-uni-heidelberg/corpusdev/blob/main/bibliography_marc2json_convert.ipynb\" target=\"_parent\"><img src=\"https://colab.research.google.com/assets/colab-badge.svg\" alt=\"Open In Colab\"/></a>"
      ]
    },
    {
      "cell_type": "code",
      "execution_count": 1,
      "metadata": {
        "colab": {
          "base_uri": "https://localhost:8080/"
        },
        "id": "gKW4eoegjzWo",
        "outputId": "1195b094-8cdd-4e99-fb28-e0983eed2b1e"
      },
      "outputs": [
        {
          "output_type": "stream",
          "name": "stdout",
          "text": [
            "Cloning into 'yaz'...\n",
            "remote: Enumerating objects: 42939, done.\u001b[K\n",
            "remote: Counting objects: 100% (792/792), done.\u001b[K\n",
            "remote: Compressing objects: 100% (311/311), done.\u001b[K\n",
            "remote: Total 42939 (delta 514), reused 726 (delta 474), pack-reused 42147\u001b[K\n",
            "Receiving objects: 100% (42939/42939), 8.25 MiB | 8.08 MiB/s, done.\n",
            "Resolving deltas: 100% (34015/34015), done.\n",
            "Submodule 'doc/common' (https://github.com/indexdata/id-docbook-common) registered for path 'doc/common'\n",
            "Submodule 'm4' (https://github.com/indexdata/m4) registered for path 'm4'\n",
            "Submodule 'src/libstemmer_c' (https://github.com/indexdata/libstemmer_c) registered for path 'src/libstemmer_c'\n",
            "Cloning into '/content/yaz/doc/common'...\n",
            "remote: Enumerating objects: 332, done.        \n",
            "remote: Counting objects: 100% (3/3), done.        \n",
            "remote: Compressing objects: 100% (3/3), done.        \n",
            "remote: Total 332 (delta 0), reused 1 (delta 0), pack-reused 329        \n",
            "Receiving objects: 100% (332/332), 77.47 KiB | 702.00 KiB/s, done.\n",
            "Resolving deltas: 100% (206/206), done.\n",
            "Cloning into '/content/yaz/m4'...\n",
            "remote: Enumerating objects: 311, done.        \n",
            "remote: Counting objects: 100% (31/31), done.        \n",
            "remote: Compressing objects: 100% (25/25), done.        \n",
            "remote: Total 311 (delta 14), reused 16 (delta 6), pack-reused 280        \n",
            "Receiving objects: 100% (311/311), 67.79 KiB | 746.00 KiB/s, done.\n",
            "Resolving deltas: 100% (182/182), done.\n",
            "Cloning into '/content/yaz/src/libstemmer_c'...\n",
            "remote: Enumerating objects: 114, done.        \n",
            "remote: Counting objects: 100% (4/4), done.        \n",
            "remote: Compressing objects: 100% (4/4), done.        \n",
            "remote: Total 114 (delta 0), reused 1 (delta 0), pack-reused 110        \n",
            "Receiving objects: 100% (114/114), 196.84 KiB | 1.01 MiB/s, done.\n",
            "Resolving deltas: 100% (76/76), done.\n",
            "Submodule path 'doc/common': checked out 'e128b8645250a51beb78d25592db8b1f916d3c60'\n",
            "Submodule path 'm4': checked out 'b7c7676b3056f0e38b593ef494e2202db3936b13'\n",
            "Submodule path 'src/libstemmer_c': checked out '0804cef0f9407d5d27886deec276a4d872037266'\n"
          ]
        }
      ],
      "source": [
        "!git clone --recursive https://github.com/indexdata/yaz.git"
      ]
    },
    {
      "cell_type": "code",
      "source": [
        "!wget https://www.bib-bvb.de/OpenData/b3kat_export_2023_11_teil01.xml.gz"
      ],
      "metadata": {
        "colab": {
          "base_uri": "https://localhost:8080/"
        },
        "id": "E4GWEwdnkFDr",
        "outputId": "e15cc59c-5384-4002-a22b-e8461319d9d0"
      },
      "execution_count": 2,
      "outputs": [
        {
          "output_type": "stream",
          "name": "stdout",
          "text": [
            "--2024-01-16 13:58:14--  https://www.bib-bvb.de/OpenData/b3kat_export_2023_11_teil01.xml.gz\n",
            "Resolving www.bib-bvb.de (www.bib-bvb.de)... 129.187.139.2\n",
            "Connecting to www.bib-bvb.de (www.bib-bvb.de)|129.187.139.2|:443... connected.\n",
            "HTTP request sent, awaiting response... 200 OK\n",
            "Length: 329072208 (314M) [application/x-gzip]\n",
            "Saving to: ‘b3kat_export_2023_11_teil01.xml.gz’\n",
            "\n",
            "b3kat_export_2023_1 100%[===================>] 313.83M  12.0MB/s    in 64s     \n",
            "\n",
            "2024-01-16 13:59:19 (4.92 MB/s) - ‘b3kat_export_2023_11_teil01.xml.gz’ saved [329072208/329072208]\n",
            "\n"
          ]
        }
      ]
    },
    {
      "cell_type": "code",
      "source": [
        "%cd ./yaz/"
      ],
      "metadata": {
        "colab": {
          "base_uri": "https://localhost:8080/"
        },
        "id": "Id3rA2amkOFD",
        "outputId": "33571f39-4526-4573-dede-6e57b89a5590"
      },
      "execution_count": 14,
      "outputs": [
        {
          "output_type": "stream",
          "name": "stdout",
          "text": [
            "/content/yaz\n"
          ]
        }
      ]
    },
    {
      "cell_type": "code",
      "source": [
        "!pwd"
      ],
      "metadata": {
        "colab": {
          "base_uri": "https://localhost:8080/"
        },
        "id": "O8UXqHFLmkwC",
        "outputId": "ba00f378-9a2f-49a2-e040-176bf42f92a8"
      },
      "execution_count": 19,
      "outputs": [
        {
          "output_type": "stream",
          "name": "stdout",
          "text": [
            "/content/yaz\n"
          ]
        }
      ]
    },
    {
      "cell_type": "code",
      "source": [
        "!./buildconf.sh"
      ],
      "metadata": {
        "colab": {
          "base_uri": "https://localhost:8080/"
        },
        "id": "8430Pe9_lvp8",
        "outputId": "094a431c-8677-4426-9301-338ebe88d774"
      },
      "execution_count": 20,
      "outputs": [
        {
          "output_type": "stream",
          "name": "stdout",
          "text": [
            "+ aclocal -I m4\n",
            "+ grep AC_CONFIG_HEADERS configure.ac\n",
            "+ autoheader\n",
            "+ grep ^LT_INIT configure.ac\n",
            "+ has_libtool=true\n",
            "+ libtoolize --automake --force\n",
            "./buildconf.sh: 41: m4/id-config.sh: libtoolize: not found\n",
            "+ automake --add-missing\n",
            "src/Makefile.am:10: error: Libtool library used but 'LIBTOOL' is undefined\n",
            "src/Makefile.am:10:   The usual way to define 'LIBTOOL' is to add 'LT_INIT'\n",
            "src/Makefile.am:10:   to 'configure.ac' and run 'aclocal' and 'autoconf' again.\n",
            "src/Makefile.am:10:   If 'LT_INIT' is in 'configure.ac', make sure\n",
            "src/Makefile.am:10:   its definition is in aclocal's search path.\n",
            "+ autoconf\n",
            "+ set -\n",
            "\n",
            "Build the Makefiles with the configure command.\n",
            "  ./configure [--someoption=somevalue ...]\n",
            "\n",
            "For help on options or configuring run\n",
            "  ./configure --help\n",
            "\n",
            "Build and install binaries with the usual\n",
            "  make\n",
            "  make check\n",
            "  make install\n",
            "\n",
            "Build distribution tarball with\n",
            "  make dist\n",
            "\n",
            "Verify distribution tarball with\n",
            "  make distcheck\n",
            "\n",
            "When building from Git, you need these Debian packages:\n",
            "  autoconf automake libtool gcc bison tclsh\n",
            "  xsltproc docbook docbook-xml docbook-xsl\n",
            "  libxslt1-dev libgnutls-dev libreadline-dev libwrap0-dev\n",
            "  pkg-config libicu-dev make\n",
            "\n",
            "And if you want to make a Debian package: dpkg-dev fakeroot debhelper\n",
            "(Then run \"dpkg-buildpackage -rfakeroot\" in this directory.)\n",
            "\n"
          ]
        }
      ]
    },
    {
      "cell_type": "code",
      "source": [
        "!sudo apt-get install build-essential autoconf automake flex bison"
      ],
      "metadata": {
        "colab": {
          "base_uri": "https://localhost:8080/"
        },
        "id": "aSEzAJPxodYb",
        "outputId": "8ae09412-1eb9-4bee-a2f6-97a079319013"
      },
      "execution_count": 23,
      "outputs": [
        {
          "output_type": "stream",
          "name": "stdout",
          "text": [
            "Reading package lists... Done\n",
            "Building dependency tree... Done\n",
            "Reading state information... Done\n",
            "autoconf is already the newest version (2.71-2).\n",
            "automake is already the newest version (1:1.16.5-1.3).\n",
            "bison is already the newest version (2:3.8.2+dfsg-1build1).\n",
            "build-essential is already the newest version (12.9ubuntu3).\n",
            "flex is already the newest version (2.6.4-8build2).\n",
            "0 upgraded, 0 newly installed, 0 to remove and 24 not upgraded.\n"
          ]
        }
      ]
    },
    {
      "cell_type": "code",
      "source": [
        "!./configure"
      ],
      "metadata": {
        "colab": {
          "base_uri": "https://localhost:8080/"
        },
        "id": "NNTUwZghm0CL",
        "outputId": "210db074-da69-4dfe-9322-862d6d20fc20"
      },
      "execution_count": 24,
      "outputs": [
        {
          "output_type": "stream",
          "name": "stdout",
          "text": [
            "checking for a BSD-compatible install... /usr/bin/install -c\n",
            "checking whether build environment is sane... yes\n",
            "checking for a race-free mkdir -p... /usr/bin/mkdir -p\n",
            "checking for gawk... no\n",
            "checking for mawk... mawk\n",
            "checking whether make sets $(MAKE)... yes\n",
            "checking whether make supports nested variables... yes\n",
            "checking for gcc... gcc\n",
            "checking whether the C compiler works... yes\n",
            "checking for C compiler default output file name... a.out\n",
            "checking for suffix of executables... \n",
            "checking whether we are cross compiling... no\n",
            "checking for suffix of object files... o\n",
            "checking whether the compiler supports GNU C... yes\n",
            "checking whether gcc accepts -g... yes\n",
            "checking for gcc option to enable C11 features... none needed\n",
            "checking whether gcc understands -c and -o together... yes\n",
            "checking whether make supports the include directive... yes (GNU style)\n",
            "checking dependency style of gcc... gcc3\n",
            "checking how to run the C preprocessor... gcc -E\n",
            "checking for bison... bison -y\n",
            "checking for tclsh... tclsh\n",
            "./configure: line 4752: LT_INIT: command not found\n",
            "checking for pkg-config... /usr/bin/pkg-config\n",
            "checking for docbookx.dtd... Not found\n",
            "checking for docbook.dsl... Not found\n",
            "checking for htmlhelp.xsl... Not found\n",
            "checking for stdio.h... yes\n",
            "checking for stdlib.h... yes\n",
            "checking for string.h... yes\n",
            "checking for inttypes.h... yes\n",
            "checking for stdint.h... yes\n",
            "checking for strings.h... yes\n",
            "checking for sys/stat.h... yes\n",
            "checking for sys/types.h... yes\n",
            "checking for unistd.h... yes\n",
            "checking whether byte ordering is bigendian... no\n",
            "checking for dirent.h... yes\n",
            "checking for fnmatch.h... yes\n",
            "checking for wchar.h... yes\n",
            "checking for locale.h... yes\n",
            "checking for langinfo.h... yes\n",
            "checking for pwd.h... yes\n",
            "checking for unistd.h... (cached) yes\n",
            "checking for sys/select.h... yes\n",
            "checking for sys/socket.h... yes\n",
            "checking for sys/stat.h... (cached) yes\n",
            "checking for sys/time.h... yes\n",
            "checking for sys/times.h... yes\n",
            "checking for sys/types.h... (cached) yes\n",
            "checking for sys/un.h... yes\n",
            "checking for sys/wait.h... yes\n",
            "checking for sys/prctl.h... yes\n",
            "checking for netdb.h... yes\n",
            "checking for arpa/inet.h... yes\n",
            "checking for netinet/tcp.h... yes\n",
            "checking for netinet/in_systm.h... yes\n",
            "checking for execinfo.h... yes\n",
            "checking for net/if.h... yes\n",
            "checking for netinet/in.h... yes\n",
            "checking for netinet/if_ether.h... yes\n",
            "checking for long long... yes\n",
            "checking for connect... yes\n",
            "checking for gethostbyname... yes\n",
            "checking for redisCommandArgv in -lhiredis... no\n",
            "checking for redis... no\n",
            "checking for libmemcached... no\n",
            "checking for GNU TLS... None\n",
            "checking for tgetent in -lncurses... yes\n",
            "checking for readline in -lreadline... yes\n",
            "checking for add_history in -lhistory... yes\n",
            "checking for readline/readline.h... yes\n",
            "checking for readline/history.h... yes\n",
            "checking for iconv... yes\n",
            "checking for getaddrinfo... yes\n",
            "checking for vsnprintf... yes\n",
            "checking for gettimeofday... yes\n",
            "checking for poll... yes\n",
            "checking for strerror_r... yes\n",
            "checking for localtime_r... yes\n",
            "checking for nanosleep... yes\n",
            "checking for fopen64... yes\n",
            "checking for open_memstream... yes\n",
            "checking for malloc_info... yes\n",
            "checking for sys/poll.h... yes\n",
            "checking for socklen_t... socklen_t\n",
            "checking build system type... x86_64-pc-linux-gnu\n",
            "checking host system type... x86_64-pc-linux-gnu\n",
            "checking for the pthreads library -lpthreads... no\n",
            "checking whether pthreads work without any flags... yes\n",
            "checking for joinable pthread attribute... PTHREAD_CREATE_JOINABLE\n",
            "checking if more special flags are required for pthreads... no\n",
            "checking for pkg-config... /usr/bin/pkg-config\n",
            "checking for libXML2... 2.9.13\n",
            "checking for libXSLT... Not found\n",
            "configure: WARNING: libXSLT development libraries not found.\n",
            "checking for libEXSLT... Not found\n",
            "configure: WARNING: libEXSLT development libraries not found.\n",
            "checking for xsltSaveResultToString... no\n",
            "checking for pkg-config... (cached) /usr/bin/pkg-config\n",
            "checking for icu-i18n via pkg-config... found\n",
            "checking for ICU >= 3.4... 70.1\n",
            "checking that generated files are newer than configure... done\n",
            "configure: creating ./config.status\n",
            "config.status: creating Makefile\n",
            "config.status: error: cannot find input file: `src/Makefile.in'\n"
          ]
        }
      ]
    },
    {
      "cell_type": "code",
      "source": [
        "!make"
      ],
      "metadata": {
        "colab": {
          "base_uri": "https://localhost:8080/"
        },
        "id": "NqJFgbkWnHWE",
        "outputId": "dbf10310-6a8b-454a-c6b5-d828d3877e0e"
      },
      "execution_count": 25,
      "outputs": [
        {
          "output_type": "stream",
          "name": "stdout",
          "text": [
            "Making all in src\n",
            "make[1]: Entering directory '/content/yaz/src'\n",
            "make[1]: *** No rule to make target 'all'.  Stop.\n",
            "make[1]: Leaving directory '/content/yaz/src'\n",
            "make: *** [Makefile:485: all-recursive] Error 1\n"
          ]
        }
      ]
    }
  ]
}