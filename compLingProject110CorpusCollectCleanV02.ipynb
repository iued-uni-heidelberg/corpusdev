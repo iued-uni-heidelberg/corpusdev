{
  "nbformat": 4,
  "nbformat_minor": 0,
  "metadata": {
    "colab": {
      "provenance": [],
      "collapsed_sections": [
        "BnkFj87HjIXf"
      ],
      "authorship_tag": "ABX9TyNqUZayslwId3rLZl7fPbCR",
      "include_colab_link": true
    },
    "kernelspec": {
      "name": "python3",
      "display_name": "Python 3"
    },
    "language_info": {
      "name": "python"
    }
  },
  "cells": [
    {
      "cell_type": "markdown",
      "metadata": {
        "id": "view-in-github",
        "colab_type": "text"
      },
      "source": [
        "<a href=\"https://colab.research.google.com/github/iued-uni-heidelberg/corpusdev/blob/main/compLingProject110CorpusCollectCleanV02.ipynb\" target=\"_parent\"><img src=\"https://colab.research.google.com/assets/colab-badge.svg\" alt=\"Open In Colab\"/></a>"
      ]
    },
    {
      "cell_type": "markdown",
      "source": [
        "# Working with corpus"
      ],
      "metadata": {
        "id": "BnkFj87HjIXf"
      }
    },
    {
      "cell_type": "markdown",
      "source": [
        "# Corpus collection and preparation methods\n",
        "## Recursively download a website\n",
        "\n",
        "Possible sources for corpus collection. Some examples:\n",
        "- Aerzteblatt.de : de and en medical texts https://www.aerzteblatt.de/int/archive/\n",
        "- Georgian Medical News journal (summaries in ka and en) https://www.geomednews.com/\n",
        "- Yerevan State Medical University, en, hy parallel texts https://ysmu.am/\n",
        "\n",
        "Tasks:\n",
        "- 'recursively' download (crawl) the website\n",
        "- remove html structure or convert pdf, find content text\n",
        "- save as text file, prepare for Part-of-Speech tagging & alignment\n",
        "\n",
        "wget manual and advice:\n",
        "- https://www.gnu.org/software/wget/manual/html_node/Recursive-Retrieval-Options.html\n",
        "- https://stackoverflow.com/questions/273743/using-wget-to-recursively-fetch-a-directory-with-arbitrary-files-in-it\n",
        "\n",
        "Run the following cell for a few minutes, then stop (by clicking on the rotating button) when you think you have enough data."
      ],
      "metadata": {
        "id": "sKhP5AvAdyOM"
      }
    },
    {
      "cell_type": "code",
      "execution_count": null,
      "metadata": {
        "id": "nJsojy-jdECz"
      },
      "outputs": [],
      "source": [
        "%%bash\n",
        "wget --recursive --no-parent https://www.aerzteblatt.de/int/archive/"
      ]
    },
    {
      "cell_type": "code",
      "source": [
        "!tar -cvzf www.aerzteblatt.de.tgz www.aerzteblatt.de"
      ],
      "metadata": {
        "id": "Ksi13NS3oB8u"
      },
      "execution_count": null,
      "outputs": []
    },
    {
      "cell_type": "code",
      "source": [
        "!zip -r www.aerzteblatt.de.zip www.aerzteblatt.de"
      ],
      "metadata": {
        "id": "q8DkmQwPvxcz"
      },
      "execution_count": null,
      "outputs": []
    },
    {
      "cell_type": "code",
      "source": [
        "# longer collection, wget --recursive was running for ~45 min\n",
        "!wget https://heibox.uni-heidelberg.de/f/00bbb48ee1c046c896af/?dl=1\n",
        "# smaller collection, ~ 6 files\n",
        "# !wget https://heibox.uni-heidelberg.de/f/c38d0b9f7f744c5aae16/?dl=1"
      ],
      "metadata": {
        "id": "hH7qS9uwHwMx"
      },
      "execution_count": null,
      "outputs": []
    },
    {
      "cell_type": "code",
      "source": [
        "!mv index.html?dl=1 www.aerzteblatt.de.tgz"
      ],
      "metadata": {
        "id": "CZx9BbOUI07g"
      },
      "execution_count": null,
      "outputs": []
    },
    {
      "cell_type": "code",
      "source": [
        "!tar -xvzf www.aerzteblatt.de.tgz"
      ],
      "metadata": {
        "id": "Bl4bvCjToixa"
      },
      "execution_count": null,
      "outputs": []
    },
    {
      "cell_type": "markdown",
      "source": [
        "## Installing and using *Lynx*"
      ],
      "metadata": {
        "id": "KpNaZy6fKucl"
      }
    },
    {
      "cell_type": "code",
      "source": [
        "!apt-get install lynx"
      ],
      "metadata": {
        "id": "pIg8EBMYom8J"
      },
      "execution_count": null,
      "outputs": []
    },
    {
      "cell_type": "code",
      "source": [
        "!lynx https://www.uni-heidelberg.de/en"
      ],
      "metadata": {
        "id": "2uYnERw9J4ec"
      },
      "execution_count": null,
      "outputs": []
    },
    {
      "cell_type": "code",
      "source": [
        "!lynx --dump https://www.uni-heidelberg.de/en >uni-heidelberg.txt"
      ],
      "metadata": {
        "id": "TdY5MV5mJJIe"
      },
      "execution_count": null,
      "outputs": []
    },
    {
      "cell_type": "code",
      "source": [
        "!cp /content/www.aerzteblatt.de/int/archive/article/219616 /content/219616.html"
      ],
      "metadata": {
        "id": "9_rObrMgNcjm"
      },
      "execution_count": null,
      "outputs": []
    },
    {
      "cell_type": "code",
      "source": [
        "!lynx --dump /content/219616.html > /content/219616.txt"
      ],
      "metadata": {
        "id": "YQpFu2zbNr8A"
      },
      "execution_count": null,
      "outputs": []
    },
    {
      "cell_type": "code",
      "source": [
        "!iconv -f UTF-8 -t UTF-8//IGNORE ./219616.txt > 219616_V2.txt"
      ],
      "metadata": {
        "id": "zWzB3avsNgoF"
      },
      "execution_count": null,
      "outputs": []
    },
    {
      "cell_type": "markdown",
      "source": [
        "## Recursively processing the corpus collected by crawling the website"
      ],
      "metadata": {
        "id": "uCheyh-FK3Lv"
      }
    },
    {
      "cell_type": "code",
      "source": [
        "!rm -r ./texts/"
      ],
      "metadata": {
        "id": "BUMY6nQs6_GP"
      },
      "execution_count": null,
      "outputs": []
    },
    {
      "cell_type": "code",
      "source": [
        "!mkdir ./texts/"
      ],
      "metadata": {
        "id": "qJBn9zci7G4H"
      },
      "execution_count": null,
      "outputs": []
    },
    {
      "cell_type": "code",
      "source": [
        "!rm *_2.txt"
      ],
      "metadata": {
        "id": "fyNGhGSb8iX1"
      },
      "execution_count": null,
      "outputs": []
    },
    {
      "cell_type": "code",
      "source": [
        "# <li><a class=\"deLink\" href=\"/archiv/219550/Diabetes-im-Krankenhaus\">German version</a></li>"
      ],
      "metadata": {
        "id": "vbCc5eXz7_e8"
      },
      "execution_count": null,
      "outputs": []
    },
    {
      "cell_type": "code",
      "source": [
        "# -*- coding: utf-8 -*-\n",
        "# Python script to open each file, read json input and copy to one text file for subsequent processing\n",
        "import os, re, sys\n",
        "\n",
        "class clHtmlDir2txt(object):\n",
        "    '''\n",
        "    @author Bogdan Babych, IÜD, Heidelberg University, 2021\n",
        "    @email bogdan [dot] babych [at] iued [dot] uni-heidelberg [dot] de\n",
        "    '''\n",
        "    def __init__(self, SDirName, output_file = 'corpus_text', tag='doc', id=1000000): # initialising by openning the directories\n",
        "        self.SOutput_file = output_file\n",
        "        self.STag = tag\n",
        "        self.ID = id\n",
        "        self.openDir(SDirName)\n",
        "        # self.para = True\n",
        "        # self.para = find_parallel\n",
        "        # if self.para:\n",
        "        #    self.FOutPara = open(self.SOutput_file + '_para.txt', 'w')\n",
        "\n",
        "\n",
        "    def openDir(self, path): # implementation of recursively openning directories from a given rule directory and reading each file recursively into a string\n",
        "        i = 0\n",
        "        FOut = open(self.SOutput_file + '.txt', 'w')\n",
        "\n",
        "        for root,d_names,f_names in os.walk(path):\n",
        "            for f in f_names:\n",
        "                ## remove this if using on another corpus\n",
        "                if not re.match('^[0-9]+$', f):\n",
        "                    # print(f'Skipped: {f}')\n",
        "                    continue\n",
        "\n",
        "                fullpath = os.path.join(root, f)\n",
        "                i+=1\n",
        "                if i%1==0:\n",
        "                    print(str(i) + '. Processing: ' + f)\n",
        "                    print(fullpath)\n",
        "\n",
        "                # FIn = open(fullpath,'r')\n",
        "                # SIn = FIn.read()\n",
        "                # apply text filter, if not None\n",
        "                # if self.STextFilter and (re.search(self.RFilter, SIn) == None): continue\n",
        "                # SText2Write = self.procFile(SIn,f,i)\n",
        "\n",
        "                SText2Write = self.procFile(fullpath, f, i) # returns converted string + tags\n",
        "                if SText2Write: FOut.write(SText2Write) # if the string is not empty then write to file\n",
        "                # FIn.close()\n",
        "\n",
        "                try:\n",
        "                    pass\n",
        "                except:\n",
        "                    print(f'file {f} cannot be read or processed')\n",
        "                finally:\n",
        "                    pass\n",
        "\n",
        "        FOut.flush()\n",
        "        FOut.close()\n",
        "\n",
        "        return\n",
        "\n",
        "\n",
        "    def procFile(self, fullpath, SFNameIn, i): # sending each json string for extraction of text and attaching an correct tags to each output string output string\n",
        "        STagOpen = '<' + self.STag + ' id=\"' + self.STag + str(self.ID + i)  + '\">\\n'\n",
        "        STagClose = '\\n</' + self.STag + '>\\n\\n'\n",
        "        SText4Corpus = self.getString(fullpath, SFNameIn)\n",
        "        if SText4Corpus:\n",
        "            return STagOpen + SText4Corpus + STagClose\n",
        "        else:\n",
        "            print('\\tNo data read from: ' + SFNameIn)\n",
        "            return None\n",
        "\n",
        "\n",
        "    def getString(self, fullpath, SFNameIn):\n",
        "        '''\n",
        "        the function uses system commands to copy, open and extract content of needed files\n",
        "        '''\n",
        "        # iconv -c -t UTF-8 < input.txt > output.txt\n",
        "        # iconv -f UTF-8 -t UTF-8//IGNORE 219624.txt > 219624_V2.txt\n",
        "        # last works!\n",
        "        # BPara = self.para\n",
        "        FOutPara = open(self.SOutput_file + '_para.txt', 'w')\n",
        "\n",
        "        SFNameHTML = SFNameIn + '_1.html'\n",
        "        SFNameTXT2 = SFNameIn + '_2.txt'\n",
        "        SFNameTXT3 = SFNameIn + '_3.txt'\n",
        "\n",
        "        SCommand = 'cp ' + fullpath + ' ./texts/' + SFNameHTML\n",
        "        os.system(SCommand)\n",
        "\n",
        "        SCommand2 = 'lynx --dump ./texts/' + SFNameHTML + ' > ./texts/' + SFNameTXT2\n",
        "        os.system(SCommand2)\n",
        "\n",
        "        # SCommand2 = 'iconv -c -t UTF-8 < ' + SFNameHTML + ' > ./texts/' + SFNameHTML2\n",
        "        SCommand3 = 'iconv -f UTF-8 -t UTF-8//IGNORE ./texts/' + SFNameTXT2 + ' > ./texts/' + SFNameTXT3\n",
        "        os.system(SCommand3)\n",
        "\n",
        "        # stream = os.popen('lynx --dump ./' + SFNameHTML2)\n",
        "        # SFileContent = stream.read()\n",
        "\n",
        "        F2Read = open('./texts/' + SFNameTXT3, 'r', encoding=\"utf8\", errors=\"surrogateescape\")\n",
        "        SFileContent = F2Read.read()\n",
        "\n",
        "        if True:\n",
        "            REMLinkPara = re.search('file:///archiv/([0-9]+/.+)\\n', SFileContent, flags=re.MULTILINE)\n",
        "            if REMLinkPara:\n",
        "                SLinkPara = REMLinkPara.group(1)\n",
        "                FOutPara.write('wget https://www.aerzteblatt.de/archiv/' + SLinkPara + '\\n')\n",
        "\n",
        "        LFileContent = re.split('\\n\\n+', SFileContent, flags=re.MULTILINE|re.DOTALL)\n",
        "        print(len(LFileContent))\n",
        "        print(LFileContent[0])\n",
        "\n",
        "        LFileContent0 = []\n",
        "        for el in LFileContent:\n",
        "            el = re.sub('\\n', ' ', el)\n",
        "            el = re.sub(' +', ' ', el)\n",
        "            LFileContent0.append(el)\n",
        "\n",
        "        SFileContent2 = '\\n\\n'.join(LFileContent0)\n",
        "\n",
        "\n",
        "        return SFileContent2\n",
        "\n",
        "# calling the class\n",
        "OHtmlDir2txt = clHtmlDir2txt('/content/www.aerzteblatt.de')\n"
      ],
      "metadata": {
        "colab": {
          "base_uri": "https://localhost:8080/"
        },
        "id": "6Ybg8wuELDa4",
        "outputId": "e179fdc4-e7bd-494b-89a8-90b5e876fc3c"
      },
      "execution_count": null,
      "outputs": [
        {
          "output_type": "stream",
          "name": "stdout",
          "text": [
            "1. Processing: 220669\n",
            "/content/www.aerzteblatt.de/int/archive/article/220669\n",
            "79\n",
            "   #[1]Deutsches Ärzteblatt - Aktuelles\n",
            "2. Processing: 220091\n",
            "/content/www.aerzteblatt.de/int/archive/article/220091\n",
            "97\n",
            "   #[1]Deutsches Ärzteblatt - Aktuelles\n",
            "3. Processing: 219803\n",
            "/content/www.aerzteblatt.de/int/archive/article/219803\n",
            "43\n",
            "   #[1]Deutsches Ärzteblatt - Aktuelles\n",
            "4. Processing: 220815\n",
            "/content/www.aerzteblatt.de/int/archive/article/220815\n",
            "40\n",
            "   #[1]Deutsches Ärzteblatt - Aktuelles\n",
            "5. Processing: 219869\n",
            "/content/www.aerzteblatt.de/int/archive/article/219869\n",
            "90\n",
            "   #[1]Deutsches Ärzteblatt - Aktuelles\n",
            "6. Processing: 220446\n",
            "/content/www.aerzteblatt.de/int/archive/article/220446\n",
            "44\n",
            "   #[1]Deutsches Ärzteblatt - Aktuelles\n",
            "7. Processing: 220575\n",
            "/content/www.aerzteblatt.de/int/archive/article/220575\n",
            "43\n",
            "   #[1]Deutsches Ärzteblatt - Aktuelles\n",
            "8. Processing: 220368\n",
            "/content/www.aerzteblatt.de/int/archive/article/220368\n",
            "42\n",
            "   #[1]Deutsches Ärzteblatt - Aktuelles\n",
            "9. Processing: 220092\n",
            "/content/www.aerzteblatt.de/int/archive/article/220092\n",
            "44\n",
            "   #[1]Deutsches Ärzteblatt - Aktuelles\n",
            "10. Processing: 220574\n",
            "/content/www.aerzteblatt.de/int/archive/article/220574\n",
            "55\n",
            "   #[1]Deutsches Ärzteblatt - Aktuelles\n",
            "11. Processing: 219872\n",
            "/content/www.aerzteblatt.de/int/archive/article/219872\n",
            "44\n",
            "   #[1]Deutsches Ärzteblatt - Aktuelles\n",
            "12. Processing: 220096\n",
            "/content/www.aerzteblatt.de/int/archive/article/220096\n",
            "42\n",
            "   #[1]Deutsches Ärzteblatt - Aktuelles\n",
            "13. Processing: 219805\n",
            "/content/www.aerzteblatt.de/int/archive/article/219805\n",
            "60\n",
            "   #[1]Deutsches Ärzteblatt - Aktuelles\n",
            "14. Processing: 220816\n",
            "/content/www.aerzteblatt.de/int/archive/article/220816\n",
            "108\n",
            "   #[1]Deutsches Ärzteblatt - Aktuelles\n",
            "15. Processing: 220440\n",
            "/content/www.aerzteblatt.de/int/archive/article/220440\n",
            "94\n",
            "   #[1]Deutsches Ärzteblatt - Aktuelles\n",
            "16. Processing: 220093\n",
            "/content/www.aerzteblatt.de/int/archive/article/220093\n",
            "46\n",
            "   #[1]Deutsches Ärzteblatt - Aktuelles\n",
            "17. Processing: 220677\n",
            "/content/www.aerzteblatt.de/int/archive/article/220677\n",
            "41\n",
            "   #[1]Deutsches Ärzteblatt - Aktuelles\n",
            "18. Processing: 220090\n",
            "/content/www.aerzteblatt.de/int/archive/article/220090\n",
            "76\n",
            "   #[1]Deutsches Ärzteblatt - Aktuelles\n",
            "19. Processing: 220804\n",
            "/content/www.aerzteblatt.de/int/archive/article/220804\n",
            "41\n",
            "   #[1]Deutsches Ärzteblatt - Aktuelles\n",
            "20. Processing: 220678\n",
            "/content/www.aerzteblatt.de/int/archive/article/220678\n",
            "50\n",
            "   #[1]Deutsches Ärzteblatt - Aktuelles\n",
            "21. Processing: 220939\n",
            "/content/www.aerzteblatt.de/int/archive/article/220939\n",
            "43\n",
            "   #[1]Deutsches Ärzteblatt - Aktuelles\n",
            "22. Processing: 220935\n",
            "/content/www.aerzteblatt.de/int/archive/article/220935\n",
            "61\n",
            "   #[1]Deutsches Ärzteblatt - Aktuelles\n",
            "23. Processing: 220097\n",
            "/content/www.aerzteblatt.de/int/archive/article/220097\n",
            "41\n",
            "   #[1]Deutsches Ärzteblatt - Aktuelles\n",
            "24. Processing: 220439\n",
            "/content/www.aerzteblatt.de/int/archive/article/220439\n",
            "89\n",
            "   #[1]Deutsches Ärzteblatt - Aktuelles\n",
            "25. Processing: 219873\n",
            "/content/www.aerzteblatt.de/int/archive/article/219873\n",
            "44\n",
            "   #[1]Deutsches Ärzteblatt - Aktuelles\n",
            "26. Processing: 220447\n",
            "/content/www.aerzteblatt.de/int/archive/article/220447\n",
            "41\n",
            "   #[1]Deutsches Ärzteblatt - Aktuelles\n",
            "27. Processing: 220670\n",
            "/content/www.aerzteblatt.de/int/archive/article/220670\n",
            "105\n",
            "   #[1]Deutsches Ärzteblatt - Aktuelles\n",
            "28. Processing: 220674\n",
            "/content/www.aerzteblatt.de/int/archive/article/220674\n",
            "37\n",
            "   #[1]Deutsches Ärzteblatt - Aktuelles\n",
            "29. Processing: 221211\n",
            "/content/www.aerzteblatt.de/int/archive/article/221211\n",
            "52\n",
            "   #[1]Deutsches Ärzteblatt - Aktuelles\n",
            "30. Processing: 221091\n",
            "/content/www.aerzteblatt.de/int/archive/article/221091\n",
            "107\n",
            "   #[1]Deutsches Ärzteblatt - Aktuelles\n",
            "31. Processing: 219871\n",
            "/content/www.aerzteblatt.de/int/archive/article/219871\n",
            "55\n",
            "   #[1]Deutsches Ärzteblatt - Aktuelles\n",
            "32. Processing: 220101\n",
            "/content/www.aerzteblatt.de/int/archive/article/220101\n",
            "43\n",
            "   #[1]Deutsches Ärzteblatt - Aktuelles\n",
            "33. Processing: 219626\n",
            "/content/www.aerzteblatt.de/int/archive/article/219626\n",
            "46\n",
            "   #[1]Deutsches Ärzteblatt - Aktuelles\n",
            "34. Processing: 221092\n",
            "/content/www.aerzteblatt.de/int/archive/article/221092\n",
            "41\n",
            "   #[1]Deutsches Ärzteblatt - Aktuelles\n",
            "35. Processing: 221089\n",
            "/content/www.aerzteblatt.de/int/archive/article/221089\n",
            "48\n",
            "   #[1]Deutsches Ärzteblatt - Aktuelles\n",
            "36. Processing: 219616\n",
            "/content/www.aerzteblatt.de/int/archive/article/219616\n",
            "91\n",
            "   #[1]Deutsches Ärzteblatt - Aktuelles\n",
            "37. Processing: 220818\n",
            "/content/www.aerzteblatt.de/int/archive/article/220818\n",
            "41\n",
            "   #[1]Deutsches Ärzteblatt - Aktuelles\n",
            "38. Processing: 221208\n",
            "/content/www.aerzteblatt.de/int/archive/article/221208\n",
            "80\n",
            "   #[1]Deutsches Ärzteblatt - Aktuelles\n",
            "39. Processing: 221319\n",
            "/content/www.aerzteblatt.de/int/archive/article/221319\n",
            "102\n",
            "   #[1]Deutsches Ärzteblatt - Aktuelles\n",
            "40. Processing: 220937\n",
            "/content/www.aerzteblatt.de/int/archive/article/220937\n",
            "44\n",
            "   #[1]Deutsches Ärzteblatt - Aktuelles\n",
            "41. Processing: 220814\n",
            "/content/www.aerzteblatt.de/int/archive/article/220814\n",
            "95\n",
            "   #[1]Deutsches Ärzteblatt - Aktuelles\n",
            "42. Processing: 219799\n",
            "/content/www.aerzteblatt.de/int/archive/article/219799\n",
            "87\n",
            "   #[1]Deutsches Ärzteblatt - Aktuelles\n",
            "43. Processing: 220931\n",
            "/content/www.aerzteblatt.de/int/archive/article/220931\n",
            "85\n",
            "   #[1]Deutsches Ärzteblatt - Aktuelles\n",
            "44. Processing: 220936\n",
            "/content/www.aerzteblatt.de/int/archive/article/220936\n",
            "51\n",
            "   #[1]Deutsches Ärzteblatt - Aktuelles\n",
            "45. Processing: 220441\n",
            "/content/www.aerzteblatt.de/int/archive/article/220441\n",
            "57\n",
            "   #[1]Deutsches Ärzteblatt - Aktuelles\n",
            "46. Processing: 220956\n",
            "/content/www.aerzteblatt.de/int/archive/article/220956\n",
            "52\n",
            "   #[1]Deutsches Ärzteblatt - Aktuelles\n",
            "47. Processing: 220449\n",
            "/content/www.aerzteblatt.de/int/archive/article/220449\n",
            "92\n",
            "   #[1]Deutsches Ärzteblatt - Aktuelles\n",
            "48. Processing: 220940\n",
            "/content/www.aerzteblatt.de/int/archive/article/220940\n",
            "40\n",
            "   #[1]Deutsches Ärzteblatt - Aktuelles\n",
            "49. Processing: 221320\n",
            "/content/www.aerzteblatt.de/int/archive/article/221320\n",
            "96\n",
            "   #[1]Deutsches Ärzteblatt - Aktuelles\n",
            "50. Processing: 220942\n",
            "/content/www.aerzteblatt.de/int/archive/article/220942\n",
            "42\n",
            "   #[1]Deutsches Ärzteblatt - Aktuelles\n",
            "51. Processing: 220098\n",
            "/content/www.aerzteblatt.de/int/archive/article/220098\n",
            "43\n",
            "   #[1]Deutsches Ärzteblatt - Aktuelles\n",
            "52. Processing: 220819\n",
            "/content/www.aerzteblatt.de/int/archive/article/220819\n",
            "42\n",
            "   #[1]Deutsches Ärzteblatt - Aktuelles\n",
            "53. Processing: 221090\n",
            "/content/www.aerzteblatt.de/int/archive/article/221090\n",
            "41\n",
            "   #[1]Deutsches Ärzteblatt - Aktuelles\n",
            "54. Processing: 221124\n",
            "/content/www.aerzteblatt.de/int/archive/article/221124\n",
            "59\n",
            "   #[1]Deutsches Ärzteblatt - Aktuelles\n",
            "55. Processing: 221201\n",
            "/content/www.aerzteblatt.de/int/archive/article/221201\n",
            "56\n",
            "   #[1]Deutsches Ärzteblatt - Aktuelles\n",
            "56. Processing: 220445\n",
            "/content/www.aerzteblatt.de/int/archive/article/220445\n",
            "43\n",
            "   #[1]Deutsches Ärzteblatt - Aktuelles\n",
            "57. Processing: 220672\n",
            "/content/www.aerzteblatt.de/int/archive/article/220672\n",
            "57\n",
            "   #[1]Deutsches Ärzteblatt - Aktuelles\n",
            "58. Processing: 220929\n",
            "/content/www.aerzteblatt.de/int/archive/article/220929\n",
            "40\n",
            "   #[1]Deutsches Ärzteblatt - Aktuelles\n",
            "59. Processing: 220817\n",
            "/content/www.aerzteblatt.de/int/archive/article/220817\n",
            "55\n",
            "   #[1]Deutsches Ärzteblatt - Aktuelles\n",
            "60. Processing: 220675\n",
            "/content/www.aerzteblatt.de/int/archive/article/220675\n",
            "48\n",
            "   #[1]Deutsches Ärzteblatt - Aktuelles\n",
            "61. Processing: 221087\n",
            "/content/www.aerzteblatt.de/int/archive/article/221087\n",
            "40\n",
            "   #[1]Deutsches Ärzteblatt - Aktuelles\n",
            "62. Processing: 219992\n",
            "/content/www.aerzteblatt.de/int/archive/article/219992\n",
            "57\n",
            "   #[1]Deutsches Ärzteblatt - Aktuelles\n",
            "63. Processing: 221086\n",
            "/content/www.aerzteblatt.de/int/archive/article/221086\n",
            "85\n",
            "   #[1]Deutsches Ärzteblatt - Aktuelles\n",
            "64. Processing: 219625\n",
            "/content/www.aerzteblatt.de/int/archive/article/219625\n",
            "42\n",
            "   #[1]Deutsches Ärzteblatt - Aktuelles\n",
            "65. Processing: 220930\n",
            "/content/www.aerzteblatt.de/int/archive/article/220930\n",
            "64\n",
            "   #[1]Deutsches Ärzteblatt - Aktuelles\n",
            "66. Processing: 219993\n",
            "/content/www.aerzteblatt.de/int/archive/article/219993\n",
            "64\n",
            "   #[1]Deutsches Ärzteblatt - Aktuelles\n",
            "67. Processing: 220095\n",
            "/content/www.aerzteblatt.de/int/archive/article/220095\n",
            "45\n",
            "   #[1]Deutsches Ärzteblatt - Aktuelles\n",
            "68. Processing: 220444\n",
            "/content/www.aerzteblatt.de/int/archive/article/220444\n",
            "53\n",
            "   #[1]Deutsches Ärzteblatt - Aktuelles\n",
            "69. Processing: 220100\n",
            "/content/www.aerzteblatt.de/int/archive/article/220100\n",
            "45\n",
            "   #[1]Deutsches Ärzteblatt - Aktuelles\n",
            "70. Processing: 221088\n",
            "/content/www.aerzteblatt.de/int/archive/article/221088\n",
            "42\n",
            "   #[1]Deutsches Ärzteblatt - Aktuelles\n",
            "71. Processing: 220934\n",
            "/content/www.aerzteblatt.de/int/archive/article/220934\n",
            "58\n",
            "   #[1]Deutsches Ärzteblatt - Aktuelles\n",
            "72. Processing: 220820\n",
            "/content/www.aerzteblatt.de/int/archive/article/220820\n",
            "100\n",
            "   #[1]Deutsches Ärzteblatt - Aktuelles\n",
            "73. Processing: 219800\n",
            "/content/www.aerzteblatt.de/int/archive/article/219800\n",
            "40\n",
            "   #[1]Deutsches Ärzteblatt - Aktuelles\n",
            "74. Processing: 221322\n",
            "/content/www.aerzteblatt.de/int/archive/article/221322\n",
            "42\n",
            "   #[1]Deutsches Ärzteblatt - Aktuelles\n",
            "75. Processing: 220671\n",
            "/content/www.aerzteblatt.de/int/archive/article/220671\n",
            "40\n",
            "   #[1]Deutsches Ärzteblatt - Aktuelles\n",
            "76. Processing: 220938\n",
            "/content/www.aerzteblatt.de/int/archive/article/220938\n",
            "43\n",
            "   #[1]Deutsches Ärzteblatt - Aktuelles\n",
            "77. Processing: 219617\n",
            "/content/www.aerzteblatt.de/int/archive/article/219617\n",
            "100\n",
            "   #[1]Deutsches Ärzteblatt - Aktuelles\n",
            "78. Processing: 220679\n",
            "/content/www.aerzteblatt.de/int/archive/article/220679\n",
            "45\n",
            "   #[1]Deutsches Ärzteblatt - Aktuelles\n",
            "79. Processing: 219870\n",
            "/content/www.aerzteblatt.de/int/archive/article/219870\n",
            "40\n",
            "   #[1]Deutsches Ärzteblatt - Aktuelles\n",
            "80. Processing: 220094\n",
            "/content/www.aerzteblatt.de/int/archive/article/220094\n",
            "40\n",
            "   #[1]Deutsches Ärzteblatt - Aktuelles\n",
            "81. Processing: 219802\n",
            "/content/www.aerzteblatt.de/int/archive/article/219802\n",
            "45\n",
            "   #[1]Deutsches Ärzteblatt - Aktuelles\n",
            "82. Processing: 221321\n",
            "/content/www.aerzteblatt.de/int/archive/article/221321\n",
            "39\n",
            "   #[1]Deutsches Ärzteblatt - Aktuelles\n",
            "83. Processing: 220673\n",
            "/content/www.aerzteblatt.de/int/archive/article/220673\n",
            "58\n",
            "   #[1]Deutsches Ärzteblatt - Aktuelles\n",
            "84. Processing: 221209\n",
            "/content/www.aerzteblatt.de/int/archive/article/221209\n",
            "76\n",
            "   #[1]Deutsches Ärzteblatt - Aktuelles\n",
            "85. Processing: 221210\n",
            "/content/www.aerzteblatt.de/int/archive/article/221210\n",
            "40\n",
            "   #[1]Deutsches Ärzteblatt - Aktuelles\n",
            "86. Processing: 220928\n",
            "/content/www.aerzteblatt.de/int/archive/article/220928\n",
            "49\n",
            "   #[1]Deutsches Ärzteblatt - Aktuelles\n",
            "87. Processing: 219994\n",
            "/content/www.aerzteblatt.de/int/archive/article/219994\n",
            "60\n",
            "   #[1]Deutsches Ärzteblatt - Aktuelles\n",
            "88. Processing: 220448\n",
            "/content/www.aerzteblatt.de/int/archive/article/220448\n",
            "38\n",
            "   #[1]Deutsches Ärzteblatt - Aktuelles\n",
            "89. Processing: 220933\n",
            "/content/www.aerzteblatt.de/int/archive/article/220933\n",
            "57\n",
            "   #[1]Deutsches Ärzteblatt - Aktuelles\n",
            "90. Processing: 219618\n",
            "/content/www.aerzteblatt.de/int/archive/article/219618\n",
            "78\n",
            "   #[1]Deutsches Ärzteblatt - Aktuelles\n",
            "91. Processing: 220932\n",
            "/content/www.aerzteblatt.de/int/archive/article/220932\n",
            "40\n",
            "   #[1]Deutsches Ärzteblatt - Aktuelles\n",
            "92. Processing: 220806\n",
            "/content/www.aerzteblatt.de/int/archive/article/220806\n",
            "54\n",
            "   #[1]Deutsches Ärzteblatt - Aktuelles\n",
            "93. Processing: 219624\n",
            "/content/www.aerzteblatt.de/int/archive/article/219624\n",
            "43\n",
            "   #[1]Deutsches Ärzteblatt - Aktuelles\n",
            "94. Processing: 220927\n",
            "/content/www.aerzteblatt.de/int/archive/article/220927\n",
            "41\n",
            "   #[1]Deutsches Ärzteblatt - Aktuelles\n",
            "95. Processing: 219798\n",
            "/content/www.aerzteblatt.de/int/archive/article/219798\n",
            "84\n",
            "   #[1]Deutsches Ärzteblatt - Aktuelles\n",
            "96. Processing: 220676\n",
            "/content/www.aerzteblatt.de/int/archive/article/220676\n",
            "48\n",
            "   #[1]Deutsches Ärzteblatt - Aktuelles\n",
            "97. Processing: 219619\n",
            "/content/www.aerzteblatt.de/int/archive/article/219619\n",
            "42\n",
            "   #[1]Deutsches Ärzteblatt - Aktuelles\n",
            "98. Processing: 220941\n",
            "/content/www.aerzteblatt.de/int/archive/article/220941\n",
            "43\n",
            "   #[1]Deutsches Ärzteblatt - Aktuelles\n",
            "99. Processing: 220443\n",
            "/content/www.aerzteblatt.de/int/archive/article/220443\n",
            "53\n",
            "   #[1]Deutsches Ärzteblatt - Aktuelles\n",
            "100. Processing: 220099\n",
            "/content/www.aerzteblatt.de/int/archive/article/220099\n",
            "41\n",
            "   #[1]Deutsches Ärzteblatt - Aktuelles\n",
            "101. Processing: 219801\n",
            "/content/www.aerzteblatt.de/int/archive/article/219801\n",
            "45\n",
            "   #[1]Deutsches Ärzteblatt - Aktuelles\n",
            "102. Processing: 219807\n",
            "/content/www.aerzteblatt.de/int/archive/article/219807\n",
            "82\n",
            "   #[1]Deutsches Ärzteblatt - Aktuelles\n",
            "103. Processing: 220680\n",
            "/content/www.aerzteblatt.de/int/archive/article/220680\n",
            "45\n",
            "   #[1]Deutsches Ärzteblatt - Aktuelles\n"
          ]
        }
      ]
    },
    {
      "cell_type": "code",
      "source": [
        "!wc corpus_text.txt"
      ],
      "metadata": {
        "colab": {
          "base_uri": "https://localhost:8080/"
        },
        "id": "TNRXRkF5LhtA",
        "outputId": "f946ddce-bdf0-4d51-e149-4cb607bf019c"
      },
      "execution_count": null,
      "outputs": [
        {
          "output_type": "stream",
          "name": "stdout",
          "text": [
            "  11920  315735 2862875 corpus_text.txt\n"
          ]
        }
      ]
    },
    {
      "cell_type": "code",
      "source": [
        "!head --lines=20 corpus_text.txt"
      ],
      "metadata": {
        "id": "zUdor6h1MLll"
      },
      "execution_count": null,
      "outputs": []
    },
    {
      "cell_type": "markdown",
      "source": [
        "## Parallel corpus can also be created\n",
        "- changing the input paremeter 'find_parallel=True'"
      ],
      "metadata": {
        "id": "uPANGFZnumfW"
      }
    }
  ]
}