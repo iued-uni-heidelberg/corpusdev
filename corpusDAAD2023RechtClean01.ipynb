{
  "nbformat": 4,
  "nbformat_minor": 0,
  "metadata": {
    "colab": {
      "provenance": [],
      "authorship_tag": "ABX9TyONOnMb6QJ72L4VdimIoLS8",
      "include_colab_link": true
    },
    "kernelspec": {
      "name": "python3",
      "display_name": "Python 3"
    },
    "language_info": {
      "name": "python"
    }
  },
  "cells": [
    {
      "cell_type": "markdown",
      "metadata": {
        "id": "view-in-github",
        "colab_type": "text"
      },
      "source": [
        "<a href=\"https://colab.research.google.com/github/iued-uni-heidelberg/corpusdev/blob/main/corpusDAAD2023RechtClean01.ipynb\" target=\"_parent\"><img src=\"https://colab.research.google.com/assets/colab-badge.svg\" alt=\"Open In Colab\"/></a>"
      ]
    },
    {
      "cell_type": "markdown",
      "source": [
        "# cleaning texts for corpus"
      ],
      "metadata": {
        "id": "qZsjUb2g3ipD"
      }
    },
    {
      "cell_type": "code",
      "execution_count": null,
      "metadata": {
        "id": "DORf6iqp3W-v"
      },
      "outputs": [],
      "source": [
        "!wget https://heibox.uni-heidelberg.de/f/74b6c52c122e4cf2a213/?dl=1"
      ]
    },
    {
      "cell_type": "code",
      "source": [
        "!mv index.html?dl=1 gesetze-im-internet0de.txt"
      ],
      "metadata": {
        "id": "yGW5Job74XdO"
      },
      "execution_count": 2,
      "outputs": []
    },
    {
      "cell_type": "code",
      "source": [
        "!wget https://heibox.uni-heidelberg.de/f/bd5bc9f675e842b7bed0/?dl=1"
      ],
      "metadata": {
        "id": "MJwD_Ly-4j6D"
      },
      "execution_count": null,
      "outputs": []
    },
    {
      "cell_type": "code",
      "source": [
        "!mv index.html?dl=1 juris_bundesgerichtshof0de.txt"
      ],
      "metadata": {
        "id": "BXldP7fB45_9"
      },
      "execution_count": 5,
      "outputs": []
    },
    {
      "cell_type": "code",
      "source": [
        "!wget https://heibox.uni-heidelberg.de/f/a292549246274ecf9cda/?dl=1"
      ],
      "metadata": {
        "colab": {
          "base_uri": "https://localhost:8080/"
        },
        "id": "JFnC8bloDhgn",
        "outputId": "ec22550e-86b6-4855-89f3-0472cedf558f"
      },
      "execution_count": 32,
      "outputs": [
        {
          "output_type": "stream",
          "name": "stdout",
          "text": [
            "--2023-12-06 21:35:22--  https://heibox.uni-heidelberg.de/f/a292549246274ecf9cda/?dl=1\n",
            "Resolving heibox.uni-heidelberg.de (heibox.uni-heidelberg.de)... 129.206.7.113\n",
            "Connecting to heibox.uni-heidelberg.de (heibox.uni-heidelberg.de)|129.206.7.113|:443... connected.\n",
            "HTTP request sent, awaiting response... 302 Found\n",
            "Location: https://heibox.uni-heidelberg.de/seafhttp/files/172d5f39-c269-493f-b23d-e550d6369fb4/gesetze-im-internet_de_all.zip [following]\n",
            "--2023-12-06 21:35:24--  https://heibox.uni-heidelberg.de/seafhttp/files/172d5f39-c269-493f-b23d-e550d6369fb4/gesetze-im-internet_de_all.zip\n",
            "Reusing existing connection to heibox.uni-heidelberg.de:443.\n",
            "HTTP request sent, awaiting response... 200 OK\n",
            "Length: 42465349 (40M) [application/zip]\n",
            "Saving to: ‘index.html?dl=1’\n",
            "\n",
            "index.html?dl=1     100%[===================>]  40.50M  12.1MB/s    in 5.0s    \n",
            "\n",
            "2023-12-06 21:35:29 (8.03 MB/s) - ‘index.html?dl=1’ saved [42465349/42465349]\n",
            "\n"
          ]
        }
      ]
    },
    {
      "cell_type": "code",
      "source": [
        "!mv index.html?dl=1 gesetze-im-internet_de_all.zip"
      ],
      "metadata": {
        "id": "idZoyvcEDjDL"
      },
      "execution_count": 33,
      "outputs": []
    },
    {
      "cell_type": "code",
      "source": [
        "!unzip gesetze-im-internet_de_all.zip"
      ],
      "metadata": {
        "id": "a1E78n59DtEs"
      },
      "execution_count": null,
      "outputs": []
    },
    {
      "cell_type": "code",
      "source": [
        "f = open('/content/gesetze-im-internet0de.txt', 'r', encoding='utf8') # open html file\n",
        "f2 = open('/content/gesetze-im-internet2de.txt', \"w\") # open blank txt file to write cleaned html file to\n"
      ],
      "metadata": {
        "id": "H_i843Mo-HlV"
      },
      "execution_count": 24,
      "outputs": []
    },
    {
      "cell_type": "code",
      "source": [
        "f = open('/content/gesetze-im-internet_de.txt', 'r', encoding='utf8') # open html file\n",
        "f2 = open('/content/gesetze-im-internet3de.txt', \"w\") # open blank txt file to write cleaned html file to\n"
      ],
      "metadata": {
        "id": "BhDwvF9mEQyt"
      },
      "execution_count": 35,
      "outputs": []
    },
    {
      "cell_type": "code",
      "source": [
        "f = open('/content/juris_bundesgerichtshof0de.txt', 'r', encoding='utf8') # open html file\n",
        "f2 = open('/content/juris_bundesgerichtshof2de.txt', \"w\") # open blank txt file to write cleaned html file to\n"
      ],
      "metadata": {
        "id": "3LNe0a1z-IGt"
      },
      "execution_count": 28,
      "outputs": []
    },
    {
      "cell_type": "code",
      "source": [
        "import re # import regular expression module\n",
        "count = 0\n",
        "for i in re.findall('(<doc.*?</doc>)', str(f.read()), flags=re.MULTILINE|re.DOTALL):\n",
        "    # print(i)\n",
        "    count+=1\n",
        "    if count % 200 == 0:\n",
        "        print(str(count))\n",
        "    if i.find(' the ') == -1:\n",
        "        f2.write(i) # select all text between html tags and save to txt file\n",
        "        f2.write('\\n\\n')\n",
        "\n"
      ],
      "metadata": {
        "id": "x1zetOvs5grh"
      },
      "execution_count": null,
      "outputs": []
    },
    {
      "cell_type": "code",
      "source": [
        "\n",
        "f.close()\n",
        "f2.flush()\n",
        "f2.close()\n"
      ],
      "metadata": {
        "id": "JPrjjkHM9-7z"
      },
      "execution_count": 37,
      "outputs": []
    },
    {
      "cell_type": "code",
      "source": [
        "!zip /content/gesetze-im-internet2de.zip /content/gesetze-im-internet2de.txt"
      ],
      "metadata": {
        "colab": {
          "base_uri": "https://localhost:8080/"
        },
        "id": "skqd81nW-mg6",
        "outputId": "9ada20dc-9c14-40fa-d7f2-21adcac15e7f"
      },
      "execution_count": 27,
      "outputs": [
        {
          "output_type": "stream",
          "name": "stdout",
          "text": [
            "  adding: content/gesetze-im-internet2de.txt (deflated 76%)\n"
          ]
        }
      ]
    },
    {
      "cell_type": "code",
      "source": [
        "!zip /content/juris_bundesgerichtshof2de.zip /content/juris_bundesgerichtshof2de.txt"
      ],
      "metadata": {
        "colab": {
          "base_uri": "https://localhost:8080/"
        },
        "id": "ywG_KJvh-gLy",
        "outputId": "af88b4cd-361c-4d20-eeef-2bcce98f31e2"
      },
      "execution_count": 31,
      "outputs": [
        {
          "output_type": "stream",
          "name": "stdout",
          "text": [
            "  adding: content/juris_bundesgerichtshof2de.txt (deflated 70%)\n"
          ]
        }
      ]
    },
    {
      "cell_type": "code",
      "source": [
        "!zip /content/gesetze-im-internet3de.zip /content/gesetze-im-internet3de.txt"
      ],
      "metadata": {
        "colab": {
          "base_uri": "https://localhost:8080/"
        },
        "id": "b7e6UyVYEaLx",
        "outputId": "e09c4f15-f3f2-4ac8-f0f6-74aa172b8c92"
      },
      "execution_count": 38,
      "outputs": [
        {
          "output_type": "stream",
          "name": "stdout",
          "text": [
            "  adding: content/gesetze-im-internet3de.txt (deflated 76%)\n"
          ]
        }
      ]
    },
    {
      "cell_type": "markdown",
      "source": [
        "### experiments\n",
        "xml file should be well formed"
      ],
      "metadata": {
        "id": "LD3-3tbQ6B2R"
      }
    },
    {
      "cell_type": "code",
      "source": [
        "# to investigate how to use\n",
        "import xml.etree.ElementTree as ET\n",
        "tree = ET.fromstring(xml)\n",
        "tree = ET.parse('/content/gesetze-im-internet_de.txt')\n",
        "for node in tree.iter('entry'):\n",
        "    print('\\n')\n",
        "    for elem in node.iter():\n",
        "        if not elem.tag==node.tag:\n",
        "            print(\"{}: {}\".format(elem.tag, elem.text))\n",
        "\n",
        "\n"
      ],
      "metadata": {
        "id": "vX432Y165Dk-"
      },
      "execution_count": null,
      "outputs": []
    }
  ]
}