{
  "nbformat": 4,
  "nbformat_minor": 0,
  "metadata": {
    "colab": {
      "provenance": [],
      "authorship_tag": "ABX9TyOHeHytJp1yvOm2CweJtwkt",
      "include_colab_link": true
    },
    "kernelspec": {
      "name": "python3",
      "display_name": "Python 3"
    },
    "language_info": {
      "name": "python"
    }
  },
  "cells": [
    {
      "cell_type": "markdown",
      "metadata": {
        "id": "view-in-github",
        "colab_type": "text"
      },
      "source": [
        "<a href=\"https://colab.research.google.com/github/iued-uni-heidelberg/corpusdev/blob/main/corpusDAAD2023RechtClean01.ipynb\" target=\"_parent\"><img src=\"https://colab.research.google.com/assets/colab-badge.svg\" alt=\"Open In Colab\"/></a>"
      ]
    },
    {
      "cell_type": "markdown",
      "source": [
        "# cleaning texts for corpus"
      ],
      "metadata": {
        "id": "qZsjUb2g3ipD"
      }
    },
    {
      "cell_type": "code",
      "execution_count": 1,
      "metadata": {
        "colab": {
          "base_uri": "https://localhost:8080/"
        },
        "id": "DORf6iqp3W-v",
        "outputId": "da933de7-0580-4e7e-807a-1fbd9ed8ae96"
      },
      "outputs": [
        {
          "output_type": "stream",
          "name": "stdout",
          "text": [
            "--2023-12-06 20:45:59--  https://heibox.uni-heidelberg.de/f/74b6c52c122e4cf2a213/?dl=1\n",
            "Resolving heibox.uni-heidelberg.de (heibox.uni-heidelberg.de)... 129.206.7.113\n",
            "Connecting to heibox.uni-heidelberg.de (heibox.uni-heidelberg.de)|129.206.7.113|:443... connected.\n",
            "HTTP request sent, awaiting response... 302 Found\n",
            "Location: https://heibox.uni-heidelberg.de/seafhttp/files/372cedc8-ae21-4fdf-af2f-75a49702ba1a/gesetze-im-internet_de.txt [following]\n",
            "--2023-12-06 20:46:00--  https://heibox.uni-heidelberg.de/seafhttp/files/372cedc8-ae21-4fdf-af2f-75a49702ba1a/gesetze-im-internet_de.txt\n",
            "Reusing existing connection to heibox.uni-heidelberg.de:443.\n",
            "HTTP request sent, awaiting response... 200 OK\n",
            "Length: 54091400 (52M) [text/plain]\n",
            "Saving to: ‘index.html?dl=1’\n",
            "\n",
            "index.html?dl=1     100%[===================>]  51.58M  11.7MB/s    in 6.3s    \n",
            "\n",
            "2023-12-06 20:46:07 (8.18 MB/s) - ‘index.html?dl=1’ saved [54091400/54091400]\n",
            "\n"
          ]
        }
      ],
      "source": [
        "!wget https://heibox.uni-heidelberg.de/f/74b6c52c122e4cf2a213/?dl=1"
      ]
    },
    {
      "cell_type": "code",
      "source": [
        "!mv index.html?dl=1 gesetze-im-internet_de.txt"
      ],
      "metadata": {
        "id": "yGW5Job74XdO"
      },
      "execution_count": 2,
      "outputs": []
    },
    {
      "cell_type": "code",
      "source": [
        "!wget https://heibox.uni-heidelberg.de/f/bd5bc9f675e842b7bed0/?dl=1"
      ],
      "metadata": {
        "colab": {
          "base_uri": "https://localhost:8080/"
        },
        "id": "MJwD_Ly-4j6D",
        "outputId": "3bf37bd8-feaa-4878-982a-04b58c5afcc0"
      },
      "execution_count": 3,
      "outputs": [
        {
          "output_type": "stream",
          "name": "stdout",
          "text": [
            "--2023-12-06 20:48:22--  https://heibox.uni-heidelberg.de/f/bd5bc9f675e842b7bed0/?dl=1\n",
            "Resolving heibox.uni-heidelberg.de (heibox.uni-heidelberg.de)... 129.206.7.113\n",
            "Connecting to heibox.uni-heidelberg.de (heibox.uni-heidelberg.de)|129.206.7.113|:443... connected.\n",
            "HTTP request sent, awaiting response... 302 Found\n",
            "Location: https://heibox.uni-heidelberg.de/seafhttp/files/9e33c5ec-71bd-4f17-8b24-932bd6844f89/juris_bundesgerichtshof_de.txt [following]\n",
            "--2023-12-06 20:48:24--  https://heibox.uni-heidelberg.de/seafhttp/files/9e33c5ec-71bd-4f17-8b24-932bd6844f89/juris_bundesgerichtshof_de.txt\n",
            "Reusing existing connection to heibox.uni-heidelberg.de:443.\n",
            "HTTP request sent, awaiting response... 200 OK\n",
            "Length: 37119138 (35M) [text/plain]\n",
            "Saving to: ‘index.html?dl=1’\n",
            "\n",
            "index.html?dl=1     100%[===================>]  35.40M  11.0MB/s    in 4.8s    \n",
            "\n",
            "2023-12-06 20:48:29 (7.32 MB/s) - ‘index.html?dl=1’ saved [37119138/37119138]\n",
            "\n"
          ]
        }
      ]
    },
    {
      "cell_type": "code",
      "source": [
        "!mv index.html?dl=1 juris_bundesgerichtshof_de.txt"
      ],
      "metadata": {
        "id": "BXldP7fB45_9"
      },
      "execution_count": 5,
      "outputs": []
    },
    {
      "cell_type": "code",
      "source": [
        "f = open('/content/gesetze-im-internet_de.txt', 'r', encoding='utf8') # open html file\n",
        "f2 = open('/content/gesetze-im-internet2de.txt', \"w\") # open blank txt file to write cleaned html file to\n"
      ],
      "metadata": {
        "id": "H_i843Mo-HlV"
      },
      "execution_count": 16,
      "outputs": []
    },
    {
      "cell_type": "code",
      "source": [
        "f = open('/content/juris_bundesgerichtshof_de.txt', 'r', encoding='utf8') # open html file\n",
        "f2 = open('/content/juris_bundesgerichtshof2de.txt', \"w\") # open blank txt file to write cleaned html file to\n"
      ],
      "metadata": {
        "id": "3LNe0a1z-IGt"
      },
      "execution_count": 19,
      "outputs": []
    },
    {
      "cell_type": "code",
      "source": [
        "import re # import regular expression module\n",
        "count = 0\n",
        "for i in re.findall('(<doc.*?</doc>)', str(f.read()), flags=re.MULTILINE|re.DOTALL):\n",
        "    # print(i)\n",
        "    count+=1\n",
        "    if count % 200 == 0:\n",
        "        print(str(count))\n",
        "    if i.find(' the ') == -1:\n",
        "        f2.write(i) # select all text between html tags and save to txt file\n",
        "\n"
      ],
      "metadata": {
        "id": "x1zetOvs5grh"
      },
      "execution_count": null,
      "outputs": []
    },
    {
      "cell_type": "code",
      "source": [
        "\n",
        "f.close()\n",
        "f2.flush()\n",
        "f2.close()\n"
      ],
      "metadata": {
        "id": "JPrjjkHM9-7z"
      },
      "execution_count": 21,
      "outputs": []
    },
    {
      "cell_type": "code",
      "source": [
        "!zip /content/juris_bundesgerichtshof2de.zip /content/juris_bundesgerichtshof2de.txt"
      ],
      "metadata": {
        "colab": {
          "base_uri": "https://localhost:8080/"
        },
        "id": "ywG_KJvh-gLy",
        "outputId": "dae1dd60-290b-44d3-9cef-c6a5234268a9"
      },
      "execution_count": 22,
      "outputs": [
        {
          "output_type": "stream",
          "name": "stdout",
          "text": [
            "  adding: content/juris_bundesgerichtshof2de.txt (deflated 70%)\n"
          ]
        }
      ]
    },
    {
      "cell_type": "code",
      "source": [
        "!zip /content/gesetze-im-internet2de.zip /content/gesetze-im-internet2de.txt"
      ],
      "metadata": {
        "colab": {
          "base_uri": "https://localhost:8080/"
        },
        "id": "skqd81nW-mg6",
        "outputId": "4e1a7cba-e77e-4580-8f72-0e14ee6646b0"
      },
      "execution_count": 23,
      "outputs": [
        {
          "output_type": "stream",
          "name": "stdout",
          "text": [
            "  adding: content/gesetze-im-internet2de.txt (deflated 76%)\n"
          ]
        }
      ]
    },
    {
      "cell_type": "markdown",
      "source": [],
      "metadata": {
        "id": "LD3-3tbQ6B2R"
      }
    },
    {
      "cell_type": "code",
      "source": [
        "# to investigate how to use\n",
        "import xml.etree.ElementTree as ET\n",
        "tree = ET.fromstring(xml)\n",
        "tree = ET.parse('/content/gesetze-im-internet_de.txt')\n",
        "for node in tree.iter('entry'):\n",
        "    print('\\n')\n",
        "    for elem in node.iter():\n",
        "        if not elem.tag==node.tag:\n",
        "            print(\"{}: {}\".format(elem.tag, elem.text))\n",
        "\n",
        "\n"
      ],
      "metadata": {
        "id": "vX432Y165Dk-"
      },
      "execution_count": null,
      "outputs": []
    }
  ]
}