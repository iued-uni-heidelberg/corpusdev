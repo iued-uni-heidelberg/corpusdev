{
  "nbformat": 4,
  "nbformat_minor": 0,
  "metadata": {
    "colab": {
      "provenance": [],
      "mount_file_id": "https://github.com/iued-uni-heidelberg/corpusdev/blob/main/corpusDAAD2023RechtGeorgianV01.ipynb",
      "authorship_tag": "ABX9TyPQVWPKU1m3Hpw0fuHe8sCO",
      "include_colab_link": true
    },
    "kernelspec": {
      "name": "python3",
      "display_name": "Python 3"
    },
    "language_info": {
      "name": "python"
    }
  },
  "cells": [
    {
      "cell_type": "markdown",
      "metadata": {
        "id": "view-in-github",
        "colab_type": "text"
      },
      "source": [
        "<a href=\"https://colab.research.google.com/github/iued-uni-heidelberg/corpusdev/blob/main/corpusDAAD2023RechtGeorgianV01.ipynb\" target=\"_parent\"><img src=\"https://colab.research.google.com/assets/colab-badge.svg\" alt=\"Open In Colab\"/></a>"
      ]
    },
    {
      "cell_type": "markdown",
      "source": [
        "# Corpus download/collection: Georgian\n",
        "\n",
        "https://heibox.uni-heidelberg.de/d/41bb31bd806a4d0fb3e4/\n",
        "\n",
        "## Internet corpora\n",
        "### Collecting from sites:\n",
        "\n",
        "https://police.ge/ge/ministry/about-the-ministry\n",
        "\n",
        "https://justice.gov.ge/\n",
        "\n",
        "https://mfa.gov.ge/\n",
        "\n",
        "https://www.supremecourt.ge/\n",
        "\n",
        "https://www.sa.gov.ge/\n",
        "\n",
        "https://www.matsne.gov.ge/\n",
        "\n",
        "http://hcoj.gov.ge/ka/\n",
        "\n",
        "https://infocenter.gov.ge/about/\n",
        "\n",
        "https://pog.gov.ge/\n",
        "\n",
        "https://tcc.court.ge/\n",
        "\n",
        "http://www.tbappeal.court.ge/\n",
        "\n",
        "https://constcourt.ge/ka\n",
        "\n",
        "https://parliament.ge/\n",
        "\n",
        "https://nsc.gov.ge/ka\n",
        "\n",
        "https://ssg.gov.ge/\n",
        "\n",
        "https://bpg.gov.ge/\n",
        "\n",
        "https://nbe.gov.ge/\n",
        "\n",
        "http://sps.gov.ge/\n"
      ],
      "metadata": {
        "id": "F5S6rjjUXYx6"
      }
    },
    {
      "cell_type": "code",
      "source": [
        "!wget --recursive https://www.supremecourt.ge/"
      ],
      "metadata": {
        "id": "j_RpEr84FW2a"
      },
      "execution_count": null,
      "outputs": []
    },
    {
      "cell_type": "code",
      "source": [
        "!tar cvzf www.supremecourt.ge.tgz /content/www.supremecourt.ge"
      ],
      "metadata": {
        "id": "zKCfRaWPI_pR"
      },
      "execution_count": null,
      "outputs": []
    },
    {
      "cell_type": "code",
      "source": [
        "!wget --recursive https://justice.gov.ge/"
      ],
      "metadata": {
        "id": "8T7iCgA5ImPz"
      },
      "execution_count": null,
      "outputs": []
    },
    {
      "cell_type": "code",
      "source": [
        "!tar cvzf justice.gov.ge.tgz /content/justice.gov.ge"
      ],
      "metadata": {
        "id": "hb5XQn9vKrwe"
      },
      "execution_count": null,
      "outputs": []
    },
    {
      "cell_type": "code",
      "source": [
        "!mv index.html?dl=1 /content/www.supremecourt.ge www.supremecourt.ge"
      ],
      "metadata": {
        "id": "s4WePCBJIPMV"
      },
      "execution_count": null,
      "outputs": []
    },
    {
      "cell_type": "code",
      "execution_count": null,
      "metadata": {
        "id": "qRIJPQGWS6L1"
      },
      "outputs": [],
      "source": [
        "# !wget https://heibox.uni-heidelberg.de/f/fd06e28a6a534f3c9df1/?dl=1"
      ]
    },
    {
      "cell_type": "code",
      "source": [
        "!mv index.html?dl=1"
      ],
      "metadata": {
        "id": "O___x8NrYdLU"
      },
      "execution_count": null,
      "outputs": []
    },
    {
      "cell_type": "code",
      "source": [
        "!unzip"
      ],
      "metadata": {
        "id": "pwyvAGFeYhLb"
      },
      "execution_count": null,
      "outputs": []
    },
    {
      "cell_type": "markdown",
      "source": [
        "## Georgian corpus - second attempt:"
      ],
      "metadata": {
        "id": "1BOr1-yOSyGu"
      }
    },
    {
      "cell_type": "code",
      "source": [
        "from google.colab import drive\n",
        "drive.mount('/content/drive')"
      ],
      "metadata": {
        "id": "OoPsmigfn-I3",
        "outputId": "46b68b6a-ca7a-4f60-80d3-dead02614979",
        "colab": {
          "base_uri": "https://localhost:8080/"
        }
      },
      "execution_count": 2,
      "outputs": [
        {
          "output_type": "stream",
          "name": "stdout",
          "text": [
            "Drive already mounted at /content/drive; to attempt to forcibly remount, call drive.mount(\"/content/drive\", force_remount=True).\n"
          ]
        }
      ]
    },
    {
      "cell_type": "code",
      "source": [
        "!wget --recursive https://www.matsne.gov.ge/"
      ],
      "metadata": {
        "id": "o_xfxjiPSgVQ"
      },
      "execution_count": null,
      "outputs": []
    },
    {
      "cell_type": "code",
      "source": [
        "!tar cvzf www-matsne-gov-ge.tgz /content/www.matsne.gov.ge"
      ],
      "metadata": {
        "id": "jT5YcyhKboMd"
      },
      "execution_count": null,
      "outputs": []
    },
    {
      "cell_type": "markdown",
      "source": [
        "## extract MATSNE corpus from drive\n"
      ],
      "metadata": {
        "id": "IvbS1iFMafMN"
      }
    },
    {
      "cell_type": "code",
      "source": [
        "!tar xvzf /content/drive/MyDrive/www-matsne-gov-ge.tgz"
      ],
      "metadata": {
        "id": "Cy1vkIMiam32"
      },
      "execution_count": null,
      "outputs": []
    },
    {
      "cell_type": "code",
      "source": [
        "!du -sh /content/content/www.matsne.gov.ge"
      ],
      "metadata": {
        "id": "cSgPkj0BbUPN",
        "outputId": "4ab22aeb-f1b8-4a81-e898-b86e30c87948",
        "colab": {
          "base_uri": "https://localhost:8080/"
        }
      },
      "execution_count": 4,
      "outputs": [
        {
          "output_type": "stream",
          "name": "stdout",
          "text": [
            "3.3G\t/content/content/www.matsne.gov.ge\n"
          ]
        }
      ]
    },
    {
      "cell_type": "code",
      "source": [
        "!du -sh  /content/content/www.matsne.gov.ge/ka/document/view/*/"
      ],
      "metadata": {
        "id": "ixOyj1rPbc0N",
        "outputId": "b1b8cf2b-46df-4a01-9f26-8122823a8e86",
        "colab": {
          "base_uri": "https://localhost:8080/"
        }
      },
      "execution_count": 13,
      "outputs": [
        {
          "output_type": "stream",
          "name": "stdout",
          "text": [
            "16K\t/content/content/www.matsne.gov.ge/ka/document/view/ადამიანის უფლებათა ევროპული სასამართლო: ჩვენების მიცემის ვალდებულებისგან გათავისუფლე/\n"
          ]
        }
      ]
    },
    {
      "cell_type": "markdown",
      "source": [
        "### juris.bundesgerichtshof.de"
      ],
      "metadata": {
        "id": "4It8W9YLZskY"
      }
    },
    {
      "cell_type": "code",
      "source": [
        "!wget https://heibox.uni-heidelberg.de/f/e0b64f81c40c44328b4d/?dl=1"
      ],
      "metadata": {
        "colab": {
          "base_uri": "https://localhost:8080/"
        },
        "id": "xQZtTzF3ad68",
        "outputId": "3b6d6d7a-1857-4364-f672-2f031aeb2097"
      },
      "execution_count": null,
      "outputs": [
        {
          "output_type": "stream",
          "name": "stdout",
          "text": [
            "--2023-11-16 09:16:16--  https://heibox.uni-heidelberg.de/f/e0b64f81c40c44328b4d/?dl=1\n",
            "Resolving heibox.uni-heidelberg.de (heibox.uni-heidelberg.de)... 129.206.7.113\n",
            "Connecting to heibox.uni-heidelberg.de (heibox.uni-heidelberg.de)|129.206.7.113|:443... connected.\n",
            "HTTP request sent, awaiting response... 302 Found\n",
            "Location: https://heibox.uni-heidelberg.de/seafhttp/files/afb9a0ab-a6a3-464c-bde4-e9933adf1105/juris.bundesgerichtshof.de.tgz [following]\n",
            "--2023-11-16 09:16:16--  https://heibox.uni-heidelberg.de/seafhttp/files/afb9a0ab-a6a3-464c-bde4-e9933adf1105/juris.bundesgerichtshof.de.tgz\n",
            "Reusing existing connection to heibox.uni-heidelberg.de:443.\n",
            "HTTP request sent, awaiting response... 200 OK\n",
            "Length: 282148836 (269M) [application/octet-stream]\n",
            "Saving to: ‘index.html?dl=1’\n",
            "\n",
            "index.html?dl=1     100%[===================>] 269.08M  14.9MB/s    in 18s     \n",
            "\n",
            "2023-11-16 09:16:34 (14.9 MB/s) - ‘index.html?dl=1’ saved [282148836/282148836]\n",
            "\n"
          ]
        }
      ]
    },
    {
      "cell_type": "code",
      "source": [
        "!mv index.html?dl=1 juris.bundesgerichtshof.de.tgz"
      ],
      "metadata": {
        "id": "Mc3NOqhWaiHn"
      },
      "execution_count": null,
      "outputs": []
    },
    {
      "cell_type": "code",
      "source": [
        "!tar xvzf juris.bundesgerichtshof.de.tgz"
      ],
      "metadata": {
        "id": "Xr5A_rEZalsW"
      },
      "execution_count": null,
      "outputs": []
    },
    {
      "cell_type": "markdown",
      "source": [
        "## Crawling and extracting text from pdf"
      ],
      "metadata": {
        "id": "yKrlpkJFcy-9"
      }
    },
    {
      "cell_type": "code",
      "source": [
        "pip install pdfplumber -q"
      ],
      "metadata": {
        "colab": {
          "base_uri": "https://localhost:8080/"
        },
        "id": "DcEQI2ZskIwX",
        "outputId": "ae5f0db9-3438-45be-fe56-edfcdc35048a"
      },
      "execution_count": null,
      "outputs": [
        {
          "output_type": "stream",
          "name": "stdout",
          "text": [
            "\u001b[2K     \u001b[90m━━━━━━━━━━━━━━━━━━━━━━━━━━━━━━━━━━━━━━━━\u001b[0m \u001b[32m49.0/49.0 kB\u001b[0m \u001b[31m1.0 MB/s\u001b[0m eta \u001b[36m0:00:00\u001b[0m\n",
            "\u001b[2K     \u001b[90m━━━━━━━━━━━━━━━━━━━━━━━━━━━━━━━━━━━━━━━━\u001b[0m \u001b[32m5.6/5.6 MB\u001b[0m \u001b[31m43.1 MB/s\u001b[0m eta \u001b[36m0:00:00\u001b[0m\n",
            "\u001b[2K     \u001b[90m━━━━━━━━━━━━━━━━━━━━━━━━━━━━━━━━━━━━━━━━\u001b[0m \u001b[32m3.0/3.0 MB\u001b[0m \u001b[31m90.8 MB/s\u001b[0m eta \u001b[36m0:00:00\u001b[0m\n",
            "\u001b[?25h"
          ]
        }
      ]
    },
    {
      "cell_type": "code",
      "source": [
        "import pdfplumber"
      ],
      "metadata": {
        "id": "jRcgVE1LkrXf"
      },
      "execution_count": null,
      "outputs": []
    },
    {
      "cell_type": "code",
      "source": [],
      "metadata": {
        "id": "bL53qCuo_fUP"
      },
      "execution_count": null,
      "outputs": []
    },
    {
      "cell_type": "code",
      "source": [
        "# /content/juris.bundesgerichtshof.de/cgi-bin/rechtsprechung/document.py?Gericht=bgh&Art=en&Datum=2000&nr=13454&linked=pm&Blank=1\n",
        "# /content/juris.bundesgerichtshof.de/cgi-bin/rechtsprechung/document.py?Gericht=bgh&Art=en&Datum=2000&nr=17850&pos=1&anz=2206&Blank=1.pdf\n",
        "pdf2 = pdfplumber.open('/content/juris.bundesgerichtshof.de/cgi-bin/rechtsprechung/document.py?Gericht=bgh&Art=en&Datum=2000&nr=17850&pos=1&anz=2206&Blank=1.pdf')\n"
      ],
      "metadata": {
        "id": "XwuL7RbKkSOA"
      },
      "execution_count": null,
      "outputs": []
    },
    {
      "cell_type": "code",
      "source": [
        "len(pdf2.pages)"
      ],
      "metadata": {
        "colab": {
          "base_uri": "https://localhost:8080/"
        },
        "id": "u3YteBa_k8lx",
        "outputId": "e0612b2d-dd23-4a76-e49b-dd2e59d812cf"
      },
      "execution_count": null,
      "outputs": [
        {
          "output_type": "execute_result",
          "data": {
            "text/plain": [
              "3"
            ]
          },
          "metadata": {},
          "execution_count": 11
        }
      ]
    },
    {
      "cell_type": "code",
      "source": [
        "page = pdf2.pages[2]"
      ],
      "metadata": {
        "id": "g4H0qiTBlA1F"
      },
      "execution_count": null,
      "outputs": []
    },
    {
      "cell_type": "code",
      "source": [
        "text = page.extract_text()"
      ],
      "metadata": {
        "id": "mTpfFaJQlL_T"
      },
      "execution_count": null,
      "outputs": []
    },
    {
      "cell_type": "code",
      "source": [
        "print(text)"
      ],
      "metadata": {
        "colab": {
          "base_uri": "https://localhost:8080/"
        },
        "id": "TAFS1J9UlNW9",
        "outputId": "713c66ae-61c4-46b2-ed6f-4290366c835a"
      },
      "execution_count": null,
      "outputs": [
        {
          "output_type": "stream",
          "name": "stdout",
          "text": [
            "- 3 -\n",
            "ringere Strafe festgesetzt hätte, da der Unrechts- und Schuldgehalt des Tatge-\n",
            "schehens unverändert bleibt.\n",
            "Soweit der Angeklagte mit der Verfahrensrüge nach § 338 Nr. 1 StPO\n",
            "geltend macht, er sei durch die Anklageerhebung mit dem Familiennamen \"O. \"\n",
            "statt R. seinem gesetzlichen Richter entzogen worden, verweist der Senat\n",
            "ergänzend zu den Ausführungen des Generalbundesanwalts auf das Senats-\n",
            "urteil vom 21. Dezember 1983 - 2 StR 495/83 (NStZ 1984, 181).\n",
            "Jähnke Detter Bode\n",
            "Rothfuß Fischer\n"
          ]
        }
      ]
    },
    {
      "cell_type": "code",
      "source": [
        "import re"
      ],
      "metadata": {
        "id": "oT_mEw-Yn4eM"
      },
      "execution_count": null,
      "outputs": []
    },
    {
      "cell_type": "code",
      "source": [
        "def removeHyphensNL(SText):\n",
        "    LTextOut = []\n",
        "    LText = SText.splitlines()\n",
        "    for SLine in LText:\n",
        "        SLine = SLine.strip()\n",
        "        if SLine == '':\n",
        "            LTextOut.append('\\n\\n')\n",
        "            continue\n",
        "        if SLine[-1] == '-':\n",
        "            SLine2write = SLine[:-1]\n",
        "            LTextOut.append(SLine2write)\n",
        "            continue\n",
        "\n",
        "        LTextOut.append(SLine + ' ')\n",
        "    STextOut = ''.join(LTextOut)\n",
        "    return STextOut"
      ],
      "metadata": {
        "id": "wtU6Y-h6oWdJ"
      },
      "execution_count": null,
      "outputs": []
    },
    {
      "cell_type": "code",
      "source": [
        "def extractTxtFromPDF(SInputFileName):\n",
        "    pdf2 = pdfplumber.open(SInputFileName)\n",
        "    textList = []\n",
        "    for page in pdf2.pages:\n",
        "        text = page.extract_text()\n",
        "        # text = text.removeprefix('- 2 -')\n",
        "        text = re.sub('^\\- [0-9]+ \\-\\n', '', text, flags=re.MULTILINE)\n",
        "        textList.append(text)\n",
        "\n",
        "    textString = '\\n'.join(textList)\n",
        "    textString2 = removeHyphensNL(textString)\n",
        "    return textString2\n",
        "\n"
      ],
      "metadata": {
        "id": "_99eYgSQq9uO"
      },
      "execution_count": null,
      "outputs": []
    },
    {
      "cell_type": "code",
      "source": [
        "# text = extractTxtFromPDF(r'/content/content/www.arlis.am/Annexes\\6\\2022_N1973hav.4.pdf')\n",
        "print(text + '\\n')"
      ],
      "metadata": {
        "colab": {
          "base_uri": "https://localhost:8080/"
        },
        "id": "wwLZqHvbr2Jb",
        "outputId": "df9cbcf5-a449-4776-db88-0ed19bbf889d"
      },
      "execution_count": null,
      "outputs": [
        {
          "output_type": "stream",
          "name": "stdout",
          "text": [
            "Հավելված N 4 ՀՀ կառավարության 2022 թվականի դեկտեմբերի 15-ի N 1973 - Ն որոշման ՀԱՅԱՍՏԱՆԻ ՀԱՆՐԱՊԵՏՈՒԹՅԱՆ ԿԱՌԱՎԱՐՈՒԹՅԱՆ 2021 ԹՎԱԿԱՆԻ ԴԵԿՏԵՄԲԵՐԻ 23-Ի N 2121-Ն ՈՐՈՇՄԱՆ N 9 ՀԱՎԵԼՎԱԾԻ NN 9.13 ԵՎ 9.47 ԱՂՅՈՒՍԱԿՆԵՐՈՒՄ ԿԱՏԱՐՎՈՂ ՓՈՓՈԽՈՒԹՅՈՒՆՆԵՐԸ ՀՀ կրթության, գիտության, մշակույթի և սպորտի նախարարություն ՄԱՍ 2. ՊԵՏԱԿԱՆ ՄԱՐՄՆԻ ԳԾՈՎ ԱՐԴՅՈՒՆՔԱՅԻՆ (ԿԱՏԱՐՈՂԱԿԱՆ) ՑՈՒՑԱՆԻՇՆԵՐԸ Ծրագրի դասիչը Ծրագրի անվանումը 1146 Հանրակրթության ծրագիր Ծրագրի միջոցառումները Ծրագրի դասիչը 1146 Ցուցանիշների փոփոխությունը (նվազեցումները նշված են փակագծերում) Միջոցառման դասիչը 11001 տարի Միջոցառման անվանումը Տարրական ընդհանուր հանրակրթություն Նկարագրությունը Պարտադիր կրթության առաջին մակարդակում սովորողների ընդգրկվածության, գրագիտության և համակողմանի զարգացման բարձր մակարդակի ապահովում 2 Միջոցառման տեսակը Ծառայությունների մատուցում Շահառուների ընտրության ՀՀ կրթության, գիտության,մշակույթի և սպորտի չափորոշիչները նախարարության, ՀՀ մարզպետարանների, Երևանի քաղաքապետարանի ենթակայության ուսումնական հաստատություններ Արդյունքի չափորոշիչներ Տարրական ընդհանուր կրթության դասարանների սովորողների թիվը, մարդ (3,959) տղա (2,008) աղջիկ (1,950) Միջոցառման վրա կատարվող ծախսը (հազ. դրամ) (1,555.3) Ծրագրի դասիչը 1146 Ցուցանիշների փոփոխությունը (նվազեցումները նշված են փակագծերում) Միջոցառման դասիչը 11002 տարի Միջոցառման անվանումը Հիմնական ընդհանուր հանրակրթություն Նկարագրությունը Պարտադիր կրթության երկրորդ մակարդակում սովորողների ընդգրկվածության, գրագիտության և համակողմանի զարգացման բարձր մակարդակի ապահովում Միջոցառման տեսակը Ծառայությունների մատուցում Շահառուների ընտրության ՀՀ կրթության, գիտության,մշակույթի և սպորտի չափորոշիչները նախարարության, ՀՀ մարզպետարանների, Երևանի քաղաքապետարանի ենթակայության ուսումնական հաստատություններ Արդյունքի չափորոշիչներ Հիմնական ընդհանուր կրթության դասարանների սովորողների միջին տարեկան թիվը, մարդ (1,184) տղա (1,710) 3 աղջիկ 526 Միջոցառման վրա կատարվող ծախսը (հազ. դրամ) 0.0 Ծրագրի դասիչը 1146 Ցուցանիշների փոփոխությունը (նվազեցումները նշված են փակագծերում) Միջոցառման դասիչը 11003 տարի Միջոցառման անվանումը Միջնակարգ ընդհանուր հանրակրթություն Նկարագրությունը Պարտադիր կրթության երրորդ մակարդակում սովորողների ընդգրկվածության, գրագիտության և համակողմանի զարգացման բարձր մակարդակի ապահովում Միջոցառման տեսակը Ծառայությունների մատուցում Շահառուների ընտրության ՀՀ կրթության, գիտության,մշակույթի և սպորտի չափորոշիչները նախարարության, ՀՀ մարզպետարանների, Երևանի քաղաքապետարանի ենթակայության ուսումնական հաստատություններ Արդյունքի չափորոշիչներ Միջնակարգ ընդհանուր կրթության դասարանների սովորողների միջին տարեկան թիվը, մարդ (6,470) տղա (2,820) աղջիկ (3,650) Միջոցառման վրա կատարվող ծախսը (հազ. դրամ) (8,016.6) 4 Ծրագրի դասիչը 1146 Ցուցանիշների փոփոխությունը (նվազեցումները նշված են փակագծերում) Միջոցառման դասիչը 11013 տարի Միջոցառման անվանումը Նախադպրոցական կրթություն Նկարագրությունը Նախադպրոցական կրթություն մակարդակում սաների ընդգրկվածության, զարգացման բարձր մակարդակի ապահովում, 5-6 տարեկան երեխաների նախապատրաստում տարրական դպրոցին Միջոցառման տեսակը Ծառայությունների մատուցում Շահառուների ընտրության ՀՀ կրթության, գիտության, մշակույթի և սպորտի չափորոշիչները նախարարության, Երևանի քաղաքապետարանի, ՀՀ մարզպետարանների ենթակայության նախադպրոցական կրթություն իրականացնող ուսումնական հաստատություններ Արդյունքի չափորոշիչներ Ծառայությունը ստացող երեխաների միջին տարեկան թիվը, մարդ (1,435) տղա (743) աղջիկ (692) Միջոցառման վրա կատարվող ծախսը (հազ. դրամ) (6,263.9) Ծրագրի դասիչը 1146 Ցուցանիշների փոփոխությունը (ավելացումները նշված են դրական նշանով, իսկ նվազեցումները` փակագծերում) Միջոցառման դասիչը 12002 տարի 5 Հանրակրթական դպրոցների մանկավարժներին և դպրոցահասակ երեխաներին տրնասպորտային ծախսերի Միջոցառման անվանումը փոխհատուցում Նկարագրությունը Հանրակրթական դպրոցների մանկավարժներին և դպրոցահասակ երեխաներին տրնասպորտային ծախսերի փոխհատուցման ապահովում Միջոցառման տեսակը Տրանսֆերտների տրամադրում Շահառուների ընտրության Շահառուների ընտրության չափորոշիչները սահմանված են չափորոշիչները ԿԳՄՍ նախարարի հրամանով Արդյունքի չափորոշիչներ Հանրակրթական դպրոցների թիվը, հատ 39 Տրանսպորտային ծախսերի փոխհատուցում ստացող դպրոցահասակ երեխաների թիվը /մարդ/, որից՛ 162 տղա 105 աղջիկ 57 Տրանսպորտային ծախսերի փոխհատուցում ստացող մանկավարժների թիվը /մարդ/, որից՛ 493 տղամարդ 64 կին 429 Միջոցառման վրա կատարվող ծախսը (հազ. դրամ) 22,550.3 Ծրագրի դասիչը 1146 Ցուցանիշների փոփոխությունը (նվազեցումները նշված են փակագծերում) Միջոցառման դասիչը 12003 տարի Սոցիալական աջակցություն ստացող ՀՀ սահմանամերձ համայնքների երեխաների դասագրքերի վարձավճարների փոխհատուցում Միջոցառման անվանումը 6 Նկարագրությունը Հանրակրթական դպրոցի սոցիալական աջակցություն ստացող ՀՀ սահմանամերձ համայնքների դպրոցների երեխաների դասագրքերի վարձավճարների փոխհատուցում Միջոցառման տեսակը Տրանսֆերտների տրամադրում Շահառուների ընտրության Սոցիալական աջակցություն ստացող սահմանամերձ չափորոշիչները համայնքներ Արդյունքի չափորոշիչներ Սահմանամերձ համայնքների դպրոցների 5-12-րդ դասարանների սովորողների թիվը, մարդ (69) Սահմանամերձ համայնքների դպրոցների թիվը, հատ (11) Սոցիալական աջակցություն ստացող սահմանամերձ համայնքների թիվը, հատ (3) Միջոցառման վրա կատարվող ծախսը (հազ. դրամ) (10,087.7) Ծրագրի դասիչը 1146 Ցուցանիշների փոփոխությունը (ավելացումները նշված են դրական նշանով, իսկ նվազեցումները` փակագծերում) Միջոցառման դասիչը 12004 տարի Ատեստավորման միջոցով որակավորում ստացած ուսուցիչներին հավելավճարների տրամադրում Միջոցառման անվանումը Նկարագրությունը Ատեստավորման միջոցով տարակարգի որակավորում ստացած ուսուցիչներին համաապատասխան հավելավճարի տրամադրման ապահովում Միջոցառման տեսակը Տրանսֆերտների տրամադրում 7 Շահառուների ընտրության Ատեստավորման արդյունքում որակավորում ստացած չափորոշիչները ուսուցիչներ Արդյունքի չափորոշիչներ Որակավորման տարակարգ ստացած ուսուցիչների թիվը, մարդ 66 տղամարդ (3) կին 69 Միջոցառման վրա կատարվող ծախսը (հազ. դրամ) 1,849.2 Ծրագրի դասիչը Ծրագրի անվանումը 1148 Արտադպրոցական դաստիարակոթյան ծրագիր Ծրագրի միջոցառումները Ծրագրի դասիչը 1148 Ցուցանիշների փոփոխությունը (ավելացումները նշված են դրական նշանով) Միջոցառման դասիչը 11001 տարի Միջոցառման անվանումը Արտադպրոցական դաստիարակություն Նկարագրությունը Արվեստի, երաժշտության, սպորտի դասընթացներ մարզադպրոցներում , ստեղծագործական և արտադպրոցական դաստիարակության այլ կենտրոններում Ծառայությունների մատուցում Միջոցառման տեսակը Շահառուների ընտրության Մասնագիտացված կազմակերպություններ չափորոշիչները 8 Արդյունքի չափորոշիչներ Միջոցառման վրա կատարվող ծախսը (հազ. դրամ) 1,524.0 ՀԱՅԱՍՏԱՆԻ ՀԱՆՐԱՊԵՏՈՒԹՅԱՆ ՎԱՐՉԱՊԵՏԻ ԱՇԽԱՏԱԿԱԶՄԻ ՂԵԿԱՎԱՐ Ա. ՀԱՐՈՒԹՅՈՒՆՅԱՆ \n",
            "\n"
          ]
        }
      ]
    },
    {
      "cell_type": "code",
      "source": [
        "textList = []\n",
        "for page in pdf2.pages:\n",
        "    text = page.extract_text()\n",
        "    # text = text.removeprefix('- 2 -')\n",
        "    text = re.sub('^\\- [0-9]+ \\-\\n', '', text, flags=re.MULTILINE)\n",
        "    textList.append(text)\n",
        "\n",
        "textString = '\\n'.join(textList)\n",
        "textString2 = removeHyphensNL(textString)\n",
        "print(textString2)\n",
        "# print(textString)"
      ],
      "metadata": {
        "colab": {
          "base_uri": "https://localhost:8080/"
        },
        "id": "4Y9GJIuLlSAp",
        "outputId": "56ad15c9-f7f7-4eed-aaa2-fed1aed6b7dc"
      },
      "execution_count": null,
      "outputs": [
        {
          "output_type": "stream",
          "name": "stdout",
          "text": [
            "BUNDESGERICHTSHOF BESCHLUSS 2 StR 389/00 vom 22. Dezember 2000 in der Strafsache gegen wegen unerlaubten Handeltreibens mit Betäubungsmitteln in nicht geringer Menge Der 2. Strafsenat des Bundesgerichtshofs hat auf Antrag des Generalbundesanwalts und nach Anhörung des Beschwerdeführers am 22. Dezember 2000 gemäß § 349 Abs. 2 und 4 StPO beschlossen: Die Revision des Angeklagten gegen das Urteil des Landgerichts Frankfurt am Main vom 5. Juni 2000 wird mit der Maßgabe verworfen, daß der Schuldspruch wegen tateinheitlich begangener versuchter Durchfuhr von Betäubungsmitteln entfällt. Der Angeklagte hat die Kosten seines Rechtsmittels zu tragen. Gründe: Das Landgericht hat den Angeklagten wegen versuchter Durchfuhr von Betäubungsmitteln in Tateinheit mit Handeltreiben mit Betäubungsmitteln in nicht geringer Menge zu der Freiheitsstrafe von vier Jahren verurteilt und die Einziehung von Rauschgift und Tatmitteln angeordnet. Mit seiner Revision rügt der Angeklagte die Verletzung formellen und materiellen Rechts. Das Rechtsmittel führt zu der aus der Beschlußformel ersichtlichen Einschränkung des Schuldspruchs, im übrigen ist es unbegründet im Sinne des § 349 Abs. 2 StPO. Der Schuldspruch wegen tateinheitlich begangener versuchter Durchfuhr von Betäubungsmitteln hat keinen Bestand, weil die versuchte Durchfuhr im Gesamtgeschehen des täterschaftlichen Handeltreibens mit Betäubungsmitteln als unselbständiger Teilakt aufgeht (vgl. BGHSt 31, 374, 379). Der Strafausspruch kann bestehen bleiben. Der Senat schließt aus, daß das Landgericht auf der Grundlage des beschränkten Schuldspruchs eine geringere Strafe festgesetzt hätte, da der Unrechts- und Schuldgehalt des Tatgeschehens unverändert bleibt. Soweit der Angeklagte mit der Verfahrensrüge nach § 338 Nr. 1 StPO geltend macht, er sei durch die Anklageerhebung mit dem Familiennamen \"O. \" statt R. seinem gesetzlichen Richter entzogen worden, verweist der Senat ergänzend zu den Ausführungen des Generalbundesanwalts auf das Senatsurteil vom 21. Dezember 1983 - 2 StR 495/83 (NStZ 1984, 181). Jähnke Detter Bode Rothfuß Fischer \n"
          ]
        }
      ]
    },
    {
      "cell_type": "markdown",
      "source": [
        "## Lynx browser installation for html extraction"
      ],
      "metadata": {
        "id": "ucfniUXZAHCb"
      }
    },
    {
      "cell_type": "code",
      "source": [
        "!apt-get install lynx"
      ],
      "metadata": {
        "id": "2WWp5I4Fkw3Y",
        "colab": {
          "base_uri": "https://localhost:8080/"
        },
        "outputId": "96683cff-6b8c-421b-9d01-e9e18dfb58d7"
      },
      "execution_count": null,
      "outputs": [
        {
          "output_type": "stream",
          "name": "stdout",
          "text": [
            "Reading package lists... Done\n",
            "Building dependency tree... Done\n",
            "Reading state information... Done\n",
            "The following additional packages will be installed:\n",
            "  lynx-common mailcap mime-support\n",
            "The following NEW packages will be installed:\n",
            "  lynx lynx-common mailcap mime-support\n",
            "0 upgraded, 4 newly installed, 0 to remove and 8 not upgraded.\n",
            "Need to get 1,771 kB of archives.\n",
            "After this operation, 5,706 kB of additional disk space will be used.\n",
            "Get:1 http://archive.ubuntu.com/ubuntu jammy/universe amd64 lynx-common all 2.9.0dev.10-1 [1,024 kB]\n",
            "Get:2 http://archive.ubuntu.com/ubuntu jammy/main amd64 mailcap all 3.70+nmu1ubuntu1 [23.8 kB]\n",
            "Get:3 http://archive.ubuntu.com/ubuntu jammy/main amd64 mime-support all 3.66 [3,696 B]\n",
            "Get:4 http://archive.ubuntu.com/ubuntu jammy/universe amd64 lynx amd64 2.9.0dev.10-1 [719 kB]\n",
            "Fetched 1,771 kB in 0s (4,368 kB/s)\n",
            "Selecting previously unselected package lynx-common.\n",
            "(Reading database ... 120882 files and directories currently installed.)\n",
            "Preparing to unpack .../lynx-common_2.9.0dev.10-1_all.deb ...\n",
            "Unpacking lynx-common (2.9.0dev.10-1) ...\n",
            "Selecting previously unselected package mailcap.\n",
            "Preparing to unpack .../mailcap_3.70+nmu1ubuntu1_all.deb ...\n",
            "Unpacking mailcap (3.70+nmu1ubuntu1) ...\n",
            "Selecting previously unselected package mime-support.\n",
            "Preparing to unpack .../mime-support_3.66_all.deb ...\n",
            "Unpacking mime-support (3.66) ...\n",
            "Selecting previously unselected package lynx.\n",
            "Preparing to unpack .../lynx_2.9.0dev.10-1_amd64.deb ...\n",
            "Unpacking lynx (2.9.0dev.10-1) ...\n",
            "Setting up lynx-common (2.9.0dev.10-1) ...\n",
            "Setting up lynx (2.9.0dev.10-1) ...\n",
            "update-alternatives: using /usr/bin/lynx to provide /usr/bin/www-browser (www-browser) in auto mode\n",
            "Setting up mailcap (3.70+nmu1ubuntu1) ...\n",
            "Setting up mime-support (3.66) ...\n",
            "Processing triggers for man-db (2.10.2-1) ...\n"
          ]
        }
      ]
    },
    {
      "cell_type": "code",
      "source": [
        "!lynx --dump https://www.uni-heidelberg.de/en >uni-heidelberg.txt\n"
      ],
      "metadata": {
        "id": "FlaSc50H_ppl"
      },
      "execution_count": null,
      "outputs": []
    },
    {
      "cell_type": "code",
      "source": [
        "!lynx --dump /content/DocumentView.aspx?docID=87283_1.html >arlis.txt"
      ],
      "metadata": {
        "id": "lkjuM4-E_pf0"
      },
      "execution_count": null,
      "outputs": []
    },
    {
      "cell_type": "code",
      "source": [
        "!cp /content/DocumentView.aspx?docID=87283_1.html /content/arlisDoc.html"
      ],
      "metadata": {
        "id": "idOVIlO-DKS1"
      },
      "execution_count": null,
      "outputs": []
    },
    {
      "cell_type": "code",
      "source": [
        "!lynx --dump /content/arlisDoc.html >arlisDoc.txt"
      ],
      "metadata": {
        "id": "3nOm48gxDoOB"
      },
      "execution_count": null,
      "outputs": []
    },
    {
      "cell_type": "code",
      "source": [
        "# class functions for crawling the directory\n",
        "\n",
        "# -*- coding: utf-8 -*-\n",
        "# Python script to open each file, read json input and copy to one text file for subsequent processing\n",
        "import os, re, sys\n",
        "import pdfplumber\n",
        "\n",
        "class clDir2txt(object):\n",
        "    '''\n",
        "    @author Bogdan Babych, IÜD, Heidelberg University, 2021\n",
        "    @email bogdan [dot] babych [at] iued [dot] uni-heidelberg [dot] de\n",
        "    '''\n",
        "    def __init__(self, SDirName, input_type = 'html', input_file_re = '^[0-9]+$', output_file = 'corpus_text.txt', tag='doc', id=1000000): # initialising by openning the directories\n",
        "        self.SOutput_file = output_file\n",
        "        self.STag = tag\n",
        "        self.ID = id\n",
        "        # REOb = re.compile(input_file_re, re.I)\n",
        "        self.InputFileRE = input_file_re\n",
        "        self.InputFileType = input_type\n",
        "\n",
        "        print(input_file_re)\n",
        "        print(self.InputFileRE)\n",
        "\n",
        "        self.openDir(SDirName)\n",
        "        return\n",
        "\n",
        "    def openDir(self, path): # implementation of recursively openning directories from a given rule directory and reading each file recursively into a string\n",
        "        i = 0\n",
        "        FOut = open(self.SOutput_file, 'w')\n",
        "\n",
        "        for root,d_names,f_names in os.walk(path):\n",
        "            for f in f_names:\n",
        "                if not re.search(self.InputFileRE, f): # skipping all the files, which do not match the pattern\n",
        "                    # print(f'Skipped: {f}')\n",
        "                    continue\n",
        "\n",
        "                fullpath = os.path.join(root, f)\n",
        "                i+=1\n",
        "                if i%1==0:\n",
        "                    print(str(i) + '. Processing: ' + f)\n",
        "                    print(fullpath)\n",
        "\n",
        "                    # FIn = open(fullpath,'r')\n",
        "                    # SIn = FIn.read()\n",
        "                    # apply text filter, if not None\n",
        "                    # if self.STextFilter and (re.search(self.RFilter, SIn) == None): continue\n",
        "                    # SText2Write = self.procFile(SIn,f,i)\n",
        "\n",
        "                SText2Write = self.procFile(fullpath, f, i) # returns converted string + tags\n",
        "                if SText2Write: FOut.write(SText2Write) # if the string is not empty then write to file\n",
        "                    # FIn.close()\n",
        "                try:\n",
        "                    pass\n",
        "                except:\n",
        "                    print(f'file {f} cannot be read or processed')\n",
        "                finally:\n",
        "                    pass\n",
        "\n",
        "        FOut.flush()\n",
        "        FOut.close()\n",
        "\n",
        "        return\n",
        "\n",
        "\n",
        "    def procFile(self, fullpath, SFNameIn, i): # sending each json string for extraction of text and attaching an correct tags to each output string output string\n",
        "        STagOpen = '<' + self.STag + ' id=\"' + self.STag + str(self.ID + i)  + '\">\\n'\n",
        "        STagClose = '\\n</' + self.STag + '>\\n\\n'\n",
        "        if self.InputFileType == 'pdf':\n",
        "            SText4Corpus = self.getStringPDF(fullpath)\n",
        "        else:\n",
        "            SText4Corpus = self.getString(fullpath, SFNameIn)\n",
        "\n",
        "\n",
        "        if SText4Corpus:\n",
        "            return STagOpen + SText4Corpus + STagClose\n",
        "        else:\n",
        "            print('\\tNo data read from: ' + SFNameIn)\n",
        "            return None\n",
        "\n",
        "\n",
        "    def getString(self, fullpath, SFNameIn):\n",
        "        '''\n",
        "        the function uses system commands to copy, open and extract content of needed files\n",
        "        '''\n",
        "        # iconv -c -t UTF-8 < input.txt > output.txt\n",
        "        # iconv -f UTF-8 -t UTF-8//IGNORE 219624.txt > 219624_V2.txt\n",
        "        # last works!\n",
        "\n",
        "        # SFNameHTML = SFNameIn + '_1.html'\n",
        "        # SFNameTXT2 = SFNameIn + '_2.txt'\n",
        "        # SFNameTXT3 = SFNameIn + '_3.txt'\n",
        "        SFNameHTML = 'SFNameIn' + '_1.html'\n",
        "        SFNameTXT2 = 'SFNameIn' + '_2.txt'\n",
        "        SFNameTXT3 = 'SFNameIn' + '_3.txt'\n",
        "\n",
        "        SCommand = 'cp ' + fullpath + ' ./' + SFNameHTML\n",
        "        os.system(SCommand)\n",
        "\n",
        "        SCommand2 = 'lynx --dump ./' + SFNameHTML + ' > ' + SFNameTXT2\n",
        "        os.system(SCommand2)\n",
        "\n",
        "        # SCommand2 = 'iconv -c -t UTF-8 < ' + SFNameHTML + ' > ' + SFNameHTML2\n",
        "        SCommand3 = 'iconv -f UTF-8 -t UTF-8//IGNORE ' + SFNameTXT2 + ' > ' + SFNameTXT3\n",
        "        os.system(SCommand3)\n",
        "\n",
        "        # stream = os.popen('lynx --dump ./' + SFNameHTML2)\n",
        "        # SFileContent = stream.read()\n",
        "\n",
        "        F2Read = open('./' + SFNameTXT3, 'r', encoding=\"utf8\", errors=\"surrogateescape\")\n",
        "        SFileContent = F2Read.read()\n",
        "\n",
        "        LFileContent = re.split('\\n\\n+', SFileContent, flags=re.MULTILINE|re.DOTALL)\n",
        "        print(len(LFileContent))\n",
        "        print(LFileContent[0])\n",
        "\n",
        "        LFileContent0 = []\n",
        "        for el in LFileContent:\n",
        "            el = re.sub('\\n', ' ', el)\n",
        "            el = re.sub(' +', ' ', el)\n",
        "            LFileContent0.append(el)\n",
        "\n",
        "        SFileContent2 = '\\n\\n'.join(LFileContent0)\n",
        "\n",
        "        SCommand4 = 'rm ' + SFNameHTML\n",
        "        SCommand5 = 'rm ' + SFNameTXT2\n",
        "        SCommand6 = 'rm ' + SFNameTXT3\n",
        "\n",
        "        os.system(SCommand4)\n",
        "        os.system(SCommand5)\n",
        "        os.system(SCommand6)\n",
        "\n",
        "        return SFileContent2\n",
        "\n",
        "    # service class functions\n",
        "    def getStringPDF(self, SInputFileName):\n",
        "        pdf2 = pdfplumber.open(SInputFileName)\n",
        "        textList = []\n",
        "        for page in pdf2.pages:\n",
        "            text = page.extract_text()\n",
        "            # text = text.removeprefix('- 2 -')\n",
        "            text = re.sub('^\\- [0-9]+ \\-\\n', '', text, flags=re.MULTILINE)\n",
        "            textList.append(text)\n",
        "\n",
        "        textString = '\\n'.join(textList)\n",
        "        textString2 = self.removeHyphensNL(textString)\n",
        "        return textString2\n",
        "\n",
        "    def removeHyphensNL(self, SText):\n",
        "        LTextOut = []\n",
        "        LText = SText.splitlines()\n",
        "        for SLine in LText:\n",
        "            SLine = SLine.strip()\n",
        "            if SLine == '':\n",
        "                LTextOut.append('\\n\\n')\n",
        "                continue\n",
        "            if SLine[-1] == '-':\n",
        "                SLine2write = SLine[:-1]\n",
        "                LTextOut.append(SLine2write)\n",
        "                continue\n",
        "\n",
        "            LTextOut.append(SLine + ' ')\n",
        "        STextOut = ''.join(LTextOut)\n",
        "        return STextOut\n",
        "\n",
        "\n"
      ],
      "metadata": {
        "id": "ttZHBLgEcxiz"
      },
      "execution_count": null,
      "outputs": []
    },
    {
      "cell_type": "code",
      "source": [
        "ODir2txt = clDir2txt('/content/justice.gov.ge', input_type = 'html', input_file_re = '=[A-Za-z0-9\\-]+$', output_file = 'justice-gov-ge-ka.txt.txt')"
      ],
      "metadata": {
        "id": "p4kbrp5Hugk9"
      },
      "execution_count": null,
      "outputs": []
    },
    {
      "cell_type": "code",
      "source": [
        "!head --lines=100 justice-gov-ge-ka.txt.txt >justice-gov-ge-ka.txt.txt"
      ],
      "metadata": {
        "id": "UjMefxfCBumO"
      },
      "execution_count": null,
      "outputs": []
    }
  ]
}