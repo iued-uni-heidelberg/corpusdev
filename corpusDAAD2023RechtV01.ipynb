{
  "nbformat": 4,
  "nbformat_minor": 0,
  "metadata": {
    "colab": {
      "provenance": [],
      "authorship_tag": "ABX9TyNBT0HBzVsEp0BqV19MRddE",
      "include_colab_link": true
    },
    "kernelspec": {
      "name": "python3",
      "display_name": "Python 3"
    },
    "language_info": {
      "name": "python"
    }
  },
  "cells": [
    {
      "cell_type": "markdown",
      "metadata": {
        "id": "view-in-github",
        "colab_type": "text"
      },
      "source": [
        "<a href=\"https://colab.research.google.com/github/iued-uni-heidelberg/corpusdev/blob/main/corpusDAAD2023RechtV01.ipynb\" target=\"_parent\"><img src=\"https://colab.research.google.com/assets/colab-badge.svg\" alt=\"Open In Colab\"/></a>"
      ]
    },
    {
      "cell_type": "markdown",
      "source": [
        "# Corpus download/collection\n",
        "\n",
        "https://heibox.uni-heidelberg.de/d/41bb31bd806a4d0fb3e4/\n",
        "\n",
        "## Internet corpora\n",
        "### gesetze-im-internet--de"
      ],
      "metadata": {
        "id": "F5S6rjjUXYx6"
      }
    },
    {
      "cell_type": "code",
      "execution_count": 1,
      "metadata": {
        "colab": {
          "base_uri": "https://localhost:8080/"
        },
        "id": "qRIJPQGWS6L1",
        "outputId": "e2b34d2a-84ab-489b-d4e3-94a84b0333ab"
      },
      "outputs": [
        {
          "output_type": "stream",
          "name": "stdout",
          "text": [
            "--2023-12-06 15:04:35--  https://heibox.uni-heidelberg.de/f/f7c648217ad344fa80fd/?dl=1\n",
            "Resolving heibox.uni-heidelberg.de (heibox.uni-heidelberg.de)... 129.206.7.113\n",
            "Connecting to heibox.uni-heidelberg.de (heibox.uni-heidelberg.de)|129.206.7.113|:443... connected.\n",
            "HTTP request sent, awaiting response... 302 Found\n",
            "Location: https://heibox.uni-heidelberg.de/seafhttp/files/95dd9cb9-b188-40f1-b47f-ed273d6a0fca/gesetze-im-internet--de.zip [following]\n",
            "--2023-12-06 15:04:36--  https://heibox.uni-heidelberg.de/seafhttp/files/95dd9cb9-b188-40f1-b47f-ed273d6a0fca/gesetze-im-internet--de.zip\n",
            "Reusing existing connection to heibox.uni-heidelberg.de:443.\n",
            "HTTP request sent, awaiting response... 200 OK\n",
            "Length: 936773328 (893M) [application/zip]\n",
            "Saving to: ‘index.html?dl=1’\n",
            "\n",
            "index.html?dl=1     100%[===================>] 893.38M  14.9MB/s    in 60s     \n",
            "\n",
            "2023-12-06 15:05:36 (14.8 MB/s) - ‘index.html?dl=1’ saved [936773328/936773328]\n",
            "\n"
          ]
        }
      ],
      "source": [
        "!wget https://heibox.uni-heidelberg.de/f/f7c648217ad344fa80fd/?dl=1"
      ]
    },
    {
      "cell_type": "code",
      "source": [
        "!mv index.html?dl=1 gesetze-im-internet--de.zip"
      ],
      "metadata": {
        "id": "O___x8NrYdLU"
      },
      "execution_count": 2,
      "outputs": []
    },
    {
      "cell_type": "code",
      "source": [
        "!unzip gesetze-im-internet--de.zip"
      ],
      "metadata": {
        "id": "pwyvAGFeYhLb"
      },
      "execution_count": null,
      "outputs": []
    },
    {
      "cell_type": "markdown",
      "source": [
        "### juris.bundesgerichtshof.de"
      ],
      "metadata": {
        "id": "4It8W9YLZskY"
      }
    },
    {
      "cell_type": "code",
      "source": [
        "!wget https://heibox.uni-heidelberg.de/f/e0b64f81c40c44328b4d/?dl=1"
      ],
      "metadata": {
        "colab": {
          "base_uri": "https://localhost:8080/"
        },
        "id": "xQZtTzF3ad68",
        "outputId": "3b6d6d7a-1857-4364-f672-2f031aeb2097"
      },
      "execution_count": null,
      "outputs": [
        {
          "output_type": "stream",
          "name": "stdout",
          "text": [
            "--2023-11-16 09:16:16--  https://heibox.uni-heidelberg.de/f/e0b64f81c40c44328b4d/?dl=1\n",
            "Resolving heibox.uni-heidelberg.de (heibox.uni-heidelberg.de)... 129.206.7.113\n",
            "Connecting to heibox.uni-heidelberg.de (heibox.uni-heidelberg.de)|129.206.7.113|:443... connected.\n",
            "HTTP request sent, awaiting response... 302 Found\n",
            "Location: https://heibox.uni-heidelberg.de/seafhttp/files/afb9a0ab-a6a3-464c-bde4-e9933adf1105/juris.bundesgerichtshof.de.tgz [following]\n",
            "--2023-11-16 09:16:16--  https://heibox.uni-heidelberg.de/seafhttp/files/afb9a0ab-a6a3-464c-bde4-e9933adf1105/juris.bundesgerichtshof.de.tgz\n",
            "Reusing existing connection to heibox.uni-heidelberg.de:443.\n",
            "HTTP request sent, awaiting response... 200 OK\n",
            "Length: 282148836 (269M) [application/octet-stream]\n",
            "Saving to: ‘index.html?dl=1’\n",
            "\n",
            "index.html?dl=1     100%[===================>] 269.08M  14.9MB/s    in 18s     \n",
            "\n",
            "2023-11-16 09:16:34 (14.9 MB/s) - ‘index.html?dl=1’ saved [282148836/282148836]\n",
            "\n"
          ]
        }
      ]
    },
    {
      "cell_type": "code",
      "source": [
        "!mv index.html?dl=1 juris.bundesgerichtshof.de.tgz"
      ],
      "metadata": {
        "id": "Mc3NOqhWaiHn"
      },
      "execution_count": null,
      "outputs": []
    },
    {
      "cell_type": "code",
      "source": [
        "!tar xvzf juris.bundesgerichtshof.de.tgz"
      ],
      "metadata": {
        "id": "Xr5A_rEZalsW"
      },
      "execution_count": null,
      "outputs": []
    },
    {
      "cell_type": "markdown",
      "source": [
        "## Crawling and extracting text from pdf"
      ],
      "metadata": {
        "id": "yKrlpkJFcy-9"
      }
    },
    {
      "cell_type": "code",
      "source": [
        "pip install pdfplumber -q"
      ],
      "metadata": {
        "id": "DcEQI2ZskIwX"
      },
      "execution_count": null,
      "outputs": []
    },
    {
      "cell_type": "code",
      "source": [
        "import pdfplumber"
      ],
      "metadata": {
        "id": "jRcgVE1LkrXf"
      },
      "execution_count": 5,
      "outputs": []
    },
    {
      "cell_type": "code",
      "source": [],
      "metadata": {
        "id": "2WWp5I4Fkw3Y"
      },
      "execution_count": null,
      "outputs": []
    },
    {
      "cell_type": "code",
      "source": [
        "# /content/juris.bundesgerichtshof.de/cgi-bin/rechtsprechung/document.py?Gericht=bgh&Art=en&Datum=2000&nr=13454&linked=pm&Blank=1\n",
        "# /content/juris.bundesgerichtshof.de/cgi-bin/rechtsprechung/document.py?Gericht=bgh&Art=en&Datum=2000&nr=17850&pos=1&anz=2206&Blank=1.pdf\n",
        "pdf2 = pdfplumber.open('/content/juris.bundesgerichtshof.de/cgi-bin/rechtsprechung/document.py?Gericht=bgh&Art=en&Datum=2000&nr=17850&pos=1&anz=2206&Blank=1.pdf')\n"
      ],
      "metadata": {
        "id": "XwuL7RbKkSOA"
      },
      "execution_count": null,
      "outputs": []
    },
    {
      "cell_type": "code",
      "source": [
        "len(pdf2.pages)"
      ],
      "metadata": {
        "colab": {
          "base_uri": "https://localhost:8080/"
        },
        "id": "u3YteBa_k8lx",
        "outputId": "e0612b2d-dd23-4a76-e49b-dd2e59d812cf"
      },
      "execution_count": null,
      "outputs": [
        {
          "output_type": "execute_result",
          "data": {
            "text/plain": [
              "3"
            ]
          },
          "metadata": {},
          "execution_count": 11
        }
      ]
    },
    {
      "cell_type": "code",
      "source": [
        "page = pdf2.pages[2]"
      ],
      "metadata": {
        "id": "g4H0qiTBlA1F"
      },
      "execution_count": null,
      "outputs": []
    },
    {
      "cell_type": "code",
      "source": [
        "text = page.extract_text()"
      ],
      "metadata": {
        "id": "mTpfFaJQlL_T"
      },
      "execution_count": null,
      "outputs": []
    },
    {
      "cell_type": "code",
      "source": [
        "print(text)"
      ],
      "metadata": {
        "colab": {
          "base_uri": "https://localhost:8080/"
        },
        "id": "TAFS1J9UlNW9",
        "outputId": "713c66ae-61c4-46b2-ed6f-4290366c835a"
      },
      "execution_count": null,
      "outputs": [
        {
          "output_type": "stream",
          "name": "stdout",
          "text": [
            "- 3 -\n",
            "ringere Strafe festgesetzt hätte, da der Unrechts- und Schuldgehalt des Tatge-\n",
            "schehens unverändert bleibt.\n",
            "Soweit der Angeklagte mit der Verfahrensrüge nach § 338 Nr. 1 StPO\n",
            "geltend macht, er sei durch die Anklageerhebung mit dem Familiennamen \"O. \"\n",
            "statt R. seinem gesetzlichen Richter entzogen worden, verweist der Senat\n",
            "ergänzend zu den Ausführungen des Generalbundesanwalts auf das Senats-\n",
            "urteil vom 21. Dezember 1983 - 2 StR 495/83 (NStZ 1984, 181).\n",
            "Jähnke Detter Bode\n",
            "Rothfuß Fischer\n"
          ]
        }
      ]
    },
    {
      "cell_type": "code",
      "source": [
        "import re"
      ],
      "metadata": {
        "id": "oT_mEw-Yn4eM"
      },
      "execution_count": null,
      "outputs": []
    },
    {
      "cell_type": "code",
      "source": [
        "def removeHyphensNL(SText):\n",
        "    LTextOut = []\n",
        "    LText = SText.splitlines()\n",
        "    for SLine in LText:\n",
        "        SLine = SLine.strip()\n",
        "        if SLine == '':\n",
        "            LTextOut.append('\\n\\n')\n",
        "            continue\n",
        "        if SLine[-1] == '-':\n",
        "            SLine2write = SLine[:-1]\n",
        "            LTextOut.append(SLine2write)\n",
        "            continue\n",
        "\n",
        "        LTextOut.append(SLine + ' ')\n",
        "    STextOut = ''.join(LTextOut)\n",
        "    return STextOut"
      ],
      "metadata": {
        "id": "wtU6Y-h6oWdJ"
      },
      "execution_count": null,
      "outputs": []
    },
    {
      "cell_type": "code",
      "source": [
        "def extractTxtFromPDF(SInputFileName):\n",
        "    pdf2 = pdfplumber.open(SInputFileName)\n",
        "    textList = []\n",
        "    for page in pdf2.pages:\n",
        "        text = page.extract_text()\n",
        "        # text = text.removeprefix('- 2 -')\n",
        "        text = re.sub('^\\- [0-9]+ \\-\\n', '', text, flags=re.MULTILINE)\n",
        "        textList.append(text)\n",
        "\n",
        "    textString = '\\n'.join(textList)\n",
        "    textString2 = removeHyphensNL(textString)\n",
        "    return textString2\n",
        "\n"
      ],
      "metadata": {
        "id": "_99eYgSQq9uO"
      },
      "execution_count": null,
      "outputs": []
    },
    {
      "cell_type": "code",
      "source": [
        "text = extractTxtFromPDF('/content/juris.bundesgerichtshof.de/cgi-bin/rechtsprechung/document.py?Gericht=bgh&Art=en&Datum=2000&nr=17850&pos=1&anz=2206&Blank=1.pdf')\n",
        "print(text + '\\n')"
      ],
      "metadata": {
        "colab": {
          "base_uri": "https://localhost:8080/"
        },
        "id": "wwLZqHvbr2Jb",
        "outputId": "b549665d-083e-4161-b588-6be4b44c135c"
      },
      "execution_count": null,
      "outputs": [
        {
          "output_type": "stream",
          "name": "stdout",
          "text": [
            "BUNDESGERICHTSHOF BESCHLUSS 2 StR 389/00 vom 22. Dezember 2000 in der Strafsache gegen wegen unerlaubten Handeltreibens mit Betäubungsmitteln in nicht geringer Menge Der 2. Strafsenat des Bundesgerichtshofs hat auf Antrag des Generalbundesanwalts und nach Anhörung des Beschwerdeführers am 22. Dezember 2000 gemäß § 349 Abs. 2 und 4 StPO beschlossen: Die Revision des Angeklagten gegen das Urteil des Landgerichts Frankfurt am Main vom 5. Juni 2000 wird mit der Maßgabe verworfen, daß der Schuldspruch wegen tateinheitlich begangener versuchter Durchfuhr von Betäubungsmitteln entfällt. Der Angeklagte hat die Kosten seines Rechtsmittels zu tragen. Gründe: Das Landgericht hat den Angeklagten wegen versuchter Durchfuhr von Betäubungsmitteln in Tateinheit mit Handeltreiben mit Betäubungsmitteln in nicht geringer Menge zu der Freiheitsstrafe von vier Jahren verurteilt und die Einziehung von Rauschgift und Tatmitteln angeordnet. Mit seiner Revision rügt der Angeklagte die Verletzung formellen und materiellen Rechts. Das Rechtsmittel führt zu der aus der Beschlußformel ersichtlichen Einschränkung des Schuldspruchs, im übrigen ist es unbegründet im Sinne des § 349 Abs. 2 StPO. Der Schuldspruch wegen tateinheitlich begangener versuchter Durchfuhr von Betäubungsmitteln hat keinen Bestand, weil die versuchte Durchfuhr im Gesamtgeschehen des täterschaftlichen Handeltreibens mit Betäubungsmitteln als unselbständiger Teilakt aufgeht (vgl. BGHSt 31, 374, 379). Der Strafausspruch kann bestehen bleiben. Der Senat schließt aus, daß das Landgericht auf der Grundlage des beschränkten Schuldspruchs eine geringere Strafe festgesetzt hätte, da der Unrechts- und Schuldgehalt des Tatgeschehens unverändert bleibt. Soweit der Angeklagte mit der Verfahrensrüge nach § 338 Nr. 1 StPO geltend macht, er sei durch die Anklageerhebung mit dem Familiennamen \"O. \" statt R. seinem gesetzlichen Richter entzogen worden, verweist der Senat ergänzend zu den Ausführungen des Generalbundesanwalts auf das Senatsurteil vom 21. Dezember 1983 - 2 StR 495/83 (NStZ 1984, 181). Jähnke Detter Bode Rothfuß Fischer \n",
            "\n"
          ]
        }
      ]
    },
    {
      "cell_type": "code",
      "source": [
        "textList = []\n",
        "for page in pdf2.pages:\n",
        "    text = page.extract_text()\n",
        "    # text = text.removeprefix('- 2 -')\n",
        "    text = re.sub('^\\- [0-9]+ \\-\\n', '', text, flags=re.MULTILINE)\n",
        "    textList.append(text)\n",
        "\n",
        "textString = '\\n'.join(textList)\n",
        "textString2 = removeHyphensNL(textString)\n",
        "print(textString2)\n",
        "# print(textString)"
      ],
      "metadata": {
        "colab": {
          "base_uri": "https://localhost:8080/"
        },
        "id": "4Y9GJIuLlSAp",
        "outputId": "56ad15c9-f7f7-4eed-aaa2-fed1aed6b7dc"
      },
      "execution_count": null,
      "outputs": [
        {
          "output_type": "stream",
          "name": "stdout",
          "text": [
            "BUNDESGERICHTSHOF BESCHLUSS 2 StR 389/00 vom 22. Dezember 2000 in der Strafsache gegen wegen unerlaubten Handeltreibens mit Betäubungsmitteln in nicht geringer Menge Der 2. Strafsenat des Bundesgerichtshofs hat auf Antrag des Generalbundesanwalts und nach Anhörung des Beschwerdeführers am 22. Dezember 2000 gemäß § 349 Abs. 2 und 4 StPO beschlossen: Die Revision des Angeklagten gegen das Urteil des Landgerichts Frankfurt am Main vom 5. Juni 2000 wird mit der Maßgabe verworfen, daß der Schuldspruch wegen tateinheitlich begangener versuchter Durchfuhr von Betäubungsmitteln entfällt. Der Angeklagte hat die Kosten seines Rechtsmittels zu tragen. Gründe: Das Landgericht hat den Angeklagten wegen versuchter Durchfuhr von Betäubungsmitteln in Tateinheit mit Handeltreiben mit Betäubungsmitteln in nicht geringer Menge zu der Freiheitsstrafe von vier Jahren verurteilt und die Einziehung von Rauschgift und Tatmitteln angeordnet. Mit seiner Revision rügt der Angeklagte die Verletzung formellen und materiellen Rechts. Das Rechtsmittel führt zu der aus der Beschlußformel ersichtlichen Einschränkung des Schuldspruchs, im übrigen ist es unbegründet im Sinne des § 349 Abs. 2 StPO. Der Schuldspruch wegen tateinheitlich begangener versuchter Durchfuhr von Betäubungsmitteln hat keinen Bestand, weil die versuchte Durchfuhr im Gesamtgeschehen des täterschaftlichen Handeltreibens mit Betäubungsmitteln als unselbständiger Teilakt aufgeht (vgl. BGHSt 31, 374, 379). Der Strafausspruch kann bestehen bleiben. Der Senat schließt aus, daß das Landgericht auf der Grundlage des beschränkten Schuldspruchs eine geringere Strafe festgesetzt hätte, da der Unrechts- und Schuldgehalt des Tatgeschehens unverändert bleibt. Soweit der Angeklagte mit der Verfahrensrüge nach § 338 Nr. 1 StPO geltend macht, er sei durch die Anklageerhebung mit dem Familiennamen \"O. \" statt R. seinem gesetzlichen Richter entzogen worden, verweist der Senat ergänzend zu den Ausführungen des Generalbundesanwalts auf das Senatsurteil vom 21. Dezember 1983 - 2 StR 495/83 (NStZ 1984, 181). Jähnke Detter Bode Rothfuß Fischer \n"
          ]
        }
      ]
    },
    {
      "cell_type": "code",
      "source": [
        "# class functions for crawling the directory\n",
        "\n",
        "# -*- coding: utf-8 -*-\n",
        "# Python script to open each file, read json input and copy to one text file for subsequent processing\n",
        "import os, re, sys\n",
        "import pdfplumber\n",
        "\n",
        "class clDir2txt(object):\n",
        "    '''\n",
        "    @author Bogdan Babych, IÜD, Heidelberg University, 2021\n",
        "    @email bogdan [dot] babych [at] iued [dot] uni-heidelberg [dot] de\n",
        "    '''\n",
        "    def __init__(self, SDirName, input_type = 'html', input_file_re = '^[0-9]+$', output_file = 'corpus_text.txt', tag='doc', id=1000000): # initialising by openning the directories\n",
        "        self.SOutput_file = output_file\n",
        "        self.STag = tag\n",
        "        self.ID = id\n",
        "        # REOb = re.compile(input_file_re, re.I)\n",
        "        self.InputFileRE = input_file_re\n",
        "        self.InputFileType = input_type\n",
        "\n",
        "        print(input_file_re)\n",
        "        print(self.InputFileRE)\n",
        "\n",
        "        self.openDir(SDirName)\n",
        "        return\n",
        "\n",
        "    def openDir(self, path): # implementation of recursively openning directories from a given rule directory and reading each file recursively into a string\n",
        "        i = 0\n",
        "        FOut = open(self.SOutput_file, 'w')\n",
        "\n",
        "        for root,d_names,f_names in os.walk(path):\n",
        "            for f in f_names:\n",
        "                if not re.search(self.InputFileRE, f): # skipping all the files, which do not match the pattern\n",
        "                    # print(f'Skipped: {f}')\n",
        "                    continue\n",
        "\n",
        "                fullpath = os.path.join(root, f)\n",
        "                i+=1\n",
        "                if i%1==0:\n",
        "                    print(str(i) + '. Processing: ' + f)\n",
        "                    print(fullpath)\n",
        "\n",
        "                    # FIn = open(fullpath,'r')\n",
        "                    # SIn = FIn.read()\n",
        "                    # apply text filter, if not None\n",
        "                    # if self.STextFilter and (re.search(self.RFilter, SIn) == None): continue\n",
        "                    # SText2Write = self.procFile(SIn,f,i)\n",
        "\n",
        "                SText2Write = self.procFile(fullpath, f, i) # returns converted string + tags\n",
        "                if SText2Write: FOut.write(SText2Write) # if the string is not empty then write to file\n",
        "                    # FIn.close()\n",
        "                try:\n",
        "                    pass\n",
        "                except:\n",
        "                    print(f'file {f} cannot be read or processed')\n",
        "                finally:\n",
        "                    pass\n",
        "\n",
        "        FOut.flush()\n",
        "        FOut.close()\n",
        "\n",
        "        return\n",
        "\n",
        "\n",
        "    def procFile(self, fullpath, SFNameIn, i): # sending each json string for extraction of text and attaching an correct tags to each output string output string\n",
        "        STagOpen = '<' + self.STag + ' id=\"' + self.STag + str(self.ID + i)  + '\">\\n'\n",
        "        STagClose = '\\n</' + self.STag + '>\\n\\n'\n",
        "        if self.InputFileType == 'pdf':\n",
        "            SText4Corpus = self.getStringPDF(fullpath)\n",
        "        else:\n",
        "            SText4Corpus = self.getString(fullpath, SFNameIn)\n",
        "\n",
        "\n",
        "        if SText4Corpus:\n",
        "            return STagOpen + SText4Corpus + STagClose\n",
        "        else:\n",
        "            print('\\tNo data read from: ' + SFNameIn)\n",
        "            return None\n",
        "\n",
        "\n",
        "    def getString(self, fullpath, SFNameIn):\n",
        "        '''\n",
        "        the function uses system commands to copy, open and extract content of needed files\n",
        "        '''\n",
        "        # iconv -c -t UTF-8 < input.txt > output.txt\n",
        "        # iconv -f UTF-8 -t UTF-8//IGNORE 219624.txt > 219624_V2.txt\n",
        "        # last works!\n",
        "\n",
        "        SFNameHTML = SFNameIn + '_1.html'\n",
        "        SFNameTXT2 = SFNameIn + '_2.txt'\n",
        "        SFNameTXT3 = SFNameIn + '_3.txt'\n",
        "\n",
        "        SCommand = 'cp ' + fullpath + ' ./' + SFNameHTML\n",
        "        os.system(SCommand)\n",
        "\n",
        "        SCommand2 = 'lynx --dump ./' + SFNameHTML + ' > ' + SFNameTXT2\n",
        "        os.system(SCommand2)\n",
        "\n",
        "        # SCommand2 = 'iconv -c -t UTF-8 < ' + SFNameHTML + ' > ' + SFNameHTML2\n",
        "        SCommand3 = 'iconv -f UTF-8 -t UTF-8//IGNORE ' + SFNameTXT2 + ' > ' + SFNameTXT3\n",
        "        os.system(SCommand3)\n",
        "\n",
        "        # stream = os.popen('lynx --dump ./' + SFNameHTML2)\n",
        "        # SFileContent = stream.read()\n",
        "\n",
        "        F2Read = open('./' + SFNameTXT3, 'r', encoding=\"utf8\", errors=\"surrogateescape\")\n",
        "        SFileContent = F2Read.read()\n",
        "\n",
        "        LFileContent = re.split('\\n\\n+', SFileContent, flags=re.MULTILINE|re.DOTALL)\n",
        "        print(len(LFileContent))\n",
        "        print(LFileContent[0])\n",
        "\n",
        "        LFileContent0 = []\n",
        "        for el in LFileContent:\n",
        "            el = re.sub('\\n', ' ', el)\n",
        "            el = re.sub(' +', ' ', el)\n",
        "            LFileContent0.append(el)\n",
        "\n",
        "        SFileContent2 = '\\n\\n'.join(LFileContent0)\n",
        "\n",
        "        return SFileContent2\n",
        "\n",
        "    # service class functions\n",
        "    def getStringPDF(self, SInputFileName):\n",
        "        pdf2 = pdfplumber.open(SInputFileName)\n",
        "        textList = []\n",
        "        for page in pdf2.pages:\n",
        "            text = page.extract_text()\n",
        "            # text = text.removeprefix('- 2 -')\n",
        "            text = re.sub('^\\- [0-9]+ \\-\\n', '', text, flags=re.MULTILINE)\n",
        "            text = re.sub('\\- Seite [0-9]+ von [0-9]+', '', text, flags=re.MULTILINE)\n",
        "            text = re.sub('\\- www\\.gesetze\\-im\\-internet\\.de', '', text, flags=re.MULTILINE)\n",
        "            text = re.sub('Ein Service des Bundesministeriums der Justiz sowie des Bundesamts für Justiz', '', text, flags=re.MULTILINE)\n",
        "            textList.append(text)\n",
        "\n",
        "        textString = '\\n'.join(textList)\n",
        "        textString2 = self.removeHyphensNL(textString)\n",
        "        return textString2\n",
        "\n",
        "    def removeHyphensNL(self, SText):\n",
        "        LTextOut = []\n",
        "        LText = SText.splitlines()\n",
        "        for SLine in LText:\n",
        "            SLine = SLine.strip()\n",
        "            if SLine == '':\n",
        "                LTextOut.append('\\n\\n')\n",
        "                continue\n",
        "            if SLine[-1] == '-':\n",
        "                SLine2write = SLine[:-1]\n",
        "                LTextOut.append(SLine2write)\n",
        "                continue\n",
        "\n",
        "            LTextOut.append(SLine + ' ')\n",
        "        STextOut = ''.join(LTextOut)\n",
        "        return STextOut\n",
        "\n",
        "\n"
      ],
      "metadata": {
        "id": "ttZHBLgEcxiz"
      },
      "execution_count": 10,
      "outputs": []
    },
    {
      "cell_type": "code",
      "source": [
        "ODir2txt = clDir2txt('/content/juris.bundesgerichtshof.de/', input_type = 'pdf', input_file_re = 'pdf$', output_file = 'juris_bundesgerichtshof_de.txt')"
      ],
      "metadata": {
        "id": "p4kbrp5Hugk9"
      },
      "execution_count": null,
      "outputs": []
    },
    {
      "cell_type": "code",
      "source": [
        "ODir2txt = clDir2txt('/content/content/www.gesetze-im-internet.de/', input_type = 'pdf', input_file_re = 'pdf$', output_file = 'gesetze-im-internet_de.txt')"
      ],
      "metadata": {
        "id": "jmoUUh78sMqW"
      },
      "execution_count": null,
      "outputs": []
    }
  ]
}