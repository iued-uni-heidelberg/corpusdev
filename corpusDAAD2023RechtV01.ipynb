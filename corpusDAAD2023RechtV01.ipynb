{
  "nbformat": 4,
  "nbformat_minor": 0,
  "metadata": {
    "colab": {
      "provenance": [],
      "authorship_tag": "ABX9TyNSEoLc0mUQ4y7mRQqjZ+zd",
      "include_colab_link": true
    },
    "kernelspec": {
      "name": "python3",
      "display_name": "Python 3"
    },
    "language_info": {
      "name": "python"
    }
  },
  "cells": [
    {
      "cell_type": "markdown",
      "metadata": {
        "id": "view-in-github",
        "colab_type": "text"
      },
      "source": [
        "<a href=\"https://colab.research.google.com/github/iued-uni-heidelberg/corpusdev/blob/main/corpusDAAD2023RechtV01.ipynb\" target=\"_parent\"><img src=\"https://colab.research.google.com/assets/colab-badge.svg\" alt=\"Open In Colab\"/></a>"
      ]
    },
    {
      "cell_type": "markdown",
      "source": [
        "# Corpus download/collection\n",
        "\n",
        "https://heibox.uni-heidelberg.de/d/41bb31bd806a4d0fb3e4/\n",
        "\n",
        "## Internet corpora\n",
        "### gesetze-im-internet--de"
      ],
      "metadata": {
        "id": "F5S6rjjUXYx6"
      }
    },
    {
      "cell_type": "code",
      "execution_count": 1,
      "metadata": {
        "colab": {
          "base_uri": "https://localhost:8080/"
        },
        "id": "qRIJPQGWS6L1",
        "outputId": "e2b34d2a-84ab-489b-d4e3-94a84b0333ab"
      },
      "outputs": [
        {
          "output_type": "stream",
          "name": "stdout",
          "text": [
            "--2023-12-06 15:04:35--  https://heibox.uni-heidelberg.de/f/f7c648217ad344fa80fd/?dl=1\n",
            "Resolving heibox.uni-heidelberg.de (heibox.uni-heidelberg.de)... 129.206.7.113\n",
            "Connecting to heibox.uni-heidelberg.de (heibox.uni-heidelberg.de)|129.206.7.113|:443... connected.\n",
            "HTTP request sent, awaiting response... 302 Found\n",
            "Location: https://heibox.uni-heidelberg.de/seafhttp/files/95dd9cb9-b188-40f1-b47f-ed273d6a0fca/gesetze-im-internet--de.zip [following]\n",
            "--2023-12-06 15:04:36--  https://heibox.uni-heidelberg.de/seafhttp/files/95dd9cb9-b188-40f1-b47f-ed273d6a0fca/gesetze-im-internet--de.zip\n",
            "Reusing existing connection to heibox.uni-heidelberg.de:443.\n",
            "HTTP request sent, awaiting response... 200 OK\n",
            "Length: 936773328 (893M) [application/zip]\n",
            "Saving to: ‘index.html?dl=1’\n",
            "\n",
            "index.html?dl=1     100%[===================>] 893.38M  14.9MB/s    in 60s     \n",
            "\n",
            "2023-12-06 15:05:36 (14.8 MB/s) - ‘index.html?dl=1’ saved [936773328/936773328]\n",
            "\n"
          ]
        }
      ],
      "source": [
        "!wget https://heibox.uni-heidelberg.de/f/f7c648217ad344fa80fd/?dl=1"
      ]
    },
    {
      "cell_type": "code",
      "source": [
        "!mv index.html?dl=1 gesetze-im-internet--de.zip"
      ],
      "metadata": {
        "id": "O___x8NrYdLU"
      },
      "execution_count": 2,
      "outputs": []
    },
    {
      "cell_type": "code",
      "source": [
        "!unzip gesetze-im-internet--de.zip"
      ],
      "metadata": {
        "id": "pwyvAGFeYhLb"
      },
      "execution_count": null,
      "outputs": []
    },
    {
      "cell_type": "markdown",
      "source": [
        "### juris.bundesgerichtshof.de"
      ],
      "metadata": {
        "id": "4It8W9YLZskY"
      }
    },
    {
      "cell_type": "code",
      "source": [
        "!wget https://heibox.uni-heidelberg.de/f/e0b64f81c40c44328b4d/?dl=1"
      ],
      "metadata": {
        "colab": {
          "base_uri": "https://localhost:8080/"
        },
        "id": "xQZtTzF3ad68",
        "outputId": "3b6d6d7a-1857-4364-f672-2f031aeb2097"
      },
      "execution_count": null,
      "outputs": [
        {
          "output_type": "stream",
          "name": "stdout",
          "text": [
            "--2023-11-16 09:16:16--  https://heibox.uni-heidelberg.de/f/e0b64f81c40c44328b4d/?dl=1\n",
            "Resolving heibox.uni-heidelberg.de (heibox.uni-heidelberg.de)... 129.206.7.113\n",
            "Connecting to heibox.uni-heidelberg.de (heibox.uni-heidelberg.de)|129.206.7.113|:443... connected.\n",
            "HTTP request sent, awaiting response... 302 Found\n",
            "Location: https://heibox.uni-heidelberg.de/seafhttp/files/afb9a0ab-a6a3-464c-bde4-e9933adf1105/juris.bundesgerichtshof.de.tgz [following]\n",
            "--2023-11-16 09:16:16--  https://heibox.uni-heidelberg.de/seafhttp/files/afb9a0ab-a6a3-464c-bde4-e9933adf1105/juris.bundesgerichtshof.de.tgz\n",
            "Reusing existing connection to heibox.uni-heidelberg.de:443.\n",
            "HTTP request sent, awaiting response... 200 OK\n",
            "Length: 282148836 (269M) [application/octet-stream]\n",
            "Saving to: ‘index.html?dl=1’\n",
            "\n",
            "index.html?dl=1     100%[===================>] 269.08M  14.9MB/s    in 18s     \n",
            "\n",
            "2023-11-16 09:16:34 (14.9 MB/s) - ‘index.html?dl=1’ saved [282148836/282148836]\n",
            "\n"
          ]
        }
      ]
    },
    {
      "cell_type": "code",
      "source": [
        "!mv index.html?dl=1 juris.bundesgerichtshof.de.tgz"
      ],
      "metadata": {
        "id": "Mc3NOqhWaiHn"
      },
      "execution_count": null,
      "outputs": []
    },
    {
      "cell_type": "code",
      "source": [
        "!tar xvzf juris.bundesgerichtshof.de.tgz"
      ],
      "metadata": {
        "id": "Xr5A_rEZalsW"
      },
      "execution_count": null,
      "outputs": []
    },
    {
      "cell_type": "markdown",
      "source": [
        "## Crawling and extracting text from pdf"
      ],
      "metadata": {
        "id": "yKrlpkJFcy-9"
      }
    },
    {
      "cell_type": "code",
      "source": [
        "pip install pdfplumber -q"
      ],
      "metadata": {
        "id": "DcEQI2ZskIwX"
      },
      "execution_count": null,
      "outputs": []
    },
    {
      "cell_type": "code",
      "source": [
        "import pdfplumber"
      ],
      "metadata": {
        "id": "jRcgVE1LkrXf"
      },
      "execution_count": 5,
      "outputs": []
    },
    {
      "cell_type": "code",
      "source": [],
      "metadata": {
        "id": "2WWp5I4Fkw3Y"
      },
      "execution_count": null,
      "outputs": []
    },
    {
      "cell_type": "code",
      "source": [
        "# /content/juris.bundesgerichtshof.de/cgi-bin/rechtsprechung/document.py?Gericht=bgh&Art=en&Datum=2000&nr=13454&linked=pm&Blank=1\n",
        "# /content/juris.bundesgerichtshof.de/cgi-bin/rechtsprechung/document.py?Gericht=bgh&Art=en&Datum=2000&nr=17850&pos=1&anz=2206&Blank=1.pdf\n",
        "pdf2 = pdfplumber.open('/content/juris.bundesgerichtshof.de/cgi-bin/rechtsprechung/document.py?Gericht=bgh&Art=en&Datum=2000&nr=17850&pos=1&anz=2206&Blank=1.pdf')\n"
      ],
      "metadata": {
        "id": "XwuL7RbKkSOA"
      },
      "execution_count": null,
      "outputs": []
    },
    {
      "cell_type": "code",
      "source": [
        "len(pdf2.pages)"
      ],
      "metadata": {
        "colab": {
          "base_uri": "https://localhost:8080/"
        },
        "id": "u3YteBa_k8lx",
        "outputId": "e0612b2d-dd23-4a76-e49b-dd2e59d812cf"
      },
      "execution_count": null,
      "outputs": [
        {
          "output_type": "execute_result",
          "data": {
            "text/plain": [
              "3"
            ]
          },
          "metadata": {},
          "execution_count": 11
        }
      ]
    },
    {
      "cell_type": "code",
      "source": [
        "page = pdf2.pages[2]"
      ],
      "metadata": {
        "id": "g4H0qiTBlA1F"
      },
      "execution_count": null,
      "outputs": []
    },
    {
      "cell_type": "code",
      "source": [
        "text = page.extract_text()"
      ],
      "metadata": {
        "id": "mTpfFaJQlL_T"
      },
      "execution_count": null,
      "outputs": []
    },
    {
      "cell_type": "code",
      "source": [
        "print(text)"
      ],
      "metadata": {
        "colab": {
          "base_uri": "https://localhost:8080/"
        },
        "id": "TAFS1J9UlNW9",
        "outputId": "713c66ae-61c4-46b2-ed6f-4290366c835a"
      },
      "execution_count": null,
      "outputs": [
        {
          "output_type": "stream",
          "name": "stdout",
          "text": [
            "- 3 -\n",
            "ringere Strafe festgesetzt hätte, da der Unrechts- und Schuldgehalt des Tatge-\n",
            "schehens unverändert bleibt.\n",
            "Soweit der Angeklagte mit der Verfahrensrüge nach § 338 Nr. 1 StPO\n",
            "geltend macht, er sei durch die Anklageerhebung mit dem Familiennamen \"O. \"\n",
            "statt R. seinem gesetzlichen Richter entzogen worden, verweist der Senat\n",
            "ergänzend zu den Ausführungen des Generalbundesanwalts auf das Senats-\n",
            "urteil vom 21. Dezember 1983 - 2 StR 495/83 (NStZ 1984, 181).\n",
            "Jähnke Detter Bode\n",
            "Rothfuß Fischer\n"
          ]
        }
      ]
    },
    {
      "cell_type": "code",
      "source": [
        "import re"
      ],
      "metadata": {
        "id": "oT_mEw-Yn4eM"
      },
      "execution_count": null,
      "outputs": []
    },
    {
      "cell_type": "code",
      "source": [
        "def removeHyphensNL(SText):\n",
        "    LTextOut = []\n",
        "    LText = SText.splitlines()\n",
        "    for SLine in LText:\n",
        "        SLine = SLine.strip()\n",
        "        if SLine == '':\n",
        "            LTextOut.append('\\n\\n')\n",
        "            continue\n",
        "        if SLine[-1] == '-':\n",
        "            SLine2write = SLine[:-1]\n",
        "            LTextOut.append(SLine2write)\n",
        "            continue\n",
        "\n",
        "        LTextOut.append(SLine + ' ')\n",
        "    STextOut = ''.join(LTextOut)\n",
        "    return STextOut"
      ],
      "metadata": {
        "id": "wtU6Y-h6oWdJ"
      },
      "execution_count": null,
      "outputs": []
    },
    {
      "cell_type": "code",
      "source": [
        "def extractTxtFromPDF(SInputFileName):\n",
        "    pdf2 = pdfplumber.open(SInputFileName)\n",
        "    textList = []\n",
        "    for page in pdf2.pages:\n",
        "        text = page.extract_text()\n",
        "        # text = text.removeprefix('- 2 -')\n",
        "        text = re.sub('^\\- [0-9]+ \\-\\n', '', text, flags=re.MULTILINE)\n",
        "        textList.append(text)\n",
        "\n",
        "    textString = '\\n'.join(textList)\n",
        "    textString2 = removeHyphensNL(textString)\n",
        "    return textString2\n",
        "\n"
      ],
      "metadata": {
        "id": "_99eYgSQq9uO"
      },
      "execution_count": null,
      "outputs": []
    },
    {
      "cell_type": "code",
      "source": [
        "text = extractTxtFromPDF('/content/juris.bundesgerichtshof.de/cgi-bin/rechtsprechung/document.py?Gericht=bgh&Art=en&Datum=2000&nr=17850&pos=1&anz=2206&Blank=1.pdf')\n",
        "print(text + '\\n')"
      ],
      "metadata": {
        "colab": {
          "base_uri": "https://localhost:8080/"
        },
        "id": "wwLZqHvbr2Jb",
        "outputId": "b549665d-083e-4161-b588-6be4b44c135c"
      },
      "execution_count": null,
      "outputs": [
        {
          "output_type": "stream",
          "name": "stdout",
          "text": [
            "BUNDESGERICHTSHOF BESCHLUSS 2 StR 389/00 vom 22. Dezember 2000 in der Strafsache gegen wegen unerlaubten Handeltreibens mit Betäubungsmitteln in nicht geringer Menge Der 2. Strafsenat des Bundesgerichtshofs hat auf Antrag des Generalbundesanwalts und nach Anhörung des Beschwerdeführers am 22. Dezember 2000 gemäß § 349 Abs. 2 und 4 StPO beschlossen: Die Revision des Angeklagten gegen das Urteil des Landgerichts Frankfurt am Main vom 5. Juni 2000 wird mit der Maßgabe verworfen, daß der Schuldspruch wegen tateinheitlich begangener versuchter Durchfuhr von Betäubungsmitteln entfällt. Der Angeklagte hat die Kosten seines Rechtsmittels zu tragen. Gründe: Das Landgericht hat den Angeklagten wegen versuchter Durchfuhr von Betäubungsmitteln in Tateinheit mit Handeltreiben mit Betäubungsmitteln in nicht geringer Menge zu der Freiheitsstrafe von vier Jahren verurteilt und die Einziehung von Rauschgift und Tatmitteln angeordnet. Mit seiner Revision rügt der Angeklagte die Verletzung formellen und materiellen Rechts. Das Rechtsmittel führt zu der aus der Beschlußformel ersichtlichen Einschränkung des Schuldspruchs, im übrigen ist es unbegründet im Sinne des § 349 Abs. 2 StPO. Der Schuldspruch wegen tateinheitlich begangener versuchter Durchfuhr von Betäubungsmitteln hat keinen Bestand, weil die versuchte Durchfuhr im Gesamtgeschehen des täterschaftlichen Handeltreibens mit Betäubungsmitteln als unselbständiger Teilakt aufgeht (vgl. BGHSt 31, 374, 379). Der Strafausspruch kann bestehen bleiben. Der Senat schließt aus, daß das Landgericht auf der Grundlage des beschränkten Schuldspruchs eine geringere Strafe festgesetzt hätte, da der Unrechts- und Schuldgehalt des Tatgeschehens unverändert bleibt. Soweit der Angeklagte mit der Verfahrensrüge nach § 338 Nr. 1 StPO geltend macht, er sei durch die Anklageerhebung mit dem Familiennamen \"O. \" statt R. seinem gesetzlichen Richter entzogen worden, verweist der Senat ergänzend zu den Ausführungen des Generalbundesanwalts auf das Senatsurteil vom 21. Dezember 1983 - 2 StR 495/83 (NStZ 1984, 181). Jähnke Detter Bode Rothfuß Fischer \n",
            "\n"
          ]
        }
      ]
    },
    {
      "cell_type": "code",
      "source": [
        "textList = []\n",
        "for page in pdf2.pages:\n",
        "    text = page.extract_text()\n",
        "    # text = text.removeprefix('- 2 -')\n",
        "    text = re.sub('^\\- [0-9]+ \\-\\n', '', text, flags=re.MULTILINE)\n",
        "    textList.append(text)\n",
        "\n",
        "textString = '\\n'.join(textList)\n",
        "textString2 = removeHyphensNL(textString)\n",
        "print(textString2)\n",
        "# print(textString)"
      ],
      "metadata": {
        "colab": {
          "base_uri": "https://localhost:8080/"
        },
        "id": "4Y9GJIuLlSAp",
        "outputId": "56ad15c9-f7f7-4eed-aaa2-fed1aed6b7dc"
      },
      "execution_count": null,
      "outputs": [
        {
          "output_type": "stream",
          "name": "stdout",
          "text": [
            "BUNDESGERICHTSHOF BESCHLUSS 2 StR 389/00 vom 22. Dezember 2000 in der Strafsache gegen wegen unerlaubten Handeltreibens mit Betäubungsmitteln in nicht geringer Menge Der 2. Strafsenat des Bundesgerichtshofs hat auf Antrag des Generalbundesanwalts und nach Anhörung des Beschwerdeführers am 22. Dezember 2000 gemäß § 349 Abs. 2 und 4 StPO beschlossen: Die Revision des Angeklagten gegen das Urteil des Landgerichts Frankfurt am Main vom 5. Juni 2000 wird mit der Maßgabe verworfen, daß der Schuldspruch wegen tateinheitlich begangener versuchter Durchfuhr von Betäubungsmitteln entfällt. Der Angeklagte hat die Kosten seines Rechtsmittels zu tragen. Gründe: Das Landgericht hat den Angeklagten wegen versuchter Durchfuhr von Betäubungsmitteln in Tateinheit mit Handeltreiben mit Betäubungsmitteln in nicht geringer Menge zu der Freiheitsstrafe von vier Jahren verurteilt und die Einziehung von Rauschgift und Tatmitteln angeordnet. Mit seiner Revision rügt der Angeklagte die Verletzung formellen und materiellen Rechts. Das Rechtsmittel führt zu der aus der Beschlußformel ersichtlichen Einschränkung des Schuldspruchs, im übrigen ist es unbegründet im Sinne des § 349 Abs. 2 StPO. Der Schuldspruch wegen tateinheitlich begangener versuchter Durchfuhr von Betäubungsmitteln hat keinen Bestand, weil die versuchte Durchfuhr im Gesamtgeschehen des täterschaftlichen Handeltreibens mit Betäubungsmitteln als unselbständiger Teilakt aufgeht (vgl. BGHSt 31, 374, 379). Der Strafausspruch kann bestehen bleiben. Der Senat schließt aus, daß das Landgericht auf der Grundlage des beschränkten Schuldspruchs eine geringere Strafe festgesetzt hätte, da der Unrechts- und Schuldgehalt des Tatgeschehens unverändert bleibt. Soweit der Angeklagte mit der Verfahrensrüge nach § 338 Nr. 1 StPO geltend macht, er sei durch die Anklageerhebung mit dem Familiennamen \"O. \" statt R. seinem gesetzlichen Richter entzogen worden, verweist der Senat ergänzend zu den Ausführungen des Generalbundesanwalts auf das Senatsurteil vom 21. Dezember 1983 - 2 StR 495/83 (NStZ 1984, 181). Jähnke Detter Bode Rothfuß Fischer \n"
          ]
        }
      ]
    },
    {
      "cell_type": "code",
      "source": [
        "# class functions for crawling the directory\n",
        "\n",
        "# -*- coding: utf-8 -*-\n",
        "# Python script to open each file, read json input and copy to one text file for subsequent processing\n",
        "import os, re, sys\n",
        "import pdfplumber\n",
        "\n",
        "class clDir2txt(object):\n",
        "    '''\n",
        "    @author Bogdan Babych, IÜD, Heidelberg University, 2021\n",
        "    @email bogdan [dot] babych [at] iued [dot] uni-heidelberg [dot] de\n",
        "    '''\n",
        "    def __init__(self, SDirName, input_type = 'html', input_file_re = '^[0-9]+$', output_file = 'corpus_text.txt', tag='doc', id=1000000): # initialising by openning the directories\n",
        "        self.SOutput_file = output_file\n",
        "        self.STag = tag\n",
        "        self.ID = id\n",
        "        # REOb = re.compile(input_file_re, re.I)\n",
        "        self.InputFileRE = input_file_re\n",
        "        self.InputFileType = input_type\n",
        "\n",
        "        print(input_file_re)\n",
        "        print(self.InputFileRE)\n",
        "\n",
        "        self.openDir(SDirName)\n",
        "        return\n",
        "\n",
        "    def openDir(self, path): # implementation of recursively openning directories from a given rule directory and reading each file recursively into a string\n",
        "        i = 0\n",
        "        FOut = open(self.SOutput_file, 'w')\n",
        "\n",
        "        for root,d_names,f_names in os.walk(path):\n",
        "            for f in f_names:\n",
        "                if not re.search(self.InputFileRE, f): # skipping all the files, which do not match the pattern\n",
        "                    # print(f'Skipped: {f}')\n",
        "                    continue\n",
        "\n",
        "                fullpath = os.path.join(root, f)\n",
        "                i+=1\n",
        "                if i%1==0:\n",
        "                    print(str(i) + '. Processing: ' + f)\n",
        "                    print(fullpath)\n",
        "\n",
        "                    # FIn = open(fullpath,'r')\n",
        "                    # SIn = FIn.read()\n",
        "                    # apply text filter, if not None\n",
        "                    # if self.STextFilter and (re.search(self.RFilter, SIn) == None): continue\n",
        "                    # SText2Write = self.procFile(SIn,f,i)\n",
        "\n",
        "                SText2Write = self.procFile(fullpath, f, i) # returns converted string + tags\n",
        "                if SText2Write: FOut.write(SText2Write) # if the string is not empty then write to file\n",
        "                    # FIn.close()\n",
        "                try:\n",
        "                    pass\n",
        "                except:\n",
        "                    print(f'file {f} cannot be read or processed')\n",
        "                finally:\n",
        "                    pass\n",
        "\n",
        "        FOut.flush()\n",
        "        FOut.close()\n",
        "\n",
        "        return\n",
        "\n",
        "\n",
        "    def procFile(self, fullpath, SFNameIn, i): # sending each json string for extraction of text and attaching an correct tags to each output string output string\n",
        "        STagOpen = '<' + self.STag + ' id=\"' + self.STag + str(self.ID + i)  + '\">\\n'\n",
        "        STagClose = '\\n</' + self.STag + '>\\n\\n'\n",
        "        if self.InputFileType == 'pdf':\n",
        "            SText4Corpus = self.getStringPDF(fullpath)\n",
        "        else:\n",
        "            SText4Corpus = self.getString(fullpath, SFNameIn)\n",
        "\n",
        "\n",
        "        if SText4Corpus:\n",
        "            return STagOpen + SText4Corpus + STagClose\n",
        "        else:\n",
        "            print('\\tNo data read from: ' + SFNameIn)\n",
        "            return None\n",
        "\n",
        "\n",
        "    def getString(self, fullpath, SFNameIn):\n",
        "        '''\n",
        "        the function uses system commands to copy, open and extract content of needed files\n",
        "        '''\n",
        "        # iconv -c -t UTF-8 < input.txt > output.txt\n",
        "        # iconv -f UTF-8 -t UTF-8//IGNORE 219624.txt > 219624_V2.txt\n",
        "        # last works!\n",
        "\n",
        "        SFNameHTML = SFNameIn + '_1.html'\n",
        "        SFNameTXT2 = SFNameIn + '_2.txt'\n",
        "        SFNameTXT3 = SFNameIn + '_3.txt'\n",
        "\n",
        "        SCommand = 'cp ' + fullpath + ' ./' + SFNameHTML\n",
        "        os.system(SCommand)\n",
        "\n",
        "        SCommand2 = 'lynx --dump ./' + SFNameHTML + ' > ' + SFNameTXT2\n",
        "        os.system(SCommand2)\n",
        "\n",
        "        # SCommand2 = 'iconv -c -t UTF-8 < ' + SFNameHTML + ' > ' + SFNameHTML2\n",
        "        SCommand3 = 'iconv -f UTF-8 -t UTF-8//IGNORE ' + SFNameTXT2 + ' > ' + SFNameTXT3\n",
        "        os.system(SCommand3)\n",
        "\n",
        "        # stream = os.popen('lynx --dump ./' + SFNameHTML2)\n",
        "        # SFileContent = stream.read()\n",
        "\n",
        "        F2Read = open('./' + SFNameTXT3, 'r', encoding=\"utf8\", errors=\"surrogateescape\")\n",
        "        SFileContent = F2Read.read()\n",
        "\n",
        "        LFileContent = re.split('\\n\\n+', SFileContent, flags=re.MULTILINE|re.DOTALL)\n",
        "        print(len(LFileContent))\n",
        "        print(LFileContent[0])\n",
        "\n",
        "        LFileContent0 = []\n",
        "        for el in LFileContent:\n",
        "            el = re.sub('\\n', ' ', el)\n",
        "            el = re.sub(' +', ' ', el)\n",
        "            LFileContent0.append(el)\n",
        "\n",
        "        SFileContent2 = '\\n\\n'.join(LFileContent0)\n",
        "\n",
        "        return SFileContent2\n",
        "\n",
        "    # service class functions\n",
        "    def getStringPDF(self, SInputFileName):\n",
        "        # FDebug = open('clDir2txtDebug.txt', 'a')\n",
        "        pdf2 = pdfplumber.open(SInputFileName)\n",
        "        textList = []\n",
        "        for page in pdf2.pages:\n",
        "            text = page.extract_text()\n",
        "            # FDebug.write('\\n___\\n')\n",
        "            # FDebug.write(text)\n",
        "            # FDebug.write('\\n___\\n')\n",
        "\n",
        "            # text = text.removeprefix('- 2 -')\n",
        "            text = re.sub('^\\- [0-9]+ \\-\\n', '', text, flags=re.MULTILINE)\n",
        "            text = re.sub('\\- Seite [0-9]+ von [0-9]+ \\-', '', text, flags=re.MULTILINE)\n",
        "            # text = re.sub('\\- www\\.gesetze\\-im\\-internet\\.de', '', text, flags=re.MULTILINE)\n",
        "            text = re.sub('Ein Service des Bundesministeriums der Justiz sowie des Bundesamts für[\\n ]+Justiz ‒ www\\.gesetze\\-im\\-internet\\.de', '', text, flags=re.MULTILINE)\n",
        "            text = re.sub('\\n+', ' ', text, flags=re.MULTILINE)\n",
        "            textList.append(text)\n",
        "\n",
        "        textString = '\\n'.join(textList)\n",
        "        textString2 = self.removeHyphensNL(textString)\n",
        "        # FDebug.close()\n",
        "        return textString2\n",
        "\n",
        "    def removeHyphensNL(self, SText):\n",
        "        LTextOut = []\n",
        "        LText = SText.splitlines()\n",
        "        for SLine in LText:\n",
        "            SLine = SLine.strip()\n",
        "            if SLine == '':\n",
        "                LTextOut.append('\\n\\n')\n",
        "                continue\n",
        "            if SLine[-1] == '-':\n",
        "                SLine2write = SLine[:-1]\n",
        "                LTextOut.append(SLine2write)\n",
        "                continue\n",
        "\n",
        "            LTextOut.append(SLine + ' ')\n",
        "        STextOut = ''.join(LTextOut)\n",
        "        return STextOut\n",
        "\n",
        "\n"
      ],
      "metadata": {
        "id": "ttZHBLgEcxiz"
      },
      "execution_count": 28,
      "outputs": []
    },
    {
      "cell_type": "markdown",
      "source": [
        "### Bundesgerichtshof"
      ],
      "metadata": {
        "id": "NFV8X3Qe14f1"
      }
    },
    {
      "cell_type": "code",
      "source": [
        "ODir2txt = clDir2txt('/content/juris.bundesgerichtshof.de/', input_type = 'pdf', input_file_re = 'pdf$', output_file = 'juris_bundesgerichtshof_de.txt')"
      ],
      "metadata": {
        "id": "p4kbrp5Hugk9"
      },
      "execution_count": null,
      "outputs": []
    },
    {
      "cell_type": "markdown",
      "source": [
        "### Gesetze im internet"
      ],
      "metadata": {
        "id": "ILvvfZad10Rv"
      }
    },
    {
      "cell_type": "code",
      "source": [
        "ODir2txt = clDir2txt('/content/content/www.gesetze-im-internet.de/', input_type = 'pdf', input_file_re = 'pdf$', output_file = 'gesetze-im-internet_de.txt')"
      ],
      "metadata": {
        "colab": {
          "base_uri": "https://localhost:8080/"
        },
        "id": "jmoUUh78sMqW",
        "outputId": "98dee6fa-7844-4d5a-f41a-0ccaeb664456"
      },
      "execution_count": null,
      "outputs": [
        {
          "output_type": "stream",
          "name": "stdout",
          "text": [
            "pdf$\n",
            "pdf$\n",
            "1. Processing: BHfAbgV.pdf\n",
            "/content/content/www.gesetze-im-internet.de/bhfabgv/BHfAbgV.pdf\n",
            "2. Processing: FinVermStVtr.pdf\n",
            "/content/content/www.gesetze-im-internet.de/finvermstvtr/FinVermStVtr.pdf\n",
            "3. Processing: BfJG.pdf\n",
            "/content/content/www.gesetze-im-internet.de/bfjg/BfJG.pdf\n",
            "4. Processing: MarkenG.pdf\n",
            "/content/content/www.gesetze-im-internet.de/markeng/MarkenG.pdf\n",
            "5. Processing: NSAhndG_BY.pdf\n",
            "/content/content/www.gesetze-im-internet.de/nsahndg_by/NSAhndG_BY.pdf\n",
            "6. Processing: HZvV_5.pdf\n",
            "/content/content/www.gesetze-im-internet.de/hzvv_5/HZvV_5.pdf\n",
            "7. Processing: RAAG_2006.pdf\n",
            "/content/content/www.gesetze-im-internet.de/raag_2006/RAAG_2006.pdf\n",
            "8. Processing: Münz2EuroBek_2006-11.pdf\n",
            "/content/content/www.gesetze-im-internet.de/m_nz2eurobek_2006-11/Münz2EuroBek_2006-11.pdf\n",
            "9. Processing: WTOÜbk.pdf\n",
            "/content/content/www.gesetze-im-internet.de/wto_bk/WTOÜbk.pdf\n",
            "10. Processing: FRG§15V.pdf\n",
            "/content/content/www.gesetze-im-internet.de/frg_15v/FRG§15V.pdf\n",
            "11. Processing: BPräsSoldErnAnO.pdf\n",
            "/content/content/www.gesetze-im-internet.de/bpr_ssoldernano/BPräsSoldErnAnO.pdf\n",
            "12. Processing: BMASZustAnO.pdf\n",
            "/content/content/www.gesetze-im-internet.de/bmaszustano/BMASZustAnO.pdf\n",
            "13. Processing: MarkenG§8Bek_98-07.pdf\n",
            "/content/content/www.gesetze-im-internet.de/markeng_8bek_98-07/MarkenG§8Bek_98-07.pdf\n",
            "14. Processing: RDGEG.pdf\n",
            "/content/content/www.gesetze-im-internet.de/rdgeg/RDGEG.pdf\n",
            "15. Processing: WZG§35BMUBek.pdf\n",
            "/content/content/www.gesetze-im-internet.de/wzg_35bmubek/WZG§35BMUBek.pdf\n",
            "16. Processing: CWÜAG.pdf\n",
            "/content/content/www.gesetze-im-internet.de/cw_ag/CWÜAG.pdf\n",
            "17. Processing: MarkenG§8Bek_95.pdf\n",
            "/content/content/www.gesetze-im-internet.de/markeng_8bek_95/MarkenG§8Bek_95.pdf\n",
            "18. Processing: IndKfmAusbV_2002.pdf\n",
            "/content/content/www.gesetze-im-internet.de/indkfmausbv_2002/IndKfmAusbV_2002.pdf\n",
            "19. Processing: ChemFachAusbV.pdf\n",
            "/content/content/www.gesetze-im-internet.de/chemfachausbv/ChemFachAusbV.pdf\n",
            "20. Processing: IAOÜbk121G.pdf\n",
            "/content/content/www.gesetze-im-internet.de/iao_bk121g/IAOÜbk121G.pdf\n",
            "21. Processing: StFG.pdf\n",
            "/content/content/www.gesetze-im-internet.de/fmstfg/StFG.pdf\n",
            "22. Processing: BinSchFuDVbg2000Bek.pdf\n",
            "/content/content/www.gesetze-im-internet.de/binschfudvbg2000bek/BinSchFuDVbg2000Bek.pdf\n",
            "23. Processing: Met_GlockAusbV.pdf\n",
            "/content/content/www.gesetze-im-internet.de/met_glockausbv/Met_GlockAusbV.pdf\n",
            "24. Processing: TMG.pdf\n",
            "/content/content/www.gesetze-im-internet.de/tmg/TMG.pdf\n",
            "25. Processing: PapTechAusbV_2010.pdf\n",
            "/content/content/www.gesetze-im-internet.de/paptechausbv_2010/PapTechAusbV_2010.pdf\n",
            "26. Processing: LuftVGFSOrgEÜV.pdf\n",
            "/content/content/www.gesetze-im-internet.de/luftvgfsorge_v/LuftVGFSOrgEÜV.pdf\n",
            "27. Processing: DeutschePostbankAGZustAnO_2006.pdf\n",
            "/content/content/www.gesetze-im-internet.de/deutschepostbankagzustano_2006/DeutschePostbankAGZustAnO_2006.pdf\n",
            "28. Processing: IntAtomBehSa.pdf\n",
            "/content/content/www.gesetze-im-internet.de/intatombehsa/IntAtomBehSa.pdf\n",
            "29. Processing: EGAktG.pdf\n",
            "/content/content/www.gesetze-im-internet.de/aktgeg/EGAktG.pdf\n",
            "30. Processing: SchutzRAbk_SWE.pdf\n",
            "/content/content/www.gesetze-im-internet.de/schutzrabk_swe/SchutzRAbk_SWE.pdf\n",
            "31. Processing: Münz10EuroBek_2014-02-28_3.pdf\n",
            "/content/content/www.gesetze-im-internet.de/m_nz10eurobek_2014-02-28_3/Münz10EuroBek_2014-02-28_3.pdf\n",
            "32. Processing: WRV.pdf\n",
            "/content/content/www.gesetze-im-internet.de/wrv/WRV.pdf\n",
            "33. Processing: SchuldMitüG.pdf\n",
            "/content/content/www.gesetze-im-internet.de/schuldmit_g/SchuldMitüG.pdf\n",
            "34. Processing: WPapBerErstrV.pdf\n",
            "/content/content/www.gesetze-im-internet.de/wpapbererstrv/WPapBerErstrV.pdf\n",
            "35. Processing: KohleUMeldeG.pdf\n",
            "/content/content/www.gesetze-im-internet.de/kohleumeldeg/KohleUMeldeG.pdf\n",
            "36. Processing: UrhG§127aAbs3Bek.pdf\n",
            "/content/content/www.gesetze-im-internet.de/urhg_127aabs3bek/UrhG§127aAbs3Bek.pdf\n",
            "37. Processing: 6._AusbDienstLArbbV.pdf\n",
            "/content/content/www.gesetze-im-internet.de/ausbdienstlarbbv_6/6._AusbDienstLArbbV.pdf\n",
            "38. Processing: SozSichAbkDVbg_GBR.pdf\n",
            "/content/content/www.gesetze-im-internet.de/sozsichabkdvbg_gbr/SozSichAbkDVbg_GBR.pdf\n",
            "39. Processing: SchnellLG.pdf\n",
            "/content/content/www.gesetze-im-internet.de/schnelllg/SchnellLG.pdf\n",
            "40. Processing: 5._AnpG-KOV.pdf\n",
            "/content/content/www.gesetze-im-internet.de/kovanpg_5/5._AnpG-KOV.pdf\n",
            "41. Processing: englisch_berathig.pdf\n",
            "/content/content/www.gesetze-im-internet.de/englisch_berathig/englisch_berathig.pdf\n",
            "42. Processing: GlPrZKaiserslauternV.pdf\n",
            "/content/content/www.gesetze-im-internet.de/glprzkaiserslauternv/GlPrZKaiserslauternV.pdf\n",
            "43. Processing: StGBuaÄndG.pdf\n",
            "/content/content/www.gesetze-im-internet.de/stgbua_ndg/StGBuaÄndG.pdf\n",
            "44. Processing: EWGSichV.pdf\n",
            "/content/content/www.gesetze-im-internet.de/ewgsichv/EWGSichV.pdf\n",
            "45. Processing: NaturwMechAusbV_2003.pdf\n",
            "/content/content/www.gesetze-im-internet.de/naturwmechausbv_2003/NaturwMechAusbV_2003.pdf\n",
            "46. Processing: UVTrägerV.pdf\n",
            "/content/content/www.gesetze-im-internet.de/uvtr_gerv/UVTrägerV.pdf\n",
            "47. Processing: KonsÜbkG.pdf\n",
            "/content/content/www.gesetze-im-internet.de/kons_bkg/KonsÜbkG.pdf\n",
            "48. Processing: englisch_patg.pdf\n",
            "/content/content/www.gesetze-im-internet.de/englisch_patg/englisch_patg.pdf\n",
            "49. Processing: SVDDRAuflG.pdf\n",
            "/content/content/www.gesetze-im-internet.de/svddrauflg/SVDDRAuflG.pdf\n",
            "50. Processing: BGSResOffBPräsErnAnO.pdf\n",
            "/content/content/www.gesetze-im-internet.de/bgsresoffbpr_sernano/BGSResOffBPräsErnAnO.pdf\n",
            "51. Processing: Münz20EuroBek_2020-01-22_1.pdf\n",
            "/content/content/www.gesetze-im-internet.de/m_nz20eurobek_2020-01-22_1/Münz20EuroBek_2020-01-22_1.pdf\n",
            "52. Processing: StaaV.pdf\n",
            "/content/content/www.gesetze-im-internet.de/staav/StaaV.pdf\n",
            "53. Processing: DBPBeamtRAnO_1985.pdf\n",
            "/content/content/www.gesetze-im-internet.de/dbpbeamtrano_1985/DBPBeamtRAnO_1985.pdf\n",
            "54. Processing: EuropolG.pdf\n",
            "/content/content/www.gesetze-im-internet.de/europolg/EuropolG.pdf\n",
            "55. Processing: PatG§41Abs2Bek_95-04.pdf\n",
            "/content/content/www.gesetze-im-internet.de/patg_41abs2bek_95-04/PatG§41Abs2Bek_95-04.pdf\n",
            "56. Processing: AnlBV.pdf\n",
            "/content/content/www.gesetze-im-internet.de/anlbv_2004/AnlBV.pdf\n",
            "57. Processing: BASIG.pdf\n",
            "/content/content/www.gesetze-im-internet.de/basig/BASIG.pdf\n",
            "58. Processing: WildTArtÜbk.pdf\n",
            "/content/content/www.gesetze-im-internet.de/wildtart_bk/WildTArtÜbk.pdf\n",
            "59. Processing: SVwHKVorRV.pdf\n",
            "/content/content/www.gesetze-im-internet.de/svwhkvorrv/SVwHKVorRV.pdf\n",
            "60. Processing: BArchBV.pdf\n",
            "/content/content/www.gesetze-im-internet.de/barchbv/BArchBV.pdf\n",
            "61. Processing: WZG§4ESOBek.pdf\n",
            "/content/content/www.gesetze-im-internet.de/wzg_4esobek/WZG§4ESOBek.pdf\n",
            "62. Processing: VollstrZustÜbk1988G.pdf\n",
            "/content/content/www.gesetze-im-internet.de/vollstrzust_bk1988g/VollstrZustÜbk1988G.pdf\n",
            "63. Processing: GrÄndStVtrNW_RPBek.pdf\n",
            "/content/content/www.gesetze-im-internet.de/gr_ndstvtrnw_rpbek/GrÄndStVtrNW_RPBek.pdf\n",
            "64. Processing: WZGTMBek.pdf\n",
            "/content/content/www.gesetze-im-internet.de/wzgtmbek/WZGTMBek.pdf\n",
            "65. Processing: PKDBSa.pdf\n",
            "/content/content/www.gesetze-im-internet.de/pkdbsa/PKDBSa.pdf\n",
            "66. Processing: 2._LADV-Saar.pdf\n",
            "/content/content/www.gesetze-im-internet.de/lasaardv_2/2._LADV-Saar.pdf\n",
            "67. Processing: EigZulG.pdf\n",
            "/content/content/www.gesetze-im-internet.de/eigzulg/EigZulG.pdf\n",
            "68. Processing: LuftVODV_222.pdf\n",
            "/content/content/www.gesetze-im-internet.de/luftvodv_222/LuftVODV_222.pdf\n",
            "69. Processing: CSC.pdf\n",
            "/content/content/www.gesetze-im-internet.de/csc/CSC.pdf\n",
            "70. Processing: BBankG.pdf\n",
            "/content/content/www.gesetze-im-internet.de/bbankg/BBankG.pdf\n",
            "71. Processing: UrhRSchFrVerlG.pdf\n",
            "/content/content/www.gesetze-im-internet.de/urhrschfrverlg/UrhRSchFrVerlG.pdf\n",
            "72. Processing: SVZustAnO.pdf\n",
            "/content/content/www.gesetze-im-internet.de/svzustano/SVZustAnO.pdf\n",
            "73. Processing: WoStichPrG_1972.pdf\n",
            "/content/content/www.gesetze-im-internet.de/wostichprg_1972/WoStichPrG_1972.pdf\n",
            "74. Processing: BegleitG.pdf\n",
            "/content/content/www.gesetze-im-internet.de/begleitg/BegleitG.pdf\n",
            "75. Processing: SVG§63V.pdf\n",
            "/content/content/www.gesetze-im-internet.de/svg_63v/SVG§63V.pdf\n",
            "76. Processing: SVkAbk_CHE.pdf\n",
            "/content/content/www.gesetze-im-internet.de/svkabk_che/SVkAbk_CHE.pdf\n",
            "77. Processing: 2._WOMitbestG.pdf\n",
            "/content/content/www.gesetze-im-internet.de/mitbestgwo_2_2002/2._WOMitbestG.pdf\n",
            "78. Processing: DonauSchÜbk.pdf\n",
            "/content/content/www.gesetze-im-internet.de/donausch_bk/DonauSchÜbk.pdf\n",
            "79. Processing: KiSchMaßnÜbk_Haag.pdf\n",
            "/content/content/www.gesetze-im-internet.de/kischma_n_bk_haag/KiSchMaßnÜbk_Haag.pdf\n",
            "80. Processing: WVO.pdf\n",
            "/content/content/www.gesetze-im-internet.de/schwbwv/WVO.pdf\n",
            "81. Processing: IAEOBen_IAEOHiLÜbkG.pdf\n",
            "/content/content/www.gesetze-im-internet.de/iaeoben_iaeohil_bkg/IAEOBen_IAEOHiLÜbkG.pdf\n",
            "82. Processing: ZPO.pdf\n",
            "/content/content/www.gesetze-im-internet.de/zpo/ZPO.pdf\n",
            "83. Processing: PolBTLV.pdf\n",
            "/content/content/www.gesetze-im-internet.de/polbtlv_2013/PolBTLV.pdf\n",
            "84. Processing: StandAG.pdf\n",
            "/content/content/www.gesetze-im-internet.de/standag_2017/StandAG.pdf\n",
            "85. Processing: OrthAusbVO.pdf\n",
            "/content/content/www.gesetze-im-internet.de/orthausbvo/OrthAusbVO.pdf\n",
            "86. Processing: KaffeeÜbk1983OrgVorRV.pdf\n",
            "/content/content/www.gesetze-im-internet.de/kaffee_bk1983orgvorrv/KaffeeÜbk1983OrgVorRV.pdf\n",
            "87. Processing: DollBBerAbk2G.pdf\n",
            "/content/content/www.gesetze-im-internet.de/dollbberabk2g/DollBBerAbk2G.pdf\n",
            "88. Processing: WBGArt13InkrBek.pdf\n",
            "/content/content/www.gesetze-im-internet.de/wbgart13inkrbek/WBGArt13InkrBek.pdf\n",
            "89. Processing: WerkstoffPrAusbV.pdf\n",
            "/content/content/www.gesetze-im-internet.de/werkstoffprausbv/WerkstoffPrAusbV.pdf\n",
            "90. Processing: ArbZustBauV.pdf\n",
            "/content/content/www.gesetze-im-internet.de/arbzustbauv/ArbZustBauV.pdf\n",
            "91. Processing: AmtsbezSaarAnO.pdf\n",
            "/content/content/www.gesetze-im-internet.de/amtsbezsaarano/AmtsbezSaarAnO.pdf\n",
            "92. Processing: VollstrVtr_TUN.pdf\n",
            "/content/content/www.gesetze-im-internet.de/vollstrvtr_tun/VollstrVtr_TUN.pdf\n",
            "93. Processing: KAVerOV.pdf\n",
            "/content/content/www.gesetze-im-internet.de/kaverov/KAVerOV.pdf\n",
            "94. Processing: BPräsAmtsbezAnO_1965.pdf\n",
            "/content/content/www.gesetze-im-internet.de/bpr_samtsbezano_1965/BPräsAmtsbezAnO_1965.pdf\n",
            "95. Processing: DtFrJWVorRV.pdf\n",
            "/content/content/www.gesetze-im-internet.de/dtfrjwvorrv/DtFrJWVorRV.pdf\n",
            "96. Processing: WZG§4IFADBek.pdf\n",
            "/content/content/www.gesetze-im-internet.de/wzg_4ifadbek/WZG§4IFADBek.pdf\n",
            "97. Processing: ABZusForstAbk_POL.pdf\n",
            "/content/content/www.gesetze-im-internet.de/abzusforstabk_pol/ABZusForstAbk_POL.pdf\n",
            "98. Processing: HdlKlG.pdf\n",
            "/content/content/www.gesetze-im-internet.de/hdlklg/HdlKlG.pdf\n",
            "99. Processing: VersorgAusglUmrFaktorBek_2015.pdf\n",
            "/content/content/www.gesetze-im-internet.de/versorgausglumrfaktorbek_2015/VersorgAusglUmrFaktorBek_2015.pdf\n",
            "100. Processing: FischwAusbV.pdf\n",
            "/content/content/www.gesetze-im-internet.de/fischwausbv/FischwAusbV.pdf\n",
            "101. Processing: SGB2§20Abs2Bek_2008.pdf\n",
            "/content/content/www.gesetze-im-internet.de/sgb2_20abs2bek_2008/SGB2§20Abs2Bek_2008.pdf\n",
            "102. Processing: BeitrEntlKrG.pdf\n",
            "/content/content/www.gesetze-im-internet.de/beitrentlkrg/BeitrEntlKrG.pdf\n",
            "103. Processing: BPräsAmtsbezAnO_1987-08.pdf\n",
            "/content/content/www.gesetze-im-internet.de/bpr_samtsbezano_1987-08/BPräsAmtsbezAnO_1987-08.pdf\n",
            "104. Processing: AuslPflKrGewQSG.pdf\n",
            "/content/content/www.gesetze-im-internet.de/auslpflkrgewqsg/AuslPflKrGewQSG.pdf\n",
            "105. Processing: GüKGrKabotageV.pdf\n",
            "/content/content/www.gesetze-im-internet.de/g_kgrkabotagev_2012/GüKGrKabotageV.pdf\n",
            "106. Processing: BImADiszV.pdf\n",
            "/content/content/www.gesetze-im-internet.de/bimadiszv/BImADiszV.pdf\n",
            "107. Processing: GasgeräteDG.pdf\n",
            "/content/content/www.gesetze-im-internet.de/gasger_tedg/GasgeräteDG.pdf\n",
            "108. Processing: SozSichRVbgSchlProt_CAN.pdf\n",
            "/content/content/www.gesetze-im-internet.de/sozsichrvbgschlprot_can/SozSichRVbgSchlProt_CAN.pdf\n",
            "109. Processing: HöBetrV.pdf\n",
            "/content/content/www.gesetze-im-internet.de/h_betrv/HöBetrV.pdf\n",
            "110. Processing: RüstKontrG.pdf\n",
            "/content/content/www.gesetze-im-internet.de/r_stkontrg/RüstKontrG.pdf\n",
            "111. Processing: SokaSiG2.pdf\n",
            "/content/content/www.gesetze-im-internet.de/sokasig_2/SokaSiG2.pdf\n",
            "112. Processing: FluHfSalzbVtr_AUT.pdf\n",
            "/content/content/www.gesetze-im-internet.de/fluhfsalzbvtr_aut/FluHfSalzbVtr_AUT.pdf\n",
            "113. Processing: PatInfoZBek_2016.pdf\n",
            "/content/content/www.gesetze-im-internet.de/patinfozbek_2016/PatInfoZBek_2016.pdf\n",
            "114. Processing: WZG§35VCTBek.pdf\n",
            "/content/content/www.gesetze-im-internet.de/wzg_35vctbek/WZG§35VCTBek.pdf\n",
            "115. Processing: VkBkmG.pdf\n",
            "/content/content/www.gesetze-im-internet.de/vkbkmg/VkBkmG.pdf\n",
            "116. Processing: AZAV.pdf\n",
            "/content/content/www.gesetze-im-internet.de/azav/AZAV.pdf\n",
            "117. Processing: RheinfallVtr_CHE.pdf\n",
            "/content/content/www.gesetze-im-internet.de/rheinfallvtr_che/RheinfallVtr_CHE.pdf\n",
            "118. Processing: BTGO1980Anl6Bek_2018.pdf\n",
            "/content/content/www.gesetze-im-internet.de/btgo1980anl6bek_2018/BTGO1980Anl6Bek_2018.pdf\n",
            "119. Processing: EZBAbkG.pdf\n",
            "/content/content/www.gesetze-im-internet.de/ezbabkg/EZBAbkG.pdf\n",
            "120. Processing: WeinfondsV.pdf\n",
            "/content/content/www.gesetze-im-internet.de/weinfondsv_2008/WeinfondsV.pdf\n",
            "121. Processing: BußAktÜbV.pdf\n",
            "/content/content/www.gesetze-im-internet.de/bu_akt_bv/BußAktÜbV.pdf\n",
            "122. Processing: BinSchSprFunkV.pdf\n",
            "/content/content/www.gesetze-im-internet.de/binschsprfunkv_2003/BinSchSprFunkV.pdf\n",
            "123. Processing: InvStreitÜbk.pdf\n",
            "/content/content/www.gesetze-im-internet.de/invstreit_bk/InvStreitÜbk.pdf\n",
            "124. Processing: RheinBrückEschauVtrG.pdf\n",
            "/content/content/www.gesetze-im-internet.de/rheinbr_ckeschauvtrg/RheinBrückEschauVtrG.pdf\n",
            "125. Processing: GVFG.pdf\n",
            "/content/content/www.gesetze-im-internet.de/gvfg/GVFG.pdf\n",
            "126. Processing: SchHaltHygV.pdf\n",
            "/content/content/www.gesetze-im-internet.de/schhalthygv/SchHaltHygV.pdf\n",
            "127. Processing: INTERSPUTNIKG.pdf\n",
            "/content/content/www.gesetze-im-internet.de/intersputnikg/INTERSPUTNIKG.pdf\n",
            "128. Processing: LuftVGÄndG.pdf\n",
            "/content/content/www.gesetze-im-internet.de/luftvg_ndg/LuftVGÄndG.pdf\n",
            "129. Processing: ZustAnpG.pdf\n",
            "/content/content/www.gesetze-im-internet.de/zustanpg_2002/ZustAnpG.pdf\n",
            "130. Processing: MAbkMadridProt.pdf\n",
            "/content/content/www.gesetze-im-internet.de/mabkmadridprot/MAbkMadridProt.pdf\n",
            "131. Processing: NDAV.pdf\n",
            "/content/content/www.gesetze-im-internet.de/ndav/NDAV.pdf\n",
            "132. Processing: SeeAtHaftÜbk.pdf\n",
            "/content/content/www.gesetze-im-internet.de/seeathaft_bk/SeeAtHaftÜbk.pdf\n",
            "133. Processing: EUStAG.pdf\n",
            "/content/content/www.gesetze-im-internet.de/eustag/EUStAG.pdf\n",
            "134. Processing: ZVsG.pdf\n",
            "/content/content/www.gesetze-im-internet.de/zvsg/ZVsG.pdf\n",
            "135. Processing: BBPlG.pdf\n",
            "/content/content/www.gesetze-im-internet.de/bbplg/BBPlG.pdf\n",
            "136. Processing: BinSchLV.pdf\n",
            "/content/content/www.gesetze-im-internet.de/binschlv/BinSchLV.pdf\n",
            "137. Processing: AsylbLG§3aAbs4Bek.pdf\n",
            "/content/content/www.gesetze-im-internet.de/asylblg_3aabs4bek/AsylbLG§3aAbs4Bek.pdf\n",
            "138. Processing: NDWV.pdf\n",
            "/content/content/www.gesetze-im-internet.de/ndwv/NDWV.pdf\n",
            "139. Processing: PBefGKostV.pdf\n",
            "/content/content/www.gesetze-im-internet.de/pbefgkostv/PBefGKostV.pdf\n",
            "140. Processing: BienSchV_1992.pdf\n",
            "/content/content/www.gesetze-im-internet.de/bienschv_1992/BienSchV_1992.pdf\n",
            "141. Processing: SozSichAbk_BEL.pdf\n",
            "/content/content/www.gesetze-im-internet.de/sozsichabk_bel/SozSichAbk_BEL.pdf\n",
            "142. Processing: LebensMAusbV.pdf\n",
            "/content/content/www.gesetze-im-internet.de/lebensmausbv/LebensMAusbV.pdf\n",
            "143. Processing: UNSOrgVorRAbkGÄndG_2.pdf\n",
            "/content/content/www.gesetze-im-internet.de/unsorgvorrabkg_ndg_2/UNSOrgVorRAbkGÄndG_2.pdf\n",
            "144. Processing: NamÄndG.pdf\n",
            "/content/content/www.gesetze-im-internet.de/nam_ndg/NamÄndG.pdf\n",
            "145. Processing: GFV.pdf\n",
            "/content/content/www.gesetze-im-internet.de/gfdv/GFV.pdf\n",
            "146. Processing: StVZOAusnV_35.pdf\n",
            "/content/content/www.gesetze-im-internet.de/stvzoausnv_35/StVZOAusnV_35.pdf\n",
            "147. Processing: StBefrAbk_HRV.pdf\n",
            "/content/content/www.gesetze-im-internet.de/stbefrabk_hrv/StBefrAbk_HRV.pdf\n",
            "148. Processing: LuftVStAbsenkV_2020.pdf\n",
            "/content/content/www.gesetze-im-internet.de/luftvstabsenkv_2020_2/LuftVStAbsenkV_2020.pdf\n",
            "149. Processing: BKOrgErl_1981.pdf\n",
            "/content/content/www.gesetze-im-internet.de/bkorgerl_1981/BKOrgErl_1981.pdf\n",
            "150. Processing: BAföG-EinkommensV.pdf\n",
            "/content/content/www.gesetze-im-internet.de/baf_g-einkommensv/BAföG-EinkommensV.pdf\n",
            "151. Processing: BBG.pdf\n",
            "/content/content/www.gesetze-im-internet.de/bbg_2009/BBG.pdf\n",
            "152. Processing: ScheckG.pdf\n",
            "/content/content/www.gesetze-im-internet.de/scheckg/ScheckG.pdf\n",
            "153. Processing: FlüHG.pdf\n",
            "/content/content/www.gesetze-im-internet.de/fl_hg/FlüHG.pdf\n",
            "154. Processing: StrlSchG.pdf\n",
            "/content/content/www.gesetze-im-internet.de/strlschg/StrlSchG.pdf\n",
            "155. Processing: PackmAusbV.pdf\n",
            "/content/content/www.gesetze-im-internet.de/packmausbv/PackmAusbV.pdf\n",
            "156. Processing: KonsHilfG.pdf\n",
            "/content/content/www.gesetze-im-internet.de/konshilfg/KonsHilfG.pdf\n",
            "157. Processing: BArtSchV.pdf\n",
            "/content/content/www.gesetze-im-internet.de/bartschv_2005/BArtSchV.pdf\n",
            "158. Processing: TELEKOMBRAnOErgAnO.pdf\n",
            "/content/content/www.gesetze-im-internet.de/telekombranoergano/TELEKOMBRAnOErgAnO.pdf\n",
            "159. Processing: BPräsKldgDBPAnO.pdf\n",
            "/content/content/www.gesetze-im-internet.de/bpr_skldgdbpano/BPräsKldgDBPAnO.pdf\n",
            "160. Processing: Münz10EuroBek_2003.pdf\n",
            "/content/content/www.gesetze-im-internet.de/m_nz10eurobek_2003/Münz10EuroBek_2003.pdf\n",
            "161. Processing: FVOGedenkBek.pdf\n",
            "/content/content/www.gesetze-im-internet.de/fvogedenkbek/FVOGedenkBek.pdf\n",
            "162. Processing: GruWErlDBest.pdf\n",
            "/content/content/www.gesetze-im-internet.de/gruwerldbest/GruWErlDBest.pdf\n",
            "163. Processing: ZwrMechMstrV.pdf\n",
            "/content/content/www.gesetze-im-internet.de/zwrmechmstrv_2022/ZwrMechMstrV.pdf\n",
            "164. Processing: MiLoDokV.pdf\n",
            "/content/content/www.gesetze-im-internet.de/milodokv_2015/MiLoDokV.pdf\n",
            "165. Processing: Zuständigkeits-DB.pdf\n",
            "/content/content/www.gesetze-im-internet.de/ausglazustdb/Zuständigkeits-DB.pdf\n",
            "166. Processing: VollstrZustÜbkProt.pdf\n",
            "/content/content/www.gesetze-im-internet.de/vollstrzust_bkprot/VollstrZustÜbkProt.pdf\n",
            "167. Processing: EBABGebV.pdf\n",
            "/content/content/www.gesetze-im-internet.de/ebabgebv/EBABGebV.pdf\n",
            "168. Processing: BSIG.pdf\n",
            "/content/content/www.gesetze-im-internet.de/bsig_2009/BSIG.pdf\n",
            "169. Processing: BGVPLTErG.pdf\n",
            "/content/content/www.gesetze-im-internet.de/bgvplterg/BGVPLTErG.pdf\n",
            "170. Processing: BPräsKldgBWSchAnO.pdf\n",
            "/content/content/www.gesetze-im-internet.de/bpr_skldgbwschano/BPräsKldgBWSchAnO.pdf\n",
            "171. Processing: GTNSitzAbkG.pdf\n",
            "/content/content/www.gesetze-im-internet.de/gtnsitzabkg/GTNSitzAbkG.pdf\n",
            "172. Processing: BVollzVergV.pdf\n",
            "/content/content/www.gesetze-im-internet.de/bvollzvergv/BVollzVergV.pdf\n",
            "173. Processing: Münz10EuroBek_2004-03.pdf\n",
            "/content/content/www.gesetze-im-internet.de/m_nz10eurobek_2004-03/Münz10EuroBek_2004-03.pdf\n",
            "174. Processing: BPräsTHHStiftG.pdf\n",
            "/content/content/www.gesetze-im-internet.de/bpr_sthhstiftg/BPräsTHHStiftG.pdf\n",
            "175. Processing: FloristMFPrV.pdf\n",
            "/content/content/www.gesetze-im-internet.de/floristmfprv/FloristMFPrV.pdf\n",
            "176. Processing: AarhusÜbk.pdf\n",
            "/content/content/www.gesetze-im-internet.de/aarhus_bk/AarhusÜbk.pdf\n",
            "177. Processing: WZG§35USABek.pdf\n",
            "/content/content/www.gesetze-im-internet.de/wzg_35usabek/WZG§35USABek.pdf\n",
            "178. Processing: BSI-ITSiKV.pdf\n",
            "/content/content/www.gesetze-im-internet.de/bsi-itsikv/BSI-ITSiKV.pdf\n",
            "179. Processing: EuRHiÜbkErgVtrPOLG.pdf\n",
            "/content/content/www.gesetze-im-internet.de/eurhi_bkergvtrpolg/EuRHiÜbkErgVtrPOLG.pdf\n",
            "180. Processing: WildTArtÜbkG.pdf\n",
            "/content/content/www.gesetze-im-internet.de/wildtart_bkg/WildTArtÜbkG.pdf\n",
            "181. Processing: AltTZG_1996.pdf\n",
            "/content/content/www.gesetze-im-internet.de/alttzg_1996/AltTZG_1996.pdf\n",
            "182. Processing: RHiVtrCANG.pdf\n",
            "/content/content/www.gesetze-im-internet.de/rhivtrcang/RHiVtrCANG.pdf\n",
            "183. Processing: EU-DBA-SBG.pdf\n",
            "/content/content/www.gesetze-im-internet.de/eu-dba-sbg/EU-DBA-SBG.pdf\n",
            "184. Processing: WPostVSaZProt_8.pdf\n",
            "/content/content/www.gesetze-im-internet.de/wpostvsazprot_8/WPostVSaZProt_8.pdf\n",
            "185. Processing: GrenzVerkAUTVtrG_2.pdf\n",
            "/content/content/www.gesetze-im-internet.de/grenzverkautvtrg_2/GrenzVerkAUTVtrG_2.pdf\n",
            "186. Processing: FoVG.pdf\n",
            "/content/content/www.gesetze-im-internet.de/fovg/FoVG.pdf\n",
            "187. Processing: TreuhUntÜV.pdf\n",
            "/content/content/www.gesetze-im-internet.de/treuhunt_v/TreuhUntÜV.pdf\n",
            "188. Processing: FeuAO.pdf\n",
            "/content/content/www.gesetze-im-internet.de/feuao/FeuAO.pdf\n",
            "189. Processing: AMAusbV_2004.pdf\n",
            "/content/content/www.gesetze-im-internet.de/amausbv_2004/AMAusbV_2004.pdf\n",
            "190. Processing: GrStG.pdf\n",
            "/content/content/www.gesetze-im-internet.de/grstg_1973/GrStG.pdf\n",
            "191. Processing: 2._WasSV.pdf\n",
            "/content/content/www.gesetze-im-internet.de/wassv_2/2._WasSV.pdf\n",
            "192. Processing: UErgG_2.pdf\n",
            "/content/content/www.gesetze-im-internet.de/uergg_2/UErgG_2.pdf\n",
            "193. Processing: NSGKdrV.pdf\n",
            "/content/content/www.gesetze-im-internet.de/nsgkdrv/NSGKdrV.pdf\n",
            "194. Processing: RWBestV_2017.pdf\n",
            "/content/content/www.gesetze-im-internet.de/rwbestv_2017/RWBestV_2017.pdf\n",
            "195. Processing: BVG§27bV.pdf\n",
            "/content/content/www.gesetze-im-internet.de/bvg_27bv/BVG§27bV.pdf\n",
            "196. Processing: UErgG.pdf\n",
            "/content/content/www.gesetze-im-internet.de/uergg/UErgG.pdf\n",
            "197. Processing: GKVRefG_2000.pdf\n",
            "/content/content/www.gesetze-im-internet.de/gkvrefg_2000/GKVRefG_2000.pdf\n",
            "198. Processing: DBAAbkGBRG.pdf\n",
            "/content/content/www.gesetze-im-internet.de/dbaabkgbrg/DBAAbkGBRG.pdf\n",
            "199. Processing: NDPHSG.pdf\n",
            "/content/content/www.gesetze-im-internet.de/ndphsg/NDPHSG.pdf\n",
            "200. Processing: StBDVÄndV_2.pdf\n",
            "/content/content/www.gesetze-im-internet.de/stbdv_ndv_2/StBDVÄndV_2.pdf\n",
            "201. Processing: AVAG.pdf\n",
            "/content/content/www.gesetze-im-internet.de/avag_2001/AVAG.pdf\n",
            "202. Processing: Münz10EuroBek_2005-04.pdf\n",
            "/content/content/www.gesetze-im-internet.de/m_nz10eurobek_2005-04/Münz10EuroBek_2005-04.pdf\n",
            "203. Processing: VWDG.pdf\n",
            "/content/content/www.gesetze-im-internet.de/vwdg/VWDG.pdf\n",
            "204. Processing: WZG§35CHNBek_1975.pdf\n",
            "/content/content/www.gesetze-im-internet.de/wzg_35chnbek_1975/WZG§35CHNBek_1975.pdf\n",
            "205. Processing: VKFVÄndBek_2023.pdf\n",
            "/content/content/www.gesetze-im-internet.de/vkfv_ndbek_2023/VKFVÄndBek_2023.pdf\n",
            "206. Processing: OpfBG.pdf\n",
            "/content/content/www.gesetze-im-internet.de/opfbg/OpfBG.pdf\n",
            "207. Processing: PStTG.pdf\n",
            "/content/content/www.gesetze-im-internet.de/psttg/PStTG.pdf\n",
            "208. Processing: TKG.pdf\n",
            "/content/content/www.gesetze-im-internet.de/tkg_2021/TKG.pdf\n",
            "209. Processing: BWahlGV.pdf\n",
            "/content/content/www.gesetze-im-internet.de/bwahlgv/BWahlGV.pdf\n",
            "210. Processing: FKAG.pdf\n",
            "/content/content/www.gesetze-im-internet.de/fkag/FKAG.pdf\n",
            "211. Processing: HandzMstrV.pdf\n",
            "/content/content/www.gesetze-im-internet.de/handzmstrv/HandzMstrV.pdf\n",
            "212. Processing: Münz20EuroBek_2022-04-06_2.pdf\n",
            "/content/content/www.gesetze-im-internet.de/m_nz20eurobek_2022-04-06_2/Münz20EuroBek_2022-04-06_2.pdf\n",
            "213. Processing: BinSchAbk_GEOR.pdf\n",
            "/content/content/www.gesetze-im-internet.de/binschabk_geor/BinSchAbk_GEOR.pdf\n",
            "214. Processing: ÖkoKennzV.pdf\n",
            "/content/content/www.gesetze-im-internet.de/_kokennzv/ÖkoKennzV.pdf\n",
            "215. Processing: LHauswAusbStV.pdf\n",
            "/content/content/www.gesetze-im-internet.de/lhauswausbstv/LHauswAusbStV.pdf\n",
            "216. Processing: BGSNeuRegG.pdf\n",
            "/content/content/www.gesetze-im-internet.de/bgsneuregg/BGSNeuRegG.pdf\n",
            "217. Processing: AlkStG.pdf\n",
            "/content/content/www.gesetze-im-internet.de/alkstg/AlkStG.pdf\n",
            "218. Processing: TeleGebV.pdf\n",
            "/content/content/www.gesetze-im-internet.de/telegebv/TeleGebV.pdf\n",
            "219. Processing: DPAGBefugAnO.pdf\n",
            "/content/content/www.gesetze-im-internet.de/dpagbefugano_2016/DPAGBefugAnO.pdf\n",
            "220. Processing: NachwV.pdf\n",
            "/content/content/www.gesetze-im-internet.de/nachwv_2007/NachwV.pdf\n",
            "221. Processing: BTEpiFortbestBek_2021-06.pdf\n",
            "/content/content/www.gesetze-im-internet.de/btepifortbestbek_2021-06/BTEpiFortbestBek_2021-06.pdf\n",
            "222. Processing: DtFrJWAbkÄndAbk.pdf\n",
            "/content/content/www.gesetze-im-internet.de/dtfrjwabk_ndabk/DtFrJWAbkÄndAbk.pdf\n",
            "223. Processing: BeamtHaftNORBek.pdf\n",
            "/content/content/www.gesetze-im-internet.de/beamthaftnorbek/BeamtHaftNORBek.pdf\n",
            "224. Processing: SGFFG.pdf\n",
            "/content/content/www.gesetze-im-internet.de/sgffg/SGFFG.pdf\n",
            "225. Processing: ZustÜblG.pdf\n",
            "/content/content/www.gesetze-im-internet.de/zust_blg/ZustÜblG.pdf\n",
            "226. Processing: KlaCbMstrV.pdf\n",
            "/content/content/www.gesetze-im-internet.de/klacbmstrv_2020/KlaCbMstrV.pdf\n",
            "227. Processing: VersRuhG.pdf\n",
            "/content/content/www.gesetze-im-internet.de/versruhg/VersRuhG.pdf\n",
            "228. Processing: SchGeschUV.pdf\n",
            "/content/content/www.gesetze-im-internet.de/schgeschuv/SchGeschUV.pdf\n",
            "229. Processing: GrBerKrAC_MalVtrBELG.pdf\n",
            "/content/content/www.gesetze-im-internet.de/grberkrac_malvtrbelg/GrBerKrAC_MalVtrBELG.pdf\n",
            "230. Processing: HwOuaÜG.pdf\n",
            "/content/content/www.gesetze-im-internet.de/hwoua_g/HwOuaÜG.pdf\n",
            "231. Processing: BPräsAmtsbezAnO_1966.pdf\n",
            "/content/content/www.gesetze-im-internet.de/bpr_samtsbezano_1966/BPräsAmtsbezAnO_1966.pdf\n",
            "232. Processing: EuRFVerhÜbkG.pdf\n",
            "/content/content/www.gesetze-im-internet.de/eurfverh_bkg/EuRFVerhÜbkG.pdf\n",
            "233. Processing: DE_NLKorpsAbk.pdf\n",
            "/content/content/www.gesetze-im-internet.de/de_nlkorpsabk/DE_NLKorpsAbk.pdf\n",
            "234. Processing: SkAufV_POL.pdf\n",
            "/content/content/www.gesetze-im-internet.de/skaufv_pol/SkAufV_POL.pdf\n",
            "235. Processing: MsbLärmSchV.pdf\n",
            "/content/content/www.gesetze-im-internet.de/msbl_rmschv/MsbLärmSchV.pdf\n",
            "236. Processing: BzBlG.pdf\n",
            "/content/content/www.gesetze-im-internet.de/bzblg/BzBlG.pdf\n",
            "237. Processing: SozSichAbk_FIN_1997.pdf\n",
            "/content/content/www.gesetze-im-internet.de/sozsichabk_fin_1997/SozSichAbk_FIN_1997.pdf\n",
            "238. Processing: StDAV.pdf\n",
            "/content/content/www.gesetze-im-internet.de/stdav/StDAV.pdf\n",
            "239. Processing: MarkenG§8Bek_98-09.pdf\n",
            "/content/content/www.gesetze-im-internet.de/markeng_8bek_98-09/MarkenG§8Bek_98-09.pdf\n",
            "240. Processing: KSG.pdf\n",
            "/content/content/www.gesetze-im-internet.de/ksg/KSG.pdf\n"
          ]
        }
      ]
    }
  ]
}