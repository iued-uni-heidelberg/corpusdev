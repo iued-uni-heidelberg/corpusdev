{
  "nbformat": 4,
  "nbformat_minor": 0,
  "metadata": {
    "colab": {
      "provenance": [],
      "authorship_tag": "ABX9TyPNFmAZd5c8K/PL+UwUlZpL",
      "include_colab_link": true
    },
    "kernelspec": {
      "name": "python3",
      "display_name": "Python 3"
    },
    "language_info": {
      "name": "python"
    }
  },
  "cells": [
    {
      "cell_type": "markdown",
      "metadata": {
        "id": "view-in-github",
        "colab_type": "text"
      },
      "source": [
        "<a href=\"https://colab.research.google.com/github/iued-uni-heidelberg/corpusdev/blob/main/download_corpora2_v01.ipynb\" target=\"_parent\"><img src=\"https://colab.research.google.com/assets/colab-badge.svg\" alt=\"Open In Colab\"/></a>"
      ]
    },
    {
      "cell_type": "code",
      "execution_count": null,
      "metadata": {
        "id": "zfTg_CPJJIZM"
      },
      "outputs": [],
      "source": [
        "!wget --recursive https://www.gesetze-im-internet.de/"
      ]
    },
    {
      "cell_type": "code",
      "source": [
        "!zip -r gesetze-im-internet--de.zip /content/www.gesetze-im-internet.de"
      ],
      "metadata": {
        "id": "dbW1SEFGgMxR"
      },
      "execution_count": null,
      "outputs": []
    }
  ]
}