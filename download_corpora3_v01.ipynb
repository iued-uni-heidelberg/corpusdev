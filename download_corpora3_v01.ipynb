{
  "nbformat": 4,
  "nbformat_minor": 0,
  "metadata": {
    "colab": {
      "provenance": [],
      "authorship_tag": "ABX9TyPGiQY2cwj4LoGMdy0b5BcE",
      "include_colab_link": true
    },
    "kernelspec": {
      "name": "python3",
      "display_name": "Python 3"
    },
    "language_info": {
      "name": "python"
    }
  },
  "cells": [
    {
      "cell_type": "markdown",
      "metadata": {
        "id": "view-in-github",
        "colab_type": "text"
      },
      "source": [
        "<a href=\"https://colab.research.google.com/github/iued-uni-heidelberg/corpusdev/blob/main/download_corpora3_v01.ipynb\" target=\"_parent\"><img src=\"https://colab.research.google.com/assets/colab-badge.svg\" alt=\"Open In Colab\"/></a>"
      ]
    },
    {
      "cell_type": "code",
      "source": [
        "!rm --recursive /content/www.juris.de"
      ],
      "metadata": {
        "id": "brnQD4CrNAwl"
      },
      "execution_count": 9,
      "outputs": []
    },
    {
      "cell_type": "code",
      "execution_count": null,
      "metadata": {
        "id": "sNyaruJTLE2G"
      },
      "outputs": [],
      "source": [
        "!wget --recursive -R mp4,png https://www.juris.de/"
      ]
    },
    {
      "cell_type": "code",
      "source": [
        "!wget --recursive https://www.juris.de/"
      ],
      "metadata": {
        "id": "OSol4AAqNNKc"
      },
      "execution_count": null,
      "outputs": []
    },
    {
      "cell_type": "code",
      "source": [
        "!zip -r juris-de.zip /content/www.juris.de"
      ],
      "metadata": {
        "id": "9G8dBBrGeZdh"
      },
      "execution_count": null,
      "outputs": []
    }
  ]
}