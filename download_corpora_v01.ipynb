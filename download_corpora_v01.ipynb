{
  "nbformat": 4,
  "nbformat_minor": 0,
  "metadata": {
    "colab": {
      "provenance": [],
      "authorship_tag": "ABX9TyOwzymLCR1JcRib1J7jozl3",
      "include_colab_link": true
    },
    "kernelspec": {
      "name": "python3",
      "display_name": "Python 3"
    },
    "language_info": {
      "name": "python"
    }
  },
  "cells": [
    {
      "cell_type": "markdown",
      "metadata": {
        "id": "view-in-github",
        "colab_type": "text"
      },
      "source": [
        "<a href=\"https://colab.research.google.com/github/iued-uni-heidelberg/corpusdev/blob/main/download_corpora_v01.ipynb\" target=\"_parent\"><img src=\"https://colab.research.google.com/assets/colab-badge.svg\" alt=\"Open In Colab\"/></a>"
      ]
    },
    {
      "cell_type": "markdown",
      "source": [
        "\n",
        "## Armenian legal corpus:"
      ],
      "metadata": {
        "id": "NqAHaUtwFq2u"
      }
    },
    {
      "cell_type": "code",
      "execution_count": null,
      "metadata": {
        "id": "oc4CHrrzFhrY"
      },
      "outputs": [],
      "source": [
        "# https://www.arlis.am/\n",
        "!wget --recursive https://www.arlis.am/"
      ]
    },
    {
      "cell_type": "code",
      "source": [
        "!zip -r arlis-am.zip /content/www.arlis.am"
      ],
      "metadata": {
        "id": "JfXzWEQLYjvV"
      },
      "execution_count": null,
      "outputs": []
    }
  ]
}