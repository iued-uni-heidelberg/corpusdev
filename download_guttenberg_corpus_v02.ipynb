{
  "nbformat": 4,
  "nbformat_minor": 0,
  "metadata": {
    "colab": {
      "provenance": [],
      "include_colab_link": true
    },
    "kernelspec": {
      "name": "python3",
      "display_name": "Python 3"
    },
    "language_info": {
      "name": "python"
    }
  },
  "cells": [
    {
      "cell_type": "markdown",
      "metadata": {
        "id": "view-in-github",
        "colab_type": "text"
      },
      "source": [
        "<a href=\"https://colab.research.google.com/github/iued-uni-heidelberg/corpusdev/blob/main/download_guttenberg_corpus_v02.ipynb\" target=\"_parent\"><img src=\"https://colab.research.google.com/assets/colab-badge.svg\" alt=\"Open In Colab\"/></a>"
      ]
    },
    {
      "cell_type": "code",
      "execution_count": null,
      "metadata": {
        "id": "gCVwzfqz4vKW"
      },
      "outputs": [],
      "source": [
        "!wget -w 1 -m -H \"http://www.gutenberg.org/robot/harvest?filetypes[]=txt\""
      ]
    },
    {
      "cell_type": "code",
      "source": [
        "!tar cvzf aleph-gutenberg-org.tgz aleph.gutenberg.org/"
      ],
      "metadata": {
        "id": "MfOc29TlT6wo"
      },
      "execution_count": null,
      "outputs": []
    }
  ]
}