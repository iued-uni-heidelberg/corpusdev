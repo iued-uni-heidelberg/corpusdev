{
  "nbformat": 4,
  "nbformat_minor": 0,
  "metadata": {
    "colab": {
      "provenance": [],
      "authorship_tag": "ABX9TyNrA+miCo1iU9WMkooIkfVM",
      "include_colab_link": true
    },
    "kernelspec": {
      "name": "python3",
      "display_name": "Python 3"
    },
    "language_info": {
      "name": "python"
    }
  },
  "cells": [
    {
      "cell_type": "markdown",
      "metadata": {
        "id": "view-in-github",
        "colab_type": "text"
      },
      "source": [
        "<a href=\"https://colab.research.google.com/github/iued-uni-heidelberg/corpusdev/blob/main/logicalReasoningV01.ipynb\" target=\"_parent\"><img src=\"https://colab.research.google.com/assets/colab-badge.svg\" alt=\"Open In Colab\"/></a>"
      ]
    },
    {
      "cell_type": "markdown",
      "source": [
        "# Logical reasoning\n",
        "### beliefs of Ancient Greek society"
      ],
      "metadata": {
        "id": "I8Hp8iNHo1uk"
      }
    },
    {
      "cell_type": "markdown",
      "source": [
        "#### Classes of objects in the world"
      ],
      "metadata": {
        "id": "cwHF8NOyxmQg"
      }
    },
    {
      "cell_type": "code",
      "execution_count": 24,
      "metadata": {
        "id": "i2sC_hLhUdB3"
      },
      "outputs": [],
      "source": [
        "# Beings and Things exist; Being is animate; Things is not animate;\n",
        "class Being(object):\n",
        "    exists = True\n",
        "    animate = True\n",
        "\n",
        "class Thing(object):\n",
        "    exists = True\n",
        "    animate = False\n",
        "\n",
        "# An animal is a being, which is mortal; a human is an animal, which has 4 limbs and 2 legs, but no feathers\n",
        "class Animal(Being):\n",
        "    mortal = True\n",
        "\n",
        "class Human(Animal):\n",
        "    limbs = 4\n",
        "    bipedal = True\n",
        "    has_feathers = False\n",
        "\n",
        "class Chicken(Animal):\n",
        "    limbs = 4\n",
        "    bipedal = True\n",
        "    has_feathers = True\n",
        "\n",
        "# A deity is an immortal being\n",
        "class Deity(Being):\n",
        "    mortal = False\n",
        "\n",
        "def is_it(being, prop):\n",
        "    if hasattr(being, prop):\n",
        "        return getattr(being, prop)\n",
        "    else:\n",
        "        print(f'The property {prop} is not defined for this being.')\n",
        "        return None\n",
        "\n",
        "\n"
      ]
    },
    {
      "cell_type": "markdown",
      "source": [
        "#### 'instances' for the classes: \n",
        "Socrates is human, Zeus is a Deity..."
      ],
      "metadata": {
        "id": "MO2yxhkOxzTU"
      }
    },
    {
      "cell_type": "code",
      "source": [
        "socrates = Human()"
      ],
      "metadata": {
        "id": "J14hIdq4X0sz"
      },
      "execution_count": 25,
      "outputs": []
    },
    {
      "cell_type": "code",
      "source": [
        "is_it(socrates, \"exists\")"
      ],
      "metadata": {
        "id": "C82Dco8zX2S7",
        "outputId": "3e2b139e-75a8-4ffd-cdce-1d72a8f98e61",
        "colab": {
          "base_uri": "https://localhost:8080/"
        }
      },
      "execution_count": 26,
      "outputs": [
        {
          "output_type": "execute_result",
          "data": {
            "text/plain": [
              "True"
            ]
          },
          "metadata": {},
          "execution_count": 26
        }
      ]
    },
    {
      "cell_type": "code",
      "source": [
        "is_it(socrates, \"mortal\")"
      ],
      "metadata": {
        "id": "6ofUGHGQXU3Z",
        "outputId": "bd8ee025-b3a6-4f4d-f560-58d6d8784076",
        "colab": {
          "base_uri": "https://localhost:8080/"
        }
      },
      "execution_count": 27,
      "outputs": [
        {
          "output_type": "execute_result",
          "data": {
            "text/plain": [
              "True"
            ]
          },
          "metadata": {},
          "execution_count": 27
        }
      ]
    },
    {
      "cell_type": "code",
      "source": [
        "is_it(socrates, \"has_feathers\")"
      ],
      "metadata": {
        "colab": {
          "base_uri": "https://localhost:8080/"
        },
        "id": "GPmZK2-YEW8I",
        "outputId": "0c7d6d0e-cd23-47aa-bc27-92d51265f0f9"
      },
      "execution_count": 28,
      "outputs": [
        {
          "output_type": "execute_result",
          "data": {
            "text/plain": [
              "False"
            ]
          },
          "metadata": {},
          "execution_count": 28
        }
      ]
    },
    {
      "cell_type": "code",
      "source": [
        "zeus = Deity()"
      ],
      "metadata": {
        "id": "8IFMIdHEX__Y"
      },
      "execution_count": 29,
      "outputs": []
    },
    {
      "cell_type": "code",
      "source": [
        "is_it(zeus, \"exists\")"
      ],
      "metadata": {
        "id": "mqHgtTHrYCXz",
        "outputId": "8bb3f90f-397f-4411-c724-dd23c42a9155",
        "colab": {
          "base_uri": "https://localhost:8080/"
        }
      },
      "execution_count": 30,
      "outputs": [
        {
          "output_type": "execute_result",
          "data": {
            "text/plain": [
              "True"
            ]
          },
          "metadata": {},
          "execution_count": 30
        }
      ]
    },
    {
      "cell_type": "code",
      "source": [
        "is_it(zeus, \"mortal\")"
      ],
      "metadata": {
        "colab": {
          "base_uri": "https://localhost:8080/"
        },
        "id": "ek2GPrTxVJCP",
        "outputId": "984baf1a-3ecc-47d5-827a-0713334be919"
      },
      "execution_count": 31,
      "outputs": [
        {
          "output_type": "execute_result",
          "data": {
            "text/plain": [
              "False"
            ]
          },
          "metadata": {},
          "execution_count": 31
        }
      ]
    },
    {
      "cell_type": "code",
      "source": [
        "hen_solo = Chicken()\n",
        "cluck_vader =  Chicken()"
      ],
      "metadata": {
        "id": "U1V4DrKe-A53"
      },
      "execution_count": 32,
      "outputs": []
    },
    {
      "cell_type": "code",
      "source": [
        "is_it(hen_solo, \"mortal\")"
      ],
      "metadata": {
        "colab": {
          "base_uri": "https://localhost:8080/"
        },
        "id": "kSh8rlGA-J-r",
        "outputId": "c9b264f1-8af8-48bd-d614-dc072701baa3"
      },
      "execution_count": 33,
      "outputs": [
        {
          "output_type": "execute_result",
          "data": {
            "text/plain": [
              "True"
            ]
          },
          "metadata": {},
          "execution_count": 33
        }
      ]
    },
    {
      "cell_type": "code",
      "source": [
        "is_it(hen_solo, \"has_feathers\")"
      ],
      "metadata": {
        "colab": {
          "base_uri": "https://localhost:8080/"
        },
        "id": "U_TR92LM-UjU",
        "outputId": "87be359b-52e1-4a59-d0a2-9ef74aa8a57f"
      },
      "execution_count": 34,
      "outputs": [
        {
          "output_type": "execute_result",
          "data": {
            "text/plain": [
              "True"
            ]
          },
          "metadata": {},
          "execution_count": 34
        }
      ]
    },
    {
      "cell_type": "code",
      "source": [
        "is_it(cluck_vader, \"animate\")"
      ],
      "metadata": {
        "colab": {
          "base_uri": "https://localhost:8080/"
        },
        "id": "suy9WqP6-YCO",
        "outputId": "83b5bbdc-3dca-4620-f198-c736d3352f2e"
      },
      "execution_count": 35,
      "outputs": [
        {
          "output_type": "execute_result",
          "data": {
            "text/plain": [
              "True"
            ]
          },
          "metadata": {},
          "execution_count": 35
        }
      ]
    },
    {
      "cell_type": "code",
      "source": [
        "is_it(cluck_vader, \"bipedal\")"
      ],
      "metadata": {
        "colab": {
          "base_uri": "https://localhost:8080/"
        },
        "id": "gxJZ6DWx-8jv",
        "outputId": "f627ff6b-e0bf-4190-8360-33feb4bf28d2"
      },
      "execution_count": 36,
      "outputs": [
        {
          "output_type": "execute_result",
          "data": {
            "text/plain": [
              "True"
            ]
          },
          "metadata": {},
          "execution_count": 36
        }
      ]
    },
    {
      "cell_type": "code",
      "source": [
        "is_it(hen_solo, \"limbs\")"
      ],
      "metadata": {
        "colab": {
          "base_uri": "https://localhost:8080/"
        },
        "id": "7dfdxncOFk6F",
        "outputId": "9350d2a8-083f-4c21-81e2-7b20af940b48"
      },
      "execution_count": 37,
      "outputs": [
        {
          "output_type": "execute_result",
          "data": {
            "text/plain": [
              "4"
            ]
          },
          "metadata": {},
          "execution_count": 37
        }
      ]
    },
    {
      "cell_type": "code",
      "source": [
        "is_it(socrates, \"limbs\")"
      ],
      "metadata": {
        "colab": {
          "base_uri": "https://localhost:8080/"
        },
        "id": "Pev4ki-vV2Ie",
        "outputId": "a687f08f-50d4-43a2-b690-1649419f8213"
      },
      "execution_count": 38,
      "outputs": [
        {
          "output_type": "execute_result",
          "data": {
            "text/plain": [
              "4"
            ]
          },
          "metadata": {},
          "execution_count": 38
        }
      ]
    },
    {
      "cell_type": "markdown",
      "source": [
        "#### Definition of a 'virus'"
      ],
      "metadata": {
        "id": "3roInD93YTpL"
      }
    },
    {
      "cell_type": "code",
      "source": [
        "class Cell(Thing):\n",
        "    is_part_of = \"organism\"\n",
        "    size = 'less_then_100_micrometer'\n",
        "\n",
        "class Virus(Thing):\n",
        "    size = 'less_then_1_micrometer'\n",
        "    part_core = 'RNA|DNA'\n",
        "    part_cover = 'protein'\n",
        "\n",
        "    def replicate(self, infected_host_cell: Cell):\n",
        "        newVirusCopy = self._copy()\n",
        "        del infected_host_cell\n",
        "        return newVirusCopy\n",
        "\n",
        "class Covid_Virus(Virus):\n",
        "    part_core = 'RNA'\n",
        "    protein_shape = 'spikes'\n"
      ],
      "metadata": {
        "id": "sGbH5Ik5Ye6H"
      },
      "execution_count": 43,
      "outputs": []
    }
  ]
}