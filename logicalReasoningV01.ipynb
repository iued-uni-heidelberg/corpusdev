{
  "nbformat": 4,
  "nbformat_minor": 0,
  "metadata": {
    "colab": {
      "provenance": [],
      "authorship_tag": "ABX9TyP/Tb8Ieg7Rwat/3/h2wrv/",
      "include_colab_link": true
    },
    "kernelspec": {
      "name": "python3",
      "display_name": "Python 3"
    },
    "language_info": {
      "name": "python"
    }
  },
  "cells": [
    {
      "cell_type": "markdown",
      "metadata": {
        "id": "view-in-github",
        "colab_type": "text"
      },
      "source": [
        "<a href=\"https://colab.research.google.com/github/iued-uni-heidelberg/corpusdev/blob/main/logicalReasoningV01.ipynb\" target=\"_parent\"><img src=\"https://colab.research.google.com/assets/colab-badge.svg\" alt=\"Open In Colab\"/></a>"
      ]
    },
    {
      "cell_type": "markdown",
      "source": [
        "# Logical reasoning\n",
        "### beliefs of Ancient Greek society"
      ],
      "metadata": {
        "id": "I8Hp8iNHo1uk"
      }
    },
    {
      "cell_type": "markdown",
      "source": [
        "#### Classes of objects in the world"
      ],
      "metadata": {
        "id": "cwHF8NOyxmQg"
      }
    },
    {
      "cell_type": "code",
      "execution_count": 1,
      "metadata": {
        "id": "i2sC_hLhUdB3"
      },
      "outputs": [],
      "source": [
        "# Beings and Things exist; Being is animate; Things is not animate;\n",
        "class Being(object):\n",
        "    exists = True\n",
        "    animate = True\n",
        "\n",
        "class Thing(object):\n",
        "    exists = True\n",
        "    animate = False\n",
        "\n",
        "# An animal is a being, which is mortal; a human is an animal, which has 4 limbs and 2 legs, but no feathers\n",
        "class Animal(Being):\n",
        "    mortal = True\n",
        "\n",
        "class Human(Animal):\n",
        "    limbs = 4\n",
        "    bipedal = True\n",
        "    has_feathers = False\n",
        "\n",
        "class Chicken(Animal):\n",
        "    limbs = 4\n",
        "    bipedal = True\n",
        "    has_feathers = True\n",
        "\n",
        "# A deity is an immortal being\n",
        "class Deity(Being):\n",
        "    mortal = False\n",
        "\n",
        "def is_it(being, prop):\n",
        "    if hasattr(being, prop):\n",
        "        return getattr(being, prop)\n",
        "    else:\n",
        "        print(f'The property {prop} is not defined for this being.')\n",
        "        return None\n",
        "\n",
        "\n"
      ]
    },
    {
      "cell_type": "markdown",
      "source": [
        "#### 'instances' for the classes"
      ],
      "metadata": {
        "id": "MO2yxhkOxzTU"
      }
    },
    {
      "cell_type": "code",
      "source": [
        "socrates = Human()"
      ],
      "metadata": {
        "id": "J14hIdq4X0sz"
      },
      "execution_count": 15,
      "outputs": []
    },
    {
      "cell_type": "code",
      "source": [
        "is_it(socrates, \"exists\")"
      ],
      "metadata": {
        "id": "C82Dco8zX2S7",
        "outputId": "f2024470-5c08-458c-fd61-a1a8b00fd6ff",
        "colab": {
          "base_uri": "https://localhost:8080/"
        }
      },
      "execution_count": 16,
      "outputs": [
        {
          "output_type": "execute_result",
          "data": {
            "text/plain": [
              "True"
            ]
          },
          "metadata": {},
          "execution_count": 16
        }
      ]
    },
    {
      "cell_type": "code",
      "source": [
        "is_it(socrates, \"mortal\")"
      ],
      "metadata": {
        "id": "6ofUGHGQXU3Z",
        "outputId": "07d49c44-da3c-4053-fee5-f05eb7448699",
        "colab": {
          "base_uri": "https://localhost:8080/"
        }
      },
      "execution_count": 17,
      "outputs": [
        {
          "output_type": "execute_result",
          "data": {
            "text/plain": [
              "True"
            ]
          },
          "metadata": {},
          "execution_count": 17
        }
      ]
    },
    {
      "cell_type": "code",
      "source": [
        "is_it(socrates, \"has_feathers\")"
      ],
      "metadata": {
        "colab": {
          "base_uri": "https://localhost:8080/"
        },
        "id": "GPmZK2-YEW8I",
        "outputId": "e281df23-7891-442c-c4a4-4b9f6728cf24"
      },
      "execution_count": 18,
      "outputs": [
        {
          "output_type": "execute_result",
          "data": {
            "text/plain": [
              "False"
            ]
          },
          "metadata": {},
          "execution_count": 18
        }
      ]
    },
    {
      "cell_type": "code",
      "source": [
        "zeus = Deity()"
      ],
      "metadata": {
        "id": "8IFMIdHEX__Y"
      },
      "execution_count": 19,
      "outputs": []
    },
    {
      "cell_type": "code",
      "source": [
        "is_it(zeus, \"exists\")"
      ],
      "metadata": {
        "id": "mqHgtTHrYCXz",
        "outputId": "e52f9a92-56e9-4f58-d141-9a2c4c750c21",
        "colab": {
          "base_uri": "https://localhost:8080/"
        }
      },
      "execution_count": 20,
      "outputs": [
        {
          "output_type": "execute_result",
          "data": {
            "text/plain": [
              "True"
            ]
          },
          "metadata": {},
          "execution_count": 20
        }
      ]
    },
    {
      "cell_type": "code",
      "source": [
        "is_it(zeus, \"mortal\")"
      ],
      "metadata": {
        "colab": {
          "base_uri": "https://localhost:8080/"
        },
        "id": "ek2GPrTxVJCP",
        "outputId": "8f282463-f96b-4220-a7fb-31a9de8bdb5e"
      },
      "execution_count": 21,
      "outputs": [
        {
          "output_type": "execute_result",
          "data": {
            "text/plain": [
              "False"
            ]
          },
          "metadata": {},
          "execution_count": 21
        }
      ]
    },
    {
      "cell_type": "code",
      "source": [
        "hen_solo = Chicken()\n",
        "cluck_vader =  Chicken()"
      ],
      "metadata": {
        "id": "U1V4DrKe-A53"
      },
      "execution_count": 22,
      "outputs": []
    },
    {
      "cell_type": "code",
      "source": [
        "is_it(hen_solo, \"mortal\")"
      ],
      "metadata": {
        "colab": {
          "base_uri": "https://localhost:8080/"
        },
        "id": "kSh8rlGA-J-r",
        "outputId": "64d7f684-2af1-4cf5-83e7-cdd10c84abe1"
      },
      "execution_count": 10,
      "outputs": [
        {
          "output_type": "execute_result",
          "data": {
            "text/plain": [
              "True"
            ]
          },
          "metadata": {},
          "execution_count": 10
        }
      ]
    },
    {
      "cell_type": "code",
      "source": [
        "is_it(hen_solo, \"has_feathers\")"
      ],
      "metadata": {
        "colab": {
          "base_uri": "https://localhost:8080/"
        },
        "id": "U_TR92LM-UjU",
        "outputId": "056a72d0-6b09-44f6-e182-80962e13ef6c"
      },
      "execution_count": 11,
      "outputs": [
        {
          "output_type": "execute_result",
          "data": {
            "text/plain": [
              "True"
            ]
          },
          "metadata": {},
          "execution_count": 11
        }
      ]
    },
    {
      "cell_type": "code",
      "source": [
        "is_it(cluck_vader, \"animate\")"
      ],
      "metadata": {
        "colab": {
          "base_uri": "https://localhost:8080/"
        },
        "id": "suy9WqP6-YCO",
        "outputId": "f4ab777c-b9f0-4680-9583-5f69837d9b9a"
      },
      "execution_count": 12,
      "outputs": [
        {
          "output_type": "execute_result",
          "data": {
            "text/plain": [
              "True"
            ]
          },
          "metadata": {},
          "execution_count": 12
        }
      ]
    },
    {
      "cell_type": "code",
      "source": [
        "is_it(cluck_vader, \"bipedal\")"
      ],
      "metadata": {
        "colab": {
          "base_uri": "https://localhost:8080/"
        },
        "id": "gxJZ6DWx-8jv",
        "outputId": "2be4f6a8-6b74-4bb3-abd2-420d7839f9da"
      },
      "execution_count": 13,
      "outputs": [
        {
          "output_type": "execute_result",
          "data": {
            "text/plain": [
              "True"
            ]
          },
          "metadata": {},
          "execution_count": 13
        }
      ]
    },
    {
      "cell_type": "code",
      "source": [
        "is_it(hen_solo, \"limbs\")"
      ],
      "metadata": {
        "colab": {
          "base_uri": "https://localhost:8080/"
        },
        "id": "7dfdxncOFk6F",
        "outputId": "1cf60c47-ee71-4aec-9f16-8af00d619413"
      },
      "execution_count": 23,
      "outputs": [
        {
          "output_type": "execute_result",
          "data": {
            "text/plain": [
              "4"
            ]
          },
          "metadata": {},
          "execution_count": 23
        }
      ]
    }
  ]
}