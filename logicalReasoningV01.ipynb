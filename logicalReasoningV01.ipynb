{
  "nbformat": 4,
  "nbformat_minor": 0,
  "metadata": {
    "colab": {
      "provenance": [],
      "authorship_tag": "ABX9TyM50sa3XITRZLcmZ9GjeZ3B",
      "include_colab_link": true
    },
    "kernelspec": {
      "name": "python3",
      "display_name": "Python 3"
    },
    "language_info": {
      "name": "python"
    }
  },
  "cells": [
    {
      "cell_type": "markdown",
      "metadata": {
        "id": "view-in-github",
        "colab_type": "text"
      },
      "source": [
        "<a href=\"https://colab.research.google.com/github/iued-uni-heidelberg/corpusdev/blob/main/logicalReasoningV01.ipynb\" target=\"_parent\"><img src=\"https://colab.research.google.com/assets/colab-badge.svg\" alt=\"Open In Colab\"/></a>"
      ]
    },
    {
      "cell_type": "markdown",
      "source": [
        "# Logical reasoning\n",
        "### beliefs of Ancient Greek society"
      ],
      "metadata": {
        "id": "I8Hp8iNHo1uk"
      }
    },
    {
      "cell_type": "markdown",
      "source": [
        "#### Classes of objects in the world"
      ],
      "metadata": {
        "id": "cwHF8NOyxmQg"
      }
    },
    {
      "cell_type": "code",
      "execution_count": 99,
      "metadata": {
        "id": "i2sC_hLhUdB3"
      },
      "outputs": [],
      "source": [
        "# Beings and Things exist; Being is animate; Things is not animate;\n",
        "class Being(object):\n",
        "    exists = True\n",
        "    animate = True\n",
        "\n",
        "class Thing(object):\n",
        "    exists = True\n",
        "    animate = False\n",
        "\n",
        "# An animal is a being, which is mortal; a human is an animal, which has 4 limbs and 2 legs, but no feathers\n",
        "class Animal(Being):\n",
        "    mortal = True\n",
        "\n",
        "class Human(Animal):\n",
        "    limbs = 4\n",
        "    bipedal = True\n",
        "    has_feathers = False\n",
        "\n",
        "class Chicken(Animal):\n",
        "    limbs = 4\n",
        "    bipedal = True\n",
        "    has_feathers = True\n",
        "\n",
        "# A deity is an immortal being\n",
        "class Deity(Being):\n",
        "    mortal = False\n",
        "\n",
        "def is_it(being, prop):\n",
        "    if hasattr(being, prop):\n",
        "        return getattr(being, prop)\n",
        "    else:\n",
        "        print(f'The property {prop} is not defined for this being.')\n",
        "        return None\n",
        "\n",
        "\n"
      ]
    },
    {
      "cell_type": "markdown",
      "source": [
        "#### 'instances' for the classes: \n",
        "Socrates is human, Zeus is a Deity..."
      ],
      "metadata": {
        "id": "MO2yxhkOxzTU"
      }
    },
    {
      "cell_type": "code",
      "source": [
        "socrates = Human()"
      ],
      "metadata": {
        "id": "J14hIdq4X0sz"
      },
      "execution_count": 100,
      "outputs": []
    },
    {
      "cell_type": "code",
      "source": [
        "is_it(socrates, \"exists\")"
      ],
      "metadata": {
        "id": "C82Dco8zX2S7"
      },
      "execution_count": null,
      "outputs": []
    },
    {
      "cell_type": "code",
      "source": [
        "is_it(socrates, \"mortal\")"
      ],
      "metadata": {
        "id": "6ofUGHGQXU3Z"
      },
      "execution_count": null,
      "outputs": []
    },
    {
      "cell_type": "code",
      "source": [
        "is_it(socrates, \"has_feathers\")"
      ],
      "metadata": {
        "id": "GPmZK2-YEW8I"
      },
      "execution_count": null,
      "outputs": []
    },
    {
      "cell_type": "code",
      "source": [
        "zeus = Deity()"
      ],
      "metadata": {
        "id": "8IFMIdHEX__Y"
      },
      "execution_count": 104,
      "outputs": []
    },
    {
      "cell_type": "code",
      "source": [
        "is_it(zeus, \"exists\")"
      ],
      "metadata": {
        "id": "mqHgtTHrYCXz"
      },
      "execution_count": null,
      "outputs": []
    },
    {
      "cell_type": "code",
      "source": [
        "is_it(zeus, \"mortal\")"
      ],
      "metadata": {
        "id": "ek2GPrTxVJCP"
      },
      "execution_count": null,
      "outputs": []
    },
    {
      "cell_type": "code",
      "source": [
        "hen_solo = Chicken()\n",
        "cluck_vader =  Chicken()"
      ],
      "metadata": {
        "id": "U1V4DrKe-A53"
      },
      "execution_count": 107,
      "outputs": []
    },
    {
      "cell_type": "code",
      "source": [
        "is_it(hen_solo, \"mortal\")"
      ],
      "metadata": {
        "id": "kSh8rlGA-J-r"
      },
      "execution_count": null,
      "outputs": []
    },
    {
      "cell_type": "code",
      "source": [
        "is_it(hen_solo, \"has_feathers\")"
      ],
      "metadata": {
        "id": "U_TR92LM-UjU"
      },
      "execution_count": null,
      "outputs": []
    },
    {
      "cell_type": "code",
      "source": [
        "is_it(cluck_vader, \"animate\")"
      ],
      "metadata": {
        "id": "suy9WqP6-YCO"
      },
      "execution_count": null,
      "outputs": []
    },
    {
      "cell_type": "code",
      "source": [
        "is_it(cluck_vader, \"bipedal\")"
      ],
      "metadata": {
        "id": "gxJZ6DWx-8jv"
      },
      "execution_count": null,
      "outputs": []
    },
    {
      "cell_type": "code",
      "source": [
        "hen_solo.limbs"
      ],
      "metadata": {
        "id": "7dfdxncOFk6F"
      },
      "execution_count": null,
      "outputs": []
    },
    {
      "cell_type": "code",
      "source": [
        "socrates.limbs"
      ],
      "metadata": {
        "id": "Pev4ki-vV2Ie"
      },
      "execution_count": null,
      "outputs": []
    },
    {
      "cell_type": "markdown",
      "source": [
        "#### Definition of a 'virus'"
      ],
      "metadata": {
        "id": "3roInD93YTpL"
      }
    },
    {
      "cell_type": "code",
      "source": [
        "from copy import copy\n",
        "\n",
        "class Cell(Thing):\n",
        "    is_part_of = \"organism\"\n",
        "    size = 'less_then_100_micrometer'\n",
        "\n",
        "class Virus(Thing):\n",
        "    size = 'less_then_1_micrometer'\n",
        "    part_core = 'RNA|DNA'\n",
        "    part_cover = 'protein'\n",
        "    __slots__ = 'a'\n",
        "    def __copy__(self):\n",
        "        return type(self)\n",
        "\n",
        "    def replicate(self, infected_host_cell: Cell):\n",
        "        newVirusCopy = self.__copy__()\n",
        "        del infected_host_cell\n",
        "        return newVirusCopy\n",
        "\n",
        "class Covid_Virus(Virus):\n",
        "    part_core = 'RNA'\n",
        "    protein_shape = 'spikes'"
      ],
      "metadata": {
        "id": "sGbH5Ik5Ye6H"
      },
      "execution_count": 114,
      "outputs": []
    },
    {
      "cell_type": "code",
      "source": [
        "vir_Dread60 = Covid_Virus()"
      ],
      "metadata": {
        "id": "2pNORknKqils"
      },
      "execution_count": 115,
      "outputs": []
    },
    {
      "cell_type": "code",
      "source": [
        "vir_Dread60.part_core"
      ],
      "metadata": {
        "id": "PTU7Zu2B8_ny"
      },
      "execution_count": null,
      "outputs": []
    },
    {
      "cell_type": "code",
      "source": [
        "vir_Dread60.part_cover"
      ],
      "metadata": {
        "id": "s_MIMn__9JnJ"
      },
      "execution_count": null,
      "outputs": []
    },
    {
      "cell_type": "code",
      "source": [
        "is_it(vir_Dread60, \"animate\")"
      ],
      "metadata": {
        "id": "I5dlVV5r9SgR"
      },
      "execution_count": null,
      "outputs": []
    },
    {
      "cell_type": "code",
      "source": [
        "cell_8844 = Cell()\n",
        "cell_8736 = Cell()\n",
        "cell_1671 = Cell()"
      ],
      "metadata": {
        "id": "gujgUn0m9wxf"
      },
      "execution_count": 119,
      "outputs": []
    },
    {
      "cell_type": "code",
      "source": [
        "cell_8844.size"
      ],
      "metadata": {
        "id": "xSOul_pu-JW0"
      },
      "execution_count": null,
      "outputs": []
    },
    {
      "cell_type": "code",
      "source": [
        "vir_Malum12 = vir_Dread60.replicate(cell_8844)"
      ],
      "metadata": {
        "id": "K7tYONOk_TbR"
      },
      "execution_count": 121,
      "outputs": []
    },
    {
      "cell_type": "code",
      "source": [
        "vir_Malum12.part_core"
      ],
      "metadata": {
        "id": "D_ucFmI5DubO"
      },
      "execution_count": null,
      "outputs": []
    },
    {
      "cell_type": "code",
      "source": [
        "vir_Malum12.size"
      ],
      "metadata": {
        "id": "dLK5aYCoCreJ"
      },
      "execution_count": null,
      "outputs": []
    },
    {
      "cell_type": "code",
      "source": [
        "vir_Malum12.part_cover"
      ],
      "metadata": {
        "id": "GKDQ95dmEH7X"
      },
      "execution_count": null,
      "outputs": []
    },
    {
      "cell_type": "code",
      "source": [
        "vir_Wyrm38 = vir_Dread60.replicate(cell_8736)"
      ],
      "metadata": {
        "id": "JXkC7rc1ETXy"
      },
      "execution_count": 125,
      "outputs": []
    },
    {
      "cell_type": "code",
      "source": [
        "vir_Wyrm38.part_core"
      ],
      "metadata": {
        "id": "qcCfnM6jGy38"
      },
      "execution_count": null,
      "outputs": []
    }
  ]
}