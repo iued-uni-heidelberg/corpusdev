{
  "nbformat": 4,
  "nbformat_minor": 0,
  "metadata": {
    "colab": {
      "provenance": [],
      "authorship_tag": "ABX9TyMKqLZa3ZIU/79GsHrExFD1",
      "include_colab_link": true
    },
    "kernelspec": {
      "name": "python3",
      "display_name": "Python 3"
    },
    "language_info": {
      "name": "python"
    }
  },
  "cells": [
    {
      "cell_type": "markdown",
      "metadata": {
        "id": "view-in-github",
        "colab_type": "text"
      },
      "source": [
        "<a href=\"https://colab.research.google.com/github/iued-uni-heidelberg/corpusdev/blob/main/logicalReasoningV01.ipynb\" target=\"_parent\"><img src=\"https://colab.research.google.com/assets/colab-badge.svg\" alt=\"Open In Colab\"/></a>"
      ]
    },
    {
      "cell_type": "markdown",
      "source": [
        "# Logical reasoning\n",
        "### beliefs of Ancient Greek society"
      ],
      "metadata": {
        "id": "I8Hp8iNHo1uk"
      }
    },
    {
      "cell_type": "markdown",
      "source": [
        "#### Classes of objects in the world"
      ],
      "metadata": {
        "id": "cwHF8NOyxmQg"
      }
    },
    {
      "cell_type": "code",
      "execution_count": 2,
      "metadata": {
        "id": "i2sC_hLhUdB3"
      },
      "outputs": [],
      "source": [
        "# Beings and Things exist; Being is animate; Things is not animate;\n",
        "class Being(object):\n",
        "    exists = True\n",
        "    animate = True\n",
        "\n",
        "class Thing(object):\n",
        "    exists = True\n",
        "    animate = False\n",
        "\n",
        "# An animal is a being, which is mortal; a human is an animal, which has 4 limbs and 2 legs, but no feathers\n",
        "class Animal(Being):\n",
        "    mortal = True\n",
        "\n",
        "class Human(Animal):\n",
        "    limbs = 4\n",
        "    bipedal = True\n",
        "    has_feathers = False\n",
        "\n",
        "class Chicken(Animal):\n",
        "    limbs = 4\n",
        "    bipedal = True\n",
        "    has_feathers = True\n",
        "\n",
        "# A deity is an immortal being\n",
        "class Deity(Being):\n",
        "    mortal = False\n",
        "\n",
        "def is_it(being, prop):\n",
        "    if hasattr(being, prop):\n",
        "        return getattr(being, prop)\n",
        "    else:\n",
        "        print(f'The property {prop} is not defined for this being.')\n",
        "        return None\n",
        "\n",
        "\n"
      ]
    },
    {
      "cell_type": "markdown",
      "source": [
        "#### 'instances' for the classes: \n",
        "Socrates is human, Zeus is a Deity..."
      ],
      "metadata": {
        "id": "MO2yxhkOxzTU"
      }
    },
    {
      "cell_type": "code",
      "source": [
        "socrates = Human()"
      ],
      "metadata": {
        "id": "J14hIdq4X0sz"
      },
      "execution_count": 12,
      "outputs": []
    },
    {
      "cell_type": "code",
      "source": [
        "is_it(socrates, \"exists\")"
      ],
      "metadata": {
        "id": "C82Dco8zX2S7",
        "outputId": "282d1c32-9013-474b-dfe4-9e0c9485e7a4",
        "colab": {
          "base_uri": "https://localhost:8080/"
        }
      },
      "execution_count": 13,
      "outputs": [
        {
          "output_type": "execute_result",
          "data": {
            "text/plain": [
              "True"
            ]
          },
          "metadata": {},
          "execution_count": 13
        }
      ]
    },
    {
      "cell_type": "code",
      "source": [
        "is_it(socrates, \"mortal\")"
      ],
      "metadata": {
        "id": "6ofUGHGQXU3Z",
        "outputId": "1f846e26-712b-4401-f645-399e8fa0055d",
        "colab": {
          "base_uri": "https://localhost:8080/"
        }
      },
      "execution_count": 14,
      "outputs": [
        {
          "output_type": "execute_result",
          "data": {
            "text/plain": [
              "True"
            ]
          },
          "metadata": {},
          "execution_count": 14
        }
      ]
    },
    {
      "cell_type": "code",
      "source": [
        "is_it(socrates, \"has_feathers\")"
      ],
      "metadata": {
        "colab": {
          "base_uri": "https://localhost:8080/"
        },
        "id": "GPmZK2-YEW8I",
        "outputId": "980b4fa7-e611-4f57-c579-2e27f91e96ec"
      },
      "execution_count": 15,
      "outputs": [
        {
          "output_type": "execute_result",
          "data": {
            "text/plain": [
              "False"
            ]
          },
          "metadata": {},
          "execution_count": 15
        }
      ]
    },
    {
      "cell_type": "code",
      "source": [
        "zeus = Deity()"
      ],
      "metadata": {
        "id": "8IFMIdHEX__Y"
      },
      "execution_count": 16,
      "outputs": []
    },
    {
      "cell_type": "code",
      "source": [
        "is_it(zeus, \"exists\")"
      ],
      "metadata": {
        "id": "mqHgtTHrYCXz",
        "outputId": "be3811c7-2964-4a93-f80b-4d0cb0b77d16",
        "colab": {
          "base_uri": "https://localhost:8080/"
        }
      },
      "execution_count": 17,
      "outputs": [
        {
          "output_type": "execute_result",
          "data": {
            "text/plain": [
              "True"
            ]
          },
          "metadata": {},
          "execution_count": 17
        }
      ]
    },
    {
      "cell_type": "code",
      "source": [
        "is_it(zeus, \"mortal\")"
      ],
      "metadata": {
        "colab": {
          "base_uri": "https://localhost:8080/"
        },
        "id": "ek2GPrTxVJCP",
        "outputId": "81568f7e-cdfa-4411-9067-ab881f879fb9"
      },
      "execution_count": 18,
      "outputs": [
        {
          "output_type": "execute_result",
          "data": {
            "text/plain": [
              "False"
            ]
          },
          "metadata": {},
          "execution_count": 18
        }
      ]
    },
    {
      "cell_type": "code",
      "source": [
        "hen_solo = Chicken()\n",
        "cluck_vader =  Chicken()"
      ],
      "metadata": {
        "id": "U1V4DrKe-A53"
      },
      "execution_count": 19,
      "outputs": []
    },
    {
      "cell_type": "code",
      "source": [
        "is_it(hen_solo, \"mortal\")"
      ],
      "metadata": {
        "colab": {
          "base_uri": "https://localhost:8080/"
        },
        "id": "kSh8rlGA-J-r",
        "outputId": "c38cf5fe-49bd-4b50-d55f-800285512dbe"
      },
      "execution_count": 20,
      "outputs": [
        {
          "output_type": "execute_result",
          "data": {
            "text/plain": [
              "True"
            ]
          },
          "metadata": {},
          "execution_count": 20
        }
      ]
    },
    {
      "cell_type": "code",
      "source": [
        "is_it(hen_solo, \"has_feathers\")"
      ],
      "metadata": {
        "colab": {
          "base_uri": "https://localhost:8080/"
        },
        "id": "U_TR92LM-UjU",
        "outputId": "24d6a3c1-c698-48bf-e6a3-253b0a3b55d5"
      },
      "execution_count": 21,
      "outputs": [
        {
          "output_type": "execute_result",
          "data": {
            "text/plain": [
              "True"
            ]
          },
          "metadata": {},
          "execution_count": 21
        }
      ]
    },
    {
      "cell_type": "code",
      "source": [
        "is_it(cluck_vader, \"animate\")"
      ],
      "metadata": {
        "colab": {
          "base_uri": "https://localhost:8080/"
        },
        "id": "suy9WqP6-YCO",
        "outputId": "02d0a476-6c0f-4e92-bd20-60ac41d3ba12"
      },
      "execution_count": 22,
      "outputs": [
        {
          "output_type": "execute_result",
          "data": {
            "text/plain": [
              "True"
            ]
          },
          "metadata": {},
          "execution_count": 22
        }
      ]
    },
    {
      "cell_type": "code",
      "source": [
        "is_it(cluck_vader, \"bipedal\")"
      ],
      "metadata": {
        "colab": {
          "base_uri": "https://localhost:8080/"
        },
        "id": "gxJZ6DWx-8jv",
        "outputId": "5c0032b3-3bb8-467a-a260-5225c5c7857f"
      },
      "execution_count": 23,
      "outputs": [
        {
          "output_type": "execute_result",
          "data": {
            "text/plain": [
              "True"
            ]
          },
          "metadata": {},
          "execution_count": 23
        }
      ]
    },
    {
      "cell_type": "code",
      "source": [
        "hen_solo.limbs"
      ],
      "metadata": {
        "colab": {
          "base_uri": "https://localhost:8080/"
        },
        "id": "7dfdxncOFk6F",
        "outputId": "006e4d70-68f0-471c-958c-2ca1d144a784"
      },
      "execution_count": 26,
      "outputs": [
        {
          "output_type": "execute_result",
          "data": {
            "text/plain": [
              "4"
            ]
          },
          "metadata": {},
          "execution_count": 26
        }
      ]
    },
    {
      "cell_type": "code",
      "source": [
        "socrates.limbs"
      ],
      "metadata": {
        "colab": {
          "base_uri": "https://localhost:8080/"
        },
        "id": "Pev4ki-vV2Ie",
        "outputId": "eda3919f-fbac-48e3-9a74-242160727669"
      },
      "execution_count": 25,
      "outputs": [
        {
          "output_type": "execute_result",
          "data": {
            "text/plain": [
              "4"
            ]
          },
          "metadata": {},
          "execution_count": 25
        }
      ]
    },
    {
      "cell_type": "markdown",
      "source": [
        "#### Definition of a 'virus'"
      ],
      "metadata": {
        "id": "3roInD93YTpL"
      }
    },
    {
      "cell_type": "code",
      "source": [
        "class Cell(Thing):\n",
        "    is_part_of = \"organism\"\n",
        "    size = 'less_then_100_micrometer'\n",
        "\n",
        "class Virus(Thing):\n",
        "    size = 'less_then_1_micrometer'\n",
        "    part_core = 'RNA|DNA'\n",
        "    part_cover = 'protein'\n",
        "\n",
        "    def replicate(self, infected_host_cell: Cell):\n",
        "        newVirusCopy = self._copy()\n",
        "        del infected_host_cell\n",
        "        return newVirusCopy\n",
        "\n",
        "class Covid_Virus(Virus):\n",
        "    part_core = 'RNA'\n",
        "    protein_shape = 'spikes'"
      ],
      "metadata": {
        "id": "sGbH5Ik5Ye6H"
      },
      "execution_count": 3,
      "outputs": []
    },
    {
      "cell_type": "code",
      "source": [
        "vir_6070575185240377 = Covid_Virus()"
      ],
      "metadata": {
        "id": "2pNORknKqils"
      },
      "execution_count": 4,
      "outputs": []
    },
    {
      "cell_type": "code",
      "source": [
        "is_it(vir_6070575185240377, \"part_core\")"
      ],
      "metadata": {
        "colab": {
          "base_uri": "https://localhost:8080/",
          "height": 36
        },
        "id": "PTU7Zu2B8_ny",
        "outputId": "92a40f21-f3c5-4f34-dc33-d4787412f108"
      },
      "execution_count": 5,
      "outputs": [
        {
          "output_type": "execute_result",
          "data": {
            "text/plain": [
              "'RNA'"
            ],
            "application/vnd.google.colaboratory.intrinsic+json": {
              "type": "string"
            }
          },
          "metadata": {},
          "execution_count": 5
        }
      ]
    },
    {
      "cell_type": "code",
      "source": [
        "is_it(vir_6070575185240377, \"part_cover\")"
      ],
      "metadata": {
        "colab": {
          "base_uri": "https://localhost:8080/",
          "height": 36
        },
        "id": "s_MIMn__9JnJ",
        "outputId": "6b85dcab-812d-43d7-8fb2-f16db66ba9de"
      },
      "execution_count": 6,
      "outputs": [
        {
          "output_type": "execute_result",
          "data": {
            "text/plain": [
              "'protein'"
            ],
            "application/vnd.google.colaboratory.intrinsic+json": {
              "type": "string"
            }
          },
          "metadata": {},
          "execution_count": 6
        }
      ]
    },
    {
      "cell_type": "code",
      "source": [
        "is_it(vir_6070575185240377, \"animate\")"
      ],
      "metadata": {
        "colab": {
          "base_uri": "https://localhost:8080/"
        },
        "id": "I5dlVV5r9SgR",
        "outputId": "35545de4-131f-4c3c-e5da-e6cc824345bb"
      },
      "execution_count": 7,
      "outputs": [
        {
          "output_type": "execute_result",
          "data": {
            "text/plain": [
              "False"
            ]
          },
          "metadata": {},
          "execution_count": 7
        }
      ]
    },
    {
      "cell_type": "code",
      "source": [
        "cell_8844345985521221 = Cell()"
      ],
      "metadata": {
        "id": "gujgUn0m9wxf"
      },
      "execution_count": 8,
      "outputs": []
    },
    {
      "cell_type": "code",
      "source": [
        "cell_8844345985521221.size"
      ],
      "metadata": {
        "colab": {
          "base_uri": "https://localhost:8080/",
          "height": 36
        },
        "id": "xSOul_pu-JW0",
        "outputId": "6f97bfd6-908c-44f0-afb1-f42dcff28716"
      },
      "execution_count": 10,
      "outputs": [
        {
          "output_type": "execute_result",
          "data": {
            "text/plain": [
              "'less_then_100_micrometer'"
            ],
            "application/vnd.google.colaboratory.intrinsic+json": {
              "type": "string"
            }
          },
          "metadata": {},
          "execution_count": 10
        }
      ]
    }
  ]
}