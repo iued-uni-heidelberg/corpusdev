{
  "nbformat": 4,
  "nbformat_minor": 0,
  "metadata": {
    "colab": {
      "provenance": [],
      "mount_file_id": "1sJJKVDKfgG2JPA8oqArR_SW9ITYei3Ev",
      "authorship_tag": "ABX9TyOP6ZPVi4PcpUflxOyUwa7B",
      "include_colab_link": true
    },
    "kernelspec": {
      "name": "python3",
      "display_name": "Python 3"
    },
    "language_info": {
      "name": "python"
    }
  },
  "cells": [
    {
      "cell_type": "markdown",
      "metadata": {
        "id": "view-in-github",
        "colab_type": "text"
      },
      "source": [
        "<a href=\"https://colab.research.google.com/github/iued-uni-heidelberg/corpusdev/blob/main/nlpModelsTestV01.ipynb\" target=\"_parent\"><img src=\"https://colab.research.google.com/assets/colab-badge.svg\" alt=\"Open In Colab\"/></a>"
      ]
    },
    {
      "cell_type": "code",
      "source": [
        "\n",
        "%cd /content/drive/MyDrive"
      ],
      "metadata": {
        "colab": {
          "base_uri": "https://localhost:8080/"
        },
        "id": "m42WPVTiOE8V",
        "outputId": "e27c6cfb-ba01-4316-cf38-3f4a1cb7e4da"
      },
      "execution_count": 5,
      "outputs": [
        {
          "output_type": "stream",
          "name": "stdout",
          "text": [
            "/content/drive/MyDrive\n"
          ]
        }
      ]
    },
    {
      "cell_type": "code",
      "source": [
        "!pwd"
      ],
      "metadata": {
        "colab": {
          "base_uri": "https://localhost:8080/"
        },
        "id": "uzg_88m_ONWe",
        "outputId": "c53a51b0-5204-4deb-aa4b-4d1635e96e45"
      },
      "execution_count": 6,
      "outputs": [
        {
          "output_type": "stream",
          "name": "stdout",
          "text": [
            "/content/drive/MyDrive\n"
          ]
        }
      ]
    },
    {
      "cell_type": "code",
      "execution_count": 7,
      "metadata": {
        "colab": {
          "base_uri": "https://localhost:8080/"
        },
        "id": "DVI5s0J2NA9w",
        "outputId": "d72299b3-2590-47ff-edd9-332bb6a771d3"
      },
      "outputs": [
        {
          "output_type": "stream",
          "name": "stdout",
          "text": [
            "Cloning into 'NLP-Models-Tensorflow'...\n",
            "remote: Enumerating objects: 2117, done.\u001b[K\n",
            "remote: Counting objects: 100% (201/201), done.\u001b[K\n",
            "remote: Compressing objects: 100% (63/63), done.\u001b[K\n",
            "remote: Total 2117 (delta 138), reused 174 (delta 135), pack-reused 1916\u001b[K\n",
            "Receiving objects: 100% (2117/2117), 47.15 MiB | 12.80 MiB/s, done.\n",
            "Resolving deltas: 100% (1432/1432), done.\n",
            "Updating files: 100% (488/488), done.\n"
          ]
        }
      ],
      "source": [
        "!git clone https://github.com/huseinzol05/NLP-Models-Tensorflow.git"
      ]
    }
  ]
}