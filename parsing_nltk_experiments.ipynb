{
  "nbformat": 4,
  "nbformat_minor": 0,
  "metadata": {
    "colab": {
      "provenance": [],
      "authorship_tag": "ABX9TyOVZxv8s5cKM5OPhgWOQiUR",
      "include_colab_link": true
    },
    "kernelspec": {
      "name": "python3",
      "display_name": "Python 3"
    },
    "language_info": {
      "name": "python"
    }
  },
  "cells": [
    {
      "cell_type": "markdown",
      "metadata": {
        "id": "view-in-github",
        "colab_type": "text"
      },
      "source": [
        "<a href=\"https://colab.research.google.com/github/iued-uni-heidelberg/corpusdev/blob/main/parsing_nltk_experiments.ipynb\" target=\"_parent\"><img src=\"https://colab.research.google.com/assets/colab-badge.svg\" alt=\"Open In Colab\"/></a>"
      ]
    },
    {
      "cell_type": "code",
      "execution_count": 9,
      "metadata": {
        "colab": {
          "base_uri": "https://localhost:8080/"
        },
        "id": "84nYHI2w8Eih",
        "outputId": "2060fc9a-d3d5-478b-a9ad-db9012da4972"
      },
      "outputs": [
        {
          "output_type": "stream",
          "name": "stdout",
          "text": [
            "[0:1] 'money'\n",
            "[1:2] 'market'\n",
            "[2:3] 'fund'\n",
            "[0:1] NN -> 'money' *\n",
            "[0:1] S  -> NN * NP\n",
            "[0:1] NP -> NN * NN\n",
            "[0:1] NP -> NN *\n",
            "[0:1] S  -> NP *\n",
            "[0:1] S  -> NP * NN\n",
            "[0:1] S  -> NP * VP\n",
            "[1:2] NN -> 'market' *\n",
            "[1:2] VT -> 'market' *\n",
            "[1:2] VP -> VT * NP\n",
            "[1:2] S  -> NN * NP\n",
            "[1:2] NP -> NN * NN\n",
            "[1:2] NP -> NN *\n",
            "[0:2] NP -> NN NN *\n",
            "[0:2] S  -> NP NN *\n",
            "[0:2] S  -> NP *\n",
            "[0:2] S  -> NP * NN\n",
            "[0:2] S  -> NP * VP\n",
            "[1:2] S  -> NP *\n",
            "[1:2] S  -> NP * NN\n",
            "[1:2] S  -> NP * VP\n",
            "[0:2] S  -> NN NP *\n",
            "[2:3] NN -> 'fund' *\n",
            "[2:3] VT -> 'fund' *\n",
            "[2:3] VP -> VT * NP\n",
            "[2:3] S  -> NN * NP\n",
            "[2:3] NP -> NN * NN\n",
            "[2:3] NP -> NN *\n",
            "[1:3] NP -> NN NN *\n",
            "[0:3] S  -> NP NN *\n",
            "[1:3] S  -> NP NN *\n",
            "[1:3] S  -> NP *\n",
            "[1:3] S  -> NP * NN\n",
            "[1:3] S  -> NP * VP\n",
            "[0:3] S  -> NN NP *\n",
            "[2:3] S  -> NP *\n",
            "[2:3] S  -> NP * NN\n",
            "[2:3] S  -> NP * VP\n",
            "[1:3] VP -> VT NP *\n",
            "[1:3] S  -> NN NP *\n",
            "[0:3] S  -> NP VP *\n",
            "(S (NP (NN money) (NN market)) (NN fund))\n",
            "(S (NN money) (NP (NN market) (NN fund)))\n",
            "(S (NP (NN money)) (VP (VT market) (NP (NN fund))))\n"
          ]
        }
      ],
      "source": [
        "import nltk\n",
        "# Define the cfg grammar.\n",
        "# CFG.fromstring\n",
        "# https://stackoverflow.com/questions/26415163/python-nltk-cant-import-parse-cfg\n",
        "# \n",
        "'''\n",
        "We updated the API for NLTK 3. Please read the docs\n",
        "\n",
        "The way to access the old nltk.parse_cfg() is using CFG.fromstring()\n",
        "\n",
        "Example from http://www.nltk.org/howto/grammar.html:\n",
        "\n",
        ">>> from nltk import CFG\n",
        ">>> grammar = CFG.fromstring(\"\"\"\n",
        "... S -> NP VP\n",
        "... PP -> P NP\n",
        "... NP -> Det N | NP PP\n",
        "... VP -> V NP | VP PP\n",
        "... Det -> 'a' | 'the'\n",
        "... N -> 'dog' | 'cat'\n",
        "... V -> 'chased' | 'sat'\n",
        "... P -> 'on' | 'in'\n",
        "... \"\"\")\n",
        ">>> grammar\n",
        "<Grammar with 14 productions>\n",
        ">>> grammar.start()\n",
        "S\n",
        ">>> grammar.productions() \n",
        "[S -> NP VP, PP -> P NP, NP -> Det N, NP -> NP PP, VP -> V NP, VP -> VP PP,\n",
        "Det -> 'a', Det -> 'the', N -> 'dog', N -> 'cat', V -> 'chased', V -> 'sat',\n",
        "P -> 'on', P -> 'in']\n",
        "\n",
        "'''\n",
        "grammar = nltk.CFG.fromstring(\"\"\"\n",
        "S -> NP\n",
        "S -> NN NP\n",
        "S -> NP NN\n",
        "S -> NP VP\n",
        "NP -> NN NN\n",
        "NP -> NN\n",
        "NN -> 'market'\n",
        "NN -> 'money'\n",
        "NN -> 'fund'\n",
        "VP -> VT NP\n",
        "VT -> 'fund'\n",
        "VT -> 'market'\n",
        "\"\"\")\n",
        "\n",
        "# Make your string into a list of tokens.\n",
        "sentence = \"money market fund\".split(\" \")\n",
        "\n",
        "# Load the grammar into the ChartParser.\n",
        "# cp = nltk.ChartParser(grammar)\n",
        "cp = nltk.parse.chart.ChartParser(grammar)\n",
        "\n",
        "\n",
        "\n",
        "# Generate and print the nbest_parse from the grammar given the sentence tokens.\n",
        "for tree in cp.chart_parse(sentence): print(tree)\n",
        "\n",
        "for tree in cp.parse(sentence): print(tree)"
      ]
    }
  ]
}