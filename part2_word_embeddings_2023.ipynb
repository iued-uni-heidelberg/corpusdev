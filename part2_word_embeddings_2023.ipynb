{
  "nbformat": 4,
  "nbformat_minor": 0,
  "metadata": {
    "language_info": {
      "codemirror_mode": {
        "name": "ipython",
        "version": 3
      },
      "file_extension": ".py",
      "mimetype": "text/x-python",
      "name": "python",
      "nbconvert_exporter": "python",
      "pygments_lexer": "ipython3",
      "version": "3.8.3"
    },
    "orig_nbformat": 4,
    "kernelspec": {
      "name": "python3",
      "display_name": "Python 3.8.3 64-bit"
    },
    "interpreter": {
      "hash": "aee8b7b246df8f9039afb4144a1f6fd8d2ca17a180786b69acc140d282b71a49"
    },
    "colab": {
      "provenance": [],
      "include_colab_link": true
    }
  },
  "cells": [
    {
      "cell_type": "markdown",
      "metadata": {
        "id": "view-in-github",
        "colab_type": "text"
      },
      "source": [
        "<a href=\"https://colab.research.google.com/github/iued-uni-heidelberg/corpusdev/blob/main/part2_word_embeddings_2023.ipynb\" target=\"_parent\"><img src=\"https://colab.research.google.com/assets/colab-badge.svg\" alt=\"Open In Colab\"/></a>"
      ]
    },
    {
      "cell_type": "markdown",
      "metadata": {
        "id": "_EgfQqiHOxPl"
      },
      "source": [
        "# Word Embeddings\n",
        "\n",
        "Word vectors (also known as 'word embeddings') are one of the most popular kinds of AI models. They are extremely useful in many domains. In essence, a word vector is a set of numbers that attempt to capture the meaning of a word. In typical implementations, each word is represented by a set of 200-300 numbers. In linear algebra, a one-dimensional array of numbers is known as a 'vector', hence these sets of numbers representing words' meanings are known as 'word vectors'.\n",
        "\n",
        "Using neural networks, we can expose the computer to a large amount of text, and allow it to learn an appropriate set of numbers for each word it encounters. In this notebook, we will learn about the most famous of all word vector algorithms, `word2vec`, which was first described by Tomas Mikolov and his team in 2013:\n",
        "\n",
        "* Tomas Mikolov, Ilya Sutskever, and others, ‘Distributed Representations of Words and Phrases and Their Compositionality’, in Advances in Neural Information Processing Systems 26, ed. by C. J. C. Burges and others (Curran Associates, Inc., 2013), pp. 3111–19 <http://papers.nips.cc/paper/5021-distributed-representations-of-words-and-phrases-and-their-compositionality.pdf>\n",
        "* Tomas Mikolov, Kai Chen, and others, ‘Efficient Estimation of Word Representations in Vector Space’, ArXiv:1301.3781 Cs, 2013 <http://arxiv.org/abs/1301.3781>.\n",
        "\n",
        "In fact, `word2vec` is not a single algorithm, but rather a family of similar algorithms. In this session we will consider just the most famous `word2vec` algorithm, namely the `skip-gram model` trained using `negative sampling`."
      ]
    },
    {
      "cell_type": "markdown",
      "metadata": {
        "id": "4QA7l66zOxPo"
      },
      "source": [
        "## Applications of Word Vectors\n",
        "\n",
        "Word vectors allow the computer to 'understand' language far more effectively. Rather than seeing each word as simply an arbitrarily different object, a computer using word vectors can analyse each word as a point in 200- or 300-dimenstional space. Words that are similar in meaning will have similar word vectors. And as we will see, the spaces between the word vectors are also significant: the words are arranged in patterns that represent their relationships to one another.\n",
        "\n",
        "Accordingly, most AI systems that process language now include a word vector layer as part of their architecure. When the system encounters some text (e.g. when you speak to Siri or Alexa), your words are converted into word vectors, *and then* the computer examines what the text says and determines how it should respond.\n",
        "\n",
        "In the Humanities, word vectors have become a popular modelling tool, because they allow researchers to perform sophisticated analysis on large corpora of text. Some examples include:\n",
        "\n",
        "* [The Women Writers Vector Toolkit](https://wwp.northeastern.edu/lab/wwvt/index.html)\n",
        "* William L. Hamilton, Jure Leskovec, and Dan Jurafsky, ‘Diachronic Word Embeddings Reveal Statistical Laws of Semantic Change’, ArXiv:1605.09096 [Cs], 2018 <http://arxiv.org/abs/1605.09096>.\n",
        "* Ryan Heuser, 'Semantic Networks' <https://ryanheuser.org/word-vectors-4/>"
      ]
    },
    {
      "cell_type": "markdown",
      "metadata": {
        "id": "DeYJfdD2OxPp"
      },
      "source": [
        "## Training a `word2vec` model in Gensim\n",
        "\n",
        "It is very easy to train a `word2vec` model in Gensim, which includes Mikolov's original `word2vec` code in its codebase."
      ]
    },
    {
      "cell_type": "code",
      "metadata": {
        "id": "qOIoS-cdOxPp",
        "colab": {
          "base_uri": "https://localhost:8080/"
        },
        "outputId": "c8455813-9e09-4bab-951d-0ec67dac5d96"
      },
      "source": [
        "from gensim.models import Word2Vec # The word2vec model class\n",
        "import gensim.downloader as api # Allows us to download some free training data\n",
        "corpus = api.load('text8')"
      ],
      "execution_count": null,
      "outputs": [
        {
          "output_type": "stream",
          "text": [
            "[==================================================] 100.0% 31.6/31.6MB downloaded\n"
          ],
          "name": "stdout"
        }
      ]
    },
    {
      "cell_type": "markdown",
      "metadata": {
        "id": "peH5vJPGOxPq"
      },
      "source": [
        "### Step 1: Set hyperparameters and instantiate model"
      ]
    },
    {
      "cell_type": "code",
      "metadata": {
        "id": "gnfABCDdOxPq"
      },
      "source": [
        "vector_size = 100 # Dimensionality of the word vectors\n",
        "window = 5 # How many words either side? (5 = 5 context words either side, i.e. 10 context words in total)\n",
        "use_skip_gram = 1 # If you set this to 0, then it will create a 'continuous bag of words' model instead\n",
        "use_softmax = 0 # If you set this to 1, then hierarchical softmax will be used instead of negative sampling\n",
        "negative_samples = 5 # How many incorrect answers to generate per correct answer when negative sampling\n",
        "\n",
        "model = Word2Vec(\n",
        "    size=vector_size,\n",
        "    window=window,\n",
        "    sg=use_skip_gram,\n",
        "    hs=use_softmax,\n",
        "    negative=negative_samples\n",
        ")"
      ],
      "execution_count": null,
      "outputs": []
    },
    {
      "cell_type": "markdown",
      "metadata": {
        "id": "sxQGwnWcOxPr"
      },
      "source": [
        "### Step 2: Fit model to corpus"
      ]
    },
    {
      "cell_type": "code",
      "metadata": {
        "id": "yK_2f9RUOxPr"
      },
      "source": [
        "# Examine the corpus to see what words are there\n",
        "model.build_vocab(corpus)"
      ],
      "execution_count": null,
      "outputs": []
    },
    {
      "cell_type": "code",
      "metadata": {
        "id": "KuXNveCtOxPr",
        "colab": {
          "base_uri": "https://localhost:8080/"
        },
        "outputId": "0b320ec5-6900-4c4e-d624-06d0ad12eee3"
      },
      "source": [
        "# Train the model on the corpus\n",
        "model.train(sentences=corpus, epochs=5, total_examples=model.corpus_count)"
      ],
      "execution_count": null,
      "outputs": [
        {
          "output_type": "execute_result",
          "data": {
            "text/plain": [
              "(62530850, 85026035)"
            ]
          },
          "metadata": {
            "tags": []
          },
          "execution_count": 4
        }
      ]
    },
    {
      "cell_type": "markdown",
      "metadata": {
        "id": "41N3GN0KOxPs"
      },
      "source": [
        "### Step 3: Extract word vectors from model\n",
        "\n",
        "The fully trained model includes all of the weights used to predict the context words for each input word. If you are not planning on training the model further, these weights can be discarded, and you can just keep the weights for the word vectors."
      ]
    },
    {
      "cell_type": "code",
      "metadata": {
        "id": "i7IwT57fOxPs"
      },
      "source": [
        "word_vectors = model.wv\n",
        "del model # Delete the whole model to free up the computer's RAM"
      ],
      "execution_count": null,
      "outputs": []
    },
    {
      "cell_type": "markdown",
      "metadata": {
        "id": "zRHdtNuUOxPs"
      },
      "source": [
        "### Step 4: Have a play with the model\n",
        "\n",
        "There are several ways you can use word vectors. One of the most famous is to use them to compute analogies. The formula is:\n",
        "\n",
        "<center><em>x</em> is to <em>small</em> as <em>biggest</em> is to <em>big</em></center>\n",
        "\n",
        "$$x - vector('small') = vector('biggest') - vector('big')$$\n",
        "\n",
        "$$\\therefore x = vector('small') + vector('biggest') - vector('big')$$"
      ]
    },
    {
      "cell_type": "code",
      "metadata": {
        "id": "7tiafkIiOxPt",
        "colab": {
          "base_uri": "https://localhost:8080/"
        },
        "outputId": "836bdf00-3bcb-445d-e6d3-fa8c7b9b200a"
      },
      "source": [
        "# See the word vector for a particular word\n",
        "vector = word_vectors['banana']\n",
        "print(vector)"
      ],
      "execution_count": null,
      "outputs": [
        {
          "output_type": "stream",
          "text": [
            "[-0.4575846  -0.36716688 -0.10872658 -0.21889955  0.25638482 -0.14996698\n",
            "  0.18246208  0.25225583  0.02644717 -0.24655278  0.34035063 -0.318246\n",
            "  0.7390959   0.40849745 -0.34727016  0.22656852  0.37680158  0.48888493\n",
            " -0.07178298  0.40904784  0.01250779 -0.16346863 -0.15458956 -0.15122919\n",
            " -0.6433785  -0.2728812  -0.5969107   0.24984355  0.15045363  0.17283793\n",
            " -0.09449226 -0.54161614  0.02729732  0.05022503  0.15004028  0.06845097\n",
            "  0.51751316 -0.11517996 -0.18840648  0.00730193 -0.01583843  0.3357441\n",
            " -0.41197664 -0.4416001  -0.01115811 -0.1610835  -0.5742792  -0.18090692\n",
            "  0.19281356  0.13705288  0.10516934 -0.1138367  -0.20712517  0.13534665\n",
            "  0.02784452  0.06017467  0.38890505  0.22345537 -0.04865494 -0.3260357\n",
            " -0.4708401   0.31123695  0.05909282  0.04349829 -0.11098382  0.41017634\n",
            " -0.46012253  0.5491207   0.4180752  -0.48901603 -0.09793708  0.5421945\n",
            " -0.39862368  0.2742658  -0.18316081  0.01659089  0.1587305   0.13298509\n",
            " -0.2948529   0.26915812 -0.01627176 -0.43677875  0.30734083  0.42583272\n",
            " -0.00523877 -0.32494542 -0.65394     0.0137019   0.2760309   0.01242664\n",
            "  0.35448924 -0.28974706 -0.330636   -0.12499743  0.37553203 -0.28882036\n",
            " -0.09743757 -0.01996688  0.36250797 -0.484813  ]\n"
          ],
          "name": "stdout"
        }
      ]
    },
    {
      "cell_type": "code",
      "metadata": {
        "id": "PBrh2Z3uOxPt",
        "colab": {
          "base_uri": "https://localhost:8080/"
        },
        "outputId": "1012a64d-5768-4253-dc3a-43307f25df7b"
      },
      "source": [
        "# See which words are closest to a given word in the vector space\n",
        "similar_words = word_vectors.most_similar('meat', topn=10)\n",
        "print('\\n'.join([str(tup) for tup in similar_words]))"
      ],
      "execution_count": null,
      "outputs": [
        {
          "output_type": "stream",
          "text": [
            "('pork', 0.8414126634597778)\n",
            "('beef', 0.8283885717391968)\n",
            "('vegetable', 0.8166828751564026)\n",
            "('vegetables', 0.8162828683853149)\n",
            "('seafood', 0.7980449199676514)\n",
            "('fermented', 0.7941231727600098)\n",
            "('food', 0.7918480634689331)\n",
            "('dairy', 0.7830207347869873)\n",
            "('potatoes', 0.7828512191772461)\n",
            "('foods', 0.7787500619888306)\n"
          ],
          "name": "stdout"
        }
      ]
    },
    {
      "cell_type": "code",
      "metadata": {
        "id": "QKTku5-JOxPt",
        "colab": {
          "base_uri": "https://localhost:8080/"
        },
        "outputId": "dc29ef11-6e0b-49fd-ece0-41a2a957cbce"
      },
      "source": [
        "# Compute analogous words\n",
        "# E.g. x is to queen as man is to king => x = v('man') - v('king') + v('queen')\n",
        "analogous_words = word_vectors.most_similar(negative=['man'], positive=['king','woman'])\n",
        "print('\\n'.join([str(tup) for tup in analogous_words]))"
      ],
      "execution_count": null,
      "outputs": [
        {
          "output_type": "stream",
          "text": [
            "('daughter', 0.6701053977012634)\n",
            "('queen', 0.6525849103927612)\n",
            "('sigismund', 0.6496252417564392)\n",
            "('aquitaine', 0.6380801796913147)\n",
            "('theodora', 0.6337820291519165)\n",
            "('wenceslaus', 0.6315568089485168)\n",
            "('canute', 0.6301211714744568)\n",
            "('valois', 0.6279667615890503)\n",
            "('haakon', 0.6252117156982422)\n",
            "('consort', 0.6248591542243958)\n"
          ],
          "name": "stdout"
        }
      ]
    },
    {
      "cell_type": "code",
      "metadata": {
        "id": "VxwKYYTTjERJ",
        "colab": {
          "base_uri": "https://localhost:8080/"
        },
        "outputId": "7c015a08-12cb-406b-a436-8a60164f4291"
      },
      "source": [
        "analogous_words = word_vectors.most_similar(negative=['france'], positive=['portugal','paris'])\n",
        "print('\\n'.join([str(tup) for tup in analogous_words]))"
      ],
      "execution_count": null,
      "outputs": [
        {
          "output_type": "stream",
          "text": [
            "('lisbon', 0.7431507706642151)\n",
            "('bologna', 0.709744930267334)\n",
            "('coimbra', 0.7022449374198914)\n",
            "('madrid', 0.6928144693374634)\n",
            "('venice', 0.6815109252929688)\n",
            "('santiago', 0.6804172396659851)\n",
            "('boulogne', 0.6685593128204346)\n",
            "('seville', 0.6679376363754272)\n",
            "('marseille', 0.667903482913971)\n",
            "('bruges', 0.6669464707374573)\n"
          ],
          "name": "stdout"
        }
      ]
    },
    {
      "cell_type": "markdown",
      "metadata": {
        "id": "kExOLeNUOxPu"
      },
      "source": [
        "## Using pre-trained models in Gensim\n",
        "\n",
        "In many applications, you will simply want access to pre-trained word vectors (e.g. for plugging in to another model you are training). If you don't need the vectors to be tailored closely to your particular corpus, then you might like to use some pretrained models.\n",
        "\n",
        "`word2vec` is not the only word embedding family of algorithms. Another, arguably even more powerful algorithm is the `FastText` algorithm, which Mikolov developed after moving to Facebook:\n",
        "\n",
        "* Piotr Bojanowski and others, ‘Enriching Word Vectors with Subword Information’, ArXiv:1607.04606, 2017 <http://arxiv.org/abs/1607.04606>.\n",
        "\n",
        "Instead of computing word vectors for each word, FastText splits each word into its constituent chunks. For example, 'cat' would be split into 'c', 'a', 't', 'ca', 'at' and 'cat', and 'burp' would be split into 'b', 'u', 'r', 'p', 'bu', 'ur', 'rp', 'bur', 'urp' and 'burp'. Then a vector is computer for each chunk that appears in the corpus. Each word is represented as the mean of all the chunks that make it up. FastText is able to learn very good word vectors because it can extract meaning from subword units, e.g. it can see that 'television', 'telegraph' and 'telepathy' all have 'tele' at the front, and can see that 'formality', 'criminality' and 'paucity' share subword units such as 'al' and 'ity'.\n",
        "\n",
        "You can access many pretrained models using the Gensim downloader. Using the cells below, you can try out some of the different models available through Gensim. Along with `word2vec` and `FastText`, Gensim also supports `Glove` and `Doc2Vec` models.\n",
        "\n",
        "**NB:** These trained models are very large, and will take a while to download. You may wish to download this notebook and execute the cells below on your own machine, in case Google kicks you out of the Colab environment."
      ]
    },
    {
      "cell_type": "code",
      "metadata": {
        "id": "0uT9d2fLOxPv",
        "colab": {
          "base_uri": "https://localhost:8080/"
        },
        "outputId": "69b03ad1-cd85-412a-ddb5-4a2ccb27d0ee"
      },
      "source": [
        "# See what models are on offer\n",
        "print(list(api.info()['models'].keys()))"
      ],
      "execution_count": null,
      "outputs": [
        {
          "output_type": "stream",
          "text": [
            "['fasttext-wiki-news-subwords-300', 'conceptnet-numberbatch-17-06-300', 'word2vec-ruscorpora-300', 'word2vec-google-news-300', 'glove-wiki-gigaword-50', 'glove-wiki-gigaword-100', 'glove-wiki-gigaword-200', 'glove-wiki-gigaword-300', 'glove-twitter-25', 'glove-twitter-50', 'glove-twitter-100', 'glove-twitter-200', '__testing_word2vec-matrix-synopsis']\n"
          ],
          "name": "stdout"
        }
      ]
    },
    {
      "cell_type": "code",
      "metadata": {
        "id": "UtjRqIC8OxPv",
        "colab": {
          "base_uri": "https://localhost:8080/"
        },
        "outputId": "736e4da4-b9fe-4272-bebe-ce33587e3d3f"
      },
      "source": [
        "# 300-dimensional word vectors trained on a huge dataset from Google News\n",
        "# google_news_w2v = api.load('word2vec-google-news-300')\n",
        "\n",
        "# x is to Kenya as Canberra is to Australia\n",
        "google_news_w2v.most_similar(positive=['king','woman'],negative=['man'], topn=10)"
      ],
      "execution_count": null,
      "outputs": [
        {
          "output_type": "execute_result",
          "data": {
            "text/plain": [
              "[('queen', 0.7118192911148071),\n",
              " ('monarch', 0.6189674139022827),\n",
              " ('princess', 0.5902431011199951),\n",
              " ('crown_prince', 0.5499460697174072),\n",
              " ('prince', 0.5377321243286133),\n",
              " ('kings', 0.5236844420433044),\n",
              " ('Queen_Consort', 0.5235945582389832),\n",
              " ('queens', 0.518113374710083),\n",
              " ('sultan', 0.5098593235015869),\n",
              " ('monarchy', 0.5087411999702454)]"
            ]
          },
          "metadata": {
            "tags": []
          },
          "execution_count": 50
        }
      ]
    },
    {
      "cell_type": "code",
      "metadata": {
        "id": "I3UwEOa_OxPw"
      },
      "source": [
        "# Facebook's own FastText vectors, trained on Wikipedia\n",
        "wikipedia_fasttext = api.load('fasttext-wiki-news-subwords-300')\n",
        "\n",
        "# x is to Wharton as London is to Dickens\n",
        "wikipedia_fasttext.similar_words(postive=['dickens'],negative=['wharton','london'], topn=10)"
      ],
      "execution_count": null,
      "outputs": []
    }
  ]
}