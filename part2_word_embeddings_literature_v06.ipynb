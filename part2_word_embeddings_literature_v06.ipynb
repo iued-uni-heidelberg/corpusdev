{
  "nbformat": 4,
  "nbformat_minor": 0,
  "metadata": {
    "colab": {
      "provenance": [],
      "authorship_tag": "ABX9TyOBkquSUSOrtYJeCoidpZHY",
      "include_colab_link": true
    },
    "kernelspec": {
      "name": "python3",
      "display_name": "Python 3"
    },
    "language_info": {
      "name": "python"
    }
  },
  "cells": [
    {
      "cell_type": "markdown",
      "metadata": {
        "id": "view-in-github",
        "colab_type": "text"
      },
      "source": [
        "<a href=\"https://colab.research.google.com/github/iued-uni-heidelberg/corpusdev/blob/main/part2_word_embeddings_literature_v06.ipynb\" target=\"_parent\"><img src=\"https://colab.research.google.com/assets/colab-badge.svg\" alt=\"Open In Colab\"/></a>"
      ]
    },
    {
      "cell_type": "markdown",
      "source": [
        "# sentiment analysis lexicon"
      ],
      "metadata": {
        "id": "4zG5fAcxctF4"
      }
    },
    {
      "cell_type": "code",
      "execution_count": 1,
      "metadata": {
        "colab": {
          "base_uri": "https://localhost:8080/"
        },
        "id": "fezAal-lcinC",
        "outputId": "cf95e7ce-f2c7-4245-e4c4-3b4c570adfc1"
      },
      "outputs": [
        {
          "output_type": "stream",
          "name": "stdout",
          "text": [
            "--2023-06-21 06:06:40--  https://heibox.uni-heidelberg.de/f/3ed19e06c572439cbf6e/?dl=1\n",
            "Resolving heibox.uni-heidelberg.de (heibox.uni-heidelberg.de)... 129.206.7.113\n",
            "Connecting to heibox.uni-heidelberg.de (heibox.uni-heidelberg.de)|129.206.7.113|:443... connected.\n",
            "HTTP request sent, awaiting response... 302 Found\n",
            "Location: https://heibox.uni-heidelberg.de/seafhttp/files/df083764-f082-4c65-baf7-b2e9dfd9c8f7/lexicon-sentiment-joint-vader-pn-tw.txt [following]\n",
            "--2023-06-21 06:06:41--  https://heibox.uni-heidelberg.de/seafhttp/files/df083764-f082-4c65-baf7-b2e9dfd9c8f7/lexicon-sentiment-joint-vader-pn-tw.txt\n",
            "Reusing existing connection to heibox.uni-heidelberg.de:443.\n",
            "HTTP request sent, awaiting response... 200 OK\n",
            "Length: 2382092 (2.3M) [text/plain]\n",
            "Saving to: ‘index.html?dl=1’\n",
            "\n",
            "index.html?dl=1     100%[===================>]   2.27M  1.94MB/s    in 1.2s    \n",
            "\n",
            "2023-06-21 06:06:42 (1.94 MB/s) - ‘index.html?dl=1’ saved [2382092/2382092]\n",
            "\n"
          ]
        }
      ],
      "source": [
        "!wget https://heibox.uni-heidelberg.de/f/3ed19e06c572439cbf6e/?dl=1\n",
        "!mv index.html?dl=1 sentiment-lexicon.txt\n"
      ]
    },
    {
      "cell_type": "code",
      "source": [
        "def list2dict(SFIn):\n",
        "    DSent = {}\n",
        "    with open(SFIn, 'r') as FIn:\n",
        "        for SLine in FIn:\n",
        "            SLine = SLine.rstrip()\n",
        "            LLine = SLine.split('\\t')\n",
        "            try:\n",
        "                Word = LLine[0]\n",
        "                SSentiment = LLine[1]\n",
        "                ISentiment = float(SSentiment)\n",
        "            except:\n",
        "                Word = None\n",
        "                SSentiment = None\n",
        "                ISentiment = None\n",
        "                continue\n",
        "            if not Word: continue\n",
        "            try:\n",
        "                DSent[Word]+= ISentiment\n",
        "            except:\n",
        "                DSent[Word]= ISentiment\n",
        "    return DSent\n",
        "\n",
        "\n",
        "def printDict(DSent, SFOut):\n",
        "    FOut = open(SFOut, 'w')\n",
        "    for key, val in sorted(DSent.items(), key=lambda x: x[1], reverse = True):\n",
        "        FOut.write(f'{key}\\t{val}\\n')\n",
        "\n",
        "DSent = list2dict('sentiment-lexicon.txt')"
      ],
      "metadata": {
        "id": "rf2Kno_okE_Q"
      },
      "execution_count": 4,
      "outputs": []
    },
    {
      "cell_type": "code",
      "source": [
        "printDict(DSent, 'sentiment-lex.txt')"
      ],
      "metadata": {
        "id": "-tOAIVtekJoC"
      },
      "execution_count": 5,
      "outputs": []
    },
    {
      "cell_type": "code",
      "source": [
        "def evalSent(DSent, LSWords):\n",
        "    count = 0\n",
        "    ISentimentVal = 0\n",
        "    for el in LSWords:\n",
        "        count +=1\n",
        "        if el in DSent.keys():\n",
        "            IWordSentiment = DSent[el]\n",
        "            ISentimentVal += IWordSentiment\n",
        "    try:\n",
        "        ISentimentAverage = ISentimentVal / count\n",
        "\n",
        "    except:\n",
        "        ISentimentAverage = None\n",
        "\n",
        "    return ISentimentAverage\n",
        "\n",
        "\n",
        "ISenVal = evalSent(DSent, 'And water with the tyrant blood the freedom you have gained'.lower().split())\n",
        "print(f'{ISenVal}')\n",
        "\n",
        "ISenVal = evalSent(DSent, 'With softly spoken kindly word Remember also me'.lower().split())\n",
        "print(f'{ISenVal}')\n",
        "\n",
        "ISenVal = evalSent(DSent, 'When from Ukraine the Dnieper bears Into the deep blue sea The blood of foes'.lower().split())\n",
        "print(f'{ISenVal}')\n",
        "\n",
        "ISenVal = evalSent(DSent, 'Oh bury me then rise ye up And break your heavy chains'.lower().split())\n",
        "print(f'{ISenVal}')\n",
        "\n",
        "ISenVal = evalSent(DSent, ''.lower().split())\n",
        "print(f'{ISenVal}')"
      ],
      "metadata": {
        "colab": {
          "base_uri": "https://localhost:8080/"
        },
        "id": "e-aWXLypkR-a",
        "outputId": "548e8fd2-11a6-41e5-88af-b1ef823e593f"
      },
      "execution_count": 6,
      "outputs": [
        {
          "output_type": "stream",
          "name": "stdout",
          "text": [
            "0.15906317735560377\n",
            "0.4389615002882036\n",
            "-0.25374766074015015\n",
            "-0.11252432130087804\n",
            "None\n"
          ]
        }
      ]
    },
    {
      "cell_type": "code",
      "source": [
        "%%bash\n",
        "echo '' >text-for-analysis.txt\n",
        "\n",
        "echo 'Shall I compare thee to a summers day?' >>text-for-analysis.txt\n",
        "echo 'Thou art more lovely and more temperate' >>text-for-analysis.txt\n",
        "echo 'Rough winds do shake the darling buds of May,' >>text-for-analysis.txt\n",
        "echo 'And summers lease hath all too short a date' >>text-for-analysis.txt\n"
      ],
      "metadata": {
        "id": "gOSuPF-fkUoK"
      },
      "execution_count": 7,
      "outputs": []
    },
    {
      "cell_type": "code",
      "source": [
        "def fileSentimentAnalysis(SFIn, SFOut, DSentiment=DSent):\n",
        "    FOut = open(SFOut, 'w')\n",
        "    SumSentiment = 0\n",
        "    count = 0\n",
        "    with open(SFIn, 'r') as FIn:\n",
        "        for SLine in FIn:\n",
        "            count+=1\n",
        "            SLine = SLine.rstrip()\n",
        "            LLine = SLine.lower().split()\n",
        "            ISenVal = evalSent(DSent, LLine)\n",
        "            try:\n",
        "                SumSentiment = SumSentiment + ISenVal\n",
        "            except:\n",
        "                continue\n",
        "            SSenVal = str(ISenVal)\n",
        "            FOut.write(f'{SLine}\\t{SSenVal}\\n')\n",
        "        AveSentiment = SumSentiment / count\n",
        "        SASent = str(AveSentiment)\n",
        "        FOut.write(f'\\tAll poem sentiment:{SSenVal}\\n')\n",
        "    return AveSentiment\n"
      ],
      "metadata": {
        "id": "XHaKOtgslRkI"
      },
      "execution_count": 14,
      "outputs": []
    },
    {
      "cell_type": "code",
      "source": [
        "fileSentimentAnalysis('text-for-analysis.txt', 'text-for-analysis-results.txt', DSentiment=DSent)"
      ],
      "metadata": {
        "colab": {
          "base_uri": "https://localhost:8080/"
        },
        "id": "yJ2zdXO7mTJH",
        "outputId": "3a223434-8375-4b68-81c6-54b821ae428d"
      },
      "execution_count": 17,
      "outputs": [
        {
          "output_type": "execute_result",
          "data": {
            "text/plain": [
              "0.11175446520298504"
            ]
          },
          "metadata": {},
          "execution_count": 17
        }
      ]
    }
  ]
}