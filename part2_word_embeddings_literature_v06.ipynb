{
  "nbformat": 4,
  "nbformat_minor": 0,
  "metadata": {
    "colab": {
      "provenance": [],
      "authorship_tag": "ABX9TyMmPtaUvWtmoz8Zvh/L3F5l",
      "include_colab_link": true
    },
    "kernelspec": {
      "name": "python3",
      "display_name": "Python 3"
    },
    "language_info": {
      "name": "python"
    }
  },
  "cells": [
    {
      "cell_type": "markdown",
      "metadata": {
        "id": "view-in-github",
        "colab_type": "text"
      },
      "source": [
        "<a href=\"https://colab.research.google.com/github/iued-uni-heidelberg/corpusdev/blob/main/part2_word_embeddings_literature_v06.ipynb\" target=\"_parent\"><img src=\"https://colab.research.google.com/assets/colab-badge.svg\" alt=\"Open In Colab\"/></a>"
      ]
    },
    {
      "cell_type": "markdown",
      "source": [
        "# sentiment analysis lexicon"
      ],
      "metadata": {
        "id": "4zG5fAcxctF4"
      }
    },
    {
      "cell_type": "code",
      "execution_count": null,
      "metadata": {
        "id": "fezAal-lcinC"
      },
      "outputs": [],
      "source": [
        "!wget https://heibox.uni-heidelberg.de/f/3ed19e06c572439cbf6e/?dl=1\n",
        "!mv index.html?dl=1 sentiment-lexicon.txt\n"
      ]
    },
    {
      "cell_type": "code",
      "source": [
        "def list2dict(SFIn):\n",
        "    DSent = {}\n",
        "    with open(SFIn, 'r') as FIn:\n",
        "        for SLine in FIn:\n",
        "            SLine = SLine.rstrip()\n",
        "            LLine = SLine.split('\\t')\n",
        "            try:\n",
        "                Word = LLine[0]\n",
        "                SSentiment = LLine[1]\n",
        "                ISentiment = float(SSentiment)\n",
        "            except:\n",
        "                Word = None\n",
        "                SSentiment = None\n",
        "                ISentiment = None\n",
        "                continue\n",
        "            if not Word: continue\n",
        "            try:\n",
        "                DSent[Word]+= ISentiment\n",
        "            except:\n",
        "                DSent[Word]= ISentiment\n",
        "    return DSent\n",
        "\n",
        "\n",
        "def printDict(DSent, SFOut):\n",
        "    FOut = open(SFOut, 'w')\n",
        "    for key, val in sorted(DSent.items(), key=lambda x: x[1], reverse = True):\n",
        "        FOut.write(f'{key}\\t{val}\\n')\n",
        "\n",
        "DSent = list2dict('sentiment-lexicon.txt')"
      ],
      "metadata": {
        "id": "rf2Kno_okE_Q"
      },
      "execution_count": 2,
      "outputs": []
    },
    {
      "cell_type": "code",
      "source": [
        "printDict(DSent, 'sentiment-lex.txt')"
      ],
      "metadata": {
        "id": "-tOAIVtekJoC"
      },
      "execution_count": 3,
      "outputs": []
    },
    {
      "cell_type": "code",
      "source": [
        "def evalSent(DSent, LSWords):\n",
        "    count = 0\n",
        "    ISentimentVal = 0\n",
        "    for el in LSWords:\n",
        "        count +=1\n",
        "        if el in DSent.keys():\n",
        "            IWordSentiment = DSent[el]\n",
        "            ISentimentVal += IWordSentiment\n",
        "    try:\n",
        "        ISentimentAverage = ISentimentVal / count\n",
        "\n",
        "    except:\n",
        "        ISentimentAverage = None\n",
        "\n",
        "    return ISentimentAverage\n",
        "\n",
        "\n",
        "ISenVal = evalSent(DSent, 'And water with the tyrant blood the freedom you have gained'.lower().split())\n",
        "print(f'{ISenVal}')\n",
        "\n",
        "ISenVal = evalSent(DSent, 'With softly spoken kindly word Remember also me'.lower().split())\n",
        "print(f'{ISenVal}')\n",
        "\n",
        "ISenVal = evalSent(DSent, 'When from Ukraine the Dnieper bears Into the deep blue sea The blood of foes'.lower().split())\n",
        "print(f'{ISenVal}')\n",
        "\n",
        "ISenVal = evalSent(DSent, 'Oh bury me then rise ye up And break your heavy chains'.lower().split())\n",
        "print(f'{ISenVal}')\n",
        "\n",
        "ISenVal = evalSent(DSent, ''.lower().split())\n",
        "print(f'{ISenVal}')"
      ],
      "metadata": {
        "colab": {
          "base_uri": "https://localhost:8080/"
        },
        "id": "e-aWXLypkR-a",
        "outputId": "319dd07a-c10c-4be4-e941-550d889e4149"
      },
      "execution_count": 4,
      "outputs": [
        {
          "output_type": "stream",
          "name": "stdout",
          "text": [
            "0.15906317735560377\n",
            "0.4389615002882036\n",
            "-0.25374766074015015\n",
            "-0.11252432130087804\n",
            "None\n"
          ]
        }
      ]
    },
    {
      "cell_type": "code",
      "source": [
        "%%bash\n",
        "echo '' >text-for-analysis.txt\n",
        "\n",
        "echo 'Shall I compare thee to a summers day?' >>text-for-analysis.txt\n",
        "echo 'Thou art more lovely and more temperate' >>text-for-analysis.txt\n",
        "echo 'Rough winds do shake the darling buds of May,' >>text-for-analysis.txt\n",
        "echo 'And summers lease hath all too short a date' >>text-for-analysis.txt\n"
      ],
      "metadata": {
        "id": "gOSuPF-fkUoK"
      },
      "execution_count": 5,
      "outputs": []
    },
    {
      "cell_type": "code",
      "source": [
        "def fileSentimentAnalysis(SFIn, SFOut, DSentiment=DSent):\n",
        "    FOut = open(SFOut, 'w')\n",
        "    SumSentiment = 0\n",
        "    count = 0\n",
        "    with open(SFIn, 'r') as FIn:\n",
        "        for SLine in FIn:\n",
        "            count+=1\n",
        "            SLine = SLine.rstrip()\n",
        "            LLine = SLine.lower().split()\n",
        "            ISenVal = evalSent(DSent, LLine)\n",
        "            try:\n",
        "                SumSentiment = SumSentiment + ISenVal\n",
        "            except:\n",
        "                continue\n",
        "            SSenVal = str(ISenVal)\n",
        "            FOut.write(f'{SLine}\\t{SSenVal}\\n')\n",
        "        AveSentiment = SumSentiment / count\n",
        "        SASent = str(AveSentiment)\n",
        "        FOut.write(f'\\tAll poem sentiment:{SSenVal}\\n')\n",
        "    return AveSentiment\n"
      ],
      "metadata": {
        "id": "XHaKOtgslRkI"
      },
      "execution_count": 6,
      "outputs": []
    },
    {
      "cell_type": "code",
      "source": [
        "fileSentimentAnalysis('text-for-analysis.txt', 'text-for-analysis-results.txt', DSentiment=DSent)"
      ],
      "metadata": {
        "colab": {
          "base_uri": "https://localhost:8080/"
        },
        "id": "yJ2zdXO7mTJH",
        "outputId": "231797d4-1019-4096-a425-b709b3dde8ef"
      },
      "execution_count": 7,
      "outputs": [
        {
          "output_type": "execute_result",
          "data": {
            "text/plain": [
              "0.22740770457506426"
            ]
          },
          "metadata": {},
          "execution_count": 7
        }
      ]
    },
    {
      "cell_type": "code",
      "source": [
        "!wget https://heibox.uni-heidelberg.de/f/99d8862c04d74406b90b/?dl=1\n",
        "!mv index.html?dl=1 texts.zip"
      ],
      "metadata": {
        "id": "RRdzzivctpX6",
        "outputId": "b9ab6d09-9781-4b14-8a2e-f2162c2c65b4",
        "colab": {
          "base_uri": "https://localhost:8080/"
        }
      },
      "execution_count": 11,
      "outputs": [
        {
          "output_type": "stream",
          "name": "stdout",
          "text": [
            "--2023-07-19 06:08:41--  https://heibox.uni-heidelberg.de/f/99d8862c04d74406b90b/?dl=1\n",
            "Resolving heibox.uni-heidelberg.de (heibox.uni-heidelberg.de)... 129.206.7.113\n",
            "Connecting to heibox.uni-heidelberg.de (heibox.uni-heidelberg.de)|129.206.7.113|:443... connected.\n",
            "HTTP request sent, awaiting response... 302 Found\n",
            "Location: https://heibox.uni-heidelberg.de/seafhttp/files/a597bad4-4dc9-4fec-8240-27c941591288/w14-presentation.zip [following]\n",
            "--2023-07-19 06:08:41--  https://heibox.uni-heidelberg.de/seafhttp/files/a597bad4-4dc9-4fec-8240-27c941591288/w14-presentation.zip\n",
            "Reusing existing connection to heibox.uni-heidelberg.de:443.\n",
            "HTTP request sent, awaiting response... 200 OK\n",
            "Length: 2707 (2.6K) [application/zip]\n",
            "Saving to: ‘index.html?dl=1’\n",
            "\n",
            "index.html?dl=1     100%[===================>]   2.64K  --.-KB/s    in 0.008s  \n",
            "\n",
            "2023-07-19 06:08:42 (351 KB/s) - ‘index.html?dl=1’ saved [2707/2707]\n",
            "\n"
          ]
        }
      ]
    },
    {
      "cell_type": "code",
      "source": [],
      "metadata": {
        "id": "iY8pA0gxt8BS"
      },
      "execution_count": null,
      "outputs": []
    },
    {
      "cell_type": "code",
      "source": [
        "!unzip texts.zip"
      ],
      "metadata": {
        "id": "CBYuPizStxWS"
      },
      "execution_count": null,
      "outputs": []
    },
    {
      "cell_type": "code",
      "source": [
        "fileSentimentAnalysis('ts00google-pe.txt', 'ts00google-pe-results.txt', DSentiment=DSent)\n",
        "fileSentimentAnalysis('ts01h-jw.txt', 'ts01h-jw-results.txt', DSentiment=DSent)\n",
        "fileSentimentAnalysis('ts02m-chatgpt.txt', 'ts02m-chatgpt-results.txt', DSentiment=DSent)\n",
        "fileSentimentAnalysis('ts03m-deepl.txt', 'ts03m-deepl-results.txt', DSentiment=DSent)\n",
        "fileSentimentAnalysis('ts04h-vr.txt', 'ts04h-vr-results.txt', DSentiment=DSent)"
      ],
      "metadata": {
        "id": "T76006aat80C",
        "outputId": "eff9755f-dfdd-4ed6-a89e-03dcee67528e",
        "colab": {
          "base_uri": "https://localhost:8080/"
        }
      },
      "execution_count": 13,
      "outputs": [
        {
          "output_type": "execute_result",
          "data": {
            "text/plain": [
              "0.09167286587679872"
            ]
          },
          "metadata": {},
          "execution_count": 13
        }
      ]
    }
  ]
}