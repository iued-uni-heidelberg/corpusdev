{
  "nbformat": 4,
  "nbformat_minor": 0,
  "metadata": {
    "language_info": {
      "codemirror_mode": {
        "name": "ipython",
        "version": 3
      },
      "file_extension": ".py",
      "mimetype": "text/x-python",
      "name": "python",
      "nbconvert_exporter": "python",
      "pygments_lexer": "ipython3",
      "version": "3.8.3"
    },
    "orig_nbformat": 4,
    "kernelspec": {
      "name": "python3",
      "display_name": "Python 3.8.3 64-bit"
    },
    "interpreter": {
      "hash": "aee8b7b246df8f9039afb4144a1f6fd8d2ca17a180786b69acc140d282b71a49"
    },
    "colab": {
      "provenance": [],
      "include_colab_link": true
    }
  },
  "cells": [
    {
      "cell_type": "markdown",
      "metadata": {
        "id": "view-in-github",
        "colab_type": "text"
      },
      "source": [
        "<a href=\"https://colab.research.google.com/github/iued-uni-heidelberg/corpusdev/blob/main/part2_word_embeddings_v05.ipynb\" target=\"_parent\"><img src=\"https://colab.research.google.com/assets/colab-badge.svg\" alt=\"Open In Colab\"/></a>"
      ]
    },
    {
      "cell_type": "markdown",
      "metadata": {
        "id": "Ty2YWcLcvKl4"
      },
      "source": [
        "# Word Vectors\n",
        "\n",
        "Presentations [slides](intro-word-vectors-DAAD-2021-v22.pdf); Original [slides](word-vectors.pdf)\n",
        "\n",
        "Word vectors (also known as 'word embeddings') are one of the most popular kinds of AI models. They are extremely useful in many domains. In essence, a word vector is a set of numbers that attempt to capture the meaning of a word. In typical implementations, each word is represented by a set of 200-300 numbers. In linear algebra, a one-dimensional array of numbers is known as a 'vector', hence these sets of numbers representing words' meanings are known as 'word vectors'.\n",
        "\n",
        "Using neural networks, we can expose the computer to a large amount of text, and allow it to learn an appropriate set of numbers for each word it encounters. In this notebook, we will learn about the most famous of all word vector algorithms, `word2vec`, which was first described by Tomas Mikolov and his team in 2013:\n",
        "\n",
        "* Tomas Mikolov, Ilya Sutskever, and others, ‘Distributed Representations of Words and Phrases and Their Compositionality’, in Advances in Neural Information Processing Systems 26, ed. by C. J. C. Burges and others (Curran Associates, Inc., 2013), pp. 3111–19 <http://papers.nips.cc/paper/5021-distributed-representations-of-words-and-phrases-and-their-compositionality.pdf>\n",
        "* Tomas Mikolov, Kai Chen, and others, ‘Efficient Estimation of Word Representations in Vector Space’, ArXiv:1301.3781 Cs, 2013 <http://arxiv.org/abs/1301.3781>.\n",
        "\n",
        "In fact, `word2vec` is not a single algorithm, but rather a family of similar algorithms. In this session we will consider just the most famous `word2vec` algorithm, namely the `skip-gram model` trained using `negative sampling`."
      ]
    },
    {
      "cell_type": "markdown",
      "metadata": {
        "id": "SWLKKQ0lvKl5"
      },
      "source": [
        "## Applications of Word Vectors\n",
        "\n",
        "Word vectors allow the computer to 'understand' language far more effectively. Rather than seeing each word as simply an arbitrarily different object, a computer using word vectors can analyse each word as a point in 200- or 300-dimenstional space. Words that are similar in meaning will have similar word vectors. And as we will see, the spaces between the word vectors are also significant: the words are arranged in patterns that represent their relationships to one another.\n",
        "\n",
        "Accordingly, most AI systems that process language now include a word vector layer as part of their architecure. When the system encounters some text (e.g. when you speak to Siri or Alexa), your words are converted into word vectors, *and then* the computer examines what the text says and determines how it should respond.\n",
        "\n",
        "In the Humanities, word vectors have become a popular modelling tool, because they allow researchers to perform sophisticated analysis on large corpora of text. Some examples include:\n",
        "\n",
        "* [The Women Writers Vector Toolkit](https://wwp.northeastern.edu/lab/wwvt/index.html)\n",
        "* William L. Hamilton, Jure Leskovec, and Dan Jurafsky, ‘Diachronic Word Embeddings Reveal Statistical Laws of Semantic Change’, ArXiv:1605.09096 [Cs], 2018 <http://arxiv.org/abs/1605.09096>.\n",
        "* Ryan Heuser, 'Semantic Networks' <https://ryanheuser.org/word-vectors-4/>"
      ]
    },
    {
      "cell_type": "markdown",
      "metadata": {
        "id": "o4ZWncLevKl5"
      },
      "source": [
        "## Training a `word2vec` model in Gensim\n",
        "\n",
        "It is very easy to train a `word2vec` model in Gensim, which includes Mikolov's original `word2vec` code in its codebase."
      ]
    },
    {
      "cell_type": "code",
      "metadata": {
        "id": "QgedLV80vKl6"
      },
      "source": [
        "from gensim.models import Word2Vec # The word2vec model class\n",
        "import gensim.downloader as api # Allows us to download some free training data\n"
      ],
      "execution_count": 1,
      "outputs": []
    },
    {
      "cell_type": "code",
      "source": [
        "corpus = api.load('text8')\n",
        "# api.info()"
      ],
      "metadata": {
        "id": "qeAvOQrf_aUe"
      },
      "execution_count": null,
      "outputs": []
    },
    {
      "cell_type": "markdown",
      "metadata": {
        "id": "nvSxGbYN8aHr"
      },
      "source": [
        "text8 is first 100MB from English wikipedia, 17 million words\n",
        "\n",
        "The file is downloadable from\n",
        "http://mattmahoney.net/dc/text8.zip\n"
      ]
    },
    {
      "cell_type": "code",
      "metadata": {
        "id": "GOfGR4GVxzIY"
      },
      "source": [
        "# Examine the corpus to see what is there\n",
        "api.info(\"text8\")"
      ],
      "execution_count": null,
      "outputs": []
    },
    {
      "cell_type": "code",
      "metadata": {
        "id": "hNRnUeEDzJS8"
      },
      "source": [
        "type(corpus)"
      ],
      "execution_count": null,
      "outputs": []
    },
    {
      "cell_type": "code",
      "metadata": {
        "id": "dlSD09Qoz_6t"
      },
      "source": [
        "data = [d for d in corpus]"
      ],
      "execution_count": null,
      "outputs": []
    },
    {
      "cell_type": "code",
      "metadata": {
        "id": "wyeDslt-26E2",
        "outputId": "f75e2a2b-5b16-4fdd-f10b-a7d7dc902408",
        "colab": {
          "base_uri": "https://localhost:8080/"
        }
      },
      "source": [
        "len(data)"
      ],
      "execution_count": null,
      "outputs": [
        {
          "output_type": "execute_result",
          "data": {
            "text/plain": [
              "1701"
            ]
          },
          "metadata": {},
          "execution_count": 5
        }
      ]
    },
    {
      "cell_type": "code",
      "metadata": {
        "id": "TUQzkxNbyTEF",
        "outputId": "42650102-99c1-4d0c-ad0f-2d41e61140c3",
        "colab": {
          "base_uri": "https://localhost:8080/"
        }
      },
      "source": [
        "len(data[0])"
      ],
      "execution_count": null,
      "outputs": [
        {
          "output_type": "execute_result",
          "data": {
            "text/plain": [
              "10000"
            ]
          },
          "metadata": {},
          "execution_count": 6
        }
      ]
    },
    {
      "cell_type": "code",
      "metadata": {
        "id": "sEmirZe2yR9y"
      },
      "source": [
        "print(data[0][:100])"
      ],
      "execution_count": null,
      "outputs": []
    },
    {
      "cell_type": "code",
      "metadata": {
        "id": "YkvbCylDyZF_"
      },
      "source": [
        "print(data[1][:100])"
      ],
      "execution_count": null,
      "outputs": []
    },
    {
      "cell_type": "markdown",
      "metadata": {
        "id": "_eEjBCxovKl6"
      },
      "source": [
        "### Step 1: Set hyperparameters and instantiate model"
      ]
    },
    {
      "cell_type": "code",
      "metadata": {
        "id": "K9MC27DDvKl6"
      },
      "source": [
        "my_vector_size = 100 # Dimensionality of the word vectors\n",
        "window = 5 # How many words either side? (5 = 5 context words either side, i.e. 10 context words in total)\n",
        "use_skip_gram = 1 # If you set this to 0, then it will create a 'continuous bag of words' model instead\n",
        "use_softmax = 0 # If you set this to 1, then hierarchical softmax will be used instead of negative sampling\n",
        "negative_samples = 5 # How many incorrect answers to generate per correct answer when negative sampling\n",
        "\n",
        "model = Word2Vec(\n",
        "    vector_size=my_vector_size,\n",
        "    window=window,\n",
        "    sg=use_skip_gram,\n",
        "    hs=use_softmax,\n",
        "    negative=negative_samples\n",
        ")"
      ],
      "execution_count": null,
      "outputs": []
    },
    {
      "cell_type": "markdown",
      "metadata": {
        "id": "ofhbkdEjvKl7"
      },
      "source": [
        "### Step 2: Fit model to corpus"
      ]
    },
    {
      "cell_type": "code",
      "metadata": {
        "id": "cEieLoWlvKl7"
      },
      "source": [
        "# build a model\n",
        "model.build_vocab(corpus)"
      ],
      "execution_count": null,
      "outputs": []
    },
    {
      "cell_type": "code",
      "metadata": {
        "id": "8e_ijem9vKl7",
        "colab": {
          "base_uri": "https://localhost:8080/"
        },
        "outputId": "f4a9c3c7-c80d-4abd-d2eb-eb164dc1a6a0"
      },
      "source": [
        "# Train the model on the corpus\n",
        "# model.train(sentences=corpus, epochs=5, total_examples=model.corpus_count)\n",
        "model.train(corpus, epochs=5, total_examples=model.corpus_count)"
      ],
      "execution_count": null,
      "outputs": [
        {
          "output_type": "execute_result",
          "data": {
            "text/plain": [
              "(62528051, 85026035)"
            ]
          },
          "metadata": {},
          "execution_count": 13
        }
      ]
    },
    {
      "cell_type": "code",
      "source": [
        "model.save(\"word2vec.model\")"
      ],
      "metadata": {
        "id": "TBjCMQwEhpnM"
      },
      "execution_count": null,
      "outputs": []
    },
    {
      "cell_type": "code",
      "source": [
        "!rm word2vec.model"
      ],
      "metadata": {
        "id": "mRUHn7Rmjw2q"
      },
      "execution_count": null,
      "outputs": []
    },
    {
      "cell_type": "code",
      "source": [
        "!wget https://heibox.uni-heidelberg.de/f/b7625cd746534aacbefe/?dl=1\n",
        "!mv index.html?dl=1 word2vec.model"
      ],
      "metadata": {
        "id": "YGoYTjhmh1tL"
      },
      "execution_count": null,
      "outputs": []
    },
    {
      "cell_type": "code",
      "source": [
        "model = Word2Vec.load(\"word2vec.model\")"
      ],
      "metadata": {
        "id": "mpMpt2SPkI0P"
      },
      "execution_count": 4,
      "outputs": []
    },
    {
      "cell_type": "markdown",
      "metadata": {
        "id": "ThYRouIevKl8"
      },
      "source": [
        "### Step 3: Extract word vectors from model\n",
        "\n",
        "The fully trained model includes all of the weights used to predict the context words for each input word. If you are not planning on training the model further, these weights can be discarded, and you can just keep the weights for the word vectors."
      ]
    },
    {
      "cell_type": "code",
      "metadata": {
        "id": "4V0LfNx_vKl8"
      },
      "source": [
        "word_vectors = model.wv\n",
        "# del model # Delete the whole model to free up the computer's RAM"
      ],
      "execution_count": 5,
      "outputs": []
    },
    {
      "cell_type": "code",
      "source": [
        "word_vectors.save(\"word2vec.wordvectors\")"
      ],
      "metadata": {
        "id": "n-RuljZPkZno"
      },
      "execution_count": 8,
      "outputs": []
    },
    {
      "cell_type": "code",
      "source": [
        "!rm word2vec.wordvectors"
      ],
      "metadata": {
        "id": "4G0KFEMtldFz"
      },
      "execution_count": null,
      "outputs": []
    },
    {
      "cell_type": "code",
      "source": [
        "!wget https://heibox.uni-heidelberg.de/f/e7725b1afab9456c8e16/?dl=1\n",
        "!mv index.html?dl=1 word2vec.wordvectors"
      ],
      "metadata": {
        "id": "UeFHDzcWlV9w"
      },
      "execution_count": null,
      "outputs": []
    },
    {
      "cell_type": "code",
      "source": [
        "from gensim.models import KeyedVectors\n"
      ],
      "metadata": {
        "id": "1Ts09s5Plp86"
      },
      "execution_count": 6,
      "outputs": []
    },
    {
      "cell_type": "code",
      "source": [
        "wv = KeyedVectors.load(\"word2vec.wordvectors\", mmap='r')"
      ],
      "metadata": {
        "id": "OXRqPPaB_83m"
      },
      "execution_count": 9,
      "outputs": []
    },
    {
      "cell_type": "code",
      "source": [
        "vector = wv['computer']"
      ],
      "metadata": {
        "id": "5eDztGwqmJ0a"
      },
      "execution_count": 10,
      "outputs": []
    },
    {
      "cell_type": "code",
      "source": [
        "vector"
      ],
      "metadata": {
        "id": "yt5Sah91ms2w",
        "colab": {
          "base_uri": "https://localhost:8080/"
        },
        "outputId": "138389c9-b675-40a8-909f-8dd17e7be15f"
      },
      "execution_count": 11,
      "outputs": [
        {
          "output_type": "execute_result",
          "data": {
            "text/plain": [
              "array([ 0.06077942,  0.1819358 , -0.05054147,  0.12852807,  0.01770034,\n",
              "       -0.30997637, -0.24055079, -0.00272755, -0.6581456 , -0.18392453,\n",
              "        0.06989374, -0.5224778 , -0.20864458, -0.10262147, -0.22059658,\n",
              "        0.33618814,  0.04703446, -0.47088787, -0.1487342 , -0.6229217 ,\n",
              "        0.42406246, -0.5138749 ,  0.06158032, -0.63825554, -0.07985036,\n",
              "        0.16819875,  0.09989165, -0.17658606, -0.17862448,  0.29675245,\n",
              "        0.4758706 ,  0.48978546,  0.9608675 , -0.22739977,  0.19066736,\n",
              "        0.08846364,  0.07009576, -0.360089  , -0.06736434, -0.21808966,\n",
              "       -0.2349182 , -0.25443017,  0.53662956,  0.2744204 ,  0.00105796,\n",
              "       -0.12268312, -0.08814082,  0.00657543,  0.48798513, -0.11536589,\n",
              "        0.2614905 ,  0.51717365, -0.04133837, -0.3994545 , -0.654159  ,\n",
              "       -0.40764585,  0.7202135 , -0.2568953 ,  0.52592474,  0.11868921,\n",
              "        0.1729699 ,  0.5800076 ,  0.46083173,  0.28301194,  0.58508384,\n",
              "        0.46322995,  0.34925246,  0.02775881, -0.01378645,  0.07634727,\n",
              "        0.20846   , -0.24176142, -0.36872652,  0.2697674 ,  0.22726676,\n",
              "        0.40128306,  0.48791516,  0.39478168, -0.35840425, -0.13748643,\n",
              "       -0.50550634, -0.01401702, -0.09398379,  0.17970748, -0.27350944,\n",
              "       -0.53801894, -0.08633023,  0.34511817,  0.23793873,  0.38667807,\n",
              "       -0.14404766,  0.79544854, -0.1770631 ,  0.17567483,  0.49945396,\n",
              "        0.10932686, -0.00464018, -0.49657568, -0.07760286, -0.15058048],\n",
              "      dtype=float32)"
            ]
          },
          "metadata": {},
          "execution_count": 11
        }
      ]
    },
    {
      "cell_type": "markdown",
      "metadata": {
        "id": "zSkZD22AvKl8"
      },
      "source": [
        "### Step 4: Have a play with the model\n",
        "\n",
        "There are several ways you can use word vectors. One of the most famous is to use them to compute analogies. The formula is:\n",
        "\n",
        "<center><em>x</em> is to <em>small</em> as <em>biggest</em> is to <em>big</em></center>\n",
        "\n",
        "$$x - vector('small') = vector('biggest') - vector('big')$$\n",
        "\n",
        "$$\\therefore x = vector('small') + vector('biggest') - vector('big')$$"
      ]
    },
    {
      "cell_type": "code",
      "metadata": {
        "id": "yEHPywV8hlzM"
      },
      "source": [
        "word_vectors = model.wv\n",
        "del model # Delete the whole model to free up the computer's RAM"
      ],
      "execution_count": 12,
      "outputs": []
    },
    {
      "cell_type": "code",
      "metadata": {
        "id": "2Pftv0DEvKl8"
      },
      "source": [
        "# See the word vector for a particular word\n",
        "vector = word_vectors['banana']\n",
        "print(vector)"
      ],
      "execution_count": null,
      "outputs": []
    },
    {
      "cell_type": "code",
      "metadata": {
        "id": "8_qUSF7ZvKl9"
      },
      "source": [
        "# See which words are closest to a given word in the vector space\n",
        "similar_words = word_vectors.most_similar('university', topn=10)\n",
        "print('\\n'.join([str(tup) for tup in similar_words]))"
      ],
      "execution_count": null,
      "outputs": []
    },
    {
      "cell_type": "code",
      "metadata": {
        "id": "T38xLSz62OyK"
      },
      "source": [
        "# See which words are closest to a given word in the vector space\n",
        "similar_words = word_vectors.most_similar('red', topn=10)\n",
        "print('\\n'.join([str(tup) for tup in similar_words]))"
      ],
      "execution_count": null,
      "outputs": []
    },
    {
      "cell_type": "code",
      "metadata": {
        "id": "wvyAmb152SMD"
      },
      "source": [
        "# See which words are closest to a given word in the vector space\n",
        "similar_words = word_vectors.most_similar('brussels', topn=10)\n",
        "print('\\n'.join([str(tup) for tup in similar_words]))"
      ],
      "execution_count": null,
      "outputs": []
    },
    {
      "cell_type": "code",
      "metadata": {
        "id": "r68SeidU2lRz"
      },
      "source": [
        "# See which words are closest to a given word in the vector space\n",
        "similar_words = word_vectors.most_similar('germany', topn=10)\n",
        "print('\\n'.join([str(tup) for tup in similar_words]))"
      ],
      "execution_count": null,
      "outputs": []
    },
    {
      "cell_type": "code",
      "metadata": {
        "id": "6RVNTkIs2thF"
      },
      "source": [
        "# See which words are closest to a given word in the vector space\n",
        "similar_words = word_vectors.most_similar('strange', topn=10)\n",
        "print('\\n'.join([str(tup) for tup in similar_words]))"
      ],
      "execution_count": null,
      "outputs": []
    },
    {
      "cell_type": "code",
      "metadata": {
        "id": "2Oqwf3ni21zW"
      },
      "source": [
        "# Compute analogous words\n",
        "# E.g. x is to queen as man is to king => x = v('queen') + v('man') - v('king')\n",
        "analogous_words = word_vectors.most_similar(negative=['man'], positive=['king','woman'])\n",
        "print('\\n'.join([str(tup) for tup in analogous_words]))"
      ],
      "execution_count": null,
      "outputs": []
    },
    {
      "cell_type": "code",
      "metadata": {
        "id": "0sVv80bYvKl9"
      },
      "source": [
        "# Compute analogous words\n",
        "# E.g. x is to queen as man is to king => x = v('queen') + v('man') - v('king')\n",
        "analogous_words = word_vectors.most_similar(negative=['king'], positive=['queen','man'])\n",
        "print('\\n'.join([str(tup) for tup in analogous_words]))"
      ],
      "execution_count": null,
      "outputs": []
    },
    {
      "cell_type": "code",
      "metadata": {
        "id": "q8gfHhZf3Byi"
      },
      "source": [
        "# Compute analogous words\n",
        "# E.g. x is to queen as man is to king => x = v('queen') + v('man') - v('king')\n",
        "analogous_words = word_vectors.most_similar(negative=['mother'], positive=['father','daughter'])\n",
        "print('\\n'.join([str(tup) for tup in analogous_words]))"
      ],
      "execution_count": null,
      "outputs": []
    },
    {
      "cell_type": "code",
      "metadata": {
        "id": "IuzURZa_6hQC"
      },
      "source": [
        "# Compute analogous words\n",
        "# E.g. x is to queen as man is to king => x = v('queen') + v('man') - v('king')\n",
        "analogous_words = word_vectors.most_similar(negative=['mother'], positive=['father','girl'])\n",
        "print('\\n'.join([str(tup) for tup in analogous_words]))"
      ],
      "execution_count": null,
      "outputs": []
    },
    {
      "cell_type": "code",
      "metadata": {
        "id": "PzzlKdei6uiW"
      },
      "source": [
        "# Compute analogous words\n",
        "# x is to daughter as people is to person (plural + daughter)\n",
        "analogous_words = word_vectors.most_similar(negative=['person'], positive=['people','daughter'])\n",
        "print('\\n'.join([str(tup) for tup in analogous_words]))"
      ],
      "execution_count": null,
      "outputs": []
    },
    {
      "cell_type": "code",
      "source": [
        "analogous_words = word_vectors.most_similar(negative=['soft'], positive=['hard','softer'])\n",
        "# analogous_words = word_vectors.most_similar(negative=['soft'], positive=['hard','softest'])\n",
        "print('\\n'.join([str(tup) for tup in analogous_words]))"
      ],
      "metadata": {
        "id": "EO2Frm6xoPKN"
      },
      "execution_count": null,
      "outputs": []
    },
    {
      "cell_type": "markdown",
      "source": [
        "Sentence similarity\n",
        "\"And break your heavy chains\""
      ],
      "metadata": {
        "id": "2fDnlZmRj3Vl"
      }
    },
    {
      "cell_type": "code",
      "source": [
        "from gensim.test.utils import lee_corpus_list\n",
        "from gensim.models import Word2Vec\n",
        "from gensim.models import KeyedVectors\n",
        "from gensim.test.utils import datapath\n",
        "import gensim.downloader as api"
      ],
      "metadata": {
        "id": "Qi5zmdnGBtVg"
      },
      "execution_count": 17,
      "outputs": []
    },
    {
      "cell_type": "code",
      "source": [
        "result = word_vectors.most_similar(positive=['woman', 'king'], negative=['man'])\n",
        "most_similar_key, similarity = result[0]\n",
        "print(f\"{most_similar_key}: {similarity:.4f}\")"
      ],
      "metadata": {
        "colab": {
          "base_uri": "https://localhost:8080/"
        },
        "id": "66XKjTXaB5_v",
        "outputId": "de3a5c0a-a69a-4cac-f223-89349649fb96"
      },
      "execution_count": 18,
      "outputs": [
        {
          "output_type": "stream",
          "name": "stdout",
          "text": [
            "queen: 0.6900\n"
          ]
        }
      ]
    },
    {
      "cell_type": "code",
      "source": [
        "result = word_vectors.most_similar_cosmul(positive=['woman', 'king'], negative=['man'])\n",
        "most_similar_key, similarity = result[0]\n",
        "print(f\"{most_similar_key}: {similarity:.4f}\")"
      ],
      "metadata": {
        "colab": {
          "base_uri": "https://localhost:8080/"
        },
        "id": "siDZKnwpCtMp",
        "outputId": "7d5e644c-cd19-4c3a-e468-d283585162c3"
      },
      "execution_count": 19,
      "outputs": [
        {
          "output_type": "stream",
          "name": "stdout",
          "text": [
            "queen: 0.9126\n"
          ]
        }
      ]
    },
    {
      "cell_type": "code",
      "source": [
        "print(word_vectors.doesnt_match(\"breakfast cereal dinner lunch\".split()))"
      ],
      "metadata": {
        "colab": {
          "base_uri": "https://localhost:8080/"
        },
        "id": "MscS8Sv9C7ny",
        "outputId": "ea2a8590-ff39-4d80-c47b-29f8733d3fe3"
      },
      "execution_count": 20,
      "outputs": [
        {
          "output_type": "stream",
          "name": "stdout",
          "text": [
            "cereal\n"
          ]
        }
      ]
    },
    {
      "cell_type": "code",
      "source": [
        "result = word_vectors.similar_by_word(\"dog\")\n",
        "most_similar_key, similarity = result[0]\n",
        "print(f\"{most_similar_key}: {similarity:.4f}\")"
      ],
      "metadata": {
        "colab": {
          "base_uri": "https://localhost:8080/"
        },
        "id": "8b6s9Sy7DG-b",
        "outputId": "ad00c429-85c6-4d1b-bd8f-57999ec708af"
      },
      "execution_count": 21,
      "outputs": [
        {
          "output_type": "stream",
          "name": "stdout",
          "text": [
            "hound: 0.7839\n"
          ]
        }
      ]
    },
    {
      "cell_type": "code",
      "source": [
        "sentence_obama = 'Obama speaks to the media in Illinois'.lower().split()\n",
        "sentence_president = 'The president greets the press in Chicago'.lower().split()\n",
        "print(sentence_obama)\n",
        "print(sentence_president)"
      ],
      "metadata": {
        "colab": {
          "base_uri": "https://localhost:8080/"
        },
        "id": "9Nh4KQY5DelM",
        "outputId": "4b2a0828-d2f8-4944-dc65-b9e41ea80021"
      },
      "execution_count": 22,
      "outputs": [
        {
          "output_type": "stream",
          "name": "stdout",
          "text": [
            "['obama', 'speaks', 'to', 'the', 'media', 'in', 'illinois']\n",
            "['the', 'president', 'greets', 'the', 'press', 'in', 'chicago']\n"
          ]
        }
      ]
    },
    {
      "cell_type": "code",
      "source": [
        "pip install POT"
      ],
      "metadata": {
        "id": "wT-s4vnXLLnG"
      },
      "execution_count": null,
      "outputs": []
    },
    {
      "cell_type": "code",
      "source": [
        "similarity = word_vectors.wmdistance(sentence_obama, sentence_president)"
      ],
      "metadata": {
        "id": "wDQhPhtXDsDQ"
      },
      "execution_count": 24,
      "outputs": []
    },
    {
      "cell_type": "code",
      "source": [
        "print(f\"{similarity:.4f}\")"
      ],
      "metadata": {
        "colab": {
          "base_uri": "https://localhost:8080/"
        },
        "id": "qnYCZujlL0NF",
        "outputId": "59bb8e82-ab46-4e6b-dbfe-ddbcd7b7b56e"
      },
      "execution_count": 25,
      "outputs": [
        {
          "output_type": "stream",
          "name": "stdout",
          "text": [
            "0.6707\n"
          ]
        }
      ]
    },
    {
      "cell_type": "code",
      "source": [
        "sentence_obama = 'And water with the tyrant blood the freedom you have gained'.lower().split()\n",
        "sentence_president = 'resistance oppression'.lower().split()\n",
        "similarity = word_vectors.wmdistance(sentence_obama, sentence_president)\n",
        "print(sentence_obama)\n",
        "print(sentence_president)\n",
        "print(f\"{similarity:.4f}\")"
      ],
      "metadata": {
        "colab": {
          "base_uri": "https://localhost:8080/"
        },
        "id": "dxrMngqvNM-U",
        "outputId": "025e45e8-2156-443c-a5af-89f2642982f9"
      },
      "execution_count": 26,
      "outputs": [
        {
          "output_type": "stream",
          "name": "stdout",
          "text": [
            "['and', 'water', 'with', 'the', 'tyrant', 'blood', 'the', 'freedom', 'you', 'have', 'gained']\n",
            "['resistance', 'oppression']\n",
            "1.1306\n"
          ]
        }
      ]
    },
    {
      "cell_type": "code",
      "source": [
        "# result = word_vectors.most_similar_cosmul(positive=['woman', 'king'], negative=['man'])\n",
        "analogous_words = word_vectors.most_similar(positive='And water with the tyrant blood the freedom you have gained'.lower().split())\n",
        "print('\\n'.join([str(tup) for tup in analogous_words]))"
      ],
      "metadata": {
        "colab": {
          "base_uri": "https://localhost:8080/"
        },
        "id": "ZDjQSW4QP8yK",
        "outputId": "273e7cf0-e784-4f54-ac4a-8eb4596c89f9"
      },
      "execution_count": 27,
      "outputs": [
        {
          "output_type": "stream",
          "name": "stdout",
          "text": [
            "('energizing', 0.829910933971405)\n",
            "('uncompromisingly', 0.8271280527114868)\n",
            "('transfigured', 0.8253328204154968)\n",
            "('cynically', 0.8250075578689575)\n",
            "('cutthroat', 0.8245701193809509)\n",
            "('faking', 0.8226403594017029)\n",
            "('complacency', 0.82034832239151)\n",
            "('obviate', 0.8198023438453674)\n",
            "('shortlived', 0.8193068504333496)\n",
            "('unvisited', 0.8188250064849854)\n"
          ]
        }
      ]
    },
    {
      "cell_type": "code",
      "source": [
        "# The Dnieper plunging shore My eyes could see my ears could hear The mighty river roar\n",
        "# result = word_vectors.most_similar_cosmul(positive=['woman', 'king'], negative=['man'])\n",
        "analogous_words = word_vectors.most_similar(positive='So that the fields the boundless steppes'.lower().split())\n",
        "print('\\n'.join([str(tup) for tup in analogous_words]))"
      ],
      "metadata": {
        "colab": {
          "base_uri": "https://localhost:8080/"
        },
        "id": "JfkIr7CQQOk-",
        "outputId": "5bd72014-0abd-4839-a3f6-7f99f3b6386e"
      },
      "execution_count": 28,
      "outputs": [
        {
          "output_type": "stream",
          "name": "stdout",
          "text": [
            "('energizing', 0.8446081876754761)\n",
            "('straightened', 0.833925187587738)\n",
            "('plowed', 0.8328710794448853)\n",
            "('ergosphere', 0.8307587504386902)\n",
            "('unassailable', 0.8307085633277893)\n",
            "('obviate', 0.8282104134559631)\n",
            "('infinitesimally', 0.8248646855354309)\n",
            "('equalized', 0.8247248530387878)\n",
            "('assimilating', 0.8237602710723877)\n",
            "('underpin', 0.8231127858161926)\n"
          ]
        }
      ]
    },
    {
      "cell_type": "code",
      "source": [
        "analogous_words = word_vectors.most_similar(positive='The Dnieper plunging shore My eyes could see my ears could hear The mighty river roar'.lower().split())\n",
        "print('\\n'.join([str(tup) for tup in analogous_words]))"
      ],
      "metadata": {
        "colab": {
          "base_uri": "https://localhost:8080/"
        },
        "id": "RJ_Z4Z1WRRmS",
        "outputId": "c8a35bdf-7ccc-493a-8753-15f1ab242c26"
      },
      "execution_count": null,
      "outputs": [
        {
          "output_type": "stream",
          "name": "stdout",
          "text": [
            "('yonder', 0.8880959153175354)\n",
            "('forlorn', 0.8635091781616211)\n",
            "('faking', 0.8602349758148193)\n",
            "('rug', 0.859780490398407)\n",
            "('crom', 0.8596680760383606)\n",
            "('thro', 0.8581385016441345)\n",
            "('blindfolded', 0.8574162125587463)\n",
            "('rained', 0.8555653095245361)\n",
            "('forbear', 0.8549303412437439)\n",
            "('fortifying', 0.8526374101638794)\n"
          ]
        }
      ]
    },
    {
      "cell_type": "code",
      "source": [
        "'''\n",
        "from ot import emd2\n",
        "sentence_obama = 'Obama speaks to the media in Illinois'.lower().split()\n",
        "sentence_president = 'The president greets the press in Chicago'.lower().split()\n",
        "\n",
        "similarity = word_vectors.wmdistance(sentence_obama, sentence_president)\n",
        "print(f\"{similarity:.4f}\")\n",
        "'''"
      ],
      "metadata": {
        "id": "u97uhZtIiwj6"
      },
      "execution_count": null,
      "outputs": []
    },
    {
      "cell_type": "code",
      "source": [
        "similarity = word_vectors.similarity('king', 'queen')\n",
        "print(f\"{similarity:.4f}\")"
      ],
      "metadata": {
        "id": "25ZRMAw6-9QG",
        "colab": {
          "base_uri": "https://localhost:8080/"
        },
        "outputId": "3d812585-0fa3-4293-e4ff-638f3be22a28"
      },
      "execution_count": null,
      "outputs": [
        {
          "output_type": "stream",
          "name": "stdout",
          "text": [
            "0.7212\n"
          ]
        }
      ]
    },
    {
      "cell_type": "code",
      "source": [
        "similarity = word_vectors.similarity('man', 'woman')\n",
        "print(f\"{similarity:.4f}\")"
      ],
      "metadata": {
        "colab": {
          "base_uri": "https://localhost:8080/"
        },
        "id": "r8NzR27tBaYw",
        "outputId": "7b00e225-3f77-4229-ae6a-f7a90f37f53f"
      },
      "execution_count": null,
      "outputs": [
        {
          "output_type": "stream",
          "name": "stdout",
          "text": [
            "0.7245\n"
          ]
        }
      ]
    },
    {
      "cell_type": "code",
      "source": [
        "# similarity = word_vectors.similarity('emotion', positive=['people','daughter'])\n",
        "# print(f\"{similarity:.4f}\")"
      ],
      "metadata": {
        "id": "wq-sbcJXkSGj"
      },
      "execution_count": null,
      "outputs": []
    },
    {
      "cell_type": "markdown",
      "source": [
        "## testing distances to emotions\n",
        "similarity = word_vectors.n_similarity(['sushi', 'shop'], ['japanese', 'restaurant'])"
      ],
      "metadata": {
        "id": "FYvw_-jDkBHR"
      }
    },
    {
      "cell_type": "code",
      "source": [
        "similarity = word_vectors.n_similarity(['sushi', 'shop'], ['japanese', 'restaurant'])\n",
        "print(f\"{similarity:.4f}\")"
      ],
      "metadata": {
        "colab": {
          "base_uri": "https://localhost:8080/"
        },
        "id": "fakLGOzZkAx-",
        "outputId": "874ca2a2-a431-421c-869c-bfd770580f58"
      },
      "execution_count": 29,
      "outputs": [
        {
          "output_type": "stream",
          "name": "stdout",
          "text": [
            "0.6737\n"
          ]
        }
      ]
    },
    {
      "cell_type": "markdown",
      "source": [
        "## full list descriptors\n"
      ],
      "metadata": {
        "id": "vEbEtqGnxgoP"
      }
    },
    {
      "cell_type": "code",
      "source": [
        "# anger\n",
        "similarity = word_vectors.n_similarity('And water with the tyrant blood the freedom you have gained'.lower().split(), 'wrath wrath umbrage umbrage offense pique pique  irritation lividity lividity irascibility irascibility short_temper spleen quick_temper infuriation infuriation enragement indignation indignation outrage huffiness huffiness harassment harassment torment fury fury madness frustration frustration   tantrum dudgeon dudgeon high_dudgeon displeasure displeasure dander dander hackles bad bad_temper ill_temper annoyance annoyance chafe vexation anger anger angry choler ire aggravation aggravation exasperation aggravated aggravated angry angry angered angered enraged furious infuriated maddened annoying annoying bothersome galling irritating nettlesome pesky pestering pestiferous plaguy plaguey teasing vexatious vexing annoyed annoyed harassed harried pestered vexed annoyed annoyed irritated nettled peeved riled roiled stung displeasing displeasing displeased displeased frustrating frustrating discouraged baffled balked discouraged frustrated exasperating exasperating infuriating maddening vexing angered angered enraged furious infuriated maddened huffy huffy mad sore indignant indignant  outraged umbrageous exasperating exasperating infuriating maddening vexing angered angered enraged furious infuriated maddened choleric choleric irascible livid livid indignant indignant  outraged umbrageous wrathful wrathful wroth wrothful exacerbate exacerbate exasperate aggravate anger anger see_red anger anger annoy annoy get_to bother get_at irritate rile nark nettle vex devil displease displease torment torment rag tantalize bedevil crucify dun frustrate infuriate outrage enfuriate infuriate exasperate  harass persecute oppress harass infuriate outrage enfuriate infuriate exasperate  pique pique offend angrily angrily displeasingly displeasingly furiously furiously huffily huffily indignantly indignantly furiously furiously lividly lividly wrathfully wrathfully warpath warpath vindictiveness vindictiveness vengefulness sulkiness sulkiness huffishness resentment resentment bitterness gall rancor rancour murderousness murderousness misopedia misopedia misoneism misoneism misology misology misogyny misogyny misogynism misogamy misogamy misocainea misocainea misanthropy misanthropy malice malice maliciousness  spitefulness venom malevolence malevolence malignity maleficence maleficence jealousy jealousy green-eyed_monster hostility hostility enmity ill_will heartburning heartburning hate hate hatred grudge grudge grievance envy envy enviousness the_green-eyed_monster despisal despisal despising covetousness covetousness  class_feeling belligerence belligerence belligerency antagonism antagonism animosity animosity animus bad_blood agress aggression aggression aggressive aggressiveness abhorrence abhorrence abomination detestation execration loathing odium aggressive aggressive belligerent avaricious avaricious covetous grabby grasping greedy prehensile covetous covetous envious jealous enviable enviable covetous covetous envious jealous grudging begrudging envious grudging hateful hateful hostile hostile hostile hostile jealous jealous green-eyed overjealous covetous covetous envious jealous malefic malefic malevolent malign evil malevolent malevolent malicious malevolent malevolent malicious misanthropic misanthropic misanthropical misogynic misogynic resentful resentful huffish huffish sulky despiteful despiteful spiteful vindictive abhor abhor loathe abominate execrate covet covet contemn contemn despise scorn disdain envy envy begrudge envy envy stew stew grudge hate hate detest sulk sulk pout brood brood sulk grizzle brood stew belligerently belligerently hostilely with_hostility enviously enviously covetously jealously enviously enviously covetously jealously enviably enviably hatefully hatefully belligerently belligerently hostilely with_hostility enviously enviously covetously jealously jealously jealously malevolently malevolently maliciously maliciously amok amok amuck murderously resentfully resentfully revengefully revengefully vengefully vindictively war kill killed killing killer fail failed dead die violence scandal seriousness serious danger dangerous aggravation aggravate escalation escalate tension insult disappointment disappointed crime criminal curse hurt wronged wrong intolerance racism shame death battle conflict dispute opposition oppression failure worst murders murder warlord disagreement bitter injuring offender greed fight unfortunately offensive torture disagrees trouble risk poverty-stricken injuries breakdown terrible revenge damaged noise provocation provocate victim mistreated mistreate problem damn'.lower().split())\n",
        "print(f\"anger:{similarity:.4f}\")\n",
        "\n",
        "# disgust\n",
        "similarity = word_vectors.n_similarity('And water with the tyrant blood the freedom you have gained'.lower().split(), 'repugnance repugnance repulsion revulsion horror nausea nausea disgust disgust disgusting disgusting disgustful distasteful foul loathly loathsome repellent repellant revolting wicked yucky disgusted disgusted fed_up sick_of tired_of nauseating nauseating nauseous noisome loathsome offensive sickening vile nauseated nauseated queasy sick sickish hideous hideous repulsive abhorrent abhorrent detestable obscene repugnant repulsive disgust disgust revolt nauseate sicken churn_up disgust disgust turn_off revolt repel sicken sicken nauseate disgust disgust revolt nauseate sicken churn_up disgust disgust turn_off revolt repel repel repel repulse disgustedly disgustedly disgustedly disgustedly disgustingly disgustingly distastefully revoltingly sickeningly detestably detestably repulsively abominably odiously reject prostitution prostitute hate repugnant beastly fiend ugly rebellion refused refuse rebel insurgency revolutionary animosity noise shameful cunning corrupt corruptors corruption recalcitrance hostility hatred terrible disobey regrettable refusal damn rejection aggressive'.lower().split())\n",
        "print(f\"disgust:{similarity:.4f}\")\n",
        "\n",
        "# fear\n",
        "similarity = word_vectors.n_similarity('And water with the tyrant blood the freedom you have gained'.lower().split(), 'unassertiveness unassertiveness trepidation trepidation timidity timidity timidness timorousness suspense suspense stage_fright shyness shyness scare scare panic_attack presage presage panic panic terror intimidation intimidation hysteria hysteria horror horror hesitance hesitance hesitancy heartlessness heartlessness coldheartedness hardheartedness foreboding foreboding premonition presentiment boding fear fear fearfulness fright diffidence diffidence doubt self_doubt self_distrust cruelty cruelty mercilessness pitilessness ruthlessness creeps creeps chill chill pall apprehension apprehension apprehensiveness dread alarm alarm dismay consternation alarmed alarmed apprehensive apprehensive apprehensive anxious apprehensive chilling chilling scarey scary shivery shuddery unkind cruel unkind diffident diffident fearful fearful fearful fearful frightful terrible awful awful dire direful dread dreaded dreadful fearful fearsome frightening horrendous horrific terrible afraid afraid hardhearted hardhearted heartless atrocious atrocious frightful horrifying horrible ugly horrified horrified horror-stricken horror-struck awful awful dire direful dread dreaded dreadful fearful fearsome frightening horrendous horrific terrible hideous hideous horrid horrific outrageous atrocious atrocious frightful horrifying horrible ugly hysterical hysterical hangdog browbeaten bullied cowed hangdog intimidated intimidated intimidated panicky panicky panicked panic-stricken panic-struck terrified frightened chilling chilling scarey scary shivery shuddery frightened frightened scared shy shy diffident diffident shy timid unsure cliff-hanging cliff-hanging suspenseful suspensive diffident diffident shy timid unsure timid timid fearful fearful timorous trepid unassertive unassertive alarm alarm alert dismay dismay alarm appal appall horrify chill chill fawn fawn crawl creep cringe cower grovel fear fear fear fear fear fear dread fear fear dismay horrify dismay dismay alarm appal appall horrify intimidate intimidate panic panic panic panic daunt daunt dash scare_off pall frighten_off scare_away frighten_away scare frighten frighten fright scare affright anxiously anxiously uneasily apprehensively cruelly cruelly diffidently diffidently fearfully fearfully fearfully fearfully heartlessly heartlessly hesitantly hesitantly hesitatingly horrifyingly horrifyingly dreadfully dreadfully awfully horribly hideously hideously horridly monstrously hysterically hysterically frighteningly frighteningly scarily shyly shyly timidly bashfully timorously timorously trepidly unassertively unassertively failure fail warn worry worried difficult doubts suspect sneak weak obstacle obsession confusion confuse  danger dangerous cold cautious hard threaten threat weaknesses weakness oppression failed terrorism difficulties difficulty unfair atrocities explosion warns warn injustice barbarically flaring bomb exploded bombing suspicion harsher harsh barbaric endangering yelling yell fails cowardly hesitation explode terrorists blast penetration harm savagery infiltrate risks infiltration endanger hard shameful bomber'.lower().split())\n",
        "print(f\"fear:{similarity:.4f}\")\n",
        "\n",
        "# joy\n",
        "similarity = word_vectors.n_similarity('And water with the tyrant blood the freedom you have gained'.lower().split(), 'worship worship adoration warmheartedness warmheartedness warmth triumph triumph togetherness togetherness titillation titillation sympathy sympathy fellow_feeling softheartedness softheartedness tenderness soft soft_spot smugness smugness satisfaction satisfaction rejoicing rejoicing respect puppy puppy_love calf_love  infatuation protectiveness protectiveness pride pride preference preference penchant predilection taste loyalty loyalty lovingness lovingness caring love love liking liking kindheartedness kindheartedness joy joy joyousness joyfulness jollity jollity joviality jocundity jocundity jocularity designation  feeling_of_identity hilarity hilarity mirth mirthfulness glee gleefulness hero hero_worship happiness happiness gusto gusto relish zest zestfulness good_will goodwill gloat gloat gloating glee schadenfreude gladness gladness gladfulness gladsomeness gaiety gaiety merriment fulfillment fulfillment fulfilment friendliness friendliness fondness fondness fancy partiality favor favor favour exultation exultation jubilance jubilancy jubilation exuberance exuberance exhilaration exhilaration excitement euphoria euphoria enthusiasm enthusiasm empathy empathy elation elation high_spirits eagerness eagerness avidity avidness keenness devotion devotion devotedness contentment contentment complacency complacency complacence self-complacency self-satisfaction compatibility compatibility rapport comfortableness comfortableness closeness closeness intimacy cheerfulness cheerfulness blitheness carefreeness carefreeness insouciance lightheartedness lightsomeness captivation captivation enchantment enthrallment fascination buoyancy buoyancy perkiness brotherhood brotherhood bonheur bonheur benevolence benevolence beneficence beneficence bang bang flush thrill  attachment attachment fond_regard ardor ardor ardour ardor ardor ardour elan zeal approval approval amorousness amorousness enamoredness amicability amicability amicableness affection affection affectionateness fondness tenderness heart warmheartedness admiration admiration esteem admirable admirable admirable admirable affectional affectional affective emotive amicable amicable amatory amatory amorous romantic amative amative amorous approving approving approbative approbatory approved approved beneficent beneficent beneficed beneficed benefic benefic charitable benevolent brotherly brotherly brotherlike fraternal beguiled beguiled captivated charmed delighted enthralled entranced captivated captivated charmed bewitching bewitching captivating enchanting enthralling entrancing fascinating carefree carefree unworried cheerful cheerful cheerful cheerful  comfortable comfortable sympathetic compatible sympathetic complacent complacent self-satisfied contented contented happy happy devoted devoted avid avid eager zealous elated elated gleeful joyful jubilant elated elated elating elating exhilarating empathic empathic empathetic exciting exciting enthusiastic enthusiastic euphoriant euphoriant euphoric euphoric happy gladdened gladdened exhilarated elating elating exhilarating exhilarating exhilarating stimulating ebullient ebullient exuberant high_spirited exultant exultant exulting jubilant prideful rejoicing triumphal triumphant favorable favorable favourable affectionate affectionate caring fond lovesome tender warm friend friendly friendly  gala  festal festive merry   jocund jolly jovial merry mirthful cheery cheery  sunny gladsome gladsome glad  glad glad glad glad glad glad glad euphoric euphoric happy pleased happy pleased happy happy hilarious hilarious  uproarious hilarious hilarious uproarious   jocund jolly jovial merry mirthful   jocund jolly jovial merry mirthful joyful joyful joyous elated elated gleeful joyful jubilant joyful joyful joyful joyful kindhearted kindhearted likable likable likeable loving loving exultant exultant exulting jubilant prideful rejoicing triumphal triumphant protective caring protective exultant exultant exulting jubilant prideful rejoicing triumphal triumphant comforting comforting cheering satisfying pleasing appreciated gratifying pleasing satisfying satisfied satisfied satiable satiable satisfiable satisfactory satisfactory smug smug self-satisfied softhearted softhearted soft-boiled charitable charitable kindly sympathetic sympathetic sympathetic titillating titillating teased teased titillated exultant exultant exulting jubilant prideful rejoicing triumphal triumphant warmhearted warmhearted adoring adoring worshipful admire admire look_up_to affect affect impress   approve approve  enamour trance catch becharm enamor captivate beguile charm fascinate bewitch enchant cheer cheer inspire barrack urge_on exhort pep_up cheer cheer cheer cheer hearten recreate embolden cheer cheer cheer_up chirk_up cheer cheer cheer_up jolly_along jolly_up comfort comfort soothe console solace   interest elate elate lift_up uplift pick_up intoxicate elate elate lift_up uplift pick_up intoxicate exhilarate exhilarate thrill exalt exuberate exult rejoice triumph jubilate exult exult walk_on_air be_on_cloud_nine jump_for_joy favor favor favour satisfy satisfy fulfill fulfil live_up_to gladden gladden gladden gladden joy kid kid chaff jolly banter gladden gladden joy rejoice rejoice joy love love love love enjoy enjoyment love love preen preen pride congratulate wallow revel wallow rejoice triumph exuberate exult rejoice triumph jubilate rejoice rejoice joy satisfy satisfy gratify titillate tickle titillate exuberate exult rejoice triumph jubilate wallow revel wallow rejoice triumph admirably admirably laudably praiseworthily commendable amicably amicably beneficially beneficially benevolently benevolently cheerfully cheerfully cheerfully cheerfully  nigh  comfortably comfortably compatibly compatibly eagerly eagerly thirstily sympathetically sympathetically empathetically with_sympathy with_empathy enthusiastically enthusiastically ebulliently ebulliently exuberantly expansively exuberantly exuberantly riotously exultantly exultantly exultingly favorably favorably favourably gloatingly gloatingly happily happily merrily mirthfully gayly blithely jubilantly with_happiness hilariously hilariously uproariously hilariously hilariously uproariously gleefully gleefully joyously joyfully gleefully gleefully joyously joyfully fondly fondly lovingly adorably adorably endearingly proudly proudly with_pride protectively protectively giving_protection protect offering_protection gratifyingly gratifyingly satisfyingly satisfactorily satisfactorily sympathetically sympathetically empathetically with_sympathy with_empathy triumphantly triumphantly suspense suspense anticipation anticipation expectancy cliff-hanging cliff-hanging suspenseful suspensive anticipate anticipate look_for look_to harmony concord agreement agreed agree champion peace win victory victorious help aid achieve vitality  donate donation laughter laugh success fun championship succeeded succeed protection bright prize award courage birth fortune smile praise praised positive celebrate celebration celebrated worth transparency festivals concert patience  kindness assistance safety optimistic generosity  enlightened    accords support compliance successful opening charity beat meet prefer providing games game flavor adherence festival corporate desired accomplishment encourage cooperation winners winner pageant assisted assist match best inauguration ceremony giving participative convention emotionally emotion helpful grant prayers care born greeting accept promise feelings distinguished thank prayer brag joke party gratitude confident supplied suitable suitability interested meetings meeting better'.lower().split())\n",
        "print(f\"joy:{similarity:.4f}\")\n",
        "\n",
        "# sadness\n",
        "similarity = word_vectors.n_similarity('And water with the tyrant blood the freedom you have gained'.lower().split(), 'world-weariness world-weariness Weltschmerz woe woe woefulness   weepiness weepiness tear tearfulness sorrow sorrow regret ruefulness sorrow sorrow self-pity self-pity sadness sadness unhappiness repentance repentance penitence penance plaintiveness plaintiveness oppression oppression oppressiveness mournfulness mournfulness sorrowfulness ruthfulness misery misery melancholy melancholy joylessness joylessness helplessness helplessness heavyheartedness heavyheartedness guilt guilt guilty_conscience guilt_feelings guilt_trip grief grief heartache heartbreak brokenheartedness gloom gloom gloominess somberness forlornness forlornness loneliness desolation dysphoria dysphoria downheartedness downheartedness low-spiritedness dispiritedness dolor dolor dolour dolefulness dolefulness despondency despondency despondence heartsickness disconsolateness depression depression demoralization demoralization compunction compunction remorse self-reproach cheerlessness cheerlessness uncheerfulness blues blue_devils attrition attrition contrition contriteness contrite contrite contrite contrite remorseful rueful sorry depressing cheerless uncheerful depressing cheerless uncheerful demoralizing demoralizing demoralising disheartening dispiriting demoralized demoralized discouraged disheartened gloomy  depressed dispirited  downcast downhearted  low-spirited depressing depressing depressive gloomy saddening despondent despondent heartsick doleful doleful mournful doleful doleful mournful gloomy  depressed dispirited  downcast downhearted  low-spirited dysphoric dysphoric distressed unhappy forlorn forlorn forlorn desolate forlorn godforsaken lorn   dark depressing disconsolate dismal dispiriting gloomy grim gloomy glum gloomy long-faced depressing depressing depressive gloomy saddening  dingy dismal drab drear dreary gloomy sorry gloomy gloomy grim glooming glooming gloomy gloomful grievous grievous heartbreaking heartrending grievous grievous heartbreaking heartrending bereaved bereaved bereft grief-stricken grieving mourning sorrowing guilty guilty hangdog shamefaced shamed heavyhearted heavyhearted joyless joyless joyless joyless melancholy melancholy melancholic melancholy melancholy melancholic hapless hapless miserable misfortunate pathetic piteous pitiable pitiful poor wretched miserable miserable suffer suffering wretched doleful doleful mournful doleful doleful mournful mournful mournful plaintive oppressive oppressive tyrannical tyrannous laden laden oppressed downtrodden downtrodden oppressed persecuted mournful mournful plaintive penitent penitent repentant sad sad unhappy unhappy sad unhappy unhappy sad sad sad sad sad bereaved bereaved bereft grief-stricken grieving mourning sorrowing sorrowful sorrowful regretful bad sorry regretful pitying sorry sorry_for contrite contrite remorseful rueful sorry regretful regretful sorry dolorous dolorous dolourous lachrymose tearful weeping deplorable deplorable execrable miserable woeful wretched woebegone woebegone woeful bored bored world-weary repent repent regret rue depress depress deject cast_down get_down dismay dispirit demoralize depress depress deject cast_down get_down dismay dispirit demoralize grieve grieve aggrieve grieve grieve sorrow harass persecute oppress harass repent repent regret rue sadden sadden sad grieve grieve sorrow grieve grieve sorrow ruefully ruefully contritely remorsefully cheerlessly cheerlessly cheerlessly cheerlessly despairingly despairingly despondently dolefully dolefully sorrowfully forlornly forlornly gloomily gloomily grievously grievously grievously grievously joylessly joylessly joylessly joylessly miserably miserably miserably miserably mournfully mournfully mournfully mournfully oppressively oppressively plaintively plaintively penitently penitently penitentially repentantly deplorably deplorably lamentably sadly woefully sadly sadly dolefully dolefully sorrowfully sorrowfully sorrowfully dolefully dolefully sorrowfully sorrowfully sorrowfully deplorably deplorably lamentably sadly woefully deplorably deplorably lamentably sadly woefully lost weak death die   isolate isolation pessimism pessimistic pain painful lose inability cold torment insult crime criminal upset annoy disturb'.lower().split())\n",
        "print(f\"sadness:{similarity:.4f}\")\n",
        "\n",
        "# surprise\n",
        "similarity = word_vectors.n_similarity('And water with the tyrant blood the freedom you have gained'.lower().split(), 'wonder wonderment admiration surprise surprise stupefaction stupefaction awe awe astonishment astonishment amazement astonishing astonishing astounding staggering stupefying amazing amazing astonishing amazed amazed astonied astonished astounded stunned awed awed awestruck awestricken in_awe_of awed awed awful astonishing astonishing astounding staggering stupefying stupefying stupefying dazed dazed stunned stupefied stupid dumbfounded dumbfounded dumfounded flabbergasted stupefied thunderstruck surprising surprising surprised surprised fantastic fantastic howling marvelous rattling terrific tremendous wonderful wondrous amaze amaze astonish astound awe awe stun stun stupefy stupify perplex perplex puzzle mystify baffle bewilder flummox stupefy stupify nonplus amaze dumbfound trounce besot besot stupefy stupify surprise surprise marvel amazingly amazingly surprisingly astonishingly surprisingly surprisingly surprisedly surprisedly wonderfully wonderfully wondrous wondrously superbly toppingly marvellously terrifically marvelously exceptional strange reveal unbelievable shock fantasy superb uncovering discovering suddenly legendary innovative legend insanity discover fiction hugely unscheduled innovation incredible immense enormous emergencies uncovers mighty sizable'.lower().split())\n",
        "print(f\"surprise:{similarity:.4f}\")\n",
        "\n",
        "similarity = word_vectors.n_similarity('And water with the tyrant blood the freedom you have gained'.lower().split(), 'With wicked blood, the land engrave In freedom sacred reign'.lower().split())\n",
        "print(f\"translation:{similarity:.4f}\")\n"
      ],
      "metadata": {
        "colab": {
          "base_uri": "https://localhost:8080/"
        },
        "id": "qBUq_l4ekStb",
        "outputId": "404f5bc5-5f76-4c96-9e29-fd861cc4d828"
      },
      "execution_count": 53,
      "outputs": [
        {
          "output_type": "stream",
          "name": "stdout",
          "text": [
            "anger:0.7799\n",
            "disgust:0.7591\n",
            "fear:0.7932\n",
            "joy:0.8369\n",
            "sadness:0.8075\n",
            "surprise:0.7915\n",
            "translation:0.8401\n"
          ]
        }
      ]
    },
    {
      "cell_type": "code",
      "source": [
        "# anger\n",
        "similarity = word_vectors.n_similarity('With softly spoken kindly word Remember also me'.lower().split(), 'wrath wrath umbrage umbrage offense pique pique  irritation lividity lividity irascibility irascibility short_temper spleen quick_temper infuriation infuriation enragement indignation indignation outrage huffiness huffiness harassment harassment torment fury fury madness frustration frustration   tantrum dudgeon dudgeon high_dudgeon displeasure displeasure dander dander hackles bad bad_temper ill_temper annoyance annoyance chafe vexation anger anger angry choler ire aggravation aggravation exasperation aggravated aggravated angry angry angered angered enraged furious infuriated maddened annoying annoying bothersome galling irritating nettlesome pesky pestering pestiferous plaguy plaguey teasing vexatious vexing annoyed annoyed harassed harried pestered vexed annoyed annoyed irritated nettled peeved riled roiled stung displeasing displeasing displeased displeased frustrating frustrating discouraged baffled balked discouraged frustrated exasperating exasperating infuriating maddening vexing angered angered enraged furious infuriated maddened huffy huffy mad sore indignant indignant  outraged umbrageous exasperating exasperating infuriating maddening vexing angered angered enraged furious infuriated maddened choleric choleric irascible livid livid indignant indignant  outraged umbrageous wrathful wrathful wroth wrothful exacerbate exacerbate exasperate aggravate anger anger see_red anger anger annoy annoy get_to bother get_at irritate rile nark nettle vex devil displease displease torment torment rag tantalize bedevil crucify dun frustrate infuriate outrage enfuriate infuriate exasperate  harass persecute oppress harass infuriate outrage enfuriate infuriate exasperate  pique pique offend angrily angrily displeasingly displeasingly furiously furiously huffily huffily indignantly indignantly furiously furiously lividly lividly wrathfully wrathfully warpath warpath vindictiveness vindictiveness vengefulness sulkiness sulkiness huffishness resentment resentment bitterness gall rancor rancour murderousness murderousness misopedia misopedia misoneism misoneism misology misology misogyny misogyny misogynism misogamy misogamy misocainea misocainea misanthropy misanthropy malice malice maliciousness  spitefulness venom malevolence malevolence malignity maleficence maleficence jealousy jealousy green-eyed_monster hostility hostility enmity ill_will heartburning heartburning hate hate hatred grudge grudge grievance envy envy enviousness the_green-eyed_monster despisal despisal despising covetousness covetousness  class_feeling belligerence belligerence belligerency antagonism antagonism animosity animosity animus bad_blood agress aggression aggression aggressive aggressiveness abhorrence abhorrence abomination detestation execration loathing odium aggressive aggressive belligerent avaricious avaricious covetous grabby grasping greedy prehensile covetous covetous envious jealous enviable enviable covetous covetous envious jealous grudging begrudging envious grudging hateful hateful hostile hostile hostile hostile jealous jealous green-eyed overjealous covetous covetous envious jealous malefic malefic malevolent malign evil malevolent malevolent malicious malevolent malevolent malicious misanthropic misanthropic misanthropical misogynic misogynic resentful resentful huffish huffish sulky despiteful despiteful spiteful vindictive abhor abhor loathe abominate execrate covet covet contemn contemn despise scorn disdain envy envy begrudge envy envy stew stew grudge hate hate detest sulk sulk pout brood brood sulk grizzle brood stew belligerently belligerently hostilely with_hostility enviously enviously covetously jealously enviously enviously covetously jealously enviably enviably hatefully hatefully belligerently belligerently hostilely with_hostility enviously enviously covetously jealously jealously jealously malevolently malevolently maliciously maliciously amok amok amuck murderously resentfully resentfully revengefully revengefully vengefully vindictively war kill killed killing killer fail failed dead die violence scandal seriousness serious danger dangerous aggravation aggravate escalation escalate tension insult disappointment disappointed crime criminal curse hurt wronged wrong intolerance racism shame death battle conflict dispute opposition oppression failure worst murders murder warlord disagreement bitter injuring offender greed fight unfortunately offensive torture disagrees trouble risk poverty-stricken injuries breakdown terrible revenge damaged noise provocation provocate victim mistreated mistreate problem damn'.lower().split())\n",
        "print(f\"anger:{similarity:.4f}\")\n",
        "\n",
        "# disgust\n",
        "similarity = word_vectors.n_similarity('With softly spoken kindly word Remember also me'.lower().split(), 'repugnance repugnance repulsion revulsion horror nausea nausea disgust disgust disgusting disgusting disgustful distasteful foul loathly loathsome repellent repellant revolting wicked yucky disgusted disgusted fed_up sick_of tired_of nauseating nauseating nauseous noisome loathsome offensive sickening vile nauseated nauseated queasy sick sickish hideous hideous repulsive abhorrent abhorrent detestable obscene repugnant repulsive disgust disgust revolt nauseate sicken churn_up disgust disgust turn_off revolt repel sicken sicken nauseate disgust disgust revolt nauseate sicken churn_up disgust disgust turn_off revolt repel repel repel repulse disgustedly disgustedly disgustedly disgustedly disgustingly disgustingly distastefully revoltingly sickeningly detestably detestably repulsively abominably odiously reject prostitution prostitute hate repugnant beastly fiend ugly rebellion refused refuse rebel insurgency revolutionary animosity noise shameful cunning corrupt corruptors corruption recalcitrance hostility hatred terrible disobey regrettable refusal damn rejection aggressive'.lower().split())\n",
        "print(f\"disgust:{similarity:.4f}\")\n",
        "\n",
        "# fear\n",
        "similarity = word_vectors.n_similarity('With softly spoken kindly word Remember also me'.lower().split(), 'unassertiveness unassertiveness trepidation trepidation timidity timidity timidness timorousness suspense suspense stage_fright shyness shyness scare scare panic_attack presage presage panic panic terror intimidation intimidation hysteria hysteria horror horror hesitance hesitance hesitancy heartlessness heartlessness coldheartedness hardheartedness foreboding foreboding premonition presentiment boding fear fear fearfulness fright diffidence diffidence doubt self_doubt self_distrust cruelty cruelty mercilessness pitilessness ruthlessness creeps creeps chill chill pall apprehension apprehension apprehensiveness dread alarm alarm dismay consternation alarmed alarmed apprehensive apprehensive apprehensive anxious apprehensive chilling chilling scarey scary shivery shuddery unkind cruel unkind diffident diffident fearful fearful fearful fearful frightful terrible awful awful dire direful dread dreaded dreadful fearful fearsome frightening horrendous horrific terrible afraid afraid hardhearted hardhearted heartless atrocious atrocious frightful horrifying horrible ugly horrified horrified horror-stricken horror-struck awful awful dire direful dread dreaded dreadful fearful fearsome frightening horrendous horrific terrible hideous hideous horrid horrific outrageous atrocious atrocious frightful horrifying horrible ugly hysterical hysterical hangdog browbeaten bullied cowed hangdog intimidated intimidated intimidated panicky panicky panicked panic-stricken panic-struck terrified frightened chilling chilling scarey scary shivery shuddery frightened frightened scared shy shy diffident diffident shy timid unsure cliff-hanging cliff-hanging suspenseful suspensive diffident diffident shy timid unsure timid timid fearful fearful timorous trepid unassertive unassertive alarm alarm alert dismay dismay alarm appal appall horrify chill chill fawn fawn crawl creep cringe cower grovel fear fear fear fear fear fear dread fear fear dismay horrify dismay dismay alarm appal appall horrify intimidate intimidate panic panic panic panic daunt daunt dash scare_off pall frighten_off scare_away frighten_away scare frighten frighten fright scare affright anxiously anxiously uneasily apprehensively cruelly cruelly diffidently diffidently fearfully fearfully fearfully fearfully heartlessly heartlessly hesitantly hesitantly hesitatingly horrifyingly horrifyingly dreadfully dreadfully awfully horribly hideously hideously horridly monstrously hysterically hysterically frighteningly frighteningly scarily shyly shyly timidly bashfully timorously timorously trepidly unassertively unassertively failure fail warn worry worried difficult doubts suspect sneak weak obstacle obsession confusion confuse  danger dangerous cold cautious hard threaten threat weaknesses weakness oppression failed terrorism difficulties difficulty unfair atrocities explosion warns warn injustice barbarically flaring bomb exploded bombing suspicion harsher harsh barbaric endangering yelling yell fails cowardly hesitation explode terrorists blast penetration harm savagery infiltrate risks infiltration endanger hard shameful bomber'.lower().split())\n",
        "print(f\"fear:{similarity:.4f}\")\n",
        "\n",
        "# joy\n",
        "similarity = word_vectors.n_similarity('With softly spoken kindly word Remember also me'.lower().split(), 'worship worship adoration warmheartedness warmheartedness warmth triumph triumph togetherness togetherness titillation titillation sympathy sympathy fellow_feeling softheartedness softheartedness tenderness soft soft_spot smugness smugness satisfaction satisfaction rejoicing rejoicing respect puppy puppy_love calf_love  infatuation protectiveness protectiveness pride pride preference preference penchant predilection taste loyalty loyalty lovingness lovingness caring love love liking liking kindheartedness kindheartedness joy joy joyousness joyfulness jollity jollity joviality jocundity jocundity jocularity designation  feeling_of_identity hilarity hilarity mirth mirthfulness glee gleefulness hero hero_worship happiness happiness gusto gusto relish zest zestfulness good_will goodwill gloat gloat gloating glee schadenfreude gladness gladness gladfulness gladsomeness gaiety gaiety merriment fulfillment fulfillment fulfilment friendliness friendliness fondness fondness fancy partiality favor favor favour exultation exultation jubilance jubilancy jubilation exuberance exuberance exhilaration exhilaration excitement euphoria euphoria enthusiasm enthusiasm empathy empathy elation elation high_spirits eagerness eagerness avidity avidness keenness devotion devotion devotedness contentment contentment complacency complacency complacence self-complacency self-satisfaction compatibility compatibility rapport comfortableness comfortableness closeness closeness intimacy cheerfulness cheerfulness blitheness carefreeness carefreeness insouciance lightheartedness lightsomeness captivation captivation enchantment enthrallment fascination buoyancy buoyancy perkiness brotherhood brotherhood bonheur bonheur benevolence benevolence beneficence beneficence bang bang flush thrill  attachment attachment fond_regard ardor ardor ardour ardor ardor ardour elan zeal approval approval amorousness amorousness enamoredness amicability amicability amicableness affection affection affectionateness fondness tenderness heart warmheartedness admiration admiration esteem admirable admirable admirable admirable affectional affectional affective emotive amicable amicable amatory amatory amorous romantic amative amative amorous approving approving approbative approbatory approved approved beneficent beneficent beneficed beneficed benefic benefic charitable benevolent brotherly brotherly brotherlike fraternal beguiled beguiled captivated charmed delighted enthralled entranced captivated captivated charmed bewitching bewitching captivating enchanting enthralling entrancing fascinating carefree carefree unworried cheerful cheerful cheerful cheerful  comfortable comfortable sympathetic compatible sympathetic complacent complacent self-satisfied contented contented happy happy devoted devoted avid avid eager zealous elated elated gleeful joyful jubilant elated elated elating elating exhilarating empathic empathic empathetic exciting exciting enthusiastic enthusiastic euphoriant euphoriant euphoric euphoric happy gladdened gladdened exhilarated elating elating exhilarating exhilarating exhilarating stimulating ebullient ebullient exuberant high_spirited exultant exultant exulting jubilant prideful rejoicing triumphal triumphant favorable favorable favourable affectionate affectionate caring fond lovesome tender warm friend friendly friendly  gala  festal festive merry   jocund jolly jovial merry mirthful cheery cheery  sunny gladsome gladsome glad  glad glad glad glad glad glad glad euphoric euphoric happy pleased happy pleased happy happy hilarious hilarious  uproarious hilarious hilarious uproarious   jocund jolly jovial merry mirthful   jocund jolly jovial merry mirthful joyful joyful joyous elated elated gleeful joyful jubilant joyful joyful joyful joyful kindhearted kindhearted likable likable likeable loving loving exultant exultant exulting jubilant prideful rejoicing triumphal triumphant protective caring protective exultant exultant exulting jubilant prideful rejoicing triumphal triumphant comforting comforting cheering satisfying pleasing appreciated gratifying pleasing satisfying satisfied satisfied satiable satiable satisfiable satisfactory satisfactory smug smug self-satisfied softhearted softhearted soft-boiled charitable charitable kindly sympathetic sympathetic sympathetic titillating titillating teased teased titillated exultant exultant exulting jubilant prideful rejoicing triumphal triumphant warmhearted warmhearted adoring adoring worshipful admire admire look_up_to affect affect impress   approve approve  enamour trance catch becharm enamor captivate beguile charm fascinate bewitch enchant cheer cheer inspire barrack urge_on exhort pep_up cheer cheer cheer cheer hearten recreate embolden cheer cheer cheer_up chirk_up cheer cheer cheer_up jolly_along jolly_up comfort comfort soothe console solace   interest elate elate lift_up uplift pick_up intoxicate elate elate lift_up uplift pick_up intoxicate exhilarate exhilarate thrill exalt exuberate exult rejoice triumph jubilate exult exult walk_on_air be_on_cloud_nine jump_for_joy favor favor favour satisfy satisfy fulfill fulfil live_up_to gladden gladden gladden gladden joy kid kid chaff jolly banter gladden gladden joy rejoice rejoice joy love love love love enjoy enjoyment love love preen preen pride congratulate wallow revel wallow rejoice triumph exuberate exult rejoice triumph jubilate rejoice rejoice joy satisfy satisfy gratify titillate tickle titillate exuberate exult rejoice triumph jubilate wallow revel wallow rejoice triumph admirably admirably laudably praiseworthily commendable amicably amicably beneficially beneficially benevolently benevolently cheerfully cheerfully cheerfully cheerfully  nigh  comfortably comfortably compatibly compatibly eagerly eagerly thirstily sympathetically sympathetically empathetically with_sympathy with_empathy enthusiastically enthusiastically ebulliently ebulliently exuberantly expansively exuberantly exuberantly riotously exultantly exultantly exultingly favorably favorably favourably gloatingly gloatingly happily happily merrily mirthfully gayly blithely jubilantly with_happiness hilariously hilariously uproariously hilariously hilariously uproariously gleefully gleefully joyously joyfully gleefully gleefully joyously joyfully fondly fondly lovingly adorably adorably endearingly proudly proudly with_pride protectively protectively giving_protection protect offering_protection gratifyingly gratifyingly satisfyingly satisfactorily satisfactorily sympathetically sympathetically empathetically with_sympathy with_empathy triumphantly triumphantly suspense suspense anticipation anticipation expectancy cliff-hanging cliff-hanging suspenseful suspensive anticipate anticipate look_for look_to harmony concord agreement agreed agree champion peace win victory victorious help aid achieve vitality  donate donation laughter laugh success fun championship succeeded succeed protection bright prize award courage birth fortune smile praise praised positive celebrate celebration celebrated worth transparency festivals concert patience  kindness assistance safety optimistic generosity  enlightened    accords support compliance successful opening charity beat meet prefer providing games game flavor adherence festival corporate desired accomplishment encourage cooperation winners winner pageant assisted assist match best inauguration ceremony giving participative convention emotionally emotion helpful grant prayers care born greeting accept promise feelings distinguished thank prayer brag joke party gratitude confident supplied suitable suitability interested meetings meeting better'.lower().split())\n",
        "print(f\"joy:{similarity:.4f}\")\n",
        "\n",
        "# sadness\n",
        "similarity = word_vectors.n_similarity('With softly spoken kindly word Remember also me'.lower().split(), 'world-weariness world-weariness Weltschmerz woe woe woefulness   weepiness weepiness tear tearfulness sorrow sorrow regret ruefulness sorrow sorrow self-pity self-pity sadness sadness unhappiness repentance repentance penitence penance plaintiveness plaintiveness oppression oppression oppressiveness mournfulness mournfulness sorrowfulness ruthfulness misery misery melancholy melancholy joylessness joylessness helplessness helplessness heavyheartedness heavyheartedness guilt guilt guilty_conscience guilt_feelings guilt_trip grief grief heartache heartbreak brokenheartedness gloom gloom gloominess somberness forlornness forlornness loneliness desolation dysphoria dysphoria downheartedness downheartedness low-spiritedness dispiritedness dolor dolor dolour dolefulness dolefulness despondency despondency despondence heartsickness disconsolateness depression depression demoralization demoralization compunction compunction remorse self-reproach cheerlessness cheerlessness uncheerfulness blues blue_devils attrition attrition contrition contriteness contrite contrite contrite contrite remorseful rueful sorry depressing cheerless uncheerful depressing cheerless uncheerful demoralizing demoralizing demoralising disheartening dispiriting demoralized demoralized discouraged disheartened gloomy  depressed dispirited  downcast downhearted  low-spirited depressing depressing depressive gloomy saddening despondent despondent heartsick doleful doleful mournful doleful doleful mournful gloomy  depressed dispirited  downcast downhearted  low-spirited dysphoric dysphoric distressed unhappy forlorn forlorn forlorn desolate forlorn godforsaken lorn   dark depressing disconsolate dismal dispiriting gloomy grim gloomy glum gloomy long-faced depressing depressing depressive gloomy saddening  dingy dismal drab drear dreary gloomy sorry gloomy gloomy grim glooming glooming gloomy gloomful grievous grievous heartbreaking heartrending grievous grievous heartbreaking heartrending bereaved bereaved bereft grief-stricken grieving mourning sorrowing guilty guilty hangdog shamefaced shamed heavyhearted heavyhearted joyless joyless joyless joyless melancholy melancholy melancholic melancholy melancholy melancholic hapless hapless miserable misfortunate pathetic piteous pitiable pitiful poor wretched miserable miserable suffer suffering wretched doleful doleful mournful doleful doleful mournful mournful mournful plaintive oppressive oppressive tyrannical tyrannous laden laden oppressed downtrodden downtrodden oppressed persecuted mournful mournful plaintive penitent penitent repentant sad sad unhappy unhappy sad unhappy unhappy sad sad sad sad sad bereaved bereaved bereft grief-stricken grieving mourning sorrowing sorrowful sorrowful regretful bad sorry regretful pitying sorry sorry_for contrite contrite remorseful rueful sorry regretful regretful sorry dolorous dolorous dolourous lachrymose tearful weeping deplorable deplorable execrable miserable woeful wretched woebegone woebegone woeful bored bored world-weary repent repent regret rue depress depress deject cast_down get_down dismay dispirit demoralize depress depress deject cast_down get_down dismay dispirit demoralize grieve grieve aggrieve grieve grieve sorrow harass persecute oppress harass repent repent regret rue sadden sadden sad grieve grieve sorrow grieve grieve sorrow ruefully ruefully contritely remorsefully cheerlessly cheerlessly cheerlessly cheerlessly despairingly despairingly despondently dolefully dolefully sorrowfully forlornly forlornly gloomily gloomily grievously grievously grievously grievously joylessly joylessly joylessly joylessly miserably miserably miserably miserably mournfully mournfully mournfully mournfully oppressively oppressively plaintively plaintively penitently penitently penitentially repentantly deplorably deplorably lamentably sadly woefully sadly sadly dolefully dolefully sorrowfully sorrowfully sorrowfully dolefully dolefully sorrowfully sorrowfully sorrowfully deplorably deplorably lamentably sadly woefully deplorably deplorably lamentably sadly woefully lost weak death die   isolate isolation pessimism pessimistic pain painful lose inability cold torment insult crime criminal upset annoy disturb'.lower().split())\n",
        "print(f\"sadness:{similarity:.4f}\")\n",
        "\n",
        "# surprise\n",
        "similarity = word_vectors.n_similarity('With softly spoken kindly word Remember also me'.lower().split(), 'wonder wonderment admiration surprise surprise stupefaction stupefaction awe awe astonishment astonishment amazement astonishing astonishing astounding staggering stupefying amazing amazing astonishing amazed amazed astonied astonished astounded stunned awed awed awestruck awestricken in_awe_of awed awed awful astonishing astonishing astounding staggering stupefying stupefying stupefying dazed dazed stunned stupefied stupid dumbfounded dumbfounded dumfounded flabbergasted stupefied thunderstruck surprising surprising surprised surprised fantastic fantastic howling marvelous rattling terrific tremendous wonderful wondrous amaze amaze astonish astound awe awe stun stun stupefy stupify perplex perplex puzzle mystify baffle bewilder flummox stupefy stupify nonplus amaze dumbfound trounce besot besot stupefy stupify surprise surprise marvel amazingly amazingly surprisingly astonishingly surprisingly surprisingly surprisedly surprisedly wonderfully wonderfully wondrous wondrously superbly toppingly marvellously terrifically marvelously exceptional strange reveal unbelievable shock fantasy superb uncovering discovering suddenly legendary innovative legend insanity discover fiction hugely unscheduled innovation incredible immense enormous emergencies uncovers mighty sizable'.lower().split())\n",
        "print(f\"surprise:{similarity:.4f}\")\n",
        "\n",
        "similarity = word_vectors.n_similarity('And water with the tyrant blood the freedom you have gained'.lower().split(), 'With wicked blood, the land engrave In freedom sacred reign'.lower().split())\n",
        "print(f\"translation:{similarity:.4f}\")"
      ],
      "metadata": {
        "id": "66N8mfLOxo1W",
        "outputId": "4de579f5-a8cf-47a8-b26e-5531aeaae70f",
        "colab": {
          "base_uri": "https://localhost:8080/"
        }
      },
      "execution_count": 54,
      "outputs": [
        {
          "output_type": "stream",
          "name": "stdout",
          "text": [
            "anger:0.7316\n",
            "disgust:0.6960\n",
            "fear:0.7327\n",
            "joy:0.8071\n",
            "sadness:0.7935\n",
            "surprise:0.7561\n",
            "translation:0.8401\n"
          ]
        }
      ]
    },
    {
      "cell_type": "code",
      "source": [
        "# anger\n",
        "similarity = word_vectors.n_similarity('When from Ukraine the Dnieper bears Into the deep blue sea The blood of foes'.lower().split(), 'wrath wrath umbrage umbrage offense pique pique  irritation lividity lividity irascibility irascibility short_temper spleen quick_temper infuriation infuriation enragement indignation indignation outrage huffiness huffiness harassment harassment torment fury fury madness frustration frustration   tantrum dudgeon dudgeon high_dudgeon displeasure displeasure dander dander hackles bad bad_temper ill_temper annoyance annoyance chafe vexation anger anger angry choler ire aggravation aggravation exasperation aggravated aggravated angry angry angered angered enraged furious infuriated maddened annoying annoying bothersome galling irritating nettlesome pesky pestering pestiferous plaguy plaguey teasing vexatious vexing annoyed annoyed harassed harried pestered vexed annoyed annoyed irritated nettled peeved riled roiled stung displeasing displeasing displeased displeased frustrating frustrating discouraged baffled balked discouraged frustrated exasperating exasperating infuriating maddening vexing angered angered enraged furious infuriated maddened huffy huffy mad sore indignant indignant  outraged umbrageous exasperating exasperating infuriating maddening vexing angered angered enraged furious infuriated maddened choleric choleric irascible livid livid indignant indignant  outraged umbrageous wrathful wrathful wroth wrothful exacerbate exacerbate exasperate aggravate anger anger see_red anger anger annoy annoy get_to bother get_at irritate rile nark nettle vex devil displease displease torment torment rag tantalize bedevil crucify dun frustrate infuriate outrage enfuriate infuriate exasperate  harass persecute oppress harass infuriate outrage enfuriate infuriate exasperate  pique pique offend angrily angrily displeasingly displeasingly furiously furiously huffily huffily indignantly indignantly furiously furiously lividly lividly wrathfully wrathfully warpath warpath vindictiveness vindictiveness vengefulness sulkiness sulkiness huffishness resentment resentment bitterness gall rancor rancour murderousness murderousness misopedia misopedia misoneism misoneism misology misology misogyny misogyny misogynism misogamy misogamy misocainea misocainea misanthropy misanthropy malice malice maliciousness  spitefulness venom malevolence malevolence malignity maleficence maleficence jealousy jealousy green-eyed_monster hostility hostility enmity ill_will heartburning heartburning hate hate hatred grudge grudge grievance envy envy enviousness the_green-eyed_monster despisal despisal despising covetousness covetousness  class_feeling belligerence belligerence belligerency antagonism antagonism animosity animosity animus bad_blood agress aggression aggression aggressive aggressiveness abhorrence abhorrence abomination detestation execration loathing odium aggressive aggressive belligerent avaricious avaricious covetous grabby grasping greedy prehensile covetous covetous envious jealous enviable enviable covetous covetous envious jealous grudging begrudging envious grudging hateful hateful hostile hostile hostile hostile jealous jealous green-eyed overjealous covetous covetous envious jealous malefic malefic malevolent malign evil malevolent malevolent malicious malevolent malevolent malicious misanthropic misanthropic misanthropical misogynic misogynic resentful resentful huffish huffish sulky despiteful despiteful spiteful vindictive abhor abhor loathe abominate execrate covet covet contemn contemn despise scorn disdain envy envy begrudge envy envy stew stew grudge hate hate detest sulk sulk pout brood brood sulk grizzle brood stew belligerently belligerently hostilely with_hostility enviously enviously covetously jealously enviously enviously covetously jealously enviably enviably hatefully hatefully belligerently belligerently hostilely with_hostility enviously enviously covetously jealously jealously jealously malevolently malevolently maliciously maliciously amok amok amuck murderously resentfully resentfully revengefully revengefully vengefully vindictively war kill killed killing killer fail failed dead die violence scandal seriousness serious danger dangerous aggravation aggravate escalation escalate tension insult disappointment disappointed crime criminal curse hurt wronged wrong intolerance racism shame death battle conflict dispute opposition oppression failure worst murders murder warlord disagreement bitter injuring offender greed fight unfortunately offensive torture disagrees trouble risk poverty-stricken injuries breakdown terrible revenge damaged noise provocation provocate victim mistreated mistreate problem damn'.lower().split())\n",
        "print(f\"anger:{similarity:.4f}\")\n",
        "\n",
        "# disgust\n",
        "similarity = word_vectors.n_similarity('When from Ukraine the Dnieper bears Into the deep blue sea The blood of foes'.lower().split(), 'repugnance repugnance repulsion revulsion horror nausea nausea disgust disgust disgusting disgusting disgustful distasteful foul loathly loathsome repellent repellant revolting wicked yucky disgusted disgusted fed_up sick_of tired_of nauseating nauseating nauseous noisome loathsome offensive sickening vile nauseated nauseated queasy sick sickish hideous hideous repulsive abhorrent abhorrent detestable obscene repugnant repulsive disgust disgust revolt nauseate sicken churn_up disgust disgust turn_off revolt repel sicken sicken nauseate disgust disgust revolt nauseate sicken churn_up disgust disgust turn_off revolt repel repel repel repulse disgustedly disgustedly disgustedly disgustedly disgustingly disgustingly distastefully revoltingly sickeningly detestably detestably repulsively abominably odiously reject prostitution prostitute hate repugnant beastly fiend ugly rebellion refused refuse rebel insurgency revolutionary animosity noise shameful cunning corrupt corruptors corruption recalcitrance hostility hatred terrible disobey regrettable refusal damn rejection aggressive'.lower().split())\n",
        "print(f\"disgust:{similarity:.4f}\")\n",
        "\n",
        "# fear\n",
        "similarity = word_vectors.n_similarity('When from Ukraine the Dnieper bears Into the deep blue sea The blood of foes'.lower().split(), 'unassertiveness unassertiveness trepidation trepidation timidity timidity timidness timorousness suspense suspense stage_fright shyness shyness scare scare panic_attack presage presage panic panic terror intimidation intimidation hysteria hysteria horror horror hesitance hesitance hesitancy heartlessness heartlessness coldheartedness hardheartedness foreboding foreboding premonition presentiment boding fear fear fearfulness fright diffidence diffidence doubt self_doubt self_distrust cruelty cruelty mercilessness pitilessness ruthlessness creeps creeps chill chill pall apprehension apprehension apprehensiveness dread alarm alarm dismay consternation alarmed alarmed apprehensive apprehensive apprehensive anxious apprehensive chilling chilling scarey scary shivery shuddery unkind cruel unkind diffident diffident fearful fearful fearful fearful frightful terrible awful awful dire direful dread dreaded dreadful fearful fearsome frightening horrendous horrific terrible afraid afraid hardhearted hardhearted heartless atrocious atrocious frightful horrifying horrible ugly horrified horrified horror-stricken horror-struck awful awful dire direful dread dreaded dreadful fearful fearsome frightening horrendous horrific terrible hideous hideous horrid horrific outrageous atrocious atrocious frightful horrifying horrible ugly hysterical hysterical hangdog browbeaten bullied cowed hangdog intimidated intimidated intimidated panicky panicky panicked panic-stricken panic-struck terrified frightened chilling chilling scarey scary shivery shuddery frightened frightened scared shy shy diffident diffident shy timid unsure cliff-hanging cliff-hanging suspenseful suspensive diffident diffident shy timid unsure timid timid fearful fearful timorous trepid unassertive unassertive alarm alarm alert dismay dismay alarm appal appall horrify chill chill fawn fawn crawl creep cringe cower grovel fear fear fear fear fear fear dread fear fear dismay horrify dismay dismay alarm appal appall horrify intimidate intimidate panic panic panic panic daunt daunt dash scare_off pall frighten_off scare_away frighten_away scare frighten frighten fright scare affright anxiously anxiously uneasily apprehensively cruelly cruelly diffidently diffidently fearfully fearfully fearfully fearfully heartlessly heartlessly hesitantly hesitantly hesitatingly horrifyingly horrifyingly dreadfully dreadfully awfully horribly hideously hideously horridly monstrously hysterically hysterically frighteningly frighteningly scarily shyly shyly timidly bashfully timorously timorously trepidly unassertively unassertively failure fail warn worry worried difficult doubts suspect sneak weak obstacle obsession confusion confuse  danger dangerous cold cautious hard threaten threat weaknesses weakness oppression failed terrorism difficulties difficulty unfair atrocities explosion warns warn injustice barbarically flaring bomb exploded bombing suspicion harsher harsh barbaric endangering yelling yell fails cowardly hesitation explode terrorists blast penetration harm savagery infiltrate risks infiltration endanger hard shameful bomber'.lower().split())\n",
        "print(f\"fear:{similarity:.4f}\")\n",
        "\n",
        "# joy\n",
        "similarity = word_vectors.n_similarity('When from Ukraine the Dnieper bears Into the deep blue sea The blood of foes'.lower().split(), 'worship worship adoration warmheartedness warmheartedness warmth triumph triumph togetherness togetherness titillation titillation sympathy sympathy fellow_feeling softheartedness softheartedness tenderness soft soft_spot smugness smugness satisfaction satisfaction rejoicing rejoicing respect puppy puppy_love calf_love  infatuation protectiveness protectiveness pride pride preference preference penchant predilection taste loyalty loyalty lovingness lovingness caring love love liking liking kindheartedness kindheartedness joy joy joyousness joyfulness jollity jollity joviality jocundity jocundity jocularity designation  feeling_of_identity hilarity hilarity mirth mirthfulness glee gleefulness hero hero_worship happiness happiness gusto gusto relish zest zestfulness good_will goodwill gloat gloat gloating glee schadenfreude gladness gladness gladfulness gladsomeness gaiety gaiety merriment fulfillment fulfillment fulfilment friendliness friendliness fondness fondness fancy partiality favor favor favour exultation exultation jubilance jubilancy jubilation exuberance exuberance exhilaration exhilaration excitement euphoria euphoria enthusiasm enthusiasm empathy empathy elation elation high_spirits eagerness eagerness avidity avidness keenness devotion devotion devotedness contentment contentment complacency complacency complacence self-complacency self-satisfaction compatibility compatibility rapport comfortableness comfortableness closeness closeness intimacy cheerfulness cheerfulness blitheness carefreeness carefreeness insouciance lightheartedness lightsomeness captivation captivation enchantment enthrallment fascination buoyancy buoyancy perkiness brotherhood brotherhood bonheur bonheur benevolence benevolence beneficence beneficence bang bang flush thrill  attachment attachment fond_regard ardor ardor ardour ardor ardor ardour elan zeal approval approval amorousness amorousness enamoredness amicability amicability amicableness affection affection affectionateness fondness tenderness heart warmheartedness admiration admiration esteem admirable admirable admirable admirable affectional affectional affective emotive amicable amicable amatory amatory amorous romantic amative amative amorous approving approving approbative approbatory approved approved beneficent beneficent beneficed beneficed benefic benefic charitable benevolent brotherly brotherly brotherlike fraternal beguiled beguiled captivated charmed delighted enthralled entranced captivated captivated charmed bewitching bewitching captivating enchanting enthralling entrancing fascinating carefree carefree unworried cheerful cheerful cheerful cheerful  comfortable comfortable sympathetic compatible sympathetic complacent complacent self-satisfied contented contented happy happy devoted devoted avid avid eager zealous elated elated gleeful joyful jubilant elated elated elating elating exhilarating empathic empathic empathetic exciting exciting enthusiastic enthusiastic euphoriant euphoriant euphoric euphoric happy gladdened gladdened exhilarated elating elating exhilarating exhilarating exhilarating stimulating ebullient ebullient exuberant high_spirited exultant exultant exulting jubilant prideful rejoicing triumphal triumphant favorable favorable favourable affectionate affectionate caring fond lovesome tender warm friend friendly friendly  gala  festal festive merry   jocund jolly jovial merry mirthful cheery cheery  sunny gladsome gladsome glad  glad glad glad glad glad glad glad euphoric euphoric happy pleased happy pleased happy happy hilarious hilarious  uproarious hilarious hilarious uproarious   jocund jolly jovial merry mirthful   jocund jolly jovial merry mirthful joyful joyful joyous elated elated gleeful joyful jubilant joyful joyful joyful joyful kindhearted kindhearted likable likable likeable loving loving exultant exultant exulting jubilant prideful rejoicing triumphal triumphant protective caring protective exultant exultant exulting jubilant prideful rejoicing triumphal triumphant comforting comforting cheering satisfying pleasing appreciated gratifying pleasing satisfying satisfied satisfied satiable satiable satisfiable satisfactory satisfactory smug smug self-satisfied softhearted softhearted soft-boiled charitable charitable kindly sympathetic sympathetic sympathetic titillating titillating teased teased titillated exultant exultant exulting jubilant prideful rejoicing triumphal triumphant warmhearted warmhearted adoring adoring worshipful admire admire look_up_to affect affect impress   approve approve  enamour trance catch becharm enamor captivate beguile charm fascinate bewitch enchant cheer cheer inspire barrack urge_on exhort pep_up cheer cheer cheer cheer hearten recreate embolden cheer cheer cheer_up chirk_up cheer cheer cheer_up jolly_along jolly_up comfort comfort soothe console solace   interest elate elate lift_up uplift pick_up intoxicate elate elate lift_up uplift pick_up intoxicate exhilarate exhilarate thrill exalt exuberate exult rejoice triumph jubilate exult exult walk_on_air be_on_cloud_nine jump_for_joy favor favor favour satisfy satisfy fulfill fulfil live_up_to gladden gladden gladden gladden joy kid kid chaff jolly banter gladden gladden joy rejoice rejoice joy love love love love enjoy enjoyment love love preen preen pride congratulate wallow revel wallow rejoice triumph exuberate exult rejoice triumph jubilate rejoice rejoice joy satisfy satisfy gratify titillate tickle titillate exuberate exult rejoice triumph jubilate wallow revel wallow rejoice triumph admirably admirably laudably praiseworthily commendable amicably amicably beneficially beneficially benevolently benevolently cheerfully cheerfully cheerfully cheerfully  nigh  comfortably comfortably compatibly compatibly eagerly eagerly thirstily sympathetically sympathetically empathetically with_sympathy with_empathy enthusiastically enthusiastically ebulliently ebulliently exuberantly expansively exuberantly exuberantly riotously exultantly exultantly exultingly favorably favorably favourably gloatingly gloatingly happily happily merrily mirthfully gayly blithely jubilantly with_happiness hilariously hilariously uproariously hilariously hilariously uproariously gleefully gleefully joyously joyfully gleefully gleefully joyously joyfully fondly fondly lovingly adorably adorably endearingly proudly proudly with_pride protectively protectively giving_protection protect offering_protection gratifyingly gratifyingly satisfyingly satisfactorily satisfactorily sympathetically sympathetically empathetically with_sympathy with_empathy triumphantly triumphantly suspense suspense anticipation anticipation expectancy cliff-hanging cliff-hanging suspenseful suspensive anticipate anticipate look_for look_to harmony concord agreement agreed agree champion peace win victory victorious help aid achieve vitality  donate donation laughter laugh success fun championship succeeded succeed protection bright prize award courage birth fortune smile praise praised positive celebrate celebration celebrated worth transparency festivals concert patience  kindness assistance safety optimistic generosity  enlightened    accords support compliance successful opening charity beat meet prefer providing games game flavor adherence festival corporate desired accomplishment encourage cooperation winners winner pageant assisted assist match best inauguration ceremony giving participative convention emotionally emotion helpful grant prayers care born greeting accept promise feelings distinguished thank prayer brag joke party gratitude confident supplied suitable suitability interested meetings meeting better'.lower().split())\n",
        "print(f\"joy:{similarity:.4f}\")\n",
        "\n",
        "# sadness\n",
        "similarity = word_vectors.n_similarity('When from Ukraine the Dnieper bears Into the deep blue sea The blood of foes'.lower().split(), 'world-weariness world-weariness Weltschmerz woe woe woefulness   weepiness weepiness tear tearfulness sorrow sorrow regret ruefulness sorrow sorrow self-pity self-pity sadness sadness unhappiness repentance repentance penitence penance plaintiveness plaintiveness oppression oppression oppressiveness mournfulness mournfulness sorrowfulness ruthfulness misery misery melancholy melancholy joylessness joylessness helplessness helplessness heavyheartedness heavyheartedness guilt guilt guilty_conscience guilt_feelings guilt_trip grief grief heartache heartbreak brokenheartedness gloom gloom gloominess somberness forlornness forlornness loneliness desolation dysphoria dysphoria downheartedness downheartedness low-spiritedness dispiritedness dolor dolor dolour dolefulness dolefulness despondency despondency despondence heartsickness disconsolateness depression depression demoralization demoralization compunction compunction remorse self-reproach cheerlessness cheerlessness uncheerfulness blues blue_devils attrition attrition contrition contriteness contrite contrite contrite contrite remorseful rueful sorry depressing cheerless uncheerful depressing cheerless uncheerful demoralizing demoralizing demoralising disheartening dispiriting demoralized demoralized discouraged disheartened gloomy  depressed dispirited  downcast downhearted  low-spirited depressing depressing depressive gloomy saddening despondent despondent heartsick doleful doleful mournful doleful doleful mournful gloomy  depressed dispirited  downcast downhearted  low-spirited dysphoric dysphoric distressed unhappy forlorn forlorn forlorn desolate forlorn godforsaken lorn   dark depressing disconsolate dismal dispiriting gloomy grim gloomy glum gloomy long-faced depressing depressing depressive gloomy saddening  dingy dismal drab drear dreary gloomy sorry gloomy gloomy grim glooming glooming gloomy gloomful grievous grievous heartbreaking heartrending grievous grievous heartbreaking heartrending bereaved bereaved bereft grief-stricken grieving mourning sorrowing guilty guilty hangdog shamefaced shamed heavyhearted heavyhearted joyless joyless joyless joyless melancholy melancholy melancholic melancholy melancholy melancholic hapless hapless miserable misfortunate pathetic piteous pitiable pitiful poor wretched miserable miserable suffer suffering wretched doleful doleful mournful doleful doleful mournful mournful mournful plaintive oppressive oppressive tyrannical tyrannous laden laden oppressed downtrodden downtrodden oppressed persecuted mournful mournful plaintive penitent penitent repentant sad sad unhappy unhappy sad unhappy unhappy sad sad sad sad sad bereaved bereaved bereft grief-stricken grieving mourning sorrowing sorrowful sorrowful regretful bad sorry regretful pitying sorry sorry_for contrite contrite remorseful rueful sorry regretful regretful sorry dolorous dolorous dolourous lachrymose tearful weeping deplorable deplorable execrable miserable woeful wretched woebegone woebegone woeful bored bored world-weary repent repent regret rue depress depress deject cast_down get_down dismay dispirit demoralize depress depress deject cast_down get_down dismay dispirit demoralize grieve grieve aggrieve grieve grieve sorrow harass persecute oppress harass repent repent regret rue sadden sadden sad grieve grieve sorrow grieve grieve sorrow ruefully ruefully contritely remorsefully cheerlessly cheerlessly cheerlessly cheerlessly despairingly despairingly despondently dolefully dolefully sorrowfully forlornly forlornly gloomily gloomily grievously grievously grievously grievously joylessly joylessly joylessly joylessly miserably miserably miserably miserably mournfully mournfully mournfully mournfully oppressively oppressively plaintively plaintively penitently penitently penitentially repentantly deplorably deplorably lamentably sadly woefully sadly sadly dolefully dolefully sorrowfully sorrowfully sorrowfully dolefully dolefully sorrowfully sorrowfully sorrowfully deplorably deplorably lamentably sadly woefully deplorably deplorably lamentably sadly woefully lost weak death die   isolate isolation pessimism pessimistic pain painful lose inability cold torment insult crime criminal upset annoy disturb'.lower().split())\n",
        "print(f\"sadness:{similarity:.4f}\")\n",
        "\n",
        "# surprise\n",
        "similarity = word_vectors.n_similarity('When from Ukraine the Dnieper bears Into the deep blue sea The blood of foes'.lower().split(), 'wonder wonderment admiration surprise surprise stupefaction stupefaction awe awe astonishment astonishment amazement astonishing astonishing astounding staggering stupefying amazing amazing astonishing amazed amazed astonied astonished astounded stunned awed awed awestruck awestricken in_awe_of awed awed awful astonishing astonishing astounding staggering stupefying stupefying stupefying dazed dazed stunned stupefied stupid dumbfounded dumbfounded dumfounded flabbergasted stupefied thunderstruck surprising surprising surprised surprised fantastic fantastic howling marvelous rattling terrific tremendous wonderful wondrous amaze amaze astonish astound awe awe stun stun stupefy stupify perplex perplex puzzle mystify baffle bewilder flummox stupefy stupify nonplus amaze dumbfound trounce besot besot stupefy stupify surprise surprise marvel amazingly amazingly surprisingly astonishingly surprisingly surprisingly surprisedly surprisedly wonderfully wonderfully wondrous wondrously superbly toppingly marvellously terrifically marvelously exceptional strange reveal unbelievable shock fantasy superb uncovering discovering suddenly legendary innovative legend insanity discover fiction hugely unscheduled innovation incredible immense enormous emergencies uncovers mighty sizable'.lower().split())\n",
        "print(f\"surprise:{similarity:.4f}\")\n",
        "\n",
        "similarity = word_vectors.n_similarity('When from Ukraine the Dnieper bears Into the deep blue sea The blood of foes'.lower().split(), 'With wicked blood, the land engrave In freedom sacred reign'.lower().split())\n",
        "print(f\"translation:{similarity:.4f}\")"
      ],
      "metadata": {
        "id": "M9Wp6IROyL9k",
        "outputId": "10f61af7-494f-414a-df46-a807afca91e7",
        "colab": {
          "base_uri": "https://localhost:8080/"
        }
      },
      "execution_count": 55,
      "outputs": [
        {
          "output_type": "stream",
          "name": "stdout",
          "text": [
            "anger:0.7175\n",
            "disgust:0.6991\n",
            "fear:0.7311\n",
            "joy:0.7311\n",
            "sadness:0.7438\n",
            "surprise:0.7406\n",
            "translation:0.7714\n"
          ]
        }
      ]
    },
    {
      "cell_type": "code",
      "source": [
        "# anger\n",
        "similarity = word_vectors.n_similarity('Oh bury me then rise ye up And break your heavy chains'.lower().split(), 'wrath wrath umbrage umbrage offense pique pique  irritation lividity lividity irascibility irascibility short_temper spleen quick_temper infuriation infuriation enragement indignation indignation outrage huffiness huffiness harassment harassment torment fury fury madness frustration frustration   tantrum dudgeon dudgeon high_dudgeon displeasure displeasure dander dander hackles bad bad_temper ill_temper annoyance annoyance chafe vexation anger anger angry choler ire aggravation aggravation exasperation aggravated aggravated angry angry angered angered enraged furious infuriated maddened annoying annoying bothersome galling irritating nettlesome pesky pestering pestiferous plaguy plaguey teasing vexatious vexing annoyed annoyed harassed harried pestered vexed annoyed annoyed irritated nettled peeved riled roiled stung displeasing displeasing displeased displeased frustrating frustrating discouraged baffled balked discouraged frustrated exasperating exasperating infuriating maddening vexing angered angered enraged furious infuriated maddened huffy huffy mad sore indignant indignant  outraged umbrageous exasperating exasperating infuriating maddening vexing angered angered enraged furious infuriated maddened choleric choleric irascible livid livid indignant indignant  outraged umbrageous wrathful wrathful wroth wrothful exacerbate exacerbate exasperate aggravate anger anger see_red anger anger annoy annoy get_to bother get_at irritate rile nark nettle vex devil displease displease torment torment rag tantalize bedevil crucify dun frustrate infuriate outrage enfuriate infuriate exasperate  harass persecute oppress harass infuriate outrage enfuriate infuriate exasperate  pique pique offend angrily angrily displeasingly displeasingly furiously furiously huffily huffily indignantly indignantly furiously furiously lividly lividly wrathfully wrathfully warpath warpath vindictiveness vindictiveness vengefulness sulkiness sulkiness huffishness resentment resentment bitterness gall rancor rancour murderousness murderousness misopedia misopedia misoneism misoneism misology misology misogyny misogyny misogynism misogamy misogamy misocainea misocainea misanthropy misanthropy malice malice maliciousness  spitefulness venom malevolence malevolence malignity maleficence maleficence jealousy jealousy green-eyed_monster hostility hostility enmity ill_will heartburning heartburning hate hate hatred grudge grudge grievance envy envy enviousness the_green-eyed_monster despisal despisal despising covetousness covetousness  class_feeling belligerence belligerence belligerency antagonism antagonism animosity animosity animus bad_blood agress aggression aggression aggressive aggressiveness abhorrence abhorrence abomination detestation execration loathing odium aggressive aggressive belligerent avaricious avaricious covetous grabby grasping greedy prehensile covetous covetous envious jealous enviable enviable covetous covetous envious jealous grudging begrudging envious grudging hateful hateful hostile hostile hostile hostile jealous jealous green-eyed overjealous covetous covetous envious jealous malefic malefic malevolent malign evil malevolent malevolent malicious malevolent malevolent malicious misanthropic misanthropic misanthropical misogynic misogynic resentful resentful huffish huffish sulky despiteful despiteful spiteful vindictive abhor abhor loathe abominate execrate covet covet contemn contemn despise scorn disdain envy envy begrudge envy envy stew stew grudge hate hate detest sulk sulk pout brood brood sulk grizzle brood stew belligerently belligerently hostilely with_hostility enviously enviously covetously jealously enviously enviously covetously jealously enviably enviably hatefully hatefully belligerently belligerently hostilely with_hostility enviously enviously covetously jealously jealously jealously malevolently malevolently maliciously maliciously amok amok amuck murderously resentfully resentfully revengefully revengefully vengefully vindictively war kill killed killing killer fail failed dead die violence scandal seriousness serious danger dangerous aggravation aggravate escalation escalate tension insult disappointment disappointed crime criminal curse hurt wronged wrong intolerance racism shame death battle conflict dispute opposition oppression failure worst murders murder warlord disagreement bitter injuring offender greed fight unfortunately offensive torture disagrees trouble risk poverty-stricken injuries breakdown terrible revenge damaged noise provocation provocate victim mistreated mistreate problem damn'.lower().split())\n",
        "print(f\"anger:{similarity:.4f}\")\n",
        "\n",
        "# disgust\n",
        "similarity = word_vectors.n_similarity('Oh bury me then rise ye up And break your heavy chains'.lower().split(), 'repugnance repugnance repulsion revulsion horror nausea nausea disgust disgust disgusting disgusting disgustful distasteful foul loathly loathsome repellent repellant revolting wicked yucky disgusted disgusted fed_up sick_of tired_of nauseating nauseating nauseous noisome loathsome offensive sickening vile nauseated nauseated queasy sick sickish hideous hideous repulsive abhorrent abhorrent detestable obscene repugnant repulsive disgust disgust revolt nauseate sicken churn_up disgust disgust turn_off revolt repel sicken sicken nauseate disgust disgust revolt nauseate sicken churn_up disgust disgust turn_off revolt repel repel repel repulse disgustedly disgustedly disgustedly disgustedly disgustingly disgustingly distastefully revoltingly sickeningly detestably detestably repulsively abominably odiously reject prostitution prostitute hate repugnant beastly fiend ugly rebellion refused refuse rebel insurgency revolutionary animosity noise shameful cunning corrupt corruptors corruption recalcitrance hostility hatred terrible disobey regrettable refusal damn rejection aggressive'.lower().split())\n",
        "print(f\"disgust:{similarity:.4f}\")\n",
        "\n",
        "# fear\n",
        "similarity = word_vectors.n_similarity('Oh bury me then rise ye up And break your heavy chains'.lower().split(), 'unassertiveness unassertiveness trepidation trepidation timidity timidity timidness timorousness suspense suspense stage_fright shyness shyness scare scare panic_attack presage presage panic panic terror intimidation intimidation hysteria hysteria horror horror hesitance hesitance hesitancy heartlessness heartlessness coldheartedness hardheartedness foreboding foreboding premonition presentiment boding fear fear fearfulness fright diffidence diffidence doubt self_doubt self_distrust cruelty cruelty mercilessness pitilessness ruthlessness creeps creeps chill chill pall apprehension apprehension apprehensiveness dread alarm alarm dismay consternation alarmed alarmed apprehensive apprehensive apprehensive anxious apprehensive chilling chilling scarey scary shivery shuddery unkind cruel unkind diffident diffident fearful fearful fearful fearful frightful terrible awful awful dire direful dread dreaded dreadful fearful fearsome frightening horrendous horrific terrible afraid afraid hardhearted hardhearted heartless atrocious atrocious frightful horrifying horrible ugly horrified horrified horror-stricken horror-struck awful awful dire direful dread dreaded dreadful fearful fearsome frightening horrendous horrific terrible hideous hideous horrid horrific outrageous atrocious atrocious frightful horrifying horrible ugly hysterical hysterical hangdog browbeaten bullied cowed hangdog intimidated intimidated intimidated panicky panicky panicked panic-stricken panic-struck terrified frightened chilling chilling scarey scary shivery shuddery frightened frightened scared shy shy diffident diffident shy timid unsure cliff-hanging cliff-hanging suspenseful suspensive diffident diffident shy timid unsure timid timid fearful fearful timorous trepid unassertive unassertive alarm alarm alert dismay dismay alarm appal appall horrify chill chill fawn fawn crawl creep cringe cower grovel fear fear fear fear fear fear dread fear fear dismay horrify dismay dismay alarm appal appall horrify intimidate intimidate panic panic panic panic daunt daunt dash scare_off pall frighten_off scare_away frighten_away scare frighten frighten fright scare affright anxiously anxiously uneasily apprehensively cruelly cruelly diffidently diffidently fearfully fearfully fearfully fearfully heartlessly heartlessly hesitantly hesitantly hesitatingly horrifyingly horrifyingly dreadfully dreadfully awfully horribly hideously hideously horridly monstrously hysterically hysterically frighteningly frighteningly scarily shyly shyly timidly bashfully timorously timorously trepidly unassertively unassertively failure fail warn worry worried difficult doubts suspect sneak weak obstacle obsession confusion confuse  danger dangerous cold cautious hard threaten threat weaknesses weakness oppression failed terrorism difficulties difficulty unfair atrocities explosion warns warn injustice barbarically flaring bomb exploded bombing suspicion harsher harsh barbaric endangering yelling yell fails cowardly hesitation explode terrorists blast penetration harm savagery infiltrate risks infiltration endanger hard shameful bomber'.lower().split())\n",
        "print(f\"fear:{similarity:.4f}\")\n",
        "\n",
        "# joy\n",
        "similarity = word_vectors.n_similarity('Oh bury me then rise ye up And break your heavy chains'.lower().split(), 'worship worship adoration warmheartedness warmheartedness warmth triumph triumph togetherness togetherness titillation titillation sympathy sympathy fellow_feeling softheartedness softheartedness tenderness soft soft_spot smugness smugness satisfaction satisfaction rejoicing rejoicing respect puppy puppy_love calf_love  infatuation protectiveness protectiveness pride pride preference preference penchant predilection taste loyalty loyalty lovingness lovingness caring love love liking liking kindheartedness kindheartedness joy joy joyousness joyfulness jollity jollity joviality jocundity jocundity jocularity designation  feeling_of_identity hilarity hilarity mirth mirthfulness glee gleefulness hero hero_worship happiness happiness gusto gusto relish zest zestfulness good_will goodwill gloat gloat gloating glee schadenfreude gladness gladness gladfulness gladsomeness gaiety gaiety merriment fulfillment fulfillment fulfilment friendliness friendliness fondness fondness fancy partiality favor favor favour exultation exultation jubilance jubilancy jubilation exuberance exuberance exhilaration exhilaration excitement euphoria euphoria enthusiasm enthusiasm empathy empathy elation elation high_spirits eagerness eagerness avidity avidness keenness devotion devotion devotedness contentment contentment complacency complacency complacence self-complacency self-satisfaction compatibility compatibility rapport comfortableness comfortableness closeness closeness intimacy cheerfulness cheerfulness blitheness carefreeness carefreeness insouciance lightheartedness lightsomeness captivation captivation enchantment enthrallment fascination buoyancy buoyancy perkiness brotherhood brotherhood bonheur bonheur benevolence benevolence beneficence beneficence bang bang flush thrill  attachment attachment fond_regard ardor ardor ardour ardor ardor ardour elan zeal approval approval amorousness amorousness enamoredness amicability amicability amicableness affection affection affectionateness fondness tenderness heart warmheartedness admiration admiration esteem admirable admirable admirable admirable affectional affectional affective emotive amicable amicable amatory amatory amorous romantic amative amative amorous approving approving approbative approbatory approved approved beneficent beneficent beneficed beneficed benefic benefic charitable benevolent brotherly brotherly brotherlike fraternal beguiled beguiled captivated charmed delighted enthralled entranced captivated captivated charmed bewitching bewitching captivating enchanting enthralling entrancing fascinating carefree carefree unworried cheerful cheerful cheerful cheerful  comfortable comfortable sympathetic compatible sympathetic complacent complacent self-satisfied contented contented happy happy devoted devoted avid avid eager zealous elated elated gleeful joyful jubilant elated elated elating elating exhilarating empathic empathic empathetic exciting exciting enthusiastic enthusiastic euphoriant euphoriant euphoric euphoric happy gladdened gladdened exhilarated elating elating exhilarating exhilarating exhilarating stimulating ebullient ebullient exuberant high_spirited exultant exultant exulting jubilant prideful rejoicing triumphal triumphant favorable favorable favourable affectionate affectionate caring fond lovesome tender warm friend friendly friendly  gala  festal festive merry   jocund jolly jovial merry mirthful cheery cheery  sunny gladsome gladsome glad  glad glad glad glad glad glad glad euphoric euphoric happy pleased happy pleased happy happy hilarious hilarious  uproarious hilarious hilarious uproarious   jocund jolly jovial merry mirthful   jocund jolly jovial merry mirthful joyful joyful joyous elated elated gleeful joyful jubilant joyful joyful joyful joyful kindhearted kindhearted likable likable likeable loving loving exultant exultant exulting jubilant prideful rejoicing triumphal triumphant protective caring protective exultant exultant exulting jubilant prideful rejoicing triumphal triumphant comforting comforting cheering satisfying pleasing appreciated gratifying pleasing satisfying satisfied satisfied satiable satiable satisfiable satisfactory satisfactory smug smug self-satisfied softhearted softhearted soft-boiled charitable charitable kindly sympathetic sympathetic sympathetic titillating titillating teased teased titillated exultant exultant exulting jubilant prideful rejoicing triumphal triumphant warmhearted warmhearted adoring adoring worshipful admire admire look_up_to affect affect impress   approve approve  enamour trance catch becharm enamor captivate beguile charm fascinate bewitch enchant cheer cheer inspire barrack urge_on exhort pep_up cheer cheer cheer cheer hearten recreate embolden cheer cheer cheer_up chirk_up cheer cheer cheer_up jolly_along jolly_up comfort comfort soothe console solace   interest elate elate lift_up uplift pick_up intoxicate elate elate lift_up uplift pick_up intoxicate exhilarate exhilarate thrill exalt exuberate exult rejoice triumph jubilate exult exult walk_on_air be_on_cloud_nine jump_for_joy favor favor favour satisfy satisfy fulfill fulfil live_up_to gladden gladden gladden gladden joy kid kid chaff jolly banter gladden gladden joy rejoice rejoice joy love love love love enjoy enjoyment love love preen preen pride congratulate wallow revel wallow rejoice triumph exuberate exult rejoice triumph jubilate rejoice rejoice joy satisfy satisfy gratify titillate tickle titillate exuberate exult rejoice triumph jubilate wallow revel wallow rejoice triumph admirably admirably laudably praiseworthily commendable amicably amicably beneficially beneficially benevolently benevolently cheerfully cheerfully cheerfully cheerfully  nigh  comfortably comfortably compatibly compatibly eagerly eagerly thirstily sympathetically sympathetically empathetically with_sympathy with_empathy enthusiastically enthusiastically ebulliently ebulliently exuberantly expansively exuberantly exuberantly riotously exultantly exultantly exultingly favorably favorably favourably gloatingly gloatingly happily happily merrily mirthfully gayly blithely jubilantly with_happiness hilariously hilariously uproariously hilariously hilariously uproariously gleefully gleefully joyously joyfully gleefully gleefully joyously joyfully fondly fondly lovingly adorably adorably endearingly proudly proudly with_pride protectively protectively giving_protection protect offering_protection gratifyingly gratifyingly satisfyingly satisfactorily satisfactorily sympathetically sympathetically empathetically with_sympathy with_empathy triumphantly triumphantly suspense suspense anticipation anticipation expectancy cliff-hanging cliff-hanging suspenseful suspensive anticipate anticipate look_for look_to harmony concord agreement agreed agree champion peace win victory victorious help aid achieve vitality  donate donation laughter laugh success fun championship succeeded succeed protection bright prize award courage birth fortune smile praise praised positive celebrate celebration celebrated worth transparency festivals concert patience  kindness assistance safety optimistic generosity  enlightened    accords support compliance successful opening charity beat meet prefer providing games game flavor adherence festival corporate desired accomplishment encourage cooperation winners winner pageant assisted assist match best inauguration ceremony giving participative convention emotionally emotion helpful grant prayers care born greeting accept promise feelings distinguished thank prayer brag joke party gratitude confident supplied suitable suitability interested meetings meeting better'.lower().split())\n",
        "print(f\"joy:{similarity:.4f}\")\n",
        "\n",
        "# sadness\n",
        "similarity = word_vectors.n_similarity('Oh bury me then rise ye up And break your heavy chains'.lower().split(), 'world-weariness world-weariness Weltschmerz woe woe woefulness   weepiness weepiness tear tearfulness sorrow sorrow regret ruefulness sorrow sorrow self-pity self-pity sadness sadness unhappiness repentance repentance penitence penance plaintiveness plaintiveness oppression oppression oppressiveness mournfulness mournfulness sorrowfulness ruthfulness misery misery melancholy melancholy joylessness joylessness helplessness helplessness heavyheartedness heavyheartedness guilt guilt guilty_conscience guilt_feelings guilt_trip grief grief heartache heartbreak brokenheartedness gloom gloom gloominess somberness forlornness forlornness loneliness desolation dysphoria dysphoria downheartedness downheartedness low-spiritedness dispiritedness dolor dolor dolour dolefulness dolefulness despondency despondency despondence heartsickness disconsolateness depression depression demoralization demoralization compunction compunction remorse self-reproach cheerlessness cheerlessness uncheerfulness blues blue_devils attrition attrition contrition contriteness contrite contrite contrite contrite remorseful rueful sorry depressing cheerless uncheerful depressing cheerless uncheerful demoralizing demoralizing demoralising disheartening dispiriting demoralized demoralized discouraged disheartened gloomy  depressed dispirited  downcast downhearted  low-spirited depressing depressing depressive gloomy saddening despondent despondent heartsick doleful doleful mournful doleful doleful mournful gloomy  depressed dispirited  downcast downhearted  low-spirited dysphoric dysphoric distressed unhappy forlorn forlorn forlorn desolate forlorn godforsaken lorn   dark depressing disconsolate dismal dispiriting gloomy grim gloomy glum gloomy long-faced depressing depressing depressive gloomy saddening  dingy dismal drab drear dreary gloomy sorry gloomy gloomy grim glooming glooming gloomy gloomful grievous grievous heartbreaking heartrending grievous grievous heartbreaking heartrending bereaved bereaved bereft grief-stricken grieving mourning sorrowing guilty guilty hangdog shamefaced shamed heavyhearted heavyhearted joyless joyless joyless joyless melancholy melancholy melancholic melancholy melancholy melancholic hapless hapless miserable misfortunate pathetic piteous pitiable pitiful poor wretched miserable miserable suffer suffering wretched doleful doleful mournful doleful doleful mournful mournful mournful plaintive oppressive oppressive tyrannical tyrannous laden laden oppressed downtrodden downtrodden oppressed persecuted mournful mournful plaintive penitent penitent repentant sad sad unhappy unhappy sad unhappy unhappy sad sad sad sad sad bereaved bereaved bereft grief-stricken grieving mourning sorrowing sorrowful sorrowful regretful bad sorry regretful pitying sorry sorry_for contrite contrite remorseful rueful sorry regretful regretful sorry dolorous dolorous dolourous lachrymose tearful weeping deplorable deplorable execrable miserable woeful wretched woebegone woebegone woeful bored bored world-weary repent repent regret rue depress depress deject cast_down get_down dismay dispirit demoralize depress depress deject cast_down get_down dismay dispirit demoralize grieve grieve aggrieve grieve grieve sorrow harass persecute oppress harass repent repent regret rue sadden sadden sad grieve grieve sorrow grieve grieve sorrow ruefully ruefully contritely remorsefully cheerlessly cheerlessly cheerlessly cheerlessly despairingly despairingly despondently dolefully dolefully sorrowfully forlornly forlornly gloomily gloomily grievously grievously grievously grievously joylessly joylessly joylessly joylessly miserably miserably miserably miserably mournfully mournfully mournfully mournfully oppressively oppressively plaintively plaintively penitently penitently penitentially repentantly deplorably deplorably lamentably sadly woefully sadly sadly dolefully dolefully sorrowfully sorrowfully sorrowfully dolefully dolefully sorrowfully sorrowfully sorrowfully deplorably deplorably lamentably sadly woefully deplorably deplorably lamentably sadly woefully lost weak death die   isolate isolation pessimism pessimistic pain painful lose inability cold torment insult crime criminal upset annoy disturb'.lower().split())\n",
        "print(f\"sadness:{similarity:.4f}\")\n",
        "\n",
        "# surprise\n",
        "similarity = word_vectors.n_similarity('Oh bury me then rise ye up And break your heavy chains'.lower().split(), 'wonder wonderment admiration surprise surprise stupefaction stupefaction awe awe astonishment astonishment amazement astonishing astonishing astounding staggering stupefying amazing amazing astonishing amazed amazed astonied astonished astounded stunned awed awed awestruck awestricken in_awe_of awed awed awful astonishing astonishing astounding staggering stupefying stupefying stupefying dazed dazed stunned stupefied stupid dumbfounded dumbfounded dumfounded flabbergasted stupefied thunderstruck surprising surprising surprised surprised fantastic fantastic howling marvelous rattling terrific tremendous wonderful wondrous amaze amaze astonish astound awe awe stun stun stupefy stupify perplex perplex puzzle mystify baffle bewilder flummox stupefy stupify nonplus amaze dumbfound trounce besot besot stupefy stupify surprise surprise marvel amazingly amazingly surprisingly astonishingly surprisingly surprisingly surprisedly surprisedly wonderfully wonderfully wondrous wondrously superbly toppingly marvellously terrifically marvelously exceptional strange reveal unbelievable shock fantasy superb uncovering discovering suddenly legendary innovative legend insanity discover fiction hugely unscheduled innovation incredible immense enormous emergencies uncovers mighty sizable'.lower().split())\n",
        "print(f\"surprise:{similarity:.4f}\")\n",
        "\n",
        "similarity = word_vectors.n_similarity('Oh bury me then rise ye up And break your heavy chains'.lower().split(), 'With wicked blood, the land engrave In freedom sacred reign'.lower().split())\n",
        "print(f\"translation:{similarity:.4f}\")"
      ],
      "metadata": {
        "id": "mEyibd_axu9Y",
        "outputId": "ccefe805-e9fb-4629-a05b-1c68a79c1683",
        "colab": {
          "base_uri": "https://localhost:8080/"
        }
      },
      "execution_count": 56,
      "outputs": [
        {
          "output_type": "stream",
          "name": "stdout",
          "text": [
            "anger:0.7117\n",
            "disgust:0.7104\n",
            "fear:0.7301\n",
            "joy:0.7803\n",
            "sadness:0.7781\n",
            "surprise:0.7320\n",
            "translation:0.6728\n"
          ]
        }
      ]
    },
    {
      "cell_type": "code",
      "source": [
        "# anger\n",
        "similarity = word_vectors.n_similarity(''.lower().split(), 'wrath wrath umbrage umbrage offense pique pique  irritation lividity lividity irascibility irascibility short_temper spleen quick_temper infuriation infuriation enragement indignation indignation outrage huffiness huffiness harassment harassment torment fury fury madness frustration frustration   tantrum dudgeon dudgeon high_dudgeon displeasure displeasure dander dander hackles bad bad_temper ill_temper annoyance annoyance chafe vexation anger anger angry choler ire aggravation aggravation exasperation aggravated aggravated angry angry angered angered enraged furious infuriated maddened annoying annoying bothersome galling irritating nettlesome pesky pestering pestiferous plaguy plaguey teasing vexatious vexing annoyed annoyed harassed harried pestered vexed annoyed annoyed irritated nettled peeved riled roiled stung displeasing displeasing displeased displeased frustrating frustrating discouraged baffled balked discouraged frustrated exasperating exasperating infuriating maddening vexing angered angered enraged furious infuriated maddened huffy huffy mad sore indignant indignant  outraged umbrageous exasperating exasperating infuriating maddening vexing angered angered enraged furious infuriated maddened choleric choleric irascible livid livid indignant indignant  outraged umbrageous wrathful wrathful wroth wrothful exacerbate exacerbate exasperate aggravate anger anger see_red anger anger annoy annoy get_to bother get_at irritate rile nark nettle vex devil displease displease torment torment rag tantalize bedevil crucify dun frustrate infuriate outrage enfuriate infuriate exasperate  harass persecute oppress harass infuriate outrage enfuriate infuriate exasperate  pique pique offend angrily angrily displeasingly displeasingly furiously furiously huffily huffily indignantly indignantly furiously furiously lividly lividly wrathfully wrathfully warpath warpath vindictiveness vindictiveness vengefulness sulkiness sulkiness huffishness resentment resentment bitterness gall rancor rancour murderousness murderousness misopedia misopedia misoneism misoneism misology misology misogyny misogyny misogynism misogamy misogamy misocainea misocainea misanthropy misanthropy malice malice maliciousness  spitefulness venom malevolence malevolence malignity maleficence maleficence jealousy jealousy green-eyed_monster hostility hostility enmity ill_will heartburning heartburning hate hate hatred grudge grudge grievance envy envy enviousness the_green-eyed_monster despisal despisal despising covetousness covetousness  class_feeling belligerence belligerence belligerency antagonism antagonism animosity animosity animus bad_blood agress aggression aggression aggressive aggressiveness abhorrence abhorrence abomination detestation execration loathing odium aggressive aggressive belligerent avaricious avaricious covetous grabby grasping greedy prehensile covetous covetous envious jealous enviable enviable covetous covetous envious jealous grudging begrudging envious grudging hateful hateful hostile hostile hostile hostile jealous jealous green-eyed overjealous covetous covetous envious jealous malefic malefic malevolent malign evil malevolent malevolent malicious malevolent malevolent malicious misanthropic misanthropic misanthropical misogynic misogynic resentful resentful huffish huffish sulky despiteful despiteful spiteful vindictive abhor abhor loathe abominate execrate covet covet contemn contemn despise scorn disdain envy envy begrudge envy envy stew stew grudge hate hate detest sulk sulk pout brood brood sulk grizzle brood stew belligerently belligerently hostilely with_hostility enviously enviously covetously jealously enviously enviously covetously jealously enviably enviably hatefully hatefully belligerently belligerently hostilely with_hostility enviously enviously covetously jealously jealously jealously malevolently malevolently maliciously maliciously amok amok amuck murderously resentfully resentfully revengefully revengefully vengefully vindictively war kill killed killing killer fail failed dead die violence scandal seriousness serious danger dangerous aggravation aggravate escalation escalate tension insult disappointment disappointed crime criminal curse hurt wronged wrong intolerance racism shame death battle conflict dispute opposition oppression failure worst murders murder warlord disagreement bitter injuring offender greed fight unfortunately offensive torture disagrees trouble risk poverty-stricken injuries breakdown terrible revenge damaged noise provocation provocate victim mistreated mistreate problem damn'.lower().split())\n",
        "print(f\"anger:{similarity:.4f}\")\n",
        "\n",
        "# disgust\n",
        "similarity = word_vectors.n_similarity(''.lower().split(), 'repugnance repugnance repulsion revulsion horror nausea nausea disgust disgust disgusting disgusting disgustful distasteful foul loathly loathsome repellent repellant revolting wicked yucky disgusted disgusted fed_up sick_of tired_of nauseating nauseating nauseous noisome loathsome offensive sickening vile nauseated nauseated queasy sick sickish hideous hideous repulsive abhorrent abhorrent detestable obscene repugnant repulsive disgust disgust revolt nauseate sicken churn_up disgust disgust turn_off revolt repel sicken sicken nauseate disgust disgust revolt nauseate sicken churn_up disgust disgust turn_off revolt repel repel repel repulse disgustedly disgustedly disgustedly disgustedly disgustingly disgustingly distastefully revoltingly sickeningly detestably detestably repulsively abominably odiously reject prostitution prostitute hate repugnant beastly fiend ugly rebellion refused refuse rebel insurgency revolutionary animosity noise shameful cunning corrupt corruptors corruption recalcitrance hostility hatred terrible disobey regrettable refusal damn rejection aggressive'.lower().split())\n",
        "print(f\"disgust:{similarity:.4f}\")\n",
        "\n",
        "# fear\n",
        "similarity = word_vectors.n_similarity(''.lower().split(), 'unassertiveness unassertiveness trepidation trepidation timidity timidity timidness timorousness suspense suspense stage_fright shyness shyness scare scare panic_attack presage presage panic panic terror intimidation intimidation hysteria hysteria horror horror hesitance hesitance hesitancy heartlessness heartlessness coldheartedness hardheartedness foreboding foreboding premonition presentiment boding fear fear fearfulness fright diffidence diffidence doubt self_doubt self_distrust cruelty cruelty mercilessness pitilessness ruthlessness creeps creeps chill chill pall apprehension apprehension apprehensiveness dread alarm alarm dismay consternation alarmed alarmed apprehensive apprehensive apprehensive anxious apprehensive chilling chilling scarey scary shivery shuddery unkind cruel unkind diffident diffident fearful fearful fearful fearful frightful terrible awful awful dire direful dread dreaded dreadful fearful fearsome frightening horrendous horrific terrible afraid afraid hardhearted hardhearted heartless atrocious atrocious frightful horrifying horrible ugly horrified horrified horror-stricken horror-struck awful awful dire direful dread dreaded dreadful fearful fearsome frightening horrendous horrific terrible hideous hideous horrid horrific outrageous atrocious atrocious frightful horrifying horrible ugly hysterical hysterical hangdog browbeaten bullied cowed hangdog intimidated intimidated intimidated panicky panicky panicked panic-stricken panic-struck terrified frightened chilling chilling scarey scary shivery shuddery frightened frightened scared shy shy diffident diffident shy timid unsure cliff-hanging cliff-hanging suspenseful suspensive diffident diffident shy timid unsure timid timid fearful fearful timorous trepid unassertive unassertive alarm alarm alert dismay dismay alarm appal appall horrify chill chill fawn fawn crawl creep cringe cower grovel fear fear fear fear fear fear dread fear fear dismay horrify dismay dismay alarm appal appall horrify intimidate intimidate panic panic panic panic daunt daunt dash scare_off pall frighten_off scare_away frighten_away scare frighten frighten fright scare affright anxiously anxiously uneasily apprehensively cruelly cruelly diffidently diffidently fearfully fearfully fearfully fearfully heartlessly heartlessly hesitantly hesitantly hesitatingly horrifyingly horrifyingly dreadfully dreadfully awfully horribly hideously hideously horridly monstrously hysterically hysterically frighteningly frighteningly scarily shyly shyly timidly bashfully timorously timorously trepidly unassertively unassertively failure fail warn worry worried difficult doubts suspect sneak weak obstacle obsession confusion confuse  danger dangerous cold cautious hard threaten threat weaknesses weakness oppression failed terrorism difficulties difficulty unfair atrocities explosion warns warn injustice barbarically flaring bomb exploded bombing suspicion harsher harsh barbaric endangering yelling yell fails cowardly hesitation explode terrorists blast penetration harm savagery infiltrate risks infiltration endanger hard shameful bomber'.lower().split())\n",
        "print(f\"fear:{similarity:.4f}\")\n",
        "\n",
        "# joy\n",
        "similarity = word_vectors.n_similarity(''.lower().split(), 'worship worship adoration warmheartedness warmheartedness warmth triumph triumph togetherness togetherness titillation titillation sympathy sympathy fellow_feeling softheartedness softheartedness tenderness soft soft_spot smugness smugness satisfaction satisfaction rejoicing rejoicing respect puppy puppy_love calf_love  infatuation protectiveness protectiveness pride pride preference preference penchant predilection taste loyalty loyalty lovingness lovingness caring love love liking liking kindheartedness kindheartedness joy joy joyousness joyfulness jollity jollity joviality jocundity jocundity jocularity designation  feeling_of_identity hilarity hilarity mirth mirthfulness glee gleefulness hero hero_worship happiness happiness gusto gusto relish zest zestfulness good_will goodwill gloat gloat gloating glee schadenfreude gladness gladness gladfulness gladsomeness gaiety gaiety merriment fulfillment fulfillment fulfilment friendliness friendliness fondness fondness fancy partiality favor favor favour exultation exultation jubilance jubilancy jubilation exuberance exuberance exhilaration exhilaration excitement euphoria euphoria enthusiasm enthusiasm empathy empathy elation elation high_spirits eagerness eagerness avidity avidness keenness devotion devotion devotedness contentment contentment complacency complacency complacence self-complacency self-satisfaction compatibility compatibility rapport comfortableness comfortableness closeness closeness intimacy cheerfulness cheerfulness blitheness carefreeness carefreeness insouciance lightheartedness lightsomeness captivation captivation enchantment enthrallment fascination buoyancy buoyancy perkiness brotherhood brotherhood bonheur bonheur benevolence benevolence beneficence beneficence bang bang flush thrill  attachment attachment fond_regard ardor ardor ardour ardor ardor ardour elan zeal approval approval amorousness amorousness enamoredness amicability amicability amicableness affection affection affectionateness fondness tenderness heart warmheartedness admiration admiration esteem admirable admirable admirable admirable affectional affectional affective emotive amicable amicable amatory amatory amorous romantic amative amative amorous approving approving approbative approbatory approved approved beneficent beneficent beneficed beneficed benefic benefic charitable benevolent brotherly brotherly brotherlike fraternal beguiled beguiled captivated charmed delighted enthralled entranced captivated captivated charmed bewitching bewitching captivating enchanting enthralling entrancing fascinating carefree carefree unworried cheerful cheerful cheerful cheerful  comfortable comfortable sympathetic compatible sympathetic complacent complacent self-satisfied contented contented happy happy devoted devoted avid avid eager zealous elated elated gleeful joyful jubilant elated elated elating elating exhilarating empathic empathic empathetic exciting exciting enthusiastic enthusiastic euphoriant euphoriant euphoric euphoric happy gladdened gladdened exhilarated elating elating exhilarating exhilarating exhilarating stimulating ebullient ebullient exuberant high_spirited exultant exultant exulting jubilant prideful rejoicing triumphal triumphant favorable favorable favourable affectionate affectionate caring fond lovesome tender warm friend friendly friendly  gala  festal festive merry   jocund jolly jovial merry mirthful cheery cheery  sunny gladsome gladsome glad  glad glad glad glad glad glad glad euphoric euphoric happy pleased happy pleased happy happy hilarious hilarious  uproarious hilarious hilarious uproarious   jocund jolly jovial merry mirthful   jocund jolly jovial merry mirthful joyful joyful joyous elated elated gleeful joyful jubilant joyful joyful joyful joyful kindhearted kindhearted likable likable likeable loving loving exultant exultant exulting jubilant prideful rejoicing triumphal triumphant protective caring protective exultant exultant exulting jubilant prideful rejoicing triumphal triumphant comforting comforting cheering satisfying pleasing appreciated gratifying pleasing satisfying satisfied satisfied satiable satiable satisfiable satisfactory satisfactory smug smug self-satisfied softhearted softhearted soft-boiled charitable charitable kindly sympathetic sympathetic sympathetic titillating titillating teased teased titillated exultant exultant exulting jubilant prideful rejoicing triumphal triumphant warmhearted warmhearted adoring adoring worshipful admire admire look_up_to affect affect impress   approve approve  enamour trance catch becharm enamor captivate beguile charm fascinate bewitch enchant cheer cheer inspire barrack urge_on exhort pep_up cheer cheer cheer cheer hearten recreate embolden cheer cheer cheer_up chirk_up cheer cheer cheer_up jolly_along jolly_up comfort comfort soothe console solace   interest elate elate lift_up uplift pick_up intoxicate elate elate lift_up uplift pick_up intoxicate exhilarate exhilarate thrill exalt exuberate exult rejoice triumph jubilate exult exult walk_on_air be_on_cloud_nine jump_for_joy favor favor favour satisfy satisfy fulfill fulfil live_up_to gladden gladden gladden gladden joy kid kid chaff jolly banter gladden gladden joy rejoice rejoice joy love love love love enjoy enjoyment love love preen preen pride congratulate wallow revel wallow rejoice triumph exuberate exult rejoice triumph jubilate rejoice rejoice joy satisfy satisfy gratify titillate tickle titillate exuberate exult rejoice triumph jubilate wallow revel wallow rejoice triumph admirably admirably laudably praiseworthily commendable amicably amicably beneficially beneficially benevolently benevolently cheerfully cheerfully cheerfully cheerfully  nigh  comfortably comfortably compatibly compatibly eagerly eagerly thirstily sympathetically sympathetically empathetically with_sympathy with_empathy enthusiastically enthusiastically ebulliently ebulliently exuberantly expansively exuberantly exuberantly riotously exultantly exultantly exultingly favorably favorably favourably gloatingly gloatingly happily happily merrily mirthfully gayly blithely jubilantly with_happiness hilariously hilariously uproariously hilariously hilariously uproariously gleefully gleefully joyously joyfully gleefully gleefully joyously joyfully fondly fondly lovingly adorably adorably endearingly proudly proudly with_pride protectively protectively giving_protection protect offering_protection gratifyingly gratifyingly satisfyingly satisfactorily satisfactorily sympathetically sympathetically empathetically with_sympathy with_empathy triumphantly triumphantly suspense suspense anticipation anticipation expectancy cliff-hanging cliff-hanging suspenseful suspensive anticipate anticipate look_for look_to harmony concord agreement agreed agree champion peace win victory victorious help aid achieve vitality  donate donation laughter laugh success fun championship succeeded succeed protection bright prize award courage birth fortune smile praise praised positive celebrate celebration celebrated worth transparency festivals concert patience  kindness assistance safety optimistic generosity  enlightened    accords support compliance successful opening charity beat meet prefer providing games game flavor adherence festival corporate desired accomplishment encourage cooperation winners winner pageant assisted assist match best inauguration ceremony giving participative convention emotionally emotion helpful grant prayers care born greeting accept promise feelings distinguished thank prayer brag joke party gratitude confident supplied suitable suitability interested meetings meeting better'.lower().split())\n",
        "print(f\"joy:{similarity:.4f}\")\n",
        "\n",
        "# sadness\n",
        "similarity = word_vectors.n_similarity(''.lower().split(), 'world-weariness world-weariness Weltschmerz woe woe woefulness   weepiness weepiness tear tearfulness sorrow sorrow regret ruefulness sorrow sorrow self-pity self-pity sadness sadness unhappiness repentance repentance penitence penance plaintiveness plaintiveness oppression oppression oppressiveness mournfulness mournfulness sorrowfulness ruthfulness misery misery melancholy melancholy joylessness joylessness helplessness helplessness heavyheartedness heavyheartedness guilt guilt guilty_conscience guilt_feelings guilt_trip grief grief heartache heartbreak brokenheartedness gloom gloom gloominess somberness forlornness forlornness loneliness desolation dysphoria dysphoria downheartedness downheartedness low-spiritedness dispiritedness dolor dolor dolour dolefulness dolefulness despondency despondency despondence heartsickness disconsolateness depression depression demoralization demoralization compunction compunction remorse self-reproach cheerlessness cheerlessness uncheerfulness blues blue_devils attrition attrition contrition contriteness contrite contrite contrite contrite remorseful rueful sorry depressing cheerless uncheerful depressing cheerless uncheerful demoralizing demoralizing demoralising disheartening dispiriting demoralized demoralized discouraged disheartened gloomy  depressed dispirited  downcast downhearted  low-spirited depressing depressing depressive gloomy saddening despondent despondent heartsick doleful doleful mournful doleful doleful mournful gloomy  depressed dispirited  downcast downhearted  low-spirited dysphoric dysphoric distressed unhappy forlorn forlorn forlorn desolate forlorn godforsaken lorn   dark depressing disconsolate dismal dispiriting gloomy grim gloomy glum gloomy long-faced depressing depressing depressive gloomy saddening  dingy dismal drab drear dreary gloomy sorry gloomy gloomy grim glooming glooming gloomy gloomful grievous grievous heartbreaking heartrending grievous grievous heartbreaking heartrending bereaved bereaved bereft grief-stricken grieving mourning sorrowing guilty guilty hangdog shamefaced shamed heavyhearted heavyhearted joyless joyless joyless joyless melancholy melancholy melancholic melancholy melancholy melancholic hapless hapless miserable misfortunate pathetic piteous pitiable pitiful poor wretched miserable miserable suffer suffering wretched doleful doleful mournful doleful doleful mournful mournful mournful plaintive oppressive oppressive tyrannical tyrannous laden laden oppressed downtrodden downtrodden oppressed persecuted mournful mournful plaintive penitent penitent repentant sad sad unhappy unhappy sad unhappy unhappy sad sad sad sad sad bereaved bereaved bereft grief-stricken grieving mourning sorrowing sorrowful sorrowful regretful bad sorry regretful pitying sorry sorry_for contrite contrite remorseful rueful sorry regretful regretful sorry dolorous dolorous dolourous lachrymose tearful weeping deplorable deplorable execrable miserable woeful wretched woebegone woebegone woeful bored bored world-weary repent repent regret rue depress depress deject cast_down get_down dismay dispirit demoralize depress depress deject cast_down get_down dismay dispirit demoralize grieve grieve aggrieve grieve grieve sorrow harass persecute oppress harass repent repent regret rue sadden sadden sad grieve grieve sorrow grieve grieve sorrow ruefully ruefully contritely remorsefully cheerlessly cheerlessly cheerlessly cheerlessly despairingly despairingly despondently dolefully dolefully sorrowfully forlornly forlornly gloomily gloomily grievously grievously grievously grievously joylessly joylessly joylessly joylessly miserably miserably miserably miserably mournfully mournfully mournfully mournfully oppressively oppressively plaintively plaintively penitently penitently penitentially repentantly deplorably deplorably lamentably sadly woefully sadly sadly dolefully dolefully sorrowfully sorrowfully sorrowfully dolefully dolefully sorrowfully sorrowfully sorrowfully deplorably deplorably lamentably sadly woefully deplorably deplorably lamentably sadly woefully lost weak death die   isolate isolation pessimism pessimistic pain painful lose inability cold torment insult crime criminal upset annoy disturb'.lower().split())\n",
        "print(f\"sadness:{similarity:.4f}\")\n",
        "\n",
        "# surprise\n",
        "similarity = word_vectors.n_similarity(''.lower().split(), 'wonder wonderment admiration surprise surprise stupefaction stupefaction awe awe astonishment astonishment amazement astonishing astonishing astounding staggering stupefying amazing amazing astonishing amazed amazed astonied astonished astounded stunned awed awed awestruck awestricken in_awe_of awed awed awful astonishing astonishing astounding staggering stupefying stupefying stupefying dazed dazed stunned stupefied stupid dumbfounded dumbfounded dumfounded flabbergasted stupefied thunderstruck surprising surprising surprised surprised fantastic fantastic howling marvelous rattling terrific tremendous wonderful wondrous amaze amaze astonish astound awe awe stun stun stupefy stupify perplex perplex puzzle mystify baffle bewilder flummox stupefy stupify nonplus amaze dumbfound trounce besot besot stupefy stupify surprise surprise marvel amazingly amazingly surprisingly astonishingly surprisingly surprisingly surprisedly surprisedly wonderfully wonderfully wondrous wondrously superbly toppingly marvellously terrifically marvelously exceptional strange reveal unbelievable shock fantasy superb uncovering discovering suddenly legendary innovative legend insanity discover fiction hugely unscheduled innovation incredible immense enormous emergencies uncovers mighty sizable'.lower().split())\n",
        "print(f\"surprise:{similarity:.4f}\")\n",
        "\n",
        "similarity = word_vectors.n_similarity(''.lower().split(), 'With wicked blood, the land engrave In freedom sacred reign'.lower().split())\n",
        "print(f\"translation:{similarity:.4f}\")"
      ],
      "metadata": {
        "id": "6lsVAT_DyYBg"
      },
      "execution_count": null,
      "outputs": []
    },
    {
      "cell_type": "markdown",
      "source": [
        "## one-word descriptors"
      ],
      "metadata": {
        "id": "I1Tx288vxpgw"
      }
    },
    {
      "cell_type": "code",
      "source": [
        "# anger\n",
        "similarity = word_vectors.n_similarity('And water with the tyrant blood the freedom you have gained'.lower().split(), 'angry outraged'.lower().split())\n",
        "print(f\"anger:{similarity:.4f}\")\n",
        "\n",
        "# disgust\n",
        "similarity = word_vectors.n_similarity('And water with the tyrant blood the freedom you have gained'.lower().split(), 'disgusted'.lower().split())\n",
        "print(f\"disgust:{similarity:.4f}\")\n",
        "\n",
        "# fear\n",
        "similarity = word_vectors.n_similarity('And water with the tyrant blood the freedom you have gained'.lower().split(), 'scared'.lower().split())\n",
        "print(f\"fear:{similarity:.4f}\")\n",
        "\n",
        "# joy\n",
        "similarity = word_vectors.n_similarity('And water with the tyrant blood the freedom you have gained'.lower().split(), 'happy'.lower().split())\n",
        "print(f\"joy:{similarity:.4f}\")\n",
        "\n",
        "# sadness\n",
        "similarity = word_vectors.n_similarity('And water with the tyrant blood the freedom you have gained'.lower().split(), 'sad'.lower().split())\n",
        "print(f\"sadness:{similarity:.4f}\")\n",
        "\n",
        "# surprise\n",
        "similarity = word_vectors.n_similarity('And water with the tyrant blood the freedom you have gained'.lower().split(), 'surprised'.lower().split())\n",
        "print(f\"surprise:{similarity:.4f}\")\n",
        "\n",
        "similarity = word_vectors.n_similarity('And water with the tyrant blood the freedom you have gained'.lower().split(), 'With wicked blood, the land engrave In freedom sacred reign'.lower().split())\n",
        "print(f\"translation:{similarity:.4f}\")\n"
      ],
      "metadata": {
        "colab": {
          "base_uri": "https://localhost:8080/"
        },
        "id": "S_R76pNuoBFN",
        "outputId": "3a0ab34c-577d-40c3-e808-9e3c3477e1a0"
      },
      "execution_count": 36,
      "outputs": [
        {
          "output_type": "stream",
          "name": "stdout",
          "text": [
            "anger:0.6038\n",
            "disgust:0.5378\n",
            "fear:0.5958\n",
            "joy:0.4468\n",
            "sadness:0.4833\n",
            "surprise:0.5713\n",
            "translation:0.8401\n"
          ]
        }
      ]
    },
    {
      "cell_type": "markdown",
      "source": [
        "## 4-word descriptors"
      ],
      "metadata": {
        "id": "-BTr63AptSmR"
      }
    },
    {
      "cell_type": "code",
      "source": [
        "# anger\n",
        "similarity = word_vectors.n_similarity('And water with the tyrant blood the freedom you have gained'.lower().split(), 'angry furious outraged annoyed'.lower().split())\n",
        "print(f\"anger:{similarity:.4f}\")\n",
        "\n",
        "# disgust\n",
        "similarity = word_vectors.n_similarity('And water with the tyrant blood the freedom you have gained'.lower().split(), 'disgusted appauled revolted sick'.lower().split())\n",
        "print(f\"disgust:{similarity:.4f}\")\n",
        "\n",
        "# fear\n",
        "similarity = word_vectors.n_similarity('And water with the tyrant blood the freedom you have gained'.lower().split(), 'scared afraid panicked fearful'.lower().split())\n",
        "print(f\"fear:{similarity:.4f}\")\n",
        "\n",
        "# joy\n",
        "similarity = word_vectors.n_similarity('And water with the tyrant blood the freedom you have gained'.lower().split(), 'happy glad cheerful delighted'.lower().split())\n",
        "print(f\"joy:{similarity:.4f}\")\n",
        "\n",
        "# sadness\n",
        "similarity = word_vectors.n_similarity('And water with the tyrant blood the freedom you have gained'.lower().split(), 'sad heartbroken depressed dismal'.lower().split())\n",
        "print(f\"sadness:{similarity:.4f}\")\n",
        "\n",
        "# surprise\n",
        "similarity = word_vectors.n_similarity('And water with the tyrant blood the freedom you have gained'.lower().split(), 'surprised bewildered astonished stunned'.lower().split())\n",
        "print(f\"surprise:{similarity:.4f}\")\n",
        "\n",
        "similarity = word_vectors.n_similarity('And water with the tyrant blood the freedom you have gained'.lower().split(), 'With wicked blood, the land engrave In freedom sacred reign'.lower().split())\n",
        "print(f\"translation:{similarity:.4f}\")\n"
      ],
      "metadata": {
        "colab": {
          "base_uri": "https://localhost:8080/"
        },
        "id": "J2stgptApJkK",
        "outputId": "6194450c-5548-49ba-aa3b-5c195ed66b9f"
      },
      "execution_count": 58,
      "outputs": [
        {
          "output_type": "stream",
          "name": "stdout",
          "text": [
            "anger:0.6411\n",
            "disgust:0.6174\n",
            "fear:0.6675\n",
            "joy:0.6499\n",
            "sadness:0.7271\n",
            "surprise:0.7142\n",
            "translation:0.8401\n"
          ]
        }
      ]
    },
    {
      "cell_type": "code",
      "source": [
        "# anger\n",
        "similarity = word_vectors.n_similarity('With softly spoken kindly word Remember also me'.lower().split(), 'angry furious outraged annoyed'.lower().split())\n",
        "print(f\"anger:{similarity:.4f}\")\n",
        "\n",
        "# disgust\n",
        "similarity = word_vectors.n_similarity('With softly spoken kindly word Remember also me'.lower().split(), 'disgusted appauled revolted sick'.lower().split())\n",
        "print(f\"disgust:{similarity:.4f}\")\n",
        "\n",
        "# fear\n",
        "similarity = word_vectors.n_similarity('With softly spoken kindly word Remember also me'.lower().split(), 'scared afraid panicked fearful'.lower().split())\n",
        "print(f\"fear:{similarity:.4f}\")\n",
        "\n",
        "# joy\n",
        "similarity = word_vectors.n_similarity('With softly spoken kindly word Remember also me'.lower().split(), 'happy glad cheerful delighted'.lower().split())\n",
        "print(f\"joy:{similarity:.4f}\")\n",
        "\n",
        "# sadness\n",
        "similarity = word_vectors.n_similarity('With softly spoken kindly word Remember also me'.lower().split(), 'sad heartbroken depressed dismal'.lower().split())\n",
        "print(f\"sadness:{similarity:.4f}\")\n",
        "\n",
        "# surprise\n",
        "similarity = word_vectors.n_similarity('With softly spoken kindly word Remember also me'.lower().split(), 'surprised bewildered astonished stunned'.lower().split())\n",
        "print(f\"surprise:{similarity:.4f}\")\n",
        "\n",
        "similarity = word_vectors.n_similarity('And water with the tyrant blood the freedom you have gained'.lower().split(), 'With wicked blood, the land engrave In freedom sacred reign'.lower().split())\n",
        "print(f\"translation:{similarity:.4f}\")\n"
      ],
      "metadata": {
        "colab": {
          "base_uri": "https://localhost:8080/"
        },
        "id": "DfHA8Be4sBo4",
        "outputId": "a5797c0b-34f2-4271-e2d4-24da76101033"
      },
      "execution_count": 59,
      "outputs": [
        {
          "output_type": "stream",
          "name": "stdout",
          "text": [
            "anger:0.6819\n",
            "disgust:0.5763\n",
            "fear:0.7008\n",
            "joy:0.7798\n",
            "sadness:0.7015\n",
            "surprise:0.7164\n",
            "translation:0.8401\n"
          ]
        }
      ]
    },
    {
      "cell_type": "code",
      "source": [
        "# anger\n",
        "similarity = word_vectors.n_similarity('When from Ukraine the Dnieper bears Into the deep blue sea The blood of foes'.lower().split(), 'angry furious outraged annoyed'.lower().split())\n",
        "print(f\"anger:{similarity:.4f}\")\n",
        "\n",
        "# disgust\n",
        "similarity = word_vectors.n_similarity('When from Ukraine the Dnieper bears Into the deep blue sea The blood of foes'.lower().split(), 'disgusted appauled revolted sick'.lower().split())\n",
        "print(f\"disgust:{similarity:.4f}\")\n",
        "\n",
        "# fear\n",
        "similarity = word_vectors.n_similarity('When from Ukraine the Dnieper bears Into the deep blue sea The blood of foes'.lower().split(), 'scared afraid panicked fearful'.lower().split())\n",
        "print(f\"fear:{similarity:.4f}\")\n",
        "\n",
        "# joy\n",
        "similarity = word_vectors.n_similarity('When from Ukraine the Dnieper bears Into the deep blue sea The blood of foes'.lower().split(), 'happy glad cheerful delighted'.lower().split())\n",
        "print(f\"joy:{similarity:.4f}\")\n",
        "\n",
        "# sadness\n",
        "similarity = word_vectors.n_similarity('When from Ukraine the Dnieper bears Into the deep blue sea The blood of foes'.lower().split(), 'sad heartbroken depressed dismal'.lower().split())\n",
        "print(f\"sadness:{similarity:.4f}\")\n",
        "\n",
        "# surprise\n",
        "similarity = word_vectors.n_similarity('When from Ukraine the Dnieper bears Into the deep blue sea The blood of foes'.lower().split(), 'surprised bewildered astonished stunned'.lower().split())\n",
        "print(f\"surprise:{similarity:.4f}\")\n",
        "\n",
        "similarity = word_vectors.n_similarity('When from Ukraine the Dnieper bears Into the deep blue sea The blood of foes'.lower().split(), 'With wicked blood, the land engrave In freedom sacred reign'.lower().split())\n",
        "print(f\"translation:{similarity:.4f}\")\n"
      ],
      "metadata": {
        "colab": {
          "base_uri": "https://localhost:8080/"
        },
        "id": "vei98SvZs1xz",
        "outputId": "b1b4ac54-f005-4388-f168-910b37b70301"
      },
      "execution_count": 60,
      "outputs": [
        {
          "output_type": "stream",
          "name": "stdout",
          "text": [
            "anger:0.5821\n",
            "disgust:0.5736\n",
            "fear:0.6131\n",
            "joy:0.5813\n",
            "sadness:0.7330\n",
            "surprise:0.6405\n",
            "translation:0.7714\n"
          ]
        }
      ]
    },
    {
      "cell_type": "code",
      "source": [
        "# anger\n",
        "similarity = word_vectors.n_similarity('Oh bury me then rise ye up And break your heavy chains'.lower().split(), 'angry furious outraged annoyed'.lower().split())\n",
        "print(f\"anger:{similarity:.4f}\")\n",
        "\n",
        "# disgust\n",
        "similarity = word_vectors.n_similarity('Oh bury me then rise ye up And break your heavy chains'.lower().split(), 'disgusted appauled revolted sick'.lower().split())\n",
        "print(f\"disgust:{similarity:.4f}\")\n",
        "\n",
        "# fear\n",
        "similarity = word_vectors.n_similarity('Oh bury me then rise ye up And break your heavy chains'.lower().split(), 'scared afraid panicked fearful'.lower().split())\n",
        "print(f\"fear:{similarity:.4f}\")\n",
        "\n",
        "# joy\n",
        "similarity = word_vectors.n_similarity('Oh bury me then rise ye up And break your heavy chains'.lower().split(), 'happy glad cheerful delighted'.lower().split())\n",
        "print(f\"joy:{similarity:.4f}\")\n",
        "\n",
        "# sadness\n",
        "similarity = word_vectors.n_similarity('Oh bury me then rise ye up And break your heavy chains'.lower().split(), 'sad heartbroken depressed dismal'.lower().split())\n",
        "print(f\"sadness:{similarity:.4f}\")\n",
        "\n",
        "# surprise\n",
        "similarity = word_vectors.n_similarity('Oh bury me then rise ye up And break your heavy chains'.lower().split(), 'surprised bewildered astonished stunned'.lower().split())\n",
        "print(f\"surprise:{similarity:.4f}\")\n",
        "\n",
        "similarity = word_vectors.n_similarity('Oh bury me then rise ye up And break your heavy chains'.lower().split(), 'With wicked blood, the land engrave In freedom sacred reign'.lower().split())\n",
        "print(f\"translation:{similarity:.4f}\")\n"
      ],
      "metadata": {
        "id": "7PzGvcR1zPRa",
        "outputId": "8cfd5d72-5306-4dc1-dc5a-14b305336204",
        "colab": {
          "base_uri": "https://localhost:8080/"
        }
      },
      "execution_count": 61,
      "outputs": [
        {
          "output_type": "stream",
          "name": "stdout",
          "text": [
            "anger:0.6584\n",
            "disgust:0.6071\n",
            "fear:0.7213\n",
            "joy:0.7281\n",
            "sadness:0.6978\n",
            "surprise:0.7106\n",
            "translation:0.6728\n"
          ]
        }
      ]
    },
    {
      "cell_type": "code",
      "source": [
        "# anger\n",
        "similarity = word_vectors.n_similarity(''.lower().split(), 'angry furious outraged annoyed'.lower().split())\n",
        "print(f\"anger:{similarity:.4f}\")\n",
        "\n",
        "# disgust\n",
        "similarity = word_vectors.n_similarity(''.lower().split(), 'disgusted appauled revolted sick'.lower().split())\n",
        "print(f\"disgust:{similarity:.4f}\")\n",
        "\n",
        "# fear\n",
        "similarity = word_vectors.n_similarity(''.lower().split(), 'scared afraid panicked fearful'.lower().split())\n",
        "print(f\"fear:{similarity:.4f}\")\n",
        "\n",
        "# joy\n",
        "similarity = word_vectors.n_similarity(''.lower().split(), 'happy glad cheerful delighted'.lower().split())\n",
        "print(f\"joy:{similarity:.4f}\")\n",
        "\n",
        "# sadness\n",
        "similarity = word_vectors.n_similarity(''.lower().split(), 'sad heartbroken depressed dismal'.lower().split())\n",
        "print(f\"sadness:{similarity:.4f}\")\n",
        "\n",
        "# surprise\n",
        "similarity = word_vectors.n_similarity(''.lower().split(), 'surprised bewildered astonished stunned'.lower().split())\n",
        "print(f\"surprise:{similarity:.4f}\")\n",
        "\n",
        "similarity = word_vectors.n_similarity(''.lower().split(), 'With wicked blood, the land engrave In freedom sacred reign'.lower().split())\n",
        "print(f\"translation:{similarity:.4f}\")\n"
      ],
      "metadata": {
        "id": "zeEsrL2Py-kL"
      },
      "execution_count": null,
      "outputs": []
    },
    {
      "cell_type": "code",
      "source": [
        "print('\\nAnd water with the tyrant blood the freedom you have gained')\n",
        "analogous_words = word_vectors.most_similar(positive='And water with the tyrant blood the freedom you have gained'.lower().split())\n",
        "print('\\n'.join([str(tup) for tup in analogous_words]))\n",
        "\n",
        "print('\\nWith softly spoken kindly word Remember also me')\n",
        "analogous_words = word_vectors.most_similar(positive='With softly spoken kindly word Remember also me'.lower().split())\n",
        "print('\\n'.join([str(tup) for tup in analogous_words]))\n",
        "\n",
        "print('\\nWhen from Ukraine the Dnieper bears Into the deep blue sea The blood of foes')\n",
        "analogous_words = word_vectors.most_similar(positive='When from Ukraine the Dnieper bears Into the deep blue sea The blood of foes'.lower().split())\n",
        "print('\\n'.join([str(tup) for tup in analogous_words]))\n",
        "\n",
        "print('\\nOh bury me then rise ye up And break your heavy chains')\n",
        "analogous_words = word_vectors.most_similar(positive='break your heavy chains'.lower().split())\n",
        "print('\\n'.join([str(tup) for tup in analogous_words]))"
      ],
      "metadata": {
        "id": "fvtGikFsv5C3",
        "outputId": "a85f14c4-b17e-41f5-e593-cb1487ac3b31",
        "colab": {
          "base_uri": "https://localhost:8080/"
        }
      },
      "execution_count": 52,
      "outputs": [
        {
          "output_type": "stream",
          "name": "stdout",
          "text": [
            "\n",
            "And water with the tyrant blood the freedom you have gained\n",
            "('energizing', 0.829910933971405)\n",
            "('uncompromisingly', 0.8271280527114868)\n",
            "('transfigured', 0.8253328204154968)\n",
            "('cynically', 0.8250075578689575)\n",
            "('cutthroat', 0.8245701193809509)\n",
            "('faking', 0.8226403594017029)\n",
            "('complacency', 0.82034832239151)\n",
            "('obviate', 0.8198023438453674)\n",
            "('shortlived', 0.8193068504333496)\n",
            "('unvisited', 0.8188250064849854)\n",
            "\n",
            "With softly spoken kindly word Remember also me\n",
            "('flirt', 0.8541545271873474)\n",
            "('niggers', 0.8521559834480286)\n",
            "('suspiciously', 0.8516278862953186)\n",
            "('utters', 0.8507569432258606)\n",
            "('valueless', 0.849892258644104)\n",
            "('raeben', 0.8467117547988892)\n",
            "('rehearsed', 0.8421346545219421)\n",
            "('sweetest', 0.8400893807411194)\n",
            "('gosh', 0.8377912044525146)\n",
            "('mandrakes', 0.8374595046043396)\n",
            "\n",
            "When from Ukraine the Dnieper bears Into the deep blue sea The blood of foes\n",
            "('straightened', 0.8512706160545349)\n",
            "('thawing', 0.8357260227203369)\n",
            "('leine', 0.8305767774581909)\n",
            "('rainiest', 0.8289443254470825)\n",
            "('gibbous', 0.8283705711364746)\n",
            "('mightily', 0.8271873593330383)\n",
            "('reverberated', 0.8253377079963684)\n",
            "('rainstorms', 0.8247923254966736)\n",
            "('hutt', 0.824356198310852)\n",
            "('riverbed', 0.8238035440444946)\n",
            "\n",
            "Oh bury me then rise ye up And break your heavy chains\n",
            "('pallet', 0.7757091522216797)\n",
            "('bubbling', 0.7736186385154724)\n",
            "('soften', 0.7655770778656006)\n",
            "('ringing', 0.7646094560623169)\n",
            "('backspin', 0.7624639868736267)\n",
            "('unsold', 0.7609915137290955)\n",
            "('racking', 0.7590155601501465)\n",
            "('shuffles', 0.7506792545318604)\n",
            "('wrench', 0.7504057288169861)\n",
            "('cushions', 0.7487313151359558)\n"
          ]
        }
      ]
    },
    {
      "cell_type": "markdown",
      "source": [
        "## other alternatives"
      ],
      "metadata": {
        "id": "cJW8_v6isv-d"
      }
    },
    {
      "cell_type": "code",
      "source": [
        "# anger\n",
        "similarity = word_vectors.n_similarity('And water with the tyrant blood the freedom you have gained'.lower().split(), 'angry furious outraged enraged'.lower().split())\n",
        "print(f\"anger:{similarity:.4f}\")\n",
        "\n",
        "# disgust\n",
        "similarity = word_vectors.n_similarity('And water with the tyrant blood the freedom you have gained'.lower().split(), 'disgusted appauled revolted'.lower().split())\n",
        "print(f\"disgust:{similarity:.4f}\")\n",
        "\n",
        "# fear\n",
        "similarity = word_vectors.n_similarity('And water with the tyrant blood the freedom you have gained'.lower().split(), 'scared afraid panicked'.lower().split())\n",
        "print(f\"fear:{similarity:.4f}\")\n",
        "\n",
        "# joy\n",
        "similarity = word_vectors.n_similarity('And water with the tyrant blood the freedom you have gained'.lower().split(), 'happy cheerful delighted'.lower().split())\n",
        "print(f\"joy:{similarity:.4f}\")\n",
        "\n",
        "# sadness\n",
        "similarity = word_vectors.n_similarity('And water with the tyrant blood the freedom you have gained'.lower().split(), 'sad heartbroken bitter'.lower().split())\n",
        "print(f\"sadness:{similarity:.4f}\")\n",
        "\n",
        "# surprise\n",
        "similarity = word_vectors.n_similarity('And water with the tyrant blood the freedom you have gained'.lower().split(), 'surprised astonished stunned'.lower().split())\n",
        "print(f\"surprise:{similarity:.4f}\")\n",
        "\n",
        "similarity = word_vectors.n_similarity('And water with the tyrant blood the freedom you have gained'.lower().split(), 'With wicked blood, the land engrave In freedom sacred reign'.lower().split())\n",
        "print(f\"translation:{similarity:.4f}\")"
      ],
      "metadata": {
        "id": "Y-z45gxtrFiE"
      },
      "execution_count": null,
      "outputs": []
    },
    {
      "cell_type": "code",
      "source": [
        "# anger\n",
        "similarity = word_vectors.n_similarity('And water with the tyrant blood the freedom you have gained'.lower().split(), 'angry furious'.lower().split())\n",
        "print(f\"anger:{similarity:.4f}\")\n",
        "\n",
        "# disgust\n",
        "similarity = word_vectors.n_similarity('And water with the tyrant blood the freedom you have gained'.lower().split(), 'disgusted appauled'.lower().split())\n",
        "print(f\"disgust:{similarity:.4f}\")\n",
        "\n",
        "# fear\n",
        "similarity = word_vectors.n_similarity('And water with the tyrant blood the freedom you have gained'.lower().split(), 'scared afraid'.lower().split())\n",
        "print(f\"fear:{similarity:.4f}\")\n",
        "\n",
        "# joy\n",
        "similarity = word_vectors.n_similarity('And water with the tyrant blood the freedom you have gained'.lower().split(), 'happy delighted'.lower().split())\n",
        "print(f\"joy:{similarity:.4f}\")\n",
        "\n",
        "# sadness\n",
        "similarity = word_vectors.n_similarity('And water with the tyrant blood the freedom you have gained'.lower().split(), 'sad heartbroken'.lower().split())\n",
        "print(f\"sadness:{similarity:.4f}\")\n",
        "\n",
        "# surprise\n",
        "similarity = word_vectors.n_similarity('And water with the tyrant blood the freedom you have gained'.lower().split(), 'surprised astonished'.lower().split())\n",
        "print(f\"surprise:{similarity:.4f}\")\n",
        "\n",
        "similarity = word_vectors.n_similarity('And water with the tyrant blood the freedom you have gained'.lower().split(), 'With wicked blood, the land engrave In freedom sacred reign'.lower().split())\n",
        "print(f\"translation:{similarity:.4f}\")\n"
      ],
      "metadata": {
        "colab": {
          "base_uri": "https://localhost:8080/"
        },
        "id": "-T9LQ1y6qrgh",
        "outputId": "9c59450c-bb03-4476-ac5e-44278ad8f474"
      },
      "execution_count": 39,
      "outputs": [
        {
          "output_type": "stream",
          "name": "stdout",
          "text": [
            "anger:0.5758\n",
            "disgust:0.5378\n",
            "fear:0.5814\n",
            "joy:0.5884\n",
            "sadness:0.6318\n",
            "surprise:0.6555\n",
            "translation:0.8401\n"
          ]
        }
      ]
    },
    {
      "cell_type": "markdown",
      "metadata": {
        "id": "22fSc-iyvKl9"
      },
      "source": [
        "## Step 4A - optional. Using pre-trained models in Gensim\n",
        "\n",
        "In many applications, you will simply want access to pre-trained word vectors (e.g. for plugging in to another model you are training). If you don't need the vectors to be tailored closely to your particular corpus, then you might like to use some pretrained models.\n",
        "\n",
        "`word2vec` is not the only word embedding family of algorithms. Another, arguably even more powerful algorithm is the `FastText` algorithm, which Mikolov developed after moving to Facebook:\n",
        "\n",
        "* Piotr Bojanowski and others, ‘Enriching Word Vectors with Subword Information’, ArXiv:1607.04606, 2017 <http://arxiv.org/abs/1607.04606>.\n",
        "\n",
        "Instead of computing word vectors for each word, FastText splits each word into its constituent chunks. For example, 'cat' would be split into 'c', 'a', 't', 'ca', 'at' and 'cat', and 'burp' would be split into 'b', 'u', 'r', 'p', 'bu', 'ur', 'rp', 'bur', 'urp' and 'burp'. Then a vector is computer for each chunk that appears in the corpus. Each word is represented as the mean of all the chunks that make it up. FastText is able to learn very good word vectors because it can extract meaning from subword units, e.g. it can see that 'television', 'telegraph' and 'telepathy' all have 'tele' at the front, and can see that 'formality', 'criminality' and 'paucity' share subword units such as 'al' and 'ity'.\n",
        "\n",
        "You can access many pretrained models using the Gensim downloader. Using the cells below, you can try out some of the different models available through Gensim. Along with `word2vec` and `FastText`, Gensim also supports `Glove` and `Doc2Vec` models.\n",
        "\n",
        "**NB:** These trained models are very large, and will take a while to download. You may wish to download this notebook and execute the cells below on your own machine, in case Google kicks you out of the Colab environment."
      ]
    },
    {
      "cell_type": "code",
      "metadata": {
        "id": "rldVE5pmvKl-"
      },
      "source": [
        "# See what models are on offer\n",
        "print(list(api.info()['models'].keys()))"
      ],
      "execution_count": null,
      "outputs": []
    },
    {
      "cell_type": "code",
      "metadata": {
        "id": "nMTAxneZ7OaZ"
      },
      "source": [
        "# Optional! THIS WILL TAKE SOME TIME!!!\n",
        "# 300-dimensional word vectors trained on a huge dataset from Google News\n",
        "google_news_w2v = api.load('word2vec-google-news-300')"
      ],
      "execution_count": null,
      "outputs": []
    },
    {
      "cell_type": "code",
      "metadata": {
        "id": "uTKwcm_7vKl-"
      },
      "source": [
        "# x is to Kenya as Canberra is to Australia\n",
        "google_news_w2v.most_similar(negative=['australia'],positive=['kenya','canberra'], topn=10)"
      ],
      "execution_count": null,
      "outputs": []
    },
    {
      "cell_type": "code",
      "metadata": {
        "id": "mPZl6qzEvKl-"
      },
      "source": [
        "# Optional! THIS WILL TAKE SOME TIME!!!\n",
        "# Facebook's own FastText vectors, trained on Wikipedia\n",
        "wikipedia_fasttext = api.load('fasttext-wiki-news-subwords-300')"
      ],
      "execution_count": null,
      "outputs": []
    },
    {
      "cell_type": "code",
      "metadata": {
        "id": "w4xj0CGQ7iFg"
      },
      "source": [
        "# x is to Wharton as London is to Dickens\n",
        "wikipedia_fasttext.most_similar(negative=['dickens'],positive=['wharton','london'], topn=10)"
      ],
      "execution_count": null,
      "outputs": []
    },
    {
      "cell_type": "code",
      "metadata": {
        "id": "H4gsyd3-_8eN"
      },
      "source": [
        "# try your own examples..."
      ],
      "execution_count": null,
      "outputs": []
    },
    {
      "cell_type": "markdown",
      "metadata": {
        "id": "NqVFfYx878cA"
      },
      "source": [
        "## Step 5. Training models in other languages (Armenian, Georgian, Ukrainian ...)\n",
        "\n",
        "Now let's train a model on our own corpus. You can try to create Armenian / Ukrainian / Russian / German / French word vector model.\n",
        "\n",
        "Armenian, Ukrainian, Russian plaintext wikipedias are available at:\n",
        "https://lindat.mff.cuni.cz/repository/xmlui/handle/11234/1-2735#\n",
        "\n",
        "We can use the same size ~15 Million Words, (200MB) of these corpora to make sure the model is built within a reasonable time; however, when you have more time, you can try a more complete corpus.\n",
        "\n",
        "It is possible to download/unzip/upload the files manually, however, it is faster to automatically load them directly from Heidelberg server space https://heibox.uni-heidelberg.de/d/42a07c9e95774e099a81/  into your colab environment. To do this run the cells 5a or 5b, or 5c, or 5d, or 5e -- depending on which language you prefer -- to download the data. Then skip other language and continue with Step5 -- building the model for your preferred language from the data you downloaded.\n"
      ]
    },
    {
      "cell_type": "code",
      "metadata": {
        "id": "8uwDxwRTSnqY",
        "colab": {
          "base_uri": "https://localhost:8080/"
        },
        "outputId": "60eb32b2-9ed8-4c24-bc79-a1c725dd1628"
      },
      "source": [
        "!rm /usr/local/lib/python3.7/dist-packages/gensim/test/test_data/myOwnLangText8.txt\n",
        "!rm index.html?dl=1"
      ],
      "execution_count": null,
      "outputs": [
        {
          "output_type": "stream",
          "name": "stdout",
          "text": [
            "rm: cannot remove '/usr/local/lib/python3.7/dist-packages/gensim/test/test_data/myOwnLangText8.txt': No such file or directory\n",
            "rm: cannot remove 'index.html?dl=1': No such file or directory\n"
          ]
        }
      ]
    },
    {
      "cell_type": "markdown",
      "metadata": {
        "id": "EPZo393WEWGW"
      },
      "source": [
        "### Either: 5a Armenian"
      ]
    },
    {
      "cell_type": "code",
      "metadata": {
        "id": "jLc70OaADDsY"
      },
      "source": [
        "!wget https://heibox.uni-heidelberg.de/f/ffe527ed3d1e4b4cb43a/?dl=1"
      ],
      "execution_count": null,
      "outputs": []
    },
    {
      "cell_type": "code",
      "metadata": {
        "id": "Yj1swlOVH4J9"
      },
      "source": [
        "!cp index.html?dl=1 /usr/local/lib/python3.7/dist-packages/gensim/test/test_data/myOwnLangText8.txt"
      ],
      "execution_count": null,
      "outputs": []
    },
    {
      "cell_type": "code",
      "metadata": {
        "id": "ASwFiA0tPfBn"
      },
      "source": [
        "!head --lines=15 /usr/local/lib/python3.7/dist-packages/gensim/test/test_data/myOwnLangText8.txt"
      ],
      "execution_count": null,
      "outputs": []
    },
    {
      "cell_type": "markdown",
      "metadata": {
        "id": "lfLTw8mHGUA6"
      },
      "source": []
    },
    {
      "cell_type": "markdown",
      "metadata": {
        "id": "teve3mqpEdgG"
      },
      "source": [
        "### Or: 5b Ukrainian"
      ]
    },
    {
      "cell_type": "code",
      "metadata": {
        "id": "Pz-lMC8ZEgTQ"
      },
      "source": [
        "!wget https://heibox.uni-heidelberg.de/f/676bef3a6db8482e9665/?dl=1"
      ],
      "execution_count": null,
      "outputs": []
    },
    {
      "cell_type": "code",
      "metadata": {
        "id": "3Kw3XZQPH47I"
      },
      "source": [
        "!cp index.html?dl=1 /usr/local/lib/python3.7/dist-packages/gensim/test/test_data/myOwnLangText8.txt"
      ],
      "execution_count": null,
      "outputs": []
    },
    {
      "cell_type": "code",
      "metadata": {
        "id": "ARd-3RfY8mw5"
      },
      "source": [
        "!head --lines=15 /usr/local/lib/python3.7/dist-packages/gensim/test/test_data/myOwnLangText8.txt"
      ],
      "execution_count": null,
      "outputs": []
    },
    {
      "cell_type": "markdown",
      "metadata": {
        "id": "OKKHYl4dFFcT"
      },
      "source": [
        "### Or: 5c German"
      ]
    },
    {
      "cell_type": "code",
      "metadata": {
        "id": "k9i_seazFN9i"
      },
      "source": [
        "!wget https://heibox.uni-heidelberg.de/f/ca0a085347c34563a6e6/?dl=1"
      ],
      "execution_count": null,
      "outputs": []
    },
    {
      "cell_type": "code",
      "metadata": {
        "id": "m13CwxeEH9dk"
      },
      "source": [
        "!cp index.html?dl=1 /usr/local/lib/python3.7/dist-packages/gensim/test/test_data/myOwnLangText8.txt"
      ],
      "execution_count": null,
      "outputs": []
    },
    {
      "cell_type": "code",
      "metadata": {
        "id": "RBO_zgLb8vJm"
      },
      "source": [
        "!head --lines=15 /usr/local/lib/python3.7/dist-packages/gensim/test/test_data/myOwnLangText8.txt"
      ],
      "execution_count": null,
      "outputs": []
    },
    {
      "cell_type": "markdown",
      "metadata": {
        "id": "PWDlNugkFOZP"
      },
      "source": [
        "### Or: 5d French"
      ]
    },
    {
      "cell_type": "code",
      "metadata": {
        "id": "eL18LA1PFRAM"
      },
      "source": [
        "!wget https://heibox.uni-heidelberg.de/f/5cdb485efd4046f2a457/?dl=1"
      ],
      "execution_count": null,
      "outputs": []
    },
    {
      "cell_type": "code",
      "metadata": {
        "id": "BorzWO26H-Gx"
      },
      "source": [
        "!cp index.html?dl=1 /usr/local/lib/python3.7/dist-packages/gensim/test/test_data/myOwnLangText8.txt"
      ],
      "execution_count": null,
      "outputs": []
    },
    {
      "cell_type": "code",
      "metadata": {
        "id": "RushLVUX8w5k"
      },
      "source": [
        "!head --lines=15 /usr/local/lib/python3.7/dist-packages/gensim/test/test_data/myOwnLangText8.txt"
      ],
      "execution_count": null,
      "outputs": []
    },
    {
      "cell_type": "markdown",
      "metadata": {
        "id": "5vgYZ0IfGY2l"
      },
      "source": [
        "### Or: 5f Georgian"
      ]
    },
    {
      "cell_type": "code",
      "metadata": {
        "id": "imZY_tHOGc-m"
      },
      "source": [
        "!wget https://heibox.uni-heidelberg.de/f/fa3509d869b949459f91/?dl=1"
      ],
      "execution_count": null,
      "outputs": []
    },
    {
      "cell_type": "markdown",
      "metadata": {
        "id": "0ZZvDBTq3E8f"
      },
      "source": [
        "Lemmatized corpus"
      ]
    },
    {
      "cell_type": "code",
      "metadata": {
        "id": "767DwIll3IP6"
      },
      "source": [
        "!wget https://heibox.uni-heidelberg.de/f/b381c458ad5e4773a77d/?dl=1"
      ],
      "execution_count": null,
      "outputs": []
    },
    {
      "cell_type": "code",
      "metadata": {
        "id": "kq2qM74k3Wfe"
      },
      "source": [
        "!cp index.html?dl=1 wiki_geo_lem.txt"
      ],
      "execution_count": null,
      "outputs": []
    },
    {
      "cell_type": "code",
      "metadata": {
        "id": "1UUAVq_W3fqU"
      },
      "source": [
        "!head --lines=10 wiki_geo_lem.txt"
      ],
      "execution_count": null,
      "outputs": []
    },
    {
      "cell_type": "code",
      "metadata": {
        "id": "sDSkZErA3s8Z"
      },
      "source": [
        "FIn = open(\"wiki_geo_lem.txt\", 'r')\n",
        "FOut = open('wiki_geo_l.txt', 'w')\n",
        "\n",
        "i = 0\n",
        "for SLine in FIn:\n",
        "  i = i + 1\n",
        "  SLine = SLine.strip() + ' '\n",
        "  if i % 10000 == 0:\n",
        "    SLine += '\\n'\n",
        "\n",
        "  FOut.write(SLine)\n",
        "\n",
        "FOut.flush()\n",
        "FOut.close()\n"
      ],
      "execution_count": null,
      "outputs": []
    },
    {
      "cell_type": "code",
      "metadata": {
        "id": "rMGSnTHV5WyM"
      },
      "source": [
        "!head --lines=10 wiki_geo_l.txt"
      ],
      "execution_count": null,
      "outputs": []
    },
    {
      "cell_type": "code",
      "metadata": {
        "id": "e9_T1Dwz5sD9",
        "colab": {
          "base_uri": "https://localhost:8080/"
        },
        "outputId": "59125cfd-3027-4ed7-b6a3-e694e42e9049"
      },
      "source": [
        "!wc wiki_geo_lem.txt"
      ],
      "execution_count": null,
      "outputs": [
        {
          "output_type": "stream",
          "name": "stdout",
          "text": [
            " 18054750  18054749 329202500 wiki_geo_lem.txt\n"
          ]
        }
      ]
    },
    {
      "cell_type": "code",
      "metadata": {
        "id": "KrWmuRyEGk__"
      },
      "source": [
        "!cp index.html?dl=1 /usr/local/lib/python3.7/dist-packages/gensim/test/test_data/myOwnLangText8.txt"
      ],
      "execution_count": null,
      "outputs": []
    },
    {
      "cell_type": "markdown",
      "metadata": {
        "id": "Qg5rl4vM6QjO"
      },
      "source": [
        "Alternatively, copy lemmatized corpus"
      ]
    },
    {
      "cell_type": "code",
      "metadata": {
        "id": "ZcDakluj6C2G"
      },
      "source": [
        "!cp wiki_geo_l.txt /usr/local/lib/python3.7/dist-packages/gensim/test/test_data/myOwnLangText8.txt"
      ],
      "execution_count": null,
      "outputs": []
    },
    {
      "cell_type": "code",
      "metadata": {
        "id": "Beg4vzqFGono"
      },
      "source": [
        "!head --lines=15 /usr/local/lib/python3.7/dist-packages/gensim/test/test_data/myOwnLangText8.txt"
      ],
      "execution_count": null,
      "outputs": []
    },
    {
      "cell_type": "markdown",
      "metadata": {
        "id": "-AJ9guGSNkyw"
      },
      "source": [
        "### Stage6: Training own model"
      ]
    },
    {
      "cell_type": "markdown",
      "metadata": {
        "id": "kCj_-BYcOe7A"
      },
      "source": [
        "optional: to clean disk space, we remove the downloaded file"
      ]
    },
    {
      "cell_type": "code",
      "metadata": {
        "id": "NnO8k3CWOdqK"
      },
      "source": [
        "# optional: to clean disk space, we remove the downloaded file\n",
        "!rm index.html\\?dl\\=1"
      ],
      "execution_count": null,
      "outputs": []
    },
    {
      "cell_type": "code",
      "metadata": {
        "id": "3AAzBAWaPQZB"
      },
      "source": [
        "from gensim.test.utils import datapath\n",
        "from gensim import utils\n",
        "\n",
        "class MyCorpus:\n",
        "    \"\"\"An iterator that yields sentences (lists of str).\"\"\"\n",
        "\n",
        "    def __iter__(self):\n",
        "        corpus_path = datapath('myOwnLangText8.txt')\n",
        "        for line in open(corpus_path):\n",
        "            # assume there's one document per line, tokens separated by whitespace\n",
        "            yield utils.simple_preprocess(line)"
      ],
      "execution_count": null,
      "outputs": []
    },
    {
      "cell_type": "code",
      "metadata": {
        "id": "i9VFjEuyQQ1u"
      },
      "source": [
        "import gensim.models\n",
        "corpusOwn = MyCorpus()"
      ],
      "execution_count": null,
      "outputs": []
    },
    {
      "cell_type": "markdown",
      "metadata": {
        "id": "DARUsusgQyWO"
      },
      "source": [
        "optional: examining what is in the corpus after standard preprocessing"
      ]
    },
    {
      "cell_type": "code",
      "metadata": {
        "id": "-tLeaX0rQiD7",
        "colab": {
          "base_uri": "https://localhost:8080/"
        },
        "outputId": "b0dcbdae-7db4-47d8-d7cc-77bcb9c7489a"
      },
      "source": [
        "# Optional: Examining our corpus format\n",
        "type(corpusOwn)"
      ],
      "execution_count": null,
      "outputs": [
        {
          "output_type": "execute_result",
          "data": {
            "text/plain": [
              "__main__.MyCorpus"
            ]
          },
          "metadata": {},
          "execution_count": 7
        }
      ]
    },
    {
      "cell_type": "code",
      "metadata": {
        "id": "zSzwUYw_QxYD"
      },
      "source": [
        "dataOwn = [d for d in corpusOwn]"
      ],
      "execution_count": null,
      "outputs": []
    },
    {
      "cell_type": "code",
      "metadata": {
        "id": "4YWSko1SRLJl"
      },
      "source": [
        "print(len(dataOwn))\n",
        "print(dataOwn[0])\n",
        "print(len(dataOwn[0]))\n",
        "print(dataOwn[4])\n",
        "print(len(dataOwn[4]))\n",
        "print(dataOwn[5])\n",
        "print(len(dataOwn[5]))"
      ],
      "execution_count": null,
      "outputs": []
    },
    {
      "cell_type": "markdown",
      "metadata": {
        "id": "468wJ6YkVNad"
      },
      "source": [
        "... Initialising global parameters for our modelL vector size, collocation window, skip-grams, negative sampling...."
      ]
    },
    {
      "cell_type": "code",
      "metadata": {
        "id": "h8Eep9wyHh9d"
      },
      "source": [
        "from gensim.models import Word2Vec # The word2vec model class\n",
        "import gensim.downloader as api # Allows us to download some free training data"
      ],
      "execution_count": null,
      "outputs": []
    },
    {
      "cell_type": "code",
      "metadata": {
        "id": "xObhQQ2SVBDn"
      },
      "source": [
        "vector_size = 100 # Dimensionality of the word vectors\n",
        "window = 5 # How many words either side? (5 = 5 context words either side, i.e. 10 context words in total)\n",
        "use_skip_gram = 1 # If you set this to 0, then it will create a 'continuous bag of words' model instead\n",
        "use_softmax = 0 # If you set this to 1, then hierarchical softmax will be used instead of negative sampling\n",
        "negative_samples = 5 # How many incorrect answers to generate per correct answer when negative sampling\n",
        "\n",
        "modelOwn = Word2Vec(\n",
        "    size=vector_size,\n",
        "    window=window,\n",
        "    sg=use_skip_gram,\n",
        "    hs=use_softmax,\n",
        "    negative=negative_samples\n",
        ")"
      ],
      "execution_count": null,
      "outputs": []
    },
    {
      "cell_type": "markdown",
      "metadata": {
        "id": "e_QILgoIVeea"
      },
      "source": [
        "... this cell may run for ~2 min or so..."
      ]
    },
    {
      "cell_type": "code",
      "metadata": {
        "id": "gaecmdkPVLCh"
      },
      "source": [
        "modelOwn.build_vocab(corpusOwn)"
      ],
      "execution_count": null,
      "outputs": []
    },
    {
      "cell_type": "markdown",
      "metadata": {
        "id": "HEdwCKEVVnGv"
      },
      "source": [
        "THIS MAY TAKE LONG!!! ... training the model may take 9 to 15 minutes... (just grab a cup of coffee or a sandwich while you are waiting... You may try chaning the number of epochs; if the number is lower the training is faster, but the quality may be lower..."
      ]
    },
    {
      "cell_type": "code",
      "metadata": {
        "id": "UrvDUrOJVxOG",
        "colab": {
          "base_uri": "https://localhost:8080/"
        },
        "outputId": "f64b079b-c251-4c7e-8479-11ec374e3727"
      },
      "source": [
        "modelOwn.train(sentences=corpusOwn, epochs=5, total_examples=modelOwn.corpus_count)"
      ],
      "execution_count": null,
      "outputs": [
        {
          "output_type": "execute_result",
          "data": {
            "text/plain": [
              "(59378395, 70859245)"
            ]
          },
          "metadata": {},
          "execution_count": 32
        }
      ]
    },
    {
      "cell_type": "markdown",
      "metadata": {
        "id": "trrJqAeUWWmL"
      },
      "source": [
        "Now we copy word vectors and remove the model from memory (just to free up the resources...)"
      ]
    },
    {
      "cell_type": "code",
      "metadata": {
        "id": "h2GbyMw5WVZd"
      },
      "source": [
        "word_vectors_own = modelOwn.wv"
      ],
      "execution_count": null,
      "outputs": []
    },
    {
      "cell_type": "code",
      "metadata": {
        "id": "vjLyitW5Whff"
      },
      "source": [
        "del modelOwn"
      ],
      "execution_count": null,
      "outputs": []
    },
    {
      "cell_type": "markdown",
      "metadata": {
        "id": "q-ipjoSmWtOR"
      },
      "source": [
        "Now we can examine the output of our word embeddings"
      ]
    },
    {
      "cell_type": "markdown",
      "metadata": {
        "id": "VyKlhpZJ6oG3"
      },
      "source": [
        "### German examples"
      ]
    },
    {
      "cell_type": "code",
      "metadata": {
        "id": "pO9GGM5K6kup"
      },
      "source": [
        "# DE examples\n",
        "# See the word vector for a particular word\n",
        "vector = word_vectors['banane']\n",
        "print(vector)"
      ],
      "execution_count": null,
      "outputs": []
    },
    {
      "cell_type": "code",
      "metadata": {
        "id": "irvedMmO62EE"
      },
      "source": [
        "# See which words are closest to a given word in the vector space\n",
        "similar_words = word_vectors.most_similar('universität', topn=10)\n",
        "print('\\n'.join([str(tup) for tup in similar_words]))"
      ],
      "execution_count": null,
      "outputs": []
    },
    {
      "cell_type": "code",
      "metadata": {
        "id": "uVfmC7307DBy"
      },
      "source": [
        "# See which words are closest to a given word in the vector space\n",
        "similar_words = word_vectors.most_similar('rot', topn=10)\n",
        "print('\\n'.join([str(tup) for tup in similar_words]))"
      ],
      "execution_count": null,
      "outputs": []
    },
    {
      "cell_type": "code",
      "metadata": {
        "id": "yJ5fp9mI7G0s"
      },
      "source": [
        "# See which words are closest to a given word in the vector space\n",
        "similar_words = word_vectors.most_similar('brüssel', topn=10)\n",
        "print('\\n'.join([str(tup) for tup in similar_words]))"
      ],
      "execution_count": null,
      "outputs": []
    },
    {
      "cell_type": "code",
      "metadata": {
        "id": "prPdl2ki7JLB"
      },
      "source": [
        "# See which words are closest to a given word in the vector space\n",
        "similar_words = word_vectors.most_similar('deutschland', topn=10)\n",
        "print('\\n'.join([str(tup) for tup in similar_words]))"
      ],
      "execution_count": null,
      "outputs": []
    },
    {
      "cell_type": "code",
      "metadata": {
        "id": "PjxHXJ_k7Lxf"
      },
      "source": [
        "# See which words are closest to a given word in the vector space\n",
        "similar_words = word_vectors.most_similar('komisch', topn=10)\n",
        "print('\\n'.join([str(tup) for tup in similar_words]))"
      ],
      "execution_count": null,
      "outputs": []
    },
    {
      "cell_type": "code",
      "metadata": {
        "id": "MqplaUng7N5S"
      },
      "source": [
        "# Compute analogous words\n",
        "# E.g. x is to queen as man is to king => x = v('queen') + v('man') - v('king')\n",
        "analogous_words = word_vectors.most_similar(negative=['mann'], positive=['könig','frau'])\n",
        "print('\\n'.join([str(tup) for tup in analogous_words]))"
      ],
      "execution_count": null,
      "outputs": []
    },
    {
      "cell_type": "code",
      "metadata": {
        "id": "fWhfjdjU7QEc"
      },
      "source": [
        "# Compute analogous words\n",
        "# E.g. x is to queen as man is to king => x = v('queen') + v('man') - v('king')\n",
        "analogous_words = word_vectors.most_similar(negative=['könig'], positive=['königin','mann'])\n",
        "print('\\n'.join([str(tup) for tup in analogous_words]))"
      ],
      "execution_count": null,
      "outputs": []
    },
    {
      "cell_type": "code",
      "metadata": {
        "id": "CXs0DTXE7UYb"
      },
      "source": [
        "# Compute analogous words\n",
        "# E.g. x is to queen as man is to king => x = v('queen') + v('man') - v('king')\n",
        "analogous_words = word_vectors.most_similar(negative=['mutter'], positive=['vater','tochter'])\n",
        "print('\\n'.join([str(tup) for tup in analogous_words]))"
      ],
      "execution_count": null,
      "outputs": []
    },
    {
      "cell_type": "code",
      "metadata": {
        "id": "vRHwRsT_7YLz"
      },
      "source": [
        "# Compute analogous words\n",
        "# E.g. x is to queen as man is to king => x = v('queen') + v('man') - v('king')\n",
        "analogous_words = word_vectors.most_similar(negative=['mutter'], positive=['vater','mädchen'])\n",
        "print('\\n'.join([str(tup) for tup in analogous_words]))"
      ],
      "execution_count": null,
      "outputs": []
    },
    {
      "cell_type": "code",
      "metadata": {
        "id": "PzSy-z-07Yy6"
      },
      "source": [
        "# Compute analogous words\n",
        "# x is to daughter as people is to person (plural + daughter)\n",
        "analogous_words = word_vectors.most_similar(negative=['person'], positive=['menschen','tochter'])\n",
        "print('\\n'.join([str(tup) for tup in analogous_words]))"
      ],
      "execution_count": null,
      "outputs": []
    },
    {
      "cell_type": "code",
      "metadata": {
        "id": "hWv3si3k7bK1"
      },
      "source": [
        "analogous_words = word_vectors.most_similar(negative=['weich'], positive=['hart','weichste'])\n",
        "print('\\n'.join([str(tup) for tup in analogous_words]))"
      ],
      "execution_count": null,
      "outputs": []
    },
    {
      "cell_type": "markdown",
      "metadata": {
        "id": "1f-JPmP0JILh"
      },
      "source": [
        "### Georgian examples"
      ]
    },
    {
      "cell_type": "code",
      "metadata": {
        "id": "PhbX0fpdH90R"
      },
      "source": [
        "# See the word vector for a particular word -- 'world'\n",
        "vector = word_vectors_own['სამყარო']\n",
        "print(vector)"
      ],
      "execution_count": null,
      "outputs": []
    },
    {
      "cell_type": "code",
      "metadata": {
        "id": "K0dPtZK2IkpT"
      },
      "source": [
        "# See which words are closest to a given word in the vector space = 'world'\n",
        "similar_words = word_vectors_own.most_similar('არსება', topn=30)\n",
        "print('\\n'.join([str(tup) for tup in similar_words]))"
      ],
      "execution_count": null,
      "outputs": []
    },
    {
      "cell_type": "code",
      "metadata": {
        "id": "tLuAjAlcIrpi"
      },
      "source": [
        "# blue\n",
        "similar_words = word_vectors_own.most_similar('ლურჯი', topn=30)\n",
        "print('\\n'.join([str(tup) for tup in similar_words]))"
      ],
      "execution_count": null,
      "outputs": []
    },
    {
      "cell_type": "code",
      "metadata": {
        "id": "zGuQWHznIuXV"
      },
      "source": [
        "# france\n",
        "similar_words = word_vectors_own.most_similar('საფრანგეთი', topn=10)\n",
        "print('\\n'.join([str(tup) for tup in similar_words]))"
      ],
      "execution_count": null,
      "outputs": []
    },
    {
      "cell_type": "code",
      "metadata": {
        "id": "rzFct-O4IzYr"
      },
      "source": [
        "# x is to king as woman is to man\n",
        "analogous_words = word_vectors_own.most_similar(negative=['კაცი'], positive=['მეფე','ქალი'])\n",
        "print('\\n'.join([str(tup) for tup in analogous_words]))"
      ],
      "execution_count": null,
      "outputs": []
    },
    {
      "cell_type": "code",
      "metadata": {
        "id": "Q60fDwHXI3RL"
      },
      "source": [
        "# x is to king as woman is to man\n",
        "# x = small + biggest - big\n",
        "# 𝑥−𝑣𝑒𝑐𝑡𝑜𝑟(′𝑠𝑚𝑎𝑙𝑙′)=𝑣𝑒𝑐𝑡𝑜𝑟(′𝑏𝑖𝑔𝑔𝑒𝑠𝑡′)−𝑣𝑒𝑐𝑡𝑜𝑟(′𝑏𝑖𝑔′)\n",
        "# ∴ 𝑥=𝑣𝑒𝑐𝑡𝑜𝑟(′𝑠𝑚𝑎𝑙𝑙′)+𝑣𝑒𝑐𝑡𝑜𝑟(′𝑏𝑖𝑔𝑔𝑒𝑠𝑡′)−𝑣𝑒𝑐𝑡𝑜𝑟(′𝑏𝑖𝑔′)\n",
        "# ∴ 𝑥=𝑣𝑒𝑐𝑡𝑜𝑟(′փոքր′)+𝑣𝑒𝑐𝑡𝑜𝑟(′ամենամեծը′)−𝑣𝑒𝑐𝑡𝑜𝑟(′մեծ′)\n",
        "analogous_words = word_vectors_own.most_similar(negative=['პირი'], positive=['ხალხი','ქალიშვილი'])\n",
        "print('\\n'.join([str(tup) for tup in analogous_words]))"
      ],
      "execution_count": null,
      "outputs": []
    },
    {
      "cell_type": "code",
      "metadata": {
        "id": "czmhvtc-JB4C"
      },
      "source": [
        "# try your own examples... (also -- morphology?)\n",
        "# # x is to daughter as people is to person (plural + daughter)\n",
        "# analogous_words = word_vectors.most_similar(negative=['person'], positive=['people','daughter'])"
      ],
      "execution_count": null,
      "outputs": []
    },
    {
      "cell_type": "code",
      "metadata": {
        "id": "ZUFzOu3eIrGr"
      },
      "source": [],
      "execution_count": null,
      "outputs": []
    },
    {
      "cell_type": "markdown",
      "metadata": {
        "id": "Wvj5B2qdJDt6"
      },
      "source": [
        "### Armenian examples"
      ]
    },
    {
      "cell_type": "code",
      "metadata": {
        "id": "ZUVomonLWzHM"
      },
      "source": [
        "# See the word vector for a particular word -- 'world'\n",
        "vector = word_vectors_own['աշխարհը']\n",
        "print(vector)"
      ],
      "execution_count": null,
      "outputs": []
    },
    {
      "cell_type": "code",
      "metadata": {
        "id": "ga4LQhZJXmYV"
      },
      "source": [
        "# See which words are closest to a given word in the vector space = 'world'\n",
        "similar_words = word_vectors_own.most_similar('աշխարհը', topn=10)\n",
        "print('\\n'.join([str(tup) for tup in similar_words]))"
      ],
      "execution_count": null,
      "outputs": []
    },
    {
      "cell_type": "code",
      "metadata": {
        "id": "9ECDUd8AXsF0"
      },
      "source": [
        "# blue\n",
        "similar_words = word_vectors_own.most_similar('կապույտ', topn=10)\n",
        "print('\\n'.join([str(tup) for tup in similar_words]))"
      ],
      "execution_count": null,
      "outputs": []
    },
    {
      "cell_type": "code",
      "metadata": {
        "id": "EKAl9NVdX8SM"
      },
      "source": [
        "# france\n",
        "similar_words = word_vectors_own.most_similar('ֆրանսիա', topn=10)\n",
        "print('\\n'.join([str(tup) for tup in similar_words]))"
      ],
      "execution_count": null,
      "outputs": []
    },
    {
      "cell_type": "code",
      "metadata": {
        "id": "492wftrxZRhR"
      },
      "source": [
        "# x is to king as woman is to man\n",
        "analogous_words = word_vectors_own.most_similar(negative=['մարդ'], positive=['թագավոր','կին'])\n",
        "print('\\n'.join([str(tup) for tup in analogous_words]))"
      ],
      "execution_count": null,
      "outputs": []
    },
    {
      "cell_type": "code",
      "metadata": {
        "id": "5HOugAyWbYCE"
      },
      "source": [
        "# x is to king as woman is to man\n",
        "# x = small + biggest - big\n",
        "# 𝑥−𝑣𝑒𝑐𝑡𝑜𝑟(′𝑠𝑚𝑎𝑙𝑙′)=𝑣𝑒𝑐𝑡𝑜𝑟(′𝑏𝑖𝑔𝑔𝑒𝑠𝑡′)−𝑣𝑒𝑐𝑡𝑜𝑟(′𝑏𝑖𝑔′)\n",
        "# ∴ 𝑥=𝑣𝑒𝑐𝑡𝑜𝑟(′𝑠𝑚𝑎𝑙𝑙′)+𝑣𝑒𝑐𝑡𝑜𝑟(′𝑏𝑖𝑔𝑔𝑒𝑠𝑡′)−𝑣𝑒𝑐𝑡𝑜𝑟(′𝑏𝑖𝑔′)\n",
        "# ∴ 𝑥=𝑣𝑒𝑐𝑡𝑜𝑟(′փոքր′)+𝑣𝑒𝑐𝑡𝑜𝑟(′ամենամեծը′)−𝑣𝑒𝑐𝑡𝑜𝑟(′մեծ′)\n",
        "analogous_words = word_vectors_own.most_similar(negative=['մեծ'], positive=['ամենամեծը','փոքր'])\n",
        "print('\\n'.join([str(tup) for tup in analogous_words]))"
      ],
      "execution_count": null,
      "outputs": []
    },
    {
      "cell_type": "code",
      "metadata": {
        "id": "Qz1h1O-MaY4J"
      },
      "source": [
        "# try your own examples... (also -- morphology?)\n",
        "# # x is to daughter as people is to person (plural + daughter)\n",
        "# analogous_words = word_vectors.most_similar(negative=['person'], positive=['people','daughter'])"
      ],
      "execution_count": null,
      "outputs": []
    }
  ]
}