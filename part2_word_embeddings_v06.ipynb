{
  "nbformat": 4,
  "nbformat_minor": 0,
  "metadata": {
    "language_info": {
      "codemirror_mode": {
        "name": "ipython",
        "version": 3
      },
      "file_extension": ".py",
      "mimetype": "text/x-python",
      "name": "python",
      "nbconvert_exporter": "python",
      "pygments_lexer": "ipython3",
      "version": "3.8.3"
    },
    "orig_nbformat": 4,
    "kernelspec": {
      "name": "python3",
      "display_name": "Python 3.8.3 64-bit"
    },
    "interpreter": {
      "hash": "aee8b7b246df8f9039afb4144a1f6fd8d2ca17a180786b69acc140d282b71a49"
    },
    "colab": {
      "provenance": [],
      "include_colab_link": true
    }
  },
  "cells": [
    {
      "cell_type": "markdown",
      "metadata": {
        "id": "view-in-github",
        "colab_type": "text"
      },
      "source": [
        "<a href=\"https://colab.research.google.com/github/iued-uni-heidelberg/corpusdev/blob/main/part2_word_embeddings_v06.ipynb\" target=\"_parent\"><img src=\"https://colab.research.google.com/assets/colab-badge.svg\" alt=\"Open In Colab\"/></a>"
      ]
    },
    {
      "cell_type": "markdown",
      "metadata": {
        "id": "Ty2YWcLcvKl4"
      },
      "source": [
        "# Word Vectors\n",
        "\n",
        "Presentations [slides](intro-word-vectors-DAAD-2021-v22.pdf); Original [slides](word-vectors.pdf)\n",
        "\n",
        "Word vectors (also known as 'word embeddings') are one of the most popular kinds of AI models. They are extremely useful in many domains. In essence, a word vector is a set of numbers that attempt to capture the meaning of a word. In typical implementations, each word is represented by a set of 200-300 numbers. In linear algebra, a one-dimensional array of numbers is known as a 'vector', hence these sets of numbers representing words' meanings are known as 'word vectors'.\n",
        "\n",
        "Using neural networks, we can expose the computer to a large amount of text, and allow it to learn an appropriate set of numbers for each word it encounters. In this notebook, we will learn about the most famous of all word vector algorithms, `word2vec`, which was first described by Tomas Mikolov and his team in 2013:\n",
        "\n",
        "* Tomas Mikolov, Ilya Sutskever, and others, ‘Distributed Representations of Words and Phrases and Their Compositionality’, in Advances in Neural Information Processing Systems 26, ed. by C. J. C. Burges and others (Curran Associates, Inc., 2013), pp. 3111–19 <http://papers.nips.cc/paper/5021-distributed-representations-of-words-and-phrases-and-their-compositionality.pdf>\n",
        "* Tomas Mikolov, Kai Chen, and others, ‘Efficient Estimation of Word Representations in Vector Space’, ArXiv:1301.3781 Cs, 2013 <http://arxiv.org/abs/1301.3781>.\n",
        "\n",
        "In fact, `word2vec` is not a single algorithm, but rather a family of similar algorithms. In this session we will consider just the most famous `word2vec` algorithm, namely the `skip-gram model` trained using `negative sampling`."
      ]
    },
    {
      "cell_type": "markdown",
      "metadata": {
        "id": "SWLKKQ0lvKl5"
      },
      "source": [
        "## Applications of Word Vectors\n",
        "\n",
        "Word vectors allow the computer to 'understand' language far more effectively. Rather than seeing each word as simply an arbitrarily different object, a computer using word vectors can analyse each word as a point in 200- or 300-dimenstional space. Words that are similar in meaning will have similar word vectors. And as we will see, the spaces between the word vectors are also significant: the words are arranged in patterns that represent their relationships to one another.\n",
        "\n",
        "Accordingly, most AI systems that process language now include a word vector layer as part of their architecure. When the system encounters some text (e.g. when you speak to Siri or Alexa), your words are converted into word vectors, *and then* the computer examines what the text says and determines how it should respond.\n",
        "\n",
        "In the Humanities, word vectors have become a popular modelling tool, because they allow researchers to perform sophisticated analysis on large corpora of text. Some examples include:\n",
        "\n",
        "* [The Women Writers Vector Toolkit](https://wwp.northeastern.edu/lab/wwvt/index.html)\n",
        "* William L. Hamilton, Jure Leskovec, and Dan Jurafsky, ‘Diachronic Word Embeddings Reveal Statistical Laws of Semantic Change’, ArXiv:1605.09096 [Cs], 2018 <http://arxiv.org/abs/1605.09096>.\n",
        "* Ryan Heuser, 'Semantic Networks' <https://ryanheuser.org/word-vectors-4/>"
      ]
    },
    {
      "cell_type": "markdown",
      "metadata": {
        "id": "o4ZWncLevKl5"
      },
      "source": [
        "## Training a `word2vec` model in Gensim\n",
        "\n",
        "It is very easy to train a `word2vec` model in Gensim, which includes Mikolov's original `word2vec` code in its codebase."
      ]
    },
    {
      "cell_type": "code",
      "metadata": {
        "id": "QgedLV80vKl6",
        "colab": {
          "base_uri": "https://localhost:8080/"
        },
        "outputId": "7fcbb928-bf29-4989-c7d8-d6e6d37a752d"
      },
      "source": [
        "from gensim.models import Word2Vec # The word2vec model class\n",
        "import gensim.downloader as api # Allows us to download some free training data\n",
        "corpus = api.load('text8')\n",
        "# api.info()"
      ],
      "execution_count": 1,
      "outputs": [
        {
          "output_type": "stream",
          "name": "stdout",
          "text": [
            "[==================================================] 100.0% 31.6/31.6MB downloaded\n"
          ]
        }
      ]
    },
    {
      "cell_type": "markdown",
      "metadata": {
        "id": "nvSxGbYN8aHr"
      },
      "source": [
        "text8 is first 100MB from English wikipedia, 17 million words\n",
        "\n",
        "The file is downloadable from\n",
        "http://mattmahoney.net/dc/text8.zip\n"
      ]
    },
    {
      "cell_type": "code",
      "metadata": {
        "id": "GOfGR4GVxzIY",
        "colab": {
          "base_uri": "https://localhost:8080/"
        },
        "outputId": "42a86384-1cf6-4d0e-a3c7-dd8b5474b05e"
      },
      "source": [
        "# Examine the corpus to see what is there\n",
        "api.info(\"text8\")"
      ],
      "execution_count": 2,
      "outputs": [
        {
          "output_type": "execute_result",
          "data": {
            "text/plain": [
              "{'num_records': 1701,\n",
              " 'record_format': 'list of str (tokens)',\n",
              " 'file_size': 33182058,\n",
              " 'reader_code': 'https://github.com/RaRe-Technologies/gensim-data/releases/download/text8/__init__.py',\n",
              " 'license': 'not found',\n",
              " 'description': 'First 100,000,000 bytes of plain text from Wikipedia. Used for testing purposes; see wiki-english-* for proper full Wikipedia datasets.',\n",
              " 'checksum': '68799af40b6bda07dfa47a32612e5364',\n",
              " 'file_name': 'text8.gz',\n",
              " 'read_more': ['http://mattmahoney.net/dc/textdata.html'],\n",
              " 'parts': 1}"
            ]
          },
          "metadata": {},
          "execution_count": 2
        }
      ]
    },
    {
      "cell_type": "code",
      "metadata": {
        "id": "hNRnUeEDzJS8",
        "colab": {
          "base_uri": "https://localhost:8080/",
          "height": 121
        },
        "outputId": "d51864c9-f482-4427-e3dc-7034d0fd0d09"
      },
      "source": [
        "type(corpus)"
      ],
      "execution_count": 3,
      "outputs": [
        {
          "output_type": "execute_result",
          "data": {
            "text/plain": [
              "text8.Dataset"
            ],
            "text/html": [
              "<div style=\"max-width:800px; border: 1px solid var(--colab-border-color);\"><style>\n",
              "      pre.function-repr-contents {\n",
              "        overflow-x: auto;\n",
              "        padding: 8px 12px;\n",
              "        max-height: 500px;\n",
              "      }\n",
              "\n",
              "      pre.function-repr-contents.function-repr-contents-collapsed {\n",
              "        cursor: pointer;\n",
              "        max-height: 100px;\n",
              "      }\n",
              "    </style>\n",
              "    <pre style=\"white-space: initial; background:\n",
              "         var(--colab-secondary-surface-color); padding: 8px 12px;\n",
              "         border-bottom: 1px solid var(--colab-border-color);\"><b>text8.Dataset</b><br/>def __init__(fn)</pre><pre class=\"function-repr-contents function-repr-contents-collapsed\" style=\"\"><a class=\"filepath\" style=\"display:none\" href=\"#\">/root/gensim-data/text8/__init__.py</a>&lt;no docstring&gt;</pre>\n",
              "      <script>\n",
              "      if (google.colab.kernel.accessAllowed && google.colab.files && google.colab.files.view) {\n",
              "        for (const element of document.querySelectorAll('.filepath')) {\n",
              "          element.style.display = 'block'\n",
              "          element.onclick = (event) => {\n",
              "            event.preventDefault();\n",
              "            event.stopPropagation();\n",
              "            google.colab.files.view(element.textContent, 7);\n",
              "          };\n",
              "        }\n",
              "      }\n",
              "      for (const element of document.querySelectorAll('.function-repr-contents')) {\n",
              "        element.onclick = (event) => {\n",
              "          event.preventDefault();\n",
              "          event.stopPropagation();\n",
              "          element.classList.toggle('function-repr-contents-collapsed');\n",
              "        };\n",
              "      }\n",
              "      </script>\n",
              "      </div>"
            ]
          },
          "metadata": {},
          "execution_count": 3
        }
      ]
    },
    {
      "cell_type": "code",
      "metadata": {
        "id": "dlSD09Qoz_6t"
      },
      "source": [
        "data = [d for d in corpus]"
      ],
      "execution_count": 4,
      "outputs": []
    },
    {
      "cell_type": "code",
      "metadata": {
        "id": "wyeDslt-26E2",
        "colab": {
          "base_uri": "https://localhost:8080/"
        },
        "outputId": "78847ce4-a3ac-4d77-e7e9-10ec46580712"
      },
      "source": [
        "len(data)"
      ],
      "execution_count": 5,
      "outputs": [
        {
          "output_type": "execute_result",
          "data": {
            "text/plain": [
              "1701"
            ]
          },
          "metadata": {},
          "execution_count": 5
        }
      ]
    },
    {
      "cell_type": "code",
      "metadata": {
        "id": "TUQzkxNbyTEF",
        "colab": {
          "base_uri": "https://localhost:8080/"
        },
        "outputId": "e707f415-9155-44e3-f065-ff9c1a857c5a"
      },
      "source": [
        "len(data[0])"
      ],
      "execution_count": 6,
      "outputs": [
        {
          "output_type": "execute_result",
          "data": {
            "text/plain": [
              "10000"
            ]
          },
          "metadata": {},
          "execution_count": 6
        }
      ]
    },
    {
      "cell_type": "code",
      "metadata": {
        "id": "sEmirZe2yR9y",
        "colab": {
          "base_uri": "https://localhost:8080/"
        },
        "outputId": "78197a23-ff91-4440-cc1d-ef4f3e6ff0a6"
      },
      "source": [
        "print(data[0][:100])"
      ],
      "execution_count": 7,
      "outputs": [
        {
          "output_type": "stream",
          "name": "stdout",
          "text": [
            "['anarchism', 'originated', 'as', 'a', 'term', 'of', 'abuse', 'first', 'used', 'against', 'early', 'working', 'class', 'radicals', 'including', 'the', 'diggers', 'of', 'the', 'english', 'revolution', 'and', 'the', 'sans', 'culottes', 'of', 'the', 'french', 'revolution', 'whilst', 'the', 'term', 'is', 'still', 'used', 'in', 'a', 'pejorative', 'way', 'to', 'describe', 'any', 'act', 'that', 'used', 'violent', 'means', 'to', 'destroy', 'the', 'organization', 'of', 'society', 'it', 'has', 'also', 'been', 'taken', 'up', 'as', 'a', 'positive', 'label', 'by', 'self', 'defined', 'anarchists', 'the', 'word', 'anarchism', 'is', 'derived', 'from', 'the', 'greek', 'without', 'archons', 'ruler', 'chief', 'king', 'anarchism', 'as', 'a', 'political', 'philosophy', 'is', 'the', 'belief', 'that', 'rulers', 'are', 'unnecessary', 'and', 'should', 'be', 'abolished', 'although', 'there', 'are', 'differing']\n"
          ]
        }
      ]
    },
    {
      "cell_type": "code",
      "metadata": {
        "id": "YkvbCylDyZF_",
        "colab": {
          "base_uri": "https://localhost:8080/"
        },
        "outputId": "517c1146-2ba8-45cb-ef18-9272bf265702"
      },
      "source": [
        "print(data[1][:100])"
      ],
      "execution_count": 8,
      "outputs": [
        {
          "output_type": "stream",
          "name": "stdout",
          "text": [
            "['reciprocity', 'qualitative', 'impairments', 'in', 'communication', 'as', 'manifested', 'by', 'at', 'least', 'one', 'of', 'the', 'following', 'delay', 'in', 'or', 'total', 'lack', 'of', 'the', 'development', 'of', 'spoken', 'language', 'not', 'accompanied', 'by', 'an', 'attempt', 'to', 'compensate', 'through', 'alternative', 'modes', 'of', 'communication', 'such', 'as', 'gesture', 'or', 'mime', 'in', 'individuals', 'with', 'adequate', 'speech', 'marked', 'impairment', 'in', 'the', 'ability', 'to', 'initiate', 'or', 'sustain', 'a', 'conversation', 'with', 'others', 'stereotyped', 'and', 'repetitive', 'use', 'of', 'language', 'or', 'idiosyncratic', 'language', 'lack', 'of', 'varied', 'spontaneous', 'make', 'believe', 'play', 'or', 'social', 'imitative', 'play', 'appropriate', 'to', 'developmental', 'level', 'restricted', 'repetitive', 'and', 'stereotyped', 'patterns', 'of', 'behavior', 'interests', 'and', 'activities', 'as', 'manifested', 'by', 'at', 'least', 'one']\n"
          ]
        }
      ]
    },
    {
      "cell_type": "markdown",
      "metadata": {
        "id": "_eEjBCxovKl6"
      },
      "source": [
        "### Step 1: Set hyperparameters and instantiate model"
      ]
    },
    {
      "cell_type": "code",
      "metadata": {
        "id": "K9MC27DDvKl6"
      },
      "source": [
        "my_vector_size = 100 # Dimensionality of the word vectors\n",
        "window = 5 # How many words either side? (5 = 5 context words either side, i.e. 10 context words in total)\n",
        "use_skip_gram = 1 # If you set this to 0, then it will create a 'continuous bag of words' model instead\n",
        "use_softmax = 0 # If you set this to 1, then hierarchical softmax will be used instead of negative sampling\n",
        "negative_samples = 5 # How many incorrect answers to generate per correct answer when negative sampling\n",
        "\n",
        "model = Word2Vec(\n",
        "    vector_size=my_vector_size,\n",
        "    window=window,\n",
        "    sg=use_skip_gram,\n",
        "    hs=use_softmax,\n",
        "    negative=negative_samples\n",
        ")"
      ],
      "execution_count": 9,
      "outputs": []
    },
    {
      "cell_type": "markdown",
      "metadata": {
        "id": "ofhbkdEjvKl7"
      },
      "source": [
        "### Step 2: Fit model to corpus"
      ]
    },
    {
      "cell_type": "code",
      "metadata": {
        "id": "cEieLoWlvKl7"
      },
      "source": [
        "# build a model\n",
        "model.build_vocab(corpus)"
      ],
      "execution_count": 10,
      "outputs": []
    },
    {
      "cell_type": "code",
      "metadata": {
        "id": "8e_ijem9vKl7",
        "colab": {
          "base_uri": "https://localhost:8080/"
        },
        "outputId": "346c89cc-8b0f-47a9-cfe9-84e01da3f03d"
      },
      "source": [
        "# Train the model on the corpus\n",
        "# model.train(sentences=corpus, epochs=5, total_examples=model.corpus_count)\n",
        "model.train(corpus, epochs=5, total_examples=model.corpus_count)"
      ],
      "execution_count": 11,
      "outputs": [
        {
          "output_type": "execute_result",
          "data": {
            "text/plain": [
              "(62531340, 85026035)"
            ]
          },
          "metadata": {},
          "execution_count": 11
        }
      ]
    },
    {
      "cell_type": "code",
      "source": [
        "model.save(\"word2vec5e.model\")"
      ],
      "metadata": {
        "id": "TBjCMQwEhpnM"
      },
      "execution_count": 12,
      "outputs": []
    },
    {
      "cell_type": "code",
      "source": [
        "!zip word2vec5e.model.zip word2vec5e.model"
      ],
      "metadata": {
        "colab": {
          "base_uri": "https://localhost:8080/"
        },
        "id": "laiXfv0iNtfK",
        "outputId": "9e1ccfee-8869-453d-8b6d-1b4dbb61fdf2"
      },
      "execution_count": 40,
      "outputs": [
        {
          "output_type": "stream",
          "name": "stdout",
          "text": [
            "  adding: word2vec5e.model (deflated 10%)\n"
          ]
        }
      ]
    },
    {
      "cell_type": "code",
      "source": [
        "!rm word2vec.model"
      ],
      "metadata": {
        "id": "mRUHn7Rmjw2q"
      },
      "execution_count": 41,
      "outputs": []
    },
    {
      "cell_type": "code",
      "source": [
        "!rm word2vec5e.model"
      ],
      "metadata": {
        "id": "8CWf4IKBN84-"
      },
      "execution_count": null,
      "outputs": []
    },
    {
      "cell_type": "code",
      "source": [
        "!wget https://heibox.uni-heidelberg.de/f/b7625cd746534aacbefe/?dl=1\n",
        "!mv index.html?dl=1 word2vec.model"
      ],
      "metadata": {
        "id": "YGoYTjhmh1tL",
        "colab": {
          "base_uri": "https://localhost:8080/"
        },
        "outputId": "0bce91ed-938e-4186-a371-3b3052ed8435"
      },
      "execution_count": 13,
      "outputs": [
        {
          "output_type": "stream",
          "name": "stdout",
          "text": [
            "--2024-06-06 10:17:42--  https://heibox.uni-heidelberg.de/f/b7625cd746534aacbefe/?dl=1\n",
            "Resolving heibox.uni-heidelberg.de (heibox.uni-heidelberg.de)... 129.206.7.113\n",
            "Connecting to heibox.uni-heidelberg.de (heibox.uni-heidelberg.de)|129.206.7.113|:443... connected.\n",
            "HTTP request sent, awaiting response... 302 Found\n",
            "Location: https://heibox.uni-heidelberg.de/seafhttp/files/d69fb8d0-a96e-442f-92d9-bd4f851c6afa/word2vec.model [following]\n",
            "--2024-06-06 10:17:44--  https://heibox.uni-heidelberg.de/seafhttp/files/d69fb8d0-a96e-442f-92d9-bd4f851c6afa/word2vec.model\n",
            "Reusing existing connection to heibox.uni-heidelberg.de:443.\n",
            "HTTP request sent, awaiting response... 200 OK\n",
            "Length: 59217897 (56M) [application/octet-stream]\n",
            "Saving to: ‘index.html?dl=1’\n",
            "\n",
            "index.html?dl=1     100%[===================>]  56.47M  7.75MB/s    in 11s     \n",
            "\n",
            "2024-06-06 10:17:56 (5.14 MB/s) - ‘index.html?dl=1’ saved [59217897/59217897]\n",
            "\n"
          ]
        }
      ]
    },
    {
      "cell_type": "code",
      "source": [
        "# model = Word2Vec.load(\"word2vec.model\")"
      ],
      "metadata": {
        "id": "mpMpt2SPkI0P"
      },
      "execution_count": null,
      "outputs": []
    },
    {
      "cell_type": "code",
      "source": [
        "model2 = Word2Vec.load(\"word2vec.model\")"
      ],
      "metadata": {
        "id": "avHeMmqYDo6f"
      },
      "execution_count": 14,
      "outputs": []
    },
    {
      "cell_type": "markdown",
      "metadata": {
        "id": "ThYRouIevKl8"
      },
      "source": [
        "### Step 3: Extract word vectors from model\n",
        "\n",
        "The fully trained model includes all of the weights used to predict the context words for each input word. If you are not planning on training the model further, these weights can be discarded, and you can just keep the weights for the word vectors."
      ]
    },
    {
      "cell_type": "code",
      "metadata": {
        "id": "4V0LfNx_vKl8"
      },
      "source": [
        "word_vectors = model.wv\n",
        "del model # Delete the whole model to free up the computer's RAM"
      ],
      "execution_count": 15,
      "outputs": []
    },
    {
      "cell_type": "code",
      "source": [
        "word_vectors.save(\"word2vec.wordvectors5e\")"
      ],
      "metadata": {
        "id": "n-RuljZPkZno"
      },
      "execution_count": 17,
      "outputs": []
    },
    {
      "cell_type": "code",
      "source": [
        "!zip word2vec.wordvectors5e.zip word2vec.wordvectors5e"
      ],
      "metadata": {
        "colab": {
          "base_uri": "https://localhost:8080/"
        },
        "id": "piL-CEQENjtB",
        "outputId": "75cfad2e-a2d6-4f02-dbc9-e6c1aeae71db"
      },
      "execution_count": 39,
      "outputs": [
        {
          "output_type": "stream",
          "name": "stdout",
          "text": [
            "  adding: word2vec.wordvectors5e (deflated 12%)\n"
          ]
        }
      ]
    },
    {
      "cell_type": "code",
      "source": [
        "!rm word2vec.wordvectors"
      ],
      "metadata": {
        "id": "4G0KFEMtldFz"
      },
      "execution_count": 42,
      "outputs": []
    },
    {
      "cell_type": "code",
      "source": [
        "!rm word2vec.wordvectors5e"
      ],
      "metadata": {
        "id": "ch1UE_DKOFfu"
      },
      "execution_count": 43,
      "outputs": []
    },
    {
      "cell_type": "code",
      "source": [
        "!wget https://heibox.uni-heidelberg.de/f/e7725b1afab9456c8e16/?dl=1\n",
        "!mv index.html?dl=1 word2vec.wordvectors"
      ],
      "metadata": {
        "id": "UeFHDzcWlV9w",
        "colab": {
          "base_uri": "https://localhost:8080/"
        },
        "outputId": "534654ab-8c0c-4a77-c367-62290106be06"
      },
      "execution_count": 19,
      "outputs": [
        {
          "output_type": "stream",
          "name": "stdout",
          "text": [
            "--2024-06-06 10:20:30--  https://heibox.uni-heidelberg.de/f/e7725b1afab9456c8e16/?dl=1\n",
            "Resolving heibox.uni-heidelberg.de (heibox.uni-heidelberg.de)... 129.206.7.113\n",
            "Connecting to heibox.uni-heidelberg.de (heibox.uni-heidelberg.de)|129.206.7.113|:443... connected.\n",
            "HTTP request sent, awaiting response... 302 Found\n",
            "Location: https://heibox.uni-heidelberg.de/seafhttp/files/33242897-d5e7-4f76-8d47-4d7e83b65b4c/word2vec.wordvectors [following]\n",
            "--2024-06-06 10:20:32--  https://heibox.uni-heidelberg.de/seafhttp/files/33242897-d5e7-4f76-8d47-4d7e83b65b4c/word2vec.wordvectors\n",
            "Reusing existing connection to heibox.uni-heidelberg.de:443.\n",
            "HTTP request sent, awaiting response... 200 OK\n",
            "Length: 30697035 (29M) [application/octet-stream]\n",
            "Saving to: ‘index.html?dl=1’\n",
            "\n",
            "index.html?dl=1     100%[===================>]  29.27M  7.94MB/s    in 4.9s    \n",
            "\n",
            "2024-06-06 10:20:38 (6.00 MB/s) - ‘index.html?dl=1’ saved [30697035/30697035]\n",
            "\n"
          ]
        }
      ]
    },
    {
      "cell_type": "code",
      "source": [
        "from gensim.models import KeyedVectors\n",
        "wv2 = KeyedVectors.load(\"word2vec.wordvectors\", mmap='r')"
      ],
      "metadata": {
        "id": "1Ts09s5Plp86"
      },
      "execution_count": 20,
      "outputs": []
    },
    {
      "cell_type": "code",
      "source": [
        "vector = wv2['computer']"
      ],
      "metadata": {
        "id": "5eDztGwqmJ0a"
      },
      "execution_count": 21,
      "outputs": []
    },
    {
      "cell_type": "code",
      "source": [
        "vector"
      ],
      "metadata": {
        "id": "yt5Sah91ms2w",
        "colab": {
          "base_uri": "https://localhost:8080/"
        },
        "outputId": "8dbd368d-d091-4482-9a29-e295be1eccb9"
      },
      "execution_count": 22,
      "outputs": [
        {
          "output_type": "execute_result",
          "data": {
            "text/plain": [
              "array([ 0.06077942,  0.1819358 , -0.05054147,  0.12852807,  0.01770034,\n",
              "       -0.30997637, -0.24055079, -0.00272755, -0.6581456 , -0.18392453,\n",
              "        0.06989374, -0.5224778 , -0.20864458, -0.10262147, -0.22059658,\n",
              "        0.33618814,  0.04703446, -0.47088787, -0.1487342 , -0.6229217 ,\n",
              "        0.42406246, -0.5138749 ,  0.06158032, -0.63825554, -0.07985036,\n",
              "        0.16819875,  0.09989165, -0.17658606, -0.17862448,  0.29675245,\n",
              "        0.4758706 ,  0.48978546,  0.9608675 , -0.22739977,  0.19066736,\n",
              "        0.08846364,  0.07009576, -0.360089  , -0.06736434, -0.21808966,\n",
              "       -0.2349182 , -0.25443017,  0.53662956,  0.2744204 ,  0.00105796,\n",
              "       -0.12268312, -0.08814082,  0.00657543,  0.48798513, -0.11536589,\n",
              "        0.2614905 ,  0.51717365, -0.04133837, -0.3994545 , -0.654159  ,\n",
              "       -0.40764585,  0.7202135 , -0.2568953 ,  0.52592474,  0.11868921,\n",
              "        0.1729699 ,  0.5800076 ,  0.46083173,  0.28301194,  0.58508384,\n",
              "        0.46322995,  0.34925246,  0.02775881, -0.01378645,  0.07634727,\n",
              "        0.20846   , -0.24176142, -0.36872652,  0.2697674 ,  0.22726676,\n",
              "        0.40128306,  0.48791516,  0.39478168, -0.35840425, -0.13748643,\n",
              "       -0.50550634, -0.01401702, -0.09398379,  0.17970748, -0.27350944,\n",
              "       -0.53801894, -0.08633023,  0.34511817,  0.23793873,  0.38667807,\n",
              "       -0.14404766,  0.79544854, -0.1770631 ,  0.17567483,  0.49945396,\n",
              "        0.10932686, -0.00464018, -0.49657568, -0.07760286, -0.15058048],\n",
              "      dtype=float32)"
            ]
          },
          "metadata": {},
          "execution_count": 22
        }
      ]
    },
    {
      "cell_type": "markdown",
      "metadata": {
        "id": "zSkZD22AvKl8"
      },
      "source": [
        "### Step 4: Have a play with the model\n",
        "\n",
        "There are several ways you can use word vectors. One of the most famous is to use them to compute analogies. The formula is:\n",
        "\n",
        "<center><em>x</em> is to <em>small</em> as <em>biggest</em> is to <em>big</em></center>\n",
        "\n",
        "$$x - vector('small') = vector('biggest') - vector('big')$$\n",
        "\n",
        "$$\\therefore x = vector('small') + vector('biggest') - vector('big')$$"
      ]
    },
    {
      "cell_type": "code",
      "metadata": {
        "id": "2Pftv0DEvKl8",
        "colab": {
          "base_uri": "https://localhost:8080/"
        },
        "outputId": "5ef52b5c-961b-4bc1-f1fa-342f72d299ac"
      },
      "source": [
        "# See the word vector for a particular word\n",
        "vector = word_vectors['banana']\n",
        "print(vector)"
      ],
      "execution_count": 23,
      "outputs": [
        {
          "output_type": "stream",
          "name": "stdout",
          "text": [
            "[-0.04113546  0.5782646   0.03752197  0.11038237  0.12040164  0.06393798\n",
            "  0.23488076  0.20263442 -0.27701738 -0.10636657 -0.40006077  0.08516914\n",
            "  0.15457365  0.02292606 -0.11117584 -0.02486759  0.3280512   0.05124469\n",
            " -0.21592592 -0.28669542  0.09007701 -0.01869808  0.94484055 -0.38864455\n",
            " -0.41059998  0.16247231 -0.18034849  0.46353462  0.05455324  0.03027178\n",
            " -0.16702564 -0.02473417 -0.08277375 -0.3991814  -0.04098587 -0.26466826\n",
            " -0.24117687 -0.06454886 -0.07376502 -0.59133756  0.29690832 -0.3835269\n",
            "  0.1785365   0.33186638  0.3728563   0.05785524 -0.4090568   0.1563134\n",
            "  0.58180356 -0.3121535  -0.36374938 -0.03683892  0.35559952  0.38890406\n",
            "  0.00136656  0.16030996  0.30319896  0.35629863 -0.46200323 -0.1623705\n",
            "  0.07147329  0.14452477 -0.49709588  0.18003334 -0.04173968  0.27392483\n",
            "  0.1748616   0.12331246 -0.20455171 -0.37405783 -0.14353201  0.44899485\n",
            " -0.07031145 -0.2711735   0.36339694  0.4114501  -0.02345546  0.13470006\n",
            " -0.19512293 -0.29887038  0.16725068 -0.7159141  -0.11638074  0.31301588\n",
            "  0.25774294 -0.59071773  0.48430577 -0.06578564 -0.08973254 -0.01482805\n",
            "  0.5169938  -0.3444534  -0.0042858   0.3676532   0.5805554  -0.26432323\n",
            " -0.17085758 -0.7089334   0.2839911   0.13630699]\n"
          ]
        }
      ]
    },
    {
      "cell_type": "code",
      "metadata": {
        "id": "8_qUSF7ZvKl9",
        "colab": {
          "base_uri": "https://localhost:8080/"
        },
        "outputId": "05a71999-e0e1-4d3c-faa8-9ccaaf4b19ee"
      },
      "source": [
        "# See which words are closest to a given word in the vector space\n",
        "similar_words = word_vectors.most_similar('university', topn=25)\n",
        "print('\\n'.join([str(tup) for tup in similar_words]))"
      ],
      "execution_count": 28,
      "outputs": [
        {
          "output_type": "stream",
          "name": "stdout",
          "text": [
            "('college', 0.8330773711204529)\n",
            "('urbana', 0.7925047278404236)\n",
            "('institute', 0.7841007113456726)\n",
            "('polytechnic', 0.7677932977676392)\n",
            "('champaign', 0.7671976685523987)\n",
            "('graduate', 0.7567100524902344)\n",
            "('abet', 0.7500896453857422)\n",
            "('rutgers', 0.7499120831489563)\n",
            "('tsinghua', 0.7413315773010254)\n",
            "('pomona', 0.7386504411697388)\n",
            "('professor', 0.7352950572967529)\n",
            "('yale', 0.7347093224525452)\n",
            "('bloomington', 0.7311546206474304)\n",
            "('vassar', 0.7274224162101746)\n",
            "('emory', 0.7205010652542114)\n",
            "('princeton', 0.7192938923835754)\n",
            "('emeritus', 0.7183842658996582)\n",
            "('mcmaster', 0.7180989384651184)\n",
            "('iit', 0.7166054248809814)\n",
            "('ryerson', 0.71498703956604)\n",
            "('phd', 0.7126315832138062)\n",
            "('suny', 0.7116893529891968)\n",
            "('mellon', 0.7106456756591797)\n",
            "('ucl', 0.7097887396812439)\n",
            "('witwatersrand', 0.7096288800239563)\n"
          ]
        }
      ]
    },
    {
      "cell_type": "code",
      "metadata": {
        "id": "T38xLSz62OyK",
        "colab": {
          "base_uri": "https://localhost:8080/"
        },
        "outputId": "d1d722d5-f651-4cb6-fbbd-321e9d366eae"
      },
      "source": [
        "# See which words are closest to a given word in the vector space\n",
        "similar_words = word_vectors.most_similar('red', topn=25)\n",
        "print('\\n'.join([str(tup) for tup in similar_words]))"
      ],
      "execution_count": 29,
      "outputs": [
        {
          "output_type": "stream",
          "name": "stdout",
          "text": [
            "('blue', 0.8395482301712036)\n",
            "('yellow', 0.8381789922714233)\n",
            "('green', 0.8018441200256348)\n",
            "('white', 0.798026978969574)\n",
            "('black', 0.7571162581443787)\n",
            "('purple', 0.7408638596534729)\n",
            "('orange', 0.6867749691009521)\n",
            "('stripes', 0.6793258786201477)\n",
            "('magenta', 0.6771360635757446)\n",
            "('colored', 0.6733496785163879)\n",
            "('dwarfs', 0.6624110341072083)\n",
            "('striped', 0.6579605340957642)\n",
            "('brindle', 0.6557778120040894)\n",
            "('colors', 0.6523218750953674)\n",
            "('jerseys', 0.652314305305481)\n",
            "('sash', 0.651824414730072)\n",
            "('talons', 0.6457521915435791)\n",
            "('maroon', 0.6401049494743347)\n",
            "('lorry', 0.6379421949386597)\n",
            "('pink', 0.6352706551551819)\n",
            "('cross', 0.6328311562538147)\n",
            "('panther', 0.6315248608589172)\n",
            "('pinstripes', 0.6256352066993713)\n",
            "('cyan', 0.6227660775184631)\n",
            "('hoist', 0.6203923225402832)\n"
          ]
        }
      ]
    },
    {
      "cell_type": "code",
      "source": [
        "similar_words = word_vectors.most_similar('color', topn=25)\n",
        "print('\\n'.join([str(tup) for tup in similar_words]))"
      ],
      "metadata": {
        "colab": {
          "base_uri": "https://localhost:8080/"
        },
        "id": "mMnUGzMsF3JL",
        "outputId": "ba33c581-e477-4d81-ba0e-391413f51e89"
      },
      "execution_count": 30,
      "outputs": [
        {
          "output_type": "stream",
          "name": "stdout",
          "text": [
            "('colour', 0.8844510912895203)\n",
            "('colors', 0.8663884401321411)\n",
            "('cyan', 0.7727386951446533)\n",
            "('colours', 0.7582835555076599)\n",
            "('colored', 0.7574570178985596)\n",
            "('rgb', 0.7547838091850281)\n",
            "('palettes', 0.7523167133331299)\n",
            "('monochrome', 0.7264874577522278)\n",
            "('hues', 0.7181781530380249)\n",
            "('palette', 0.7132647037506104)\n",
            "('pixel', 0.7079315185546875)\n",
            "('subpixels', 0.7066963911056519)\n",
            "('cmyk', 0.7060423493385315)\n",
            "('monochromatic', 0.7030099034309387)\n",
            "('pixels', 0.702581524848938)\n",
            "('yellow', 0.69477379322052)\n",
            "('backlight', 0.6921998262405396)\n",
            "('srgb', 0.6870763897895813)\n",
            "('magenta', 0.6866226196289062)\n",
            "('violet', 0.6865247488021851)\n",
            "('leds', 0.6864258646965027)\n",
            "('flashes', 0.68503737449646)\n",
            "('backlit', 0.6842491030693054)\n",
            "('shade', 0.6821250915527344)\n",
            "('hue', 0.6817468404769897)\n"
          ]
        }
      ]
    },
    {
      "cell_type": "code",
      "source": [
        "similar_words = word_vectors.most_similar('colour', topn=25)\n",
        "print('\\n'.join([str(tup) for tup in similar_words]))"
      ],
      "metadata": {
        "colab": {
          "base_uri": "https://localhost:8080/"
        },
        "id": "U53t6hXxF6x3",
        "outputId": "4fcadc98-eeb9-47c9-f80d-18c4ba63adfc"
      },
      "execution_count": 31,
      "outputs": [
        {
          "output_type": "stream",
          "name": "stdout",
          "text": [
            "('color', 0.8844510316848755)\n",
            "('colors', 0.8149035573005676)\n",
            "('colours', 0.7981035709381104)\n",
            "('colored', 0.7869955897331238)\n",
            "('hues', 0.7378509044647217)\n",
            "('shade', 0.735605776309967)\n",
            "('cyan', 0.7326695919036865)\n",
            "('palettes', 0.7222548723220825)\n",
            "('shades', 0.7220083475112915)\n",
            "('coloration', 0.7185987234115601)\n",
            "('glasses', 0.7155719995498657)\n",
            "('palette', 0.7067922949790955)\n",
            "('translucent', 0.7048293948173523)\n",
            "('yellowish', 0.6972984671592712)\n",
            "('brownish', 0.6971267461776733)\n",
            "('monochromatic', 0.697028398513794)\n",
            "('coloured', 0.6913246512413025)\n",
            "('darker', 0.690552830696106)\n",
            "('monochrome', 0.690521776676178)\n",
            "('magenta', 0.6896342635154724)\n",
            "('leds', 0.688128650188446)\n",
            "('blue', 0.6877025961875916)\n",
            "('texture', 0.6871539354324341)\n",
            "('tint', 0.6854122281074524)\n",
            "('rgb', 0.6840483546257019)\n"
          ]
        }
      ]
    },
    {
      "cell_type": "code",
      "metadata": {
        "id": "wvyAmb152SMD",
        "colab": {
          "base_uri": "https://localhost:8080/"
        },
        "outputId": "410a9198-9b24-4ba2-fd6a-ac2355fed45e"
      },
      "source": [
        "# See which words are closest to a given word in the vector space\n",
        "similar_words = word_vectors.most_similar('brussels', topn=25)\n",
        "print('\\n'.join([str(tup) for tup in similar_words]))"
      ],
      "execution_count": 32,
      "outputs": [
        {
          "output_type": "stream",
          "name": "stdout",
          "text": [
            "('bruges', 0.752652108669281)\n",
            "('aachen', 0.7368746995925903)\n",
            "('rotterdam', 0.7358056902885437)\n",
            "('ghent', 0.7338276505470276)\n",
            "('strasbourg', 0.7311657071113586)\n",
            "('paris', 0.7304145097732544)\n",
            "('amsterdam', 0.7296232581138611)\n",
            "('maastricht', 0.721036434173584)\n",
            "('lausanne', 0.7093325257301331)\n",
            "('bruxelles', 0.7073898315429688)\n",
            "('brugge', 0.7053254246711731)\n",
            "('belgium', 0.7017873525619507)\n",
            "('bordeaux', 0.7001644372940063)\n",
            "('commune', 0.6996681690216064)\n",
            "('bayonne', 0.6923428177833557)\n",
            "('frankfurt', 0.6915472149848938)\n",
            "('antwerp', 0.6889127492904663)\n",
            "('hamburg', 0.686873197555542)\n",
            "('cologne', 0.6842682957649231)\n",
            "('namur', 0.6825664639472961)\n",
            "('fontainebleau', 0.6824367046356201)\n",
            "('charleroi', 0.68219393491745)\n",
            "('geneva', 0.6785435080528259)\n",
            "('basel', 0.6772386431694031)\n",
            "('leuven', 0.6751503944396973)\n"
          ]
        }
      ]
    },
    {
      "cell_type": "code",
      "source": [
        "# See which words are closest to a given word in the vector space\n",
        "similar_words = word_vectors.most_similar('heidelberg', topn=25)\n",
        "print('\\n'.join([str(tup) for tup in similar_words]))"
      ],
      "metadata": {
        "colab": {
          "base_uri": "https://localhost:8080/"
        },
        "id": "tSF2dmZyGE2a",
        "outputId": "5282024e-7102-4594-cf37-11d45d3056db"
      },
      "execution_count": 33,
      "outputs": [
        {
          "output_type": "stream",
          "name": "stdout",
          "text": [
            "('freiburg', 0.8657544255256653)\n",
            "('grammatik', 0.8311512470245361)\n",
            "('bingen', 0.8166913390159607)\n",
            "('linz', 0.8163313269615173)\n",
            "('halle', 0.8161386847496033)\n",
            "('ttingen', 0.8032628297805786)\n",
            "('ingolstadt', 0.7976961731910706)\n",
            "('sorbonne', 0.7973642349243164)\n",
            "('hofstra', 0.7935213446617126)\n",
            "('zurich', 0.7911937236785889)\n",
            "('breslau', 0.7900843024253845)\n",
            "('breisgau', 0.787092387676239)\n",
            "('jena', 0.7862498760223389)\n",
            "('regensburg', 0.784187376499176)\n",
            "('leiden', 0.7828952074050903)\n",
            "('strassburg', 0.7826840877532959)\n",
            "('graz', 0.7789398431777954)\n",
            "('philosophie', 0.7770108580589294)\n",
            "('kassel', 0.7769522070884705)\n",
            "('logik', 0.77618807554245)\n",
            "('wien', 0.7760013341903687)\n",
            "('wissenschaft', 0.7758734822273254)\n",
            "('allgemeine', 0.7757799029350281)\n",
            "('laude', 0.7753399610519409)\n",
            "('lucasian', 0.7716454863548279)\n"
          ]
        }
      ]
    },
    {
      "cell_type": "code",
      "source": [
        "# See which words are closest to a given word in the vector space\n",
        "similar_words = word_vectors.most_similar('international', topn=25)\n",
        "print('\\n'.join([str(tup) for tup in similar_words]))"
      ],
      "metadata": {
        "colab": {
          "base_uri": "https://localhost:8080/"
        },
        "id": "oNXsAP-aGNjf",
        "outputId": "ff09608a-d850-4a48-d40e-c0066fe77263"
      },
      "execution_count": 34,
      "outputs": [
        {
          "output_type": "stream",
          "name": "stdout",
          "text": [
            "('electrotechnical', 0.748532235622406)\n",
            "('hydrographic', 0.7210329174995422)\n",
            "('lome', 0.6874794363975525)\n",
            "('nongovernmental', 0.6796085238456726)\n",
            "('supranationalism', 0.6787280440330505)\n",
            "('radiocommunications', 0.6779969930648804)\n",
            "('telecommunication', 0.6728586554527283)\n",
            "('ilo', 0.6677930951118469)\n",
            "('intergovernmental', 0.664245069026947)\n",
            "('paralympic', 0.6616351008415222)\n",
            "('mesures', 0.6610217690467834)\n",
            "('bipm', 0.6608805656433105)\n",
            "('medarabtel', 0.6594502329826355)\n",
            "('icsu', 0.6576040983200073)\n",
            "('bretton', 0.6564810276031494)\n",
            "('mercosur', 0.6543207168579102)\n",
            "('itso', 0.652675211429596)\n",
            "('usaid', 0.6490035057067871)\n",
            "('cemac', 0.6465795040130615)\n",
            "('interpol', 0.6456258296966553)\n",
            "('sanctioning', 0.6455206871032715)\n",
            "('undp', 0.6454935669898987)\n",
            "('internacia', 0.6440893411636353)\n",
            "('saarc', 0.6438179612159729)\n",
            "('organization', 0.6430097222328186)\n"
          ]
        }
      ]
    },
    {
      "cell_type": "code",
      "metadata": {
        "id": "r68SeidU2lRz",
        "colab": {
          "base_uri": "https://localhost:8080/"
        },
        "outputId": "dbfe9f7d-82fa-4cea-9ceb-2d3896871e22"
      },
      "source": [
        "# See which words are closest to a given word in the vector space\n",
        "similar_words = word_vectors.most_similar('germany', topn=25)\n",
        "print('\\n'.join([str(tup) for tup in similar_words]))"
      ],
      "execution_count": 35,
      "outputs": [
        {
          "output_type": "stream",
          "name": "stdout",
          "text": [
            "('austria', 0.8207393884658813)\n",
            "('hungary', 0.7929275035858154)\n",
            "('italy', 0.7581880688667297)\n",
            "('berlin', 0.7465624213218689)\n",
            "('dresden', 0.7416966557502747)\n",
            "('belgium', 0.7401780486106873)\n",
            "('switzerland', 0.7294812202453613)\n",
            "('netherlands', 0.7286902070045471)\n",
            "('bavaria', 0.7233483195304871)\n",
            "('czechoslovakia', 0.7228786945343018)\n",
            "('poland', 0.7186285853385925)\n",
            "('alsace', 0.7180007696151733)\n",
            "('denmark', 0.7150334715843201)\n",
            "('gdr', 0.7140324711799622)\n",
            "('weimar', 0.7132725715637207)\n",
            "('nazi', 0.710624635219574)\n",
            "('sudetenland', 0.7089345455169678)\n",
            "('finland', 0.7079053521156311)\n",
            "('romania', 0.7028300762176514)\n",
            "('rhineland', 0.7011822462081909)\n",
            "('german', 0.7003368735313416)\n",
            "('russia', 0.6968211531639099)\n",
            "('europe', 0.6950827836990356)\n",
            "('reunified', 0.6938440203666687)\n",
            "('munich', 0.6928016543388367)\n"
          ]
        }
      ]
    },
    {
      "cell_type": "code",
      "metadata": {
        "id": "6RVNTkIs2thF",
        "colab": {
          "base_uri": "https://localhost:8080/"
        },
        "outputId": "85ec835f-cf6c-4bf1-b66f-091b3614ca6e"
      },
      "source": [
        "# See which words are closest to a given word in the vector space\n",
        "similar_words = word_vectors.most_similar('strange', topn=25)\n",
        "print('\\n'.join([str(tup) for tup in similar_words]))"
      ],
      "execution_count": 36,
      "outputs": [
        {
          "output_type": "stream",
          "name": "stdout",
          "text": [
            "('mysterious', 0.6894012689590454)\n",
            "('rogues', 0.6872665286064148)\n",
            "('hilarious', 0.6867589354515076)\n",
            "('madness', 0.6595258712768555)\n",
            "('startling', 0.658959150314331)\n",
            "('amazing', 0.6568843126296997)\n",
            "('bizarre', 0.6557173728942871)\n",
            "('dread', 0.6545179486274719)\n",
            "('cheerful', 0.6487147212028503)\n",
            "('unforgettable', 0.647528886795044)\n",
            "('dreamer', 0.6474066376686096)\n",
            "('fictionalised', 0.645953893661499)\n",
            "('haunting', 0.6447542309761047)\n",
            "('scary', 0.6433145403862)\n",
            "('improbable', 0.6430540084838867)\n",
            "('riddles', 0.6428862810134888)\n",
            "('kitten', 0.6418792009353638)\n",
            "('weird', 0.6412800550460815)\n",
            "('fantastic', 0.6388643383979797)\n",
            "('fantastical', 0.6370919346809387)\n",
            "('campy', 0.636388897895813)\n",
            "('fiendish', 0.6362330317497253)\n",
            "('mischievous', 0.6355268359184265)\n",
            "('archetypal', 0.6351879835128784)\n",
            "('nightmarish', 0.634970486164093)\n"
          ]
        }
      ]
    },
    {
      "cell_type": "code",
      "metadata": {
        "id": "2Oqwf3ni21zW",
        "colab": {
          "base_uri": "https://localhost:8080/"
        },
        "outputId": "192a73f0-d280-4072-ba87-e5f0c9a75e86"
      },
      "source": [
        "# Compute analogous words\n",
        "# E.g. x is to queen as man is to king => x = v('queen') + v('man') - v('king')\n",
        "analogous_words = word_vectors.most_similar(negative=['man'], positive=['king','woman'], topn=20)\n",
        "print('\\n'.join([str(tup) for tup in analogous_words]))"
      ],
      "execution_count": 38,
      "outputs": [
        {
          "output_type": "stream",
          "name": "stdout",
          "text": [
            "('queen', 0.6624085903167725)\n",
            "('jadwiga', 0.6285076141357422)\n",
            "('valois', 0.6215748190879822)\n",
            "('throne', 0.6173731088638306)\n",
            "('wenceslaus', 0.6108902096748352)\n",
            "('sigismund', 0.6089454293251038)\n",
            "('consort', 0.6088487505912781)\n",
            "('matilda', 0.6069800853729248)\n",
            "('boleslaus', 0.6048868894577026)\n",
            "('haakon', 0.6039324998855591)\n",
            "('emperor', 0.6024051904678345)\n",
            "('dowager', 0.6020401120185852)\n",
            "('olympias', 0.6019123196601868)\n",
            "('daughter', 0.5997915267944336)\n",
            "('prince', 0.5955933928489685)\n",
            "('vii', 0.592556357383728)\n",
            "('canute', 0.592311680316925)\n",
            "('empress', 0.5903018712997437)\n",
            "('concubine', 0.5897650718688965)\n",
            "('aquitaine', 0.5892679691314697)\n"
          ]
        }
      ]
    },
    {
      "cell_type": "code",
      "metadata": {
        "id": "0sVv80bYvKl9"
      },
      "source": [
        "# Compute analogous words\n",
        "# E.g. x is to queen as man is to king => x = v('queen') + v('man') - v('king')\n",
        "analogous_words = word_vectors.most_similar(negative=['king'], positive=['queen','man'])\n",
        "print('\\n'.join([str(tup) for tup in analogous_words]))"
      ],
      "execution_count": null,
      "outputs": []
    },
    {
      "cell_type": "code",
      "metadata": {
        "id": "q8gfHhZf3Byi"
      },
      "source": [
        "# Compute analogous words\n",
        "# E.g. x is to queen as man is to king => x = v('queen') + v('man') - v('king')\n",
        "analogous_words = word_vectors.most_similar(negative=['mother'], positive=['father','daughter'])\n",
        "print('\\n'.join([str(tup) for tup in analogous_words]))"
      ],
      "execution_count": null,
      "outputs": []
    },
    {
      "cell_type": "code",
      "metadata": {
        "id": "IuzURZa_6hQC"
      },
      "source": [
        "# Compute analogous words\n",
        "# E.g. x is to queen as man is to king => x = v('queen') + v('man') - v('king')\n",
        "analogous_words = word_vectors.most_similar(negative=['mother'], positive=['father','girl'])\n",
        "print('\\n'.join([str(tup) for tup in analogous_words]))"
      ],
      "execution_count": null,
      "outputs": []
    },
    {
      "cell_type": "code",
      "metadata": {
        "id": "PzzlKdei6uiW"
      },
      "source": [
        "# Compute analogous words\n",
        "# x is to daughter as people is to person (plural + daughter)\n",
        "analogous_words = word_vectors.most_similar(negative=['person'], positive=['people','daughter'])\n",
        "print('\\n'.join([str(tup) for tup in analogous_words]))"
      ],
      "execution_count": null,
      "outputs": []
    },
    {
      "cell_type": "code",
      "source": [
        "analogous_words = word_vectors.most_similar(negative=['soft'], positive=['hard','softer'])\n",
        "# analogous_words = word_vectors.most_similar(negative=['soft'], positive=['hard','softest'])\n",
        "print('\\n'.join([str(tup) for tup in analogous_words]))"
      ],
      "metadata": {
        "id": "EO2Frm6xoPKN"
      },
      "execution_count": null,
      "outputs": []
    },
    {
      "cell_type": "markdown",
      "metadata": {
        "id": "22fSc-iyvKl9"
      },
      "source": [
        "## Step 4A - optional. Using pre-trained models in Gensim\n",
        "\n",
        "In many applications, you will simply want access to pre-trained word vectors (e.g. for plugging in to another model you are training). If you don't need the vectors to be tailored closely to your particular corpus, then you might like to use some pretrained models.\n",
        "\n",
        "`word2vec` is not the only word embedding family of algorithms. Another, arguably even more powerful algorithm is the `FastText` algorithm, which Mikolov developed after moving to Facebook:\n",
        "\n",
        "* Piotr Bojanowski and others, ‘Enriching Word Vectors with Subword Information’, ArXiv:1607.04606, 2017 <http://arxiv.org/abs/1607.04606>.\n",
        "\n",
        "Instead of computing word vectors for each word, FastText splits each word into its constituent chunks. For example, 'cat' would be split into 'c', 'a', 't', 'ca', 'at' and 'cat', and 'burp' would be split into 'b', 'u', 'r', 'p', 'bu', 'ur', 'rp', 'bur', 'urp' and 'burp'. Then a vector is computer for each chunk that appears in the corpus. Each word is represented as the mean of all the chunks that make it up. FastText is able to learn very good word vectors because it can extract meaning from subword units, e.g. it can see that 'television', 'telegraph' and 'telepathy' all have 'tele' at the front, and can see that 'formality', 'criminality' and 'paucity' share subword units such as 'al' and 'ity'.\n",
        "\n",
        "You can access many pretrained models using the Gensim downloader. Using the cells below, you can try out some of the different models available through Gensim. Along with `word2vec` and `FastText`, Gensim also supports `Glove` and `Doc2Vec` models.\n",
        "\n",
        "**NB:** These trained models are very large, and will take a while to download. You may wish to download this notebook and execute the cells below on your own machine, in case Google kicks you out of the Colab environment."
      ]
    },
    {
      "cell_type": "code",
      "metadata": {
        "id": "rldVE5pmvKl-"
      },
      "source": [
        "# See what models are on offer\n",
        "print(list(api.info()['models'].keys()))"
      ],
      "execution_count": null,
      "outputs": []
    },
    {
      "cell_type": "code",
      "metadata": {
        "id": "nMTAxneZ7OaZ"
      },
      "source": [
        "# Optional! THIS WILL TAKE SOME TIME!!!\n",
        "# 300-dimensional word vectors trained on a huge dataset from Google News\n",
        "google_news_w2v = api.load('word2vec-google-news-300')"
      ],
      "execution_count": null,
      "outputs": []
    },
    {
      "cell_type": "code",
      "metadata": {
        "id": "uTKwcm_7vKl-"
      },
      "source": [
        "# x is to Kenya as Canberra is to Australia\n",
        "google_news_w2v.most_similar(negative=['australia'],positive=['kenya','canberra'], topn=10)"
      ],
      "execution_count": null,
      "outputs": []
    },
    {
      "cell_type": "code",
      "metadata": {
        "id": "mPZl6qzEvKl-"
      },
      "source": [
        "# Optional! THIS WILL TAKE SOME TIME!!!\n",
        "# Facebook's own FastText vectors, trained on Wikipedia\n",
        "wikipedia_fasttext = api.load('fasttext-wiki-news-subwords-300')"
      ],
      "execution_count": null,
      "outputs": []
    },
    {
      "cell_type": "code",
      "metadata": {
        "id": "w4xj0CGQ7iFg"
      },
      "source": [
        "# x is to Wharton as London is to Dickens\n",
        "wikipedia_fasttext.most_similar(negative=['dickens'],positive=['wharton','london'], topn=10)"
      ],
      "execution_count": null,
      "outputs": []
    },
    {
      "cell_type": "code",
      "metadata": {
        "id": "H4gsyd3-_8eN"
      },
      "source": [
        "# try your own examples..."
      ],
      "execution_count": null,
      "outputs": []
    },
    {
      "cell_type": "markdown",
      "metadata": {
        "id": "NqVFfYx878cA"
      },
      "source": [
        "## Step 5. Training models in other languages (Armenian, Georgian, Ukrainian ...)\n",
        "\n",
        "Now let's train a model on our own corpus. You can try to create Armenian / Ukrainian / Russian / German / French word vector model.\n",
        "\n",
        "Armenian, Ukrainian, Russian plaintext wikipedias are available at:\n",
        "https://lindat.mff.cuni.cz/repository/xmlui/handle/11234/1-2735#\n",
        "\n",
        "We can use the same size ~15 Million Words, (200MB) of these corpora to make sure the model is built within a reasonable time; however, when you have more time, you can try a more complete corpus.\n",
        "\n",
        "It is possible to download/unzip/upload the files manually, however, it is faster to automatically load them directly from Heidelberg server space https://heibox.uni-heidelberg.de/d/42a07c9e95774e099a81/  into your colab environment. To do this run the cells 5a or 5b, or 5c, or 5d, or 5e -- depending on which language you prefer -- to download the data. Then skip other language and continue with Step5 -- building the model for your preferred language from the data you downloaded.\n"
      ]
    },
    {
      "cell_type": "code",
      "metadata": {
        "id": "8uwDxwRTSnqY",
        "colab": {
          "base_uri": "https://localhost:8080/"
        },
        "outputId": "60eb32b2-9ed8-4c24-bc79-a1c725dd1628"
      },
      "source": [
        "!rm /usr/local/lib/python3.7/dist-packages/gensim/test/test_data/myOwnLangText8.txt\n",
        "!rm index.html?dl=1"
      ],
      "execution_count": null,
      "outputs": [
        {
          "output_type": "stream",
          "name": "stdout",
          "text": [
            "rm: cannot remove '/usr/local/lib/python3.7/dist-packages/gensim/test/test_data/myOwnLangText8.txt': No such file or directory\n",
            "rm: cannot remove 'index.html?dl=1': No such file or directory\n"
          ]
        }
      ]
    },
    {
      "cell_type": "markdown",
      "metadata": {
        "id": "EPZo393WEWGW"
      },
      "source": [
        "### Either: 5a Armenian"
      ]
    },
    {
      "cell_type": "code",
      "metadata": {
        "id": "jLc70OaADDsY"
      },
      "source": [
        "!wget https://heibox.uni-heidelberg.de/f/ffe527ed3d1e4b4cb43a/?dl=1"
      ],
      "execution_count": null,
      "outputs": []
    },
    {
      "cell_type": "code",
      "metadata": {
        "id": "Yj1swlOVH4J9"
      },
      "source": [
        "!cp index.html?dl=1 /usr/local/lib/python3.7/dist-packages/gensim/test/test_data/myOwnLangText8.txt"
      ],
      "execution_count": null,
      "outputs": []
    },
    {
      "cell_type": "code",
      "metadata": {
        "id": "ASwFiA0tPfBn"
      },
      "source": [
        "!head --lines=15 /usr/local/lib/python3.7/dist-packages/gensim/test/test_data/myOwnLangText8.txt"
      ],
      "execution_count": null,
      "outputs": []
    },
    {
      "cell_type": "markdown",
      "metadata": {
        "id": "lfLTw8mHGUA6"
      },
      "source": []
    },
    {
      "cell_type": "markdown",
      "metadata": {
        "id": "teve3mqpEdgG"
      },
      "source": [
        "### Or: 5b Ukrainian"
      ]
    },
    {
      "cell_type": "code",
      "metadata": {
        "id": "Pz-lMC8ZEgTQ"
      },
      "source": [
        "!wget https://heibox.uni-heidelberg.de/f/676bef3a6db8482e9665/?dl=1"
      ],
      "execution_count": null,
      "outputs": []
    },
    {
      "cell_type": "code",
      "metadata": {
        "id": "3Kw3XZQPH47I"
      },
      "source": [
        "!cp index.html?dl=1 /usr/local/lib/python3.7/dist-packages/gensim/test/test_data/myOwnLangText8.txt"
      ],
      "execution_count": null,
      "outputs": []
    },
    {
      "cell_type": "code",
      "metadata": {
        "id": "ARd-3RfY8mw5"
      },
      "source": [
        "!head --lines=15 /usr/local/lib/python3.7/dist-packages/gensim/test/test_data/myOwnLangText8.txt"
      ],
      "execution_count": null,
      "outputs": []
    },
    {
      "cell_type": "markdown",
      "metadata": {
        "id": "OKKHYl4dFFcT"
      },
      "source": [
        "### Or: 5c German"
      ]
    },
    {
      "cell_type": "code",
      "metadata": {
        "id": "k9i_seazFN9i"
      },
      "source": [
        "!wget https://heibox.uni-heidelberg.de/f/ca0a085347c34563a6e6/?dl=1"
      ],
      "execution_count": null,
      "outputs": []
    },
    {
      "cell_type": "code",
      "metadata": {
        "id": "m13CwxeEH9dk"
      },
      "source": [
        "!cp index.html?dl=1 /usr/local/lib/python3.7/dist-packages/gensim/test/test_data/myOwnLangText8.txt"
      ],
      "execution_count": null,
      "outputs": []
    },
    {
      "cell_type": "code",
      "metadata": {
        "id": "RBO_zgLb8vJm"
      },
      "source": [
        "!head --lines=15 /usr/local/lib/python3.7/dist-packages/gensim/test/test_data/myOwnLangText8.txt"
      ],
      "execution_count": null,
      "outputs": []
    },
    {
      "cell_type": "markdown",
      "metadata": {
        "id": "PWDlNugkFOZP"
      },
      "source": [
        "### Or: 5d French"
      ]
    },
    {
      "cell_type": "code",
      "metadata": {
        "id": "eL18LA1PFRAM"
      },
      "source": [
        "!wget https://heibox.uni-heidelberg.de/f/5cdb485efd4046f2a457/?dl=1"
      ],
      "execution_count": null,
      "outputs": []
    },
    {
      "cell_type": "code",
      "metadata": {
        "id": "BorzWO26H-Gx"
      },
      "source": [
        "!cp index.html?dl=1 /usr/local/lib/python3.7/dist-packages/gensim/test/test_data/myOwnLangText8.txt"
      ],
      "execution_count": null,
      "outputs": []
    },
    {
      "cell_type": "code",
      "metadata": {
        "id": "RushLVUX8w5k"
      },
      "source": [
        "!head --lines=15 /usr/local/lib/python3.7/dist-packages/gensim/test/test_data/myOwnLangText8.txt"
      ],
      "execution_count": null,
      "outputs": []
    },
    {
      "cell_type": "markdown",
      "metadata": {
        "id": "5vgYZ0IfGY2l"
      },
      "source": [
        "### Or: 5f Georgian"
      ]
    },
    {
      "cell_type": "code",
      "metadata": {
        "id": "imZY_tHOGc-m"
      },
      "source": [
        "!wget https://heibox.uni-heidelberg.de/f/fa3509d869b949459f91/?dl=1"
      ],
      "execution_count": null,
      "outputs": []
    },
    {
      "cell_type": "markdown",
      "metadata": {
        "id": "0ZZvDBTq3E8f"
      },
      "source": [
        "Lemmatized corpus"
      ]
    },
    {
      "cell_type": "code",
      "metadata": {
        "id": "767DwIll3IP6"
      },
      "source": [
        "!wget https://heibox.uni-heidelberg.de/f/b381c458ad5e4773a77d/?dl=1"
      ],
      "execution_count": null,
      "outputs": []
    },
    {
      "cell_type": "code",
      "metadata": {
        "id": "kq2qM74k3Wfe"
      },
      "source": [
        "!cp index.html?dl=1 wiki_geo_lem.txt"
      ],
      "execution_count": null,
      "outputs": []
    },
    {
      "cell_type": "code",
      "metadata": {
        "id": "1UUAVq_W3fqU"
      },
      "source": [
        "!head --lines=10 wiki_geo_lem.txt"
      ],
      "execution_count": null,
      "outputs": []
    },
    {
      "cell_type": "code",
      "metadata": {
        "id": "sDSkZErA3s8Z"
      },
      "source": [
        "FIn = open(\"wiki_geo_lem.txt\", 'r')\n",
        "FOut = open('wiki_geo_l.txt', 'w')\n",
        "\n",
        "i = 0\n",
        "for SLine in FIn:\n",
        "  i = i + 1\n",
        "  SLine = SLine.strip() + ' '\n",
        "  if i % 10000 == 0:\n",
        "    SLine += '\\n'\n",
        "\n",
        "  FOut.write(SLine)\n",
        "\n",
        "FOut.flush()\n",
        "FOut.close()\n"
      ],
      "execution_count": null,
      "outputs": []
    },
    {
      "cell_type": "code",
      "metadata": {
        "id": "rMGSnTHV5WyM"
      },
      "source": [
        "!head --lines=10 wiki_geo_l.txt"
      ],
      "execution_count": null,
      "outputs": []
    },
    {
      "cell_type": "code",
      "metadata": {
        "id": "e9_T1Dwz5sD9",
        "colab": {
          "base_uri": "https://localhost:8080/"
        },
        "outputId": "59125cfd-3027-4ed7-b6a3-e694e42e9049"
      },
      "source": [
        "!wc wiki_geo_lem.txt"
      ],
      "execution_count": null,
      "outputs": [
        {
          "output_type": "stream",
          "name": "stdout",
          "text": [
            " 18054750  18054749 329202500 wiki_geo_lem.txt\n"
          ]
        }
      ]
    },
    {
      "cell_type": "code",
      "metadata": {
        "id": "KrWmuRyEGk__"
      },
      "source": [
        "!cp index.html?dl=1 /usr/local/lib/python3.7/dist-packages/gensim/test/test_data/myOwnLangText8.txt"
      ],
      "execution_count": null,
      "outputs": []
    },
    {
      "cell_type": "markdown",
      "metadata": {
        "id": "Qg5rl4vM6QjO"
      },
      "source": [
        "Alternatively, copy lemmatized corpus"
      ]
    },
    {
      "cell_type": "code",
      "metadata": {
        "id": "ZcDakluj6C2G"
      },
      "source": [
        "!cp wiki_geo_l.txt /usr/local/lib/python3.7/dist-packages/gensim/test/test_data/myOwnLangText8.txt"
      ],
      "execution_count": null,
      "outputs": []
    },
    {
      "cell_type": "code",
      "metadata": {
        "id": "Beg4vzqFGono"
      },
      "source": [
        "!head --lines=15 /usr/local/lib/python3.7/dist-packages/gensim/test/test_data/myOwnLangText8.txt"
      ],
      "execution_count": null,
      "outputs": []
    },
    {
      "cell_type": "markdown",
      "metadata": {
        "id": "-AJ9guGSNkyw"
      },
      "source": [
        "### Stage6: Training own model"
      ]
    },
    {
      "cell_type": "markdown",
      "metadata": {
        "id": "kCj_-BYcOe7A"
      },
      "source": [
        "optional: to clean disk space, we remove the downloaded file"
      ]
    },
    {
      "cell_type": "code",
      "metadata": {
        "id": "NnO8k3CWOdqK"
      },
      "source": [
        "# optional: to clean disk space, we remove the downloaded file\n",
        "!rm index.html\\?dl\\=1"
      ],
      "execution_count": null,
      "outputs": []
    },
    {
      "cell_type": "code",
      "metadata": {
        "id": "3AAzBAWaPQZB"
      },
      "source": [
        "from gensim.test.utils import datapath\n",
        "from gensim import utils\n",
        "\n",
        "class MyCorpus:\n",
        "    \"\"\"An iterator that yields sentences (lists of str).\"\"\"\n",
        "\n",
        "    def __iter__(self):\n",
        "        corpus_path = datapath('myOwnLangText8.txt')\n",
        "        for line in open(corpus_path):\n",
        "            # assume there's one document per line, tokens separated by whitespace\n",
        "            yield utils.simple_preprocess(line)"
      ],
      "execution_count": null,
      "outputs": []
    },
    {
      "cell_type": "code",
      "metadata": {
        "id": "i9VFjEuyQQ1u"
      },
      "source": [
        "import gensim.models\n",
        "corpusOwn = MyCorpus()"
      ],
      "execution_count": null,
      "outputs": []
    },
    {
      "cell_type": "markdown",
      "metadata": {
        "id": "DARUsusgQyWO"
      },
      "source": [
        "optional: examining what is in the corpus after standard preprocessing"
      ]
    },
    {
      "cell_type": "code",
      "metadata": {
        "id": "-tLeaX0rQiD7",
        "colab": {
          "base_uri": "https://localhost:8080/"
        },
        "outputId": "b0dcbdae-7db4-47d8-d7cc-77bcb9c7489a"
      },
      "source": [
        "# Optional: Examining our corpus format\n",
        "type(corpusOwn)"
      ],
      "execution_count": null,
      "outputs": [
        {
          "output_type": "execute_result",
          "data": {
            "text/plain": [
              "__main__.MyCorpus"
            ]
          },
          "metadata": {},
          "execution_count": 7
        }
      ]
    },
    {
      "cell_type": "code",
      "metadata": {
        "id": "zSzwUYw_QxYD"
      },
      "source": [
        "dataOwn = [d for d in corpusOwn]"
      ],
      "execution_count": null,
      "outputs": []
    },
    {
      "cell_type": "code",
      "metadata": {
        "id": "4YWSko1SRLJl"
      },
      "source": [
        "print(len(dataOwn))\n",
        "print(dataOwn[0])\n",
        "print(len(dataOwn[0]))\n",
        "print(dataOwn[4])\n",
        "print(len(dataOwn[4]))\n",
        "print(dataOwn[5])\n",
        "print(len(dataOwn[5]))"
      ],
      "execution_count": null,
      "outputs": []
    },
    {
      "cell_type": "markdown",
      "metadata": {
        "id": "468wJ6YkVNad"
      },
      "source": [
        "... Initialising global parameters for our modelL vector size, collocation window, skip-grams, negative sampling...."
      ]
    },
    {
      "cell_type": "code",
      "metadata": {
        "id": "h8Eep9wyHh9d"
      },
      "source": [
        "from gensim.models import Word2Vec # The word2vec model class\n",
        "import gensim.downloader as api # Allows us to download some free training data"
      ],
      "execution_count": null,
      "outputs": []
    },
    {
      "cell_type": "code",
      "metadata": {
        "id": "xObhQQ2SVBDn"
      },
      "source": [
        "vector_size = 100 # Dimensionality of the word vectors\n",
        "window = 5 # How many words either side? (5 = 5 context words either side, i.e. 10 context words in total)\n",
        "use_skip_gram = 1 # If you set this to 0, then it will create a 'continuous bag of words' model instead\n",
        "use_softmax = 0 # If you set this to 1, then hierarchical softmax will be used instead of negative sampling\n",
        "negative_samples = 5 # How many incorrect answers to generate per correct answer when negative sampling\n",
        "\n",
        "modelOwn = Word2Vec(\n",
        "    size=vector_size,\n",
        "    window=window,\n",
        "    sg=use_skip_gram,\n",
        "    hs=use_softmax,\n",
        "    negative=negative_samples\n",
        ")"
      ],
      "execution_count": null,
      "outputs": []
    },
    {
      "cell_type": "markdown",
      "metadata": {
        "id": "e_QILgoIVeea"
      },
      "source": [
        "... this cell may run for ~2 min or so..."
      ]
    },
    {
      "cell_type": "code",
      "metadata": {
        "id": "gaecmdkPVLCh"
      },
      "source": [
        "modelOwn.build_vocab(corpusOwn)"
      ],
      "execution_count": null,
      "outputs": []
    },
    {
      "cell_type": "markdown",
      "metadata": {
        "id": "HEdwCKEVVnGv"
      },
      "source": [
        "THIS MAY TAKE LONG!!! ... training the model may take 9 to 15 minutes... (just grab a cup of coffee or a sandwich while you are waiting... You may try chaning the number of epochs; if the number is lower the training is faster, but the quality may be lower..."
      ]
    },
    {
      "cell_type": "code",
      "metadata": {
        "id": "UrvDUrOJVxOG",
        "colab": {
          "base_uri": "https://localhost:8080/"
        },
        "outputId": "f64b079b-c251-4c7e-8479-11ec374e3727"
      },
      "source": [
        "modelOwn.train(sentences=corpusOwn, epochs=5, total_examples=modelOwn.corpus_count)"
      ],
      "execution_count": null,
      "outputs": [
        {
          "output_type": "execute_result",
          "data": {
            "text/plain": [
              "(59378395, 70859245)"
            ]
          },
          "metadata": {},
          "execution_count": 32
        }
      ]
    },
    {
      "cell_type": "markdown",
      "metadata": {
        "id": "trrJqAeUWWmL"
      },
      "source": [
        "Now we copy word vectors and remove the model from memory (just to free up the resources...)"
      ]
    },
    {
      "cell_type": "code",
      "metadata": {
        "id": "h2GbyMw5WVZd"
      },
      "source": [
        "word_vectors_own = modelOwn.wv"
      ],
      "execution_count": null,
      "outputs": []
    },
    {
      "cell_type": "code",
      "metadata": {
        "id": "vjLyitW5Whff"
      },
      "source": [
        "del modelOwn"
      ],
      "execution_count": null,
      "outputs": []
    },
    {
      "cell_type": "markdown",
      "metadata": {
        "id": "q-ipjoSmWtOR"
      },
      "source": [
        "Now we can examine the output of our word embeddings"
      ]
    },
    {
      "cell_type": "markdown",
      "metadata": {
        "id": "VyKlhpZJ6oG3"
      },
      "source": [
        "### German examples"
      ]
    },
    {
      "cell_type": "code",
      "metadata": {
        "id": "pO9GGM5K6kup"
      },
      "source": [
        "# DE examples\n",
        "# See the word vector for a particular word\n",
        "vector = word_vectors['banane']\n",
        "print(vector)"
      ],
      "execution_count": null,
      "outputs": []
    },
    {
      "cell_type": "code",
      "metadata": {
        "id": "irvedMmO62EE"
      },
      "source": [
        "# See which words are closest to a given word in the vector space\n",
        "similar_words = word_vectors.most_similar('universität', topn=10)\n",
        "print('\\n'.join([str(tup) for tup in similar_words]))"
      ],
      "execution_count": null,
      "outputs": []
    },
    {
      "cell_type": "code",
      "metadata": {
        "id": "uVfmC7307DBy"
      },
      "source": [
        "# See which words are closest to a given word in the vector space\n",
        "similar_words = word_vectors.most_similar('rot', topn=10)\n",
        "print('\\n'.join([str(tup) for tup in similar_words]))"
      ],
      "execution_count": null,
      "outputs": []
    },
    {
      "cell_type": "code",
      "metadata": {
        "id": "yJ5fp9mI7G0s"
      },
      "source": [
        "# See which words are closest to a given word in the vector space\n",
        "similar_words = word_vectors.most_similar('brüssel', topn=10)\n",
        "print('\\n'.join([str(tup) for tup in similar_words]))"
      ],
      "execution_count": null,
      "outputs": []
    },
    {
      "cell_type": "code",
      "metadata": {
        "id": "prPdl2ki7JLB"
      },
      "source": [
        "# See which words are closest to a given word in the vector space\n",
        "similar_words = word_vectors.most_similar('deutschland', topn=10)\n",
        "print('\\n'.join([str(tup) for tup in similar_words]))"
      ],
      "execution_count": null,
      "outputs": []
    },
    {
      "cell_type": "code",
      "metadata": {
        "id": "PjxHXJ_k7Lxf"
      },
      "source": [
        "# See which words are closest to a given word in the vector space\n",
        "similar_words = word_vectors.most_similar('komisch', topn=10)\n",
        "print('\\n'.join([str(tup) for tup in similar_words]))"
      ],
      "execution_count": null,
      "outputs": []
    },
    {
      "cell_type": "code",
      "metadata": {
        "id": "MqplaUng7N5S"
      },
      "source": [
        "# Compute analogous words\n",
        "# E.g. x is to queen as man is to king => x = v('queen') + v('man') - v('king')\n",
        "analogous_words = word_vectors.most_similar(negative=['mann'], positive=['könig','frau'])\n",
        "print('\\n'.join([str(tup) for tup in analogous_words]))"
      ],
      "execution_count": null,
      "outputs": []
    },
    {
      "cell_type": "code",
      "metadata": {
        "id": "fWhfjdjU7QEc"
      },
      "source": [
        "# Compute analogous words\n",
        "# E.g. x is to queen as man is to king => x = v('queen') + v('man') - v('king')\n",
        "analogous_words = word_vectors.most_similar(negative=['könig'], positive=['königin','mann'])\n",
        "print('\\n'.join([str(tup) for tup in analogous_words]))"
      ],
      "execution_count": null,
      "outputs": []
    },
    {
      "cell_type": "code",
      "metadata": {
        "id": "CXs0DTXE7UYb"
      },
      "source": [
        "# Compute analogous words\n",
        "# E.g. x is to queen as man is to king => x = v('queen') + v('man') - v('king')\n",
        "analogous_words = word_vectors.most_similar(negative=['mutter'], positive=['vater','tochter'])\n",
        "print('\\n'.join([str(tup) for tup in analogous_words]))"
      ],
      "execution_count": null,
      "outputs": []
    },
    {
      "cell_type": "code",
      "metadata": {
        "id": "vRHwRsT_7YLz"
      },
      "source": [
        "# Compute analogous words\n",
        "# E.g. x is to queen as man is to king => x = v('queen') + v('man') - v('king')\n",
        "analogous_words = word_vectors.most_similar(negative=['mutter'], positive=['vater','mädchen'])\n",
        "print('\\n'.join([str(tup) for tup in analogous_words]))"
      ],
      "execution_count": null,
      "outputs": []
    },
    {
      "cell_type": "code",
      "metadata": {
        "id": "PzSy-z-07Yy6"
      },
      "source": [
        "# Compute analogous words\n",
        "# x is to daughter as people is to person (plural + daughter)\n",
        "analogous_words = word_vectors.most_similar(negative=['person'], positive=['menschen','tochter'])\n",
        "print('\\n'.join([str(tup) for tup in analogous_words]))"
      ],
      "execution_count": null,
      "outputs": []
    },
    {
      "cell_type": "code",
      "metadata": {
        "id": "hWv3si3k7bK1"
      },
      "source": [
        "analogous_words = word_vectors.most_similar(negative=['weich'], positive=['hart','weichste'])\n",
        "print('\\n'.join([str(tup) for tup in analogous_words]))"
      ],
      "execution_count": null,
      "outputs": []
    },
    {
      "cell_type": "markdown",
      "metadata": {
        "id": "1f-JPmP0JILh"
      },
      "source": [
        "### Georgian examples"
      ]
    },
    {
      "cell_type": "code",
      "metadata": {
        "id": "PhbX0fpdH90R"
      },
      "source": [
        "# See the word vector for a particular word -- 'world'\n",
        "vector = word_vectors_own['სამყარო']\n",
        "print(vector)"
      ],
      "execution_count": null,
      "outputs": []
    },
    {
      "cell_type": "code",
      "metadata": {
        "id": "K0dPtZK2IkpT"
      },
      "source": [
        "# See which words are closest to a given word in the vector space = 'world'\n",
        "similar_words = word_vectors_own.most_similar('არსება', topn=30)\n",
        "print('\\n'.join([str(tup) for tup in similar_words]))"
      ],
      "execution_count": null,
      "outputs": []
    },
    {
      "cell_type": "code",
      "metadata": {
        "id": "tLuAjAlcIrpi"
      },
      "source": [
        "# blue\n",
        "similar_words = word_vectors_own.most_similar('ლურჯი', topn=30)\n",
        "print('\\n'.join([str(tup) for tup in similar_words]))"
      ],
      "execution_count": null,
      "outputs": []
    },
    {
      "cell_type": "code",
      "metadata": {
        "id": "zGuQWHznIuXV"
      },
      "source": [
        "# france\n",
        "similar_words = word_vectors_own.most_similar('საფრანგეთი', topn=10)\n",
        "print('\\n'.join([str(tup) for tup in similar_words]))"
      ],
      "execution_count": null,
      "outputs": []
    },
    {
      "cell_type": "code",
      "metadata": {
        "id": "rzFct-O4IzYr"
      },
      "source": [
        "# x is to king as woman is to man\n",
        "analogous_words = word_vectors_own.most_similar(negative=['კაცი'], positive=['მეფე','ქალი'])\n",
        "print('\\n'.join([str(tup) for tup in analogous_words]))"
      ],
      "execution_count": null,
      "outputs": []
    },
    {
      "cell_type": "code",
      "metadata": {
        "id": "Q60fDwHXI3RL"
      },
      "source": [
        "# x is to king as woman is to man\n",
        "# x = small + biggest - big\n",
        "# 𝑥−𝑣𝑒𝑐𝑡𝑜𝑟(′𝑠𝑚𝑎𝑙𝑙′)=𝑣𝑒𝑐𝑡𝑜𝑟(′𝑏𝑖𝑔𝑔𝑒𝑠𝑡′)−𝑣𝑒𝑐𝑡𝑜𝑟(′𝑏𝑖𝑔′)\n",
        "# ∴ 𝑥=𝑣𝑒𝑐𝑡𝑜𝑟(′𝑠𝑚𝑎𝑙𝑙′)+𝑣𝑒𝑐𝑡𝑜𝑟(′𝑏𝑖𝑔𝑔𝑒𝑠𝑡′)−𝑣𝑒𝑐𝑡𝑜𝑟(′𝑏𝑖𝑔′)\n",
        "# ∴ 𝑥=𝑣𝑒𝑐𝑡𝑜𝑟(′փոքր′)+𝑣𝑒𝑐𝑡𝑜𝑟(′ամենամեծը′)−𝑣𝑒𝑐𝑡𝑜𝑟(′մեծ′)\n",
        "analogous_words = word_vectors_own.most_similar(negative=['პირი'], positive=['ხალხი','ქალიშვილი'])\n",
        "print('\\n'.join([str(tup) for tup in analogous_words]))"
      ],
      "execution_count": null,
      "outputs": []
    },
    {
      "cell_type": "code",
      "metadata": {
        "id": "czmhvtc-JB4C"
      },
      "source": [
        "# try your own examples... (also -- morphology?)\n",
        "# # x is to daughter as people is to person (plural + daughter)\n",
        "# analogous_words = word_vectors.most_similar(negative=['person'], positive=['people','daughter'])"
      ],
      "execution_count": null,
      "outputs": []
    },
    {
      "cell_type": "code",
      "metadata": {
        "id": "ZUFzOu3eIrGr"
      },
      "source": [],
      "execution_count": null,
      "outputs": []
    },
    {
      "cell_type": "markdown",
      "metadata": {
        "id": "Wvj5B2qdJDt6"
      },
      "source": [
        "### Armenian examples"
      ]
    },
    {
      "cell_type": "code",
      "metadata": {
        "id": "ZUVomonLWzHM"
      },
      "source": [
        "# See the word vector for a particular word -- 'world'\n",
        "vector = word_vectors_own['աշխարհը']\n",
        "print(vector)"
      ],
      "execution_count": null,
      "outputs": []
    },
    {
      "cell_type": "code",
      "metadata": {
        "id": "ga4LQhZJXmYV"
      },
      "source": [
        "# See which words are closest to a given word in the vector space = 'world'\n",
        "similar_words = word_vectors_own.most_similar('աշխարհը', topn=10)\n",
        "print('\\n'.join([str(tup) for tup in similar_words]))"
      ],
      "execution_count": null,
      "outputs": []
    },
    {
      "cell_type": "code",
      "metadata": {
        "id": "9ECDUd8AXsF0"
      },
      "source": [
        "# blue\n",
        "similar_words = word_vectors_own.most_similar('կապույտ', topn=10)\n",
        "print('\\n'.join([str(tup) for tup in similar_words]))"
      ],
      "execution_count": null,
      "outputs": []
    },
    {
      "cell_type": "code",
      "metadata": {
        "id": "EKAl9NVdX8SM"
      },
      "source": [
        "# france\n",
        "similar_words = word_vectors_own.most_similar('ֆրանսիա', topn=10)\n",
        "print('\\n'.join([str(tup) for tup in similar_words]))"
      ],
      "execution_count": null,
      "outputs": []
    },
    {
      "cell_type": "code",
      "metadata": {
        "id": "492wftrxZRhR"
      },
      "source": [
        "# x is to king as woman is to man\n",
        "analogous_words = word_vectors_own.most_similar(negative=['մարդ'], positive=['թագավոր','կին'])\n",
        "print('\\n'.join([str(tup) for tup in analogous_words]))"
      ],
      "execution_count": null,
      "outputs": []
    },
    {
      "cell_type": "code",
      "metadata": {
        "id": "5HOugAyWbYCE"
      },
      "source": [
        "# x is to king as woman is to man\n",
        "# x = small + biggest - big\n",
        "# 𝑥−𝑣𝑒𝑐𝑡𝑜𝑟(′𝑠𝑚𝑎𝑙𝑙′)=𝑣𝑒𝑐𝑡𝑜𝑟(′𝑏𝑖𝑔𝑔𝑒𝑠𝑡′)−𝑣𝑒𝑐𝑡𝑜𝑟(′𝑏𝑖𝑔′)\n",
        "# ∴ 𝑥=𝑣𝑒𝑐𝑡𝑜𝑟(′𝑠𝑚𝑎𝑙𝑙′)+𝑣𝑒𝑐𝑡𝑜𝑟(′𝑏𝑖𝑔𝑔𝑒𝑠𝑡′)−𝑣𝑒𝑐𝑡𝑜𝑟(′𝑏𝑖𝑔′)\n",
        "# ∴ 𝑥=𝑣𝑒𝑐𝑡𝑜𝑟(′փոքր′)+𝑣𝑒𝑐𝑡𝑜𝑟(′ամենամեծը′)−𝑣𝑒𝑐𝑡𝑜𝑟(′մեծ′)\n",
        "analogous_words = word_vectors_own.most_similar(negative=['մեծ'], positive=['ամենամեծը','փոքր'])\n",
        "print('\\n'.join([str(tup) for tup in analogous_words]))"
      ],
      "execution_count": null,
      "outputs": []
    },
    {
      "cell_type": "code",
      "metadata": {
        "id": "Qz1h1O-MaY4J"
      },
      "source": [
        "# try your own examples... (also -- morphology?)\n",
        "# # x is to daughter as people is to person (plural + daughter)\n",
        "# analogous_words = word_vectors.most_similar(negative=['person'], positive=['people','daughter'])"
      ],
      "execution_count": null,
      "outputs": []
    }
  ]
}