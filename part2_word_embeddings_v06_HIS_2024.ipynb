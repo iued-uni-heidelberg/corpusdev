{
  "nbformat": 4,
  "nbformat_minor": 0,
  "metadata": {
    "language_info": {
      "codemirror_mode": {
        "name": "ipython",
        "version": 3
      },
      "file_extension": ".py",
      "mimetype": "text/x-python",
      "name": "python",
      "nbconvert_exporter": "python",
      "pygments_lexer": "ipython3",
      "version": "3.8.3"
    },
    "orig_nbformat": 4,
    "kernelspec": {
      "name": "python3",
      "display_name": "Python 3.8.3 64-bit"
    },
    "interpreter": {
      "hash": "aee8b7b246df8f9039afb4144a1f6fd8d2ca17a180786b69acc140d282b71a49"
    },
    "colab": {
      "provenance": [],
      "include_colab_link": true
    }
  },
  "cells": [
    {
      "cell_type": "markdown",
      "metadata": {
        "id": "view-in-github",
        "colab_type": "text"
      },
      "source": [
        "<a href=\"https://colab.research.google.com/github/iued-uni-heidelberg/corpusdev/blob/main/part2_word_embeddings_v06_HIS_2024.ipynb\" target=\"_parent\"><img src=\"https://colab.research.google.com/assets/colab-badge.svg\" alt=\"Open In Colab\"/></a>"
      ]
    },
    {
      "cell_type": "markdown",
      "metadata": {
        "id": "Ty2YWcLcvKl4"
      },
      "source": [
        "# Word Vectors\n",
        "\n",
        "Presentations [slides](intro-word-vectors-DAAD-2021-v22.pdf); Original [slides](word-vectors.pdf)\n",
        "\n",
        "Word vectors (also known as 'word embeddings') are one of the most popular kinds of AI models. They are extremely useful in many domains. In essence, a word vector is a set of numbers that attempt to capture the meaning of a word. In typical implementations, each word is represented by a set of 200-300 numbers. In linear algebra, a one-dimensional array of numbers is known as a 'vector', hence these sets of numbers representing words' meanings are known as 'word vectors'.\n",
        "\n",
        "Using neural networks, we can expose the computer to a large amount of text, and allow it to learn an appropriate set of numbers for each word it encounters. In this notebook, we will learn about the most famous of all word vector algorithms, `word2vec`, which was first described by Tomas Mikolov and his team in 2013:\n",
        "\n",
        "* Tomas Mikolov, Ilya Sutskever, and others, ‘Distributed Representations of Words and Phrases and Their Compositionality’, in Advances in Neural Information Processing Systems 26, ed. by C. J. C. Burges and others (Curran Associates, Inc., 2013), pp. 3111–19 <http://papers.nips.cc/paper/5021-distributed-representations-of-words-and-phrases-and-their-compositionality.pdf>\n",
        "* Tomas Mikolov, Kai Chen, and others, ‘Efficient Estimation of Word Representations in Vector Space’, ArXiv:1301.3781 Cs, 2013 <http://arxiv.org/abs/1301.3781>.\n",
        "\n",
        "In fact, `word2vec` is not a single algorithm, but rather a family of similar algorithms. In this session we will consider just the most famous `word2vec` algorithm, namely the `skip-gram model` trained using `negative sampling`."
      ]
    },
    {
      "cell_type": "markdown",
      "metadata": {
        "id": "SWLKKQ0lvKl5"
      },
      "source": [
        "## Applications of Word Vectors\n",
        "\n",
        "Word vectors allow the computer to 'understand' language far more effectively. Rather than seeing each word as simply an arbitrarily different object, a computer using word vectors can analyse each word as a point in 200- or 300-dimenstional space. Words that are similar in meaning will have similar word vectors. And as we will see, the spaces between the word vectors are also significant: the words are arranged in patterns that represent their relationships to one another.\n",
        "\n",
        "Accordingly, most AI systems that process language now include a word vector layer as part of their architecure. When the system encounters some text (e.g. when you speak to Siri or Alexa), your words are converted into word vectors, *and then* the computer examines what the text says and determines how it should respond.\n",
        "\n",
        "In the Humanities, word vectors have become a popular modelling tool, because they allow researchers to perform sophisticated analysis on large corpora of text. Some examples include:\n",
        "\n",
        "* [The Women Writers Vector Toolkit](https://wwp.northeastern.edu/lab/wwvt/index.html)\n",
        "* William L. Hamilton, Jure Leskovec, and Dan Jurafsky, ‘Diachronic Word Embeddings Reveal Statistical Laws of Semantic Change’, ArXiv:1605.09096 [Cs], 2018 <http://arxiv.org/abs/1605.09096>.\n",
        "* Ryan Heuser, 'Semantic Networks' <https://ryanheuser.org/word-vectors-4/>"
      ]
    },
    {
      "cell_type": "markdown",
      "metadata": {
        "id": "o4ZWncLevKl5"
      },
      "source": [
        "## Training a `word2vec` model in Gensim\n",
        "\n",
        "\n",
        "It is very easy to train a `word2vec` model in Gensim, which includes Mikolov's original `word2vec` code in its codebase.\n",
        "\n",
        "### Step 0: Downloading texts\n",
        "#### 0.1: load an existing text collection...\n"
      ]
    },
    {
      "cell_type": "code",
      "metadata": {
        "id": "QgedLV80vKl6",
        "colab": {
          "base_uri": "https://localhost:8080/"
        },
        "outputId": "abdd8d05-ad29-4d87-b0bb-8fe27cd6e36b"
      },
      "source": [
        "from gensim.models import Word2Vec # The word2vec model class\n",
        "import gensim.downloader as api # Allows us to download some free training data\n",
        "corpus = api.load('text8')\n",
        "# api.info()"
      ],
      "execution_count": 1,
      "outputs": [
        {
          "output_type": "stream",
          "name": "stdout",
          "text": [
            "[==================================================] 100.0% 31.6/31.6MB downloaded\n"
          ]
        }
      ]
    },
    {
      "cell_type": "markdown",
      "metadata": {
        "id": "nvSxGbYN8aHr"
      },
      "source": [
        "text8 is first 100MB from English wikipedia, 17 million words\n",
        "\n",
        "The file is downloadable from\n",
        "http://mattmahoney.net/dc/text8.zip\n"
      ]
    },
    {
      "cell_type": "code",
      "metadata": {
        "id": "GOfGR4GVxzIY",
        "colab": {
          "base_uri": "https://localhost:8080/"
        },
        "outputId": "f3b93cac-ecf2-4eec-c1d8-9f2a0578ec60"
      },
      "source": [
        "# Examine the corpus to see what is there\n",
        "api.info(\"text8\")"
      ],
      "execution_count": 2,
      "outputs": [
        {
          "output_type": "execute_result",
          "data": {
            "text/plain": [
              "{'num_records': 1701,\n",
              " 'record_format': 'list of str (tokens)',\n",
              " 'file_size': 33182058,\n",
              " 'reader_code': 'https://github.com/RaRe-Technologies/gensim-data/releases/download/text8/__init__.py',\n",
              " 'license': 'not found',\n",
              " 'description': 'First 100,000,000 bytes of plain text from Wikipedia. Used for testing purposes; see wiki-english-* for proper full Wikipedia datasets.',\n",
              " 'checksum': '68799af40b6bda07dfa47a32612e5364',\n",
              " 'file_name': 'text8.gz',\n",
              " 'read_more': ['http://mattmahoney.net/dc/textdata.html'],\n",
              " 'parts': 1}"
            ]
          },
          "metadata": {},
          "execution_count": 2
        }
      ]
    },
    {
      "cell_type": "code",
      "metadata": {
        "id": "hNRnUeEDzJS8",
        "colab": {
          "base_uri": "https://localhost:8080/",
          "height": 121
        },
        "outputId": "0a7b9c3b-b54d-43c7-c556-862fae0d80f6"
      },
      "source": [
        "type(corpus)"
      ],
      "execution_count": 3,
      "outputs": [
        {
          "output_type": "execute_result",
          "data": {
            "text/plain": [
              "text8.Dataset"
            ],
            "text/html": [
              "<div style=\"max-width:800px; border: 1px solid var(--colab-border-color);\"><style>\n",
              "      pre.function-repr-contents {\n",
              "        overflow-x: auto;\n",
              "        padding: 8px 12px;\n",
              "        max-height: 500px;\n",
              "      }\n",
              "\n",
              "      pre.function-repr-contents.function-repr-contents-collapsed {\n",
              "        cursor: pointer;\n",
              "        max-height: 100px;\n",
              "      }\n",
              "    </style>\n",
              "    <pre style=\"white-space: initial; background:\n",
              "         var(--colab-secondary-surface-color); padding: 8px 12px;\n",
              "         border-bottom: 1px solid var(--colab-border-color);\"><b>text8.Dataset</b><br/>def __init__(fn)</pre><pre class=\"function-repr-contents function-repr-contents-collapsed\" style=\"\"><a class=\"filepath\" style=\"display:none\" href=\"#\">/root/gensim-data/text8/__init__.py</a>&lt;no docstring&gt;</pre>\n",
              "      <script>\n",
              "      if (google.colab.kernel.accessAllowed && google.colab.files && google.colab.files.view) {\n",
              "        for (const element of document.querySelectorAll('.filepath')) {\n",
              "          element.style.display = 'block'\n",
              "          element.onclick = (event) => {\n",
              "            event.preventDefault();\n",
              "            event.stopPropagation();\n",
              "            google.colab.files.view(element.textContent, 7);\n",
              "          };\n",
              "        }\n",
              "      }\n",
              "      for (const element of document.querySelectorAll('.function-repr-contents')) {\n",
              "        element.onclick = (event) => {\n",
              "          event.preventDefault();\n",
              "          event.stopPropagation();\n",
              "          element.classList.toggle('function-repr-contents-collapsed');\n",
              "        };\n",
              "      }\n",
              "      </script>\n",
              "      </div>"
            ]
          },
          "metadata": {},
          "execution_count": 3
        }
      ]
    },
    {
      "cell_type": "code",
      "metadata": {
        "id": "dlSD09Qoz_6t"
      },
      "source": [
        "data = [d for d in corpus]"
      ],
      "execution_count": 4,
      "outputs": []
    },
    {
      "cell_type": "code",
      "metadata": {
        "id": "wyeDslt-26E2",
        "colab": {
          "base_uri": "https://localhost:8080/"
        },
        "outputId": "747f6bad-0a5a-4375-976d-360231979d04"
      },
      "source": [
        "len(data)"
      ],
      "execution_count": 5,
      "outputs": [
        {
          "output_type": "execute_result",
          "data": {
            "text/plain": [
              "1701"
            ]
          },
          "metadata": {},
          "execution_count": 5
        }
      ]
    },
    {
      "cell_type": "code",
      "metadata": {
        "id": "TUQzkxNbyTEF",
        "colab": {
          "base_uri": "https://localhost:8080/"
        },
        "outputId": "3ab1c415-d846-4611-c1b7-aa510f1e8748"
      },
      "source": [
        "len(data[0])"
      ],
      "execution_count": 6,
      "outputs": [
        {
          "output_type": "execute_result",
          "data": {
            "text/plain": [
              "10000"
            ]
          },
          "metadata": {},
          "execution_count": 6
        }
      ]
    },
    {
      "cell_type": "code",
      "source": [
        "len(data[1])"
      ],
      "metadata": {
        "colab": {
          "base_uri": "https://localhost:8080/"
        },
        "id": "PDK2-42fbCvv",
        "outputId": "138b8818-1e47-41ac-db4b-2ef8c24d6f7d"
      },
      "execution_count": 7,
      "outputs": [
        {
          "output_type": "execute_result",
          "data": {
            "text/plain": [
              "10000"
            ]
          },
          "metadata": {},
          "execution_count": 7
        }
      ]
    },
    {
      "cell_type": "code",
      "source": [
        "len(data[2])"
      ],
      "metadata": {
        "colab": {
          "base_uri": "https://localhost:8080/"
        },
        "id": "y8pK5IugbEyk",
        "outputId": "c326e55b-a661-4b5f-b237-27d83f8527dd"
      },
      "execution_count": 8,
      "outputs": [
        {
          "output_type": "execute_result",
          "data": {
            "text/plain": [
              "10000"
            ]
          },
          "metadata": {},
          "execution_count": 8
        }
      ]
    },
    {
      "cell_type": "code",
      "metadata": {
        "id": "sEmirZe2yR9y",
        "colab": {
          "base_uri": "https://localhost:8080/"
        },
        "outputId": "8df40753-b176-4143-ba93-1666b7c45ab8"
      },
      "source": [
        "print(data[0][:100])"
      ],
      "execution_count": 9,
      "outputs": [
        {
          "output_type": "stream",
          "name": "stdout",
          "text": [
            "['anarchism', 'originated', 'as', 'a', 'term', 'of', 'abuse', 'first', 'used', 'against', 'early', 'working', 'class', 'radicals', 'including', 'the', 'diggers', 'of', 'the', 'english', 'revolution', 'and', 'the', 'sans', 'culottes', 'of', 'the', 'french', 'revolution', 'whilst', 'the', 'term', 'is', 'still', 'used', 'in', 'a', 'pejorative', 'way', 'to', 'describe', 'any', 'act', 'that', 'used', 'violent', 'means', 'to', 'destroy', 'the', 'organization', 'of', 'society', 'it', 'has', 'also', 'been', 'taken', 'up', 'as', 'a', 'positive', 'label', 'by', 'self', 'defined', 'anarchists', 'the', 'word', 'anarchism', 'is', 'derived', 'from', 'the', 'greek', 'without', 'archons', 'ruler', 'chief', 'king', 'anarchism', 'as', 'a', 'political', 'philosophy', 'is', 'the', 'belief', 'that', 'rulers', 'are', 'unnecessary', 'and', 'should', 'be', 'abolished', 'although', 'there', 'are', 'differing']\n"
          ]
        }
      ]
    },
    {
      "cell_type": "code",
      "metadata": {
        "id": "YkvbCylDyZF_",
        "colab": {
          "base_uri": "https://localhost:8080/"
        },
        "outputId": "d80cc70b-f3bf-4c4d-9093-57d55ff4d39f"
      },
      "source": [
        "print(data[1][:100])"
      ],
      "execution_count": 10,
      "outputs": [
        {
          "output_type": "stream",
          "name": "stdout",
          "text": [
            "['reciprocity', 'qualitative', 'impairments', 'in', 'communication', 'as', 'manifested', 'by', 'at', 'least', 'one', 'of', 'the', 'following', 'delay', 'in', 'or', 'total', 'lack', 'of', 'the', 'development', 'of', 'spoken', 'language', 'not', 'accompanied', 'by', 'an', 'attempt', 'to', 'compensate', 'through', 'alternative', 'modes', 'of', 'communication', 'such', 'as', 'gesture', 'or', 'mime', 'in', 'individuals', 'with', 'adequate', 'speech', 'marked', 'impairment', 'in', 'the', 'ability', 'to', 'initiate', 'or', 'sustain', 'a', 'conversation', 'with', 'others', 'stereotyped', 'and', 'repetitive', 'use', 'of', 'language', 'or', 'idiosyncratic', 'language', 'lack', 'of', 'varied', 'spontaneous', 'make', 'believe', 'play', 'or', 'social', 'imitative', 'play', 'appropriate', 'to', 'developmental', 'level', 'restricted', 'repetitive', 'and', 'stereotyped', 'patterns', 'of', 'behavior', 'interests', 'and', 'activities', 'as', 'manifested', 'by', 'at', 'least', 'one']\n"
          ]
        }
      ]
    },
    {
      "cell_type": "code",
      "source": [
        "print(data[2][:100])"
      ],
      "metadata": {
        "colab": {
          "base_uri": "https://localhost:8080/"
        },
        "id": "LNOIgD67aq-s",
        "outputId": "6055663b-553b-46ec-a484-639b4393e337"
      },
      "execution_count": 11,
      "outputs": [
        {
          "output_type": "stream",
          "name": "stdout",
          "text": [
            "['with', 'the', 'aegis', 'of', 'zeus', 'when', 'he', 'goes', 'to', 'the', 'battlefield', 'the', 'entire', 'trojan', 'army', 'flees', 'behind', 'the', 'walls', 'of', 'troy', 'achilles', 'wrath', 'is', 'terrible', 'and', 'he', 'slays', 'many', 'trojan', 'warriors', 'and', 'allies', 'including', 'priam', 's', 'son', 'lycaon', 'whom', 'achilles', 'had', 'previously', 'captured', 'and', 'sold', 'into', 'slavery', 'but', 'who', 'had', 'been', 'returned', 'to', 'troy', 'eventually', 'hector', 'comes', 'out', 'of', 'the', 'walls', 'to', 'defend', 'the', 'honour', 'of', 'troy', 'he', 'asked', 'achilles', 'to', 'agree', 'that', 'the', 'body', 'of', 'the', 'loser', 'would', 'be', 'returned', 'for', 'proper', 'burial', 'by', 'the', 'winner', 'achilles', 'rejected', 'this', 'arrangement', 'saying', 'though', 'twenty', 'ransoms', 'and', 'thy', 'weight', 'in', 'gold']\n"
          ]
        }
      ]
    },
    {
      "cell_type": "markdown",
      "source": [
        "#### Step 0.2: load own text collection to be used in training ... (will be added later)...\n"
      ],
      "metadata": {
        "id": "L46Z0Uw6AOuu"
      }
    },
    {
      "cell_type": "markdown",
      "metadata": {
        "id": "_eEjBCxovKl6"
      },
      "source": [
        "### Step 1: Set hyperparameters and instantiate model"
      ]
    },
    {
      "cell_type": "code",
      "metadata": {
        "id": "K9MC27DDvKl6"
      },
      "source": [
        "my_vector_size = 100 # Dimensionality of the word vectors\n",
        "window = 5 # How many words either side? (5 = 5 context words either side, i.e. 10 context words in total)\n",
        "use_skip_gram = 1 # If you set this to 0, then it will create a 'continuous bag of words' model instead\n",
        "use_softmax = 0 # If you set this to 1, then hierarchical softmax will be used instead of negative sampling\n",
        "negative_samples = 5 # How many incorrect answers to generate per correct answer when negative sampling\n",
        "\n",
        "model = Word2Vec(\n",
        "    vector_size=my_vector_size,\n",
        "    window=window,\n",
        "    sg=use_skip_gram,\n",
        "    hs=use_softmax,\n",
        "    negative=negative_samples\n",
        ")"
      ],
      "execution_count": 12,
      "outputs": []
    },
    {
      "cell_type": "markdown",
      "metadata": {
        "id": "ofhbkdEjvKl7"
      },
      "source": [
        "### Step 2: Fit model to corpus"
      ]
    },
    {
      "cell_type": "code",
      "metadata": {
        "id": "cEieLoWlvKl7"
      },
      "source": [
        "# build a model\n",
        "model.build_vocab(corpus)"
      ],
      "execution_count": 13,
      "outputs": []
    },
    {
      "cell_type": "code",
      "metadata": {
        "id": "8e_ijem9vKl7",
        "colab": {
          "base_uri": "https://localhost:8080/"
        },
        "outputId": "1a39850d-a52e-4bc0-a082-c6cfa9a0b00e"
      },
      "source": [
        "# Train the model on the corpus\n",
        "# model.train(sentences=corpus, epochs=5, total_examples=model.corpus_count)\n",
        "# runs approximately 10 minutes with 5 epochs...\n",
        "model.train(corpus, epochs=5, total_examples=model.corpus_count)\n",
        "\n",
        "# saving the model, zip can be downloaded...\n",
        "model.save(\"word2vec5e.model\")\n",
        "!zip word2vec5e.model.zip word2vec5e.model\n",
        "!rm word2vec5e.model"
      ],
      "execution_count": 11,
      "outputs": [
        {
          "output_type": "execute_result",
          "data": {
            "text/plain": [
              "(62529375, 85026035)"
            ]
          },
          "metadata": {},
          "execution_count": 11
        }
      ]
    },
    {
      "cell_type": "code",
      "source": [
        "# modelOwn.train(sentences=corpusOwn, epochs=5, total_examples=modelOwn.corpus_count)"
      ],
      "metadata": {
        "id": "fMhUGhj35OB-"
      },
      "execution_count": null,
      "outputs": []
    },
    {
      "cell_type": "code",
      "source": [
        "## !rm word2vec.model"
      ],
      "metadata": {
        "id": "mRUHn7Rmjw2q"
      },
      "execution_count": 41,
      "outputs": []
    },
    {
      "cell_type": "markdown",
      "source": [
        "### Step 2: alternative: downloading a pre-trained model"
      ],
      "metadata": {
        "id": "oWmzJCI8byY7"
      }
    },
    {
      "cell_type": "code",
      "source": [
        "## Downloading and connecting pre-trained model\n",
        "!wget https://heibox.uni-heidelberg.de/f/b7625cd746534aacbefe/?dl=1\n",
        "!mv index.html?dl=1 word2vec.model"
      ],
      "metadata": {
        "id": "YGoYTjhmh1tL",
        "colab": {
          "base_uri": "https://localhost:8080/"
        },
        "outputId": "057b01ec-a61a-4d4d-c15d-0418880efa9f"
      },
      "execution_count": 14,
      "outputs": [
        {
          "output_type": "stream",
          "name": "stdout",
          "text": [
            "--2024-06-09 14:38:38--  https://heibox.uni-heidelberg.de/f/b7625cd746534aacbefe/?dl=1\n",
            "Resolving heibox.uni-heidelberg.de (heibox.uni-heidelberg.de)... 129.206.7.113\n",
            "Connecting to heibox.uni-heidelberg.de (heibox.uni-heidelberg.de)|129.206.7.113|:443... connected.\n",
            "HTTP request sent, awaiting response... 302 Found\n",
            "Location: https://heibox.uni-heidelberg.de/seafhttp/files/2dc0b8fa-7013-495a-bf24-9bd188c1ce72/word2vec.model [following]\n",
            "--2024-06-09 14:38:38--  https://heibox.uni-heidelberg.de/seafhttp/files/2dc0b8fa-7013-495a-bf24-9bd188c1ce72/word2vec.model\n",
            "Reusing existing connection to heibox.uni-heidelberg.de:443.\n",
            "HTTP request sent, awaiting response... 200 OK\n",
            "Length: 59217897 (56M) [application/octet-stream]\n",
            "Saving to: ‘index.html?dl=1’\n",
            "\n",
            "index.html?dl=1     100%[===================>]  56.47M  17.0MB/s    in 3.5s    \n",
            "\n",
            "2024-06-09 14:38:42 (16.2 MB/s) - ‘index.html?dl=1’ saved [59217897/59217897]\n",
            "\n"
          ]
        }
      ]
    },
    {
      "cell_type": "code",
      "source": [
        "model = Word2Vec.load(\"word2vec.model\")\n",
        "# model2 = Word2Vec.load(\"word2vec.model\")"
      ],
      "metadata": {
        "id": "mpMpt2SPkI0P"
      },
      "execution_count": 15,
      "outputs": []
    },
    {
      "cell_type": "markdown",
      "metadata": {
        "id": "ThYRouIevKl8"
      },
      "source": [
        "### Step 3: Extract word vectors from model\n",
        "\n",
        "The fully trained model includes all of the weights used to predict the context words for each input word. If you are not planning on training the model further, these weights can be discarded, and you can just keep the weights for the word vectors."
      ]
    },
    {
      "cell_type": "code",
      "metadata": {
        "id": "4V0LfNx_vKl8"
      },
      "source": [
        "word_vectors = model.wv\n",
        "del model # Delete the whole model to free up the computer's RAM"
      ],
      "execution_count": 16,
      "outputs": []
    },
    {
      "cell_type": "code",
      "source": [
        "word_vectors.save(\"word2vec.wordvectors5e\")\n",
        "!zip word2vec.wordvectors5e.zip word2vec.wordvectors5e\n",
        "!rm word2vec.wordvectors5e"
      ],
      "metadata": {
        "id": "n-RuljZPkZno",
        "colab": {
          "base_uri": "https://localhost:8080/"
        },
        "outputId": "d830071a-494d-4f6e-e294-dcb6297dad39"
      },
      "execution_count": 17,
      "outputs": [
        {
          "output_type": "stream",
          "name": "stdout",
          "text": [
            "  adding: word2vec.wordvectors5e (deflated 12%)\n"
          ]
        }
      ]
    },
    {
      "cell_type": "code",
      "source": [
        "## !rm word2vec.wordvectors"
      ],
      "metadata": {
        "id": "4G0KFEMtldFz"
      },
      "execution_count": 42,
      "outputs": []
    },
    {
      "cell_type": "markdown",
      "source": [
        "### Step 3 alternative: download and connect the pre-trained word vectors"
      ],
      "metadata": {
        "id": "9KP5wiumclM9"
      }
    },
    {
      "cell_type": "code",
      "source": [
        "!wget https://heibox.uni-heidelberg.de/f/e7725b1afab9456c8e16/?dl=1\n",
        "!mv index.html?dl=1 word2vec.wordvectors"
      ],
      "metadata": {
        "id": "UeFHDzcWlV9w",
        "colab": {
          "base_uri": "https://localhost:8080/"
        },
        "outputId": "11f1731b-3ab1-4671-c8d2-2da7b49c88ee"
      },
      "execution_count": 21,
      "outputs": [
        {
          "output_type": "stream",
          "name": "stdout",
          "text": [
            "--2024-06-09 14:27:03--  https://heibox.uni-heidelberg.de/f/e7725b1afab9456c8e16/?dl=1\n",
            "Resolving heibox.uni-heidelberg.de (heibox.uni-heidelberg.de)... 129.206.7.113\n",
            "Connecting to heibox.uni-heidelberg.de (heibox.uni-heidelberg.de)|129.206.7.113|:443... connected.\n",
            "HTTP request sent, awaiting response... 302 Found\n",
            "Location: https://heibox.uni-heidelberg.de/seafhttp/files/987d80a8-aee6-4f3f-b788-e95bb1a6fe27/word2vec.wordvectors [following]\n",
            "--2024-06-09 14:27:04--  https://heibox.uni-heidelberg.de/seafhttp/files/987d80a8-aee6-4f3f-b788-e95bb1a6fe27/word2vec.wordvectors\n",
            "Reusing existing connection to heibox.uni-heidelberg.de:443.\n",
            "HTTP request sent, awaiting response... 200 OK\n",
            "Length: 30697035 (29M) [application/octet-stream]\n",
            "Saving to: ‘index.html?dl=1’\n",
            "\n",
            "index.html?dl=1     100%[===================>]  29.27M  15.8MB/s    in 1.9s    \n",
            "\n",
            "2024-06-09 14:27:06 (15.8 MB/s) - ‘index.html?dl=1’ saved [30697035/30697035]\n",
            "\n"
          ]
        }
      ]
    },
    {
      "cell_type": "code",
      "source": [
        "from gensim.models import KeyedVectors\n",
        "word_vectors = KeyedVectors.load(\"word2vec.wordvectors\", mmap='r')"
      ],
      "metadata": {
        "id": "1Ts09s5Plp86"
      },
      "execution_count": 22,
      "outputs": []
    },
    {
      "cell_type": "markdown",
      "source": [
        "### Step 4: exploring word vectors"
      ],
      "metadata": {
        "id": "QKEJDhU8c6dD"
      }
    },
    {
      "cell_type": "code",
      "source": [
        "vector = word_vectors['computer']"
      ],
      "metadata": {
        "id": "5eDztGwqmJ0a"
      },
      "execution_count": 18,
      "outputs": []
    },
    {
      "cell_type": "code",
      "source": [
        "vector"
      ],
      "metadata": {
        "id": "yt5Sah91ms2w",
        "colab": {
          "base_uri": "https://localhost:8080/"
        },
        "outputId": "86a67c88-6a7a-48c6-d70c-79c3aa471303"
      },
      "execution_count": 19,
      "outputs": [
        {
          "output_type": "execute_result",
          "data": {
            "text/plain": [
              "array([ 0.06077942,  0.1819358 , -0.05054147,  0.12852807,  0.01770034,\n",
              "       -0.30997637, -0.24055079, -0.00272755, -0.6581456 , -0.18392453,\n",
              "        0.06989374, -0.5224778 , -0.20864458, -0.10262147, -0.22059658,\n",
              "        0.33618814,  0.04703446, -0.47088787, -0.1487342 , -0.6229217 ,\n",
              "        0.42406246, -0.5138749 ,  0.06158032, -0.63825554, -0.07985036,\n",
              "        0.16819875,  0.09989165, -0.17658606, -0.17862448,  0.29675245,\n",
              "        0.4758706 ,  0.48978546,  0.9608675 , -0.22739977,  0.19066736,\n",
              "        0.08846364,  0.07009576, -0.360089  , -0.06736434, -0.21808966,\n",
              "       -0.2349182 , -0.25443017,  0.53662956,  0.2744204 ,  0.00105796,\n",
              "       -0.12268312, -0.08814082,  0.00657543,  0.48798513, -0.11536589,\n",
              "        0.2614905 ,  0.51717365, -0.04133837, -0.3994545 , -0.654159  ,\n",
              "       -0.40764585,  0.7202135 , -0.2568953 ,  0.52592474,  0.11868921,\n",
              "        0.1729699 ,  0.5800076 ,  0.46083173,  0.28301194,  0.58508384,\n",
              "        0.46322995,  0.34925246,  0.02775881, -0.01378645,  0.07634727,\n",
              "        0.20846   , -0.24176142, -0.36872652,  0.2697674 ,  0.22726676,\n",
              "        0.40128306,  0.48791516,  0.39478168, -0.35840425, -0.13748643,\n",
              "       -0.50550634, -0.01401702, -0.09398379,  0.17970748, -0.27350944,\n",
              "       -0.53801894, -0.08633023,  0.34511817,  0.23793873,  0.38667807,\n",
              "       -0.14404766,  0.79544854, -0.1770631 ,  0.17567483,  0.49945396,\n",
              "        0.10932686, -0.00464018, -0.49657568, -0.07760286, -0.15058048],\n",
              "      dtype=float32)"
            ]
          },
          "metadata": {},
          "execution_count": 19
        }
      ]
    },
    {
      "cell_type": "markdown",
      "metadata": {
        "id": "zSkZD22AvKl8"
      },
      "source": [
        "### Step 4: Have a play with the model\n",
        "\n",
        "There are several ways you can use word vectors. One of the most famous is to use them to compute analogies. The formula is:\n",
        "\n",
        "<center><em>x</em> is to <em>small</em> as <em>biggest</em> is to <em>big</em></center>\n",
        "\n",
        "$$x - vector('small') = vector('biggest') - vector('big')$$\n",
        "\n",
        "$$\\therefore x = vector('small') + vector('biggest') - vector('big')$$"
      ]
    },
    {
      "cell_type": "code",
      "metadata": {
        "id": "2Pftv0DEvKl8",
        "colab": {
          "base_uri": "https://localhost:8080/"
        },
        "outputId": "ab3c3b10-21b2-4e8f-87ba-cc41542d403a"
      },
      "source": [
        "# See the word vector for a particular word\n",
        "vector = word_vectors['banana']\n",
        "print(vector)"
      ],
      "execution_count": 20,
      "outputs": [
        {
          "output_type": "stream",
          "name": "stdout",
          "text": [
            "[ 0.04514017  0.3785197  -0.45157424 -0.53498334 -0.3810624  -0.19748794\n",
            "  0.3861872  -0.09874219 -0.3083414  -0.13589764 -0.19032787 -0.186255\n",
            " -0.24850576  0.15236585 -0.18161802 -0.28916776  0.26343766 -0.22076558\n",
            " -0.32832116 -0.18427545  0.16742764  0.13754863  0.8236313   0.1276648\n",
            " -0.51062804  0.04845584 -0.2820541  -0.32418352  0.31521824  0.34778962\n",
            " -0.09972392  0.21742499  0.3331799   0.16179839  0.06564191 -0.16745356\n",
            " -0.26856118  0.20320536 -0.218172   -0.8700633   0.28307882 -0.11479696\n",
            "  0.2597842  -0.14202665  0.19578132 -0.08296769 -0.5186016  -0.07467933\n",
            "  0.54540306  0.19925955  0.13505691 -0.34502357  0.54741985  0.19840081\n",
            " -0.35757104  0.30361545  0.5539709   0.41801247 -0.3125661   0.28622827\n",
            "  0.16626568  0.30216348 -0.23019     0.10558449 -0.0202124  -0.19527975\n",
            " -0.0798233   0.35605833 -0.0533659  -0.40334567 -0.19850768  0.6096959\n",
            " -0.00360445  0.10260782  0.42559785  0.29462764 -0.45577955  0.14467828\n",
            " -0.11372449 -0.01252147  0.28607625 -0.49714658 -0.13037722  0.19627544\n",
            "  0.19408995 -0.34745008  0.55763376  0.5982699   0.01212334 -0.03388137\n",
            "  0.7282561  -0.22517122 -0.05951793 -0.1386298   0.34226483 -0.22385524\n",
            "  0.03875514 -0.030686    0.10530213  0.21060605]\n"
          ]
        }
      ]
    },
    {
      "cell_type": "code",
      "metadata": {
        "id": "8_qUSF7ZvKl9",
        "colab": {
          "base_uri": "https://localhost:8080/"
        },
        "outputId": "48aa4114-dc98-4edc-e481-2d6b3d81a023"
      },
      "source": [
        "# See which words are closest to a given word in the vector space\n",
        "similar_words = word_vectors.most_similar('university', topn=25)\n",
        "print('\\n'.join([str(tup) for tup in similar_words]))"
      ],
      "execution_count": 21,
      "outputs": [
        {
          "output_type": "stream",
          "name": "stdout",
          "text": [
            "('college', 0.8274326920509338)\n",
            "('urbana', 0.8046768307685852)\n",
            "('champaign', 0.8018592000007629)\n",
            "('polytechnic', 0.778497576713562)\n",
            "('rutgers', 0.7744151949882507)\n",
            "('institute', 0.7612160444259644)\n",
            "('emory', 0.7561977505683899)\n",
            "('abet', 0.7453380227088928)\n",
            "('tsinghua', 0.7393555641174316)\n",
            "('graduate', 0.7371058464050293)\n",
            "('pomona', 0.7350606918334961)\n",
            "('mellon', 0.7330489754676819)\n",
            "('polytechnical', 0.7320426106452942)\n",
            "('fordham', 0.7311391234397888)\n",
            "('witwatersrand', 0.7299140095710754)\n",
            "('abertay', 0.7293667793273926)\n",
            "('phd', 0.7263227701187134)\n",
            "('emeritus', 0.7218440771102905)\n",
            "('cambridge', 0.7216722965240479)\n",
            "('professor', 0.7202757596969604)\n",
            "('rensselaer', 0.7194692492485046)\n",
            "('conservatory', 0.7186447381973267)\n",
            "('amherst', 0.7155526876449585)\n",
            "('vassar', 0.7155349254608154)\n",
            "('ryerson', 0.7145218253135681)\n"
          ]
        }
      ]
    },
    {
      "cell_type": "code",
      "metadata": {
        "id": "T38xLSz62OyK",
        "colab": {
          "base_uri": "https://localhost:8080/"
        },
        "outputId": "125db5be-5f99-4d4a-d81c-de4af08b28d2"
      },
      "source": [
        "# See which words are closest to a given word in the vector space\n",
        "similar_words = word_vectors.most_similar('red', topn=25)\n",
        "print('\\n'.join([str(tup) for tup in similar_words]))"
      ],
      "execution_count": 22,
      "outputs": [
        {
          "output_type": "stream",
          "name": "stdout",
          "text": [
            "('blue', 0.8330671787261963)\n",
            "('yellow', 0.8198412656784058)\n",
            "('green', 0.7955173850059509)\n",
            "('white', 0.7705235481262207)\n",
            "('purple', 0.7580312490463257)\n",
            "('black', 0.7194028496742249)\n",
            "('magenta', 0.696144700050354)\n",
            "('orange', 0.6725648641586304)\n",
            "('stripes', 0.6695405840873718)\n",
            "('sash', 0.668810248374939)\n",
            "('brindle', 0.6663251519203186)\n",
            "('stockings', 0.6570967435836792)\n",
            "('stripe', 0.6544612646102905)\n",
            "('jerseys', 0.6513431072235107)\n",
            "('colored', 0.6477282047271729)\n",
            "('talons', 0.6458464860916138)\n",
            "('hoist', 0.6443328261375427)\n",
            "('coloured', 0.6427997350692749)\n",
            "('crescent', 0.6411023736000061)\n",
            "('facemask', 0.6405667662620544)\n",
            "('striped', 0.6376775503158569)\n",
            "('pink', 0.6366048455238342)\n",
            "('brownish', 0.6365171670913696)\n",
            "('dwarfs', 0.6351383328437805)\n",
            "('colors', 0.6344648003578186)\n"
          ]
        }
      ]
    },
    {
      "cell_type": "code",
      "source": [
        "similar_words = word_vectors.most_similar('color', topn=25)\n",
        "print('\\n'.join([str(tup) for tup in similar_words]))"
      ],
      "metadata": {
        "colab": {
          "base_uri": "https://localhost:8080/"
        },
        "id": "mMnUGzMsF3JL",
        "outputId": "b63c819b-2c18-4174-8804-1f032282626e"
      },
      "execution_count": 23,
      "outputs": [
        {
          "output_type": "stream",
          "name": "stdout",
          "text": [
            "('colour', 0.8506642580032349)\n",
            "('colors', 0.8253850936889648)\n",
            "('cyan', 0.7517661452293396)\n",
            "('palettes', 0.7500985860824585)\n",
            "('rgb', 0.732881486415863)\n",
            "('colored', 0.7236745953559875)\n",
            "('monochrome', 0.7235877513885498)\n",
            "('colours', 0.7123246788978577)\n",
            "('yellow', 0.7095232605934143)\n",
            "('srgb', 0.697119414806366)\n",
            "('cmyk', 0.6920041441917419)\n",
            "('blue', 0.6906263828277588)\n",
            "('chroma', 0.6890067458152771)\n",
            "('pixel', 0.6886876225471497)\n",
            "('hue', 0.6886435151100159)\n",
            "('shade', 0.676449179649353)\n",
            "('subpixels', 0.6758597493171692)\n",
            "('hues', 0.6755530834197998)\n",
            "('pantone', 0.6750978231430054)\n",
            "('coloration', 0.6709157228469849)\n",
            "('palette', 0.6701295971870422)\n",
            "('monochromatic', 0.6698700189590454)\n",
            "('dddddd', 0.6678876876831055)\n",
            "('pixels', 0.6621844172477722)\n",
            "('gif', 0.6574938893318176)\n"
          ]
        }
      ]
    },
    {
      "cell_type": "code",
      "source": [
        "similar_words = word_vectors.most_similar('colour', topn=25)\n",
        "print('\\n'.join([str(tup) for tup in similar_words]))"
      ],
      "metadata": {
        "colab": {
          "base_uri": "https://localhost:8080/"
        },
        "id": "U53t6hXxF6x3",
        "outputId": "65ecfecc-5a28-4f1b-9c8d-e1668d4db8fc"
      },
      "execution_count": 24,
      "outputs": [
        {
          "output_type": "stream",
          "name": "stdout",
          "text": [
            "('color', 0.8506643176078796)\n",
            "('colored', 0.7899959087371826)\n",
            "('colours', 0.7802109718322754)\n",
            "('colors', 0.7580424547195435)\n",
            "('cyan', 0.7343934774398804)\n",
            "('palettes', 0.7335439324378967)\n",
            "('coloration', 0.7164565324783325)\n",
            "('shade', 0.7106713652610779)\n",
            "('hues', 0.7073876857757568)\n",
            "('shades', 0.704552948474884)\n",
            "('monochrome', 0.6996116042137146)\n",
            "('palette', 0.6918415427207947)\n",
            "('lettering', 0.6916214823722839)\n",
            "('glasses', 0.6900200247764587)\n",
            "('coloured', 0.6897372603416443)\n",
            "('tint', 0.6894671320915222)\n",
            "('brownish', 0.6887184977531433)\n",
            "('yellowish', 0.6851990222930908)\n",
            "('texture', 0.6837971806526184)\n",
            "('dddddd', 0.682521402835846)\n",
            "('grayish', 0.6803927421569824)\n",
            "('bluish', 0.6801412105560303)\n",
            "('tinctures', 0.6787596344947815)\n",
            "('pigment', 0.6772411465644836)\n",
            "('monochromatic', 0.6757177114486694)\n"
          ]
        }
      ]
    },
    {
      "cell_type": "code",
      "metadata": {
        "id": "wvyAmb152SMD",
        "colab": {
          "base_uri": "https://localhost:8080/"
        },
        "outputId": "e56ca1dc-c0b5-42bc-ee41-0be2437e9985"
      },
      "source": [
        "# See which words are closest to a given word in the vector space\n",
        "similar_words = word_vectors.most_similar('brussels', topn=25)\n",
        "print('\\n'.join([str(tup) for tup in similar_words]))"
      ],
      "execution_count": 25,
      "outputs": [
        {
          "output_type": "stream",
          "name": "stdout",
          "text": [
            "('aachen', 0.7496265172958374)\n",
            "('ghent', 0.7475510835647583)\n",
            "('strasbourg', 0.7462074160575867)\n",
            "('paris', 0.7316218018531799)\n",
            "('bruges', 0.7294041514396667)\n",
            "('maastricht', 0.7258070111274719)\n",
            "('commune', 0.7200930118560791)\n",
            "('bordeaux', 0.7187761664390564)\n",
            "('frankfurt', 0.7151591777801514)\n",
            "('antwerp', 0.7144349813461304)\n",
            "('ticino', 0.7100759148597717)\n",
            "('rotterdam', 0.7072901129722595)\n",
            "('hamburg', 0.7057906985282898)\n",
            "('cologne', 0.7045364379882812)\n",
            "('conservatoire', 0.7045349478721619)\n",
            "('amsterdam', 0.7040742039680481)\n",
            "('seine', 0.7038989067077637)\n",
            "('bruxelles', 0.7029331922531128)\n",
            "('lausanne', 0.6956555247306824)\n",
            "('basel', 0.6928088068962097)\n",
            "('rennes', 0.6912458539009094)\n",
            "('barcelona', 0.6911035180091858)\n",
            "('bonn', 0.6901640295982361)\n",
            "('namur', 0.6892477869987488)\n",
            "('dieppe', 0.6890778541564941)\n"
          ]
        }
      ]
    },
    {
      "cell_type": "code",
      "source": [
        "# See which words are closest to a given word in the vector space\n",
        "similar_words = word_vectors.most_similar('heidelberg', topn=25)\n",
        "print('\\n'.join([str(tup) for tup in similar_words]))"
      ],
      "metadata": {
        "colab": {
          "base_uri": "https://localhost:8080/"
        },
        "id": "tSF2dmZyGE2a",
        "outputId": "364488f9-257c-4fd7-8a46-32db9a83c801"
      },
      "execution_count": 26,
      "outputs": [
        {
          "output_type": "stream",
          "name": "stdout",
          "text": [
            "('freiburg', 0.8832603693008423)\n",
            "('halle', 0.8257067203521729)\n",
            "('ingolstadt', 0.8146023750305176)\n",
            "('ttingen', 0.8137246966362)\n",
            "('linz', 0.7996790409088135)\n",
            "('jena', 0.7928030490875244)\n",
            "('bingen', 0.792185366153717)\n",
            "('leiden', 0.7865665555000305)\n",
            "('wien', 0.784911036491394)\n",
            "('breslau', 0.7835977077484131)\n",
            "('kassel', 0.7818834781646729)\n",
            "('grammatik', 0.7785252332687378)\n",
            "('fulda', 0.7702142596244812)\n",
            "('regensburg', 0.7701405882835388)\n",
            "('karlsruhe', 0.7684836387634277)\n",
            "('laude', 0.764237642288208)\n",
            "('sorbonne', 0.7637717723846436)\n",
            "('bologna', 0.7631106376647949)\n",
            "('professorship', 0.7615196108818054)\n",
            "('strassburg', 0.7607799768447876)\n",
            "('erfurt', 0.7604721188545227)\n",
            "('graz', 0.7602874636650085)\n",
            "('preis', 0.7584127187728882)\n",
            "('marburg', 0.7572142481803894)\n",
            "('wissenschaft', 0.7568274140357971)\n"
          ]
        }
      ]
    },
    {
      "cell_type": "code",
      "source": [
        "# See which words are closest to a given word in the vector space\n",
        "similar_words = word_vectors.most_similar('international', topn=25)\n",
        "print('\\n'.join([str(tup) for tup in similar_words]))"
      ],
      "metadata": {
        "colab": {
          "base_uri": "https://localhost:8080/"
        },
        "id": "oNXsAP-aGNjf",
        "outputId": "81a8a7f5-d77d-48cd-b61a-e5a56ded73a8"
      },
      "execution_count": 27,
      "outputs": [
        {
          "output_type": "stream",
          "name": "stdout",
          "text": [
            "('electrotechnical', 0.7461802959442139)\n",
            "('hydrographic', 0.6888812184333801)\n",
            "('ilo', 0.6752741932868958)\n",
            "('radiocommunications', 0.6744605302810669)\n",
            "('nongovernmental', 0.6731569766998291)\n",
            "('bipm', 0.6643987894058228)\n",
            "('organization', 0.6642566323280334)\n",
            "('paralympic', 0.6551176905632019)\n",
            "('workingmen', 0.6540185213088989)\n",
            "('imo', 0.6540013551712036)\n",
            "('undp', 0.6524684429168701)\n",
            "('intergovernmental', 0.6477717161178589)\n",
            "('meteorological', 0.6472776532173157)\n",
            "('imd', 0.6462644934654236)\n",
            "('medarabtel', 0.6447435617446899)\n",
            "('supranationalism', 0.6445252895355225)\n",
            "('icsu', 0.6422662138938904)\n",
            "('blissymbolics', 0.6421657204627991)\n",
            "('acct', 0.6416999101638794)\n",
            "('abeda', 0.6402809619903564)\n",
            "('mesures', 0.6396852731704712)\n",
            "('inmarsat', 0.6385820508003235)\n",
            "('gatt', 0.6379938721656799)\n",
            "('lome', 0.6366467475891113)\n",
            "('asdb', 0.6352181434631348)\n"
          ]
        }
      ]
    },
    {
      "cell_type": "code",
      "metadata": {
        "id": "r68SeidU2lRz",
        "colab": {
          "base_uri": "https://localhost:8080/"
        },
        "outputId": "219dfe53-e64f-4d73-d9b5-9e4fb88858a6"
      },
      "source": [
        "# See which words are closest to a given word in the vector space\n",
        "similar_words = word_vectors.most_similar('germany', topn=25)\n",
        "print('\\n'.join([str(tup) for tup in similar_words]))"
      ],
      "execution_count": 28,
      "outputs": [
        {
          "output_type": "stream",
          "name": "stdout",
          "text": [
            "('austria', 0.8406285643577576)\n",
            "('hungary', 0.7882422804832458)\n",
            "('italy', 0.7679662108421326)\n",
            "('denmark', 0.7570524215698242)\n",
            "('berlin', 0.7491813898086548)\n",
            "('poland', 0.7450143694877625)\n",
            "('munich', 0.7411389946937561)\n",
            "('belgium', 0.7378813624382019)\n",
            "('czechoslovakia', 0.7369067668914795)\n",
            "('bavaria', 0.7355030179023743)\n",
            "('russia', 0.7344875335693359)\n",
            "('nazi', 0.7332985997200012)\n",
            "('finland', 0.7295423746109009)\n",
            "('switzerland', 0.7270355224609375)\n",
            "('prussia', 0.724307656288147)\n",
            "('hitler', 0.7138442993164062)\n",
            "('romania', 0.7135593295097351)\n",
            "('weimar', 0.7083632349967957)\n",
            "('rhineland', 0.7074394226074219)\n",
            "('ukraine', 0.7045464515686035)\n",
            "('hamburg', 0.7030502557754517)\n",
            "('sudetenland', 0.7023268938064575)\n",
            "('alsace', 0.7022143006324768)\n",
            "('europe', 0.7017481327056885)\n",
            "('silesia', 0.7015114426612854)\n"
          ]
        }
      ]
    },
    {
      "cell_type": "code",
      "metadata": {
        "id": "6RVNTkIs2thF",
        "colab": {
          "base_uri": "https://localhost:8080/"
        },
        "outputId": "b3cd0c5a-c878-40af-884e-110a4d8f80fe"
      },
      "source": [
        "# See which words are closest to a given word in the vector space\n",
        "similar_words = word_vectors.most_similar('strange', topn=25)\n",
        "print('\\n'.join([str(tup) for tup in similar_words]))"
      ],
      "execution_count": 29,
      "outputs": [
        {
          "output_type": "stream",
          "name": "stdout",
          "text": [
            "('mysterious', 0.6891576051712036)\n",
            "('hilarious', 0.6680781841278076)\n",
            "('darkened', 0.6523415446281433)\n",
            "('improbable', 0.6510730385780334)\n",
            "('startling', 0.6504903435707092)\n",
            "('dread', 0.6504672765731812)\n",
            "('kaleidoscope', 0.6462839245796204)\n",
            "('crazy', 0.6390725374221802)\n",
            "('monstrous', 0.6363013982772827)\n",
            "('marvellous', 0.6358059644699097)\n",
            "('martian', 0.6357612013816833)\n",
            "('stranger', 0.6328702569007874)\n",
            "('androids', 0.6318789720535278)\n",
            "('fantastic', 0.6301376819610596)\n",
            "('marvelous', 0.6299870014190674)\n",
            "('tenderness', 0.6270742416381836)\n",
            "('comical', 0.6268086433410645)\n",
            "('lonely', 0.6265559792518616)\n",
            "('surreal', 0.6265548467636108)\n",
            "('nightmarish', 0.6227016448974609)\n",
            "('torrent', 0.6225694417953491)\n",
            "('rogues', 0.6221829056739807)\n",
            "('amazing', 0.6219238638877869)\n",
            "('cheerful', 0.6219094395637512)\n",
            "('hideous', 0.6218962669372559)\n"
          ]
        }
      ]
    },
    {
      "cell_type": "code",
      "metadata": {
        "id": "2Oqwf3ni21zW",
        "colab": {
          "base_uri": "https://localhost:8080/"
        },
        "outputId": "b136be72-1186-4866-8aa9-80513e9c2ce9"
      },
      "source": [
        "# Compute analogous words\n",
        "# E.g. x is to queen as man is to king => x = v('queen') + v('man') - v('king')\n",
        "analogous_words = word_vectors.most_similar(negative=['man'], positive=['king','woman'], topn=20)\n",
        "print('\\n'.join([str(tup) for tup in analogous_words]))"
      ],
      "execution_count": 30,
      "outputs": [
        {
          "output_type": "stream",
          "name": "stdout",
          "text": [
            "('queen', 0.6899670958518982)\n",
            "('daughter', 0.6563656330108643)\n",
            "('throne', 0.6470769643783569)\n",
            "('jadwiga', 0.6346895098686218)\n",
            "('matilda', 0.6335664391517639)\n",
            "('princess', 0.6311494708061218)\n",
            "('empress', 0.6252461671829224)\n",
            "('consort', 0.6083589196205139)\n",
            "('alexandra', 0.6075658798217773)\n",
            "('prince', 0.6042875647544861)\n",
            "('wenceslaus', 0.6036732196807861)\n",
            "('dowager', 0.60321444272995)\n",
            "('marries', 0.5995404124259949)\n",
            "('kammu', 0.5958123803138733)\n",
            "('sigismund', 0.5940837860107422)\n",
            "('son', 0.5914080142974854)\n",
            "('anjou', 0.5864495038986206)\n",
            "('pretender', 0.5860036015510559)\n",
            "('jeroboam', 0.5842873454093933)\n",
            "('heir', 0.5839943885803223)\n"
          ]
        }
      ]
    },
    {
      "cell_type": "code",
      "metadata": {
        "id": "0sVv80bYvKl9",
        "colab": {
          "base_uri": "https://localhost:8080/"
        },
        "outputId": "f56a3c9c-79b5-4bcb-df21-0fe0fdd55f1d"
      },
      "source": [
        "# Compute analogous words\n",
        "# E.g. x is to queen as man is to king => x = v('queen') + v('man') - v('king')\n",
        "analogous_words = word_vectors.most_similar(negative=['king'], positive=['queen','man'])\n",
        "print('\\n'.join([str(tup) for tup in analogous_words]))"
      ],
      "execution_count": 31,
      "outputs": [
        {
          "output_type": "stream",
          "name": "stdout",
          "text": [
            "('woman', 0.7189967036247253)\n",
            "('blonde', 0.6277213096618652)\n",
            "('girl', 0.6162012815475464)\n",
            "('lady', 0.6079869270324707)\n",
            "('frail', 0.5973320007324219)\n",
            "('gentleman', 0.5871325731277466)\n",
            "('prostitute', 0.5832652449607849)\n",
            "('pauper', 0.5768119692802429)\n",
            "('cinderella', 0.5749097466468811)\n",
            "('doll', 0.5737509727478027)\n"
          ]
        }
      ]
    },
    {
      "cell_type": "code",
      "metadata": {
        "id": "q8gfHhZf3Byi",
        "colab": {
          "base_uri": "https://localhost:8080/"
        },
        "outputId": "c5bd2089-3c44-444b-d7f3-27a600d01e55"
      },
      "source": [
        "# Compute analogous words\n",
        "# E.g. x is to queen as man is to king => x = v('queen') + v('man') - v('king')\n",
        "analogous_words = word_vectors.most_similar(negative=['mother'], positive=['father','daughter'])\n",
        "print('\\n'.join([str(tup) for tup in analogous_words]))"
      ],
      "execution_count": 32,
      "outputs": [
        {
          "output_type": "stream",
          "name": "stdout",
          "text": [
            "('son', 0.8429544568061829)\n",
            "('brother', 0.7873624563217163)\n",
            "('nephew', 0.7757642865180969)\n",
            "('wife', 0.7564918994903564)\n",
            "('eldest', 0.7470341920852661)\n",
            "('grandson', 0.7452330589294434)\n",
            "('cousin', 0.7400377988815308)\n",
            "('granddaughter', 0.7250849008560181)\n",
            "('uncle', 0.720912516117096)\n",
            "('confidant', 0.7121458649635315)\n"
          ]
        }
      ]
    },
    {
      "cell_type": "code",
      "metadata": {
        "id": "IuzURZa_6hQC",
        "colab": {
          "base_uri": "https://localhost:8080/"
        },
        "outputId": "0a3756af-5ccb-4fb1-a3ad-854a47d51ca1"
      },
      "source": [
        "# Compute analogous words\n",
        "# E.g. x is to queen as man is to king => x = v('queen') + v('man') - v('king')\n",
        "analogous_words = word_vectors.most_similar(negative=['mother'], positive=['father','girl'])\n",
        "print('\\n'.join([str(tup) for tup in analogous_words]))"
      ],
      "execution_count": 33,
      "outputs": [
        {
          "output_type": "stream",
          "name": "stdout",
          "text": [
            "('bartender', 0.6588817834854126)\n",
            "('boy', 0.6539564728736877)\n",
            "('goodnight', 0.6461302042007446)\n",
            "('lebowski', 0.6418622136116028)\n",
            "('man', 0.6416395306587219)\n",
            "('tights', 0.6400418877601624)\n",
            "('naughty', 0.6371098756790161)\n",
            "('guys', 0.6361229419708252)\n",
            "('cinderella', 0.6335315108299255)\n",
            "('bogart', 0.6333711743354797)\n"
          ]
        }
      ]
    },
    {
      "cell_type": "code",
      "metadata": {
        "id": "PzzlKdei6uiW",
        "colab": {
          "base_uri": "https://localhost:8080/"
        },
        "outputId": "d8b15fca-24b2-4326-cb3a-4eda05d45c7b"
      },
      "source": [
        "# Compute analogous words\n",
        "# x is to daughter as people is to person (plural + daughter)\n",
        "analogous_words = word_vectors.most_similar(negative=['person'], positive=['people','daughter'])\n",
        "print('\\n'.join([str(tup) for tup in analogous_words]))"
      ],
      "execution_count": 34,
      "outputs": [
        {
          "output_type": "stream",
          "name": "stdout",
          "text": [
            "('daughters', 0.6566089391708374)\n",
            "('sons', 0.6294084787368774)\n",
            "('alexandra', 0.6059257388114929)\n",
            "('henrietta', 0.5997800230979919)\n",
            "('elisabeth', 0.5861902832984924)\n",
            "('brothers', 0.5859265923500061)\n",
            "('offa', 0.5770557522773743)\n",
            "('archduchess', 0.574726402759552)\n",
            "('eleonora', 0.574079155921936)\n",
            "('teschen', 0.5718636512756348)\n"
          ]
        }
      ]
    },
    {
      "cell_type": "code",
      "source": [
        "analogous_words = word_vectors.most_similar(negative=['soft'], positive=['hard','softer'])\n",
        "# analogous_words = word_vectors.most_similar(negative=['soft'], positive=['hard','softest'])\n",
        "print('\\n'.join([str(tup) for tup in analogous_words]))"
      ],
      "metadata": {
        "id": "EO2Frm6xoPKN",
        "colab": {
          "base_uri": "https://localhost:8080/"
        },
        "outputId": "98d252f1-ac65-4e09-a38c-d52b01689b44"
      },
      "execution_count": 35,
      "outputs": [
        {
          "output_type": "stream",
          "name": "stdout",
          "text": [
            "('harder', 0.708805501461029)\n",
            "('louder', 0.6695201992988586)\n",
            "('smoother', 0.6673597097396851)\n",
            "('rougher', 0.6625217199325562)\n",
            "('easier', 0.6569008827209473)\n",
            "('simpler', 0.6523188352584839)\n",
            "('thicker', 0.6513201594352722)\n",
            "('consonances', 0.645392894744873)\n",
            "('quicker', 0.6449112892150879)\n",
            "('slower', 0.6432040929794312)\n"
          ]
        }
      ]
    },
    {
      "cell_type": "code",
      "source": [],
      "metadata": {
        "id": "B9injYVJR6TC"
      },
      "execution_count": null,
      "outputs": []
    },
    {
      "cell_type": "markdown",
      "metadata": {
        "id": "22fSc-iyvKl9"
      },
      "source": [
        "## Step 4A - optional. Using pre-trained models in Gensim\n",
        "\n",
        "In many applications, you will simply want access to pre-trained word vectors (e.g. for plugging in to another model you are training). If you don't need the vectors to be tailored closely to your particular corpus, then you might like to use some pretrained models.\n",
        "\n",
        "`word2vec` is not the only word embedding family of algorithms. Another, arguably even more powerful algorithm is the `FastText` algorithm, which Mikolov developed after moving to Facebook:\n",
        "\n",
        "* Piotr Bojanowski and others, ‘Enriching Word Vectors with Subword Information’, ArXiv:1607.04606, 2017 <http://arxiv.org/abs/1607.04606>.\n",
        "\n",
        "Instead of computing word vectors for each word, FastText splits each word into its constituent chunks. For example, 'cat' would be split into 'c', 'a', 't', 'ca', 'at' and 'cat', and 'burp' would be split into 'b', 'u', 'r', 'p', 'bu', 'ur', 'rp', 'bur', 'urp' and 'burp'. Then a vector is computer for each chunk that appears in the corpus. Each word is represented as the mean of all the chunks that make it up. FastText is able to learn very good word vectors because it can extract meaning from subword units, e.g. it can see that 'television', 'telegraph' and 'telepathy' all have 'tele' at the front, and can see that 'formality', 'criminality' and 'paucity' share subword units such as 'al' and 'ity'.\n",
        "\n",
        "You can access many pretrained models using the Gensim downloader. Using the cells below, you can try out some of the different models available through Gensim. Along with `word2vec` and `FastText`, Gensim also supports `Glove` and `Doc2Vec` models.\n",
        "\n",
        "**NB:** These trained models are very large, and will take a while to download. You may wish to download this notebook and execute the cells below on your own machine, in case Google kicks you out of the Colab environment."
      ]
    },
    {
      "cell_type": "code",
      "metadata": {
        "id": "rldVE5pmvKl-",
        "colab": {
          "base_uri": "https://localhost:8080/"
        },
        "outputId": "16b55dc7-378e-4642-8491-13a5221accc0"
      },
      "source": [
        "# See what models are on offer\n",
        "print(list(api.info()['models'].keys()))"
      ],
      "execution_count": 36,
      "outputs": [
        {
          "output_type": "stream",
          "name": "stdout",
          "text": [
            "['fasttext-wiki-news-subwords-300', 'conceptnet-numberbatch-17-06-300', 'word2vec-ruscorpora-300', 'word2vec-google-news-300', 'glove-wiki-gigaword-50', 'glove-wiki-gigaword-100', 'glove-wiki-gigaword-200', 'glove-wiki-gigaword-300', 'glove-twitter-25', 'glove-twitter-50', 'glove-twitter-100', 'glove-twitter-200', '__testing_word2vec-matrix-synopsis']\n"
          ]
        }
      ]
    },
    {
      "cell_type": "markdown",
      "source": [
        "#### word2vec-google-news-300"
      ],
      "metadata": {
        "id": "UuEeDB7Tz2Mr"
      }
    },
    {
      "cell_type": "code",
      "metadata": {
        "id": "nMTAxneZ7OaZ",
        "colab": {
          "base_uri": "https://localhost:8080/"
        },
        "outputId": "1a0383c3-7a95-4043-dbbb-c7d48b32903d"
      },
      "source": [
        "# Optional! THIS WILL TAKE SOME TIME!!! (~15 min)\n",
        "# 300-dimensional word vectors trained on a huge dataset from Google News\n",
        "google_news_w2v = api.load('word2vec-google-news-300')"
      ],
      "execution_count": 38,
      "outputs": [
        {
          "output_type": "stream",
          "name": "stdout",
          "text": [
            "[==================================================] 100.0% 1662.8/1662.8MB downloaded\n"
          ]
        }
      ]
    },
    {
      "cell_type": "code",
      "source": [
        "analogous_words = google_news_w2v.most_similar(negative=['soft'], positive=['hard','softer'])\n",
        "print('\\n'.join([str(tup) for tup in analogous_words]))"
      ],
      "metadata": {
        "colab": {
          "base_uri": "https://localhost:8080/"
        },
        "id": "069D1ZMCtpl6",
        "outputId": "a98bfe62-01a9-4b4f-c3cf-7f74f66d9752"
      },
      "execution_count": 42,
      "outputs": [
        {
          "output_type": "stream",
          "name": "stdout",
          "text": [
            "('harder', 0.713630735874176)\n",
            "('tougher', 0.5499427914619446)\n",
            "('tough', 0.5147612690925598)\n",
            "('better', 0.5042758584022522)\n",
            "('difficult', 0.49098414182662964)\n",
            "('stronger', 0.4880489110946655)\n",
            "('Hard', 0.48069724440574646)\n",
            "('easier', 0.46995335817337036)\n",
            "('hardest', 0.4648631513118744)\n",
            "('lot', 0.4465230405330658)\n"
          ]
        }
      ]
    },
    {
      "cell_type": "code",
      "metadata": {
        "id": "uTKwcm_7vKl-",
        "colab": {
          "base_uri": "https://localhost:8080/"
        },
        "outputId": "e5ce9b04-f420-4ff0-bf3f-85d509715175"
      },
      "source": [
        "# x is to Kenya as Canberra is to Australia\n",
        "google_news_w2v.most_similar(negative=['australia'],positive=['kenya','canberra'], topn=10)"
      ],
      "execution_count": 45,
      "outputs": [
        {
          "output_type": "execute_result",
          "data": {
            "text/plain": [
              "[('kampala', 0.5206839442253113),\n",
              " ('na_wa', 0.5155055522918701),\n",
              " ('nairobi', 0.5032686591148376),\n",
              " ('JZU', 0.5002182126045227),\n",
              " ('9ja', 0.5001271963119507),\n",
              " ('RAZAK', 0.49960625171661377),\n",
              " ('ngoba', 0.49234238266944885),\n",
              " ('abuja', 0.49174243211746216),\n",
              " ('chete', 0.48337095975875854),\n",
              " ('naija', 0.48265454173088074)]"
            ]
          },
          "metadata": {},
          "execution_count": 45
        }
      ]
    },
    {
      "cell_type": "markdown",
      "source": [
        "#### glove_wiki_gigaword_300"
      ],
      "metadata": {
        "id": "aleGhk_wz81B"
      }
    },
    {
      "cell_type": "code",
      "source": [
        "# download time ~ 4 min\n",
        "glove_wiki_gigaword_300 = api.load('glove-wiki-gigaword-300')"
      ],
      "metadata": {
        "colab": {
          "base_uri": "https://localhost:8080/"
        },
        "id": "ENhu-oq3p7No",
        "outputId": "e9f58681-7e58-473d-b217-f0efcbd84a90"
      },
      "execution_count": 40,
      "outputs": [
        {
          "output_type": "stream",
          "name": "stdout",
          "text": [
            "[==================================================] 100.0% 376.1/376.1MB downloaded\n"
          ]
        }
      ]
    },
    {
      "cell_type": "code",
      "source": [
        "analogous_words = glove_wiki_gigaword_300.most_similar(negative=['soft'], positive=['hard','softer'])\n",
        "print('\\n'.join([str(tup) for tup in analogous_words]))"
      ],
      "metadata": {
        "colab": {
          "base_uri": "https://localhost:8080/"
        },
        "id": "-0rnnIzqvn5j",
        "outputId": "767fe92f-808a-44e4-c876-38e3a6f2dd18"
      },
      "execution_count": 46,
      "outputs": [
        {
          "output_type": "stream",
          "name": "stdout",
          "text": [
            "('harder', 0.6572688817977905)\n",
            "('stronger', 0.5350075960159302)\n",
            "('tougher', 0.5323050618171692)\n",
            "('tough', 0.5159251093864441)\n",
            "('better', 0.5049951672554016)\n",
            "('easier', 0.47591423988342285)\n",
            "('lot', 0.4734606444835663)\n",
            "('much', 0.46252939105033875)\n",
            "('weaker', 0.46007463335990906)\n",
            "('bit', 0.4486900568008423)\n"
          ]
        }
      ]
    },
    {
      "cell_type": "markdown",
      "source": [
        "#### wikipedia_fasttext"
      ],
      "metadata": {
        "id": "aD6qfP7Y0Dwg"
      }
    },
    {
      "cell_type": "code",
      "metadata": {
        "id": "mPZl6qzEvKl-",
        "colab": {
          "base_uri": "https://localhost:8080/"
        },
        "outputId": "8e83a2ec-49f2-4a7c-986b-66f6ff75caf5"
      },
      "source": [
        "# Optional! THIS WILL TAKE SOME TIME!!! (download time ~10 minutes)\n",
        "# Facebook's own FastText vectors, trained on Wikipedia\n",
        "wikipedia_fasttext = api.load('fasttext-wiki-news-subwords-300')"
      ],
      "execution_count": 43,
      "outputs": [
        {
          "output_type": "stream",
          "name": "stdout",
          "text": [
            "[==================================================] 100.0% 958.5/958.4MB downloaded\n"
          ]
        }
      ]
    },
    {
      "cell_type": "code",
      "source": [
        "analogous_words = wikipedia_fasttext.most_similar(negative=['soft'], positive=['hard','softer'])\n",
        "print('\\n'.join([str(tup) for tup in analogous_words]))"
      ],
      "metadata": {
        "colab": {
          "base_uri": "https://localhost:8080/"
        },
        "id": "QUxXP8aDvv0m",
        "outputId": "6fd3e826-420f-4950-ea16-c15b6b86a79f"
      },
      "execution_count": 47,
      "outputs": [
        {
          "output_type": "stream",
          "name": "stdout",
          "text": [
            "('harder', 0.8653953671455383)\n",
            "('tougher', 0.7348615527153015)\n",
            "('easier', 0.6936573386192322)\n",
            "('better', 0.6659234166145325)\n",
            "('tough', 0.6521403789520264)\n",
            "('hardest', 0.6454681158065796)\n",
            "('difficult', 0.6439278721809387)\n",
            "('rougher', 0.6428141593933105)\n",
            "('harsher', 0.6367827653884888)\n",
            "('stronger', 0.6283641457557678)\n"
          ]
        }
      ]
    },
    {
      "cell_type": "code",
      "metadata": {
        "id": "w4xj0CGQ7iFg",
        "colab": {
          "base_uri": "https://localhost:8080/"
        },
        "outputId": "a5a92053-8f16-4777-f0e7-b85d2df9a223"
      },
      "source": [
        "# x is to Wharton as London is to Dickens\n",
        "analogous_words = wikipedia_fasttext.most_similar(negative=['paris'],positive=['france','london'], topn=10)\n",
        "print('\\n'.join([str(tup) for tup in analogous_words]))"
      ],
      "execution_count": 55,
      "outputs": [
        {
          "output_type": "stream",
          "name": "stdout",
          "text": [
            "('england', 0.6565924882888794)\n",
            "('britain', 0.628123939037323)\n",
            "('europe', 0.6154525876045227)\n",
            "('london.', 0.5932062864303589)\n",
            "('londons', 0.5780512690544128)\n",
            "('uk', 0.5756634473800659)\n",
            "('british', 0.5626298189163208)\n",
            "('scotland', 0.5594385266304016)\n",
            "('lond', 0.5568357110023499)\n",
            "('germany', 0.5533894896507263)\n"
          ]
        }
      ]
    },
    {
      "cell_type": "code",
      "source": [
        "analogous_words = glove_wiki_gigaword_300.most_similar(negative=['soft'], positive=['hard','softer'])\n",
        "print('\\n'.join([str(tup) for tup in analogous_words]))"
      ],
      "metadata": {
        "id": "JnNiRKt3vr1R"
      },
      "execution_count": null,
      "outputs": []
    },
    {
      "cell_type": "code",
      "metadata": {
        "id": "H4gsyd3-_8eN"
      },
      "source": [
        "# try your own examples..."
      ],
      "execution_count": null,
      "outputs": []
    },
    {
      "cell_type": "markdown",
      "metadata": {
        "id": "NqVFfYx878cA"
      },
      "source": [
        "## Step 5. Training models in other languages (Armenian, Georgian, Ukrainian ...)\n",
        "\n",
        "Now let's train a model on our own corpus. You can try to create Armenian / Ukrainian / Russian / German / French word vector model.\n",
        "\n",
        "Armenian, Ukrainian, Russian plaintext wikipedias are available at:\n",
        "https://lindat.mff.cuni.cz/repository/xmlui/handle/11234/1-2735#\n",
        "\n",
        "We can use the same size ~15 Million Words, (200MB) of these corpora to make sure the model is built within a reasonable time; however, when you have more time, you can try a more complete corpus.\n",
        "\n",
        "It is possible to download/unzip/upload the files manually, however, it is faster to automatically load them directly from Heidelberg server space https://heibox.uni-heidelberg.de/d/42a07c9e95774e099a81/  into your colab environment. To do this run the cells 5a or 5b, or 5c, or 5d, or 5e -- depending on which language you prefer -- to download the data. Then skip other language and continue with Step5 -- building the model for your preferred language from the data you downloaded.\n"
      ]
    },
    {
      "cell_type": "code",
      "metadata": {
        "id": "8uwDxwRTSnqY",
        "colab": {
          "base_uri": "https://localhost:8080/"
        },
        "outputId": "60eb32b2-9ed8-4c24-bc79-a1c725dd1628"
      },
      "source": [
        "!rm /usr/local/lib/python3.7/dist-packages/gensim/test/test_data/myOwnLangText8.txt\n",
        "!rm index.html?dl=1"
      ],
      "execution_count": null,
      "outputs": [
        {
          "output_type": "stream",
          "name": "stdout",
          "text": [
            "rm: cannot remove '/usr/local/lib/python3.7/dist-packages/gensim/test/test_data/myOwnLangText8.txt': No such file or directory\n",
            "rm: cannot remove 'index.html?dl=1': No such file or directory\n"
          ]
        }
      ]
    },
    {
      "cell_type": "markdown",
      "metadata": {
        "id": "OKKHYl4dFFcT"
      },
      "source": [
        "### 5c German - works!"
      ]
    },
    {
      "cell_type": "code",
      "metadata": {
        "id": "k9i_seazFN9i",
        "colab": {
          "base_uri": "https://localhost:8080/"
        },
        "outputId": "32f8220c-1f2f-4cdc-a85a-ceb2bdcf11aa"
      },
      "source": [
        "!wget https://heibox.uni-heidelberg.de/f/ca0a085347c34563a6e6/?dl=1"
      ],
      "execution_count": 62,
      "outputs": [
        {
          "output_type": "stream",
          "name": "stdout",
          "text": [
            "--2024-06-09 16:40:52--  https://heibox.uni-heidelberg.de/f/ca0a085347c34563a6e6/?dl=1\n",
            "Resolving heibox.uni-heidelberg.de (heibox.uni-heidelberg.de)... 129.206.7.113\n",
            "Connecting to heibox.uni-heidelberg.de (heibox.uni-heidelberg.de)|129.206.7.113|:443... connected.\n",
            "HTTP request sent, awaiting response... 302 Found\n",
            "Location: https://heibox.uni-heidelberg.de/seafhttp/files/0040f62a-ead1-42a2-9dff-1f1edfd7debf/de8.txt [following]\n",
            "--2024-06-09 16:40:52--  https://heibox.uni-heidelberg.de/seafhttp/files/0040f62a-ead1-42a2-9dff-1f1edfd7debf/de8.txt\n",
            "Reusing existing connection to heibox.uni-heidelberg.de:443.\n",
            "HTTP request sent, awaiting response... 200 OK\n",
            "Length: 120000000 (114M) [text/plain]\n",
            "Saving to: ‘index.html?dl=1’\n",
            "\n",
            "index.html?dl=1     100%[===================>] 114.44M  14.9MB/s    in 7.3s    \n",
            "\n",
            "2024-06-09 16:41:00 (15.6 MB/s) - ‘index.html?dl=1’ saved [120000000/120000000]\n",
            "\n"
          ]
        }
      ]
    },
    {
      "cell_type": "code",
      "metadata": {
        "id": "m13CwxeEH9dk"
      },
      "source": [
        "!cp index.html?dl=1 /usr/local/lib/python3.10/dist-packages/gensim/test/test_data/myOwnLangText8.txt"
      ],
      "execution_count": 63,
      "outputs": []
    },
    {
      "cell_type": "code",
      "metadata": {
        "id": "RBO_zgLb8vJm",
        "colab": {
          "base_uri": "https://localhost:8080/"
        },
        "outputId": "5e022091-72fa-4b73-ec01-cc262c460dae"
      },
      "source": [
        "!head --lines=15 /usr/local/lib/python3.10/dist-packages/gensim/test/test_data/myOwnLangText8.txt"
      ],
      "execution_count": 64,
      "outputs": [
        {
          "output_type": "stream",
          "name": "stdout",
          "text": [
            "Alan Smithee\n",
            "\n",
            "Alan Smithee steht als Pseudonym für einen fiktiven Regisseur, der Filme verantwortet, bei denen der eigentliche Regisseur seinen Namen nicht mit dem Werk in Verbindung gebracht haben möchte. Von 1968 bis 2000 wurde es von der Directors Guild of America (DGA) für solche Situationen empfohlen, seither ist es Thomas Lee. \"Alan Smithee\" ist jedoch weiterhin in Gebrauch.\n",
            "\n",
            "Alternative Schreibweisen sind unter anderem die Ursprungsvariante \"Allen Smithee\" sowie \"Alan Smythee\" und \"Adam Smithee\". Auch zwei teilweise asiatisch anmutende Schreibweisen \"Alan Smi Thee\" und \"Sumishii Aran\" gehören – so die Internet Movie Database – dazu.\n",
            "\n",
            "Das Pseudonym entstand 1968 infolge der Arbeiten am Western-Film \"Death of a Gunfighter\" (deutscher Titel \"Frank Patch – Deine Stunden sind gezählt\"). Regisseur Robert Totten und Hauptdarsteller Richard Widmark gerieten in einen Streit, woraufhin Don Siegel als neuer Regisseur eingesetzt wurde.\n",
            "\n",
            "Der Film trug nach Abschluss der Arbeiten noch deutlich Tottens Handschrift, der auch mehr Drehtage als Siegel daran gearbeitet hatte, weshalb dieser die Nennung seines Namens als Regisseur ablehnte. Totten selbst lehnte aber ebenfalls ab. Als Lösung wurde \"Allen Smithee\" als ein möglichst einzigartiger Name gewählt (bei der späteren Variante \"Alan Smithee\" war das Anagramm \"The Alias Men\" vermutlich kein Entstehungsgrund).\n",
            "\n",
            "In den zeitgenössischen Kritiken wurde der Regisseur u. a. von Roger Ebert mit den Worten gelobt: \n",
            "\n",
            "1997 kam die Parodie \"An Alan Smithee Film: Burn Hollywood Burn\" (deutscher Titel \"Fahr zur Hölle Hollywood\") in die Kinos, was das Pseudonym einem größeren Publikum bekannt machte, nicht zuletzt weil Arthur Hiller, der eigentliche Regisseur des Films, selbst seinen Namen zurückzog und analog zum Filmtitel das Pseudonym \"Alan Smithee\" benutzte. Der Film gilt als einer der schlechtesten Filme der 1990er Jahre und gewann fünf Goldene Himbeeren.\n",
            "\n",
            "Der Film \"Supernova\" ist der erste Post-Smithee-Film, dort führte ein gewisser \"Thomas Lee\" alias Walter Hill die Regie.\n"
          ]
        }
      ]
    },
    {
      "cell_type": "markdown",
      "metadata": {
        "id": "EPZo393WEWGW"
      },
      "source": [
        "### Or: 5a Armenian"
      ]
    },
    {
      "cell_type": "code",
      "metadata": {
        "id": "jLc70OaADDsY"
      },
      "source": [
        "!wget https://heibox.uni-heidelberg.de/f/ffe527ed3d1e4b4cb43a/?dl=1"
      ],
      "execution_count": null,
      "outputs": []
    },
    {
      "cell_type": "code",
      "metadata": {
        "id": "Yj1swlOVH4J9"
      },
      "source": [
        "!cp index.html?dl=1 /usr/local/lib/python3.7/dist-packages/gensim/test/test_data/myOwnLangText8.txt"
      ],
      "execution_count": null,
      "outputs": []
    },
    {
      "cell_type": "code",
      "metadata": {
        "id": "ASwFiA0tPfBn"
      },
      "source": [
        "!head --lines=15 /usr/local/lib/python3.7/dist-packages/gensim/test/test_data/myOwnLangText8.txt"
      ],
      "execution_count": null,
      "outputs": []
    },
    {
      "cell_type": "markdown",
      "metadata": {
        "id": "lfLTw8mHGUA6"
      },
      "source": []
    },
    {
      "cell_type": "markdown",
      "metadata": {
        "id": "teve3mqpEdgG"
      },
      "source": [
        "### Or: 5b Ukrainian"
      ]
    },
    {
      "cell_type": "code",
      "metadata": {
        "id": "Pz-lMC8ZEgTQ"
      },
      "source": [
        "!wget https://heibox.uni-heidelberg.de/f/676bef3a6db8482e9665/?dl=1"
      ],
      "execution_count": null,
      "outputs": []
    },
    {
      "cell_type": "code",
      "metadata": {
        "id": "3Kw3XZQPH47I"
      },
      "source": [
        "!cp index.html?dl=1 /usr/local/lib/python3.7/dist-packages/gensim/test/test_data/myOwnLangText8.txt"
      ],
      "execution_count": null,
      "outputs": []
    },
    {
      "cell_type": "code",
      "metadata": {
        "id": "ARd-3RfY8mw5"
      },
      "source": [
        "!head --lines=15 /usr/local/lib/python3.7/dist-packages/gensim/test/test_data/myOwnLangText8.txt"
      ],
      "execution_count": null,
      "outputs": []
    },
    {
      "cell_type": "markdown",
      "metadata": {
        "id": "PWDlNugkFOZP"
      },
      "source": [
        "### Or: 5d French"
      ]
    },
    {
      "cell_type": "code",
      "metadata": {
        "id": "eL18LA1PFRAM"
      },
      "source": [
        "!wget https://heibox.uni-heidelberg.de/f/5cdb485efd4046f2a457/?dl=1"
      ],
      "execution_count": null,
      "outputs": []
    },
    {
      "cell_type": "code",
      "metadata": {
        "id": "BorzWO26H-Gx"
      },
      "source": [
        "!cp index.html?dl=1 /usr/local/lib/python3.7/dist-packages/gensim/test/test_data/myOwnLangText8.txt"
      ],
      "execution_count": null,
      "outputs": []
    },
    {
      "cell_type": "code",
      "metadata": {
        "id": "RushLVUX8w5k"
      },
      "source": [
        "!head --lines=15 /usr/local/lib/python3.7/dist-packages/gensim/test/test_data/myOwnLangText8.txt"
      ],
      "execution_count": null,
      "outputs": []
    },
    {
      "cell_type": "markdown",
      "metadata": {
        "id": "5vgYZ0IfGY2l"
      },
      "source": [
        "### Or: 5f Georgian"
      ]
    },
    {
      "cell_type": "code",
      "metadata": {
        "id": "imZY_tHOGc-m"
      },
      "source": [
        "!wget https://heibox.uni-heidelberg.de/f/fa3509d869b949459f91/?dl=1"
      ],
      "execution_count": null,
      "outputs": []
    },
    {
      "cell_type": "markdown",
      "metadata": {
        "id": "0ZZvDBTq3E8f"
      },
      "source": [
        "Lemmatized corpus"
      ]
    },
    {
      "cell_type": "code",
      "metadata": {
        "id": "767DwIll3IP6"
      },
      "source": [
        "!wget https://heibox.uni-heidelberg.de/f/b381c458ad5e4773a77d/?dl=1"
      ],
      "execution_count": null,
      "outputs": []
    },
    {
      "cell_type": "code",
      "metadata": {
        "id": "kq2qM74k3Wfe"
      },
      "source": [
        "!cp index.html?dl=1 wiki_geo_lem.txt"
      ],
      "execution_count": null,
      "outputs": []
    },
    {
      "cell_type": "code",
      "metadata": {
        "id": "1UUAVq_W3fqU"
      },
      "source": [
        "!head --lines=10 wiki_geo_lem.txt"
      ],
      "execution_count": null,
      "outputs": []
    },
    {
      "cell_type": "code",
      "metadata": {
        "id": "sDSkZErA3s8Z"
      },
      "source": [
        "FIn = open(\"wiki_geo_lem.txt\", 'r')\n",
        "FOut = open('wiki_geo_l.txt', 'w')\n",
        "\n",
        "i = 0\n",
        "for SLine in FIn:\n",
        "  i = i + 1\n",
        "  SLine = SLine.strip() + ' '\n",
        "  if i % 10000 == 0:\n",
        "    SLine += '\\n'\n",
        "\n",
        "  FOut.write(SLine)\n",
        "\n",
        "FOut.flush()\n",
        "FOut.close()\n"
      ],
      "execution_count": null,
      "outputs": []
    },
    {
      "cell_type": "code",
      "metadata": {
        "id": "rMGSnTHV5WyM"
      },
      "source": [
        "!head --lines=10 wiki_geo_l.txt"
      ],
      "execution_count": null,
      "outputs": []
    },
    {
      "cell_type": "code",
      "metadata": {
        "id": "e9_T1Dwz5sD9",
        "colab": {
          "base_uri": "https://localhost:8080/"
        },
        "outputId": "59125cfd-3027-4ed7-b6a3-e694e42e9049"
      },
      "source": [
        "!wc wiki_geo_lem.txt"
      ],
      "execution_count": null,
      "outputs": [
        {
          "output_type": "stream",
          "name": "stdout",
          "text": [
            " 18054750  18054749 329202500 wiki_geo_lem.txt\n"
          ]
        }
      ]
    },
    {
      "cell_type": "code",
      "metadata": {
        "id": "KrWmuRyEGk__"
      },
      "source": [
        "!cp index.html?dl=1 /usr/local/lib/python3.7/dist-packages/gensim/test/test_data/myOwnLangText8.txt"
      ],
      "execution_count": null,
      "outputs": []
    },
    {
      "cell_type": "markdown",
      "metadata": {
        "id": "Qg5rl4vM6QjO"
      },
      "source": [
        "Alternatively, copy lemmatized corpus"
      ]
    },
    {
      "cell_type": "code",
      "metadata": {
        "id": "ZcDakluj6C2G"
      },
      "source": [
        "!cp wiki_geo_l.txt /usr/local/lib/python3.7/dist-packages/gensim/test/test_data/myOwnLangText8.txt"
      ],
      "execution_count": null,
      "outputs": []
    },
    {
      "cell_type": "code",
      "metadata": {
        "id": "Beg4vzqFGono"
      },
      "source": [
        "!head --lines=15 /usr/local/lib/python3.7/dist-packages/gensim/test/test_data/myOwnLangText8.txt"
      ],
      "execution_count": null,
      "outputs": []
    },
    {
      "cell_type": "markdown",
      "metadata": {
        "id": "-AJ9guGSNkyw"
      },
      "source": [
        "### Stage6: Training own model"
      ]
    },
    {
      "cell_type": "markdown",
      "metadata": {
        "id": "kCj_-BYcOe7A"
      },
      "source": [
        "optional: to clean disk space, we remove the downloaded file"
      ]
    },
    {
      "cell_type": "code",
      "metadata": {
        "id": "NnO8k3CWOdqK"
      },
      "source": [
        "# optional: to clean disk space, we remove the downloaded file\n",
        "!rm index.html\\?dl\\=1"
      ],
      "execution_count": 65,
      "outputs": []
    },
    {
      "cell_type": "code",
      "metadata": {
        "id": "3AAzBAWaPQZB"
      },
      "source": [
        "from gensim.test.utils import datapath\n",
        "from gensim import utils\n",
        "\n",
        "class MyCorpus:\n",
        "    \"\"\"An iterator that yields sentences (lists of str).\"\"\"\n",
        "\n",
        "    def __iter__(self):\n",
        "        corpus_path = datapath('myOwnLangText8.txt')\n",
        "        for line in open(corpus_path):\n",
        "            # assume there's one document per line, tokens separated by whitespace\n",
        "            yield utils.simple_preprocess(line)"
      ],
      "execution_count": 66,
      "outputs": []
    },
    {
      "cell_type": "code",
      "metadata": {
        "id": "i9VFjEuyQQ1u"
      },
      "source": [
        "import gensim.models\n",
        "corpusOwn = MyCorpus()"
      ],
      "execution_count": 67,
      "outputs": []
    },
    {
      "cell_type": "markdown",
      "metadata": {
        "id": "DARUsusgQyWO"
      },
      "source": [
        "optional: examining what is in the corpus after standard preprocessing"
      ]
    },
    {
      "cell_type": "code",
      "metadata": {
        "id": "-tLeaX0rQiD7",
        "colab": {
          "base_uri": "https://localhost:8080/"
        },
        "outputId": "fed7a2a4-5784-4c5f-ed08-4ed63cd40c9d"
      },
      "source": [
        "# Optional: Examining our corpus format\n",
        "type(corpusOwn)"
      ],
      "execution_count": 68,
      "outputs": [
        {
          "output_type": "execute_result",
          "data": {
            "text/plain": [
              "__main__.MyCorpus"
            ]
          },
          "metadata": {},
          "execution_count": 68
        }
      ]
    },
    {
      "cell_type": "code",
      "metadata": {
        "id": "zSzwUYw_QxYD"
      },
      "source": [
        "dataOwn = [d for d in corpusOwn]"
      ],
      "execution_count": 69,
      "outputs": []
    },
    {
      "cell_type": "code",
      "metadata": {
        "id": "4YWSko1SRLJl",
        "colab": {
          "base_uri": "https://localhost:8080/"
        },
        "outputId": "0eda3ac2-373a-4191-956d-596f8d069597"
      },
      "source": [
        "print(len(dataOwn))\n",
        "print(dataOwn[0])\n",
        "print(len(dataOwn[0]))\n",
        "print(dataOwn[4])\n",
        "print(len(dataOwn[4]))\n",
        "print(dataOwn[5])\n",
        "print(len(dataOwn[5]))"
      ],
      "execution_count": 70,
      "outputs": [
        {
          "output_type": "stream",
          "name": "stdout",
          "text": [
            "617267\n",
            "['alan', 'smithee']\n",
            "2\n",
            "['alternative', 'schreibweisen', 'sind', 'unter', 'anderem', 'die', 'allen', 'smithee', 'sowie', 'alan', 'smythee', 'und', 'adam', 'smithee', 'auch', 'zwei', 'teilweise', 'asiatisch', 'anmutende', 'schreibweisen', 'alan', 'smi', 'thee', 'und', 'sumishii', 'aran', 'gehören', 'so', 'die', 'internet', 'movie', 'database', 'dazu']\n",
            "33\n",
            "[]\n",
            "0\n"
          ]
        }
      ]
    },
    {
      "cell_type": "markdown",
      "metadata": {
        "id": "468wJ6YkVNad"
      },
      "source": [
        "... Initialising global parameters for our modelL vector size, collocation window, skip-grams, negative sampling...."
      ]
    },
    {
      "cell_type": "code",
      "metadata": {
        "id": "h8Eep9wyHh9d"
      },
      "source": [
        "from gensim.models import Word2Vec # The word2vec model class\n",
        "import gensim.downloader as api # Allows us to download some free training data"
      ],
      "execution_count": 71,
      "outputs": []
    },
    {
      "cell_type": "code",
      "metadata": {
        "id": "xObhQQ2SVBDn"
      },
      "source": [
        "my_vector_size = 100 # Dimensionality of the word vectors\n",
        "window = 5 # How many words either side? (5 = 5 context words either side, i.e. 10 context words in total)\n",
        "use_skip_gram = 1 # If you set this to 0, then it will create a 'continuous bag of words' model instead\n",
        "use_softmax = 0 # If you set this to 1, then hierarchical softmax will be used instead of negative sampling\n",
        "negative_samples = 5 # How many incorrect answers to generate per correct answer when negative sampling\n",
        "\n",
        "modelOwn = Word2Vec(\n",
        "    vector_size=my_vector_size,\n",
        "    window=window,\n",
        "    sg=use_skip_gram,\n",
        "    hs=use_softmax,\n",
        "    negative=negative_samples\n",
        ")"
      ],
      "execution_count": 73,
      "outputs": []
    },
    {
      "cell_type": "markdown",
      "metadata": {
        "id": "e_QILgoIVeea"
      },
      "source": [
        "... this cell may run for ~2 min or so..."
      ]
    },
    {
      "cell_type": "code",
      "metadata": {
        "id": "gaecmdkPVLCh"
      },
      "source": [
        "modelOwn.build_vocab(corpusOwn)"
      ],
      "execution_count": 74,
      "outputs": []
    },
    {
      "cell_type": "markdown",
      "metadata": {
        "id": "HEdwCKEVVnGv"
      },
      "source": [
        "THIS MAY TAKE LONG!!! ... training the model may take 9 to 15 minutes... (just grab a cup of coffee or a sandwich while you are waiting... You may try chaning the number of epochs; if the number is lower the training is faster, but the quality may be lower..."
      ]
    },
    {
      "cell_type": "code",
      "metadata": {
        "id": "UrvDUrOJVxOG",
        "colab": {
          "base_uri": "https://localhost:8080/"
        },
        "outputId": "988c0cee-da4b-425b-96fc-9c9226772495"
      },
      "source": [
        "modelOwn.train(corpusOwn, epochs=5, total_examples=modelOwn.corpus_count)"
      ],
      "execution_count": 76,
      "outputs": [
        {
          "output_type": "execute_result",
          "data": {
            "text/plain": [
              "(56971850, 75507725)"
            ]
          },
          "metadata": {},
          "execution_count": 76
        }
      ]
    },
    {
      "cell_type": "markdown",
      "metadata": {
        "id": "trrJqAeUWWmL"
      },
      "source": [
        "Now we copy word vectors and remove the model from memory (just to free up the resources...)"
      ]
    },
    {
      "cell_type": "code",
      "metadata": {
        "id": "h2GbyMw5WVZd"
      },
      "source": [
        "word_vectors_own = modelOwn.wv"
      ],
      "execution_count": 77,
      "outputs": []
    },
    {
      "cell_type": "code",
      "metadata": {
        "id": "vjLyitW5Whff"
      },
      "source": [
        "del modelOwn"
      ],
      "execution_count": null,
      "outputs": []
    },
    {
      "cell_type": "markdown",
      "metadata": {
        "id": "q-ipjoSmWtOR"
      },
      "source": [
        "Now we can examine the output of our word embeddings"
      ]
    },
    {
      "cell_type": "markdown",
      "metadata": {
        "id": "VyKlhpZJ6oG3"
      },
      "source": [
        "### German examples"
      ]
    },
    {
      "cell_type": "code",
      "metadata": {
        "id": "pO9GGM5K6kup",
        "colab": {
          "base_uri": "https://localhost:8080/"
        },
        "outputId": "d2057637-9971-4f87-f633-4949574d640c"
      },
      "source": [
        "# DE examples\n",
        "# See the word vector for a particular word\n",
        "vector = word_vectors_own['banane']\n",
        "print(vector)"
      ],
      "execution_count": 78,
      "outputs": [
        {
          "output_type": "stream",
          "name": "stdout",
          "text": [
            "[ 0.10075621 -0.12602118 -0.09882525  0.07208958  0.0338595  -0.1839196\n",
            "  0.279739    0.31493902 -0.07504811 -0.18543933 -0.14300443 -0.08045007\n",
            " -0.20416714  0.09101471  0.03044987 -0.22884238  0.05614935  0.05093222\n",
            "  0.24569729 -0.24122925  0.06150239 -0.20853686  0.16781837 -0.15910992\n",
            " -0.24888885  0.14393839  0.058139   -0.07789802 -0.0904852  -0.10539671\n",
            "  0.22656076 -0.22272146  0.1546064   0.17589416  0.01947307  0.2050054\n",
            " -0.08090865 -0.17477393 -0.22255301  0.10397669  0.17486668 -0.27339187\n",
            "  0.2600213   0.16386129 -0.22488172 -0.14953832 -0.06997634 -0.17026299\n",
            " -0.0010755   0.19792816  0.3408265   0.05118159 -0.33898032 -0.03472055\n",
            " -0.29269937  0.03965892  0.04215126  0.19848008 -0.06039856 -0.1654338\n",
            " -0.03749323 -0.09299678  0.02412619  0.21416458  0.1188198   0.38227263\n",
            " -0.04517859  0.1417562  -0.31381208  0.2106447   0.00822109 -0.13669954\n",
            "  0.4710996   0.17543544  0.12046697 -0.02408728  0.09891791 -0.08062794\n",
            "  0.009671    0.2026222  -0.04359178 -0.31278443  0.01184188  0.36761302\n",
            "  0.02077505  0.1416185   0.10241165  0.0817978   0.2884969   0.04498396\n",
            "  0.07561106  0.04933546 -0.1857667   0.27813563  0.31002596  0.23424911\n",
            "  0.32822376 -0.10521352  0.03321151 -0.13368946]\n"
          ]
        }
      ]
    },
    {
      "cell_type": "code",
      "metadata": {
        "id": "irvedMmO62EE",
        "colab": {
          "base_uri": "https://localhost:8080/"
        },
        "outputId": "59ae6752-bb32-44b2-9bd4-d7b547ce28ba"
      },
      "source": [
        "# See which words are closest to a given word in the vector space\n",
        "similar_words = word_vectors_own.most_similar('universität', topn=10)\n",
        "print('\\n'.join([str(tup) for tup in similar_words]))"
      ],
      "execution_count": 79,
      "outputs": [
        {
          "output_type": "stream",
          "name": "stdout",
          "text": [
            "('hochschule', 0.8408931493759155)\n",
            "('fakultät', 0.7962464690208435)\n",
            "('universitäten', 0.7852887511253357)\n",
            "('ehrendoktor', 0.7707276344299316)\n",
            "('university', 0.7700812220573425)\n",
            "('volluniversität', 0.7546650767326355)\n",
            "('hochschulen', 0.7529446482658386)\n",
            "('fachhochschule', 0.7368623614311218)\n",
            "('sorbonne', 0.7329705953598022)\n",
            "('kunsthochschule', 0.7321016192436218)\n"
          ]
        }
      ]
    },
    {
      "cell_type": "code",
      "metadata": {
        "id": "uVfmC7307DBy",
        "colab": {
          "base_uri": "https://localhost:8080/"
        },
        "outputId": "2c836aec-f51b-4724-e052-ac62b1db080c"
      },
      "source": [
        "# See which words are closest to a given word in the vector space\n",
        "similar_words = word_vectors_own.most_similar('rot', topn=10)\n",
        "print('\\n'.join([str(tup) for tup in similar_words]))"
      ],
      "execution_count": 80,
      "outputs": [
        {
          "output_type": "stream",
          "name": "stdout",
          "text": [
            "('blau', 0.9078530669212341)\n",
            "('grün', 0.8994275331497192)\n",
            "('gelb', 0.8767167925834656)\n",
            "('schwarz', 0.8723684549331665)\n",
            "('stadtfarben', 0.8272213935852051)\n",
            "('stadtflagge', 0.8210878372192383)\n",
            "('landesfarben', 0.811372697353363)\n",
            "('silbern', 0.7903183698654175)\n",
            "('weiß', 0.7887179851531982)\n",
            "('gestreift', 0.7856178879737854)\n"
          ]
        }
      ]
    },
    {
      "cell_type": "code",
      "metadata": {
        "id": "yJ5fp9mI7G0s",
        "colab": {
          "base_uri": "https://localhost:8080/"
        },
        "outputId": "ec0815ff-bcee-4486-bc96-69d537f9bf8d"
      },
      "source": [
        "# See which words are closest to a given word in the vector space\n",
        "similar_words = word_vectors_own.most_similar('brüssel', topn=10)\n",
        "print('\\n'.join([str(tup) for tup in similar_words]))"
      ],
      "execution_count": 81,
      "outputs": [
        {
          "output_type": "stream",
          "name": "stdout",
          "text": [
            "('genf', 0.8063685297966003)\n",
            "('amsterdam', 0.7932760119438171)\n",
            "('paris', 0.7852495312690735)\n",
            "('madrid', 0.7727000713348389)\n",
            "('lüttich', 0.7647874355316162)\n",
            "('straßburg', 0.7594782710075378)\n",
            "('charleroi', 0.7566460967063904)\n",
            "('lille', 0.7544008493423462)\n",
            "('toulouse', 0.7536197900772095)\n",
            "('stockholm', 0.7521782517433167)\n"
          ]
        }
      ]
    },
    {
      "cell_type": "code",
      "metadata": {
        "id": "prPdl2ki7JLB",
        "colab": {
          "base_uri": "https://localhost:8080/"
        },
        "outputId": "a52a4f22-76cb-4dcb-f0c2-b24adc36a526"
      },
      "source": [
        "# See which words are closest to a given word in the vector space\n",
        "similar_words = word_vectors_own.most_similar('deutschland', topn=10)\n",
        "print('\\n'.join([str(tup) for tup in similar_words]))"
      ],
      "execution_count": 82,
      "outputs": [
        {
          "output_type": "stream",
          "name": "stdout",
          "text": [
            "('österreich', 0.8338862061500549)\n",
            "('bundesrepublik', 0.8042684197425842)\n",
            "('schweiz', 0.7832845449447632)\n",
            "('ostdeutschland', 0.7801434993743896)\n",
            "('westdeutschland', 0.7517196536064148)\n",
            "('belgien', 0.725387692451477)\n",
            "('europa', 0.7193728089332581)\n",
            "('frankreich', 0.7093033194541931)\n",
            "('lettland', 0.70259028673172)\n",
            "('verkehrsclub', 0.698092520236969)\n"
          ]
        }
      ]
    },
    {
      "cell_type": "code",
      "metadata": {
        "id": "PjxHXJ_k7Lxf",
        "colab": {
          "base_uri": "https://localhost:8080/"
        },
        "outputId": "3a6120f7-605a-4338-f6a7-32a6ec9d6070"
      },
      "source": [
        "# See which words are closest to a given word in the vector space\n",
        "similar_words = word_vectors_own.most_similar('komisch', topn=10)\n",
        "print('\\n'.join([str(tup) for tup in similar_words]))"
      ],
      "execution_count": 83,
      "outputs": [
        {
          "output_type": "stream",
          "name": "stdout",
          "text": [
            "('langweilig', 0.8917211294174194)\n",
            "('sympathisch', 0.8823737502098083)\n",
            "('witzig', 0.8816604614257812)\n",
            "('banal', 0.8811015486717224)\n",
            "('wunderbar', 0.8784763813018799)\n",
            "('wahrhaftig', 0.8775321245193481)\n",
            "('hassen', 0.8730990290641785)\n",
            "('anschauen', 0.8728605508804321)\n",
            "('tragisch', 0.8708015084266663)\n",
            "('großartig', 0.86897873878479)\n"
          ]
        }
      ]
    },
    {
      "cell_type": "code",
      "metadata": {
        "id": "MqplaUng7N5S",
        "colab": {
          "base_uri": "https://localhost:8080/"
        },
        "outputId": "100cfd7e-122a-4df6-d636-d7fccc490dfd"
      },
      "source": [
        "# Compute analogous words\n",
        "# E.g. x is to queen as man is to king => x = v('queen') + v('man') - v('king')\n",
        "analogous_words = word_vectors_own.most_similar(negative=['mann'], positive=['könig','frau'])\n",
        "print('\\n'.join([str(tup) for tup in analogous_words]))"
      ],
      "execution_count": 84,
      "outputs": [
        {
          "output_type": "stream",
          "name": "stdout",
          "text": [
            "('krönung', 0.6899225115776062)\n",
            "('königin', 0.6776207685470581)\n",
            "('gemahlin', 0.671101450920105)\n",
            "('ottos', 0.6473620533943176)\n",
            "('regentin', 0.6402062773704529)\n",
            "('theresia', 0.6371099352836609)\n",
            "('prinzessin', 0.6355440616607666)\n",
            "('thronfolger', 0.6326956748962402)\n",
            "('sigismund', 0.6317800879478455)\n",
            "('isabella', 0.630694568157196)\n"
          ]
        }
      ]
    },
    {
      "cell_type": "code",
      "metadata": {
        "id": "fWhfjdjU7QEc",
        "colab": {
          "base_uri": "https://localhost:8080/"
        },
        "outputId": "b3ea754e-75d1-44e6-89e2-1112718fdfac"
      },
      "source": [
        "# Compute analogous words\n",
        "# E.g. x is to queen as man is to king => x = v('queen') + v('man') - v('king')\n",
        "analogous_words = word_vectors_own.most_similar(negative=['könig'], positive=['königin','mann'])\n",
        "print('\\n'.join([str(tup) for tup in analogous_words]))"
      ],
      "execution_count": 85,
      "outputs": [
        {
          "output_type": "stream",
          "name": "stdout",
          "text": [
            "('großmutter', 0.6486426591873169)\n",
            "('zuviel', 0.6462733149528503)\n",
            "('frau', 0.6370766162872314)\n",
            "('ellen', 0.6279744505882263)\n",
            "('wußte', 0.6237425208091736)\n",
            "('elizabeth', 0.6159384250640869)\n",
            "('schauspielerin', 0.6155344247817993)\n",
            "('anne', 0.6154522895812988)\n",
            "('alice', 0.6134677529335022)\n",
            "('tante', 0.6102522611618042)\n"
          ]
        }
      ]
    },
    {
      "cell_type": "code",
      "metadata": {
        "id": "CXs0DTXE7UYb",
        "colab": {
          "base_uri": "https://localhost:8080/"
        },
        "outputId": "7ea6f865-5712-40a5-f7a4-b3814ea40a58"
      },
      "source": [
        "# Compute analogous words\n",
        "# E.g. x is to queen as man is to king => x = v('queen') + v('man') - v('king')\n",
        "analogous_words = word_vectors_own.most_similar(negative=['mutter'], positive=['vater','tochter'])\n",
        "print('\\n'.join([str(tup) for tup in analogous_words]))"
      ],
      "execution_count": 86,
      "outputs": [
        {
          "output_type": "stream",
          "name": "stdout",
          "text": [
            "('sohn', 0.8599680662155151)\n",
            "('bruder', 0.7702828049659729)\n",
            "('großvater', 0.7331442832946777)\n",
            "('cousin', 0.7274137139320374)\n",
            "('halbbruder', 0.7147159576416016)\n",
            "('ehefrau', 0.7091336846351624)\n",
            "('schwiegersohn', 0.7005618810653687)\n",
            "('erbin', 0.6972846388816833)\n",
            "('enkel', 0.691847026348114)\n",
            "('neffe', 0.6910774111747742)\n"
          ]
        }
      ]
    },
    {
      "cell_type": "code",
      "metadata": {
        "id": "vRHwRsT_7YLz",
        "colab": {
          "base_uri": "https://localhost:8080/"
        },
        "outputId": "9f3fa385-0fa2-407b-fe88-fc738a71d40a"
      },
      "source": [
        "# Compute analogous words\n",
        "# E.g. x is to queen as man is to king => x = v('queen') + v('man') - v('king')\n",
        "analogous_words = word_vectors_own.most_similar(negative=['mutter'], positive=['vater','mädchen'])\n",
        "print('\\n'.join([str(tup) for tup in analogous_words]))"
      ],
      "execution_count": 87,
      "outputs": [
        {
          "output_type": "stream",
          "name": "stdout",
          "text": [
            "('werthers', 0.6393195986747742)\n",
            "('jungen', 0.6264751553535461)\n",
            "('jugendliche', 0.595009446144104)\n",
            "('lehrer', 0.5943997502326965)\n",
            "('hauslehrern', 0.5909024477005005)\n",
            "('hund', 0.5899500250816345)\n",
            "('prostituierte', 0.5867388844490051)\n",
            "('musizieren', 0.5775508284568787)\n",
            "('kleinkinder', 0.5749905109405518)\n",
            "('engel', 0.5749112367630005)\n"
          ]
        }
      ]
    },
    {
      "cell_type": "code",
      "metadata": {
        "id": "PzSy-z-07Yy6",
        "colab": {
          "base_uri": "https://localhost:8080/"
        },
        "outputId": "8117c974-7662-4220-c4a7-a9cec75f633e"
      },
      "source": [
        "# Compute analogous words\n",
        "# x is to daughter as people is to person (plural + daughter)\n",
        "analogous_words = word_vectors_own.most_similar(negative=['person'], positive=['menschen','tochter'])\n",
        "print('\\n'.join([str(tup) for tup in analogous_words]))"
      ],
      "execution_count": 88,
      "outputs": [
        {
          "output_type": "stream",
          "name": "stdout",
          "text": [
            "('heirateten', 0.5747276544570923)\n",
            "('geboren', 0.5573669672012329)\n",
            "('mutter', 0.5540222525596619)\n",
            "('geborene', 0.5523591637611389)\n",
            "('kinder', 0.5452825427055359)\n",
            "('witwe', 0.5435317158699036)\n",
            "('heiratete', 0.5411205887794495)\n",
            "('unehelich', 0.5395071506500244)\n",
            "('schwester', 0.5393198728561401)\n",
            "('großmutter', 0.5384270548820496)\n"
          ]
        }
      ]
    },
    {
      "cell_type": "code",
      "metadata": {
        "id": "hWv3si3k7bK1",
        "colab": {
          "base_uri": "https://localhost:8080/"
        },
        "outputId": "684cf679-8da5-452a-b12e-f584d3a64c73"
      },
      "source": [
        "analogous_words = word_vectors_own.most_similar(negative=['weich'], positive=['hart','weicher'])\n",
        "print('\\n'.join([str(tup) for tup in analogous_words]))"
      ],
      "execution_count": 90,
      "outputs": [
        {
          "output_type": "stream",
          "name": "stdout",
          "text": [
            "('kalte', 0.7127009630203247)\n",
            "('milder', 0.6817352175712585)\n",
            "('polarluft', 0.6750123500823975)\n",
            "('warmer', 0.6746388077735901)\n",
            "('bescheidener', 0.6650974750518799)\n",
            "('katabatischer', 0.6614716649055481)\n",
            "('südschweiz', 0.6606355309486389)\n",
            "('zäh', 0.6599506139755249)\n",
            "('unangenehm', 0.6589765548706055)\n",
            "('humides', 0.6531760096549988)\n"
          ]
        }
      ]
    },
    {
      "cell_type": "markdown",
      "metadata": {
        "id": "1f-JPmP0JILh"
      },
      "source": [
        "### Georgian examples"
      ]
    },
    {
      "cell_type": "code",
      "metadata": {
        "id": "PhbX0fpdH90R"
      },
      "source": [
        "# See the word vector for a particular word -- 'world'\n",
        "vector = word_vectors_own['სამყარო']\n",
        "print(vector)"
      ],
      "execution_count": null,
      "outputs": []
    },
    {
      "cell_type": "code",
      "metadata": {
        "id": "K0dPtZK2IkpT"
      },
      "source": [
        "# See which words are closest to a given word in the vector space = 'world'\n",
        "similar_words = word_vectors_own.most_similar('არსება', topn=30)\n",
        "print('\\n'.join([str(tup) for tup in similar_words]))"
      ],
      "execution_count": null,
      "outputs": []
    },
    {
      "cell_type": "code",
      "metadata": {
        "id": "tLuAjAlcIrpi"
      },
      "source": [
        "# blue\n",
        "similar_words = word_vectors_own.most_similar('ლურჯი', topn=30)\n",
        "print('\\n'.join([str(tup) for tup in similar_words]))"
      ],
      "execution_count": null,
      "outputs": []
    },
    {
      "cell_type": "code",
      "metadata": {
        "id": "zGuQWHznIuXV"
      },
      "source": [
        "# france\n",
        "similar_words = word_vectors_own.most_similar('საფრანგეთი', topn=10)\n",
        "print('\\n'.join([str(tup) for tup in similar_words]))"
      ],
      "execution_count": null,
      "outputs": []
    },
    {
      "cell_type": "code",
      "metadata": {
        "id": "rzFct-O4IzYr"
      },
      "source": [
        "# x is to king as woman is to man\n",
        "analogous_words = word_vectors_own.most_similar(negative=['კაცი'], positive=['მეფე','ქალი'])\n",
        "print('\\n'.join([str(tup) for tup in analogous_words]))"
      ],
      "execution_count": null,
      "outputs": []
    },
    {
      "cell_type": "code",
      "metadata": {
        "id": "Q60fDwHXI3RL"
      },
      "source": [
        "# x is to king as woman is to man\n",
        "# x = small + biggest - big\n",
        "# 𝑥−𝑣𝑒𝑐𝑡𝑜𝑟(′𝑠𝑚𝑎𝑙𝑙′)=𝑣𝑒𝑐𝑡𝑜𝑟(′𝑏𝑖𝑔𝑔𝑒𝑠𝑡′)−𝑣𝑒𝑐𝑡𝑜𝑟(′𝑏𝑖𝑔′)\n",
        "# ∴ 𝑥=𝑣𝑒𝑐𝑡𝑜𝑟(′𝑠𝑚𝑎𝑙𝑙′)+𝑣𝑒𝑐𝑡𝑜𝑟(′𝑏𝑖𝑔𝑔𝑒𝑠𝑡′)−𝑣𝑒𝑐𝑡𝑜𝑟(′𝑏𝑖𝑔′)\n",
        "# ∴ 𝑥=𝑣𝑒𝑐𝑡𝑜𝑟(′փոքր′)+𝑣𝑒𝑐𝑡𝑜𝑟(′ամենամեծը′)−𝑣𝑒𝑐𝑡𝑜𝑟(′մեծ′)\n",
        "analogous_words = word_vectors_own.most_similar(negative=['პირი'], positive=['ხალხი','ქალიშვილი'])\n",
        "print('\\n'.join([str(tup) for tup in analogous_words]))"
      ],
      "execution_count": null,
      "outputs": []
    },
    {
      "cell_type": "code",
      "metadata": {
        "id": "czmhvtc-JB4C"
      },
      "source": [
        "# try your own examples... (also -- morphology?)\n",
        "# # x is to daughter as people is to person (plural + daughter)\n",
        "# analogous_words = word_vectors.most_similar(negative=['person'], positive=['people','daughter'])"
      ],
      "execution_count": null,
      "outputs": []
    },
    {
      "cell_type": "code",
      "metadata": {
        "id": "ZUFzOu3eIrGr"
      },
      "source": [],
      "execution_count": null,
      "outputs": []
    },
    {
      "cell_type": "markdown",
      "metadata": {
        "id": "Wvj5B2qdJDt6"
      },
      "source": [
        "### Armenian examples"
      ]
    },
    {
      "cell_type": "code",
      "metadata": {
        "id": "ZUVomonLWzHM"
      },
      "source": [
        "# See the word vector for a particular word -- 'world'\n",
        "vector = word_vectors_own['աշխարհը']\n",
        "print(vector)"
      ],
      "execution_count": null,
      "outputs": []
    },
    {
      "cell_type": "code",
      "metadata": {
        "id": "ga4LQhZJXmYV"
      },
      "source": [
        "# See which words are closest to a given word in the vector space = 'world'\n",
        "similar_words = word_vectors_own.most_similar('աշխարհը', topn=10)\n",
        "print('\\n'.join([str(tup) for tup in similar_words]))"
      ],
      "execution_count": null,
      "outputs": []
    },
    {
      "cell_type": "code",
      "metadata": {
        "id": "9ECDUd8AXsF0"
      },
      "source": [
        "# blue\n",
        "similar_words = word_vectors_own.most_similar('կապույտ', topn=10)\n",
        "print('\\n'.join([str(tup) for tup in similar_words]))"
      ],
      "execution_count": null,
      "outputs": []
    },
    {
      "cell_type": "code",
      "metadata": {
        "id": "EKAl9NVdX8SM"
      },
      "source": [
        "# france\n",
        "similar_words = word_vectors_own.most_similar('ֆրանսիա', topn=10)\n",
        "print('\\n'.join([str(tup) for tup in similar_words]))"
      ],
      "execution_count": null,
      "outputs": []
    },
    {
      "cell_type": "code",
      "metadata": {
        "id": "492wftrxZRhR"
      },
      "source": [
        "# x is to king as woman is to man\n",
        "analogous_words = word_vectors_own.most_similar(negative=['մարդ'], positive=['թագավոր','կին'])\n",
        "print('\\n'.join([str(tup) for tup in analogous_words]))"
      ],
      "execution_count": null,
      "outputs": []
    },
    {
      "cell_type": "code",
      "metadata": {
        "id": "5HOugAyWbYCE"
      },
      "source": [
        "# x is to king as woman is to man\n",
        "# x = small + biggest - big\n",
        "# 𝑥−𝑣𝑒𝑐𝑡𝑜𝑟(′𝑠𝑚𝑎𝑙𝑙′)=𝑣𝑒𝑐𝑡𝑜𝑟(′𝑏𝑖𝑔𝑔𝑒𝑠𝑡′)−𝑣𝑒𝑐𝑡𝑜𝑟(′𝑏𝑖𝑔′)\n",
        "# ∴ 𝑥=𝑣𝑒𝑐𝑡𝑜𝑟(′𝑠𝑚𝑎𝑙𝑙′)+𝑣𝑒𝑐𝑡𝑜𝑟(′𝑏𝑖𝑔𝑔𝑒𝑠𝑡′)−𝑣𝑒𝑐𝑡𝑜𝑟(′𝑏𝑖𝑔′)\n",
        "# ∴ 𝑥=𝑣𝑒𝑐𝑡𝑜𝑟(′փոքր′)+𝑣𝑒𝑐𝑡𝑜𝑟(′ամենամեծը′)−𝑣𝑒𝑐𝑡𝑜𝑟(′մեծ′)\n",
        "analogous_words = word_vectors_own.most_similar(negative=['մեծ'], positive=['ամենամեծը','փոքր'])\n",
        "print('\\n'.join([str(tup) for tup in analogous_words]))"
      ],
      "execution_count": null,
      "outputs": []
    },
    {
      "cell_type": "code",
      "metadata": {
        "id": "Qz1h1O-MaY4J"
      },
      "source": [
        "# try your own examples... (also -- morphology?)\n",
        "# # x is to daughter as people is to person (plural + daughter)\n",
        "# analogous_words = word_vectors.most_similar(negative=['person'], positive=['people','daughter'])"
      ],
      "execution_count": null,
      "outputs": []
    }
  ]
}