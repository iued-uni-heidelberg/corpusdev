{
  "nbformat": 4,
  "nbformat_minor": 0,
  "metadata": {
    "colab": {
      "provenance": [],
      "authorship_tag": "ABX9TyMtkhSM/zWZofGlhsT48dWT",
      "include_colab_link": true
    },
    "kernelspec": {
      "name": "python3",
      "display_name": "Python 3"
    },
    "language_info": {
      "name": "python"
    }
  },
  "cells": [
    {
      "cell_type": "markdown",
      "metadata": {
        "id": "view-in-github",
        "colab_type": "text"
      },
      "source": [
        "<a href=\"https://colab.research.google.com/github/iued-uni-heidelberg/corpusdev/blob/main/s101wikipedia_corpus.ipynb\" target=\"_parent\"><img src=\"https://colab.research.google.com/assets/colab-badge.svg\" alt=\"Open In Colab\"/></a>"
      ]
    },
    {
      "cell_type": "markdown",
      "source": [
        "# dowloading a wikipedia corpus\n",
        "- for each language, \n",
        "- creating frequency lists\n",
        "- bootstrapping the internet corpus (e.g., via SketchEngine)\n",
        "\n",
        "## wiki extractor - Apertium\n",
        "- the script which processes wiki dumps"
      ],
      "metadata": {
        "id": "o8i_VEZ2a2rS"
      }
    },
    {
      "cell_type": "code",
      "source": [
        "!wget https://raw.githubusercontent.com/apertium/WikiExtractor/master/WikiExtractor.py"
      ],
      "metadata": {
        "id": "zQc4x6IZnrVE"
      },
      "execution_count": null,
      "outputs": []
    },
    {
      "cell_type": "markdown",
      "source": [
        "## Georgian"
      ],
      "metadata": {
        "id": "JdqwJ2sZbVlX"
      }
    },
    {
      "cell_type": "code",
      "execution_count": 2,
      "metadata": {
        "colab": {
          "base_uri": "https://localhost:8080/"
        },
        "id": "AWdZdXtsavdh",
        "outputId": "60ed6d5f-09b9-42c3-b574-723894afab70"
      },
      "outputs": [
        {
          "output_type": "stream",
          "name": "stdout",
          "text": [
            "--2022-11-19 20:43:05--  https://mirror.accum.se/mirror/wikimedia.org/dumps/kawiki/20221101/kawiki-20221101-pages-articles.xml.bz2\n",
            "Resolving mirror.accum.se (mirror.accum.se)... 194.71.11.163, 194.71.11.165, 194.71.11.173, ...\n",
            "Connecting to mirror.accum.se (mirror.accum.se)|194.71.11.163|:443... connected.\n",
            "HTTP request sent, awaiting response... 302 Found\n",
            "Location: https://saimei.ftp.acc.umu.se/mirror/wikimedia.org/dumps/kawiki/20221101/kawiki-20221101-pages-articles.xml.bz2 [following]\n",
            "--2022-11-19 20:43:06--  https://saimei.ftp.acc.umu.se/mirror/wikimedia.org/dumps/kawiki/20221101/kawiki-20221101-pages-articles.xml.bz2\n",
            "Resolving saimei.ftp.acc.umu.se (saimei.ftp.acc.umu.se)... 194.71.11.138, 2001:6b0:19::138\n",
            "Connecting to saimei.ftp.acc.umu.se (saimei.ftp.acc.umu.se)|194.71.11.138|:443... connected.\n",
            "HTTP request sent, awaiting response... 200 OK\n",
            "Length: 182075232 (174M) [application/x-bzip2]\n",
            "Saving to: ‘kawiki-20221101-pages-articles.xml.bz2’\n",
            "\n",
            "kawiki-20221101-pag 100%[===================>] 173.64M  17.7MB/s    in 11s     \n",
            "\n",
            "2022-11-19 20:43:18 (16.0 MB/s) - ‘kawiki-20221101-pages-articles.xml.bz2’ saved [182075232/182075232]\n",
            "\n"
          ]
        }
      ],
      "source": [
        "# sample\n",
        "# wget https://dumps.wikimedia.org/xyzwiki/20210620/xyzwiki-20210620-pages-articles.xml.bz2\n",
        "# https://mirror.accum.se/mirror/wikimedia.org/dumps/kawiki/20221101/kawiki-20221101-pages-articles.xml.bz2\n",
        "!wget https://mirror.accum.se/mirror/wikimedia.org/dumps/kawiki/20221101/kawiki-20221101-pages-articles.xml.bz2"
      ]
    },
    {
      "cell_type": "code",
      "source": [
        "# python3 WikiExtractor.py --infn xyzwiki-20210620-pages-articles.xml.bz2 --compress\n",
        "!python3 WikiExtractor.py"
      ],
      "metadata": {
        "id": "d2z9hDpPoDOh"
      },
      "execution_count": null,
      "outputs": []
    },
    {
      "cell_type": "code",
      "source": [
        "!python3 WikiExtractor.py --infn kawiki-20221101-pages-articles.xml.bz2"
      ],
      "metadata": {
        "id": "wCAlk-Dioyrm"
      },
      "execution_count": null,
      "outputs": []
    },
    {
      "cell_type": "code",
      "source": [
        "!mv wiki.txt kawiki-20221101-pages-articles.txt"
      ],
      "metadata": {
        "id": "UHHLz9B7qEED"
      },
      "execution_count": 5,
      "outputs": []
    },
    {
      "cell_type": "code",
      "source": [
        "!head -n 10 kawiki-20221101-pages-articles.txt"
      ],
      "metadata": {
        "id": "zldsn7s1qXyg"
      },
      "execution_count": null,
      "outputs": []
    },
    {
      "cell_type": "code",
      "source": [
        "!wc kawiki-20221101-pages-articles.txt"
      ],
      "metadata": {
        "colab": {
          "base_uri": "https://localhost:8080/"
        },
        "id": "eqN2aMCBrAgl",
        "outputId": "85c1fd7c-9712-476d-f6f1-8a305c57c121"
      },
      "execution_count": 8,
      "outputs": [
        {
          "output_type": "stream",
          "name": "stdout",
          "text": [
            "  1072294  23896746 521002360 kawiki-20221101-pages-articles.txt\n"
          ]
        }
      ]
    }
  ]
}