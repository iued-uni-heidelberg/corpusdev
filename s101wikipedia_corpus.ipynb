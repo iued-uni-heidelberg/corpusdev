{
  "nbformat": 4,
  "nbformat_minor": 0,
  "metadata": {
    "colab": {
      "provenance": [],
      "authorship_tag": "ABX9TyPEHXS6tgtBtd+NLd96aw0m",
      "include_colab_link": true
    },
    "kernelspec": {
      "name": "python3",
      "display_name": "Python 3"
    },
    "language_info": {
      "name": "python"
    }
  },
  "cells": [
    {
      "cell_type": "markdown",
      "metadata": {
        "id": "view-in-github",
        "colab_type": "text"
      },
      "source": [
        "<a href=\"https://colab.research.google.com/github/iued-uni-heidelberg/corpusdev/blob/main/s101wikipedia_corpus.ipynb\" target=\"_parent\"><img src=\"https://colab.research.google.com/assets/colab-badge.svg\" alt=\"Open In Colab\"/></a>"
      ]
    },
    {
      "cell_type": "markdown",
      "source": [
        "# dowloading a wikipedia corpus\n",
        "- for each language, \n",
        "- creating frequency lists\n",
        "- bootstrapping the internet corpus (e.g., via SketchEngine)\n",
        "\n",
        "## wiki extractor - Apertium\n",
        "- the script which processes wiki dumps\n",
        "- documentation link: https://wiki.apertium.org/wiki/Wikipedia_Extractor\n"
      ],
      "metadata": {
        "id": "o8i_VEZ2a2rS"
      }
    },
    {
      "cell_type": "code",
      "source": [
        "!wget https://raw.githubusercontent.com/apertium/WikiExtractor/master/WikiExtractor.py"
      ],
      "metadata": {
        "id": "zQc4x6IZnrVE"
      },
      "execution_count": null,
      "outputs": []
    },
    {
      "cell_type": "code",
      "source": [
        "# python3 WikiExtractor.py --infn xyzwiki-20210620-pages-articles.xml.bz2 --compress\n",
        "!python3 WikiExtractor.py"
      ],
      "metadata": {
        "id": "d2z9hDpPoDOh"
      },
      "execution_count": null,
      "outputs": []
    },
    {
      "cell_type": "markdown",
      "source": [
        "### creating a frequency dictionary from corpus\n",
        "- tokenizing\n",
        "- printing frq dictionary\n",
        "- example in https://stackabuse.com/python-for-nlp-creating-bag-of-words-model-from-scratch/\n"
      ],
      "metadata": {
        "id": "DH1szc-_skuj"
      }
    },
    {
      "cell_type": "code",
      "source": [
        "import nltk\n",
        "nltk.download('punkt')\n",
        "import re, sys, os"
      ],
      "metadata": {
        "id": "gRHFVLPW1esD"
      },
      "execution_count": null,
      "outputs": []
    },
    {
      "cell_type": "code",
      "source": [
        "# using example in\n",
        "# https://stackabuse.com/python-for-nlp-creating-bag-of-words-model-from-scratch/\n",
        "\n",
        "\n",
        "\n",
        "def normalizeSent(SentIn):\n",
        "    SentIn = SentIn.lower()\n",
        "    SentIn = re.sub(r'\\W',' ', SentIn)\n",
        "    SentIn = re.sub(r'\\s+',' ', SentIn)\n",
        "    return SentIn\n",
        "\n",
        "\n",
        "def printFrqDict(frqdict, FOut = 'output-frq-dict.txt'):\n",
        "    if not frqdict:\n",
        "        print('frqdict not found')\n",
        "        return\n",
        "\n",
        "    for k, v in sorted(frqdict.items(), key=lambda item: item[1], reverse=True):\n",
        "        FOut.write(f'{k}\\t{v}\\n')\n",
        "    \n",
        "\n",
        "def corp2frq(FIn = None):\n",
        "    wordfreq = {}\n",
        "\n",
        "    if not FIn: \n",
        "        print('input file not specified')\n",
        "        return\n",
        "    j = 0\n",
        "    for SLine in FIn:\n",
        "        j+= 1\n",
        "        # print(str(j))\n",
        "        if j%50000 == 0: print(str(j))\n",
        "\n",
        "        LLineTok = nltk.sent_tokenize(SLine)\n",
        "        for i in range(len(LLineTok)):\n",
        "            LLineTok[i] = normalizeSent(LLineTok[i])\n",
        "\n",
        "\n",
        "        for sentence in LLineTok:\n",
        "            tokens = nltk.word_tokenize(sentence)\n",
        "            for token in tokens:\n",
        "                if token not in wordfreq.keys():\n",
        "                    wordfreq[token] = 1\n",
        "                else:\n",
        "                    wordfreq[token] += 1\n",
        "\n",
        "    return wordfreq\n",
        "\n",
        "\n",
        "\n"
      ],
      "metadata": {
        "id": "FqLja0qRtEF4"
      },
      "execution_count": 4,
      "outputs": []
    },
    {
      "cell_type": "markdown",
      "source": [
        "## Georgian"
      ],
      "metadata": {
        "id": "JdqwJ2sZbVlX"
      }
    },
    {
      "cell_type": "code",
      "execution_count": null,
      "metadata": {
        "id": "AWdZdXtsavdh"
      },
      "outputs": [],
      "source": [
        "# sample\n",
        "# wget https://dumps.wikimedia.org/xyzwiki/20210620/xyzwiki-20210620-pages-articles.xml.bz2\n",
        "# https://mirror.accum.se/mirror/wikimedia.org/dumps/kawiki/20221101/kawiki-20221101-pages-articles.xml.bz2\n",
        "!wget https://mirror.accum.se/mirror/wikimedia.org/dumps/kawiki/20221101/kawiki-20221101-pages-articles.xml.bz2"
      ]
    },
    {
      "cell_type": "code",
      "source": [
        "!python3 WikiExtractor.py --infn kawiki-20221101-pages-articles.xml.bz2"
      ],
      "metadata": {
        "id": "wCAlk-Dioyrm"
      },
      "execution_count": null,
      "outputs": []
    },
    {
      "cell_type": "code",
      "source": [
        "FIn = open('/content/kawiki-20221101-pages-articles.txt', 'r')"
      ],
      "metadata": {
        "id": "ImfjcMBvsx4R"
      },
      "execution_count": null,
      "outputs": []
    },
    {
      "cell_type": "code",
      "source": [
        "FOut = open('/content/kawiki-20221101-frq-dict.txt', 'w')"
      ],
      "metadata": {
        "id": "klG_UyYstPCB"
      },
      "execution_count": null,
      "outputs": []
    },
    {
      "cell_type": "code",
      "source": [
        "wordfreq = corp2frq(FIn)"
      ],
      "metadata": {
        "id": "Qz07jq19yWZh"
      },
      "execution_count": null,
      "outputs": []
    },
    {
      "cell_type": "code",
      "source": [
        "printFrqDict(wordfreq, FOut)"
      ],
      "metadata": {
        "id": "QvJz34Hk3Wiw"
      },
      "execution_count": null,
      "outputs": []
    },
    {
      "cell_type": "code",
      "source": [
        "!wc kawiki-20221101-frq-dict.txt"
      ],
      "metadata": {
        "colab": {
          "base_uri": "https://localhost:8080/"
        },
        "id": "NYQTDW5c3gK5",
        "outputId": "0be3214f-1957-46ec-f272-d2a8509958d8"
      },
      "execution_count": null,
      "outputs": [
        {
          "output_type": "stream",
          "name": "stdout",
          "text": [
            " 1071610  2143218 31160888 kawiki-20221101-frq-dict.txt\n"
          ]
        }
      ]
    },
    {
      "cell_type": "code",
      "source": [
        "!head -n 20 kawiki-20221101-frq-dict.txt"
      ],
      "metadata": {
        "id": "8IqAkpgy317z"
      },
      "execution_count": null,
      "outputs": []
    },
    {
      "cell_type": "code",
      "source": [
        "!gzip kawiki-20221101-pages-articles.txt"
      ],
      "metadata": {
        "id": "am6k-EYd3Alh"
      },
      "execution_count": null,
      "outputs": []
    },
    {
      "cell_type": "code",
      "source": [
        "!gzip kawiki-20221101-frq-dict.txt"
      ],
      "metadata": {
        "id": "CC2eQhLq4jKK"
      },
      "execution_count": null,
      "outputs": []
    },
    {
      "cell_type": "code",
      "source": [
        "!wc kawiki-20221101-pages-articles.txt"
      ],
      "metadata": {
        "colab": {
          "base_uri": "https://localhost:8080/"
        },
        "id": "eqN2aMCBrAgl",
        "outputId": "85c1fd7c-9712-476d-f6f1-8a305c57c121"
      },
      "execution_count": null,
      "outputs": [
        {
          "output_type": "stream",
          "name": "stdout",
          "text": [
            "  1072294  23896746 521002360 kawiki-20221101-pages-articles.txt\n"
          ]
        }
      ]
    },
    {
      "cell_type": "code",
      "source": [
        "!head -n 10 kawiki-20221101-pages-articles.txt"
      ],
      "metadata": {
        "id": "zldsn7s1qXyg"
      },
      "execution_count": null,
      "outputs": []
    },
    {
      "cell_type": "code",
      "source": [
        "!mv wiki.txt kawiki-20221101-pages-articles.txt"
      ],
      "metadata": {
        "id": "UHHLz9B7qEED"
      },
      "execution_count": null,
      "outputs": []
    },
    {
      "cell_type": "code",
      "source": [
        "!awk '$2 >=5 {print $0}' <kawiki-20221101-frq-dict.txt >kawiki-20221101-frq-dict-gt5.txt"
      ],
      "metadata": {
        "id": "B9UUnlC1bZQE"
      },
      "execution_count": null,
      "outputs": []
    },
    {
      "cell_type": "markdown",
      "source": [
        "## Armenian"
      ],
      "metadata": {
        "id": "JUCqo-mm87LG"
      }
    },
    {
      "cell_type": "code",
      "source": [
        "!wget https://mirror.accum.se/mirror/wikimedia.org/dumps/hywiki/20221101/hywiki-20221101-pages-articles.xml.bz2"
      ],
      "metadata": {
        "id": "02fBs4ya9BCa"
      },
      "execution_count": null,
      "outputs": []
    },
    {
      "cell_type": "code",
      "source": [
        "!python3 WikiExtractor.py --infn hywiki-20221101-pages-articles.xml.bz2"
      ],
      "metadata": {
        "id": "zPlNjavB9jrW"
      },
      "execution_count": null,
      "outputs": []
    },
    {
      "cell_type": "code",
      "source": [
        "!mv wiki.txt hywiki-20221101-pages-articles.txt"
      ],
      "metadata": {
        "id": "N5tZsYKT9t3o"
      },
      "execution_count": null,
      "outputs": []
    },
    {
      "cell_type": "code",
      "source": [
        "!wc hywiki-20221101-pages-articles.txt"
      ],
      "metadata": {
        "colab": {
          "base_uri": "https://localhost:8080/"
        },
        "id": "5rCcknrFXr55",
        "outputId": "6c38855f-51cd-4c38-cf26-005bf1eb8c07"
      },
      "execution_count": null,
      "outputs": [
        {
          "output_type": "stream",
          "name": "stdout",
          "text": [
            "  2446411  56341167 803098410 hywiki-20221101-pages-articles.txt\n"
          ]
        }
      ]
    },
    {
      "cell_type": "code",
      "source": [
        "FIn = open('/content/hywiki-20221101-pages-articles.txt', 'r')\n",
        "FOut = open('/content/hywiki-20221101-frq-dict.txt', 'w')\n",
        "wordfreq = corp2frq(FIn)\n",
        "printFrqDict(wordfreq, FOut)\n"
      ],
      "metadata": {
        "id": "9by-drdASv-H"
      },
      "execution_count": null,
      "outputs": []
    },
    {
      "cell_type": "code",
      "source": [
        "!wc hywiki-20221101-frq-dict.txt"
      ],
      "metadata": {
        "colab": {
          "base_uri": "https://localhost:8080/"
        },
        "id": "aWWvzHmAXxVh",
        "outputId": "5f812720-af65-48ec-96bc-99ccdf5fd8ff"
      },
      "execution_count": null,
      "outputs": [
        {
          "output_type": "stream",
          "name": "stdout",
          "text": [
            " 1653538  3307076 33397739 hywiki-20221101-frq-dict.txt\n"
          ]
        }
      ]
    },
    {
      "cell_type": "code",
      "source": [
        "!gzip hywiki-20221101-pages-articles.txt"
      ],
      "metadata": {
        "id": "9W8P7HSEX_TA"
      },
      "execution_count": null,
      "outputs": []
    },
    {
      "cell_type": "code",
      "source": [
        "!gzip hywiki-20221101-frq-dict.txt"
      ],
      "metadata": {
        "id": "_iXD9m5sYLkl"
      },
      "execution_count": null,
      "outputs": []
    },
    {
      "cell_type": "code",
      "source": [
        "!gunzip hywiki-20221101-frq-dict.txt.gz"
      ],
      "metadata": {
        "id": "DUV40a3MbCsB"
      },
      "execution_count": null,
      "outputs": []
    },
    {
      "cell_type": "code",
      "source": [
        "!awk '$2 >=5 {print $0}' <hywiki-20221101-frq-dict.txt >hywiki-20221101-frq-dict-gt5.txt"
      ],
      "metadata": {
        "id": "9CaaAV_TbILn"
      },
      "execution_count": null,
      "outputs": []
    },
    {
      "cell_type": "markdown",
      "source": [
        "## Ukrainian\n",
        "https://mirror.accum.se/mirror/wikimedia.org/dumps/ukwiki/20221101/ukwiki-20221101-pages-articles.xml.bz2\n"
      ],
      "metadata": {
        "id": "-x3G2-PLwBLF"
      }
    },
    {
      "cell_type": "code",
      "source": [
        "!wget https://mirror.accum.se/mirror/wikimedia.org/dumps/ukwiki/20221101/ukwiki-20221101-pages-articles.xml.bz2"
      ],
      "metadata": {
        "colab": {
          "base_uri": "https://localhost:8080/"
        },
        "id": "RGLNBhTYwLCn",
        "outputId": "c385de63-848c-46e9-ff26-c7857953c1d0"
      },
      "execution_count": 5,
      "outputs": [
        {
          "output_type": "stream",
          "name": "stdout",
          "text": [
            "--2022-11-21 10:13:09--  https://mirror.accum.se/mirror/wikimedia.org/dumps/ukwiki/20221101/ukwiki-20221101-pages-articles.xml.bz2\n",
            "Resolving mirror.accum.se (mirror.accum.se)... 194.71.11.165, 194.71.11.173, 194.71.11.163, ...\n",
            "Connecting to mirror.accum.se (mirror.accum.se)|194.71.11.165|:443... connected.\n",
            "HTTP request sent, awaiting response... 302 Found\n",
            "Location: https://laotzu.ftp.acc.umu.se/mirror/wikimedia.org/dumps/ukwiki/20221101/ukwiki-20221101-pages-articles.xml.bz2 [following]\n",
            "--2022-11-21 10:13:10--  https://laotzu.ftp.acc.umu.se/mirror/wikimedia.org/dumps/ukwiki/20221101/ukwiki-20221101-pages-articles.xml.bz2\n",
            "Resolving laotzu.ftp.acc.umu.se (laotzu.ftp.acc.umu.se)... 194.71.11.166, 2001:6b0:19::166\n",
            "Connecting to laotzu.ftp.acc.umu.se (laotzu.ftp.acc.umu.se)|194.71.11.166|:443... connected.\n",
            "HTTP request sent, awaiting response... 200 OK\n",
            "Length: 1972921737 (1.8G) [application/x-bzip2]\n",
            "Saving to: ‘ukwiki-20221101-pages-articles.xml.bz2’\n",
            "\n",
            "ukwiki-20221101-pag 100%[===================>]   1.84G  17.6MB/s    in 1m 50s  \n",
            "\n",
            "2022-11-21 10:15:02 (17.1 MB/s) - ‘ukwiki-20221101-pages-articles.xml.bz2’ saved [1972921737/1972921737]\n",
            "\n"
          ]
        }
      ]
    },
    {
      "cell_type": "code",
      "source": [
        "!python3 WikiExtractor.py --infn ukwiki-20221101-pages-articles.xml.bz2"
      ],
      "metadata": {
        "id": "F5_fnaQzwEWz"
      },
      "execution_count": null,
      "outputs": []
    },
    {
      "cell_type": "markdown",
      "source": [
        "\n",
        "* 4714028 Вінтер (стадіон)\n",
        "* 4714037 Гетеренгелеві\n",
        "* 4714045 BMW X3 (F25)\n",
        "* 4714048 Lustra (band)\n",
        "* 4714053 Брайкович\n",
        "* 4714067 Обвалення пішохідного мосту у Морві\n",
        "* 4714073 Вікі Перец\n",
        "* 4714074 Микитенко Валерій Миколайович\n",
        "* 4714077 The Witcher (серія відеоігор)\n",
        "* 4714083 Втрати кадирівців\n",
        "* 4714088 Москович Вольф Абрамович\n",
        "* 4714089 Шалом Тіква\n",
        "* 4714094 Isuzu Gemini\n",
        "* 4714097 Sterling Trucks\n",
        "* 4714098 Муніципальний стадіон (Герцлія)\n",
        "* 4714103 Кобзар Федір Федорович\n",
        "* 4714107 BMW X3 (G01)\n",
        "* 4714109 Юрісанді Ернандес\n",
        "* 4714116 Карлос Муньйос (борець)\n",
        "* 4714118 Бібліографія Браяна Олдіса\n",
        "* 4714127 Філатов Іван Миколайович\n",
        "* 4714129 Письмова мова\n",
        "* 4714130 Жан Ґрібомон\n",
        "* 4714136 Паяса\n",
        "* 4714140 Длугашевський Костянтин Наумович\n",
        "* 4714145 Дачан-Хуейський автономний повіт\n",
        "* 4714146 Лужицька міфологія\n",
        "* 4714149 Дике поле (пісня)\n",
        "* 4714154 Їтун-Маньчжурський автономний повіт\n",
        "* 4714157 Dig, Lazarus, Dig!!!\n",
        "* 4714166 Первісний потяг\n",
        "\n"
      ],
      "metadata": {
        "id": "pk7yOyHZ8fnx"
      }
    },
    {
      "cell_type": "code",
      "source": [
        "!mv wiki.txt ukwiki-20221101-pages-articles.txt"
      ],
      "metadata": {
        "id": "_u1H4qhnwZD6"
      },
      "execution_count": 7,
      "outputs": []
    },
    {
      "cell_type": "code",
      "source": [
        "!wc ukwiki-20221101-pages-articles.txt"
      ],
      "metadata": {
        "colab": {
          "base_uri": "https://localhost:8080/"
        },
        "id": "NEGeR4FFwhIj",
        "outputId": "7a5f6fc5-0cf8-4fcd-887f-63892cda52c5"
      },
      "execution_count": 8,
      "outputs": [
        {
          "output_type": "stream",
          "name": "stdout",
          "text": [
            "  11762870  250966568 3298225702 ukwiki-20221101-pages-articles.txt\n"
          ]
        }
      ]
    },
    {
      "cell_type": "code",
      "source": [
        "!cp ukwiki-20221101-pages-articles.txt ukwiki-20221101-pages-articles2.txt"
      ],
      "metadata": {
        "id": "gGDj0CH882yu"
      },
      "execution_count": null,
      "outputs": []
    },
    {
      "cell_type": "code",
      "source": [
        "!gzip ukwiki-20221101-pages-articles2.txt"
      ],
      "metadata": {
        "id": "_U7sD5H386tQ"
      },
      "execution_count": null,
      "outputs": []
    },
    {
      "cell_type": "code",
      "source": [
        "FIn = open('/content/ukwiki-20221101-pages-articles.txt', 'r')\n",
        "FOut = open('/content/ukwiki-20221101-frq-dict.txt', 'w')\n",
        "wordfreq = corp2frq(FIn)\n",
        "printFrqDict(wordfreq, FOut)"
      ],
      "metadata": {
        "id": "OulgrLD3wm2g"
      },
      "execution_count": null,
      "outputs": []
    },
    {
      "cell_type": "code",
      "source": [
        "!wc ukwiki-20221101-frq-dict.txt"
      ],
      "metadata": {
        "id": "rn1TPl499o-w",
        "outputId": "1587e3ec-17ac-4623-bc52-2aa04227ec92",
        "colab": {
          "base_uri": "https://localhost:8080/"
        }
      },
      "execution_count": 10,
      "outputs": [
        {
          "output_type": "stream",
          "name": "stdout",
          "text": [
            " 3761114  7522228 73900534 ukwiki-20221101-frq-dict.txt\n"
          ]
        }
      ]
    },
    {
      "cell_type": "code",
      "source": [
        "!awk '$2 >=5 {print $0}' <ukwiki-20221101-frq-dict.txt >ukwiki-20221101-frq-dict-gt5.txt"
      ],
      "metadata": {
        "id": "psd5RTDyLbw6"
      },
      "execution_count": 11,
      "outputs": []
    },
    {
      "cell_type": "code",
      "source": [
        "!wc ukwiki-20221101-frq-dict-gt5.txt"
      ],
      "metadata": {
        "id": "ApM_XQPfLq7i",
        "outputId": "e8ed7ddf-71a5-40b2-ea0e-f4494c335109",
        "colab": {
          "base_uri": "https://localhost:8080/"
        }
      },
      "execution_count": 12,
      "outputs": [
        {
          "output_type": "stream",
          "name": "stdout",
          "text": [
            "  926785  1853570 18587176 ukwiki-20221101-frq-dict-gt5.txt\n"
          ]
        }
      ]
    },
    {
      "cell_type": "code",
      "source": [
        "!gzip ukwiki-20221101-frq-dict.txt"
      ],
      "metadata": {
        "id": "UCGeVo_U90Dn"
      },
      "execution_count": 13,
      "outputs": []
    }
  ]
}