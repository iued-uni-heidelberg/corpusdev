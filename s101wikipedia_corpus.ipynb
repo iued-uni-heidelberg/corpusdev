{
  "nbformat": 4,
  "nbformat_minor": 0,
  "metadata": {
    "colab": {
      "provenance": [],
      "authorship_tag": "ABX9TyOnVOEf5fzyg02A/MVp5hNZ",
      "include_colab_link": true
    },
    "kernelspec": {
      "name": "python3",
      "display_name": "Python 3"
    },
    "language_info": {
      "name": "python"
    }
  },
  "cells": [
    {
      "cell_type": "markdown",
      "metadata": {
        "id": "view-in-github",
        "colab_type": "text"
      },
      "source": [
        "<a href=\"https://colab.research.google.com/github/iued-uni-heidelberg/corpusdev/blob/main/s101wikipedia_corpus.ipynb\" target=\"_parent\"><img src=\"https://colab.research.google.com/assets/colab-badge.svg\" alt=\"Open In Colab\"/></a>"
      ]
    },
    {
      "cell_type": "markdown",
      "source": [
        "# dowloading a wikipedia corpus\n",
        "- for each language, \n",
        "- creating frequency lists\n",
        "- bootstrapping the internet corpus (e.g., via SketchEngine)\n",
        "\n",
        "## wiki extractor - Apertium\n",
        "- the script which processes wiki dumps\n",
        "- documentation link: https://wiki.apertium.org/wiki/Wikipedia_Extractor\n"
      ],
      "metadata": {
        "id": "o8i_VEZ2a2rS"
      }
    },
    {
      "cell_type": "code",
      "source": [
        "!wget https://raw.githubusercontent.com/apertium/WikiExtractor/master/WikiExtractor.py"
      ],
      "metadata": {
        "id": "zQc4x6IZnrVE"
      },
      "execution_count": null,
      "outputs": []
    },
    {
      "cell_type": "markdown",
      "source": [
        "## Georgian"
      ],
      "metadata": {
        "id": "JdqwJ2sZbVlX"
      }
    },
    {
      "cell_type": "code",
      "execution_count": null,
      "metadata": {
        "id": "AWdZdXtsavdh"
      },
      "outputs": [],
      "source": [
        "# sample\n",
        "# wget https://dumps.wikimedia.org/xyzwiki/20210620/xyzwiki-20210620-pages-articles.xml.bz2\n",
        "# https://mirror.accum.se/mirror/wikimedia.org/dumps/kawiki/20221101/kawiki-20221101-pages-articles.xml.bz2\n",
        "!wget https://mirror.accum.se/mirror/wikimedia.org/dumps/kawiki/20221101/kawiki-20221101-pages-articles.xml.bz2"
      ]
    },
    {
      "cell_type": "code",
      "source": [
        "# python3 WikiExtractor.py --infn xyzwiki-20210620-pages-articles.xml.bz2 --compress\n",
        "!python3 WikiExtractor.py"
      ],
      "metadata": {
        "id": "d2z9hDpPoDOh"
      },
      "execution_count": null,
      "outputs": []
    },
    {
      "cell_type": "code",
      "source": [
        "!python3 WikiExtractor.py --infn kawiki-20221101-pages-articles.xml.bz2"
      ],
      "metadata": {
        "id": "wCAlk-Dioyrm"
      },
      "execution_count": null,
      "outputs": []
    },
    {
      "cell_type": "code",
      "source": [
        "!mv wiki.txt kawiki-20221101-pages-articles.txt"
      ],
      "metadata": {
        "id": "UHHLz9B7qEED"
      },
      "execution_count": 5,
      "outputs": []
    },
    {
      "cell_type": "code",
      "source": [
        "!head -n 10 kawiki-20221101-pages-articles.txt"
      ],
      "metadata": {
        "id": "zldsn7s1qXyg"
      },
      "execution_count": null,
      "outputs": []
    },
    {
      "cell_type": "code",
      "source": [
        "!wc kawiki-20221101-pages-articles.txt"
      ],
      "metadata": {
        "colab": {
          "base_uri": "https://localhost:8080/"
        },
        "id": "eqN2aMCBrAgl",
        "outputId": "85c1fd7c-9712-476d-f6f1-8a305c57c121"
      },
      "execution_count": 8,
      "outputs": [
        {
          "output_type": "stream",
          "name": "stdout",
          "text": [
            "  1072294  23896746 521002360 kawiki-20221101-pages-articles.txt\n"
          ]
        }
      ]
    },
    {
      "cell_type": "markdown",
      "source": [
        "### creating a frequency dictionary from corpus\n",
        "- tokenizing\n",
        "- printing frq dictionary\n",
        "- example in https://stackabuse.com/python-for-nlp-creating-bag-of-words-model-from-scratch/\n"
      ],
      "metadata": {
        "id": "DH1szc-_skuj"
      }
    },
    {
      "cell_type": "code",
      "source": [
        "import nltk\n",
        "nltk.download('punkt')\n",
        "import re, sys, os"
      ],
      "metadata": {
        "id": "gRHFVLPW1esD"
      },
      "execution_count": null,
      "outputs": []
    },
    {
      "cell_type": "code",
      "source": [
        "# using example in\n",
        "# https://stackabuse.com/python-for-nlp-creating-bag-of-words-model-from-scratch/\n",
        "\n",
        "\n",
        "\n",
        "def normalizeSent(SentIn):\n",
        "    SentIn = SentIn.lower()\n",
        "    SentIn = re.sub(r'\\W',' ', SentIn)\n",
        "    SentIn = re.sub(r'\\s+',' ', SentIn)\n",
        "    return SentIn\n",
        "\n",
        "\n",
        "def printFrqDict(frqdict, FOut = 'output-frq-dict.txt'):\n",
        "    if not frqdict:\n",
        "        print('frqdict not found')\n",
        "        return\n",
        "\n",
        "    for k, v in sorted(frqdict.items(), key=lambda item: item[1], reverse=True):\n",
        "        FOut.write(f'{k}\\t{v}\\n')\n",
        "    \n",
        "\n",
        "def corp2frq(FIn = None):\n",
        "    wordfreq = {}\n",
        "\n",
        "    if not FIn: \n",
        "        print('input file not specified')\n",
        "        return\n",
        "    j = 0\n",
        "    for SLine in FIn:\n",
        "        j+= 1\n",
        "        # print(str(j))\n",
        "        if j%50000 == 0: print(str(j))\n",
        "\n",
        "        LLineTok = nltk.sent_tokenize(SLine)\n",
        "        for i in range(len(LLineTok)):\n",
        "            LLineTok[i] = normalizeSent(LLineTok[i])\n",
        "\n",
        "\n",
        "        for sentence in LLineTok:\n",
        "            tokens = nltk.word_tokenize(sentence)\n",
        "            for token in tokens:\n",
        "                if token not in wordfreq.keys():\n",
        "                    wordfreq[token] = 1\n",
        "                else:\n",
        "                    wordfreq[token] += 1\n",
        "\n",
        "    return wordfreq\n",
        "\n",
        "\n",
        "\n"
      ],
      "metadata": {
        "id": "FqLja0qRtEF4"
      },
      "execution_count": 47,
      "outputs": []
    },
    {
      "cell_type": "code",
      "source": [
        "FIn = open('/content/kawiki-20221101-pages-articles.txt', 'r')"
      ],
      "metadata": {
        "id": "ImfjcMBvsx4R"
      },
      "execution_count": 48,
      "outputs": []
    },
    {
      "cell_type": "code",
      "source": [
        "FOut = open('/content/kawiki-20221101-frq-dict.txt', 'w')"
      ],
      "metadata": {
        "id": "klG_UyYstPCB"
      },
      "execution_count": 49,
      "outputs": []
    },
    {
      "cell_type": "code",
      "source": [
        "wordfreq = corp2frq(FIn)"
      ],
      "metadata": {
        "id": "Qz07jq19yWZh"
      },
      "execution_count": null,
      "outputs": []
    },
    {
      "cell_type": "code",
      "source": [
        "printFrqDict(wordfreq, FOut)"
      ],
      "metadata": {
        "id": "QvJz34Hk3Wiw"
      },
      "execution_count": 51,
      "outputs": []
    },
    {
      "cell_type": "code",
      "source": [
        "!wc kawiki-20221101-frq-dict.txt"
      ],
      "metadata": {
        "colab": {
          "base_uri": "https://localhost:8080/"
        },
        "id": "NYQTDW5c3gK5",
        "outputId": "0be3214f-1957-46ec-f272-d2a8509958d8"
      },
      "execution_count": 52,
      "outputs": [
        {
          "output_type": "stream",
          "name": "stdout",
          "text": [
            " 1071610  2143218 31160888 kawiki-20221101-frq-dict.txt\n"
          ]
        }
      ]
    },
    {
      "cell_type": "code",
      "source": [
        "!head -n 20 kawiki-20221101-frq-dict.txt"
      ],
      "metadata": {
        "id": "8IqAkpgy317z"
      },
      "execution_count": null,
      "outputs": []
    },
    {
      "cell_type": "code",
      "source": [
        "!gzip kawiki-20221101-pages-articles.txt"
      ],
      "metadata": {
        "id": "am6k-EYd3Alh"
      },
      "execution_count": 55,
      "outputs": []
    },
    {
      "cell_type": "code",
      "source": [
        "!gzip kawiki-20221101-frq-dict.txt"
      ],
      "metadata": {
        "id": "CC2eQhLq4jKK"
      },
      "execution_count": 56,
      "outputs": []
    }
  ]
}