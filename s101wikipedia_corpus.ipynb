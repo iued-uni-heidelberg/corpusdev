{
  "nbformat": 4,
  "nbformat_minor": 0,
  "metadata": {
    "colab": {
      "provenance": [],
      "authorship_tag": "ABX9TyPQY/2o8ZLlajRxXrZO0x00",
      "include_colab_link": true
    },
    "kernelspec": {
      "name": "python3",
      "display_name": "Python 3"
    },
    "language_info": {
      "name": "python"
    }
  },
  "cells": [
    {
      "cell_type": "markdown",
      "metadata": {
        "id": "view-in-github",
        "colab_type": "text"
      },
      "source": [
        "<a href=\"https://colab.research.google.com/github/iued-uni-heidelberg/corpusdev/blob/main/s101wikipedia_corpus.ipynb\" target=\"_parent\"><img src=\"https://colab.research.google.com/assets/colab-badge.svg\" alt=\"Open In Colab\"/></a>"
      ]
    },
    {
      "cell_type": "markdown",
      "source": [
        "# dowloading a wikipedia corpus\n",
        "- for each language, \n",
        "- creating frequency lists\n",
        "- bootstrapping the internet corpus (e.g., via SketchEngine)\n",
        "\n",
        "## wiki extractor - Apertium\n",
        "- the script which processes wiki dumps\n",
        "- documentation link: https://wiki.apertium.org/wiki/Wikipedia_Extractor\n"
      ],
      "metadata": {
        "id": "o8i_VEZ2a2rS"
      }
    },
    {
      "cell_type": "code",
      "source": [
        "!wget https://raw.githubusercontent.com/apertium/WikiExtractor/master/WikiExtractor.py"
      ],
      "metadata": {
        "id": "zQc4x6IZnrVE"
      },
      "execution_count": null,
      "outputs": []
    },
    {
      "cell_type": "code",
      "source": [
        "# python3 WikiExtractor.py --infn xyzwiki-20210620-pages-articles.xml.bz2 --compress\n",
        "!python3 WikiExtractor.py"
      ],
      "metadata": {
        "id": "d2z9hDpPoDOh"
      },
      "execution_count": null,
      "outputs": []
    },
    {
      "cell_type": "markdown",
      "source": [
        "### creating a frequency dictionary from corpus\n",
        "- tokenizing\n",
        "- printing frq dictionary\n",
        "- example in https://stackabuse.com/python-for-nlp-creating-bag-of-words-model-from-scratch/\n"
      ],
      "metadata": {
        "id": "DH1szc-_skuj"
      }
    },
    {
      "cell_type": "code",
      "source": [
        "import nltk\n",
        "nltk.download('punkt')\n",
        "import re, sys, os"
      ],
      "metadata": {
        "colab": {
          "base_uri": "https://localhost:8080/"
        },
        "id": "gRHFVLPW1esD",
        "outputId": "b7b12e23-56da-4ef2-82ab-1448ca0219f0"
      },
      "execution_count": 6,
      "outputs": [
        {
          "output_type": "stream",
          "name": "stderr",
          "text": [
            "[nltk_data] Downloading package punkt to /root/nltk_data...\n",
            "[nltk_data]   Unzipping tokenizers/punkt.zip.\n"
          ]
        }
      ]
    },
    {
      "cell_type": "code",
      "source": [
        "# using example in\n",
        "# https://stackabuse.com/python-for-nlp-creating-bag-of-words-model-from-scratch/\n",
        "\n",
        "\n",
        "\n",
        "def normalizeSent(SentIn):\n",
        "    SentIn = SentIn.lower()\n",
        "    SentIn = re.sub(r'\\W',' ', SentIn)\n",
        "    SentIn = re.sub(r'\\s+',' ', SentIn)\n",
        "    return SentIn\n",
        "\n",
        "\n",
        "def printFrqDict(frqdict, FOut = 'output-frq-dict.txt'):\n",
        "    if not frqdict:\n",
        "        print('frqdict not found')\n",
        "        return\n",
        "\n",
        "    for k, v in sorted(frqdict.items(), key=lambda item: item[1], reverse=True):\n",
        "        FOut.write(f'{k}\\t{v}\\n')\n",
        "    \n",
        "\n",
        "def corp2frq(FIn = None):\n",
        "    wordfreq = {}\n",
        "\n",
        "    if not FIn: \n",
        "        print('input file not specified')\n",
        "        return\n",
        "    j = 0\n",
        "    for SLine in FIn:\n",
        "        j+= 1\n",
        "        # print(str(j))\n",
        "        if j%50000 == 0: print(str(j))\n",
        "\n",
        "        LLineTok = nltk.sent_tokenize(SLine)\n",
        "        for i in range(len(LLineTok)):\n",
        "            LLineTok[i] = normalizeSent(LLineTok[i])\n",
        "\n",
        "\n",
        "        for sentence in LLineTok:\n",
        "            tokens = nltk.word_tokenize(sentence)\n",
        "            for token in tokens:\n",
        "                if token not in wordfreq.keys():\n",
        "                    wordfreq[token] = 1\n",
        "                else:\n",
        "                    wordfreq[token] += 1\n",
        "\n",
        "    return wordfreq\n",
        "\n",
        "\n",
        "\n"
      ],
      "metadata": {
        "id": "FqLja0qRtEF4"
      },
      "execution_count": 7,
      "outputs": []
    },
    {
      "cell_type": "markdown",
      "source": [
        "## Georgian"
      ],
      "metadata": {
        "id": "JdqwJ2sZbVlX"
      }
    },
    {
      "cell_type": "code",
      "execution_count": null,
      "metadata": {
        "id": "AWdZdXtsavdh"
      },
      "outputs": [],
      "source": [
        "# sample\n",
        "# wget https://dumps.wikimedia.org/xyzwiki/20210620/xyzwiki-20210620-pages-articles.xml.bz2\n",
        "# https://mirror.accum.se/mirror/wikimedia.org/dumps/kawiki/20221101/kawiki-20221101-pages-articles.xml.bz2\n",
        "!wget https://mirror.accum.se/mirror/wikimedia.org/dumps/kawiki/20221101/kawiki-20221101-pages-articles.xml.bz2"
      ]
    },
    {
      "cell_type": "code",
      "source": [
        "!python3 WikiExtractor.py --infn kawiki-20221101-pages-articles.xml.bz2"
      ],
      "metadata": {
        "id": "wCAlk-Dioyrm"
      },
      "execution_count": null,
      "outputs": []
    },
    {
      "cell_type": "code",
      "source": [
        "FIn = open('/content/kawiki-20221101-pages-articles.txt', 'r')"
      ],
      "metadata": {
        "id": "ImfjcMBvsx4R"
      },
      "execution_count": 48,
      "outputs": []
    },
    {
      "cell_type": "code",
      "source": [
        "FOut = open('/content/kawiki-20221101-frq-dict.txt', 'w')"
      ],
      "metadata": {
        "id": "klG_UyYstPCB"
      },
      "execution_count": 49,
      "outputs": []
    },
    {
      "cell_type": "code",
      "source": [
        "wordfreq = corp2frq(FIn)"
      ],
      "metadata": {
        "id": "Qz07jq19yWZh"
      },
      "execution_count": null,
      "outputs": []
    },
    {
      "cell_type": "code",
      "source": [
        "printFrqDict(wordfreq, FOut)"
      ],
      "metadata": {
        "id": "QvJz34Hk3Wiw"
      },
      "execution_count": 51,
      "outputs": []
    },
    {
      "cell_type": "code",
      "source": [
        "!wc kawiki-20221101-frq-dict.txt"
      ],
      "metadata": {
        "colab": {
          "base_uri": "https://localhost:8080/"
        },
        "id": "NYQTDW5c3gK5",
        "outputId": "0be3214f-1957-46ec-f272-d2a8509958d8"
      },
      "execution_count": 52,
      "outputs": [
        {
          "output_type": "stream",
          "name": "stdout",
          "text": [
            " 1071610  2143218 31160888 kawiki-20221101-frq-dict.txt\n"
          ]
        }
      ]
    },
    {
      "cell_type": "code",
      "source": [
        "!head -n 20 kawiki-20221101-frq-dict.txt"
      ],
      "metadata": {
        "id": "8IqAkpgy317z"
      },
      "execution_count": null,
      "outputs": []
    },
    {
      "cell_type": "code",
      "source": [
        "!gzip kawiki-20221101-pages-articles.txt"
      ],
      "metadata": {
        "id": "am6k-EYd3Alh"
      },
      "execution_count": 55,
      "outputs": []
    },
    {
      "cell_type": "code",
      "source": [
        "!gzip kawiki-20221101-frq-dict.txt"
      ],
      "metadata": {
        "id": "CC2eQhLq4jKK"
      },
      "execution_count": 56,
      "outputs": []
    },
    {
      "cell_type": "code",
      "source": [
        "!wc kawiki-20221101-pages-articles.txt"
      ],
      "metadata": {
        "colab": {
          "base_uri": "https://localhost:8080/"
        },
        "id": "eqN2aMCBrAgl",
        "outputId": "85c1fd7c-9712-476d-f6f1-8a305c57c121"
      },
      "execution_count": 8,
      "outputs": [
        {
          "output_type": "stream",
          "name": "stdout",
          "text": [
            "  1072294  23896746 521002360 kawiki-20221101-pages-articles.txt\n"
          ]
        }
      ]
    },
    {
      "cell_type": "code",
      "source": [
        "!head -n 10 kawiki-20221101-pages-articles.txt"
      ],
      "metadata": {
        "id": "zldsn7s1qXyg"
      },
      "execution_count": null,
      "outputs": []
    },
    {
      "cell_type": "code",
      "source": [
        "!mv wiki.txt kawiki-20221101-pages-articles.txt"
      ],
      "metadata": {
        "id": "UHHLz9B7qEED"
      },
      "execution_count": 5,
      "outputs": []
    },
    {
      "cell_type": "code",
      "source": [
        "!awk '$2 >=5 {print $0}' <kawiki-20221101-frq-dict.txt >kawiki-20221101-frq-dict-gt5.txt"
      ],
      "metadata": {
        "id": "B9UUnlC1bZQE"
      },
      "execution_count": null,
      "outputs": []
    },
    {
      "cell_type": "markdown",
      "source": [
        "## Armenian"
      ],
      "metadata": {
        "id": "JUCqo-mm87LG"
      }
    },
    {
      "cell_type": "code",
      "source": [
        "!wget https://mirror.accum.se/mirror/wikimedia.org/dumps/hywiki/20221101/hywiki-20221101-pages-articles.xml.bz2"
      ],
      "metadata": {
        "id": "02fBs4ya9BCa"
      },
      "execution_count": null,
      "outputs": []
    },
    {
      "cell_type": "code",
      "source": [
        "!python3 WikiExtractor.py --infn hywiki-20221101-pages-articles.xml.bz2"
      ],
      "metadata": {
        "id": "zPlNjavB9jrW"
      },
      "execution_count": null,
      "outputs": []
    },
    {
      "cell_type": "code",
      "source": [
        "!mv wiki.txt hywiki-20221101-pages-articles.txt"
      ],
      "metadata": {
        "id": "N5tZsYKT9t3o"
      },
      "execution_count": 5,
      "outputs": []
    },
    {
      "cell_type": "code",
      "source": [
        "!wc hywiki-20221101-pages-articles.txt"
      ],
      "metadata": {
        "colab": {
          "base_uri": "https://localhost:8080/"
        },
        "id": "5rCcknrFXr55",
        "outputId": "6c38855f-51cd-4c38-cf26-005bf1eb8c07"
      },
      "execution_count": 9,
      "outputs": [
        {
          "output_type": "stream",
          "name": "stdout",
          "text": [
            "  2446411  56341167 803098410 hywiki-20221101-pages-articles.txt\n"
          ]
        }
      ]
    },
    {
      "cell_type": "code",
      "source": [
        "FIn = open('/content/hywiki-20221101-pages-articles.txt', 'r')\n",
        "FOut = open('/content/hywiki-20221101-frq-dict.txt', 'w')\n",
        "wordfreq = corp2frq(FIn)\n",
        "printFrqDict(wordfreq, FOut)\n"
      ],
      "metadata": {
        "id": "9by-drdASv-H"
      },
      "execution_count": null,
      "outputs": []
    },
    {
      "cell_type": "code",
      "source": [
        "!wc hywiki-20221101-frq-dict.txt"
      ],
      "metadata": {
        "colab": {
          "base_uri": "https://localhost:8080/"
        },
        "id": "aWWvzHmAXxVh",
        "outputId": "5f812720-af65-48ec-96bc-99ccdf5fd8ff"
      },
      "execution_count": 10,
      "outputs": [
        {
          "output_type": "stream",
          "name": "stdout",
          "text": [
            " 1653538  3307076 33397739 hywiki-20221101-frq-dict.txt\n"
          ]
        }
      ]
    },
    {
      "cell_type": "code",
      "source": [
        "!gzip hywiki-20221101-pages-articles.txt"
      ],
      "metadata": {
        "id": "9W8P7HSEX_TA"
      },
      "execution_count": 12,
      "outputs": []
    },
    {
      "cell_type": "code",
      "source": [
        "!gzip hywiki-20221101-frq-dict.txt"
      ],
      "metadata": {
        "id": "_iXD9m5sYLkl"
      },
      "execution_count": 13,
      "outputs": []
    },
    {
      "cell_type": "code",
      "source": [
        "!gunzip hywiki-20221101-frq-dict.txt.gz"
      ],
      "metadata": {
        "id": "DUV40a3MbCsB"
      },
      "execution_count": 14,
      "outputs": []
    },
    {
      "cell_type": "code",
      "source": [
        "!awk '$2 >=5 {print $0}' <hywiki-20221101-frq-dict.txt >hywiki-20221101-frq-dict-gt5.txt"
      ],
      "metadata": {
        "id": "9CaaAV_TbILn"
      },
      "execution_count": 15,
      "outputs": []
    },
    {
      "cell_type": "markdown",
      "source": [
        "## Ukrainian\n",
        "https://mirror.accum.se/mirror/wikimedia.org/dumps/ukwiki/20221101/ukwiki-20221101-pages-articles.xml.bz2\n"
      ],
      "metadata": {
        "id": "-x3G2-PLwBLF"
      }
    },
    {
      "cell_type": "code",
      "source": [
        "!wget https://mirror.accum.se/mirror/wikimedia.org/dumps/ukwiki/20221101/ukwiki-20221101-pages-articles.xml.bz2"
      ],
      "metadata": {
        "colab": {
          "base_uri": "https://localhost:8080/"
        },
        "id": "RGLNBhTYwLCn",
        "outputId": "62985dc2-c5e4-46f5-d2d5-bd8f0cad661e"
      },
      "execution_count": 16,
      "outputs": [
        {
          "output_type": "stream",
          "name": "stdout",
          "text": [
            "--2022-11-20 20:35:46--  https://mirror.accum.se/mirror/wikimedia.org/dumps/ukwiki/20221101/ukwiki-20221101-pages-articles.xml.bz2\n",
            "Resolving mirror.accum.se (mirror.accum.se)... 194.71.11.165, 194.71.11.173, 194.71.11.163, ...\n",
            "Connecting to mirror.accum.se (mirror.accum.se)|194.71.11.165|:443... connected.\n",
            "HTTP request sent, awaiting response... 302 Found\n",
            "Location: https://laotzu.ftp.acc.umu.se/mirror/wikimedia.org/dumps/ukwiki/20221101/ukwiki-20221101-pages-articles.xml.bz2 [following]\n",
            "--2022-11-20 20:35:47--  https://laotzu.ftp.acc.umu.se/mirror/wikimedia.org/dumps/ukwiki/20221101/ukwiki-20221101-pages-articles.xml.bz2\n",
            "Resolving laotzu.ftp.acc.umu.se (laotzu.ftp.acc.umu.se)... 194.71.11.166, 2001:6b0:19::166\n",
            "Connecting to laotzu.ftp.acc.umu.se (laotzu.ftp.acc.umu.se)|194.71.11.166|:443... connected.\n",
            "HTTP request sent, awaiting response... 200 OK\n",
            "Length: 1972921737 (1.8G) [application/x-bzip2]\n",
            "Saving to: ‘ukwiki-20221101-pages-articles.xml.bz2’\n",
            "\n",
            "ukwiki-20221101-pag 100%[===================>]   1.84G  18.7MB/s    in 1m 45s  \n",
            "\n",
            "2022-11-20 20:37:34 (17.9 MB/s) - ‘ukwiki-20221101-pages-articles.xml.bz2’ saved [1972921737/1972921737]\n",
            "\n"
          ]
        }
      ]
    },
    {
      "cell_type": "code",
      "source": [
        "!python3 WikiExtractor.py --infn ukwiki-20221101-pages-articles.xml.bz2"
      ],
      "metadata": {
        "id": "F5_fnaQzwEWz"
      },
      "execution_count": null,
      "outputs": []
    },
    {
      "cell_type": "markdown",
      "source": [
        "4713225 Джастіс Вінслоу\n",
        "4713227 Ilex opaca\n",
        "4713232 Ilex pedunculosa\n",
        "4713239 Олекса Берест\n",
        "4713241 Черепухін Семен Іванович\n",
        "4713242 Ilex pubescens\n",
        "4713244 Каган Мойсей\n",
        "4713249 Мечеть Омара (Єрусалим)\n",
        "4713252 Тамір Коен\n",
        "4713255 Дослідна станція тютюнництва\n",
        "4713258 Ткаченко Уляна Юріївна\n",
        "4713286 Соколовський Андрій Андрійович\n",
        "4713287 Гіпотеза Піллаї\n",
        "4713289 Анна Сибілла Шварцбург-Рудольштадтська\n",
        "4713290 Бікмурзін Олександр Олександрович\n",
        "4713294 Марчук Валентин Мефодійович\n",
        "4713301 Горбун Сергій Вікторович\n",
        "4713306 Дацків Михайло Ярославович\n",
        "4713308 Чути гімн\n",
        "4713310 Stumpffia lynnae\n",
        "4713314 Софія Шварцбург-Рудольштадтська\n",
        "4713318 Polypogon gryphalis\n",
        "4713322 Дельцов Леонід Олександрович\n",
        "4713328 Активне рульове управління\n",
        "4713329 Кольорова сіль\n",
        "4713330 Бікмурзін\n",
        "4713331 Горбун\n",
        "4713332 Воллес (прізвище)\n",
        "4713334 Воллес (ім'я)\n",
        "4713335 Сисоєв Євген Євгенович\n",
        "4713336 Дацків\n",
        "4713340 Дельцов\n",
        "4713342 Війна з ломбардцями (1228—1243)\n",
        "4713346 BMW X6 (E71)\n",
        "4713358 ДНК (роман)\n",
        "4713361 Chlorestes\n",
        "4713362 Chionomesa\n",
        "4713363 Аріан венесуельський\n",
        "4713364 Аріан сапфіровогорлий\n",
        "4713365 Колібрі кордильєрський\n",
        "4713366 Колібрі багряногорлий\n",
        "4713367 Колібрі плямистоволий\n",
        "4713368 Колібрі-тонкодзьоб вилохвостий\n",
        "4713369 Колібрі-ангел синьоголовий\n",
        "4713370 Колібрі-ангел біловусий\n",
        "4713371 Колібрі-ангел фіолетововусий\n",
        "4713372 Колібрі-ангел синьогрудий\n",
        "4713401 Саланов Олексій Михайлович\n",
        "4713438 Крістіан Чукву\n",
        "4713444 Тернер (стадіон)\n",
        "4713446 Чукву\n",
        "4713452 Казнов Федір Васильович\n",
        "4713464 Ilex rarasanensis\n",
        "4713466 Ґерд Брантенберґ\n",
        "4713469 Ilex rotunda\n",
        "4713472 Крізь браму срібного ключа\n",
        "4713476 Бурдаков Олександр Степанович\n",
        "4713481 Ітамар Швіро\n",
        "4713492 Ilex suzukii\n",
        "4713493 Кулагін Іван Юхимович\n",
        "4713499 Ilex tugitakayamensis\n",
        "4713504 Станція Внизу\n",
        "4713506 Cambeva gamabelardense\n",
        "4713512 Halcyon gularis\n",
        "4713515 Сеїтов Піржан\n",
        "4713518 Альціон яванський\n",
        "4713523 Софія Саксен-Лауенбурзька (1521–1571)\n",
        "4713529 Альціон каштановий\n",
        "4713536 Давид Ноланд\n",
        "4713537 Лакепа\n",
        "4713540 Альціон сіроголовий\n",
        "4713545 Альціон буроголовий\n",
        "4713550 Альціон малий\n",
        "4713553 Cyrtodactylus monilatus\n",
        "4713555 Іванова Алла Данилівна\n",
        "4713570 Манюков Михайло Миколайович\n",
        "4713578 Колесник Володимир Артемович\n",
        "4713581 Бертран Бессьєр\n",
        "4713586 Ilex uraiensis\n",
        "4713588 Ilex warburgii\n",
        "4713592 Ilex sugerokii\n",
        "4713596 Ilex yunnanensis\n",
        "4713598 Раз Шломо\n",
        "4713599 Ilex dipyrena\n",
        "4713602 Ilex excelsa\n",
        "4713605 Ilex suaveolens\n",
        "4713624 Царівни\n",
        "4713628 Сольві Ватнгамар\n",
        "4713633 Чорний президент, або расовий шок\n",
        "4713634 Лі Ервін\n",
        "4713641 Ilex wilsonii\n",
        "4713644 Коргот-Варвар\n",
        "4713652 Рут Снайдер\n",
        "4713653 Шьоненверд\n",
        "4713654 Ilex pernyi\n",
        "4713659 Стара синагога в Ерфурті\n",
        "4713663 229 батальйон 127 окремої бригади територіальної оборони\n",
        "4713664 Оскар Уртадо\n",
        "4713666 Ilex kwangtungensis\n",
        "4713671 Моше Бейлінсон\n",
        "4713674 Бейлінсон\n",
        "4713675 Елмер Дрю Меррілл\n",
        "4713696 Запорожгаз-Сервис\n",
        "4713700 BMW X6 (F16)\n",
        "4713702 Михайленко Євген Вікторович\n",
        "4713705 Сужиков Мухамедгалі Аленович\n",
        "4713710 Список керівників держав 856 року\n",
        "4713712 Єфімов Олександр Олександрович\n",
        "4713713 Ilex corallina\n",
        "4713718 BMW N55\n",
        "4713724 Бурма Ігор Леонідович\n",
        "4713726 Андач (потік)\n",
        "4713727 Зірка (Кропивницький) у сезоні 2018—2019\n",
        "4713728 Волошинів Павло Ількович\n",
        "4713729 Карібжанов Фазил Карімович\n",
        "4713737 Андач\n",
        "4713747 Кодіна\n",
        "4713749 Юкачев Микола Вікторович\n",
        "4713755 Абдукарімов Ісатай Абдукарімович\n",
        "4713760 Андрій (Хім'як)\n",
        "4713762 Глинський Олександр Сергійович\n",
        "4713768 Еммануель Матута\n",
        "4713769 Ловля яблук\n",
        "4713771 Kyrrex\n",
        "4713777 Радініо Балкер\n",
        "4713783 Хім'як\n",
        "4713788 Нордін Мусампа\n",
        "4713791 Мехді Массауді\n",
        "4713804 Корона (1 сезон)\n",
        "4713806 Майк Галакос\n",
        "4713812 Лема про видалення графа\n",
        "4713829 Ржевський меморіал радянському солдату\n",
        "4713831 Бінья Ран I\n",
        "4713844 Канонерські човни типу «Кановас дель Кастільйо»\n",
        "4713845 Лі Чон Пек\n",
        "4713856 Ilex fargesii\n",
        "4713857 Бінья Вару\n",
        "4713860 Діамантовий ювілей\n",
        "4713866 Нуджевський Митрофан Єфимович\n",
        "4713868 Втрати 3-ї окремої бригади спеціального призначення (РФ)\n",
        "4713869 Джей Гортер\n",
        "4713873 Бінья Чан\n",
        "4713875 Швейцарський варіант німецької мови\n",
        "4713876 Ilex serrata\n",
        "4713883 Задача Ружі — Семереді\n",
        "4713885 Лабазанов Ібрагім Сулейманович\n",
        "4713887 Лейк Мунгто\n",
        "4713898 Гельвецизм\n",
        "4713906 Шінсобу\n",
        "4713909 Ахметджан Каплан\n",
        "4713922 Лізингові компанії\n",
        "4713923 Ilex chapaensis\n",
        "4713926 Індійський захист\n",
        "4713937 Перша пісня про Івано-Франківськ\n",
        "4713943 Дельта (система координації військ)\n",
        "4713948 Сонатно-симфонічний цикл\n",
        "4713951 Елвіс Брайкович\n",
        "4713955 Генріх Бургер\n",
        "4713957 Капітон\n",
        "4713962 Аймен Дахмен\n",
        "4713967 Альбрехт Баєр\n",
        "4713968 Едмон Бошам\n",
        "4713969 Корона (2 сезон)\n",
        "4713973 BMW X3 (E83)\n",
        "4713974 Корона (4 сезон)\n",
        "4713979 Шеїн Кирило Костянтинович\n",
        "4713980 Бабич Олексій Олександрович\n",
        "4713982 Енгельс (авіабаза)\n",
        "4713983 Масове отруєння в Чернівцях\n",
        "4713985 147-ма резервна дивізія (Третій Рейх)\n",
        "4713986 Сквер імені Гейдара Алієва (Грузія)\n",
        "4713991 Строкатий серпокрилець\n",
        "4713992 Колібрі-кокетка золотовусий\n",
        "4713993 Колібрі-кокетка плямистовусий\n",
        "4713994 Колібрі-кокетка смугастовусий\n",
        "4713995 Колібрі-кокетка короткочубий\n",
        "4713996 Колібрі-кокетка довгочубий\n",
        "4713997 Колібрі-кокетка плямисточубий\n",
        "4713998 Колібрі-кокетка рудохвостий\n",
        "4713999 Lophornis verreauxii\n",
        "4714000 Колібрі-кокетка зеленовусий\n",
        "4714001 Колібрі-вусань чорночубий\n",
        "4714002 Колібрі-вусань білочубий\n",
        "4714014 Морозов Федір Степанович\n",
        "4714028 Вінтер (стадіон)\n",
        "4714037 Гетеренгелеві\n",
        "4714045 BMW X3 (F25)\n",
        "4714048 Lustra (band)\n",
        "4714053 Брайкович\n",
        "4714067 Обвалення пішохідного мосту у Морві\n",
        "4714073 Вікі Перец\n",
        "4714074 Микитенко Валерій Миколайович\n",
        "4714077 The Witcher (серія відеоігор)\n",
        "4714083 Втрати кадирівців\n",
        "4714088 Москович Вольф Абрамович\n",
        "4714089 Шалом Тіква\n",
        "4714094 Isuzu Gemini\n",
        "4714097 Sterling Trucks\n",
        "4714098 Муніципальний стадіон (Герцлія)\n",
        "4714103 Кобзар Федір Федорович\n",
        "4714107 BMW X3 (G01)\n",
        "4714109 Юрісанді Ернандес\n",
        "4714116 Карлос Муньйос (борець)\n",
        "4714118 Бібліографія Браяна Олдіса\n",
        "4714127 Філатов Іван Миколайович\n",
        "4714129 Письмова мова\n",
        "4714130 Жан Ґрібомон\n",
        "4714136 Паяса\n",
        "4714140 Длугашевський Костянтин Наумович\n",
        "4714145 Дачан-Хуейський автономний повіт\n",
        "4714146 Лужицька міфологія\n",
        "4714149 Дике поле (пісня)\n",
        "4714154 Їтун-Маньчжурський автономний повіт\n",
        "4714157 Dig, Lazarus, Dig!!!\n",
        "4714166 Первісний потяг\n",
        "\n",
        "*   List item\n",
        "*   List item\n",
        "\n"
      ],
      "metadata": {
        "id": "pk7yOyHZ8fnx"
      }
    },
    {
      "cell_type": "code",
      "source": [
        "!mv wiki.txt ukwiki-20221101-pages-articles.txt"
      ],
      "metadata": {
        "id": "_u1H4qhnwZD6"
      },
      "execution_count": 18,
      "outputs": []
    },
    {
      "cell_type": "code",
      "source": [
        "!wc ukwiki-20221101-pages-articles.txt"
      ],
      "metadata": {
        "colab": {
          "base_uri": "https://localhost:8080/"
        },
        "id": "NEGeR4FFwhIj",
        "outputId": "14221bf0-4e94-4ccf-db12-ed44286822c1"
      },
      "execution_count": 19,
      "outputs": [
        {
          "output_type": "stream",
          "name": "stdout",
          "text": [
            "  11762874  250967675 3298241846 ukwiki-20221101-pages-articles.txt\n"
          ]
        }
      ]
    },
    {
      "cell_type": "code",
      "source": [
        "!cp ukwiki-20221101-pages-articles.txt ukwiki-20221101-pages-articles2.txt"
      ],
      "metadata": {
        "id": "gGDj0CH882yu"
      },
      "execution_count": 20,
      "outputs": []
    },
    {
      "cell_type": "code",
      "source": [
        "!gzip ukwiki-20221101-pages-articles2.txt"
      ],
      "metadata": {
        "id": "_U7sD5H386tQ"
      },
      "execution_count": 22,
      "outputs": []
    },
    {
      "cell_type": "code",
      "source": [
        "FIn = open('/content/ukwiki-20221101-pages-articles.txt', 'r')\n",
        "FOut = open('/content/ukwiki-20221101-frq-dict.txt', 'w')\n",
        "wordfreq = corp2frq(FIn)\n",
        "printFrqDict(wordfreq, FOut)"
      ],
      "metadata": {
        "colab": {
          "base_uri": "https://localhost:8080/"
        },
        "id": "OulgrLD3wm2g",
        "outputId": "76463747-7f1a-49f2-eb5e-efa5356aeefa"
      },
      "execution_count": null,
      "outputs": [
        {
          "output_type": "stream",
          "name": "stdout",
          "text": [
            "50000\n",
            "100000\n",
            "150000\n",
            "200000\n",
            "250000\n",
            "300000\n",
            "350000\n",
            "400000\n"
          ]
        }
      ]
    },
    {
      "cell_type": "code",
      "source": [
        "!wc ukwiki-20221101-frq-dict.txt"
      ],
      "metadata": {
        "id": "rn1TPl499o-w"
      },
      "execution_count": null,
      "outputs": []
    },
    {
      "cell_type": "code",
      "source": [
        "!gzip ukwiki-20221101-frq-dict.txt"
      ],
      "metadata": {
        "id": "UCGeVo_U90Dn"
      },
      "execution_count": null,
      "outputs": []
    }
  ]
}