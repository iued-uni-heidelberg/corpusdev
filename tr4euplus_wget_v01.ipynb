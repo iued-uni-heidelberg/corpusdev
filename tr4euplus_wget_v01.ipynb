{
  "nbformat": 4,
  "nbformat_minor": 0,
  "metadata": {
    "colab": {
      "provenance": [],
      "authorship_tag": "ABX9TyP/tTa0nSjzpngxNmutnDGI",
      "include_colab_link": true
    },
    "kernelspec": {
      "name": "python3",
      "display_name": "Python 3"
    },
    "language_info": {
      "name": "python"
    }
  },
  "cells": [
    {
      "cell_type": "markdown",
      "metadata": {
        "id": "view-in-github",
        "colab_type": "text"
      },
      "source": [
        "<a href=\"https://colab.research.google.com/github/iued-uni-heidelberg/corpusdev/blob/main/tr4euplus_wget_v01.ipynb\" target=\"_parent\"><img src=\"https://colab.research.google.com/assets/colab-badge.svg\" alt=\"Open In Colab\"/></a>"
      ]
    },
    {
      "cell_type": "code",
      "execution_count": null,
      "metadata": {
        "id": "p-JET9nLf_0a"
      },
      "outputs": [],
      "source": [
        "!wget --recursive https://4euplus.eu/"
      ]
    },
    {
      "cell_type": "code",
      "source": [
        "!tar -cvzf 4euplus-eu.tgz 4euplus.eu"
      ],
      "metadata": {
        "id": "5AeI_FQ3pkOA"
      },
      "execution_count": null,
      "outputs": []
    },
    {
      "cell_type": "code",
      "source": [
        "!wget https://heibox.uni-heidelberg.de/f/97e2ca8def1f43ccbb51/?dl=1"
      ],
      "metadata": {
        "id": "qsMonq7AsOLT"
      },
      "execution_count": null,
      "outputs": []
    },
    {
      "cell_type": "code",
      "source": [
        "!mv index.html?dl=1 4euplus-eu.tgz"
      ],
      "metadata": {
        "id": "YvY-_Gyst0bb"
      },
      "execution_count": 4,
      "outputs": []
    },
    {
      "cell_type": "code",
      "source": [
        "!tar xvzf 4euplus-eu.tgz"
      ],
      "metadata": {
        "id": "UKIx_Nx2t9xu"
      },
      "execution_count": null,
      "outputs": []
    },
    {
      "cell_type": "code",
      "source": [
        "!apt-get install lynx"
      ],
      "metadata": {
        "id": "JWDeOMW2uD7W"
      },
      "execution_count": null,
      "outputs": []
    },
    {
      "cell_type": "code",
      "source": [
        "!lynx --dump /content/4euplus.eu/4EU-150.html? > /content/4EU-150_.txt"
      ],
      "metadata": {
        "id": "UrX8U94ovT9r"
      },
      "execution_count": 9,
      "outputs": []
    },
    {
      "cell_type": "code",
      "source": [
        "!lynx --dump /content/4euplus.eu/4EU-150.html > /content/4EU-150.txt"
      ],
      "metadata": {
        "id": "-vJx4fpquaWY"
      },
      "execution_count": 8,
      "outputs": []
    },
    {
      "cell_type": "code",
      "source": [
        "!diff 4EU-150.txt 4EU-150_.txt"
      ],
      "metadata": {
        "id": "-YTTTo3ovcdE"
      },
      "execution_count": null,
      "outputs": []
    },
    {
      "cell_type": "code",
      "source": [
        "# !diff /content/4euplus.eu/4EU-150.html /content/4euplus.eu/4EU-150.html?"
      ],
      "metadata": {
        "id": "pEor8dupuorH"
      },
      "execution_count": 7,
      "outputs": []
    }
  ]
}